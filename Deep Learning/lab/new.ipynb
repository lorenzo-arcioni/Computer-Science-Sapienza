{
 "cells": [
  {
   "cell_type": "code",
   "execution_count": 2,
   "metadata": {},
   "outputs": [
    {
     "name": "stdout",
     "output_type": "stream",
     "text": [
      "tensor([5, 7, 9])\n"
     ]
    }
   ],
   "source": [
    "import torch as t\n",
    "\n",
    "a = t.tensor([1, 2, 3])\n",
    "b = t.tensor([4, 5, 6])\n",
    "print(a + b)"
   ]
  },
  {
   "cell_type": "code",
   "execution_count": 3,
   "metadata": {},
   "outputs": [
    {
     "name": "stdout",
     "output_type": "stream",
     "text": [
      "tensor([[[-0.2249, -1.3403,  0.8512,  0.5682,  0.8250],\n",
      "         [-0.3840,  0.4010, -2.8834,  1.3349,  0.7833],\n",
      "         [ 0.6281, -0.5914,  0.6253, -0.7030, -0.7286],\n",
      "         [ 0.1499,  1.1123, -0.7711, -0.8897, -1.9449]],\n",
      "\n",
      "        [[ 1.1906,  2.1959, -0.8232,  1.6257,  0.9740],\n",
      "         [ 0.1936, -0.9523,  1.1778,  0.2221,  0.0674],\n",
      "         [ 0.0363, -0.1834, -0.2101, -1.4521, -0.5406],\n",
      "         [-0.6944,  1.5248,  0.1768,  0.1865,  1.0392]],\n",
      "\n",
      "        [[ 1.4371,  0.2831,  0.7265,  0.2472, -0.0163],\n",
      "         [-0.4742,  0.1355,  0.0636,  2.1007,  0.0270],\n",
      "         [-0.8650,  0.6416,  0.8745,  1.2852, -1.0647],\n",
      "         [-0.5630,  0.8975, -0.9010, -0.1361, -0.2429]]])\n",
      "torch.Size([3, 4, 5])\n"
     ]
    }
   ],
   "source": [
    "# A 3d tensor\n",
    "a = t.randn(3, 4, 5)\n",
    "print(a)\n",
    "print(a.shape)"
   ]
  },
  {
   "cell_type": "code",
   "execution_count": 4,
   "metadata": {},
   "outputs": [
    {
     "data": {
      "text/plain": [
       "torch.Size([5])"
      ]
     },
     "execution_count": 4,
     "metadata": {},
     "output_type": "execute_result"
    }
   ],
   "source": [
    "x = t.tensor([0., 0., 1., 0., 0.])\n",
    "x.shape"
   ]
  },
  {
   "cell_type": "code",
   "execution_count": 5,
   "metadata": {},
   "outputs": [
    {
     "data": {
      "text/plain": [
       "tensor([[ 0.8512, -2.8834,  0.6253, -0.7711],\n",
       "        [-0.8232,  1.1778, -0.2101,  0.1768],\n",
       "        [ 0.7265,  0.0636,  0.8745, -0.9010]])"
      ]
     },
     "execution_count": 5,
     "metadata": {},
     "output_type": "execute_result"
    }
   ],
   "source": [
    "a @ x"
   ]
  },
  {
   "cell_type": "code",
   "execution_count": null,
   "metadata": {},
   "outputs": [],
   "source": []
  }
 ],
 "metadata": {
  "kernelspec": {
   "display_name": "datas",
   "language": "python",
   "name": "python3"
  },
  "language_info": {
   "codemirror_mode": {
    "name": "ipython",
    "version": 3
   },
   "file_extension": ".py",
   "mimetype": "text/x-python",
   "name": "python",
   "nbconvert_exporter": "python",
   "pygments_lexer": "ipython3",
   "version": "3.10.13"
  }
 },
 "nbformat": 4,
 "nbformat_minor": 2
}
