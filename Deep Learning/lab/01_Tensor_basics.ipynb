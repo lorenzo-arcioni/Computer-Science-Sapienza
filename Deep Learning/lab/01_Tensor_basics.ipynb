{
  "cells": [
    {
      "cell_type": "markdown",
      "metadata": {
        "id": "AhTm-wTJNJEJ"
      },
      "source": [
        "# Deep Learning & Applied AI\n",
        "\n",
        "# Tutorial 1: Tensor manipulation\n",
        "\n",
        "In this tutorial, we will cover:\n",
        "\n",
        "- PyTorch Tensors: creation, gpu tensors, shape manipulation, indexing\n",
        "\n",
        "Prerequisites:\n",
        "\n",
        "- Python\n",
        "\n",
        "Authors:\n",
        "\n",
        "- Based on an original notebook by Dr. Antonio Norelli (norelli@di.uniroma1.it, now at Oxford University).\n",
        "\n",
        "Course:\n",
        "\n",
        "- Website and notebooks will be available at https://erodola.github.io/DLAI-s2-2025/\n",
        "\n"
      ]
    },
    {
      "cell_type": "markdown",
      "metadata": {
        "id": "PVQCoYhRizlI"
      },
      "source": [
        "## Welcome to the Deep Learning and Applied AI lab sessions!\n",
        "During the lab sessions, you will be guided through one or more Python notebooks that teach you deep learning tools and provide opportunities to apply what you have learned in class.\n",
        "\n",
        "We encourage you to form small groups of 2-3 people to read and discuss the notebooks together.\n",
        "\n",
        "Run the code and play with it! It is very easy to edit the code locally and make small experiments. Try whatever comes to your mind, this is the best way to learn! Python notebooks are designed to be used in this way, that's why we chose them for the DLAI lab sessions.\n",
        "\n",
        "There will be some exercises, try to do them by yourself, and when everyone in your group has finished, compare the solutions with each other.\n",
        "\n",
        "When something is not clear or you have a question, raise your hand and we will come to you.\n",
        "\n",
        "Some sections in the notebooks are marked with 📖. This is deepening content for further reading outside of class. You may want to go through it at home or during class if you finish early. (Some sections are \"more optional\" than others, those are marked with more books 📖📖)\n",
        "\n",
        "Let's start!"
      ]
    },
    {
      "cell_type": "markdown",
      "metadata": {
        "id": "MDJI_JVTPMRc"
      },
      "source": [
        "## Introduction\n",
        "\n",
        "Many Deep Learning frameworks have emerged for python. Arguably the most notable ones in 2025 are **PyTorch**, **TensorFlow** (with keras frontend) and **Jax**.\n",
        "We will use PyTorch, which is [the leading DL framework](https://thegradient.pub/state-of-ml-frameworks-2019-pytorch-dominates-research-tensorflow-dominates-industry/) for research and [continues to gain popularity](https://openai.com/blog/openai-pytorch/).\n",
        "\n",
        "The fundamental data structure of these frameworks is the **tensor**, which is more or less the same everywhere. _A solid understanding of how tensors work is required in deep learning_ and will definitely come in handy in other areas.\n",
        "\n",
        "The first two tutorials will give you solid basics of tensors and operations between tensors."
      ]
    },
    {
      "cell_type": "markdown",
      "metadata": {
        "id": "5fCEDCU_qrC0"
      },
      "source": [
        "## Wait, wait, wait... what is this strange web page with code and text cells all around?\n",
        "\n",
        "It is called Colab, an environment to play with python notebooks directly in your web browser, made by Google. If you never used Colab before, take a look to the following cells, adapted from the official [Colab guide](https://colab.research.google.com/notebooks/welcome.ipynb).\n",
        "\n"
      ]
    },
    {
      "cell_type": "markdown",
      "metadata": {
        "id": "IYafT_OGiBAl"
      },
      "source": [
        "### Getting started with Colab\n",
        "\n",
        "Colab, or \"Colaboratory\", allows you to write and execute Python in your browser, with\n",
        "- Zero configuration required\n",
        "- Access to GPUs free of charge\n",
        "- Easy sharing"
      ]
    },
    {
      "cell_type": "markdown",
      "metadata": {
        "id": "GJBs_flRovLc"
      },
      "source": [
        "The document you are reading is not a static web page, but an interactive environment called a **Colab notebook** that lets you write and execute code.\n",
        "\n",
        "For example, here is a **code cell** with a short Python script that computes a value, stores it in a variable, and prints the result:"
      ]
    },
    {
      "cell_type": "code",
      "execution_count": 1,
      "metadata": {
        "id": "gJr_9dXGpJ05"
      },
      "outputs": [
        {
          "data": {
            "text/plain": [
              "86400"
            ]
          },
          "execution_count": 1,
          "metadata": {},
          "output_type": "execute_result"
        }
      ],
      "source": [
        "seconds_in_a_day = 24 * 60 * 60\n",
        "seconds_in_a_day"
      ]
    },
    {
      "cell_type": "markdown",
      "metadata": {
        "id": "2fhs6GZ4qFMx"
      },
      "source": [
        "To execute the code in the above cell, select it with a click and then either press the play button to the left of the code, or use the keyboard shortcut \"Command/Ctrl+Enter\". To edit the code, just click the cell and start editing.\n",
        "\n",
        "Variables that you define in one cell can later be used in other cells:"
      ]
    },
    {
      "cell_type": "code",
      "execution_count": 2,
      "metadata": {
        "id": "-gE-Ez1qtyIA"
      },
      "outputs": [
        {
          "data": {
            "text/plain": [
              "604800"
            ]
          },
          "execution_count": 2,
          "metadata": {},
          "output_type": "execute_result"
        }
      ],
      "source": [
        "seconds_in_a_week = 7 * seconds_in_a_day\n",
        "seconds_in_a_week"
      ]
    },
    {
      "cell_type": "markdown",
      "metadata": {
        "id": "lSrWNr3MuFUS"
      },
      "source": [
        "Colab notebooks allow you to combine **executable code** and **rich text** in a single document, along with **images**, **HTML**, **LaTeX** and more. When you create your own Colab notebooks, they are stored in your Google Drive account. You can easily share your Colab notebooks with co-workers or friends, allowing them to comment on your notebooks or even edit them. To learn more, see [Overview of Colab](/notebooks/basic_features_overview.ipynb). To create a new Colab notebook you can use the File menu above, or use the following link: [create a new Colab notebook](http://colab.research.google.com#create=true).\n",
        "\n",
        "Colab notebooks are Jupyter notebooks that are hosted by Colab. To learn more about the Jupyter project, see [jupyter.org](https://www.jupyter.org)."
      ]
    },
    {
      "cell_type": "markdown",
      "metadata": {
        "id": "_ptdrqwQQAi0"
      },
      "source": [
        "## Numpy\n",
        "\n",
        "The adoptive father of Python's deep learning frameworks is Numpy, the historical library which added support for large, multi-dimensional arrays and matrices to Python.\n",
        "\n",
        "As we will see, modern deep learning frameworks (and especially PyTorch) have drawn largely from Numpy's API, while at the same time overcoming its limitations such as the absence of GPU support or automatic differentiation. The student has become the master.\n",
        "\n",
        "![img](https://i.imgur.com/KaUdmee.png)\n",
        "\n",
        "We will mainly use PyTorch tensors for implementing our Deep Learning systems, but knowing how to use Numpy remains very important. Note that:\n",
        "\n",
        "- **Numpy arrays** and **PyTorch tensors** are very similar, most of the features that we will explain for PyTorch tensors apply also to Numpy arrays.\n",
        "- In real DL systems you need to constantly switch between PyTorch and Numpy.\n",
        "\n",
        "If you have prior knowledge of matrix manipulation in Matlab, we recommend the [numpy for Matlab users page](https://numpy.org/doc/stable/user/numpy-for-matlab-users.html) as a useful resource.\n",
        "\n",
        "\n"
      ]
    },
    {
      "cell_type": "code",
      "execution_count": 3,
      "metadata": {
        "id": "eRzmry5qj8DD"
      },
      "outputs": [],
      "source": [
        "import numpy as np"
      ]
    },
    {
      "cell_type": "markdown",
      "metadata": {
        "id": "xsfPgLP9S0gA"
      },
      "source": [
        "## PyTorch\n",
        "\n",
        "During the course we'll use and learn many parts of PyTorch API.\n",
        "You should also familiarize with the [PyTorch Documentation](https://pytorch.org/docs/stable/) as it will greatly assist you.\n",
        "\n",
        "\n"
      ]
    },
    {
      "cell_type": "code",
      "execution_count": 4,
      "metadata": {
        "id": "SWHsmm2OTqZK"
      },
      "outputs": [
        {
          "data": {
            "text/plain": [
              "'2.4.1+cu121'"
            ]
          },
          "execution_count": 4,
          "metadata": {},
          "output_type": "execute_result"
        }
      ],
      "source": [
        "import torch\n",
        "torch.__version__"
      ]
    },
    {
      "cell_type": "markdown",
      "metadata": {
        "id": "7odUeGK8TmVh"
      },
      "source": [
        "### **PyTorch Tensor**\n",
        "\n",
        "The ``Tensor`` class is very similar to numpy's ``ndarray`` and provides most of its functionality.\n",
        "\n",
        "\n",
        "However, it also has two important distinctions:\n",
        "\n",
        "- ``Tensor`` supports GPU computations.\n",
        "- ``Tensor`` may store extra information needed for back-propagation:\n",
        "  - The gradient tensor w.r.t. some variable (e.g. the loss)\n",
        "  - A node representing an operation in the computational graph that produced this tensor.\n",
        "\n",
        "We will study back-propagation in a future lecture.\n",
        "\n",
        "Keep in mind:\n",
        "\n",
        "- Usually **tensor operations are not in-place**."
      ]
    },
    {
      "cell_type": "markdown",
      "metadata": {
        "id": "dkkmkYGDXFFU"
      },
      "source": [
        "#### **Tensor instantiation**\n",
        "\n",
        "A tensor represents an n-dimensional grid of values, **all of the same type**."
      ]
    },
    {
      "cell_type": "code",
      "execution_count": 5,
      "metadata": {
        "id": "F-i2-H7QU7DH"
      },
      "outputs": [
        {
          "data": {
            "text/plain": [
              "tensor([[1, 2, 3],\n",
              "        [4, 5, 6]], dtype=torch.int32)"
            ]
          },
          "execution_count": 5,
          "metadata": {},
          "output_type": "execute_result"
        }
      ],
      "source": [
        "# Basic tensor creation from python lists\n",
        "torch.tensor([[1, 2, 3], [4, 5, 6]], dtype=torch.int32)"
      ]
    },
    {
      "cell_type": "code",
      "execution_count": 6,
      "metadata": {
        "id": "5LNGnqk3VbkU"
      },
      "outputs": [
        {
          "data": {
            "text/plain": [
              "tensor([[0., 0., 0., 0., 0.],\n",
              "        [0., 0., 0., 0., 0.],\n",
              "        [0., 0., 0., 0., 0.]])"
            ]
          },
          "execution_count": 6,
          "metadata": {},
          "output_type": "execute_result"
        }
      ],
      "source": [
        "# Some other tensor construction methods\n",
        "torch.zeros((3,5))"
      ]
    },
    {
      "cell_type": "code",
      "execution_count": 7,
      "metadata": {
        "id": "8et3bE93WLBR"
      },
      "outputs": [
        {
          "data": {
            "text/plain": [
              "tensor([[1., 1., 1., 1., 1.],\n",
              "        [1., 1., 1., 1., 1.]], dtype=torch.float64)"
            ]
          },
          "execution_count": 7,
          "metadata": {},
          "output_type": "execute_result"
        }
      ],
      "source": [
        "torch.ones((2,5), dtype=torch.float64)"
      ]
    },
    {
      "cell_type": "code",
      "execution_count": 8,
      "metadata": {
        "id": "v2Ehsm4WcML0"
      },
      "outputs": [
        {
          "data": {
            "text/plain": [
              "tensor([[1., 0., 0., 0.],\n",
              "        [0., 1., 0., 0.],\n",
              "        [0., 0., 1., 0.],\n",
              "        [0., 0., 0., 1.]])"
            ]
          },
          "execution_count": 8,
          "metadata": {},
          "output_type": "execute_result"
        }
      ],
      "source": [
        "torch.eye(4)"
      ]
    },
    {
      "cell_type": "code",
      "execution_count": 9,
      "metadata": {
        "id": "jokiBKanWFIE"
      },
      "outputs": [
        {
          "data": {
            "text/plain": [
              "tensor([[0.8979, 0.8935],\n",
              "        [0.1377, 0.4521]])"
            ]
          },
          "execution_count": 9,
          "metadata": {},
          "output_type": "execute_result"
        }
      ],
      "source": [
        "torch.rand((2,2))  # from which distribution are these random numbers sampled? Check the PyTorch documentation"
      ]
    },
    {
      "cell_type": "markdown",
      "metadata": {
        "id": "hLz-HYi5rd5-"
      },
      "source": [
        "**Pro tip**: Bookmark the [PyTorch docs](https://pytorch.org/docs/stable/)."
      ]
    },
    {
      "cell_type": "code",
      "execution_count": 10,
      "metadata": {
        "id": "DHV8h3LVWRaI"
      },
      "outputs": [
        {
          "data": {
            "text/plain": [
              "tensor([[59, 79, 57],\n",
              "        [76,  4, 54],\n",
              "        [69, 48, 54]])"
            ]
          },
          "execution_count": 10,
          "metadata": {},
          "output_type": "execute_result"
        }
      ],
      "source": [
        "torch.randint(0, 100, (3,3))"
      ]
    },
    {
      "cell_type": "code",
      "execution_count": 11,
      "metadata": {
        "id": "zsf9dn4CWl2V"
      },
      "outputs": [
        {
          "data": {
            "text/plain": [
              "tensor([[1., 1., 1.],\n",
              "        [1., 1., 1.],\n",
              "        [1., 1., 1.]])"
            ]
          },
          "execution_count": 11,
          "metadata": {},
          "output_type": "execute_result"
        }
      ],
      "source": [
        "t = torch.rand((3, 3))\n",
        "torch.ones_like(t)"
      ]
    },
    {
      "cell_type": "markdown",
      "metadata": {
        "id": "KiRfQEztdwqE"
      },
      "source": [
        "One can easily convert to/from Numpy tensors:"
      ]
    },
    {
      "cell_type": "code",
      "execution_count": 12,
      "metadata": {
        "id": "aI5VsGZJd2rV"
      },
      "outputs": [
        {
          "data": {
            "text/plain": [
              "array([[0.07069021, 0.965083  , 0.82604617],\n",
              "       [0.13094658, 0.60355645, 0.66331285],\n",
              "       [0.29087013, 0.10180032, 0.9490561 ]], dtype=float32)"
            ]
          },
          "execution_count": 12,
          "metadata": {},
          "output_type": "execute_result"
        }
      ],
      "source": [
        "t = torch.rand((3, 3), dtype=torch.float32)\n",
        "t.numpy()"
      ]
    },
    {
      "cell_type": "code",
      "execution_count": 13,
      "metadata": {
        "id": "Wt4Uy9Bbd81h"
      },
      "outputs": [
        {
          "data": {
            "text/plain": [
              "tensor([[0.0755, 0.7979, 0.5439],\n",
              "        [0.1237, 0.5234, 0.2488],\n",
              "        [0.0159, 0.0170, 0.6504]], dtype=torch.float16)"
            ]
          },
          "execution_count": 13,
          "metadata": {},
          "output_type": "execute_result"
        }
      ],
      "source": [
        "n = np.random.rand(3,3).astype(np.float16)\n",
        "torch.from_numpy(n)"
      ]
    },
    {
      "cell_type": "markdown",
      "metadata": {
        "id": "6FYkcuhs84Sp"
      },
      "source": [
        "There are many other functions available to create tensors!"
      ]
    },
    {
      "cell_type": "markdown",
      "metadata": {
        "id": "RPEmhFYd5TK-"
      },
      "source": [
        "> **EXERCISE**\n",
        ">\n",
        "> Create a matrix $M \\in \\mathbb{R}^{3 \\times 3}$ that is filled with 2 along the diagonal and 1 elsewhere, that is:\n",
        ">\n",
        "> $$\n",
        "m_{ij} =\n",
        "\\begin{cases}\n",
        "2 & \\text{if } i = j \\\\\n",
        "1 & \\text{otherwise}\n",
        "\\end{cases}\n",
        "$$"
      ]
    },
    {
      "cell_type": "code",
      "execution_count": 14,
      "metadata": {
        "id": "pAnntNcu9otu"
      },
      "outputs": [
        {
          "data": {
            "text/plain": [
              "tensor([[2., 1., 1.],\n",
              "        [1., 2., 1.],\n",
              "        [1., 1., 2.]])"
            ]
          },
          "execution_count": 14,
          "metadata": {},
          "output_type": "execute_result"
        }
      ],
      "source": [
        "# 📝 write your solution in this cell\n",
        "torch.eye(3) + torch.ones((3, 3))"
      ]
    },
    {
      "cell_type": "code",
      "execution_count": 15,
      "metadata": {
        "cellView": "form",
        "id": "A2tjmfWbYk9P"
      },
      "outputs": [
        {
          "data": {
            "text/plain": [
              "tensor([[2., 1., 1.],\n",
              "        [1., 2., 1.],\n",
              "        [1., 1., 2.]])"
            ]
          },
          "execution_count": 15,
          "metadata": {},
          "output_type": "execute_result"
        }
      ],
      "source": [
        "# @title 👀 Solution\n",
        "\n",
        "\n",
        "torch.ones((3,3)) + torch.eye(3)"
      ]
    },
    {
      "cell_type": "markdown",
      "metadata": {
        "id": "_c7X85hbWs0c"
      },
      "source": [
        "#### **Tensor properties**"
      ]
    },
    {
      "cell_type": "markdown",
      "metadata": {
        "id": "1XCHWcMlbhH0"
      },
      "source": [
        "The **type** of a tensor is the type of each element contained in the tensor:"
      ]
    },
    {
      "cell_type": "code",
      "execution_count": 16,
      "metadata": {
        "id": "XP4CyRTmXYpd"
      },
      "outputs": [
        {
          "data": {
            "text/plain": [
              "torch.float32"
            ]
          },
          "execution_count": 16,
          "metadata": {},
          "output_type": "execute_result"
        }
      ],
      "source": [
        "t = torch.rand((3, 3))\n",
        "t.dtype"
      ]
    },
    {
      "cell_type": "markdown",
      "metadata": {
        "id": "TBoZHIlybZUV"
      },
      "source": [
        "\n",
        "The **shape** of a tensor is a tuple of integers giving the size of the tensor along each dimension, e.g. for a matrix $M \\in \\mathbb{R}^{3 \\times 5}$:"
      ]
    },
    {
      "cell_type": "code",
      "execution_count": 17,
      "metadata": {
        "id": "PjuSpqbvXbqs"
      },
      "outputs": [
        {
          "data": {
            "text/plain": [
              "torch.Size([3, 5])"
            ]
          },
          "execution_count": 17,
          "metadata": {},
          "output_type": "execute_result"
        }
      ],
      "source": [
        "t = torch.rand((3,5))\n",
        "t.shape"
      ]
    },
    {
      "cell_type": "markdown",
      "metadata": {
        "id": "UFhAblNmbswv"
      },
      "source": [
        "The **device** of a tensor indicates the memory in which the tensor is currently stored: RAM (denoted as ``cpu``) or GPU memory (denoted as ``cuda``)"
      ]
    },
    {
      "cell_type": "code",
      "execution_count": 18,
      "metadata": {
        "id": "_4okES1zXcy2"
      },
      "outputs": [
        {
          "data": {
            "text/plain": [
              "device(type='cpu')"
            ]
          },
          "execution_count": 18,
          "metadata": {},
          "output_type": "execute_result"
        }
      ],
      "source": [
        "t = torch.rand((3,5))\n",
        "t.device"
      ]
    },
    {
      "cell_type": "markdown",
      "metadata": {
        "id": "UM0UCkZ49DPk"
      },
      "source": [
        "> **EXERCISE**\n",
        ">\n",
        "> Given a matrix $X \\in \\mathbb{R}^{m \\times n}$, create another matrix $Y \\in \\mathbb{R}^{m \\times 3}$ filled with ones using $X$."
      ]
    },
    {
      "cell_type": "code",
      "execution_count": 21,
      "metadata": {
        "id": "_GJinHgLzs11"
      },
      "outputs": [
        {
          "data": {
            "text/plain": [
              "tensor([[1., 1., 1.],\n",
              "        [1., 1., 1.],\n",
              "        [1., 1., 1.],\n",
              "        [1., 1., 1.],\n",
              "        [1., 1., 1.],\n",
              "        [1., 1., 1.],\n",
              "        [1., 1., 1.],\n",
              "        [1., 1., 1.],\n",
              "        [1., 1., 1.],\n",
              "        [1., 1., 1.],\n",
              "        [1., 1., 1.],\n",
              "        [1., 1., 1.],\n",
              "        [1., 1., 1.],\n",
              "        [1., 1., 1.],\n",
              "        [1., 1., 1.],\n",
              "        [1., 1., 1.],\n",
              "        [1., 1., 1.],\n",
              "        [1., 1., 1.],\n",
              "        [1., 1., 1.],\n",
              "        [1., 1., 1.],\n",
              "        [1., 1., 1.],\n",
              "        [1., 1., 1.],\n",
              "        [1., 1., 1.],\n",
              "        [1., 1., 1.],\n",
              "        [1., 1., 1.],\n",
              "        [1., 1., 1.],\n",
              "        [1., 1., 1.],\n",
              "        [1., 1., 1.],\n",
              "        [1., 1., 1.],\n",
              "        [1., 1., 1.],\n",
              "        [1., 1., 1.],\n",
              "        [1., 1., 1.],\n",
              "        [1., 1., 1.],\n",
              "        [1., 1., 1.],\n",
              "        [1., 1., 1.],\n",
              "        [1., 1., 1.],\n",
              "        [1., 1., 1.],\n",
              "        [1., 1., 1.],\n",
              "        [1., 1., 1.],\n",
              "        [1., 1., 1.],\n",
              "        [1., 1., 1.],\n",
              "        [1., 1., 1.],\n",
              "        [1., 1., 1.],\n",
              "        [1., 1., 1.],\n",
              "        [1., 1., 1.],\n",
              "        [1., 1., 1.],\n",
              "        [1., 1., 1.],\n",
              "        [1., 1., 1.],\n",
              "        [1., 1., 1.],\n",
              "        [1., 1., 1.],\n",
              "        [1., 1., 1.],\n",
              "        [1., 1., 1.],\n",
              "        [1., 1., 1.],\n",
              "        [1., 1., 1.],\n",
              "        [1., 1., 1.],\n",
              "        [1., 1., 1.],\n",
              "        [1., 1., 1.],\n",
              "        [1., 1., 1.],\n",
              "        [1., 1., 1.],\n",
              "        [1., 1., 1.],\n",
              "        [1., 1., 1.],\n",
              "        [1., 1., 1.],\n",
              "        [1., 1., 1.],\n",
              "        [1., 1., 1.],\n",
              "        [1., 1., 1.],\n",
              "        [1., 1., 1.],\n",
              "        [1., 1., 1.],\n",
              "        [1., 1., 1.],\n",
              "        [1., 1., 1.],\n",
              "        [1., 1., 1.],\n",
              "        [1., 1., 1.],\n",
              "        [1., 1., 1.],\n",
              "        [1., 1., 1.],\n",
              "        [1., 1., 1.],\n",
              "        [1., 1., 1.],\n",
              "        [1., 1., 1.],\n",
              "        [1., 1., 1.],\n",
              "        [1., 1., 1.],\n",
              "        [1., 1., 1.],\n",
              "        [1., 1., 1.],\n",
              "        [1., 1., 1.],\n",
              "        [1., 1., 1.],\n",
              "        [1., 1., 1.],\n",
              "        [1., 1., 1.],\n",
              "        [1., 1., 1.],\n",
              "        [1., 1., 1.],\n",
              "        [1., 1., 1.],\n",
              "        [1., 1., 1.],\n",
              "        [1., 1., 1.],\n",
              "        [1., 1., 1.],\n",
              "        [1., 1., 1.],\n",
              "        [1., 1., 1.],\n",
              "        [1., 1., 1.],\n",
              "        [1., 1., 1.],\n",
              "        [1., 1., 1.],\n",
              "        [1., 1., 1.],\n",
              "        [1., 1., 1.],\n",
              "        [1., 1., 1.],\n",
              "        [1., 1., 1.],\n",
              "        [1., 1., 1.]])"
            ]
          },
          "execution_count": 21,
          "metadata": {},
          "output_type": "execute_result"
        }
      ],
      "source": [
        "# Exercise variables\n",
        "X = torch.rand(100,42)\n",
        "\n",
        "# Your solution:\n",
        "Y = torch.ones((X.size()[0], 3))\n",
        "Y"
      ]
    },
    {
      "cell_type": "code",
      "execution_count": 22,
      "metadata": {
        "cellView": "form",
        "id": "A_UxL8zE-n8z"
      },
      "outputs": [
        {
          "data": {
            "text/plain": [
              "tensor([[1., 1., 1.],\n",
              "        [1., 1., 1.],\n",
              "        [1., 1., 1.],\n",
              "        [1., 1., 1.],\n",
              "        [1., 1., 1.],\n",
              "        [1., 1., 1.],\n",
              "        [1., 1., 1.],\n",
              "        [1., 1., 1.],\n",
              "        [1., 1., 1.],\n",
              "        [1., 1., 1.],\n",
              "        [1., 1., 1.],\n",
              "        [1., 1., 1.],\n",
              "        [1., 1., 1.],\n",
              "        [1., 1., 1.],\n",
              "        [1., 1., 1.],\n",
              "        [1., 1., 1.],\n",
              "        [1., 1., 1.],\n",
              "        [1., 1., 1.],\n",
              "        [1., 1., 1.],\n",
              "        [1., 1., 1.],\n",
              "        [1., 1., 1.],\n",
              "        [1., 1., 1.],\n",
              "        [1., 1., 1.],\n",
              "        [1., 1., 1.],\n",
              "        [1., 1., 1.],\n",
              "        [1., 1., 1.],\n",
              "        [1., 1., 1.],\n",
              "        [1., 1., 1.],\n",
              "        [1., 1., 1.],\n",
              "        [1., 1., 1.],\n",
              "        [1., 1., 1.],\n",
              "        [1., 1., 1.],\n",
              "        [1., 1., 1.],\n",
              "        [1., 1., 1.],\n",
              "        [1., 1., 1.],\n",
              "        [1., 1., 1.],\n",
              "        [1., 1., 1.],\n",
              "        [1., 1., 1.],\n",
              "        [1., 1., 1.],\n",
              "        [1., 1., 1.],\n",
              "        [1., 1., 1.],\n",
              "        [1., 1., 1.],\n",
              "        [1., 1., 1.],\n",
              "        [1., 1., 1.],\n",
              "        [1., 1., 1.],\n",
              "        [1., 1., 1.],\n",
              "        [1., 1., 1.],\n",
              "        [1., 1., 1.],\n",
              "        [1., 1., 1.],\n",
              "        [1., 1., 1.],\n",
              "        [1., 1., 1.],\n",
              "        [1., 1., 1.],\n",
              "        [1., 1., 1.],\n",
              "        [1., 1., 1.],\n",
              "        [1., 1., 1.],\n",
              "        [1., 1., 1.],\n",
              "        [1., 1., 1.],\n",
              "        [1., 1., 1.],\n",
              "        [1., 1., 1.],\n",
              "        [1., 1., 1.],\n",
              "        [1., 1., 1.],\n",
              "        [1., 1., 1.],\n",
              "        [1., 1., 1.],\n",
              "        [1., 1., 1.],\n",
              "        [1., 1., 1.],\n",
              "        [1., 1., 1.],\n",
              "        [1., 1., 1.],\n",
              "        [1., 1., 1.],\n",
              "        [1., 1., 1.],\n",
              "        [1., 1., 1.],\n",
              "        [1., 1., 1.],\n",
              "        [1., 1., 1.],\n",
              "        [1., 1., 1.],\n",
              "        [1., 1., 1.],\n",
              "        [1., 1., 1.],\n",
              "        [1., 1., 1.],\n",
              "        [1., 1., 1.],\n",
              "        [1., 1., 1.],\n",
              "        [1., 1., 1.],\n",
              "        [1., 1., 1.],\n",
              "        [1., 1., 1.],\n",
              "        [1., 1., 1.],\n",
              "        [1., 1., 1.],\n",
              "        [1., 1., 1.],\n",
              "        [1., 1., 1.],\n",
              "        [1., 1., 1.],\n",
              "        [1., 1., 1.],\n",
              "        [1., 1., 1.],\n",
              "        [1., 1., 1.],\n",
              "        [1., 1., 1.],\n",
              "        [1., 1., 1.],\n",
              "        [1., 1., 1.],\n",
              "        [1., 1., 1.],\n",
              "        [1., 1., 1.],\n",
              "        [1., 1., 1.],\n",
              "        [1., 1., 1.],\n",
              "        [1., 1., 1.],\n",
              "        [1., 1., 1.],\n",
              "        [1., 1., 1.],\n",
              "        [1., 1., 1.]])"
            ]
          },
          "execution_count": 22,
          "metadata": {},
          "output_type": "execute_result"
        }
      ],
      "source": [
        "# @title 👀 Solution\n",
        "\n",
        "\n",
        "torch.ones((X.shape[0], 3))"
      ]
    },
    {
      "cell_type": "markdown",
      "metadata": {
        "id": "_8Wa3JFCXd7J"
      },
      "source": [
        "#### **Using the GPU**\n",
        "\n",
        "Thanks to the explosion of the videogame industry in the last 50 years, the performance of the chips specialized in rendering and processing graphics --known as GPUs-- has dramatically improved.\n",
        "\n",
        "In 2007 NVidia realized the potential of parallel GPU computing outside the videogame world, and released the first version of the CUDA framework, allowing  software developers to use GPUs for general purpose processing.\n",
        "\n",
        "Graphics operations are mostly linear algebra operations, and accelerating them can turn very useful in many other fields.\n",
        "\n",
        "In 2012 Hinton et al. [demonstrated](https://en.wikipedia.org/wiki/AlexNet) the huge potential of GPUs in training deep neural networks, starting *de facto* the glorious days of deep learning."
      ]
    },
    {
      "cell_type": "code",
      "execution_count": null,
      "metadata": {
        "cellView": "form",
        "id": "bgZST3s_CaLm"
      },
      "outputs": [],
      "source": [
        "# @title GPUs are very powerful\n",
        "\n",
        "from IPython.display import YouTubeVideo, HTML, display\n",
        "\n",
        "display(YouTubeVideo('-P28LKWTzrI?t=14'))"
      ]
    },
    {
      "cell_type": "code",
      "execution_count": 23,
      "metadata": {
        "id": "gbIogawQYBvW"
      },
      "outputs": [
        {
          "data": {
            "text/plain": [
              "False"
            ]
          },
          "execution_count": 23,
          "metadata": {},
          "output_type": "execute_result"
        }
      ],
      "source": [
        "# Check if the GPU is available\n",
        "torch.cuda.is_available()"
      ]
    },
    {
      "cell_type": "code",
      "execution_count": 24,
      "metadata": {
        "id": "TVYbgoigX_PL"
      },
      "outputs": [
        {
          "data": {
            "text/plain": [
              "device(type='cpu')"
            ]
          },
          "execution_count": 24,
          "metadata": {},
          "output_type": "execute_result"
        }
      ],
      "source": [
        "# If available use the GPU\n",
        "device = torch.device('cuda' if torch.cuda.is_available() else 'cpu')\n",
        "device"
      ]
    },
    {
      "cell_type": "code",
      "execution_count": 25,
      "metadata": {
        "id": "yhHVeolzWZQn"
      },
      "outputs": [
        {
          "data": {
            "text/plain": [
              "tensor([[0.4389, 0.2741, 0.0370],\n",
              "        [0.5783, 0.2824, 0.5911],\n",
              "        [0.7514, 0.1087, 0.2017]])"
            ]
          },
          "execution_count": 25,
          "metadata": {},
          "output_type": "execute_result"
        }
      ],
      "source": [
        "t = torch.rand((3,3))\n",
        "t = t.to(device)  # Note that we are assigning back to t, otherwise t won't be updated!\n",
        "t"
      ]
    },
    {
      "cell_type": "code",
      "execution_count": null,
      "metadata": {
        "id": "Al_WAx4RWDy2"
      },
      "outputs": [],
      "source": [
        "# Construct tensors directly on the GPU memory\n",
        "t = torch.ones((5, 5), device='cuda')\n",
        "t"
      ]
    },
    {
      "cell_type": "code",
      "execution_count": null,
      "metadata": {
        "id": "nuynABfrVZmD"
      },
      "outputs": [],
      "source": [
        "t = torch.rand((3,3))\n",
        "\n",
        "# Other shortcuts to transfer tensors between devices\n",
        "\n",
        "# Be careful of hardcoded cuda calls: the code will not run if a GPU is not available\n",
        "t = t.cuda()\n",
        "t"
      ]
    },
    {
      "cell_type": "code",
      "execution_count": null,
      "metadata": {
        "id": "JkOX8icwVXPK"
      },
      "outputs": [],
      "source": [
        "t = t.cpu()\n",
        "t"
      ]
    },
    {
      "cell_type": "code",
      "execution_count": 27,
      "metadata": {
        "id": "mj0gWQ-FgsZ2"
      },
      "outputs": [
        {
          "name": "stdout",
          "output_type": "stream",
          "text": [
            "My tensor = tensor([[0.9691, 0.2622, 0.7458],\n",
            "        [0.3638, 0.8443, 0.4002],\n",
            "        [0.0020, 0.3239, 0.9932]]) <shape: torch.Size([3, 3])> <dtype: torch.float32>\n"
          ]
        }
      ],
      "source": [
        "# Utility function to print tensors nicely. We will use this all the time.\n",
        "\n",
        "from typing import Union, Sequence\n",
        "\n",
        "def print_arr(\n",
        "    *arr: Sequence[Union[torch.Tensor, np.ndarray]], prefix: str = \"\"\n",
        ") -> None:\n",
        "    \"\"\"\n",
        "    Pretty print tensors, together with their shape and type\n",
        "\n",
        "    :param arr: one or more tensors\n",
        "    :param prefix: prefix to use when printing the tensors\n",
        "    \"\"\"\n",
        "    print(\n",
        "        \"\\n\\n\".join(\n",
        "            f\"{prefix}{str(x)} <shape: {x.shape}> <dtype: {x.dtype}>\" for x in arr\n",
        "        )\n",
        "    )\n",
        "\n",
        "t = torch.rand((3,3), dtype=torch.float32)\n",
        "print_arr(t, prefix='My tensor = ')"
      ]
    },
    {
      "cell_type": "markdown",
      "metadata": {
        "id": "1g8l8j4deyZ2"
      },
      "source": [
        "#### 📖 **Tensor rank**\n",
        "\n",
        "In Numpy and PyTorch, the **rank of a tensor** denotes the number of dimensions. For example, any matrix is a tensor of rank 2.\n",
        "\n",
        "Don't confuse this with the rank of a matrix, which has a completely different meaning in linear algebra!"
      ]
    },
    {
      "cell_type": "markdown",
      "metadata": {
        "id": "pF8r6t6VTbrf"
      },
      "source": [
        "- **rank-0** tensors are just scalars"
      ]
    },
    {
      "cell_type": "code",
      "execution_count": 28,
      "metadata": {
        "id": "lfSjfJ7bTHlZ"
      },
      "outputs": [
        {
          "name": "stdout",
          "output_type": "stream",
          "text": [
            "tensor(3., dtype=torch.float64) <shape: torch.Size([])> <dtype: torch.float64>\n"
          ]
        }
      ],
      "source": [
        "t0 = torch.tensor(3, dtype=torch.double)\n",
        "\n",
        "print_arr(t0)  # notice torch.Size in the printed output"
      ]
    },
    {
      "cell_type": "code",
      "execution_count": 29,
      "metadata": {
        "id": "4O2GLaL0SxHn"
      },
      "outputs": [
        {
          "data": {
            "text/plain": [
              "(3.0, float)"
            ]
          },
          "execution_count": 29,
          "metadata": {},
          "output_type": "execute_result"
        }
      ],
      "source": [
        "item = t0.item()  # convert the tensor scalar to a python base type\n",
        "item, type(item)"
      ]
    },
    {
      "cell_type": "code",
      "execution_count": 30,
      "metadata": {
        "id": "aPcQfgGbaEqv"
      },
      "outputs": [
        {
          "name": "stdout",
          "output_type": "stream",
          "text": [
            "Error: a Tensor with 3 elements cannot be converted to Scalar\n"
          ]
        }
      ],
      "source": [
        "# Be careful, a non-scalar tensor cannot be converted with an .item() call\n",
        "try:\n",
        "  x = torch.ones(3).item()\n",
        "except RuntimeError as e:\n",
        "  print('Error:', e)"
      ]
    },
    {
      "cell_type": "markdown",
      "metadata": {
        "id": "El2afq3-Sujl"
      },
      "source": [
        "- **rank-1** tensors are sequences of numbers. A sequence of length ``n`` has the shape ``(n,)``"
      ]
    },
    {
      "cell_type": "code",
      "execution_count": 31,
      "metadata": {
        "id": "Twmbub4VSrvt"
      },
      "outputs": [
        {
          "name": "stdout",
          "output_type": "stream",
          "text": [
            "tensor([1, 2, 3]) <shape: torch.Size([3])> <dtype: torch.int64>\n"
          ]
        }
      ],
      "source": [
        "# A rank-1 tensor\n",
        "t1 = torch.tensor([1, 2, 3])\n",
        "\n",
        "print_arr(t1)"
      ]
    },
    {
      "cell_type": "code",
      "execution_count": 32,
      "metadata": {
        "id": "3LA-5C4kSHXv"
      },
      "outputs": [
        {
          "name": "stdout",
          "output_type": "stream",
          "text": [
            "tensor([42]) <shape: torch.Size([1])> <dtype: torch.int64>\n"
          ]
        }
      ],
      "source": [
        "# A rank-1 tensor with a single scalar\n",
        "print_arr(torch.tensor([42]))"
      ]
    },
    {
      "cell_type": "markdown",
      "metadata": {
        "id": "PEGUO2rcxtwi"
      },
      "source": [
        "PyTorch and NumPy are smart: if a tensor is not rank-0 but can be converted to a rank-0 tensor, then the .item() will work.\n",
        "\n",
        "This operation is called **broadcasting**, we will see it in detail in the next notebooks."
      ]
    },
    {
      "cell_type": "code",
      "execution_count": 33,
      "metadata": {
        "id": "7xuBu8bKcbgl"
      },
      "outputs": [
        {
          "data": {
            "text/plain": [
              "42"
            ]
          },
          "execution_count": 33,
          "metadata": {},
          "output_type": "execute_result"
        }
      ],
      "source": [
        "# A rank-1 tensor with a single element can be converted to a rank-0 tensor\n",
        "torch.tensor([42]).item()"
      ]
    },
    {
      "cell_type": "markdown",
      "metadata": {
        "id": "gU-LyxtryotQ"
      },
      "source": [
        "> **NOTE**\n",
        ">\n",
        "> Don't be too hopeful about mapping Pytorch concepts onto mathematical concepts.\n",
        ">\n",
        "> There isn’t a distinction in Pytorch between row vectors and column vectors: both are just rank-1 tensors!"
      ]
    },
    {
      "cell_type": "markdown",
      "metadata": {
        "id": "Lj0NVuY3Rzp0"
      },
      "source": [
        "- **rank-2** tensors have the shape ``(n, m)``"
      ]
    },
    {
      "cell_type": "code",
      "execution_count": 34,
      "metadata": {
        "id": "wui6OfMFPdnM"
      },
      "outputs": [
        {
          "name": "stdout",
          "output_type": "stream",
          "text": [
            "tensor([[1, 2, 3],\n",
            "        [4, 5, 6]]) <shape: torch.Size([2, 3])> <dtype: torch.int64>\n"
          ]
        }
      ],
      "source": [
        "t2 = torch.tensor([[1, 2, 3], [4, 5, 6]])\n",
        "\n",
        "print_arr(t2)"
      ]
    },
    {
      "cell_type": "markdown",
      "metadata": {
        "id": "Z_W9Pi50zMD-"
      },
      "source": [
        "Again, it doesn't make sense to talk about the \"rows\" and \"columns\" of rank-2 tensors."
      ]
    },
    {
      "cell_type": "code",
      "execution_count": null,
      "metadata": {
        "id": "o6dSV3eWzvm-"
      },
      "outputs": [
        {
          "data": {
            "text/plain": [
              "tensor(6)"
            ]
          },
          "execution_count": 39,
          "metadata": {},
          "output_type": "execute_result"
        }
      ],
      "source": [
        "# element (i,j) of a rank-2 tensor just means the j-th element of the i-th rank-1 tensor\n",
        "t2[1, 2].item()"
      ]
    },
    {
      "cell_type": "code",
      "execution_count": 36,
      "metadata": {
        "id": "_hBNed-yOmmQ"
      },
      "outputs": [
        {
          "name": "stdout",
          "output_type": "stream",
          "text": [
            "tensor([[1],\n",
            "        [2],\n",
            "        [3]]) <shape: torch.Size([3, 1])> <dtype: torch.int64>\n"
          ]
        }
      ],
      "source": [
        "# To mimick the notion of a column vector from linear algebra, we can use a rank-2 tensor\n",
        "t_col = t1.reshape(-1, 1)\n",
        "\n",
        "print_arr(t_col)"
      ]
    },
    {
      "cell_type": "code",
      "execution_count": 37,
      "metadata": {
        "id": "Qad_RigUjEtA"
      },
      "outputs": [
        {
          "name": "stdout",
          "output_type": "stream",
          "text": [
            "tensor([[1, 2, 3]]) <shape: torch.Size([1, 3])> <dtype: torch.int64>\n"
          ]
        }
      ],
      "source": [
        "# ...and similarly for row vectors\n",
        "t_row = t1.reshape(1, -1)\n",
        "\n",
        "print_arr(t_row)"
      ]
    },
    {
      "cell_type": "code",
      "execution_count": 38,
      "metadata": {
        "id": "sOdxEQFwBpgy"
      },
      "outputs": [],
      "source": [
        "# This way, we the standard matrix product will work only if the dimensions match\n",
        "\n",
        "t = torch.ones(10)  # rank-1 tensor\n",
        "\n",
        "t_row = t.reshape(1, -1)  # rank-2 'row vector'\n",
        "t_col = t.reshape(-1, 1)  # rank-2 'column vector'\n",
        "\n",
        "_ = t_row @ torch.ones(10, 3)  # does not work with t_col\n",
        "_ = torch.ones(3, 10) @ t_col  # does not work with t_row\n",
        "\n",
        "# Notice that the matrix product still does the right thing if we multiply by the rank-1 tensor\n",
        "\n",
        "_ = t @ torch.ones(10, 3)\n",
        "_ = torch.ones(3, 10) @ t"
      ]
    },
    {
      "cell_type": "markdown",
      "metadata": {
        "id": "BeGPcSYMOlv0"
      },
      "source": [
        "- **rank-k** tensors have a shape of $(n_1, \\dots, n_k)$"
      ]
    },
    {
      "cell_type": "code",
      "execution_count": 40,
      "metadata": {
        "id": "hg5bbeCIjuL_"
      },
      "outputs": [
        {
          "name": "stdout",
          "output_type": "stream",
          "text": [
            "tensor([[[0., 0., 0., 0.],\n",
            "         [0., 0., 0., 0.],\n",
            "         [0., 0., 0., 0.]],\n",
            "\n",
            "        [[0., 0., 0., 0.],\n",
            "         [0., 0., 0., 0.],\n",
            "         [0., 0., 0., 0.]]]) <shape: torch.Size([2, 3, 4])> <dtype: torch.float32>\n"
          ]
        }
      ],
      "source": [
        "print_arr(torch.zeros((2, 3, 4)))"
      ]
    },
    {
      "cell_type": "code",
      "execution_count": 41,
      "metadata": {
        "id": "3O68PwBGOjpe"
      },
      "outputs": [
        {
          "name": "stdout",
          "output_type": "stream",
          "text": [
            "tensor([[[[1., 1.],\n",
            "          [1., 1.]],\n",
            "\n",
            "         [[1., 1.],\n",
            "          [1., 1.]]],\n",
            "\n",
            "\n",
            "        [[[1., 1.],\n",
            "          [1., 1.]],\n",
            "\n",
            "         [[1., 1.],\n",
            "          [1., 1.]]]]) <shape: torch.Size([2, 2, 2, 2])> <dtype: torch.float32>\n"
          ]
        }
      ],
      "source": [
        "print_arr(torch.ones((2, 2, 2, 2)))"
      ]
    },
    {
      "cell_type": "markdown",
      "metadata": {
        "id": "xkugOzEKi3wk"
      },
      "source": [
        "> **EXERCISE**\n",
        ">\n",
        "> Build a tensor $X \\in \\mathbb{R}^{k \\times k}$ filled with zeros and the sequence $[0, ..., k-1]$ along the diagonal"
      ]
    },
    {
      "cell_type": "code",
      "execution_count": 51,
      "metadata": {},
      "outputs": [
        {
          "data": {
            "text/plain": [
              "tensor([ 0.,  1.,  2.,  3.,  4.,  5.,  6.,  7.,  8.,  9., 10., 11.])"
            ]
          },
          "execution_count": 51,
          "metadata": {},
          "output_type": "execute_result"
        }
      ],
      "source": [
        "torch.tensor([x for x in range(12)], dtype=torch.float32)"
      ]
    },
    {
      "cell_type": "code",
      "execution_count": 53,
      "metadata": {
        "id": "v_8mTH8pdzHz"
      },
      "outputs": [
        {
          "data": {
            "text/plain": [
              "tensor([[ 0.,  0.,  0.,  0.,  0.,  0.,  0.,  0.,  0.,  0.,  0.,  0.],\n",
              "        [ 0.,  1.,  0.,  0.,  0.,  0.,  0.,  0.,  0.,  0.,  0.,  0.],\n",
              "        [ 0.,  0.,  2.,  0.,  0.,  0.,  0.,  0.,  0.,  0.,  0.,  0.],\n",
              "        [ 0.,  0.,  0.,  3.,  0.,  0.,  0.,  0.,  0.,  0.,  0.,  0.],\n",
              "        [ 0.,  0.,  0.,  0.,  4.,  0.,  0.,  0.,  0.,  0.,  0.,  0.],\n",
              "        [ 0.,  0.,  0.,  0.,  0.,  5.,  0.,  0.,  0.,  0.,  0.,  0.],\n",
              "        [ 0.,  0.,  0.,  0.,  0.,  0.,  6.,  0.,  0.,  0.,  0.,  0.],\n",
              "        [ 0.,  0.,  0.,  0.,  0.,  0.,  0.,  7.,  0.,  0.,  0.,  0.],\n",
              "        [ 0.,  0.,  0.,  0.,  0.,  0.,  0.,  0.,  8.,  0.,  0.,  0.],\n",
              "        [ 0.,  0.,  0.,  0.,  0.,  0.,  0.,  0.,  0.,  9.,  0.,  0.],\n",
              "        [ 0.,  0.,  0.,  0.,  0.,  0.,  0.,  0.,  0.,  0., 10.,  0.],\n",
              "        [ 0.,  0.,  0.,  0.,  0.,  0.,  0.,  0.,  0.,  0.,  0., 11.]])"
            ]
          },
          "execution_count": 53,
          "metadata": {},
          "output_type": "execute_result"
        }
      ],
      "source": [
        "# your solution\n",
        "k = 12\n",
        "\n",
        "torch.eye(12) * torch.tensor([x for x in range(12)])"
      ]
    },
    {
      "cell_type": "code",
      "execution_count": null,
      "metadata": {
        "cellView": "form",
        "id": "38L1P8aCCXed"
      },
      "outputs": [],
      "source": [
        "# @title 👀 Solution\n",
        "\n",
        "\n",
        "k = 12\n",
        "X = torch.diag(torch.arange(k))\n",
        "print_arr(X)"
      ]
    },
    {
      "cell_type": "markdown",
      "metadata": {
        "id": "8Dixdu5yjZ0g"
      },
      "source": [
        "> **EXERCISE**\n",
        ">\n",
        "> What is the shape of the following tensor?\n",
        ">\n",
        "> ```python\n",
        "> torch.tensor(\n",
        ">     [\n",
        ">         [[1.0, 1.0, 1.0],\n",
        ">          [1.0, 1.0, 1.0]],\n",
        ">\n",
        ">         [[1.0, 1.0, 1.0],\n",
        ">          [1.0, 1.0, 1.0]],\n",
        ">\n",
        ">         [[1.0, 1.0, 1.0],\n",
        ">          [1.0, 1.0, 1.0]],\n",
        ">\n",
        ">         [[1.0, 1.0, 1.0],\n",
        ">          [1.0, 1.0, 1.0]],\n",
        ">     ]\n",
        "> )\n",
        "> ```\n",
        "\n"
      ]
    },
    {
      "cell_type": "code",
      "execution_count": 54,
      "metadata": {
        "id": "PXIhMoIO1DJA"
      },
      "outputs": [
        {
          "data": {
            "text/plain": [
              "torch.Size([4, 2, 3])"
            ]
          },
          "execution_count": 54,
          "metadata": {},
          "output_type": "execute_result"
        }
      ],
      "source": [
        "# Think about it, then confirm your answer by writing code here\n",
        "\n",
        "torch.tensor(\n",
        "     [\n",
        "         [[1.0, 1.0, 1.0],\n",
        "          [1.0, 1.0, 1.0]],\n",
        "\n",
        "         [[1.0, 1.0, 1.0],\n",
        "          [1.0, 1.0, 1.0]],\n",
        "\n",
        "         [[1.0, 1.0, 1.0],\n",
        "          [1.0, 1.0, 1.0]],\n",
        "\n",
        "         [[1.0, 1.0, 1.0],\n",
        "          [1.0, 1.0, 1.0]],\n",
        "     ]\n",
        ").shape"
      ]
    },
    {
      "cell_type": "markdown",
      "metadata": {
        "id": "tfGGF8mmSJkq"
      },
      "source": [
        "### **Changing and adding dimensions**\n",
        "\n",
        "PyTorch provides several functions to manipulate tensor shapes\n"
      ]
    },
    {
      "cell_type": "markdown",
      "metadata": {
        "id": "i51GvUnwSc0U"
      },
      "source": [
        "#### **Transpose dimension**"
      ]
    },
    {
      "cell_type": "code",
      "execution_count": 55,
      "metadata": {
        "id": "g1kH1K7XS6KS"
      },
      "outputs": [
        {
          "name": "stdout",
          "output_type": "stream",
          "text": [
            "a: \n",
            "tensor([[1., 1., 1., 1., 0.],\n",
            "        [1., 1., 1., 1., 1.],\n",
            "        [1., 1., 1., 1., 1.]]) <shape: torch.Size([3, 5])> <dtype: torch.float32>\n"
          ]
        }
      ],
      "source": [
        "a = torch.ones((3, 5))\n",
        "a[0, -1] = 0  # index -1 denotes the last element, as in common python indexing\n",
        "print(\"a: \")\n",
        "print_arr(a)"
      ]
    },
    {
      "cell_type": "code",
      "execution_count": 56,
      "metadata": {
        "id": "DUXAlWb7fJn9"
      },
      "outputs": [
        {
          "data": {
            "text/plain": [
              "tensor([[1., 1., 1.],\n",
              "        [1., 1., 1.],\n",
              "        [1., 1., 1.],\n",
              "        [1., 1., 1.],\n",
              "        [0., 1., 1.]])"
            ]
          },
          "execution_count": 56,
          "metadata": {},
          "output_type": "execute_result"
        }
      ],
      "source": [
        "a.T"
      ]
    },
    {
      "cell_type": "code",
      "execution_count": 57,
      "metadata": {
        "id": "VqEfj7tuTAqK"
      },
      "outputs": [
        {
          "data": {
            "text/plain": [
              "tensor([[1., 1., 1.],\n",
              "        [1., 1., 1.],\n",
              "        [1., 1., 1.],\n",
              "        [1., 1., 1.],\n",
              "        [0., 1., 1.]])"
            ]
          },
          "execution_count": 57,
          "metadata": {},
          "output_type": "execute_result"
        }
      ],
      "source": [
        "a.transpose(1, 0)  # Swap dimension 1 and 0"
      ]
    },
    {
      "cell_type": "code",
      "execution_count": 58,
      "metadata": {
        "id": "9wvUahrTS9uJ"
      },
      "outputs": [
        {
          "data": {
            "text/plain": [
              "tensor([[1., 1., 1.],\n",
              "        [1., 1., 1.],\n",
              "        [1., 1., 1.],\n",
              "        [1., 1., 1.],\n",
              "        [0., 1., 1.]])"
            ]
          },
          "execution_count": 58,
          "metadata": {},
          "output_type": "execute_result"
        }
      ],
      "source": [
        "torch.einsum('ij -> ji', a)  # transpose using Einstein notation\n",
        "\n",
        "# In the next notebook we will explain the Einstein notation in detail"
      ]
    },
    {
      "cell_type": "markdown",
      "metadata": {
        "id": "9nXnyRKSfPSw"
      },
      "source": [
        "#### 📖 Transpose in k-dimensions and in Numpy\n"
      ]
    },
    {
      "cell_type": "code",
      "execution_count": 59,
      "metadata": {
        "id": "Sww5AtujTPiJ"
      },
      "outputs": [
        {
          "name": "stdout",
          "output_type": "stream",
          "text": [
            "tensor([[[ 1.,  1.,  1.,  1.,  1.,  1.],\n",
            "         [ 1.,  1.,  1.,  1.,  1.,  1.],\n",
            "         [ 1.,  1.,  1.,  1.,  1.,  1.]],\n",
            "\n",
            "        [[ 1.,  1.,  1.,  1.,  1.,  1.],\n",
            "         [ 1.,  1.,  1.,  1.,  1.,  1.],\n",
            "         [ 1.,  1.,  1.,  1., 42.,  1.]]]) <shape: torch.Size([2, 3, 6])> <dtype: torch.float32>\n"
          ]
        }
      ],
      "source": [
        "a = torch.ones((2, 3, 6))\n",
        "a[1, 2, 4] = 42\n",
        "print_arr(a)"
      ]
    },
    {
      "cell_type": "code",
      "execution_count": 60,
      "metadata": {
        "id": "bFezEV5uTc1W"
      },
      "outputs": [
        {
          "data": {
            "text/plain": [
              "tensor([[[ 1.,  1.,  1.],\n",
              "         [ 1.,  1.,  1.],\n",
              "         [ 1.,  1.,  1.],\n",
              "         [ 1.,  1.,  1.],\n",
              "         [ 1.,  1.,  1.],\n",
              "         [ 1.,  1.,  1.]],\n",
              "\n",
              "        [[ 1.,  1.,  1.],\n",
              "         [ 1.,  1.,  1.],\n",
              "         [ 1.,  1.,  1.],\n",
              "         [ 1.,  1.,  1.],\n",
              "         [ 1.,  1., 42.],\n",
              "         [ 1.,  1.,  1.]]])"
            ]
          },
          "execution_count": 60,
          "metadata": {},
          "output_type": "execute_result"
        }
      ],
      "source": [
        "a.transpose(2, 1)"
      ]
    },
    {
      "cell_type": "code",
      "execution_count": 61,
      "metadata": {
        "id": "pIYTVMyRUC1e"
      },
      "outputs": [
        {
          "data": {
            "text/plain": [
              "tensor([[[ 1.,  1.,  1.],\n",
              "         [ 1.,  1.,  1.],\n",
              "         [ 1.,  1.,  1.],\n",
              "         [ 1.,  1.,  1.],\n",
              "         [ 1.,  1.,  1.],\n",
              "         [ 1.,  1.,  1.]],\n",
              "\n",
              "        [[ 1.,  1.,  1.],\n",
              "         [ 1.,  1.,  1.],\n",
              "         [ 1.,  1.,  1.],\n",
              "         [ 1.,  1.,  1.],\n",
              "         [ 1.,  1., 42.],\n",
              "         [ 1.,  1.,  1.]]])"
            ]
          },
          "execution_count": 61,
          "metadata": {},
          "output_type": "execute_result"
        }
      ],
      "source": [
        "torch.einsum('ijk->ikj', a)"
      ]
    },
    {
      "cell_type": "markdown",
      "metadata": {
        "id": "iF0q66cg-M6c"
      },
      "source": [
        "Shortcuts are handy, but your code becomes less readable.\n",
        "Most of the time readability is the most important goal to aim for!\n",
        "\n",
        "What do you think `a.T` will do to our rank-3 tensor? Once you have your hypothesis, test it here:"
      ]
    },
    {
      "cell_type": "code",
      "execution_count": 62,
      "metadata": {
        "id": "hgp1QJWK-cX3"
      },
      "outputs": [
        {
          "name": "stderr",
          "output_type": "stream",
          "text": [
            "/tmp/ipykernel_8603/2533872927.py:1: UserWarning: The use of `x.T` on tensors of dimension other than 2 to reverse their shape is deprecated and it will throw an error in a future release. Consider `x.mT` to transpose batches of matrices or `x.permute(*torch.arange(x.ndim - 1, -1, -1))` to reverse the dimensions of a tensor. (Triggered internally at ../aten/src/ATen/native/TensorShape.cpp:3697.)\n",
            "  a.T\n"
          ]
        },
        {
          "data": {
            "text/plain": [
              "tensor([[[ 1.,  1.],\n",
              "         [ 1.,  1.],\n",
              "         [ 1.,  1.]],\n",
              "\n",
              "        [[ 1.,  1.],\n",
              "         [ 1.,  1.],\n",
              "         [ 1.,  1.]],\n",
              "\n",
              "        [[ 1.,  1.],\n",
              "         [ 1.,  1.],\n",
              "         [ 1.,  1.]],\n",
              "\n",
              "        [[ 1.,  1.],\n",
              "         [ 1.,  1.],\n",
              "         [ 1.,  1.]],\n",
              "\n",
              "        [[ 1.,  1.],\n",
              "         [ 1.,  1.],\n",
              "         [ 1., 42.]],\n",
              "\n",
              "        [[ 1.,  1.],\n",
              "         [ 1.,  1.],\n",
              "         [ 1.,  1.]]])"
            ]
          },
          "execution_count": 62,
          "metadata": {},
          "output_type": "execute_result"
        }
      ],
      "source": [
        "a.T"
      ]
    },
    {
      "cell_type": "markdown",
      "metadata": {
        "id": "-7zn8PWh-toL"
      },
      "source": [
        "This is confusing even after reading the docs!\n",
        "\n",
        "Lesson learned: Prefer readable code to short code."
      ]
    },
    {
      "cell_type": "markdown",
      "metadata": {
        "id": "a9Jshcp9Ul5O"
      },
      "source": [
        "> **NOTE**\n",
        ">\n",
        "> In Numpy the transpose function is different!\n",
        ">\n",
        "> PyTorch:\n",
        "> `torch.transpose(input, dim0, dim1) → Tensor`\n",
        ">\n",
        "> NumPy:\n",
        "> `numpy.transpose(a, axes=None) -> numpy.ndarray`\n",
        ">\n",
        "> Compare the docs from [numpy](https://numpy.org/doc/stable/reference/generated/numpy.transpose.html) and [pytorch](https://pytorch.org/docs/stable/generated/torch.transpose.html)\n",
        ">\n",
        "> In PyTorch the transpose swaps two dimensions. In NumPy you can specify a complete mapping to change all the dimensions."
      ]
    },
    {
      "cell_type": "code",
      "execution_count": 63,
      "metadata": {
        "id": "K9ktDbO5Uswj"
      },
      "outputs": [
        {
          "data": {
            "text/plain": [
              "array([[0, 1, 2, 3, 4],\n",
              "       [5, 6, 7, 8, 9]])"
            ]
          },
          "execution_count": 63,
          "metadata": {},
          "output_type": "execute_result"
        }
      ],
      "source": [
        "a = np.arange(10).reshape(2, 5)\n",
        "a"
      ]
    },
    {
      "cell_type": "code",
      "execution_count": 64,
      "metadata": {
        "id": "h0QGO8d_hFmQ"
      },
      "outputs": [
        {
          "data": {
            "text/plain": [
              "array([[0, 5],\n",
              "       [1, 6],\n",
              "       [2, 7],\n",
              "       [3, 8],\n",
              "       [4, 9]])"
            ]
          },
          "execution_count": 64,
          "metadata": {},
          "output_type": "execute_result"
        }
      ],
      "source": [
        "a.transpose(1, 0)"
      ]
    },
    {
      "cell_type": "code",
      "execution_count": 65,
      "metadata": {
        "id": "8LLh0Qd7U2xT"
      },
      "outputs": [
        {
          "data": {
            "text/plain": [
              "array([[0, 1, 2, 3, 4],\n",
              "       [5, 6, 7, 8, 9]])"
            ]
          },
          "execution_count": 65,
          "metadata": {},
          "output_type": "execute_result"
        }
      ],
      "source": [
        "a.transpose(0, 1)"
      ]
    },
    {
      "cell_type": "code",
      "execution_count": 66,
      "metadata": {
        "id": "Eu4YJcgAhAds"
      },
      "outputs": [
        {
          "data": {
            "text/plain": [
              "tensor([[0, 5],\n",
              "        [1, 6],\n",
              "        [2, 7],\n",
              "        [3, 8],\n",
              "        [4, 9]])"
            ]
          },
          "execution_count": 66,
          "metadata": {},
          "output_type": "execute_result"
        }
      ],
      "source": [
        "torch.from_numpy(a).transpose(0, 1)"
      ]
    },
    {
      "cell_type": "code",
      "execution_count": 67,
      "metadata": {
        "id": "fsU83yRwU9VW"
      },
      "outputs": [
        {
          "data": {
            "text/plain": [
              "array([[0, 5],\n",
              "       [1, 6],\n",
              "       [2, 7],\n",
              "       [3, 8],\n",
              "       [4, 9]])"
            ]
          },
          "execution_count": 67,
          "metadata": {},
          "output_type": "execute_result"
        }
      ],
      "source": [
        "# The einsum is cross platform. It works with consistent semantics\n",
        "# pretty much everywhere: PyTorch, NumPy, TensorFlow, Jax, ...\n",
        "# We will see the power of einsum in the next lab\n",
        "np.einsum('ij -> ji', a)"
      ]
    },
    {
      "cell_type": "markdown",
      "metadata": {
        "id": "RWaicg6uVIXQ"
      },
      "source": [
        "#### **Reshape**\n",
        "\n",
        "Another important feature is **reshaping** a tensor into different dimensions\n",
        "\n",
        "- We need to make sure to **preserve the same number of elements**.\n",
        "- `-1` in one of the dimensions means **\"figure it out\"**.\n"
      ]
    },
    {
      "cell_type": "markdown",
      "metadata": {
        "id": "L5uTNjKI15kx"
      },
      "source": [
        "❌❌❌ Pay attention that **transposing and reshaping are two fundamentally different operations**:"
      ]
    },
    {
      "cell_type": "code",
      "execution_count": 71,
      "metadata": {
        "id": "W01aXqIZwfCu"
      },
      "outputs": [
        {
          "data": {
            "text/plain": [
              "tensor([[ 0,  1,  2,  3],\n",
              "        [ 4,  5,  6,  7],\n",
              "        [ 8,  9, 10, 11]])"
            ]
          },
          "execution_count": 71,
          "metadata": {},
          "output_type": "execute_result"
        }
      ],
      "source": [
        "a = torch.arange(12).reshape(3, 4)\n",
        "a"
      ]
    },
    {
      "cell_type": "code",
      "execution_count": 72,
      "metadata": {
        "id": "c67xp19WwmGP"
      },
      "outputs": [
        {
          "data": {
            "text/plain": [
              "tensor([[ 0,  4,  8],\n",
              "        [ 1,  5,  9],\n",
              "        [ 2,  6, 10],\n",
              "        [ 3,  7, 11]])"
            ]
          },
          "execution_count": 72,
          "metadata": {},
          "output_type": "execute_result"
        }
      ],
      "source": [
        "# The classical transpose\n",
        "a.t()"
      ]
    },
    {
      "cell_type": "code",
      "execution_count": 73,
      "metadata": {
        "id": "EenpJs6gwoLd"
      },
      "outputs": [
        {
          "data": {
            "text/plain": [
              "tensor([[ 0,  1,  2],\n",
              "        [ 3,  4,  5],\n",
              "        [ 6,  7,  8],\n",
              "        [ 9, 10, 11]])"
            ]
          },
          "execution_count": 73,
          "metadata": {},
          "output_type": "execute_result"
        }
      ],
      "source": [
        "# Reshape into the transpose shape\n",
        "a.reshape(4, 3)"
      ]
    },
    {
      "cell_type": "markdown",
      "metadata": {
        "id": "VoIngdEzwQNY"
      },
      "source": [
        "#### 📖 **What is `reshape` really doing?**\n"
      ]
    },
    {
      "cell_type": "markdown",
      "metadata": {
        "id": "wJPn4ArY2Q6E"
      },
      "source": [
        "\n",
        "Think of the `reshape` operation as unrolling the tensor **row-wise**, to obtain a rank-1 tensor *(matlab users: matlab unrolls **column-wise**, pay attention when converting code!)*. Then it stores the values in this tensor following the specified dimensions.\n",
        "\n",
        "```python\n",
        "tensor([[ 0,  1,  2,  3],\n",
        "        [ 4,  5,  6,  7],\n",
        "        [ 8,  9, 10, 11]])\n",
        "```\n",
        "$-$ unrolling $ \\to $\n",
        "\n",
        "```python\n",
        "tensor([ 0,  1,  2,  3,  4,  5,  6,  7,  8,  9, 10, 11])\n",
        "```\n",
        "\n",
        "Then, reading the target shape from right to left, organize the values into the dimensions:\n",
        "\n",
        "- e.g. reshape into `[4, 3]`:\n",
        "\n",
        "```python\n",
        "tensor([ 0,  1,  2,  3,  4,  5,  6,  7,  8,  9, 10, 11])\n",
        "```\n",
        "\n",
        "$-$ organize in groups of $3$ $ \\to $\n",
        "\n",
        "```python\n",
        "tensor([[0,  1,  2],  [3,  4,  5],  [6,  7,  8],  [9, 10, 11]])\n",
        "```\n",
        "\n",
        "$-$ organize in groups of $4$ $ \\to $\n",
        "\n",
        "```python\n",
        "tensor([[ 0,  1,  2],\n",
        "        [ 3,  4,  5],\n",
        "        [ 6,  7,  8],\n",
        "        [ 9, 10, 11]])\n",
        "\n",
        "# same shape of corresponding transpose, but the values are stored differently!\n",
        "```\n",
        "\n",
        "- e.g. reshape into `[2, 2, 3]`:\n",
        "\n",
        "```python\n",
        "tensor([ 0,  1,  2,  3,  4,  5,  6,  7,  8,  9, 10, 11])\n",
        "```\n",
        "\n",
        "$-$ organize in groups of $3$ $ \\to $\n",
        "\n",
        "```python\n",
        "tensor([[0,  1,  2],  [3,  4,  5],  [6,  7,  8],  [9, 10, 11]])\n",
        "```\n",
        "\n",
        "$-$ organize in groups of $2$ $ \\to $\n",
        "\n",
        "```python\n",
        "tensor([[[0,  1,  2],  [3,  4,  5]],  [[6,  7,  8],  [9, 10, 11]]])\n",
        "```\n",
        "\n",
        "$-$ organize in groups of $2$ $ \\to $\n",
        "\n",
        "```python\n",
        "tensor([[[ 0,  1,  2],\n",
        "         [ 3,  4,  5]],\n",
        "\n",
        "        [[ 6,  7,  8],\n",
        "         [ 9, 10, 11]]])\n",
        "```"
      ]
    },
    {
      "cell_type": "code",
      "execution_count": 74,
      "metadata": {
        "id": "U3U_yh07Vf7m"
      },
      "outputs": [
        {
          "name": "stdout",
          "output_type": "stream",
          "text": [
            "tensor([ 0,  1,  2,  3,  4,  5,  6,  7,  8,  9, 10, 11]) <shape: torch.Size([12])> <dtype: torch.int64>\n"
          ]
        }
      ],
      "source": [
        "a = torch.arange(12)\n",
        "print_arr(a)"
      ]
    },
    {
      "cell_type": "code",
      "execution_count": 75,
      "metadata": {
        "id": "_mqUJve9VjUQ"
      },
      "outputs": [
        {
          "data": {
            "text/plain": [
              "tensor([[ 0,  1],\n",
              "        [ 2,  3],\n",
              "        [ 4,  5],\n",
              "        [ 6,  7],\n",
              "        [ 8,  9],\n",
              "        [10, 11]])"
            ]
          },
          "execution_count": 75,
          "metadata": {},
          "output_type": "execute_result"
        }
      ],
      "source": [
        "a.reshape(6, 2)"
      ]
    },
    {
      "cell_type": "code",
      "execution_count": 76,
      "metadata": {
        "id": "i-qtMeW0VnTu"
      },
      "outputs": [
        {
          "data": {
            "text/plain": [
              "tensor([[ 0,  1,  2,  3,  4,  5],\n",
              "        [ 6,  7,  8,  9, 10, 11]])"
            ]
          },
          "execution_count": 76,
          "metadata": {},
          "output_type": "execute_result"
        }
      ],
      "source": [
        "a.reshape(2, 6)"
      ]
    },
    {
      "cell_type": "code",
      "execution_count": 77,
      "metadata": {
        "id": "S9miZ3XUqxvc"
      },
      "outputs": [
        {
          "data": {
            "text/plain": [
              "tensor([[[ 0,  1,  2],\n",
              "         [ 3,  4,  5]],\n",
              "\n",
              "        [[ 6,  7,  8],\n",
              "         [ 9, 10, 11]]])"
            ]
          },
          "execution_count": 77,
          "metadata": {},
          "output_type": "execute_result"
        }
      ],
      "source": [
        "a.reshape(2, 2, 3)"
      ]
    },
    {
      "cell_type": "code",
      "execution_count": 78,
      "metadata": {
        "id": "1rUiVJQgWibl"
      },
      "outputs": [
        {
          "name": "stdout",
          "output_type": "stream",
          "text": [
            "Error: shape '[5, -1]' is invalid for input of size 12\n"
          ]
        }
      ],
      "source": [
        "try:\n",
        "  a.reshape(5, -1)\n",
        "except RuntimeError as e:\n",
        "  print('Error:', e)"
      ]
    },
    {
      "cell_type": "code",
      "execution_count": 79,
      "metadata": {
        "id": "9STd1HDBWkym"
      },
      "outputs": [
        {
          "data": {
            "text/plain": [
              "tensor([[ 0,  1,  2,  3,  4,  5,  6,  7,  8,  9, 10, 11]])"
            ]
          },
          "execution_count": 79,
          "metadata": {},
          "output_type": "execute_result"
        }
      ],
      "source": [
        "a.reshape(1, -1)"
      ]
    },
    {
      "cell_type": "code",
      "execution_count": 80,
      "metadata": {
        "id": "-zjpBpctWr-D"
      },
      "outputs": [
        {
          "data": {
            "text/plain": [
              "tensor([[ 0],\n",
              "        [ 1],\n",
              "        [ 2],\n",
              "        [ 3],\n",
              "        [ 4],\n",
              "        [ 5],\n",
              "        [ 6],\n",
              "        [ 7],\n",
              "        [ 8],\n",
              "        [ 9],\n",
              "        [10],\n",
              "        [11]])"
            ]
          },
          "execution_count": 80,
          "metadata": {},
          "output_type": "execute_result"
        }
      ],
      "source": [
        "a.reshape(-1, 1)"
      ]
    },
    {
      "cell_type": "code",
      "execution_count": 81,
      "metadata": {
        "id": "qWpSkDFAWo_Q"
      },
      "outputs": [
        {
          "data": {
            "text/plain": [
              "tensor([ 0,  1,  2,  3,  4,  5,  6,  7,  8,  9, 10, 11])"
            ]
          },
          "execution_count": 81,
          "metadata": {},
          "output_type": "execute_result"
        }
      ],
      "source": [
        "a.reshape(-1)  # we are flattening the rank-k tensor into a rank-1 tensor"
      ]
    },
    {
      "cell_type": "markdown",
      "metadata": {
        "id": "RS6Bg3gg-X-F"
      },
      "source": [
        "> **NOTE**\n",
        ">\n",
        "> We can add or remove dimensions of size `1` using `torch.unsqueeze` or `torch.squeeze`"
      ]
    },
    {
      "cell_type": "code",
      "execution_count": 82,
      "metadata": {
        "id": "WuRS4c8HmUNB"
      },
      "outputs": [
        {
          "data": {
            "text/plain": [
              "tensor([ 0,  1,  2,  3,  4,  5,  6,  7,  8,  9, 10, 11])"
            ]
          },
          "execution_count": 82,
          "metadata": {},
          "output_type": "execute_result"
        }
      ],
      "source": [
        "a"
      ]
    },
    {
      "cell_type": "code",
      "execution_count": 83,
      "metadata": {
        "id": "Gz9-eqQtAR_J"
      },
      "outputs": [
        {
          "data": {
            "text/plain": [
              "torch.Size([12])"
            ]
          },
          "execution_count": 83,
          "metadata": {},
          "output_type": "execute_result"
        }
      ],
      "source": [
        "a.shape"
      ]
    },
    {
      "cell_type": "code",
      "execution_count": 84,
      "metadata": {
        "id": "F2Z05GiFmUpt"
      },
      "outputs": [
        {
          "data": {
            "text/plain": [
              "torch.Size([1, 12])"
            ]
          },
          "execution_count": 84,
          "metadata": {},
          "output_type": "execute_result"
        }
      ],
      "source": [
        "a.unsqueeze(0).shape  # adds a new dimension at the beginning"
      ]
    },
    {
      "cell_type": "code",
      "execution_count": 85,
      "metadata": {
        "id": "UXZUg0P_mcha"
      },
      "outputs": [
        {
          "data": {
            "text/plain": [
              "torch.Size([12, 1])"
            ]
          },
          "execution_count": 85,
          "metadata": {},
          "output_type": "execute_result"
        }
      ],
      "source": [
        "a.unsqueeze(-1).shape  # adds a new dimension at the end"
      ]
    },
    {
      "cell_type": "code",
      "execution_count": 89,
      "metadata": {},
      "outputs": [
        {
          "data": {
            "text/plain": [
              "tensor([[ 0,  1,  2,  3,  4,  5,  6,  7,  8,  9, 10, 11]])"
            ]
          },
          "execution_count": 89,
          "metadata": {},
          "output_type": "execute_result"
        }
      ],
      "source": [
        "a.unsqueeze(0)"
      ]
    },
    {
      "cell_type": "code",
      "execution_count": 90,
      "metadata": {},
      "outputs": [
        {
          "data": {
            "text/plain": [
              "tensor([[ 0],\n",
              "        [ 1],\n",
              "        [ 2],\n",
              "        [ 3],\n",
              "        [ 4],\n",
              "        [ 5],\n",
              "        [ 6],\n",
              "        [ 7],\n",
              "        [ 8],\n",
              "        [ 9],\n",
              "        [10],\n",
              "        [11]])"
            ]
          },
          "execution_count": 90,
          "metadata": {},
          "output_type": "execute_result"
        }
      ],
      "source": [
        "a.unsqueeze(-1)"
      ]
    },
    {
      "cell_type": "markdown",
      "metadata": {
        "id": "OYWdXFvqrbqS"
      },
      "source": [
        "> **NOTE**\n",
        ">\n",
        "> Often the reshape does not require a physical copy of the data, but just a logical\n",
        "> reorganization.\n",
        ">\n",
        "> If you are curious about the NumPy/PyTorch tensor internals, a good starting point to learn about *strides* is this [SO answer](https://stackoverflow.com/questions/53097952/how-to-understand-numpy-strides-for-layman).\n",
        "> tldr: often you can reshape tensors by changing only its strides and shape. The strides  are the byte-separation between consecutive items for each dimension.\n",
        ">\n",
        "> To be sure to obtain a *view* of the tensor, that shares the same underlying data, you can use the `torch.view` method.\n",
        "> Its semantics is similar to `reshape`, but it works only on [`contiguous` tensors](https://discuss.pytorch.org/t/contigious-vs-non-contigious-tensor/30107/2) and it guarantees that no copy will be performed."
      ]
    },
    {
      "cell_type": "markdown",
      "metadata": {
        "id": "VYocF4AUBJN4"
      },
      "source": [
        "> **EXERCISE**\n",
        ">\n",
        "> Given a sequence of increasing numbers from `0` to `9`, defined as:\n",
        ">\n",
        "> ```python\n",
        "> a = torch.arange(10)\n",
        "> ```\n",
        ">\n",
        "> Use only the `reshape` and `transpose` functions to obtain the following tensor from `a`:\n",
        ">\n",
        "> ```python\n",
        "> tensor([0, 2, 4, 6, 8, 1, 3, 5, 7, 9])\n",
        "> ```"
      ]
    },
    {
      "cell_type": "code",
      "execution_count": 94,
      "metadata": {
        "id": "leLESEEVD-Eq"
      },
      "outputs": [
        {
          "name": "stdout",
          "output_type": "stream",
          "text": [
            "tensor([0, 2, 4, 6, 8, 1, 3, 5, 7, 9])\n"
          ]
        }
      ],
      "source": [
        "# Your solution\n",
        "\n",
        "a = torch.arange(10)\n",
        "a = a.reshape(-1, 2).T.reshape(-1)\n",
        "\n",
        "print(a)"
      ]
    },
    {
      "cell_type": "code",
      "execution_count": 95,
      "metadata": {
        "cellView": "form",
        "id": "3KUBAb3mCYOS"
      },
      "outputs": [
        {
          "data": {
            "text/plain": [
              "tensor([0, 4, 8, 3, 7, 2, 6, 1, 5, 9])"
            ]
          },
          "execution_count": 95,
          "metadata": {},
          "output_type": "execute_result"
        }
      ],
      "source": [
        "# @title 👀 Solution\n",
        "\n",
        "\n",
        "a.reshape(5, 2).transpose(0, 1).reshape(1, -1).squeeze()"
      ]
    },
    {
      "cell_type": "markdown",
      "metadata": {
        "id": "zjvDvo4yXAk-"
      },
      "source": [
        "#### **Concatenation**\n",
        "\n",
        "PyTorch provides many functions to manipulate tensors.\n",
        "Two of the most common functions are:\n",
        "\n",
        "- `torch.stack`: Adds a **new** dimension, and concatenates the given tensors along that dimension.\n",
        "- `torch.cat`: Concatenates the given tensors along one of the **existing** dimensions."
      ]
    },
    {
      "cell_type": "code",
      "execution_count": 96,
      "metadata": {
        "id": "Oq1IMbFvXLPk"
      },
      "outputs": [
        {
          "name": "stdout",
          "output_type": "stream",
          "text": [
            "tensor([[ 0,  1,  2,  3],\n",
            "        [ 4,  5,  6,  7],\n",
            "        [ 8,  9, 10, 11]]) <shape: torch.Size([3, 4])> <dtype: torch.int64>\n",
            "\n",
            "tensor([[100, 101, 102, 103],\n",
            "        [104, 105, 106, 107],\n",
            "        [108, 109, 110, 111]]) <shape: torch.Size([3, 4])> <dtype: torch.int64>\n"
          ]
        }
      ],
      "source": [
        "a = torch.arange(12).reshape(3, 4)\n",
        "b = torch.arange(12).reshape(3, 4) + 100\n",
        "print_arr(a, b)"
      ]
    },
    {
      "cell_type": "code",
      "execution_count": 97,
      "metadata": {
        "id": "idTJRE6oDRpi"
      },
      "outputs": [
        {
          "name": "stdout",
          "output_type": "stream",
          "text": [
            "tensor([[[  0,   1,   2,   3],\n",
            "         [  4,   5,   6,   7],\n",
            "         [  8,   9,  10,  11]],\n",
            "\n",
            "        [[100, 101, 102, 103],\n",
            "         [104, 105, 106, 107],\n",
            "         [108, 109, 110, 111]]]) <shape: torch.Size([2, 3, 4])> <dtype: torch.int64>\n"
          ]
        }
      ],
      "source": [
        "out = torch.stack((a, b), dim=0)\n",
        "print_arr(out)"
      ]
    },
    {
      "cell_type": "code",
      "execution_count": 98,
      "metadata": {
        "id": "EsyXtEm4XRf1"
      },
      "outputs": [
        {
          "name": "stdout",
          "output_type": "stream",
          "text": [
            "tensor([[  0,   1,   2,   3],\n",
            "        [  4,   5,   6,   7],\n",
            "        [  8,   9,  10,  11],\n",
            "        [100, 101, 102, 103],\n",
            "        [104, 105, 106, 107],\n",
            "        [108, 109, 110, 111]]) <shape: torch.Size([6, 4])> <dtype: torch.int64>\n"
          ]
        }
      ],
      "source": [
        "out = torch.cat((a, b), dim=0)\n",
        "print_arr(out)"
      ]
    },
    {
      "cell_type": "code",
      "execution_count": 99,
      "metadata": {
        "id": "upRrgqeZILbb"
      },
      "outputs": [
        {
          "name": "stdout",
          "output_type": "stream",
          "text": [
            "tensor([[  0,   1,   2,   3, 100, 101, 102, 103],\n",
            "        [  4,   5,   6,   7, 104, 105, 106, 107],\n",
            "        [  8,   9,  10,  11, 108, 109, 110, 111]]) <shape: torch.Size([3, 8])> <dtype: torch.int64>\n"
          ]
        }
      ],
      "source": [
        "out = torch.cat((a, b), dim=1)\n",
        "print_arr(out)"
      ]
    },
    {
      "cell_type": "markdown",
      "metadata": {
        "id": "qHQFWwzCn8k7"
      },
      "source": [
        "> **EXERCISE**\n",
        ">\n",
        "> Given a tensor $X \\in \\mathbb{R}^{3 \\times 1920 \\times 5 \\times 1080}$ reorganize it in order to obtain a tensor $Y \\in \\mathbb{R}^{5 \\times 1920 \\times 1080 \\times 3}$\n",
        ">\n",
        "> Think of $X$ as a tensor that represents $5$ RGB images of size $1080\\times 1920$. Your goal is to reorganize this tensor in a sensible (and usable) way.\n"
      ]
    },
    {
      "cell_type": "code",
      "execution_count": 100,
      "metadata": {
        "id": "PrMb_KB_ogMs"
      },
      "outputs": [
        {
          "data": {
            "text/plain": [
              "torch.Size([3, 1920, 5, 1080])"
            ]
          },
          "execution_count": 100,
          "metadata": {},
          "output_type": "execute_result"
        }
      ],
      "source": [
        "a = torch.rand(3, 1920, 5, 1080)\n",
        "a.shape"
      ]
    },
    {
      "cell_type": "code",
      "execution_count": 102,
      "metadata": {
        "id": "b2twlGrOJ0VO"
      },
      "outputs": [
        {
          "data": {
            "text/plain": [
              "torch.Size([5, 1920, 1080, 3])"
            ]
          },
          "execution_count": 102,
          "metadata": {},
          "output_type": "execute_result"
        }
      ],
      "source": [
        "# Your solution\n",
        "a.transpose(0, 2).transpose(2, 3).shape"
      ]
    },
    {
      "cell_type": "code",
      "execution_count": 103,
      "metadata": {
        "cellView": "form",
        "id": "nLpeXAQ1I1zR"
      },
      "outputs": [
        {
          "data": {
            "text/plain": [
              "torch.Size([5, 1920, 1080, 3])"
            ]
          },
          "execution_count": 103,
          "metadata": {},
          "output_type": "execute_result"
        }
      ],
      "source": [
        "# @title 👀 Solution\n",
        "\n",
        "a.transpose(0, 2).transpose(2, 3).shape\n",
        "\n",
        "# Equivalent solution\n",
        "a.permute(2, 1, 3, 0).shape"
      ]
    },
    {
      "cell_type": "markdown",
      "metadata": {
        "id": "QPHnbIH_rn_C"
      },
      "source": [
        "### **Tensor indexing**\n",
        "\n",
        "PyTorch offers several ways to index tensors\n"
      ]
    },
    {
      "cell_type": "markdown",
      "metadata": {
        "id": "U68ToAl1r_dG"
      },
      "source": [
        "#### **Standard indexing**\n",
        "\n",
        "As a standard Python list, PyTorch tensors support the python indexing conventions:"
      ]
    },
    {
      "cell_type": "code",
      "execution_count": 104,
      "metadata": {
        "id": "PWzGd3vYsb8e"
      },
      "outputs": [
        {
          "data": {
            "text/plain": [
              "tensor([0, 1, 2, 3, 4, 5, 6, 7, 8, 9])"
            ]
          },
          "execution_count": 104,
          "metadata": {},
          "output_type": "execute_result"
        }
      ],
      "source": [
        "a = torch.arange(10)\n",
        "a"
      ]
    },
    {
      "cell_type": "code",
      "execution_count": 105,
      "metadata": {
        "id": "vTn3_9F3tAVl"
      },
      "outputs": [
        {
          "name": "stdout",
          "output_type": "stream",
          "text": [
            "tensor(0)\n",
            "tensor(5)\n"
          ]
        }
      ],
      "source": [
        "print(a[0])  # first element\n",
        "print(a[5])  # sixth element"
      ]
    },
    {
      "cell_type": "code",
      "execution_count": 106,
      "metadata": {
        "id": "vDGstnvrs6wf"
      },
      "outputs": [
        {
          "name": "stdout",
          "output_type": "stream",
          "text": [
            "tensor(9)\n",
            "tensor(8)\n"
          ]
        }
      ],
      "source": [
        "print(a[-1])  # last element\n",
        "print(a[-2])  # second last element"
      ]
    },
    {
      "cell_type": "markdown",
      "metadata": {
        "id": "t_uRKJqor2Ty"
      },
      "source": [
        "#### **Multidimensional indexing**\n",
        "\n",
        "Since tensors may be multidimensional, you can specify **one index for each dimension**:"
      ]
    },
    {
      "cell_type": "code",
      "execution_count": 107,
      "metadata": {
        "id": "4oSg1hGQtyT8"
      },
      "outputs": [
        {
          "data": {
            "text/plain": [
              "tensor([[0, 1, 2, 3, 4],\n",
              "        [5, 6, 7, 8, 9]])"
            ]
          },
          "execution_count": 107,
          "metadata": {},
          "output_type": "execute_result"
        }
      ],
      "source": [
        "a = torch.arange(10).reshape(2, 5)\n",
        "a"
      ]
    },
    {
      "cell_type": "code",
      "execution_count": 108,
      "metadata": {
        "id": "QfPPgXguqeT9"
      },
      "outputs": [
        {
          "data": {
            "text/plain": [
              "tensor(8)"
            ]
          },
          "execution_count": 108,
          "metadata": {},
          "output_type": "execute_result"
        }
      ],
      "source": [
        "a[1, 3]"
      ]
    },
    {
      "cell_type": "code",
      "execution_count": 109,
      "metadata": {
        "id": "p_d7tUsVuKNM"
      },
      "outputs": [
        {
          "data": {
            "text/plain": [
              "tensor([0, 1, 2, 3, 4])"
            ]
          },
          "execution_count": 109,
          "metadata": {},
          "output_type": "execute_result"
        }
      ],
      "source": [
        "a[0]"
      ]
    },
    {
      "cell_type": "code",
      "execution_count": 110,
      "metadata": {
        "id": "6zErRdLjud3S"
      },
      "outputs": [
        {
          "data": {
            "text/plain": [
              "tensor([5, 6, 7, 8, 9])"
            ]
          },
          "execution_count": 110,
          "metadata": {},
          "output_type": "execute_result"
        }
      ],
      "source": [
        "a[1]"
      ]
    },
    {
      "cell_type": "code",
      "execution_count": 111,
      "metadata": {
        "id": "j40QvNuLugWX"
      },
      "outputs": [
        {
          "data": {
            "text/plain": [
              "tensor(4)"
            ]
          },
          "execution_count": 111,
          "metadata": {},
          "output_type": "execute_result"
        }
      ],
      "source": [
        "a[0, -1]"
      ]
    },
    {
      "cell_type": "markdown",
      "metadata": {
        "id": "ei6RS_wkKJp6"
      },
      "source": [
        "> **EXERCISE**\n",
        ">\n",
        "> What element is at position `a[1, -1]`?"
      ]
    },
    {
      "cell_type": "markdown",
      "metadata": {
        "id": "XY76VPqCuhc1"
      },
      "source": [
        "#### **Slicing**\n",
        "\n",
        "Similar to Python sequences and Numpy arrays, PyTorch tensors can be easily sliced using the slice notation:\n",
        "\n",
        "```python\n",
        "a[start:stop]  # items from start to stop-1 (i.e. the last element is excluded)\n",
        "a[start:]      # items from start through the rest of the array\n",
        "a[:stop]       # items from the beginning through stop-1\n",
        "a[:]           # a shallow copy of the whole array\n",
        "```\n",
        "\n",
        "There is also an optional step value, which can be used with any of the above:\n",
        "\n",
        "```python\n",
        "a[start:stop:step] # from start to at most stop-1, by step\n",
        "```"
      ]
    },
    {
      "cell_type": "code",
      "execution_count": 112,
      "metadata": {
        "id": "ku-xaZ7LvjR5"
      },
      "outputs": [
        {
          "data": {
            "text/plain": [
              "tensor([10, 11, 12, 13, 14, 15, 16, 17, 18, 19])"
            ]
          },
          "execution_count": 112,
          "metadata": {},
          "output_type": "execute_result"
        }
      ],
      "source": [
        "# Sum with scalar acts element-wise\n",
        "a = torch.arange(10) + 10\n",
        "a"
      ]
    },
    {
      "cell_type": "code",
      "execution_count": 113,
      "metadata": {
        "id": "7TRwjulxKo_E"
      },
      "outputs": [
        {
          "data": {
            "text/plain": [
              "tensor([15, 16])"
            ]
          },
          "execution_count": 113,
          "metadata": {},
          "output_type": "execute_result"
        }
      ],
      "source": [
        "# Take the elements in positions 5..6\n",
        "a[5:7]"
      ]
    },
    {
      "cell_type": "code",
      "execution_count": 114,
      "metadata": {
        "id": "aut0rgIEwIG_"
      },
      "outputs": [
        {
          "data": {
            "text/plain": [
              "tensor([15, 16, 17, 18, 19])"
            ]
          },
          "execution_count": 114,
          "metadata": {},
          "output_type": "execute_result"
        }
      ],
      "source": [
        "# Take the last 5 elements\n",
        "a[-5:]"
      ]
    },
    {
      "cell_type": "code",
      "execution_count": 115,
      "metadata": {
        "id": "UZ3vLffywvQt"
      },
      "outputs": [
        {
          "data": {
            "text/plain": [
              "tensor([10, 12, 14, 16, 18])"
            ]
          },
          "execution_count": 115,
          "metadata": {},
          "output_type": "execute_result"
        }
      ],
      "source": [
        "# Select every element having an even index\n",
        "a[::2]"
      ]
    },
    {
      "cell_type": "markdown",
      "metadata": {
        "id": "lMgTjK6yyRCl"
      },
      "source": [
        "With multidimensional tensors we can perform **multidimensional slicing**:"
      ]
    },
    {
      "cell_type": "code",
      "execution_count": 116,
      "metadata": {
        "id": "ZJYcchmxykd6"
      },
      "outputs": [
        {
          "data": {
            "text/plain": [
              "tensor([[0, 1, 2, 3, 4],\n",
              "        [5, 6, 7, 8, 9]])"
            ]
          },
          "execution_count": 116,
          "metadata": {},
          "output_type": "execute_result"
        }
      ],
      "source": [
        "a = torch.arange(10).reshape(2, 5)\n",
        "a"
      ]
    },
    {
      "cell_type": "code",
      "execution_count": 117,
      "metadata": {
        "id": "gkhWYbVHyq-H"
      },
      "outputs": [
        {
          "data": {
            "text/plain": [
              "tensor([1, 6])"
            ]
          },
          "execution_count": 117,
          "metadata": {},
          "output_type": "execute_result"
        }
      ],
      "source": [
        "# Take the second column\n",
        "a[:, 1]"
      ]
    },
    {
      "cell_type": "code",
      "execution_count": 118,
      "metadata": {
        "id": "5PzkxXpdyMoL"
      },
      "outputs": [
        {
          "data": {
            "text/plain": [
              "tensor([4, 9])"
            ]
          },
          "execution_count": 118,
          "metadata": {},
          "output_type": "execute_result"
        }
      ],
      "source": [
        "# Take the last column\n",
        "a[:, -1]"
      ]
    },
    {
      "cell_type": "code",
      "execution_count": 119,
      "metadata": {
        "id": "7q0GVL_YxVRK"
      },
      "outputs": [
        {
          "data": {
            "text/plain": [
              "tensor([7, 8, 9])"
            ]
          },
          "execution_count": 119,
          "metadata": {},
          "output_type": "execute_result"
        }
      ],
      "source": [
        "# Take a slice from the last row\n",
        "a[-1, -3:]"
      ]
    },
    {
      "cell_type": "markdown",
      "metadata": {
        "id": "Z6oeDEvEzvhQ"
      },
      "source": [
        "You can **assign** to sliced tensors, therefore *modifying the original tensor*.\n",
        "\n",
        "This means that sliced tensors are **shallow copies**: the resulting tensors **share the underlying data** with the original tensor."
      ]
    },
    {
      "cell_type": "code",
      "execution_count": 120,
      "metadata": {
        "id": "R2XdMXUUzLFV"
      },
      "outputs": [
        {
          "data": {
            "text/plain": [
              "tensor([[0, 1, 2, 3, 4],\n",
              "        [5, 6, 7, 8, 9]])"
            ]
          },
          "execution_count": 120,
          "metadata": {},
          "output_type": "execute_result"
        }
      ],
      "source": [
        "a = torch.arange(10).reshape(2, 5)\n",
        "a"
      ]
    },
    {
      "cell_type": "code",
      "execution_count": 121,
      "metadata": {
        "id": "aiM4-1Je1C3y"
      },
      "outputs": [
        {
          "data": {
            "text/plain": [
              "tensor([[1, 2],\n",
              "        [6, 7]])"
            ]
          },
          "execution_count": 121,
          "metadata": {},
          "output_type": "execute_result"
        }
      ],
      "source": [
        "b = a[0:2, 1:3]\n",
        "b"
      ]
    },
    {
      "cell_type": "code",
      "execution_count": 122,
      "metadata": {
        "id": "Evbxee1A1GFo"
      },
      "outputs": [
        {
          "data": {
            "text/plain": [
              "tensor([[   1,    2],\n",
              "        [-999, -999]])"
            ]
          },
          "execution_count": 122,
          "metadata": {},
          "output_type": "execute_result"
        }
      ],
      "source": [
        "b[-1, :] = -999\n",
        "b"
      ]
    },
    {
      "cell_type": "code",
      "execution_count": 123,
      "metadata": {
        "id": "44A4NAYewvYd"
      },
      "outputs": [
        {
          "data": {
            "text/plain": [
              "tensor([[   0,    1,    2,    3,    4],\n",
              "        [   5, -999, -999,    8,    9]])"
            ]
          },
          "execution_count": 123,
          "metadata": {},
          "output_type": "execute_result"
        }
      ],
      "source": [
        "# The original tensor has been modified\n",
        "a"
      ]
    },
    {
      "cell_type": "code",
      "execution_count": 124,
      "metadata": {
        "id": "chqxaQU63oxh"
      },
      "outputs": [
        {
          "data": {
            "text/plain": [
              "tensor([[   0,    1,    2,    3,    4],\n",
              "        [   5, -999, -999,    8,   -1]])"
            ]
          },
          "execution_count": 124,
          "metadata": {},
          "output_type": "execute_result"
        }
      ],
      "source": [
        "a[-1, -1] = -1\n",
        "a"
      ]
    },
    {
      "cell_type": "markdown",
      "metadata": {
        "id": "Y_yFS2q51zdn"
      },
      "source": [
        "> **NOTE**\n",
        ">\n",
        "> Indexing with **integers yields lower rank tensors**\n",
        ">\n",
        "> Integer indexing simply means we don't use slices (:) or boolean masks for indexing."
      ]
    },
    {
      "cell_type": "code",
      "execution_count": 125,
      "metadata": {
        "id": "CqLGPTtlu22k"
      },
      "outputs": [
        {
          "name": "stdout",
          "output_type": "stream",
          "text": [
            "tensor([[ 0,  1,  2,  3],\n",
            "        [ 4,  5,  6,  7],\n",
            "        [ 8,  9, 10, 11]]) <shape: torch.Size([3, 4])> <dtype: torch.int64>\n"
          ]
        }
      ],
      "source": [
        "a = torch.arange(12).reshape(3, 4)\n",
        "print_arr(a)"
      ]
    },
    {
      "cell_type": "code",
      "execution_count": 126,
      "metadata": {
        "id": "u2vHVDozvCag"
      },
      "outputs": [
        {
          "name": "stdout",
          "output_type": "stream",
          "text": [
            "tensor([4, 5, 6, 7]) <shape: torch.Size([4])> <dtype: torch.int64>\n"
          ]
        }
      ],
      "source": [
        "# Rank-1 view of the second row of a\n",
        "row_r1 = a[1, :]\n",
        "print_arr(row_r1)  # notice the size of the resulting tensor, which is now lower than the original tensor"
      ]
    },
    {
      "cell_type": "code",
      "execution_count": 127,
      "metadata": {
        "id": "CTsk6eG325Ib"
      },
      "outputs": [
        {
          "name": "stdout",
          "output_type": "stream",
          "text": [
            "tensor([[4, 5, 6, 7]]) <shape: torch.Size([1, 4])> <dtype: torch.int64>\n"
          ]
        }
      ],
      "source": [
        "# Rank-2 view of the second row of a\n",
        "row_r2 = a[1:2, :]\n",
        "print_arr(row_r2)"
      ]
    },
    {
      "cell_type": "code",
      "execution_count": 128,
      "metadata": {
        "id": "zUVPrn7l3A5j"
      },
      "outputs": [
        {
          "name": "stdout",
          "output_type": "stream",
          "text": [
            "tensor([[4, 5, 6, 7]]) <shape: torch.Size([1, 4])> <dtype: torch.int64>\n"
          ]
        }
      ],
      "source": [
        "# Rank-2 view of the second row of a\n",
        "row_r3 = a[[1], :]\n",
        "print_arr(row_r3)"
      ]
    },
    {
      "cell_type": "code",
      "execution_count": 129,
      "metadata": {
        "id": "TL0qs9Gw3Mfu"
      },
      "outputs": [
        {
          "name": "stdout",
          "output_type": "stream",
          "text": [
            "tensor([1, 5, 9]) <shape: torch.Size([3])> <dtype: torch.int64>\n",
            "tensor([[1],\n",
            "        [5],\n",
            "        [9]]) <shape: torch.Size([3, 1])> <dtype: torch.int64>\n"
          ]
        }
      ],
      "source": [
        "# Same with the columns\n",
        "print_arr(a[:, 1])\n",
        "print_arr(a[:, [1]])"
      ]
    },
    {
      "cell_type": "markdown",
      "metadata": {
        "id": "TjIcC1HqwvU1"
      },
      "source": [
        "#### 📖📖 **Slice Object**\n",
        "\n",
        "The **slice syntax** is just a shortand.\n",
        "\n",
        "In Python everything is an object, even a ``slice``.\n",
        "It is possible to explicitly create a ``Slice`` object and reuse it to **index multiple tensors in the same way**:\n",
        "\n",
        "\n",
        "\n"
      ]
    },
    {
      "cell_type": "code",
      "execution_count": 130,
      "metadata": {
        "id": "3D8qk7q0xUAb"
      },
      "outputs": [
        {
          "data": {
            "text/plain": [
              "slice(None, 3, None)"
            ]
          },
          "execution_count": 130,
          "metadata": {},
          "output_type": "execute_result"
        }
      ],
      "source": [
        "# The signature follows the same pattern as above: (begin, end, step)\n",
        "\n",
        "s1 = slice(3)  # equivalent to the slice [:3]\n",
        "s1"
      ]
    },
    {
      "cell_type": "code",
      "execution_count": 131,
      "metadata": {
        "id": "fMqp5ZCEp8uu"
      },
      "outputs": [
        {
          "data": {
            "text/plain": [
              "slice"
            ]
          },
          "execution_count": 131,
          "metadata": {},
          "output_type": "execute_result"
        }
      ],
      "source": [
        "type(s1)  # Slice is a python built-in type!"
      ]
    },
    {
      "cell_type": "code",
      "execution_count": 132,
      "metadata": {
        "id": "JIxqkduyp470"
      },
      "outputs": [
        {
          "name": "stdout",
          "output_type": "stream",
          "text": [
            "tensor([[ 0,  1,  2,  3],\n",
            "        [ 4,  5,  6,  7],\n",
            "        [ 8,  9, 10, 11]]) <shape: torch.Size([3, 4])> <dtype: torch.int64>\n",
            "\n",
            "tensor([[ 0,  1,  2,  3],\n",
            "        [ 4,  5,  6,  7],\n",
            "        [ 8,  9, 10, 11]]) <shape: torch.Size([3, 4])> <dtype: torch.int64>\n"
          ]
        }
      ],
      "source": [
        "out = a[s1]  # equivalent to a[:3]\n",
        "\n",
        "print_arr(a, out)"
      ]
    },
    {
      "cell_type": "code",
      "execution_count": 133,
      "metadata": {
        "id": "JWr9dLVqxziR"
      },
      "outputs": [
        {
          "data": {
            "text/plain": [
              "'thi'"
            ]
          },
          "execution_count": 133,
          "metadata": {},
          "output_type": "execute_result"
        }
      ],
      "source": [
        "mystring = 'this is just a string'\n",
        "mystring[s1]"
      ]
    },
    {
      "cell_type": "code",
      "execution_count": 134,
      "metadata": {
        "id": "RNehWUQn2t4H"
      },
      "outputs": [
        {
          "data": {
            "text/plain": [
              "'gnirts a tsuj si siht'"
            ]
          },
          "execution_count": 134,
          "metadata": {},
          "output_type": "execute_result"
        }
      ],
      "source": [
        "s2 = slice(None, None, -1)  # equivalent to [::-1]\n",
        "mystring[s2]"
      ]
    },
    {
      "cell_type": "code",
      "execution_count": 135,
      "metadata": {
        "id": "XvkH5XOCyJQx"
      },
      "outputs": [
        {
          "name": "stdout",
          "output_type": "stream",
          "text": [
            "Error: step must be greater than zero\n"
          ]
        }
      ],
      "source": [
        "try:\n",
        "  a[s2]  # PyTorch currently does not support negative steps\n",
        "except ValueError as e:\n",
        "  print('Error:', e)"
      ]
    },
    {
      "cell_type": "markdown",
      "metadata": {
        "id": "UUsBgzbl33Qc"
      },
      "source": [
        "#### 📖 **Integer array indexing**\n",
        "\n",
        "When we use slices (:), the resulting tensor view will always be a subarray of the original tensor.\n",
        "\n",
        "In contrast, if we index with integers only, we can construct arbitrary tensors using the data from another tensor."
      ]
    },
    {
      "cell_type": "code",
      "execution_count": 136,
      "metadata": {
        "id": "8yJ7eft44Shf"
      },
      "outputs": [
        {
          "name": "stdout",
          "output_type": "stream",
          "text": [
            "tensor([[1, 2],\n",
            "        [3, 4],\n",
            "        [5, 6]]) <shape: torch.Size([3, 2])> <dtype: torch.int64>\n"
          ]
        }
      ],
      "source": [
        "a = torch.arange(1, 7).reshape(3, 2)\n",
        "print_arr(a)"
      ]
    },
    {
      "cell_type": "code",
      "execution_count": 137,
      "metadata": {
        "id": "YDGTkvIQ4qaO"
      },
      "outputs": [
        {
          "name": "stdout",
          "output_type": "stream",
          "text": [
            "tensor([1, 4, 5]) <shape: torch.Size([3])> <dtype: torch.int64>\n"
          ]
        }
      ],
      "source": [
        "# Example of integer array indexing\n",
        "# The returned array will have shape (3,)\n",
        "b = a[[0, 1, 2], [0, 1, 0]]\n",
        "print_arr(b)"
      ]
    },
    {
      "cell_type": "code",
      "execution_count": 138,
      "metadata": {
        "id": "e8AjjBKF4nos"
      },
      "outputs": [
        {
          "name": "stdout",
          "output_type": "stream",
          "text": [
            "tensor([1, 4, 5]) <shape: torch.Size([3])> <dtype: torch.int64>\n"
          ]
        }
      ],
      "source": [
        "# The above is equivalent to:\n",
        "v1, v2, v3 = a[0, 0], a[1, 1], a[2, 0]\n",
        "b = torch.tensor([v1, v2, v3])\n",
        "print_arr(b)"
      ]
    },
    {
      "cell_type": "code",
      "execution_count": 139,
      "metadata": {
        "id": "WnVB223B5Nf9"
      },
      "outputs": [
        {
          "name": "stdout",
          "output_type": "stream",
          "text": [
            "tensor([2, 2]) <shape: torch.Size([2])> <dtype: torch.int64>\n",
            "tensor([2, 2]) <shape: torch.Size([2])> <dtype: torch.int64>\n"
          ]
        }
      ],
      "source": [
        "# You can re-use the same element of the source tensor multiple times!\n",
        "print_arr(a[[0, 0], [1, 1]])\n",
        "print_arr(torch.tensor([a[0, 1], a[0, 1]]))"
      ]
    },
    {
      "cell_type": "code",
      "execution_count": 140,
      "metadata": {
        "id": "NG8PUPue5ntQ"
      },
      "outputs": [
        {
          "data": {
            "text/plain": [
              "tensor([1, 1, 1])"
            ]
          },
          "execution_count": 140,
          "metadata": {},
          "output_type": "execute_result"
        }
      ],
      "source": [
        "# You can use another tensor to perform the indexing,\n",
        "# as long as they have dtype=torch.int64 (synonym for torch.long)\n",
        "i = torch.ones(3, dtype=torch.int64)\n",
        "i"
      ]
    },
    {
      "cell_type": "code",
      "execution_count": 141,
      "metadata": {
        "id": "yp--PCJN5uvA"
      },
      "outputs": [
        {
          "data": {
            "text/plain": [
              "tensor([0, 1, 0])"
            ]
          },
          "execution_count": 141,
          "metadata": {},
          "output_type": "execute_result"
        }
      ],
      "source": [
        "j = torch.tensor([0, 1, 0])\n",
        "j"
      ]
    },
    {
      "cell_type": "code",
      "execution_count": 142,
      "metadata": {
        "id": "RrlnZbw25w3H"
      },
      "outputs": [
        {
          "name": "stdout",
          "output_type": "stream",
          "text": [
            "tensor([[1, 2],\n",
            "        [3, 4],\n",
            "        [5, 6]]) <shape: torch.Size([3, 2])> <dtype: torch.int64>\n",
            "\n",
            "tensor([3, 4, 3]) <shape: torch.Size([3])> <dtype: torch.int64>\n"
          ]
        }
      ],
      "source": [
        "out = a[i, j]\n",
        "\n",
        "print_arr(a, out)"
      ]
    },
    {
      "cell_type": "markdown",
      "metadata": {
        "id": "gzr5hn34sjko"
      },
      "source": [
        "> **EXERCISE**\n",
        ">\n",
        "> Using a single assignment, change the elements of a tensor $X \\in \\mathbb{R}^{4 \\times 3}$ as follows:\n",
        ">\n",
        "> `X[0,2] = -1`\n",
        ">\n",
        "> `X[1,1] = 0`\n",
        ">\n",
        "> `X[2,0] = 1`\n",
        ">\n",
        "> `X[3,1] = 2`\n",
        "\n"
      ]
    },
    {
      "cell_type": "code",
      "execution_count": 143,
      "metadata": {
        "id": "F_3bZ5xHwmGb"
      },
      "outputs": [
        {
          "data": {
            "text/plain": [
              "tensor([[ 0,  1,  2],\n",
              "        [ 3,  4,  5],\n",
              "        [ 6,  7,  8],\n",
              "        [ 9, 10, 11]])"
            ]
          },
          "execution_count": 143,
          "metadata": {},
          "output_type": "execute_result"
        }
      ],
      "source": [
        "# Mutate one element from each row of a matrix\n",
        "a = torch.arange(12).reshape(4, 3)\n",
        "a"
      ]
    },
    {
      "cell_type": "code",
      "execution_count": 144,
      "metadata": {},
      "outputs": [],
      "source": [
        "a[[0, 1, 2, 3], [2, 1, 0, 1]] = torch.tensor([-1, 0, 1, 2])"
      ]
    },
    {
      "cell_type": "code",
      "execution_count": 145,
      "metadata": {
        "cellView": "form",
        "id": "A62V7F_PI_Cn"
      },
      "outputs": [
        {
          "data": {
            "text/plain": [
              "tensor([[ 0,  1, -1],\n",
              "        [ 3,  0,  5],\n",
              "        [ 1,  7,  8],\n",
              "        [ 9,  2, 11]])"
            ]
          },
          "execution_count": 145,
          "metadata": {},
          "output_type": "execute_result"
        }
      ],
      "source": [
        "# @title 👀 Solution\n",
        "\n",
        "\n",
        "a[[0, 1, 2, 3], [2, 1, 0, 1]] = torch.tensor([-1, 0, 1, 2])\n",
        "a"
      ]
    },
    {
      "cell_type": "markdown",
      "metadata": {
        "id": "544F9pAf-qRY"
      },
      "source": [
        "> ❌❌❌ **NOTE**\n",
        ">\n",
        "> **Slice indexing vs Array indexing**\n",
        ">\n",
        "> Be careful, since slice indexing and array indexing are different operations!"
      ]
    },
    {
      "cell_type": "code",
      "execution_count": 146,
      "metadata": {
        "id": "b-GYMhxA-tOY"
      },
      "outputs": [
        {
          "data": {
            "text/plain": [
              "tensor([[ 0,  1,  2,  3],\n",
              "        [ 4,  5,  6,  7],\n",
              "        [ 8,  9, 10, 11],\n",
              "        [12, 13, 14, 15]])"
            ]
          },
          "execution_count": 146,
          "metadata": {},
          "output_type": "execute_result"
        }
      ],
      "source": [
        "a = torch.arange(16).reshape(4, 4)\n",
        "a"
      ]
    },
    {
      "cell_type": "code",
      "execution_count": 147,
      "metadata": {
        "id": "Piy-JUdv-x0_"
      },
      "outputs": [
        {
          "data": {
            "text/plain": [
              "tensor([[ 0,  1,  2],\n",
              "        [ 4,  5,  6],\n",
              "        [ 8,  9, 10]])"
            ]
          },
          "execution_count": 147,
          "metadata": {},
          "output_type": "execute_result"
        }
      ],
      "source": [
        "a[0:3, 0:3]"
      ]
    },
    {
      "cell_type": "code",
      "execution_count": 148,
      "metadata": {
        "id": "fXJJAq9G-0rX"
      },
      "outputs": [
        {
          "data": {
            "text/plain": [
              "tensor([ 0,  5, 10])"
            ]
          },
          "execution_count": 148,
          "metadata": {},
          "output_type": "execute_result"
        }
      ],
      "source": [
        "a[[0, 1, 2], [0, 1, 2]]"
      ]
    },
    {
      "cell_type": "code",
      "execution_count": 149,
      "metadata": {
        "id": "OKjSW5ePxzLW"
      },
      "outputs": [
        {
          "data": {
            "text/plain": [
              "tensor([ 0,  5, 10])"
            ]
          },
          "execution_count": 149,
          "metadata": {},
          "output_type": "execute_result"
        }
      ],
      "source": [
        "a[torch.arange(0,3), torch.arange(0,3)]"
      ]
    },
    {
      "cell_type": "code",
      "execution_count": 150,
      "metadata": {
        "id": "hkmiQgQT_k82"
      },
      "outputs": [
        {
          "data": {
            "text/plain": [
              "tensor([[ 0,  2],\n",
              "        [ 8, 10]])"
            ]
          },
          "execution_count": 150,
          "metadata": {},
          "output_type": "execute_result"
        }
      ],
      "source": [
        "a[0:5:2, 0:5:2]"
      ]
    },
    {
      "cell_type": "code",
      "execution_count": 151,
      "metadata": {
        "id": "MUf_I1xjx8f9"
      },
      "outputs": [],
      "source": [
        "# With *slice indexing* you return a sub-tensor."
      ]
    },
    {
      "cell_type": "markdown",
      "metadata": {
        "id": "QVMo8E2W_wAw"
      },
      "source": [
        "#### **Boolean array indexing**\n",
        "\n",
        "This type of indexing is used to select the elements of a tensor that satisfy some condition (similar to MATLAB's logical indexing):"
      ]
    },
    {
      "cell_type": "code",
      "execution_count": 152,
      "metadata": {
        "id": "OFIFupWJAnI9"
      },
      "outputs": [
        {
          "data": {
            "text/plain": [
              "tensor([[0, 1],\n",
              "        [2, 3],\n",
              "        [4, 5]])"
            ]
          },
          "execution_count": 152,
          "metadata": {},
          "output_type": "execute_result"
        }
      ],
      "source": [
        "a = torch.arange(6).reshape(3, 2)\n",
        "a"
      ]
    },
    {
      "cell_type": "code",
      "execution_count": 153,
      "metadata": {
        "id": "jMaNbpVPAtMm"
      },
      "outputs": [
        {
          "data": {
            "text/plain": [
              "tensor([[False, False],\n",
              "        [False,  True],\n",
              "        [ True,  True]])"
            ]
          },
          "execution_count": 153,
          "metadata": {},
          "output_type": "execute_result"
        }
      ],
      "source": [
        "bool_idx = (a > 2)\n",
        "bool_idx"
      ]
    },
    {
      "cell_type": "code",
      "execution_count": 154,
      "metadata": {
        "id": "XbYWFo8TArod"
      },
      "outputs": [
        {
          "data": {
            "text/plain": [
              "tensor([3, 4, 5])"
            ]
          },
          "execution_count": 154,
          "metadata": {},
          "output_type": "execute_result"
        }
      ],
      "source": [
        "a[bool_idx]  # remember that NumPy and PyTorch unroll row-wise and not column-wise like Matlab"
      ]
    },
    {
      "cell_type": "markdown",
      "metadata": {
        "id": "kzVyXjJgBMKa"
      },
      "source": [
        "If you want to know more about indexing in PyTorch and Numpy read the [docs](https://numpy.org/doc/stable/user/basics.indexing.html#basics-indexing)"
      ]
    },
    {
      "cell_type": "markdown",
      "metadata": {
        "id": "cZUsTLVGPXmc"
      },
      "source": [
        "##### 📖📖 **Graph use case**\n",
        "\n",
        "Suppose you have a weighted adjacency matrix for a directed graph. We want to obtain a list of edges with weight greater than 0.5.\n",
        "\n",
        "How can we do that?\n",
        "\n",
        "\n",
        "\n"
      ]
    },
    {
      "cell_type": "code",
      "execution_count": 169,
      "metadata": {
        "id": "zReQ6XJdQHfY"
      },
      "outputs": [
        {
          "data": {
            "text/plain": [
              "tensor([[0.0000, 0.9527, 0.0362, 0.0000, 0.3734],\n",
              "        [0.3051, 0.9320, 0.1759, 0.2698, 0.1507],\n",
              "        [0.0317, 0.2081, 0.0000, 0.7231, 0.7423],\n",
              "        [0.0000, 0.2437, 0.5846, 0.0000, 0.1387],\n",
              "        [0.2422, 0.8155, 0.7932, 0.2783, 0.0000]])"
            ]
          },
          "execution_count": 169,
          "metadata": {},
          "output_type": "execute_result"
        }
      ],
      "source": [
        "# Set the random seed\n",
        "torch.manual_seed(0)\n",
        "\n",
        "# Let's define a random adjacency\n",
        "a = torch.randint(2, (5, 5)).bool()\n",
        "adj_matrix = ((a + a.T) > 0.5) * torch.rand_like(a, dtype=torch.float)\n",
        "adj_matrix"
      ]
    },
    {
      "cell_type": "code",
      "execution_count": 170,
      "metadata": {
        "id": "dmHUoUUBP7AU"
      },
      "outputs": [
        {
          "data": {
            "text/plain": [
              "tensor([[0, 1],\n",
              "        [1, 1],\n",
              "        [2, 3],\n",
              "        [2, 4],\n",
              "        [3, 2],\n",
              "        [4, 1],\n",
              "        [4, 2]])"
            ]
          },
          "execution_count": 170,
          "metadata": {},
          "output_type": "execute_result"
        }
      ],
      "source": [
        "# The list of edges\n",
        "(adj_matrix > 0.5).nonzero()"
      ]
    },
    {
      "cell_type": "code",
      "execution_count": 171,
      "metadata": {
        "id": "6zyU9SBOR-JQ"
      },
      "outputs": [
        {
          "data": {
            "text/plain": [
              "tensor([0.9527, 0.9320, 0.7231, 0.7423, 0.5846, 0.8155, 0.7932])"
            ]
          },
          "execution_count": 171,
          "metadata": {},
          "output_type": "execute_result"
        }
      ],
      "source": [
        "# The asssociated weights for each edge\n",
        "adj_matrix[adj_matrix > 0.5]"
      ]
    },
    {
      "cell_type": "markdown",
      "metadata": {
        "id": "mSAHCIYePoB5"
      },
      "source": [
        "### Exercises"
      ]
    },
    {
      "cell_type": "markdown",
      "metadata": {
        "id": "fbUID2DlLuhq"
      },
      "source": [
        "> **EXERCISE**\n",
        ">\n",
        "> Build a 3D tensor in $X \\in \\mathbb{R}^{3 \\times 3 \\times 3}$ that has ones along the 3D-diagonal and zeros elsewhere, i.e. a 3D identity."
      ]
    },
    {
      "cell_type": "code",
      "execution_count": 177,
      "metadata": {
        "id": "trx7jDTuLe2D"
      },
      "outputs": [
        {
          "data": {
            "text/plain": [
              "tensor([[[1., 0., 0.],\n",
              "         [0., 0., 0.],\n",
              "         [0., 0., 0.]],\n",
              "\n",
              "        [[0., 0., 0.],\n",
              "         [0., 1., 0.],\n",
              "         [0., 0., 0.]],\n",
              "\n",
              "        [[0., 0., 0.],\n",
              "         [0., 0., 0.],\n",
              "         [0., 0., 1.]]])"
            ]
          },
          "execution_count": 177,
          "metadata": {},
          "output_type": "execute_result"
        }
      ],
      "source": [
        "# Write here your solution\n",
        "X = torch.zeros((3, 3, 3))\n",
        "X[[0, 1, 2], [0, 1, 2], [0, 1, 2]] = 1\n",
        "X"
      ]
    },
    {
      "cell_type": "code",
      "execution_count": 178,
      "metadata": {
        "cellView": "form",
        "id": "G2lUX3SbLS3W"
      },
      "outputs": [
        {
          "data": {
            "text/plain": [
              "tensor([[[1., 0., 0.],\n",
              "         [0., 0., 0.],\n",
              "         [0., 0., 0.]],\n",
              "\n",
              "        [[0., 0., 0.],\n",
              "         [0., 1., 0.],\n",
              "         [0., 0., 0.]],\n",
              "\n",
              "        [[0., 0., 0.],\n",
              "         [0., 0., 0.],\n",
              "         [0., 0., 1.]]])"
            ]
          },
          "execution_count": 178,
          "metadata": {},
          "output_type": "execute_result"
        }
      ],
      "source": [
        "# @title 👀 Solution\n",
        "\n",
        "\n",
        "X = torch.zeros(3, 3, 3)\n",
        "X[torch.arange(3), torch.arange(3), torch.arange(3)] = 1\n",
        "X"
      ]
    },
    {
      "cell_type": "markdown",
      "metadata": {
        "id": "5uLHb9jWM0jM"
      },
      "source": [
        "> **EXERCISE**\n",
        ">\n",
        "> You are given a 3D tensor $X \\in \\mathbb{R}^{w \\times h \\times 3}$ representing a $w \\times h$ image with `(r, g, b)` color channels. Assume that colors take values in $[0, 1]$.\n",
        ">\n",
        "> Color the image $X$ completely by red, i.e. `(1, 0, 0)` in the `(r, g, b)` format."
      ]
    },
    {
      "cell_type": "code",
      "execution_count": 179,
      "metadata": {
        "id": "g_HG8I5zNnpJ"
      },
      "outputs": [
        {
          "data": {
            "image/png": "[encoded data removed]",
            "text/plain": [
              "<Figure size 640x480 with 1 Axes>"
            ]
          },
          "metadata": {},
          "output_type": "display_data"
        }
      ],
      "source": [
        "# Create and visualize a black image\n",
        "x = torch.zeros(100, 200, 3)\n",
        "\n",
        "%matplotlib inline\n",
        "import matplotlib.pyplot as plt\n",
        "img = plt.imshow(x)"
      ]
    },
    {
      "cell_type": "code",
      "execution_count": 180,
      "metadata": {
        "id": "gqqm2zZUybB7"
      },
      "outputs": [],
      "source": [
        "# Write here your solution\n",
        "x[:, :, 0] = 1"
      ]
    },
    {
      "cell_type": "code",
      "execution_count": 181,
      "metadata": {
        "cellView": "form",
        "id": "Iu4XPwmkNEtg"
      },
      "outputs": [
        {
          "data": {
            "image/png": "[encoded data removed]",
            "text/plain": [
              "<Figure size 640x480 with 1 Axes>"
            ]
          },
          "metadata": {},
          "output_type": "display_data"
        }
      ],
      "source": [
        "# @title 👀 Solution\n",
        "\n",
        "\n",
        "x[:, :, 0] = 1\n",
        "img = plt.imshow(x)"
      ]
    },
    {
      "cell_type": "markdown",
      "metadata": {
        "id": "ps_j8BUcQmWu"
      },
      "source": [
        "> **EXERCISE**\n",
        ">\n",
        "> You are given the GitHub logo $X \\in \\mathbb{R}^{560 \\times 560}$.  Assume the logo is in gray scale, with the color $c \\in [0, 1]$ (remember 0 $\\to$ black).\n",
        ">\n",
        "> 1. Change the black-ish color into light gray: $0.8$.\n",
        "> 2. Then draw a diagonal and anti-diagonal black line (i.e. an X) on the new image, to mark that the new logo is wrong."
      ]
    },
    {
      "cell_type": "code",
      "execution_count": 183,
      "metadata": {
        "id": "X0082ZNOP-EK"
      },
      "outputs": [
        {
          "data": {
            "image/png": "[encoded data removed]",
            "text/plain": [
              "<Figure size 640x480 with 1 Axes>"
            ]
          },
          "metadata": {},
          "output_type": "display_data"
        }
      ],
      "source": [
        "from skimage import io\n",
        "\n",
        "image = io.imread('https://github.githubassets.com/images/modules/logos_page/GitHub-Mark.png', as_gray=True)\n",
        "_ = plt.imshow(image, cmap='gray', vmin=0, vmax=1)"
      ]
    },
    {
      "cell_type": "code",
      "execution_count": 193,
      "metadata": {
        "id": "thBZCe_3QyxM"
      },
      "outputs": [
        {
          "data": {
            "image/png": "[encoded data removed]",
            "text/plain": [
              "<Figure size 640x480 with 1 Axes>"
            ]
          },
          "metadata": {},
          "output_type": "display_data"
        }
      ],
      "source": [
        "# Change the black into light-gray\n",
        "X = torch.from_numpy(image.copy())  # PyTorch CPU and Numpy share the memory!\n",
        "\n",
        "X[(X < 1)] = 0.8\n",
        "\n",
        "_ = plt.imshow(X, cmap='gray', vmin=0, vmax=1)"
      ]
    },
    {
      "cell_type": "code",
      "execution_count": 194,
      "metadata": {
        "id": "DvjjGYmkX8m7"
      },
      "outputs": [
        {
          "data": {
            "image/png": "[encoded data removed]",
            "text/plain": [
              "<Figure size 640x480 with 1 Axes>"
            ]
          },
          "metadata": {},
          "output_type": "display_data"
        }
      ],
      "source": [
        "# # Mark the new image as wrong with a big black X\n",
        "\n",
        "X[torch.arange(560), torch.arange(560)] = 0 # \n",
        "X[[x for x in range(560)][::-1], torch.arange(560)] = 0\n",
        "\n",
        "_ = plt.imshow(X, cmap='gray', vmin=0, vmax=1)"
      ]
    },
    {
      "cell_type": "code",
      "execution_count": 195,
      "metadata": {
        "cellView": "form",
        "id": "IRYlOz1CO6qZ"
      },
      "outputs": [
        {
          "data": {
            "image/png": "[encoded data removed]",
            "text/plain": [
              "<Figure size 640x480 with 1 Axes>"
            ]
          },
          "metadata": {},
          "output_type": "display_data"
        }
      ],
      "source": [
        "# @title 👀 Solution\n",
        "\n",
        "\n",
        "X[X < 1] = 0.8\n",
        "X[torch.arange(X.shape[0]), torch.arange(X.shape[1])] = 0\n",
        "X[torch.arange(X.shape[0] - 1, -1, -1), torch.arange(X.shape[1])] = 0\n",
        "\n",
        "_ = plt.imshow(X, cmap='gray', vmin=0, vmax=1)"
      ]
    }
  ],
  "metadata": {
    "accelerator": "GPU",
    "colab": {
      "collapsed_sections": [
        "i51GvUnwSc0U"
      ],
      "gpuType": "T4",
      "provenance": [],
      "toc_visible": true
    },
    "kernelspec": {
      "display_name": "datas",
      "language": "python",
      "name": "python3"
    },
    "language_info": {
      "codemirror_mode": {
        "name": "ipython",
        "version": 3
      },
      "file_extension": ".py",
      "mimetype": "text/x-python",
      "name": "python",
      "nbconvert_exporter": "python",
      "pygments_lexer": "ipython3",
      "version": "3.10.13"
    }
  },
  "nbformat": 4,
  "nbformat_minor": 0
}
