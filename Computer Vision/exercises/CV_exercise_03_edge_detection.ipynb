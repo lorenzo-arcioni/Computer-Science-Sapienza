{
 "cells": [
  {
   "cell_type": "code",
   "execution_count": 3,
   "metadata": {},
   "outputs": [
    {
     "data": {
      "application/vnd.jupyter.widget-view+json": {
       "model_id": "025de55d425b4aadae6e0b2e40d0e4b3",
       "version_major": 2,
       "version_minor": 0
      },
      "text/plain": [
       "interactive(children=(IntSlider(value=100, description='Low Threshold', max=255), IntSlider(value=150, descrip…"
      ]
     },
     "metadata": {},
     "output_type": "display_data"
    },
    {
     "data": {
      "text/plain": [
       "<function __main__.update_edges(low_threshold, high_threshold)>"
      ]
     },
     "execution_count": 3,
     "metadata": {},
     "output_type": "execute_result"
    }
   ],
   "source": [
    "import numpy as np\n",
    "import cv2 as cv\n",
    "from matplotlib import pyplot as plt\n",
    "from ipywidgets import interact, IntSlider\n",
    "import ipywidgets as widgets\n",
    "\n",
    "# Caricamento dell'immagine in scala di grigi\n",
    "img = cv.imread('./images/messi.jpg', cv.IMREAD_GRAYSCALE)\n",
    "assert img is not None, \"file could not be read, check with os.path.exists()\"\n",
    "\n",
    "# Funzione che aggiorna l'immagine con i nuovi valori di soglia\n",
    "def update_edges(low_threshold, high_threshold):\n",
    "    edges = cv.Canny(img, low_threshold, high_threshold)\n",
    "\n",
    "    # Visualizza l'immagine originale e l'immagine con rilevamento dei bordi\n",
    "    plt.figure(figsize=(18,10))\n",
    "    plt.subplot(121),plt.imshow(img, cmap='gray')\n",
    "    plt.title('Original Image'), plt.xticks([]), plt.yticks([])\n",
    "    plt.subplot(122),plt.imshow(edges, cmap='gray')\n",
    "    plt.title('Edge Image'), plt.xticks([]), plt.yticks([])\n",
    "    plt.show()\n",
    "\n",
    "# Definizione degli slider per low_threshold e high_threshold\n",
    "low_threshold_slider = IntSlider(min=0, max=255, value=100, description='Low Threshold')\n",
    "high_threshold_slider = IntSlider(min=0, max=255, value=150, description='High Threshold')\n",
    "\n",
    "# Interazione con gli slider\n",
    "interact(update_edges, low_threshold=low_threshold_slider, high_threshold=high_threshold_slider)"
   ]
  },
  {
   "cell_type": "code",
   "execution_count": 2,
   "metadata": {},
   "outputs": [
    {
     "data": {
      "application/vnd.jupyter.widget-view+json": {
       "model_id": "baaa086b6fff467290ca7dc6c3093e82",
       "version_major": 2,
       "version_minor": 0
      },
      "text/plain": [
       "interactive(children=(IntSlider(value=100, description='Low Threshold', max=255), IntSlider(value=150, descrip…"
      ]
     },
     "metadata": {},
     "output_type": "display_data"
    }
   ],
   "source": [
    "# Caricamento dell'immagine in scala di grigi\n",
    "img = cv.imread('./images/colosseum.jpg', cv.IMREAD_GRAYSCALE)\n",
    "assert img is not None, \"file could not be read, check with os.path.exists()\"\n",
    "\n",
    "# Funzione che aggiorna l'immagine con i nuovi valori di soglia e apertura\n",
    "def update_edges(low_threshold, high_threshold, aperture_size):\n",
    "    # L'apertura deve essere un intero dispari, ecco perché controllo che sia dispari\n",
    "    if aperture_size % 2 == 0:\n",
    "        aperture_size += 1\n",
    "\n",
    "    # Applicazione del rilevamento dei bordi di Canny con i nuovi parametri\n",
    "    edges = cv.Canny(img, low_threshold, high_threshold, apertureSize=aperture_size)\n",
    "\n",
    "    # Visualizza l'immagine originale e l'immagine con rilevamento dei bordi\n",
    "    plt.figure(figsize=(18,10))\n",
    "    plt.subplot(121),plt.imshow(img, cmap='gray')\n",
    "    plt.title('Original Image'), plt.xticks([]), plt.yticks([])\n",
    "    plt.subplot(122),plt.imshow(edges, cmap='gray')\n",
    "    plt.title('Edge Image'), plt.xticks([]), plt.yticks([])\n",
    "    plt.show()\n",
    "\n",
    "# Definizione degli slider per low_threshold, high_threshold e aperture_size\n",
    "low_threshold_slider = IntSlider(min=0, max=255, value=100, description='Low Threshold')\n",
    "high_threshold_slider = IntSlider(min=0, max=255, value=150, description='High Threshold')\n",
    "aperture_slider = IntSlider(min=3, max=7, step=1, value=3, description='Aperture Size')\n",
    "\n",
    "# Interazione con gli slider\n",
    "interact(update_edges, low_threshold=low_threshold_slider, high_threshold=high_threshold_slider, aperture_size=aperture_slider);"
   ]
  },
  {
   "cell_type": "code",
   "execution_count": null,
   "metadata": {},
   "outputs": [],
   "source": []
  }
 ],
 "metadata": {
  "kernelspec": {
   "display_name": "datas",
   "language": "python",
   "name": "python3"
  },
  "language_info": {
   "codemirror_mode": {
    "name": "ipython",
    "version": 3
   },
   "file_extension": ".py",
   "mimetype": "text/x-python",
   "name": "python",
   "nbconvert_exporter": "python",
   "pygments_lexer": "ipython3",
   "version": "3.10.13"
  }
 },
 "nbformat": 4,
 "nbformat_minor": 2
}
