{
 "cells": [
  {
   "cell_type": "code",
   "execution_count": 1,
   "id": "31db7dee",
   "metadata": {},
   "outputs": [
    {
     "name": "stderr",
     "output_type": "stream",
     "text": [
      "\u001b[34m\u001b[1mwandb\u001b[0m: Currently logged in as: \u001b[33mlorenzo-arcioni\u001b[0m to \u001b[32mhttps://api.wandb.ai\u001b[0m. Use \u001b[1m`wandb login --relogin`\u001b[0m to force relogin\n"
     ]
    }
   ],
   "source": [
    "import wandb\n",
    "from wandb import Api\n",
    "import pandas as pd\n",
    "import os\n",
    "import shutil\n",
    "\n",
    "# === CONFIGURAZIONE ===\n",
    "sweeps_mapping = {\n",
    "    '1pz0pzhq':'prova'# \"7ovklbta\" : \"YOLOv11s\", # Sweep Bayesian\n",
    "    # \"4q1q0ld1\" : \"YOLOv11s\", # Sweep with the initial run\n",
    "    # \"7e7521i8\": \"YOLOv11n\",  # Sweep Bayesian\n",
    "    # \"so0hcj67\": \"YOLOv11n\",  # Sweep with the initial run \n",
    "\n",
    "}\n",
    "\n",
    "ENTITY = \"pothole-detector\"\n",
    "PROJECT = \"pothole-detector-NatureSR\"\n",
    "\n",
    "# === LOGIN ===\n",
    "wandb.login()\n",
    "\n",
    "# === SETUP ===\n",
    "api = Api()"
   ]
  },
  {
   "cell_type": "code",
   "execution_count": 3,
   "id": "4ab7db60",
   "metadata": {},
   "outputs": [
    {
     "name": "stdout",
     "output_type": "stream",
     "text": [
      "\n",
      "📦 Sweep 1pz0pzhq → output in 'results/prova'\n",
      "🔍 Trovati 1 run\n",
      "🔄 Analizzo run: floral-sweep-1\n",
      "   ⚙️ Config salvato: configs/floral-sweep-1_jq1dew78_config.yaml\n",
      "   📁 Trovati 8 artifacts\n",
      "   🔍 Artifact validazione: fold0_results:v0\n"
     ]
    },
    {
     "name": "stderr",
     "output_type": "stream",
     "text": [
      "\u001b[34m\u001b[1mwandb\u001b[0m:   1 of 1 files downloaded.  \n"
     ]
    },
    {
     "name": "stdout",
     "output_type": "stream",
     "text": [
      "   ⬇️ Scaricato in: /home/lorenzo/Documenti/GitHub/Computer-Science-Sapienza/Computer Vision/project/artifacts/fold0_results:v0\n",
      "   ✅ Salvato: results/prova/val/floral-sweep-1_jq1dew78_fold0_results_v0_results.pt\n",
      "   🔍 Artifact validazione: fold1_results:v0\n"
     ]
    },
    {
     "name": "stderr",
     "output_type": "stream",
     "text": [
      "\u001b[34m\u001b[1mwandb\u001b[0m:   1 of 1 files downloaded.  \n"
     ]
    },
    {
     "name": "stdout",
     "output_type": "stream",
     "text": [
      "   ⬇️ Scaricato in: /home/lorenzo/Documenti/GitHub/Computer-Science-Sapienza/Computer Vision/project/artifacts/fold1_results:v0\n",
      "   ✅ Salvato: results/prova/val/floral-sweep-1_jq1dew78_fold1_results_v0_results.pt\n",
      "   🔍 Artifact training: fold0_log:v163\n"
     ]
    },
    {
     "name": "stderr",
     "output_type": "stream",
     "text": [
      "\u001b[34m\u001b[1mwandb\u001b[0m:   1 of 1 files downloaded.  \n"
     ]
    },
    {
     "name": "stdout",
     "output_type": "stream",
     "text": [
      "   ⬇️ Scaricato in: /home/lorenzo/Documenti/GitHub/Computer-Science-Sapienza/Computer Vision/project/artifacts/fold0_log:v163\n",
      "   ✅ Salvato: results/prova/train/floral-sweep-1_jq1dew78_fold0_log_v163_results.csv\n",
      "   🔍 Artifact training: fold1_log:v166\n"
     ]
    },
    {
     "name": "stderr",
     "output_type": "stream",
     "text": [
      "\u001b[34m\u001b[1mwandb\u001b[0m:   1 of 1 files downloaded.  \n"
     ]
    },
    {
     "name": "stdout",
     "output_type": "stream",
     "text": [
      "   ⬇️ Scaricato in: /home/lorenzo/Documenti/GitHub/Computer-Science-Sapienza/Computer Vision/project/artifacts/fold1_log:v166\n",
      "   ✅ Salvato: results/prova/train/floral-sweep-1_jq1dew78_fold1_log_v166_results.csv\n",
      "   🔍 Artifact validazione: fold2_results:v0\n"
     ]
    },
    {
     "name": "stderr",
     "output_type": "stream",
     "text": [
      "\u001b[34m\u001b[1mwandb\u001b[0m:   1 of 1 files downloaded.  \n"
     ]
    },
    {
     "name": "stdout",
     "output_type": "stream",
     "text": [
      "   ⬇️ Scaricato in: /home/lorenzo/Documenti/GitHub/Computer-Science-Sapienza/Computer Vision/project/artifacts/fold2_results:v0\n",
      "   ✅ Salvato: results/prova/val/floral-sweep-1_jq1dew78_fold2_results_v0_results.pt\n",
      "   🔍 Artifact training: fold2_log:v167\n"
     ]
    },
    {
     "name": "stderr",
     "output_type": "stream",
     "text": [
      "\u001b[34m\u001b[1mwandb\u001b[0m:   1 of 1 files downloaded.  \n"
     ]
    },
    {
     "name": "stdout",
     "output_type": "stream",
     "text": [
      "   ⬇️ Scaricato in: /home/lorenzo/Documenti/GitHub/Computer-Science-Sapienza/Computer Vision/project/artifacts/fold2_log:v167\n",
      "   ✅ Salvato: results/prova/train/floral-sweep-1_jq1dew78_fold2_log_v167_results.csv\n",
      "   🔍 Artifact validazione: fold3_results:v0\n"
     ]
    },
    {
     "name": "stderr",
     "output_type": "stream",
     "text": [
      "\u001b[34m\u001b[1mwandb\u001b[0m:   1 of 1 files downloaded.  \n"
     ]
    },
    {
     "name": "stdout",
     "output_type": "stream",
     "text": [
      "   ⬇️ Scaricato in: /home/lorenzo/Documenti/GitHub/Computer-Science-Sapienza/Computer Vision/project/artifacts/fold3_results:v0\n",
      "   ✅ Salvato: results/prova/val/floral-sweep-1_jq1dew78_fold3_results_v0_results.pt\n",
      "   🔍 Artifact training: fold3_log:v167\n"
     ]
    },
    {
     "name": "stderr",
     "output_type": "stream",
     "text": [
      "\u001b[34m\u001b[1mwandb\u001b[0m:   1 of 1 files downloaded.  \n"
     ]
    },
    {
     "name": "stdout",
     "output_type": "stream",
     "text": [
      "   ⬇️ Scaricato in: /home/lorenzo/Documenti/GitHub/Computer-Science-Sapienza/Computer Vision/project/artifacts/fold3_log:v167\n",
      "   ✅ Salvato: results/prova/train/floral-sweep-1_jq1dew78_fold3_log_v167_results.csv\n",
      "   🎉 Trovati 8 file\n",
      "\n",
      "🏁 Download completato!\n"
     ]
    }
   ],
   "source": [
    "# === ESTRAZIONE DEI DATI ===\n",
    "all_runs_data = []\n",
    "\n",
    "summary_useful = [\n",
    "    'lr/pg0', \n",
    "    'lr/pg1', \n",
    "    'lr/pg2', \n",
    "    'metrics/mAP50(B)', \n",
    "    'metrics/mAP50-95(B)', \n",
    "    'metrics/precision(B)', \n",
    "    'metrics/recall(B)', \n",
    "    'model/GFLOPs', \n",
    "    'model/parameters', \n",
    "    'model/speed_PyTorch(ms)', \n",
    "    'train/box_loss', \n",
    "    'train/cls_loss', \n",
    "    'train/dfl_loss',\n",
    "    'val/box_loss',\n",
    "    'val/cls_loss', \n",
    "    'val/dfl_loss',\n",
    "]\n",
    "\n",
    "# === Creiamo il dizionario con tutte le cartelle di ogni sweep ===\n",
    "OUTPUT_DIR = {sweep_id: f\"results/{name}\" for sweep_id, name in sweeps_mapping.items()}\n",
    "\n",
    "# === Creiamo la cartella per le configs ===\n",
    "CONFIG_DIR = \"configs\"\n",
    "os.makedirs(CONFIG_DIR, exist_ok=True)\n",
    "\n",
    "# Funzione per scaricare un artifact e copiare i file che rispettano la condizione\n",
    "def process_artifact(artifact, run_name, run_id, dest_dir, file_check, suffix):\n",
    "    \"\"\"Scarica un artifact e copia i file che rispettano la condizione `file_check`.\"\"\"\n",
    "    try:\n",
    "        artifact_dir = artifact.download()\n",
    "        print(f\"   ⬇️ Scaricato in: {artifact_dir}\")\n",
    "\n",
    "        found_files = []\n",
    "        for root, _, files in os.walk(artifact_dir):\n",
    "            for file in files:\n",
    "                if file_check(file):  # condizione personalizzata\n",
    "                    src = os.path.join(root, file)\n",
    "                    artifact_name_clean = artifact.name.replace(\":\", \"_\").replace(\"/\", \"_\")\n",
    "                    out_name = f\"{run_name}_{run_id}_{artifact_name_clean}{suffix}\"\n",
    "                    dst = os.path.join(dest_dir, out_name)\n",
    "                    shutil.copy(src, dst)\n",
    "                    print(f\"   ✅ Salvato: {dst}\")\n",
    "                    found_files.append(dst)\n",
    "        return found_files\n",
    "\n",
    "    except Exception as e:\n",
    "        print(f\"   ❌ Errore scaricando artifact {artifact.name}: {e}\")\n",
    "        return []\n",
    "\n",
    "# === CICLO SU TUTTI GLI SWEEP ===\n",
    "for sweep_id in sweeps_mapping:\n",
    "    out_dir = OUTPUT_DIR[sweep_id]\n",
    "    train_dir, val_dir = [os.path.join(out_dir, d) for d in (\"train\", \"val\")]\n",
    "    for d in (out_dir, train_dir, val_dir):\n",
    "        os.makedirs(d, exist_ok=True)\n",
    "\n",
    "    print(f\"\\n📦 Sweep {sweep_id} → output in '{out_dir}'\")\n",
    "\n",
    "    try:\n",
    "        sweep = api.sweep(f\"{ENTITY}/{PROJECT}/{sweep_id}\")\n",
    "        runs = sweep.runs\n",
    "        print(f\"🔍 Trovati {len(runs)} run\")\n",
    "\n",
    "        for run in runs:\n",
    "            run_id, run_name = run.id, run.name or run.id\n",
    "            print(f\"🔄 Analizzo run: {run_name}\")\n",
    "\n",
    "            # Scarica config.yaml se esiste\n",
    "            try:\n",
    "                if any(f.name == \"config.yaml\" for f in run.files()):\n",
    "                    cfg_file = run.file(\"config.yaml\")\n",
    "                    cfg_path = os.path.join(CONFIG_DIR, f\"{run_name}_{run_id}_config.yaml\")\n",
    "                    cfg_file.download(CONFIG_DIR, replace=True)\n",
    "                    downloaded = os.path.join(CONFIG_DIR, \"config.yaml\")\n",
    "                    if os.path.exists(downloaded):\n",
    "                        os.rename(downloaded, cfg_path)\n",
    "                    print(f\"   ⚙️ Config salvato: {cfg_path}\")\n",
    "                else:\n",
    "                    print(\"   ⚠️ Nessun config.yaml trovato per questo run\")\n",
    "            except Exception as e:\n",
    "                print(f\"   ❌ Errore scaricando config.yaml: {e}\")\n",
    "\n",
    "            # Ciclo artifacts\n",
    "            found_files = []\n",
    "            artifacts = run.logged_artifacts()\n",
    "            print(f\"   📁 Trovati {len(artifacts)} artifacts\")\n",
    "\n",
    "            for artifact in artifacts:\n",
    "                base_name = artifact.name.split(':')[0]\n",
    "\n",
    "                if base_name.endswith('_log'):\n",
    "                    print(f\"   🔍 Artifact training: {artifact.name}\")\n",
    "                    found_files += process_artifact(\n",
    "                        artifact, run_name, run_id, train_dir,\n",
    "                        lambda f: f == \"results.csv\", suffix=\"_results.csv\"\n",
    "                    )\n",
    "\n",
    "                elif base_name.endswith('_results'):\n",
    "                    print(f\"   🔍 Artifact validazione: {artifact.name}\")\n",
    "                    found_files += process_artifact(\n",
    "                        artifact, run_name, run_id, val_dir,\n",
    "                        lambda f: f.endswith(\"_results.pt\"), suffix=\"_results.pt\"\n",
    "                    )\n",
    "\n",
    "            if not found_files:\n",
    "                print(\"   ⚠️ Nessun file di risultati trovato.\")\n",
    "            else:\n",
    "                print(f\"   🎉 Trovati {len(found_files)} file\")\n",
    "\n",
    "    except Exception as e:\n",
    "        print(f\"❌ Errore nello sweep {sweep_id}: {e}\")\n",
    "\n",
    "print(\"\\n🏁 Download completato!\")"
   ]
  },
  {
   "cell_type": "code",
   "execution_count": null,
   "id": "89067c91",
   "metadata": {},
   "outputs": [],
   "source": []
  }
 ],
 "metadata": {
  "kernelspec": {
   "display_name": "datas",
   "language": "python",
   "name": "python3"
  },
  "language_info": {
   "codemirror_mode": {
    "name": "ipython",
    "version": 3
   },
   "file_extension": ".py",
   "mimetype": "text/x-python",
   "name": "python",
   "nbconvert_exporter": "python",
   "pygments_lexer": "ipython3",
   "version": "3.10.13"
  }
 },
 "nbformat": 4,
 "nbformat_minor": 5
}
