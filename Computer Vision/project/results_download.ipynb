{
 "cells": [
  {
   "cell_type": "code",
   "execution_count": 1,
   "id": "31db7dee",
   "metadata": {},
   "outputs": [
    {
     "name": "stderr",
     "output_type": "stream",
     "text": [
      "\u001b[34m\u001b[1mwandb\u001b[0m: Currently logged in as: \u001b[33mlorenzo-arcioni\u001b[0m to \u001b[32mhttps://api.wandb.ai\u001b[0m. Use \u001b[1m`wandb login --relogin`\u001b[0m to force relogin\n"
     ]
    }
   ],
   "source": [
    "import wandb\n",
    "from wandb import Api\n",
    "import pandas as pd\n",
    "import os\n",
    "import shutil\n",
    "\n",
    "# === CONFIGURAZIONE ===\n",
    "sweeps_mapping = {\n",
    "    #'9b6kmt2s':'prova'\n",
    "    \"7ovklbta\" : \"YOLOv11s\", # Sweep Bayesian\n",
    "    \"4q1q0ld1\" : \"YOLOv11s\", # Sweep with the initial run\n",
    "    \"7e7521i8\": \"YOLOv11n\",  # Sweep Bayesian\n",
    "    \"so0hcj67\": \"YOLOv11n\",  # Sweep with the initial run \n",
    "}\n",
    "\n",
    "ENTITY = \"pothole-detector\"\n",
    "PROJECT = \"pothole-detector-NatureSR\"\n",
    "\n",
    "# === LOGIN ===\n",
    "wandb.login()\n",
    "\n",
    "# === SETUP ===\n",
    "api = Api()"
   ]
  },
  {
   "cell_type": "code",
   "execution_count": 2,
   "id": "4ab7db60",
   "metadata": {},
   "outputs": [
    {
     "name": "stdout",
     "output_type": "stream",
     "text": [
      "\n",
      "📦 Sweep 7ovklbta → output in 'results/YOLOv11s'\n",
      "🔍 Trovati 59 run\n",
      "🔄 Analizzo run: frosty-sweep-60\n",
      "   ⚙️ Config salvato: configs/frosty-sweep-60_vo45708b_config.yaml\n",
      "   📁 Trovati 5 artifacts\n",
      "   🔍 Artifact training: fold0_log:v159\n"
     ]
    },
    {
     "name": "stderr",
     "output_type": "stream",
     "text": [
      "\u001b[34m\u001b[1mwandb\u001b[0m:   1 of 1 files downloaded.  \n"
     ]
    },
    {
     "name": "stdout",
     "output_type": "stream",
     "text": [
      "   ⬇️ Scaricato in: /home/lorenzo/Documenti/GitHub/Computer-Science-Sapienza/Computer Vision/project/artifacts/fold0_log:v159\n",
      "   ✅ Salvato: results/YOLOv11s/train/frosty-sweep-60_vo45708b_fold0_log_v159_results.csv\n",
      "   🔍 Artifact training: fold1_log:v162\n"
     ]
    },
    {
     "name": "stderr",
     "output_type": "stream",
     "text": [
      "\u001b[34m\u001b[1mwandb\u001b[0m:   1 of 1 files downloaded.  \n"
     ]
    },
    {
     "name": "stdout",
     "output_type": "stream",
     "text": [
      "   ⬇️ Scaricato in: /home/lorenzo/Documenti/GitHub/Computer-Science-Sapienza/Computer Vision/project/artifacts/fold1_log:v162\n",
      "   ✅ Salvato: results/YOLOv11s/train/frosty-sweep-60_vo45708b_fold1_log_v162_results.csv\n",
      "   🔍 Artifact training: fold2_log:v163\n"
     ]
    },
    {
     "name": "stderr",
     "output_type": "stream",
     "text": [
      "\u001b[34m\u001b[1mwandb\u001b[0m:   1 of 1 files downloaded.  \n"
     ]
    },
    {
     "name": "stdout",
     "output_type": "stream",
     "text": [
      "   ⬇️ Scaricato in: /home/lorenzo/Documenti/GitHub/Computer-Science-Sapienza/Computer Vision/project/artifacts/fold2_log:v163\n",
      "   ✅ Salvato: results/YOLOv11s/train/frosty-sweep-60_vo45708b_fold2_log_v163_results.csv\n",
      "   🔍 Artifact training: fold3_log:v163\n"
     ]
    },
    {
     "name": "stderr",
     "output_type": "stream",
     "text": [
      "\u001b[34m\u001b[1mwandb\u001b[0m:   1 of 1 files downloaded.  \n"
     ]
    },
    {
     "name": "stdout",
     "output_type": "stream",
     "text": [
      "   ⬇️ Scaricato in: /home/lorenzo/Documenti/GitHub/Computer-Science-Sapienza/Computer Vision/project/artifacts/fold3_log:v163\n",
      "   ✅ Salvato: results/YOLOv11s/train/frosty-sweep-60_vo45708b_fold3_log_v163_results.csv\n",
      "   🎉 Trovati 4 file\n",
      "🔄 Analizzo run: northern-sweep-59\n",
      "   ⚙️ Config salvato: configs/northern-sweep-59_mww82odu_config.yaml\n",
      "   📁 Trovati 5 artifacts\n",
      "   🔍 Artifact training: fold0_log:v158\n"
     ]
    },
    {
     "name": "stderr",
     "output_type": "stream",
     "text": [
      "\u001b[34m\u001b[1mwandb\u001b[0m:   1 of 1 files downloaded.  \n"
     ]
    },
    {
     "name": "stdout",
     "output_type": "stream",
     "text": [
      "   ⬇️ Scaricato in: /home/lorenzo/Documenti/GitHub/Computer-Science-Sapienza/Computer Vision/project/artifacts/fold0_log:v158\n",
      "   ✅ Salvato: results/YOLOv11s/train/northern-sweep-59_mww82odu_fold0_log_v158_results.csv\n",
      "   🔍 Artifact training: fold1_log:v161\n"
     ]
    },
    {
     "name": "stderr",
     "output_type": "stream",
     "text": [
      "\u001b[34m\u001b[1mwandb\u001b[0m:   1 of 1 files downloaded.  \n"
     ]
    },
    {
     "name": "stdout",
     "output_type": "stream",
     "text": [
      "   ⬇️ Scaricato in: /home/lorenzo/Documenti/GitHub/Computer-Science-Sapienza/Computer Vision/project/artifacts/fold1_log:v161\n",
      "   ✅ Salvato: results/YOLOv11s/train/northern-sweep-59_mww82odu_fold1_log_v161_results.csv\n",
      "   🔍 Artifact training: fold2_log:v162\n"
     ]
    },
    {
     "name": "stderr",
     "output_type": "stream",
     "text": [
      "\u001b[34m\u001b[1mwandb\u001b[0m:   1 of 1 files downloaded.  \n"
     ]
    },
    {
     "name": "stdout",
     "output_type": "stream",
     "text": [
      "   ⬇️ Scaricato in: /home/lorenzo/Documenti/GitHub/Computer-Science-Sapienza/Computer Vision/project/artifacts/fold2_log:v162\n",
      "   ✅ Salvato: results/YOLOv11s/train/northern-sweep-59_mww82odu_fold2_log_v162_results.csv\n",
      "   🔍 Artifact training: fold3_log:v162\n"
     ]
    },
    {
     "name": "stderr",
     "output_type": "stream",
     "text": [
      "\u001b[34m\u001b[1mwandb\u001b[0m:   1 of 1 files downloaded.  \n"
     ]
    },
    {
     "name": "stdout",
     "output_type": "stream",
     "text": [
      "   ⬇️ Scaricato in: /home/lorenzo/Documenti/GitHub/Computer-Science-Sapienza/Computer Vision/project/artifacts/fold3_log:v162\n",
      "   ✅ Salvato: results/YOLOv11s/train/northern-sweep-59_mww82odu_fold3_log_v162_results.csv\n",
      "   🎉 Trovati 4 file\n",
      "🔄 Analizzo run: confused-sweep-58\n",
      "   ⚙️ Config salvato: configs/confused-sweep-58_jgqfujy3_config.yaml\n",
      "   📁 Trovati 5 artifacts\n",
      "   🔍 Artifact training: fold0_log:v157\n"
     ]
    },
    {
     "name": "stderr",
     "output_type": "stream",
     "text": [
      "\u001b[34m\u001b[1mwandb\u001b[0m:   1 of 1 files downloaded.  \n"
     ]
    },
    {
     "name": "stdout",
     "output_type": "stream",
     "text": [
      "   ⬇️ Scaricato in: /home/lorenzo/Documenti/GitHub/Computer-Science-Sapienza/Computer Vision/project/artifacts/fold0_log:v157\n",
      "   ✅ Salvato: results/YOLOv11s/train/confused-sweep-58_jgqfujy3_fold0_log_v157_results.csv\n",
      "   🔍 Artifact training: fold1_log:v160\n"
     ]
    },
    {
     "name": "stderr",
     "output_type": "stream",
     "text": [
      "\u001b[34m\u001b[1mwandb\u001b[0m:   1 of 1 files downloaded.  \n"
     ]
    },
    {
     "name": "stdout",
     "output_type": "stream",
     "text": [
      "   ⬇️ Scaricato in: /home/lorenzo/Documenti/GitHub/Computer-Science-Sapienza/Computer Vision/project/artifacts/fold1_log:v160\n",
      "   ✅ Salvato: results/YOLOv11s/train/confused-sweep-58_jgqfujy3_fold1_log_v160_results.csv\n",
      "   🔍 Artifact training: fold2_log:v161\n"
     ]
    },
    {
     "name": "stderr",
     "output_type": "stream",
     "text": [
      "\u001b[34m\u001b[1mwandb\u001b[0m:   1 of 1 files downloaded.  \n"
     ]
    },
    {
     "name": "stdout",
     "output_type": "stream",
     "text": [
      "   ⬇️ Scaricato in: /home/lorenzo/Documenti/GitHub/Computer-Science-Sapienza/Computer Vision/project/artifacts/fold2_log:v161\n",
      "   ✅ Salvato: results/YOLOv11s/train/confused-sweep-58_jgqfujy3_fold2_log_v161_results.csv\n",
      "   🔍 Artifact training: fold3_log:v161\n"
     ]
    },
    {
     "name": "stderr",
     "output_type": "stream",
     "text": [
      "\u001b[34m\u001b[1mwandb\u001b[0m:   1 of 1 files downloaded.  \n"
     ]
    },
    {
     "name": "stdout",
     "output_type": "stream",
     "text": [
      "   ⬇️ Scaricato in: /home/lorenzo/Documenti/GitHub/Computer-Science-Sapienza/Computer Vision/project/artifacts/fold3_log:v161\n",
      "   ✅ Salvato: results/YOLOv11s/train/confused-sweep-58_jgqfujy3_fold3_log_v161_results.csv\n",
      "   🎉 Trovati 4 file\n",
      "🔄 Analizzo run: kind-sweep-57\n",
      "   ⚙️ Config salvato: configs/kind-sweep-57_yaleo6rv_config.yaml\n",
      "   📁 Trovati 5 artifacts\n",
      "   🔍 Artifact training: fold0_log:v156\n"
     ]
    },
    {
     "name": "stderr",
     "output_type": "stream",
     "text": [
      "\u001b[34m\u001b[1mwandb\u001b[0m:   1 of 1 files downloaded.  \n"
     ]
    },
    {
     "name": "stdout",
     "output_type": "stream",
     "text": [
      "   ⬇️ Scaricato in: /home/lorenzo/Documenti/GitHub/Computer-Science-Sapienza/Computer Vision/project/artifacts/fold0_log:v156\n",
      "   ✅ Salvato: results/YOLOv11s/train/kind-sweep-57_yaleo6rv_fold0_log_v156_results.csv\n",
      "   🔍 Artifact training: fold1_log:v159\n"
     ]
    },
    {
     "name": "stderr",
     "output_type": "stream",
     "text": [
      "\u001b[34m\u001b[1mwandb\u001b[0m:   1 of 1 files downloaded.  \n"
     ]
    },
    {
     "name": "stdout",
     "output_type": "stream",
     "text": [
      "   ⬇️ Scaricato in: /home/lorenzo/Documenti/GitHub/Computer-Science-Sapienza/Computer Vision/project/artifacts/fold1_log:v159\n",
      "   ✅ Salvato: results/YOLOv11s/train/kind-sweep-57_yaleo6rv_fold1_log_v159_results.csv\n",
      "   🔍 Artifact training: fold2_log:v160\n"
     ]
    },
    {
     "name": "stderr",
     "output_type": "stream",
     "text": [
      "\u001b[34m\u001b[1mwandb\u001b[0m:   1 of 1 files downloaded.  \n"
     ]
    },
    {
     "name": "stdout",
     "output_type": "stream",
     "text": [
      "   ⬇️ Scaricato in: /home/lorenzo/Documenti/GitHub/Computer-Science-Sapienza/Computer Vision/project/artifacts/fold2_log:v160\n",
      "   ✅ Salvato: results/YOLOv11s/train/kind-sweep-57_yaleo6rv_fold2_log_v160_results.csv\n",
      "   🔍 Artifact training: fold3_log:v160\n"
     ]
    },
    {
     "name": "stderr",
     "output_type": "stream",
     "text": [
      "\u001b[34m\u001b[1mwandb\u001b[0m:   1 of 1 files downloaded.  \n"
     ]
    },
    {
     "name": "stdout",
     "output_type": "stream",
     "text": [
      "   ⬇️ Scaricato in: /home/lorenzo/Documenti/GitHub/Computer-Science-Sapienza/Computer Vision/project/artifacts/fold3_log:v160\n",
      "   ✅ Salvato: results/YOLOv11s/train/kind-sweep-57_yaleo6rv_fold3_log_v160_results.csv\n",
      "   🎉 Trovati 4 file\n",
      "🔄 Analizzo run: zesty-sweep-56\n",
      "   ⚙️ Config salvato: configs/zesty-sweep-56_ngdeg8y7_config.yaml\n",
      "   📁 Trovati 5 artifacts\n",
      "   🔍 Artifact training: fold0_log:v155\n"
     ]
    },
    {
     "name": "stderr",
     "output_type": "stream",
     "text": [
      "\u001b[34m\u001b[1mwandb\u001b[0m:   1 of 1 files downloaded.  \n"
     ]
    },
    {
     "name": "stdout",
     "output_type": "stream",
     "text": [
      "   ⬇️ Scaricato in: /home/lorenzo/Documenti/GitHub/Computer-Science-Sapienza/Computer Vision/project/artifacts/fold0_log:v155\n",
      "   ✅ Salvato: results/YOLOv11s/train/zesty-sweep-56_ngdeg8y7_fold0_log_v155_results.csv\n",
      "   🔍 Artifact training: fold1_log:v158\n"
     ]
    },
    {
     "name": "stderr",
     "output_type": "stream",
     "text": [
      "\u001b[34m\u001b[1mwandb\u001b[0m:   1 of 1 files downloaded.  \n"
     ]
    },
    {
     "name": "stdout",
     "output_type": "stream",
     "text": [
      "   ⬇️ Scaricato in: /home/lorenzo/Documenti/GitHub/Computer-Science-Sapienza/Computer Vision/project/artifacts/fold1_log:v158\n",
      "   ✅ Salvato: results/YOLOv11s/train/zesty-sweep-56_ngdeg8y7_fold1_log_v158_results.csv\n",
      "   🔍 Artifact training: fold2_log:v159\n"
     ]
    },
    {
     "name": "stderr",
     "output_type": "stream",
     "text": [
      "\u001b[34m\u001b[1mwandb\u001b[0m:   1 of 1 files downloaded.  \n"
     ]
    },
    {
     "name": "stdout",
     "output_type": "stream",
     "text": [
      "   ⬇️ Scaricato in: /home/lorenzo/Documenti/GitHub/Computer-Science-Sapienza/Computer Vision/project/artifacts/fold2_log:v159\n",
      "   ✅ Salvato: results/YOLOv11s/train/zesty-sweep-56_ngdeg8y7_fold2_log_v159_results.csv\n",
      "   🔍 Artifact training: fold3_log:v159\n"
     ]
    },
    {
     "name": "stderr",
     "output_type": "stream",
     "text": [
      "\u001b[34m\u001b[1mwandb\u001b[0m:   1 of 1 files downloaded.  \n"
     ]
    },
    {
     "name": "stdout",
     "output_type": "stream",
     "text": [
      "   ⬇️ Scaricato in: /home/lorenzo/Documenti/GitHub/Computer-Science-Sapienza/Computer Vision/project/artifacts/fold3_log:v159\n",
      "   ✅ Salvato: results/YOLOv11s/train/zesty-sweep-56_ngdeg8y7_fold3_log_v159_results.csv\n",
      "   🎉 Trovati 4 file\n",
      "🔄 Analizzo run: likely-sweep-55\n",
      "   ⚙️ Config salvato: configs/likely-sweep-55_jvvkolzz_config.yaml\n",
      "   📁 Trovati 5 artifacts\n",
      "   🔍 Artifact training: fold0_log:v154\n"
     ]
    },
    {
     "name": "stderr",
     "output_type": "stream",
     "text": [
      "\u001b[34m\u001b[1mwandb\u001b[0m:   1 of 1 files downloaded.  \n"
     ]
    },
    {
     "name": "stdout",
     "output_type": "stream",
     "text": [
      "   ⬇️ Scaricato in: /home/lorenzo/Documenti/GitHub/Computer-Science-Sapienza/Computer Vision/project/artifacts/fold0_log:v154\n",
      "   ✅ Salvato: results/YOLOv11s/train/likely-sweep-55_jvvkolzz_fold0_log_v154_results.csv\n",
      "   🔍 Artifact training: fold1_log:v157\n"
     ]
    },
    {
     "name": "stderr",
     "output_type": "stream",
     "text": [
      "\u001b[34m\u001b[1mwandb\u001b[0m:   1 of 1 files downloaded.  \n"
     ]
    },
    {
     "name": "stdout",
     "output_type": "stream",
     "text": [
      "   ⬇️ Scaricato in: /home/lorenzo/Documenti/GitHub/Computer-Science-Sapienza/Computer Vision/project/artifacts/fold1_log:v157\n",
      "   ✅ Salvato: results/YOLOv11s/train/likely-sweep-55_jvvkolzz_fold1_log_v157_results.csv\n",
      "   🔍 Artifact training: fold2_log:v158\n"
     ]
    },
    {
     "name": "stderr",
     "output_type": "stream",
     "text": [
      "\u001b[34m\u001b[1mwandb\u001b[0m:   1 of 1 files downloaded.  \n"
     ]
    },
    {
     "name": "stdout",
     "output_type": "stream",
     "text": [
      "   ⬇️ Scaricato in: /home/lorenzo/Documenti/GitHub/Computer-Science-Sapienza/Computer Vision/project/artifacts/fold2_log:v158\n",
      "   ✅ Salvato: results/YOLOv11s/train/likely-sweep-55_jvvkolzz_fold2_log_v158_results.csv\n",
      "   🔍 Artifact training: fold3_log:v158\n"
     ]
    },
    {
     "name": "stderr",
     "output_type": "stream",
     "text": [
      "\u001b[34m\u001b[1mwandb\u001b[0m:   1 of 1 files downloaded.  \n"
     ]
    },
    {
     "name": "stdout",
     "output_type": "stream",
     "text": [
      "   ⬇️ Scaricato in: /home/lorenzo/Documenti/GitHub/Computer-Science-Sapienza/Computer Vision/project/artifacts/fold3_log:v158\n",
      "   ✅ Salvato: results/YOLOv11s/train/likely-sweep-55_jvvkolzz_fold3_log_v158_results.csv\n",
      "   🎉 Trovati 4 file\n",
      "🔄 Analizzo run: olive-sweep-54\n",
      "   ⚙️ Config salvato: configs/olive-sweep-54_yryeo3z9_config.yaml\n",
      "   📁 Trovati 5 artifacts\n",
      "   🔍 Artifact training: fold0_log:v153\n"
     ]
    },
    {
     "name": "stderr",
     "output_type": "stream",
     "text": [
      "\u001b[34m\u001b[1mwandb\u001b[0m:   1 of 1 files downloaded.  \n"
     ]
    },
    {
     "name": "stdout",
     "output_type": "stream",
     "text": [
      "   ⬇️ Scaricato in: /home/lorenzo/Documenti/GitHub/Computer-Science-Sapienza/Computer Vision/project/artifacts/fold0_log:v153\n",
      "   ✅ Salvato: results/YOLOv11s/train/olive-sweep-54_yryeo3z9_fold0_log_v153_results.csv\n",
      "   🔍 Artifact training: fold1_log:v156\n"
     ]
    },
    {
     "name": "stderr",
     "output_type": "stream",
     "text": [
      "\u001b[34m\u001b[1mwandb\u001b[0m:   1 of 1 files downloaded.  \n"
     ]
    },
    {
     "name": "stdout",
     "output_type": "stream",
     "text": [
      "   ⬇️ Scaricato in: /home/lorenzo/Documenti/GitHub/Computer-Science-Sapienza/Computer Vision/project/artifacts/fold1_log:v156\n",
      "   ✅ Salvato: results/YOLOv11s/train/olive-sweep-54_yryeo3z9_fold1_log_v156_results.csv\n",
      "   🔍 Artifact training: fold2_log:v157\n"
     ]
    },
    {
     "name": "stderr",
     "output_type": "stream",
     "text": [
      "\u001b[34m\u001b[1mwandb\u001b[0m:   1 of 1 files downloaded.  \n"
     ]
    },
    {
     "name": "stdout",
     "output_type": "stream",
     "text": [
      "   ⬇️ Scaricato in: /home/lorenzo/Documenti/GitHub/Computer-Science-Sapienza/Computer Vision/project/artifacts/fold2_log:v157\n",
      "   ✅ Salvato: results/YOLOv11s/train/olive-sweep-54_yryeo3z9_fold2_log_v157_results.csv\n",
      "   🔍 Artifact training: fold3_log:v157\n"
     ]
    },
    {
     "name": "stderr",
     "output_type": "stream",
     "text": [
      "\u001b[34m\u001b[1mwandb\u001b[0m:   1 of 1 files downloaded.  \n"
     ]
    },
    {
     "name": "stdout",
     "output_type": "stream",
     "text": [
      "   ⬇️ Scaricato in: /home/lorenzo/Documenti/GitHub/Computer-Science-Sapienza/Computer Vision/project/artifacts/fold3_log:v157\n",
      "   ✅ Salvato: results/YOLOv11s/train/olive-sweep-54_yryeo3z9_fold3_log_v157_results.csv\n",
      "   🎉 Trovati 4 file\n",
      "🔄 Analizzo run: ancient-sweep-53\n",
      "   ⚙️ Config salvato: configs/ancient-sweep-53_kps1e3cs_config.yaml\n",
      "   📁 Trovati 5 artifacts\n",
      "   🔍 Artifact training: fold0_log:v152\n"
     ]
    },
    {
     "name": "stderr",
     "output_type": "stream",
     "text": [
      "\u001b[34m\u001b[1mwandb\u001b[0m:   1 of 1 files downloaded.  \n"
     ]
    },
    {
     "name": "stdout",
     "output_type": "stream",
     "text": [
      "   ⬇️ Scaricato in: /home/lorenzo/Documenti/GitHub/Computer-Science-Sapienza/Computer Vision/project/artifacts/fold0_log:v152\n",
      "   ✅ Salvato: results/YOLOv11s/train/ancient-sweep-53_kps1e3cs_fold0_log_v152_results.csv\n",
      "   🔍 Artifact training: fold1_log:v155\n"
     ]
    },
    {
     "name": "stderr",
     "output_type": "stream",
     "text": [
      "\u001b[34m\u001b[1mwandb\u001b[0m:   1 of 1 files downloaded.  \n"
     ]
    },
    {
     "name": "stdout",
     "output_type": "stream",
     "text": [
      "   ⬇️ Scaricato in: /home/lorenzo/Documenti/GitHub/Computer-Science-Sapienza/Computer Vision/project/artifacts/fold1_log:v155\n",
      "   ✅ Salvato: results/YOLOv11s/train/ancient-sweep-53_kps1e3cs_fold1_log_v155_results.csv\n",
      "   🔍 Artifact training: fold2_log:v156\n"
     ]
    },
    {
     "name": "stderr",
     "output_type": "stream",
     "text": [
      "\u001b[34m\u001b[1mwandb\u001b[0m:   1 of 1 files downloaded.  \n"
     ]
    },
    {
     "name": "stdout",
     "output_type": "stream",
     "text": [
      "   ⬇️ Scaricato in: /home/lorenzo/Documenti/GitHub/Computer-Science-Sapienza/Computer Vision/project/artifacts/fold2_log:v156\n",
      "   ✅ Salvato: results/YOLOv11s/train/ancient-sweep-53_kps1e3cs_fold2_log_v156_results.csv\n",
      "   🔍 Artifact training: fold3_log:v156\n"
     ]
    },
    {
     "name": "stderr",
     "output_type": "stream",
     "text": [
      "\u001b[34m\u001b[1mwandb\u001b[0m:   1 of 1 files downloaded.  \n"
     ]
    },
    {
     "name": "stdout",
     "output_type": "stream",
     "text": [
      "   ⬇️ Scaricato in: /home/lorenzo/Documenti/GitHub/Computer-Science-Sapienza/Computer Vision/project/artifacts/fold3_log:v156\n",
      "   ✅ Salvato: results/YOLOv11s/train/ancient-sweep-53_kps1e3cs_fold3_log_v156_results.csv\n",
      "   🎉 Trovati 4 file\n",
      "🔄 Analizzo run: eternal-sweep-52\n",
      "   ⚙️ Config salvato: configs/eternal-sweep-52_qt4b2flx_config.yaml\n",
      "   📁 Trovati 5 artifacts\n",
      "   🔍 Artifact training: fold0_log:v151\n"
     ]
    },
    {
     "name": "stderr",
     "output_type": "stream",
     "text": [
      "\u001b[34m\u001b[1mwandb\u001b[0m:   1 of 1 files downloaded.  \n"
     ]
    },
    {
     "name": "stdout",
     "output_type": "stream",
     "text": [
      "   ⬇️ Scaricato in: /home/lorenzo/Documenti/GitHub/Computer-Science-Sapienza/Computer Vision/project/artifacts/fold0_log:v151\n",
      "   ✅ Salvato: results/YOLOv11s/train/eternal-sweep-52_qt4b2flx_fold0_log_v151_results.csv\n",
      "   🔍 Artifact training: fold1_log:v154\n"
     ]
    },
    {
     "name": "stderr",
     "output_type": "stream",
     "text": [
      "\u001b[34m\u001b[1mwandb\u001b[0m:   1 of 1 files downloaded.  \n"
     ]
    },
    {
     "name": "stdout",
     "output_type": "stream",
     "text": [
      "   ⬇️ Scaricato in: /home/lorenzo/Documenti/GitHub/Computer-Science-Sapienza/Computer Vision/project/artifacts/fold1_log:v154\n",
      "   ✅ Salvato: results/YOLOv11s/train/eternal-sweep-52_qt4b2flx_fold1_log_v154_results.csv\n",
      "   🔍 Artifact training: fold2_log:v155\n"
     ]
    },
    {
     "name": "stderr",
     "output_type": "stream",
     "text": [
      "\u001b[34m\u001b[1mwandb\u001b[0m:   1 of 1 files downloaded.  \n"
     ]
    },
    {
     "name": "stdout",
     "output_type": "stream",
     "text": [
      "   ⬇️ Scaricato in: /home/lorenzo/Documenti/GitHub/Computer-Science-Sapienza/Computer Vision/project/artifacts/fold2_log:v155\n",
      "   ✅ Salvato: results/YOLOv11s/train/eternal-sweep-52_qt4b2flx_fold2_log_v155_results.csv\n",
      "   🔍 Artifact training: fold3_log:v155\n"
     ]
    },
    {
     "name": "stderr",
     "output_type": "stream",
     "text": [
      "\u001b[34m\u001b[1mwandb\u001b[0m:   1 of 1 files downloaded.  \n"
     ]
    },
    {
     "name": "stdout",
     "output_type": "stream",
     "text": [
      "   ⬇️ Scaricato in: /home/lorenzo/Documenti/GitHub/Computer-Science-Sapienza/Computer Vision/project/artifacts/fold3_log:v155\n",
      "   ✅ Salvato: results/YOLOv11s/train/eternal-sweep-52_qt4b2flx_fold3_log_v155_results.csv\n",
      "   🎉 Trovati 4 file\n",
      "🔄 Analizzo run: proud-sweep-51\n",
      "   ⚙️ Config salvato: configs/proud-sweep-51_iw5epxc6_config.yaml\n",
      "   📁 Trovati 5 artifacts\n",
      "   🔍 Artifact training: fold0_log:v150\n"
     ]
    },
    {
     "name": "stderr",
     "output_type": "stream",
     "text": [
      "\u001b[34m\u001b[1mwandb\u001b[0m:   1 of 1 files downloaded.  \n"
     ]
    },
    {
     "name": "stdout",
     "output_type": "stream",
     "text": [
      "   ⬇️ Scaricato in: /home/lorenzo/Documenti/GitHub/Computer-Science-Sapienza/Computer Vision/project/artifacts/fold0_log:v150\n",
      "   ✅ Salvato: results/YOLOv11s/train/proud-sweep-51_iw5epxc6_fold0_log_v150_results.csv\n",
      "   🔍 Artifact training: fold1_log:v153\n"
     ]
    },
    {
     "name": "stderr",
     "output_type": "stream",
     "text": [
      "\u001b[34m\u001b[1mwandb\u001b[0m:   1 of 1 files downloaded.  \n"
     ]
    },
    {
     "name": "stdout",
     "output_type": "stream",
     "text": [
      "   ⬇️ Scaricato in: /home/lorenzo/Documenti/GitHub/Computer-Science-Sapienza/Computer Vision/project/artifacts/fold1_log:v153\n",
      "   ✅ Salvato: results/YOLOv11s/train/proud-sweep-51_iw5epxc6_fold1_log_v153_results.csv\n",
      "   🔍 Artifact training: fold2_log:v154\n"
     ]
    },
    {
     "name": "stderr",
     "output_type": "stream",
     "text": [
      "\u001b[34m\u001b[1mwandb\u001b[0m:   1 of 1 files downloaded.  \n"
     ]
    },
    {
     "name": "stdout",
     "output_type": "stream",
     "text": [
      "   ⬇️ Scaricato in: /home/lorenzo/Documenti/GitHub/Computer-Science-Sapienza/Computer Vision/project/artifacts/fold2_log:v154\n",
      "   ✅ Salvato: results/YOLOv11s/train/proud-sweep-51_iw5epxc6_fold2_log_v154_results.csv\n",
      "   🔍 Artifact training: fold3_log:v154\n"
     ]
    },
    {
     "name": "stderr",
     "output_type": "stream",
     "text": [
      "\u001b[34m\u001b[1mwandb\u001b[0m:   1 of 1 files downloaded.  \n"
     ]
    },
    {
     "name": "stdout",
     "output_type": "stream",
     "text": [
      "   ⬇️ Scaricato in: /home/lorenzo/Documenti/GitHub/Computer-Science-Sapienza/Computer Vision/project/artifacts/fold3_log:v154\n",
      "   ✅ Salvato: results/YOLOv11s/train/proud-sweep-51_iw5epxc6_fold3_log_v154_results.csv\n",
      "   🎉 Trovati 4 file\n",
      "🔄 Analizzo run: fancy-sweep-49\n",
      "   ⚙️ Config salvato: configs/fancy-sweep-49_hi8n30ik_config.yaml\n",
      "   📁 Trovati 5 artifacts\n",
      "   🔍 Artifact training: fold0_log:v149\n"
     ]
    },
    {
     "name": "stderr",
     "output_type": "stream",
     "text": [
      "\u001b[34m\u001b[1mwandb\u001b[0m:   1 of 1 files downloaded.  \n"
     ]
    },
    {
     "name": "stdout",
     "output_type": "stream",
     "text": [
      "   ⬇️ Scaricato in: /home/lorenzo/Documenti/GitHub/Computer-Science-Sapienza/Computer Vision/project/artifacts/fold0_log:v149\n",
      "   ✅ Salvato: results/YOLOv11s/train/fancy-sweep-49_hi8n30ik_fold0_log_v149_results.csv\n",
      "   🔍 Artifact training: fold1_log:v151\n"
     ]
    },
    {
     "name": "stderr",
     "output_type": "stream",
     "text": [
      "\u001b[34m\u001b[1mwandb\u001b[0m:   1 of 1 files downloaded.  \n"
     ]
    },
    {
     "name": "stdout",
     "output_type": "stream",
     "text": [
      "   ⬇️ Scaricato in: /home/lorenzo/Documenti/GitHub/Computer-Science-Sapienza/Computer Vision/project/artifacts/fold1_log:v151\n",
      "   ✅ Salvato: results/YOLOv11s/train/fancy-sweep-49_hi8n30ik_fold1_log_v151_results.csv\n",
      "   🔍 Artifact training: fold2_log:v152\n"
     ]
    },
    {
     "name": "stderr",
     "output_type": "stream",
     "text": [
      "\u001b[34m\u001b[1mwandb\u001b[0m:   1 of 1 files downloaded.  \n"
     ]
    },
    {
     "name": "stdout",
     "output_type": "stream",
     "text": [
      "   ⬇️ Scaricato in: /home/lorenzo/Documenti/GitHub/Computer-Science-Sapienza/Computer Vision/project/artifacts/fold2_log:v152\n",
      "   ✅ Salvato: results/YOLOv11s/train/fancy-sweep-49_hi8n30ik_fold2_log_v152_results.csv\n",
      "   🔍 Artifact training: fold3_log:v152\n"
     ]
    },
    {
     "name": "stderr",
     "output_type": "stream",
     "text": [
      "\u001b[34m\u001b[1mwandb\u001b[0m:   1 of 1 files downloaded.  \n"
     ]
    },
    {
     "name": "stdout",
     "output_type": "stream",
     "text": [
      "   ⬇️ Scaricato in: /home/lorenzo/Documenti/GitHub/Computer-Science-Sapienza/Computer Vision/project/artifacts/fold3_log:v152\n",
      "   ✅ Salvato: results/YOLOv11s/train/fancy-sweep-49_hi8n30ik_fold3_log_v152_results.csv\n",
      "   🎉 Trovati 4 file\n",
      "🔄 Analizzo run: rare-sweep-48\n",
      "   ⚙️ Config salvato: configs/rare-sweep-48_4lkq9sd2_config.yaml\n",
      "   📁 Trovati 5 artifacts\n",
      "   🔍 Artifact training: fold0_log:v148\n"
     ]
    },
    {
     "name": "stderr",
     "output_type": "stream",
     "text": [
      "\u001b[34m\u001b[1mwandb\u001b[0m:   1 of 1 files downloaded.  \n"
     ]
    },
    {
     "name": "stdout",
     "output_type": "stream",
     "text": [
      "   ⬇️ Scaricato in: /home/lorenzo/Documenti/GitHub/Computer-Science-Sapienza/Computer Vision/project/artifacts/fold0_log:v148\n",
      "   ✅ Salvato: results/YOLOv11s/train/rare-sweep-48_4lkq9sd2_fold0_log_v148_results.csv\n",
      "   🔍 Artifact training: fold1_log:v150\n"
     ]
    },
    {
     "name": "stderr",
     "output_type": "stream",
     "text": [
      "\u001b[34m\u001b[1mwandb\u001b[0m:   1 of 1 files downloaded.  \n"
     ]
    },
    {
     "name": "stdout",
     "output_type": "stream",
     "text": [
      "   ⬇️ Scaricato in: /home/lorenzo/Documenti/GitHub/Computer-Science-Sapienza/Computer Vision/project/artifacts/fold1_log:v150\n",
      "   ✅ Salvato: results/YOLOv11s/train/rare-sweep-48_4lkq9sd2_fold1_log_v150_results.csv\n",
      "   🔍 Artifact training: fold2_log:v151\n"
     ]
    },
    {
     "name": "stderr",
     "output_type": "stream",
     "text": [
      "\u001b[34m\u001b[1mwandb\u001b[0m:   1 of 1 files downloaded.  \n"
     ]
    },
    {
     "name": "stdout",
     "output_type": "stream",
     "text": [
      "   ⬇️ Scaricato in: /home/lorenzo/Documenti/GitHub/Computer-Science-Sapienza/Computer Vision/project/artifacts/fold2_log:v151\n",
      "   ✅ Salvato: results/YOLOv11s/train/rare-sweep-48_4lkq9sd2_fold2_log_v151_results.csv\n",
      "   🔍 Artifact training: fold3_log:v151\n"
     ]
    },
    {
     "name": "stderr",
     "output_type": "stream",
     "text": [
      "\u001b[34m\u001b[1mwandb\u001b[0m:   1 of 1 files downloaded.  \n"
     ]
    },
    {
     "name": "stdout",
     "output_type": "stream",
     "text": [
      "   ⬇️ Scaricato in: /home/lorenzo/Documenti/GitHub/Computer-Science-Sapienza/Computer Vision/project/artifacts/fold3_log:v151\n",
      "   ✅ Salvato: results/YOLOv11s/train/rare-sweep-48_4lkq9sd2_fold3_log_v151_results.csv\n",
      "   🎉 Trovati 4 file\n",
      "🔄 Analizzo run: efficient-sweep-47\n",
      "   ⚙️ Config salvato: configs/efficient-sweep-47_8g0eithj_config.yaml\n",
      "   📁 Trovati 4 artifacts\n",
      "   🔍 Artifact training: fold0_log:v147\n"
     ]
    },
    {
     "name": "stderr",
     "output_type": "stream",
     "text": [
      "\u001b[34m\u001b[1mwandb\u001b[0m:   1 of 1 files downloaded.  \n"
     ]
    },
    {
     "name": "stdout",
     "output_type": "stream",
     "text": [
      "   ⬇️ Scaricato in: /home/lorenzo/Documenti/GitHub/Computer-Science-Sapienza/Computer Vision/project/artifacts/fold0_log:v147\n",
      "   ✅ Salvato: results/YOLOv11s/train/efficient-sweep-47_8g0eithj_fold0_log_v147_results.csv\n",
      "   🔍 Artifact training: fold1_log:v149\n"
     ]
    },
    {
     "name": "stderr",
     "output_type": "stream",
     "text": [
      "\u001b[34m\u001b[1mwandb\u001b[0m:   1 of 1 files downloaded.  \n"
     ]
    },
    {
     "name": "stdout",
     "output_type": "stream",
     "text": [
      "   ⬇️ Scaricato in: /home/lorenzo/Documenti/GitHub/Computer-Science-Sapienza/Computer Vision/project/artifacts/fold1_log:v149\n",
      "   ✅ Salvato: results/YOLOv11s/train/efficient-sweep-47_8g0eithj_fold1_log_v149_results.csv\n",
      "   🔍 Artifact training: fold2_log:v150\n"
     ]
    },
    {
     "name": "stderr",
     "output_type": "stream",
     "text": [
      "\u001b[34m\u001b[1mwandb\u001b[0m:   1 of 1 files downloaded.  \n"
     ]
    },
    {
     "name": "stdout",
     "output_type": "stream",
     "text": [
      "   ⬇️ Scaricato in: /home/lorenzo/Documenti/GitHub/Computer-Science-Sapienza/Computer Vision/project/artifacts/fold2_log:v150\n",
      "   ✅ Salvato: results/YOLOv11s/train/efficient-sweep-47_8g0eithj_fold2_log_v150_results.csv\n",
      "   🔍 Artifact training: fold3_log:v150\n"
     ]
    },
    {
     "name": "stderr",
     "output_type": "stream",
     "text": [
      "\u001b[34m\u001b[1mwandb\u001b[0m:   1 of 1 files downloaded.  \n"
     ]
    },
    {
     "name": "stdout",
     "output_type": "stream",
     "text": [
      "   ⬇️ Scaricato in: /home/lorenzo/Documenti/GitHub/Computer-Science-Sapienza/Computer Vision/project/artifacts/fold3_log:v150\n",
      "   ✅ Salvato: results/YOLOv11s/train/efficient-sweep-47_8g0eithj_fold3_log_v150_results.csv\n",
      "   🎉 Trovati 4 file\n",
      "🔄 Analizzo run: hearty-sweep-46\n",
      "   ⚙️ Config salvato: configs/hearty-sweep-46_w7j4jh6w_config.yaml\n",
      "   📁 Trovati 5 artifacts\n",
      "   🔍 Artifact training: fold0_log:v146\n"
     ]
    },
    {
     "name": "stderr",
     "output_type": "stream",
     "text": [
      "\u001b[34m\u001b[1mwandb\u001b[0m:   1 of 1 files downloaded.  \n"
     ]
    },
    {
     "name": "stdout",
     "output_type": "stream",
     "text": [
      "   ⬇️ Scaricato in: /home/lorenzo/Documenti/GitHub/Computer-Science-Sapienza/Computer Vision/project/artifacts/fold0_log:v146\n",
      "   ✅ Salvato: results/YOLOv11s/train/hearty-sweep-46_w7j4jh6w_fold0_log_v146_results.csv\n",
      "   🔍 Artifact training: fold1_log:v148\n"
     ]
    },
    {
     "name": "stderr",
     "output_type": "stream",
     "text": [
      "\u001b[34m\u001b[1mwandb\u001b[0m:   1 of 1 files downloaded.  \n"
     ]
    },
    {
     "name": "stdout",
     "output_type": "stream",
     "text": [
      "   ⬇️ Scaricato in: /home/lorenzo/Documenti/GitHub/Computer-Science-Sapienza/Computer Vision/project/artifacts/fold1_log:v148\n",
      "   ✅ Salvato: results/YOLOv11s/train/hearty-sweep-46_w7j4jh6w_fold1_log_v148_results.csv\n",
      "   🔍 Artifact training: fold2_log:v149\n"
     ]
    },
    {
     "name": "stderr",
     "output_type": "stream",
     "text": [
      "\u001b[34m\u001b[1mwandb\u001b[0m:   1 of 1 files downloaded.  \n"
     ]
    },
    {
     "name": "stdout",
     "output_type": "stream",
     "text": [
      "   ⬇️ Scaricato in: /home/lorenzo/Documenti/GitHub/Computer-Science-Sapienza/Computer Vision/project/artifacts/fold2_log:v149\n",
      "   ✅ Salvato: results/YOLOv11s/train/hearty-sweep-46_w7j4jh6w_fold2_log_v149_results.csv\n",
      "   🔍 Artifact training: fold3_log:v149\n"
     ]
    },
    {
     "name": "stderr",
     "output_type": "stream",
     "text": [
      "\u001b[34m\u001b[1mwandb\u001b[0m:   1 of 1 files downloaded.  \n"
     ]
    },
    {
     "name": "stdout",
     "output_type": "stream",
     "text": [
      "   ⬇️ Scaricato in: /home/lorenzo/Documenti/GitHub/Computer-Science-Sapienza/Computer Vision/project/artifacts/fold3_log:v149\n",
      "   ✅ Salvato: results/YOLOv11s/train/hearty-sweep-46_w7j4jh6w_fold3_log_v149_results.csv\n",
      "   🎉 Trovati 4 file\n",
      "🔄 Analizzo run: proud-sweep-45\n",
      "   ⚙️ Config salvato: configs/proud-sweep-45_komgggw8_config.yaml\n",
      "   📁 Trovati 5 artifacts\n",
      "   🔍 Artifact training: fold0_log:v145\n"
     ]
    },
    {
     "name": "stderr",
     "output_type": "stream",
     "text": [
      "\u001b[34m\u001b[1mwandb\u001b[0m:   1 of 1 files downloaded.  \n"
     ]
    },
    {
     "name": "stdout",
     "output_type": "stream",
     "text": [
      "   ⬇️ Scaricato in: /home/lorenzo/Documenti/GitHub/Computer-Science-Sapienza/Computer Vision/project/artifacts/fold0_log:v145\n",
      "   ✅ Salvato: results/YOLOv11s/train/proud-sweep-45_komgggw8_fold0_log_v145_results.csv\n",
      "   🔍 Artifact training: fold1_log:v147\n"
     ]
    },
    {
     "name": "stderr",
     "output_type": "stream",
     "text": [
      "\u001b[34m\u001b[1mwandb\u001b[0m:   1 of 1 files downloaded.  \n"
     ]
    },
    {
     "name": "stdout",
     "output_type": "stream",
     "text": [
      "   ⬇️ Scaricato in: /home/lorenzo/Documenti/GitHub/Computer-Science-Sapienza/Computer Vision/project/artifacts/fold1_log:v147\n",
      "   ✅ Salvato: results/YOLOv11s/train/proud-sweep-45_komgggw8_fold1_log_v147_results.csv\n",
      "   🔍 Artifact training: fold2_log:v148\n"
     ]
    },
    {
     "name": "stderr",
     "output_type": "stream",
     "text": [
      "\u001b[34m\u001b[1mwandb\u001b[0m:   1 of 1 files downloaded.  \n"
     ]
    },
    {
     "name": "stdout",
     "output_type": "stream",
     "text": [
      "   ⬇️ Scaricato in: /home/lorenzo/Documenti/GitHub/Computer-Science-Sapienza/Computer Vision/project/artifacts/fold2_log:v148\n",
      "   ✅ Salvato: results/YOLOv11s/train/proud-sweep-45_komgggw8_fold2_log_v148_results.csv\n",
      "   🔍 Artifact training: fold3_log:v148\n"
     ]
    },
    {
     "name": "stderr",
     "output_type": "stream",
     "text": [
      "\u001b[34m\u001b[1mwandb\u001b[0m:   1 of 1 files downloaded.  \n"
     ]
    },
    {
     "name": "stdout",
     "output_type": "stream",
     "text": [
      "   ⬇️ Scaricato in: /home/lorenzo/Documenti/GitHub/Computer-Science-Sapienza/Computer Vision/project/artifacts/fold3_log:v148\n",
      "   ✅ Salvato: results/YOLOv11s/train/proud-sweep-45_komgggw8_fold3_log_v148_results.csv\n",
      "   🎉 Trovati 4 file\n",
      "🔄 Analizzo run: leafy-sweep-44\n",
      "   ⚙️ Config salvato: configs/leafy-sweep-44_4k8i26er_config.yaml\n",
      "   📁 Trovati 5 artifacts\n",
      "   🔍 Artifact training: fold1_log:v146\n"
     ]
    },
    {
     "name": "stderr",
     "output_type": "stream",
     "text": [
      "\u001b[34m\u001b[1mwandb\u001b[0m:   1 of 1 files downloaded.  \n"
     ]
    },
    {
     "name": "stdout",
     "output_type": "stream",
     "text": [
      "   ⬇️ Scaricato in: /home/lorenzo/Documenti/GitHub/Computer-Science-Sapienza/Computer Vision/project/artifacts/fold1_log:v146\n",
      "   ✅ Salvato: results/YOLOv11s/train/leafy-sweep-44_4k8i26er_fold1_log_v146_results.csv\n",
      "   🔍 Artifact training: fold0_log:v144\n"
     ]
    },
    {
     "name": "stderr",
     "output_type": "stream",
     "text": [
      "\u001b[34m\u001b[1mwandb\u001b[0m:   1 of 1 files downloaded.  \n"
     ]
    },
    {
     "name": "stdout",
     "output_type": "stream",
     "text": [
      "   ⬇️ Scaricato in: /home/lorenzo/Documenti/GitHub/Computer-Science-Sapienza/Computer Vision/project/artifacts/fold0_log:v144\n",
      "   ✅ Salvato: results/YOLOv11s/train/leafy-sweep-44_4k8i26er_fold0_log_v144_results.csv\n",
      "   🔍 Artifact training: fold2_log:v147\n"
     ]
    },
    {
     "name": "stderr",
     "output_type": "stream",
     "text": [
      "\u001b[34m\u001b[1mwandb\u001b[0m:   1 of 1 files downloaded.  \n"
     ]
    },
    {
     "name": "stdout",
     "output_type": "stream",
     "text": [
      "   ⬇️ Scaricato in: /home/lorenzo/Documenti/GitHub/Computer-Science-Sapienza/Computer Vision/project/artifacts/fold2_log:v147\n",
      "   ✅ Salvato: results/YOLOv11s/train/leafy-sweep-44_4k8i26er_fold2_log_v147_results.csv\n",
      "   🔍 Artifact training: fold3_log:v147\n"
     ]
    },
    {
     "name": "stderr",
     "output_type": "stream",
     "text": [
      "\u001b[34m\u001b[1mwandb\u001b[0m:   1 of 1 files downloaded.  \n"
     ]
    },
    {
     "name": "stdout",
     "output_type": "stream",
     "text": [
      "   ⬇️ Scaricato in: /home/lorenzo/Documenti/GitHub/Computer-Science-Sapienza/Computer Vision/project/artifacts/fold3_log:v147\n",
      "   ✅ Salvato: results/YOLOv11s/train/leafy-sweep-44_4k8i26er_fold3_log_v147_results.csv\n",
      "   🎉 Trovati 4 file\n",
      "🔄 Analizzo run: morning-sweep-43\n",
      "   ⚙️ Config salvato: configs/morning-sweep-43_ubs0gihx_config.yaml\n",
      "   📁 Trovati 5 artifacts\n",
      "   🔍 Artifact training: fold0_log:v143\n"
     ]
    },
    {
     "name": "stderr",
     "output_type": "stream",
     "text": [
      "\u001b[34m\u001b[1mwandb\u001b[0m:   1 of 1 files downloaded.  \n"
     ]
    },
    {
     "name": "stdout",
     "output_type": "stream",
     "text": [
      "   ⬇️ Scaricato in: /home/lorenzo/Documenti/GitHub/Computer-Science-Sapienza/Computer Vision/project/artifacts/fold0_log:v143\n",
      "   ✅ Salvato: results/YOLOv11s/train/morning-sweep-43_ubs0gihx_fold0_log_v143_results.csv\n",
      "   🔍 Artifact training: fold1_log:v145\n"
     ]
    },
    {
     "name": "stderr",
     "output_type": "stream",
     "text": [
      "\u001b[34m\u001b[1mwandb\u001b[0m:   1 of 1 files downloaded.  \n"
     ]
    },
    {
     "name": "stdout",
     "output_type": "stream",
     "text": [
      "   ⬇️ Scaricato in: /home/lorenzo/Documenti/GitHub/Computer-Science-Sapienza/Computer Vision/project/artifacts/fold1_log:v145\n",
      "   ✅ Salvato: results/YOLOv11s/train/morning-sweep-43_ubs0gihx_fold1_log_v145_results.csv\n",
      "   🔍 Artifact training: fold2_log:v146\n"
     ]
    },
    {
     "name": "stderr",
     "output_type": "stream",
     "text": [
      "\u001b[34m\u001b[1mwandb\u001b[0m:   1 of 1 files downloaded.  \n"
     ]
    },
    {
     "name": "stdout",
     "output_type": "stream",
     "text": [
      "   ⬇️ Scaricato in: /home/lorenzo/Documenti/GitHub/Computer-Science-Sapienza/Computer Vision/project/artifacts/fold2_log:v146\n",
      "   ✅ Salvato: results/YOLOv11s/train/morning-sweep-43_ubs0gihx_fold2_log_v146_results.csv\n",
      "   🔍 Artifact training: fold3_log:v146\n"
     ]
    },
    {
     "name": "stderr",
     "output_type": "stream",
     "text": [
      "\u001b[34m\u001b[1mwandb\u001b[0m:   1 of 1 files downloaded.  \n"
     ]
    },
    {
     "name": "stdout",
     "output_type": "stream",
     "text": [
      "   ⬇️ Scaricato in: /home/lorenzo/Documenti/GitHub/Computer-Science-Sapienza/Computer Vision/project/artifacts/fold3_log:v146\n",
      "   ✅ Salvato: results/YOLOv11s/train/morning-sweep-43_ubs0gihx_fold3_log_v146_results.csv\n",
      "   🎉 Trovati 4 file\n",
      "🔄 Analizzo run: flowing-sweep-42\n",
      "   ⚙️ Config salvato: configs/flowing-sweep-42_d4izjr2d_config.yaml\n",
      "   📁 Trovati 5 artifacts\n",
      "   🔍 Artifact training: fold0_log:v142\n"
     ]
    },
    {
     "name": "stderr",
     "output_type": "stream",
     "text": [
      "\u001b[34m\u001b[1mwandb\u001b[0m:   1 of 1 files downloaded.  \n"
     ]
    },
    {
     "name": "stdout",
     "output_type": "stream",
     "text": [
      "   ⬇️ Scaricato in: /home/lorenzo/Documenti/GitHub/Computer-Science-Sapienza/Computer Vision/project/artifacts/fold0_log:v142\n",
      "   ✅ Salvato: results/YOLOv11s/train/flowing-sweep-42_d4izjr2d_fold0_log_v142_results.csv\n",
      "   🔍 Artifact training: fold1_log:v144\n"
     ]
    },
    {
     "name": "stderr",
     "output_type": "stream",
     "text": [
      "\u001b[34m\u001b[1mwandb\u001b[0m:   1 of 1 files downloaded.  \n"
     ]
    },
    {
     "name": "stdout",
     "output_type": "stream",
     "text": [
      "   ⬇️ Scaricato in: /home/lorenzo/Documenti/GitHub/Computer-Science-Sapienza/Computer Vision/project/artifacts/fold1_log:v144\n",
      "   ✅ Salvato: results/YOLOv11s/train/flowing-sweep-42_d4izjr2d_fold1_log_v144_results.csv\n",
      "   🔍 Artifact training: fold2_log:v145\n"
     ]
    },
    {
     "name": "stderr",
     "output_type": "stream",
     "text": [
      "\u001b[34m\u001b[1mwandb\u001b[0m:   1 of 1 files downloaded.  \n"
     ]
    },
    {
     "name": "stdout",
     "output_type": "stream",
     "text": [
      "   ⬇️ Scaricato in: /home/lorenzo/Documenti/GitHub/Computer-Science-Sapienza/Computer Vision/project/artifacts/fold2_log:v145\n",
      "   ✅ Salvato: results/YOLOv11s/train/flowing-sweep-42_d4izjr2d_fold2_log_v145_results.csv\n",
      "   🔍 Artifact training: fold3_log:v145\n"
     ]
    },
    {
     "name": "stderr",
     "output_type": "stream",
     "text": [
      "\u001b[34m\u001b[1mwandb\u001b[0m:   1 of 1 files downloaded.  \n"
     ]
    },
    {
     "name": "stdout",
     "output_type": "stream",
     "text": [
      "   ⬇️ Scaricato in: /home/lorenzo/Documenti/GitHub/Computer-Science-Sapienza/Computer Vision/project/artifacts/fold3_log:v145\n",
      "   ✅ Salvato: results/YOLOv11s/train/flowing-sweep-42_d4izjr2d_fold3_log_v145_results.csv\n",
      "   🎉 Trovati 4 file\n",
      "🔄 Analizzo run: visionary-sweep-41\n",
      "   ⚙️ Config salvato: configs/visionary-sweep-41_i8bxfab6_config.yaml\n",
      "   📁 Trovati 5 artifacts\n",
      "   🔍 Artifact training: fold0_log:v141\n"
     ]
    },
    {
     "name": "stderr",
     "output_type": "stream",
     "text": [
      "\u001b[34m\u001b[1mwandb\u001b[0m:   1 of 1 files downloaded.  \n"
     ]
    },
    {
     "name": "stdout",
     "output_type": "stream",
     "text": [
      "   ⬇️ Scaricato in: /home/lorenzo/Documenti/GitHub/Computer-Science-Sapienza/Computer Vision/project/artifacts/fold0_log:v141\n",
      "   ✅ Salvato: results/YOLOv11s/train/visionary-sweep-41_i8bxfab6_fold0_log_v141_results.csv\n",
      "   🔍 Artifact training: fold1_log:v143\n"
     ]
    },
    {
     "name": "stderr",
     "output_type": "stream",
     "text": [
      "\u001b[34m\u001b[1mwandb\u001b[0m:   1 of 1 files downloaded.  \n"
     ]
    },
    {
     "name": "stdout",
     "output_type": "stream",
     "text": [
      "   ⬇️ Scaricato in: /home/lorenzo/Documenti/GitHub/Computer-Science-Sapienza/Computer Vision/project/artifacts/fold1_log:v143\n",
      "   ✅ Salvato: results/YOLOv11s/train/visionary-sweep-41_i8bxfab6_fold1_log_v143_results.csv\n",
      "   🔍 Artifact training: fold2_log:v144\n"
     ]
    },
    {
     "name": "stderr",
     "output_type": "stream",
     "text": [
      "\u001b[34m\u001b[1mwandb\u001b[0m:   1 of 1 files downloaded.  \n"
     ]
    },
    {
     "name": "stdout",
     "output_type": "stream",
     "text": [
      "   ⬇️ Scaricato in: /home/lorenzo/Documenti/GitHub/Computer-Science-Sapienza/Computer Vision/project/artifacts/fold2_log:v144\n",
      "   ✅ Salvato: results/YOLOv11s/train/visionary-sweep-41_i8bxfab6_fold2_log_v144_results.csv\n",
      "   🔍 Artifact training: fold3_log:v144\n"
     ]
    },
    {
     "name": "stderr",
     "output_type": "stream",
     "text": [
      "\u001b[34m\u001b[1mwandb\u001b[0m:   1 of 1 files downloaded.  \n"
     ]
    },
    {
     "name": "stdout",
     "output_type": "stream",
     "text": [
      "   ⬇️ Scaricato in: /home/lorenzo/Documenti/GitHub/Computer-Science-Sapienza/Computer Vision/project/artifacts/fold3_log:v144\n",
      "   ✅ Salvato: results/YOLOv11s/train/visionary-sweep-41_i8bxfab6_fold3_log_v144_results.csv\n",
      "   🎉 Trovati 4 file\n",
      "🔄 Analizzo run: misunderstood-sweep-40\n",
      "   ⚙️ Config salvato: configs/misunderstood-sweep-40_hgcspcuj_config.yaml\n",
      "   📁 Trovati 5 artifacts\n",
      "   🔍 Artifact training: fold0_log:v140\n"
     ]
    },
    {
     "name": "stderr",
     "output_type": "stream",
     "text": [
      "\u001b[34m\u001b[1mwandb\u001b[0m:   1 of 1 files downloaded.  \n"
     ]
    },
    {
     "name": "stdout",
     "output_type": "stream",
     "text": [
      "   ⬇️ Scaricato in: /home/lorenzo/Documenti/GitHub/Computer-Science-Sapienza/Computer Vision/project/artifacts/fold0_log:v140\n",
      "   ✅ Salvato: results/YOLOv11s/train/misunderstood-sweep-40_hgcspcuj_fold0_log_v140_results.csv\n",
      "   🔍 Artifact training: fold1_log:v142\n"
     ]
    },
    {
     "name": "stderr",
     "output_type": "stream",
     "text": [
      "\u001b[34m\u001b[1mwandb\u001b[0m:   1 of 1 files downloaded.  \n"
     ]
    },
    {
     "name": "stdout",
     "output_type": "stream",
     "text": [
      "   ⬇️ Scaricato in: /home/lorenzo/Documenti/GitHub/Computer-Science-Sapienza/Computer Vision/project/artifacts/fold1_log:v142\n",
      "   ✅ Salvato: results/YOLOv11s/train/misunderstood-sweep-40_hgcspcuj_fold1_log_v142_results.csv\n",
      "   🔍 Artifact training: fold2_log:v143\n"
     ]
    },
    {
     "name": "stderr",
     "output_type": "stream",
     "text": [
      "\u001b[34m\u001b[1mwandb\u001b[0m:   1 of 1 files downloaded.  \n"
     ]
    },
    {
     "name": "stdout",
     "output_type": "stream",
     "text": [
      "   ⬇️ Scaricato in: /home/lorenzo/Documenti/GitHub/Computer-Science-Sapienza/Computer Vision/project/artifacts/fold2_log:v143\n",
      "   ✅ Salvato: results/YOLOv11s/train/misunderstood-sweep-40_hgcspcuj_fold2_log_v143_results.csv\n",
      "   🔍 Artifact training: fold3_log:v143\n"
     ]
    },
    {
     "name": "stderr",
     "output_type": "stream",
     "text": [
      "\u001b[34m\u001b[1mwandb\u001b[0m:   1 of 1 files downloaded.  \n"
     ]
    },
    {
     "name": "stdout",
     "output_type": "stream",
     "text": [
      "   ⬇️ Scaricato in: /home/lorenzo/Documenti/GitHub/Computer-Science-Sapienza/Computer Vision/project/artifacts/fold3_log:v143\n",
      "   ✅ Salvato: results/YOLOv11s/train/misunderstood-sweep-40_hgcspcuj_fold3_log_v143_results.csv\n",
      "   🎉 Trovati 4 file\n",
      "🔄 Analizzo run: dutiful-sweep-39\n",
      "   ⚙️ Config salvato: configs/dutiful-sweep-39_qgpy2wrg_config.yaml\n",
      "   📁 Trovati 5 artifacts\n",
      "   🔍 Artifact training: fold0_log:v139\n"
     ]
    },
    {
     "name": "stderr",
     "output_type": "stream",
     "text": [
      "\u001b[34m\u001b[1mwandb\u001b[0m:   1 of 1 files downloaded.  \n"
     ]
    },
    {
     "name": "stdout",
     "output_type": "stream",
     "text": [
      "   ⬇️ Scaricato in: /home/lorenzo/Documenti/GitHub/Computer-Science-Sapienza/Computer Vision/project/artifacts/fold0_log:v139\n",
      "   ✅ Salvato: results/YOLOv11s/train/dutiful-sweep-39_qgpy2wrg_fold0_log_v139_results.csv\n",
      "   🔍 Artifact training: fold1_log:v141\n"
     ]
    },
    {
     "name": "stderr",
     "output_type": "stream",
     "text": [
      "\u001b[34m\u001b[1mwandb\u001b[0m:   1 of 1 files downloaded.  \n"
     ]
    },
    {
     "name": "stdout",
     "output_type": "stream",
     "text": [
      "   ⬇️ Scaricato in: /home/lorenzo/Documenti/GitHub/Computer-Science-Sapienza/Computer Vision/project/artifacts/fold1_log:v141\n",
      "   ✅ Salvato: results/YOLOv11s/train/dutiful-sweep-39_qgpy2wrg_fold1_log_v141_results.csv\n",
      "   🔍 Artifact training: fold2_log:v142\n"
     ]
    },
    {
     "name": "stderr",
     "output_type": "stream",
     "text": [
      "\u001b[34m\u001b[1mwandb\u001b[0m:   1 of 1 files downloaded.  \n"
     ]
    },
    {
     "name": "stdout",
     "output_type": "stream",
     "text": [
      "   ⬇️ Scaricato in: /home/lorenzo/Documenti/GitHub/Computer-Science-Sapienza/Computer Vision/project/artifacts/fold2_log:v142\n",
      "   ✅ Salvato: results/YOLOv11s/train/dutiful-sweep-39_qgpy2wrg_fold2_log_v142_results.csv\n",
      "   🔍 Artifact training: fold3_log:v142\n"
     ]
    },
    {
     "name": "stderr",
     "output_type": "stream",
     "text": [
      "\u001b[34m\u001b[1mwandb\u001b[0m:   1 of 1 files downloaded.  \n"
     ]
    },
    {
     "name": "stdout",
     "output_type": "stream",
     "text": [
      "   ⬇️ Scaricato in: /home/lorenzo/Documenti/GitHub/Computer-Science-Sapienza/Computer Vision/project/artifacts/fold3_log:v142\n",
      "   ✅ Salvato: results/YOLOv11s/train/dutiful-sweep-39_qgpy2wrg_fold3_log_v142_results.csv\n",
      "   🎉 Trovati 4 file\n",
      "🔄 Analizzo run: winter-sweep-38\n",
      "   ⚙️ Config salvato: configs/winter-sweep-38_xx4flqnl_config.yaml\n",
      "   📁 Trovati 5 artifacts\n",
      "   🔍 Artifact training: fold0_log:v138\n"
     ]
    },
    {
     "name": "stderr",
     "output_type": "stream",
     "text": [
      "\u001b[34m\u001b[1mwandb\u001b[0m:   1 of 1 files downloaded.  \n"
     ]
    },
    {
     "name": "stdout",
     "output_type": "stream",
     "text": [
      "   ⬇️ Scaricato in: /home/lorenzo/Documenti/GitHub/Computer-Science-Sapienza/Computer Vision/project/artifacts/fold0_log:v138\n",
      "   ✅ Salvato: results/YOLOv11s/train/winter-sweep-38_xx4flqnl_fold0_log_v138_results.csv\n",
      "   🔍 Artifact training: fold1_log:v140\n"
     ]
    },
    {
     "name": "stderr",
     "output_type": "stream",
     "text": [
      "\u001b[34m\u001b[1mwandb\u001b[0m:   1 of 1 files downloaded.  \n"
     ]
    },
    {
     "name": "stdout",
     "output_type": "stream",
     "text": [
      "   ⬇️ Scaricato in: /home/lorenzo/Documenti/GitHub/Computer-Science-Sapienza/Computer Vision/project/artifacts/fold1_log:v140\n",
      "   ✅ Salvato: results/YOLOv11s/train/winter-sweep-38_xx4flqnl_fold1_log_v140_results.csv\n",
      "   🔍 Artifact training: fold2_log:v141\n"
     ]
    },
    {
     "name": "stderr",
     "output_type": "stream",
     "text": [
      "\u001b[34m\u001b[1mwandb\u001b[0m:   1 of 1 files downloaded.  \n"
     ]
    },
    {
     "name": "stdout",
     "output_type": "stream",
     "text": [
      "   ⬇️ Scaricato in: /home/lorenzo/Documenti/GitHub/Computer-Science-Sapienza/Computer Vision/project/artifacts/fold2_log:v141\n",
      "   ✅ Salvato: results/YOLOv11s/train/winter-sweep-38_xx4flqnl_fold2_log_v141_results.csv\n",
      "   🔍 Artifact training: fold3_log:v141\n"
     ]
    },
    {
     "name": "stderr",
     "output_type": "stream",
     "text": [
      "\u001b[34m\u001b[1mwandb\u001b[0m:   1 of 1 files downloaded.  \n"
     ]
    },
    {
     "name": "stdout",
     "output_type": "stream",
     "text": [
      "   ⬇️ Scaricato in: /home/lorenzo/Documenti/GitHub/Computer-Science-Sapienza/Computer Vision/project/artifacts/fold3_log:v141\n",
      "   ✅ Salvato: results/YOLOv11s/train/winter-sweep-38_xx4flqnl_fold3_log_v141_results.csv\n",
      "   🎉 Trovati 4 file\n",
      "🔄 Analizzo run: celestial-sweep-37\n",
      "   ⚙️ Config salvato: configs/celestial-sweep-37_yzna6anl_config.yaml\n",
      "   📁 Trovati 5 artifacts\n",
      "   🔍 Artifact training: fold0_log:v137\n"
     ]
    },
    {
     "name": "stderr",
     "output_type": "stream",
     "text": [
      "\u001b[34m\u001b[1mwandb\u001b[0m:   1 of 1 files downloaded.  \n"
     ]
    },
    {
     "name": "stdout",
     "output_type": "stream",
     "text": [
      "   ⬇️ Scaricato in: /home/lorenzo/Documenti/GitHub/Computer-Science-Sapienza/Computer Vision/project/artifacts/fold0_log:v137\n",
      "   ✅ Salvato: results/YOLOv11s/train/celestial-sweep-37_yzna6anl_fold0_log_v137_results.csv\n",
      "   🔍 Artifact training: fold1_log:v139\n"
     ]
    },
    {
     "name": "stderr",
     "output_type": "stream",
     "text": [
      "\u001b[34m\u001b[1mwandb\u001b[0m:   1 of 1 files downloaded.  \n"
     ]
    },
    {
     "name": "stdout",
     "output_type": "stream",
     "text": [
      "   ⬇️ Scaricato in: /home/lorenzo/Documenti/GitHub/Computer-Science-Sapienza/Computer Vision/project/artifacts/fold1_log:v139\n",
      "   ✅ Salvato: results/YOLOv11s/train/celestial-sweep-37_yzna6anl_fold1_log_v139_results.csv\n",
      "   🔍 Artifact training: fold2_log:v140\n"
     ]
    },
    {
     "name": "stderr",
     "output_type": "stream",
     "text": [
      "\u001b[34m\u001b[1mwandb\u001b[0m:   1 of 1 files downloaded.  \n"
     ]
    },
    {
     "name": "stdout",
     "output_type": "stream",
     "text": [
      "   ⬇️ Scaricato in: /home/lorenzo/Documenti/GitHub/Computer-Science-Sapienza/Computer Vision/project/artifacts/fold2_log:v140\n",
      "   ✅ Salvato: results/YOLOv11s/train/celestial-sweep-37_yzna6anl_fold2_log_v140_results.csv\n",
      "   🔍 Artifact training: fold3_log:v140\n"
     ]
    },
    {
     "name": "stderr",
     "output_type": "stream",
     "text": [
      "\u001b[34m\u001b[1mwandb\u001b[0m:   1 of 1 files downloaded.  \n"
     ]
    },
    {
     "name": "stdout",
     "output_type": "stream",
     "text": [
      "   ⬇️ Scaricato in: /home/lorenzo/Documenti/GitHub/Computer-Science-Sapienza/Computer Vision/project/artifacts/fold3_log:v140\n",
      "   ✅ Salvato: results/YOLOv11s/train/celestial-sweep-37_yzna6anl_fold3_log_v140_results.csv\n",
      "   🎉 Trovati 4 file\n",
      "🔄 Analizzo run: jumping-sweep-36\n",
      "   ⚙️ Config salvato: configs/jumping-sweep-36_et8osnsz_config.yaml\n",
      "   📁 Trovati 5 artifacts\n",
      "   🔍 Artifact training: fold0_log:v136\n"
     ]
    },
    {
     "name": "stderr",
     "output_type": "stream",
     "text": [
      "\u001b[34m\u001b[1mwandb\u001b[0m:   1 of 1 files downloaded.  \n"
     ]
    },
    {
     "name": "stdout",
     "output_type": "stream",
     "text": [
      "   ⬇️ Scaricato in: /home/lorenzo/Documenti/GitHub/Computer-Science-Sapienza/Computer Vision/project/artifacts/fold0_log:v136\n",
      "   ✅ Salvato: results/YOLOv11s/train/jumping-sweep-36_et8osnsz_fold0_log_v136_results.csv\n",
      "   🔍 Artifact training: fold1_log:v138\n"
     ]
    },
    {
     "name": "stderr",
     "output_type": "stream",
     "text": [
      "\u001b[34m\u001b[1mwandb\u001b[0m:   1 of 1 files downloaded.  \n"
     ]
    },
    {
     "name": "stdout",
     "output_type": "stream",
     "text": [
      "   ⬇️ Scaricato in: /home/lorenzo/Documenti/GitHub/Computer-Science-Sapienza/Computer Vision/project/artifacts/fold1_log:v138\n",
      "   ✅ Salvato: results/YOLOv11s/train/jumping-sweep-36_et8osnsz_fold1_log_v138_results.csv\n",
      "   🔍 Artifact training: fold2_log:v139\n"
     ]
    },
    {
     "name": "stderr",
     "output_type": "stream",
     "text": [
      "\u001b[34m\u001b[1mwandb\u001b[0m:   1 of 1 files downloaded.  \n"
     ]
    },
    {
     "name": "stdout",
     "output_type": "stream",
     "text": [
      "   ⬇️ Scaricato in: /home/lorenzo/Documenti/GitHub/Computer-Science-Sapienza/Computer Vision/project/artifacts/fold2_log:v139\n",
      "   ✅ Salvato: results/YOLOv11s/train/jumping-sweep-36_et8osnsz_fold2_log_v139_results.csv\n",
      "   🔍 Artifact training: fold3_log:v139\n"
     ]
    },
    {
     "name": "stderr",
     "output_type": "stream",
     "text": [
      "\u001b[34m\u001b[1mwandb\u001b[0m:   1 of 1 files downloaded.  \n"
     ]
    },
    {
     "name": "stdout",
     "output_type": "stream",
     "text": [
      "   ⬇️ Scaricato in: /home/lorenzo/Documenti/GitHub/Computer-Science-Sapienza/Computer Vision/project/artifacts/fold3_log:v139\n",
      "   ✅ Salvato: results/YOLOv11s/train/jumping-sweep-36_et8osnsz_fold3_log_v139_results.csv\n",
      "   🎉 Trovati 4 file\n",
      "🔄 Analizzo run: northern-sweep-35\n",
      "   ⚙️ Config salvato: configs/northern-sweep-35_21dzzzyu_config.yaml\n",
      "   📁 Trovati 5 artifacts\n",
      "   🔍 Artifact training: fold0_log:v135\n"
     ]
    },
    {
     "name": "stderr",
     "output_type": "stream",
     "text": [
      "\u001b[34m\u001b[1mwandb\u001b[0m:   1 of 1 files downloaded.  \n"
     ]
    },
    {
     "name": "stdout",
     "output_type": "stream",
     "text": [
      "   ⬇️ Scaricato in: /home/lorenzo/Documenti/GitHub/Computer-Science-Sapienza/Computer Vision/project/artifacts/fold0_log:v135\n",
      "   ✅ Salvato: results/YOLOv11s/train/northern-sweep-35_21dzzzyu_fold0_log_v135_results.csv\n",
      "   🔍 Artifact training: fold1_log:v137\n"
     ]
    },
    {
     "name": "stderr",
     "output_type": "stream",
     "text": [
      "\u001b[34m\u001b[1mwandb\u001b[0m:   1 of 1 files downloaded.  \n"
     ]
    },
    {
     "name": "stdout",
     "output_type": "stream",
     "text": [
      "   ⬇️ Scaricato in: /home/lorenzo/Documenti/GitHub/Computer-Science-Sapienza/Computer Vision/project/artifacts/fold1_log:v137\n",
      "   ✅ Salvato: results/YOLOv11s/train/northern-sweep-35_21dzzzyu_fold1_log_v137_results.csv\n",
      "   🔍 Artifact training: fold2_log:v138\n"
     ]
    },
    {
     "name": "stderr",
     "output_type": "stream",
     "text": [
      "\u001b[34m\u001b[1mwandb\u001b[0m:   1 of 1 files downloaded.  \n"
     ]
    },
    {
     "name": "stdout",
     "output_type": "stream",
     "text": [
      "   ⬇️ Scaricato in: /home/lorenzo/Documenti/GitHub/Computer-Science-Sapienza/Computer Vision/project/artifacts/fold2_log:v138\n",
      "   ✅ Salvato: results/YOLOv11s/train/northern-sweep-35_21dzzzyu_fold2_log_v138_results.csv\n",
      "   🔍 Artifact training: fold3_log:v138\n"
     ]
    },
    {
     "name": "stderr",
     "output_type": "stream",
     "text": [
      "\u001b[34m\u001b[1mwandb\u001b[0m:   1 of 1 files downloaded.  \n"
     ]
    },
    {
     "name": "stdout",
     "output_type": "stream",
     "text": [
      "   ⬇️ Scaricato in: /home/lorenzo/Documenti/GitHub/Computer-Science-Sapienza/Computer Vision/project/artifacts/fold3_log:v138\n",
      "   ✅ Salvato: results/YOLOv11s/train/northern-sweep-35_21dzzzyu_fold3_log_v138_results.csv\n",
      "   🎉 Trovati 4 file\n",
      "🔄 Analizzo run: peach-sweep-34\n",
      "   ⚙️ Config salvato: configs/peach-sweep-34_8d6gcev0_config.yaml\n",
      "   📁 Trovati 5 artifacts\n",
      "   🔍 Artifact training: fold0_log:v134\n"
     ]
    },
    {
     "name": "stderr",
     "output_type": "stream",
     "text": [
      "\u001b[34m\u001b[1mwandb\u001b[0m:   1 of 1 files downloaded.  \n"
     ]
    },
    {
     "name": "stdout",
     "output_type": "stream",
     "text": [
      "   ⬇️ Scaricato in: /home/lorenzo/Documenti/GitHub/Computer-Science-Sapienza/Computer Vision/project/artifacts/fold0_log:v134\n",
      "   ✅ Salvato: results/YOLOv11s/train/peach-sweep-34_8d6gcev0_fold0_log_v134_results.csv\n",
      "   🔍 Artifact training: fold1_log:v136\n"
     ]
    },
    {
     "name": "stderr",
     "output_type": "stream",
     "text": [
      "\u001b[34m\u001b[1mwandb\u001b[0m:   1 of 1 files downloaded.  \n"
     ]
    },
    {
     "name": "stdout",
     "output_type": "stream",
     "text": [
      "   ⬇️ Scaricato in: /home/lorenzo/Documenti/GitHub/Computer-Science-Sapienza/Computer Vision/project/artifacts/fold1_log:v136\n",
      "   ✅ Salvato: results/YOLOv11s/train/peach-sweep-34_8d6gcev0_fold1_log_v136_results.csv\n",
      "   🔍 Artifact training: fold2_log:v137\n"
     ]
    },
    {
     "name": "stderr",
     "output_type": "stream",
     "text": [
      "\u001b[34m\u001b[1mwandb\u001b[0m:   1 of 1 files downloaded.  \n"
     ]
    },
    {
     "name": "stdout",
     "output_type": "stream",
     "text": [
      "   ⬇️ Scaricato in: /home/lorenzo/Documenti/GitHub/Computer-Science-Sapienza/Computer Vision/project/artifacts/fold2_log:v137\n",
      "   ✅ Salvato: results/YOLOv11s/train/peach-sweep-34_8d6gcev0_fold2_log_v137_results.csv\n",
      "   🔍 Artifact training: fold3_log:v137\n"
     ]
    },
    {
     "name": "stderr",
     "output_type": "stream",
     "text": [
      "\u001b[34m\u001b[1mwandb\u001b[0m:   1 of 1 files downloaded.  \n"
     ]
    },
    {
     "name": "stdout",
     "output_type": "stream",
     "text": [
      "   ⬇️ Scaricato in: /home/lorenzo/Documenti/GitHub/Computer-Science-Sapienza/Computer Vision/project/artifacts/fold3_log:v137\n",
      "   ✅ Salvato: results/YOLOv11s/train/peach-sweep-34_8d6gcev0_fold3_log_v137_results.csv\n",
      "   🎉 Trovati 4 file\n",
      "🔄 Analizzo run: eternal-sweep-33\n",
      "   ⚙️ Config salvato: configs/eternal-sweep-33_1qf6qcdh_config.yaml\n",
      "   📁 Trovati 5 artifacts\n",
      "   🔍 Artifact training: fold0_log:v133\n"
     ]
    },
    {
     "name": "stderr",
     "output_type": "stream",
     "text": [
      "\u001b[34m\u001b[1mwandb\u001b[0m:   1 of 1 files downloaded.  \n"
     ]
    },
    {
     "name": "stdout",
     "output_type": "stream",
     "text": [
      "   ⬇️ Scaricato in: /home/lorenzo/Documenti/GitHub/Computer-Science-Sapienza/Computer Vision/project/artifacts/fold0_log:v133\n",
      "   ✅ Salvato: results/YOLOv11s/train/eternal-sweep-33_1qf6qcdh_fold0_log_v133_results.csv\n",
      "   🔍 Artifact training: fold1_log:v135\n"
     ]
    },
    {
     "name": "stderr",
     "output_type": "stream",
     "text": [
      "\u001b[34m\u001b[1mwandb\u001b[0m:   1 of 1 files downloaded.  \n"
     ]
    },
    {
     "name": "stdout",
     "output_type": "stream",
     "text": [
      "   ⬇️ Scaricato in: /home/lorenzo/Documenti/GitHub/Computer-Science-Sapienza/Computer Vision/project/artifacts/fold1_log:v135\n",
      "   ✅ Salvato: results/YOLOv11s/train/eternal-sweep-33_1qf6qcdh_fold1_log_v135_results.csv\n",
      "   🔍 Artifact training: fold3_log:v136\n"
     ]
    },
    {
     "name": "stderr",
     "output_type": "stream",
     "text": [
      "\u001b[34m\u001b[1mwandb\u001b[0m:   1 of 1 files downloaded.  \n"
     ]
    },
    {
     "name": "stdout",
     "output_type": "stream",
     "text": [
      "   ⬇️ Scaricato in: /home/lorenzo/Documenti/GitHub/Computer-Science-Sapienza/Computer Vision/project/artifacts/fold3_log:v136\n",
      "   ✅ Salvato: results/YOLOv11s/train/eternal-sweep-33_1qf6qcdh_fold3_log_v136_results.csv\n",
      "   🔍 Artifact training: fold2_log:v136\n"
     ]
    },
    {
     "name": "stderr",
     "output_type": "stream",
     "text": [
      "\u001b[34m\u001b[1mwandb\u001b[0m:   1 of 1 files downloaded.  \n"
     ]
    },
    {
     "name": "stdout",
     "output_type": "stream",
     "text": [
      "   ⬇️ Scaricato in: /home/lorenzo/Documenti/GitHub/Computer-Science-Sapienza/Computer Vision/project/artifacts/fold2_log:v136\n",
      "   ✅ Salvato: results/YOLOv11s/train/eternal-sweep-33_1qf6qcdh_fold2_log_v136_results.csv\n",
      "   🎉 Trovati 4 file\n",
      "🔄 Analizzo run: fallen-sweep-32\n",
      "   ⚙️ Config salvato: configs/fallen-sweep-32_t4hknjn9_config.yaml\n",
      "   📁 Trovati 5 artifacts\n",
      "   🔍 Artifact training: fold1_log:v134\n"
     ]
    },
    {
     "name": "stderr",
     "output_type": "stream",
     "text": [
      "\u001b[34m\u001b[1mwandb\u001b[0m:   1 of 1 files downloaded.  \n"
     ]
    },
    {
     "name": "stdout",
     "output_type": "stream",
     "text": [
      "   ⬇️ Scaricato in: /home/lorenzo/Documenti/GitHub/Computer-Science-Sapienza/Computer Vision/project/artifacts/fold1_log:v134\n",
      "   ✅ Salvato: results/YOLOv11s/train/fallen-sweep-32_t4hknjn9_fold1_log_v134_results.csv\n",
      "   🔍 Artifact training: fold0_log:v132\n"
     ]
    },
    {
     "name": "stderr",
     "output_type": "stream",
     "text": [
      "\u001b[34m\u001b[1mwandb\u001b[0m:   1 of 1 files downloaded.  \n"
     ]
    },
    {
     "name": "stdout",
     "output_type": "stream",
     "text": [
      "   ⬇️ Scaricato in: /home/lorenzo/Documenti/GitHub/Computer-Science-Sapienza/Computer Vision/project/artifacts/fold0_log:v132\n",
      "   ✅ Salvato: results/YOLOv11s/train/fallen-sweep-32_t4hknjn9_fold0_log_v132_results.csv\n",
      "   🔍 Artifact training: fold2_log:v135\n"
     ]
    },
    {
     "name": "stderr",
     "output_type": "stream",
     "text": [
      "\u001b[34m\u001b[1mwandb\u001b[0m:   1 of 1 files downloaded.  \n"
     ]
    },
    {
     "name": "stdout",
     "output_type": "stream",
     "text": [
      "   ⬇️ Scaricato in: /home/lorenzo/Documenti/GitHub/Computer-Science-Sapienza/Computer Vision/project/artifacts/fold2_log:v135\n",
      "   ✅ Salvato: results/YOLOv11s/train/fallen-sweep-32_t4hknjn9_fold2_log_v135_results.csv\n",
      "   🔍 Artifact training: fold3_log:v135\n"
     ]
    },
    {
     "name": "stderr",
     "output_type": "stream",
     "text": [
      "\u001b[34m\u001b[1mwandb\u001b[0m:   1 of 1 files downloaded.  \n"
     ]
    },
    {
     "name": "stdout",
     "output_type": "stream",
     "text": [
      "   ⬇️ Scaricato in: /home/lorenzo/Documenti/GitHub/Computer-Science-Sapienza/Computer Vision/project/artifacts/fold3_log:v135\n",
      "   ✅ Salvato: results/YOLOv11s/train/fallen-sweep-32_t4hknjn9_fold3_log_v135_results.csv\n",
      "   🎉 Trovati 4 file\n",
      "🔄 Analizzo run: eternal-sweep-31\n",
      "   ⚙️ Config salvato: configs/eternal-sweep-31_4seovufw_config.yaml\n",
      "   📁 Trovati 5 artifacts\n",
      "   🔍 Artifact training: fold0_log:v131\n"
     ]
    },
    {
     "name": "stderr",
     "output_type": "stream",
     "text": [
      "\u001b[34m\u001b[1mwandb\u001b[0m:   1 of 1 files downloaded.  \n"
     ]
    },
    {
     "name": "stdout",
     "output_type": "stream",
     "text": [
      "   ⬇️ Scaricato in: /home/lorenzo/Documenti/GitHub/Computer-Science-Sapienza/Computer Vision/project/artifacts/fold0_log:v131\n",
      "   ✅ Salvato: results/YOLOv11s/train/eternal-sweep-31_4seovufw_fold0_log_v131_results.csv\n",
      "   🔍 Artifact training: fold1_log:v133\n"
     ]
    },
    {
     "name": "stderr",
     "output_type": "stream",
     "text": [
      "\u001b[34m\u001b[1mwandb\u001b[0m:   1 of 1 files downloaded.  \n"
     ]
    },
    {
     "name": "stdout",
     "output_type": "stream",
     "text": [
      "   ⬇️ Scaricato in: /home/lorenzo/Documenti/GitHub/Computer-Science-Sapienza/Computer Vision/project/artifacts/fold1_log:v133\n",
      "   ✅ Salvato: results/YOLOv11s/train/eternal-sweep-31_4seovufw_fold1_log_v133_results.csv\n",
      "   🔍 Artifact training: fold2_log:v134\n"
     ]
    },
    {
     "name": "stderr",
     "output_type": "stream",
     "text": [
      "\u001b[34m\u001b[1mwandb\u001b[0m:   1 of 1 files downloaded.  \n"
     ]
    },
    {
     "name": "stdout",
     "output_type": "stream",
     "text": [
      "   ⬇️ Scaricato in: /home/lorenzo/Documenti/GitHub/Computer-Science-Sapienza/Computer Vision/project/artifacts/fold2_log:v134\n",
      "   ✅ Salvato: results/YOLOv11s/train/eternal-sweep-31_4seovufw_fold2_log_v134_results.csv\n",
      "   🔍 Artifact training: fold3_log:v134\n"
     ]
    },
    {
     "name": "stderr",
     "output_type": "stream",
     "text": [
      "\u001b[34m\u001b[1mwandb\u001b[0m:   1 of 1 files downloaded.  \n"
     ]
    },
    {
     "name": "stdout",
     "output_type": "stream",
     "text": [
      "   ⬇️ Scaricato in: /home/lorenzo/Documenti/GitHub/Computer-Science-Sapienza/Computer Vision/project/artifacts/fold3_log:v134\n",
      "   ✅ Salvato: results/YOLOv11s/train/eternal-sweep-31_4seovufw_fold3_log_v134_results.csv\n",
      "   🎉 Trovati 4 file\n",
      "🔄 Analizzo run: restful-sweep-30\n",
      "   ⚙️ Config salvato: configs/restful-sweep-30_y98lod68_config.yaml\n",
      "   📁 Trovati 5 artifacts\n",
      "   🔍 Artifact training: fold0_log:v130\n"
     ]
    },
    {
     "name": "stderr",
     "output_type": "stream",
     "text": [
      "\u001b[34m\u001b[1mwandb\u001b[0m:   1 of 1 files downloaded.  \n"
     ]
    },
    {
     "name": "stdout",
     "output_type": "stream",
     "text": [
      "   ⬇️ Scaricato in: /home/lorenzo/Documenti/GitHub/Computer-Science-Sapienza/Computer Vision/project/artifacts/fold0_log:v130\n",
      "   ✅ Salvato: results/YOLOv11s/train/restful-sweep-30_y98lod68_fold0_log_v130_results.csv\n",
      "   🔍 Artifact training: fold1_log:v132\n"
     ]
    },
    {
     "name": "stderr",
     "output_type": "stream",
     "text": [
      "\u001b[34m\u001b[1mwandb\u001b[0m:   1 of 1 files downloaded.  \n"
     ]
    },
    {
     "name": "stdout",
     "output_type": "stream",
     "text": [
      "   ⬇️ Scaricato in: /home/lorenzo/Documenti/GitHub/Computer-Science-Sapienza/Computer Vision/project/artifacts/fold1_log:v132\n",
      "   ✅ Salvato: results/YOLOv11s/train/restful-sweep-30_y98lod68_fold1_log_v132_results.csv\n",
      "   🔍 Artifact training: fold2_log:v133\n"
     ]
    },
    {
     "name": "stderr",
     "output_type": "stream",
     "text": [
      "\u001b[34m\u001b[1mwandb\u001b[0m:   1 of 1 files downloaded.  \n"
     ]
    },
    {
     "name": "stdout",
     "output_type": "stream",
     "text": [
      "   ⬇️ Scaricato in: /home/lorenzo/Documenti/GitHub/Computer-Science-Sapienza/Computer Vision/project/artifacts/fold2_log:v133\n",
      "   ✅ Salvato: results/YOLOv11s/train/restful-sweep-30_y98lod68_fold2_log_v133_results.csv\n",
      "   🔍 Artifact training: fold3_log:v133\n"
     ]
    },
    {
     "name": "stderr",
     "output_type": "stream",
     "text": [
      "\u001b[34m\u001b[1mwandb\u001b[0m:   1 of 1 files downloaded.  \n"
     ]
    },
    {
     "name": "stdout",
     "output_type": "stream",
     "text": [
      "   ⬇️ Scaricato in: /home/lorenzo/Documenti/GitHub/Computer-Science-Sapienza/Computer Vision/project/artifacts/fold3_log:v133\n",
      "   ✅ Salvato: results/YOLOv11s/train/restful-sweep-30_y98lod68_fold3_log_v133_results.csv\n",
      "   🎉 Trovati 4 file\n",
      "🔄 Analizzo run: wild-sweep-29\n",
      "   ⚙️ Config salvato: configs/wild-sweep-29_iy8cnryj_config.yaml\n",
      "   📁 Trovati 5 artifacts\n",
      "   🔍 Artifact training: fold0_log:v129\n"
     ]
    },
    {
     "name": "stderr",
     "output_type": "stream",
     "text": [
      "\u001b[34m\u001b[1mwandb\u001b[0m:   1 of 1 files downloaded.  \n"
     ]
    },
    {
     "name": "stdout",
     "output_type": "stream",
     "text": [
      "   ⬇️ Scaricato in: /home/lorenzo/Documenti/GitHub/Computer-Science-Sapienza/Computer Vision/project/artifacts/fold0_log:v129\n",
      "   ✅ Salvato: results/YOLOv11s/train/wild-sweep-29_iy8cnryj_fold0_log_v129_results.csv\n",
      "   🔍 Artifact training: fold1_log:v131\n"
     ]
    },
    {
     "name": "stderr",
     "output_type": "stream",
     "text": [
      "\u001b[34m\u001b[1mwandb\u001b[0m:   1 of 1 files downloaded.  \n"
     ]
    },
    {
     "name": "stdout",
     "output_type": "stream",
     "text": [
      "   ⬇️ Scaricato in: /home/lorenzo/Documenti/GitHub/Computer-Science-Sapienza/Computer Vision/project/artifacts/fold1_log:v131\n",
      "   ✅ Salvato: results/YOLOv11s/train/wild-sweep-29_iy8cnryj_fold1_log_v131_results.csv\n",
      "   🔍 Artifact training: fold2_log:v132\n"
     ]
    },
    {
     "name": "stderr",
     "output_type": "stream",
     "text": [
      "\u001b[34m\u001b[1mwandb\u001b[0m:   1 of 1 files downloaded.  \n"
     ]
    },
    {
     "name": "stdout",
     "output_type": "stream",
     "text": [
      "   ⬇️ Scaricato in: /home/lorenzo/Documenti/GitHub/Computer-Science-Sapienza/Computer Vision/project/artifacts/fold2_log:v132\n",
      "   ✅ Salvato: results/YOLOv11s/train/wild-sweep-29_iy8cnryj_fold2_log_v132_results.csv\n",
      "   🔍 Artifact training: fold3_log:v132\n"
     ]
    },
    {
     "name": "stderr",
     "output_type": "stream",
     "text": [
      "\u001b[34m\u001b[1mwandb\u001b[0m:   1 of 1 files downloaded.  \n"
     ]
    },
    {
     "name": "stdout",
     "output_type": "stream",
     "text": [
      "   ⬇️ Scaricato in: /home/lorenzo/Documenti/GitHub/Computer-Science-Sapienza/Computer Vision/project/artifacts/fold3_log:v132\n",
      "   ✅ Salvato: results/YOLOv11s/train/wild-sweep-29_iy8cnryj_fold3_log_v132_results.csv\n",
      "   🎉 Trovati 4 file\n",
      "🔄 Analizzo run: dainty-sweep-28\n",
      "   ⚙️ Config salvato: configs/dainty-sweep-28_45wei8e3_config.yaml\n",
      "   📁 Trovati 5 artifacts\n",
      "   🔍 Artifact training: fold0_log:v128\n"
     ]
    },
    {
     "name": "stderr",
     "output_type": "stream",
     "text": [
      "\u001b[34m\u001b[1mwandb\u001b[0m:   1 of 1 files downloaded.  \n"
     ]
    },
    {
     "name": "stdout",
     "output_type": "stream",
     "text": [
      "   ⬇️ Scaricato in: /home/lorenzo/Documenti/GitHub/Computer-Science-Sapienza/Computer Vision/project/artifacts/fold0_log:v128\n",
      "   ✅ Salvato: results/YOLOv11s/train/dainty-sweep-28_45wei8e3_fold0_log_v128_results.csv\n",
      "   🔍 Artifact training: fold1_log:v130\n"
     ]
    },
    {
     "name": "stderr",
     "output_type": "stream",
     "text": [
      "\u001b[34m\u001b[1mwandb\u001b[0m:   1 of 1 files downloaded.  \n"
     ]
    },
    {
     "name": "stdout",
     "output_type": "stream",
     "text": [
      "   ⬇️ Scaricato in: /home/lorenzo/Documenti/GitHub/Computer-Science-Sapienza/Computer Vision/project/artifacts/fold1_log:v130\n",
      "   ✅ Salvato: results/YOLOv11s/train/dainty-sweep-28_45wei8e3_fold1_log_v130_results.csv\n",
      "   🔍 Artifact training: fold2_log:v131\n"
     ]
    },
    {
     "name": "stderr",
     "output_type": "stream",
     "text": [
      "\u001b[34m\u001b[1mwandb\u001b[0m:   1 of 1 files downloaded.  \n"
     ]
    },
    {
     "name": "stdout",
     "output_type": "stream",
     "text": [
      "   ⬇️ Scaricato in: /home/lorenzo/Documenti/GitHub/Computer-Science-Sapienza/Computer Vision/project/artifacts/fold2_log:v131\n",
      "   ✅ Salvato: results/YOLOv11s/train/dainty-sweep-28_45wei8e3_fold2_log_v131_results.csv\n",
      "   🔍 Artifact training: fold3_log:v131\n"
     ]
    },
    {
     "name": "stderr",
     "output_type": "stream",
     "text": [
      "\u001b[34m\u001b[1mwandb\u001b[0m:   1 of 1 files downloaded.  \n"
     ]
    },
    {
     "name": "stdout",
     "output_type": "stream",
     "text": [
      "   ⬇️ Scaricato in: /home/lorenzo/Documenti/GitHub/Computer-Science-Sapienza/Computer Vision/project/artifacts/fold3_log:v131\n",
      "   ✅ Salvato: results/YOLOv11s/train/dainty-sweep-28_45wei8e3_fold3_log_v131_results.csv\n",
      "   🎉 Trovati 4 file\n",
      "🔄 Analizzo run: eager-sweep-27\n",
      "   ⚙️ Config salvato: configs/eager-sweep-27_f8d5uvbm_config.yaml\n",
      "   📁 Trovati 5 artifacts\n",
      "   🔍 Artifact training: fold0_log:v127\n"
     ]
    },
    {
     "name": "stderr",
     "output_type": "stream",
     "text": [
      "\u001b[34m\u001b[1mwandb\u001b[0m:   1 of 1 files downloaded.  \n"
     ]
    },
    {
     "name": "stdout",
     "output_type": "stream",
     "text": [
      "   ⬇️ Scaricato in: /home/lorenzo/Documenti/GitHub/Computer-Science-Sapienza/Computer Vision/project/artifacts/fold0_log:v127\n",
      "   ✅ Salvato: results/YOLOv11s/train/eager-sweep-27_f8d5uvbm_fold0_log_v127_results.csv\n",
      "   🔍 Artifact training: fold1_log:v129\n"
     ]
    },
    {
     "name": "stderr",
     "output_type": "stream",
     "text": [
      "\u001b[34m\u001b[1mwandb\u001b[0m:   1 of 1 files downloaded.  \n"
     ]
    },
    {
     "name": "stdout",
     "output_type": "stream",
     "text": [
      "   ⬇️ Scaricato in: /home/lorenzo/Documenti/GitHub/Computer-Science-Sapienza/Computer Vision/project/artifacts/fold1_log:v129\n",
      "   ✅ Salvato: results/YOLOv11s/train/eager-sweep-27_f8d5uvbm_fold1_log_v129_results.csv\n",
      "   🔍 Artifact training: fold2_log:v130\n"
     ]
    },
    {
     "name": "stderr",
     "output_type": "stream",
     "text": [
      "\u001b[34m\u001b[1mwandb\u001b[0m:   1 of 1 files downloaded.  \n"
     ]
    },
    {
     "name": "stdout",
     "output_type": "stream",
     "text": [
      "   ⬇️ Scaricato in: /home/lorenzo/Documenti/GitHub/Computer-Science-Sapienza/Computer Vision/project/artifacts/fold2_log:v130\n",
      "   ✅ Salvato: results/YOLOv11s/train/eager-sweep-27_f8d5uvbm_fold2_log_v130_results.csv\n",
      "   🔍 Artifact training: fold3_log:v130\n"
     ]
    },
    {
     "name": "stderr",
     "output_type": "stream",
     "text": [
      "\u001b[34m\u001b[1mwandb\u001b[0m:   1 of 1 files downloaded.  \n"
     ]
    },
    {
     "name": "stdout",
     "output_type": "stream",
     "text": [
      "   ⬇️ Scaricato in: /home/lorenzo/Documenti/GitHub/Computer-Science-Sapienza/Computer Vision/project/artifacts/fold3_log:v130\n",
      "   ✅ Salvato: results/YOLOv11s/train/eager-sweep-27_f8d5uvbm_fold3_log_v130_results.csv\n",
      "   🎉 Trovati 4 file\n",
      "🔄 Analizzo run: astral-sweep-26\n",
      "   ⚙️ Config salvato: configs/astral-sweep-26_eem9km43_config.yaml\n",
      "   📁 Trovati 5 artifacts\n",
      "   🔍 Artifact training: fold0_log:v126\n"
     ]
    },
    {
     "name": "stderr",
     "output_type": "stream",
     "text": [
      "\u001b[34m\u001b[1mwandb\u001b[0m:   1 of 1 files downloaded.  \n"
     ]
    },
    {
     "name": "stdout",
     "output_type": "stream",
     "text": [
      "   ⬇️ Scaricato in: /home/lorenzo/Documenti/GitHub/Computer-Science-Sapienza/Computer Vision/project/artifacts/fold0_log:v126\n",
      "   ✅ Salvato: results/YOLOv11s/train/astral-sweep-26_eem9km43_fold0_log_v126_results.csv\n",
      "   🔍 Artifact training: fold1_log:v128\n"
     ]
    },
    {
     "name": "stderr",
     "output_type": "stream",
     "text": [
      "\u001b[34m\u001b[1mwandb\u001b[0m:   1 of 1 files downloaded.  \n"
     ]
    },
    {
     "name": "stdout",
     "output_type": "stream",
     "text": [
      "   ⬇️ Scaricato in: /home/lorenzo/Documenti/GitHub/Computer-Science-Sapienza/Computer Vision/project/artifacts/fold1_log:v128\n",
      "   ✅ Salvato: results/YOLOv11s/train/astral-sweep-26_eem9km43_fold1_log_v128_results.csv\n",
      "   🔍 Artifact training: fold2_log:v129\n"
     ]
    },
    {
     "name": "stderr",
     "output_type": "stream",
     "text": [
      "\u001b[34m\u001b[1mwandb\u001b[0m:   1 of 1 files downloaded.  \n"
     ]
    },
    {
     "name": "stdout",
     "output_type": "stream",
     "text": [
      "   ⬇️ Scaricato in: /home/lorenzo/Documenti/GitHub/Computer-Science-Sapienza/Computer Vision/project/artifacts/fold2_log:v129\n",
      "   ✅ Salvato: results/YOLOv11s/train/astral-sweep-26_eem9km43_fold2_log_v129_results.csv\n",
      "   🔍 Artifact training: fold3_log:v129\n"
     ]
    },
    {
     "name": "stderr",
     "output_type": "stream",
     "text": [
      "\u001b[34m\u001b[1mwandb\u001b[0m:   1 of 1 files downloaded.  \n"
     ]
    },
    {
     "name": "stdout",
     "output_type": "stream",
     "text": [
      "   ⬇️ Scaricato in: /home/lorenzo/Documenti/GitHub/Computer-Science-Sapienza/Computer Vision/project/artifacts/fold3_log:v129\n",
      "   ✅ Salvato: results/YOLOv11s/train/astral-sweep-26_eem9km43_fold3_log_v129_results.csv\n",
      "   🎉 Trovati 4 file\n",
      "🔄 Analizzo run: pleasant-sweep-25\n",
      "   ⚙️ Config salvato: configs/pleasant-sweep-25_ldmd27ng_config.yaml\n",
      "   📁 Trovati 5 artifacts\n",
      "   🔍 Artifact training: fold0_log:v125\n"
     ]
    },
    {
     "name": "stderr",
     "output_type": "stream",
     "text": [
      "\u001b[34m\u001b[1mwandb\u001b[0m:   1 of 1 files downloaded.  \n"
     ]
    },
    {
     "name": "stdout",
     "output_type": "stream",
     "text": [
      "   ⬇️ Scaricato in: /home/lorenzo/Documenti/GitHub/Computer-Science-Sapienza/Computer Vision/project/artifacts/fold0_log:v125\n",
      "   ✅ Salvato: results/YOLOv11s/train/pleasant-sweep-25_ldmd27ng_fold0_log_v125_results.csv\n",
      "   🔍 Artifact training: fold1_log:v127\n"
     ]
    },
    {
     "name": "stderr",
     "output_type": "stream",
     "text": [
      "\u001b[34m\u001b[1mwandb\u001b[0m:   1 of 1 files downloaded.  \n"
     ]
    },
    {
     "name": "stdout",
     "output_type": "stream",
     "text": [
      "   ⬇️ Scaricato in: /home/lorenzo/Documenti/GitHub/Computer-Science-Sapienza/Computer Vision/project/artifacts/fold1_log:v127\n",
      "   ✅ Salvato: results/YOLOv11s/train/pleasant-sweep-25_ldmd27ng_fold1_log_v127_results.csv\n",
      "   🔍 Artifact training: fold2_log:v128\n"
     ]
    },
    {
     "name": "stderr",
     "output_type": "stream",
     "text": [
      "\u001b[34m\u001b[1mwandb\u001b[0m:   1 of 1 files downloaded.  \n"
     ]
    },
    {
     "name": "stdout",
     "output_type": "stream",
     "text": [
      "   ⬇️ Scaricato in: /home/lorenzo/Documenti/GitHub/Computer-Science-Sapienza/Computer Vision/project/artifacts/fold2_log:v128\n",
      "   ✅ Salvato: results/YOLOv11s/train/pleasant-sweep-25_ldmd27ng_fold2_log_v128_results.csv\n",
      "   🔍 Artifact training: fold3_log:v128\n"
     ]
    },
    {
     "name": "stderr",
     "output_type": "stream",
     "text": [
      "\u001b[34m\u001b[1mwandb\u001b[0m:   1 of 1 files downloaded.  \n"
     ]
    },
    {
     "name": "stdout",
     "output_type": "stream",
     "text": [
      "   ⬇️ Scaricato in: /home/lorenzo/Documenti/GitHub/Computer-Science-Sapienza/Computer Vision/project/artifacts/fold3_log:v128\n",
      "   ✅ Salvato: results/YOLOv11s/train/pleasant-sweep-25_ldmd27ng_fold3_log_v128_results.csv\n",
      "   🎉 Trovati 4 file\n",
      "🔄 Analizzo run: major-sweep-24\n",
      "   ⚙️ Config salvato: configs/major-sweep-24_ayt3v4ur_config.yaml\n",
      "   📁 Trovati 5 artifacts\n",
      "   🔍 Artifact training: fold0_log:v124\n"
     ]
    },
    {
     "name": "stderr",
     "output_type": "stream",
     "text": [
      "\u001b[34m\u001b[1mwandb\u001b[0m:   1 of 1 files downloaded.  \n"
     ]
    },
    {
     "name": "stdout",
     "output_type": "stream",
     "text": [
      "   ⬇️ Scaricato in: /home/lorenzo/Documenti/GitHub/Computer-Science-Sapienza/Computer Vision/project/artifacts/fold0_log:v124\n",
      "   ✅ Salvato: results/YOLOv11s/train/major-sweep-24_ayt3v4ur_fold0_log_v124_results.csv\n",
      "   🔍 Artifact training: fold1_log:v126\n"
     ]
    },
    {
     "name": "stderr",
     "output_type": "stream",
     "text": [
      "\u001b[34m\u001b[1mwandb\u001b[0m:   1 of 1 files downloaded.  \n"
     ]
    },
    {
     "name": "stdout",
     "output_type": "stream",
     "text": [
      "   ⬇️ Scaricato in: /home/lorenzo/Documenti/GitHub/Computer-Science-Sapienza/Computer Vision/project/artifacts/fold1_log:v126\n",
      "   ✅ Salvato: results/YOLOv11s/train/major-sweep-24_ayt3v4ur_fold1_log_v126_results.csv\n",
      "   🔍 Artifact training: fold2_log:v127\n"
     ]
    },
    {
     "name": "stderr",
     "output_type": "stream",
     "text": [
      "\u001b[34m\u001b[1mwandb\u001b[0m:   1 of 1 files downloaded.  \n"
     ]
    },
    {
     "name": "stdout",
     "output_type": "stream",
     "text": [
      "   ⬇️ Scaricato in: /home/lorenzo/Documenti/GitHub/Computer-Science-Sapienza/Computer Vision/project/artifacts/fold2_log:v127\n",
      "   ✅ Salvato: results/YOLOv11s/train/major-sweep-24_ayt3v4ur_fold2_log_v127_results.csv\n",
      "   🔍 Artifact training: fold3_log:v127\n"
     ]
    },
    {
     "name": "stderr",
     "output_type": "stream",
     "text": [
      "\u001b[34m\u001b[1mwandb\u001b[0m:   1 of 1 files downloaded.  \n"
     ]
    },
    {
     "name": "stdout",
     "output_type": "stream",
     "text": [
      "   ⬇️ Scaricato in: /home/lorenzo/Documenti/GitHub/Computer-Science-Sapienza/Computer Vision/project/artifacts/fold3_log:v127\n",
      "   ✅ Salvato: results/YOLOv11s/train/major-sweep-24_ayt3v4ur_fold3_log_v127_results.csv\n",
      "   🎉 Trovati 4 file\n",
      "🔄 Analizzo run: feasible-sweep-23\n",
      "   ⚙️ Config salvato: configs/feasible-sweep-23_cvh48imq_config.yaml\n",
      "   📁 Trovati 5 artifacts\n",
      "   🔍 Artifact training: fold0_log:v123\n"
     ]
    },
    {
     "name": "stderr",
     "output_type": "stream",
     "text": [
      "\u001b[34m\u001b[1mwandb\u001b[0m:   1 of 1 files downloaded.  \n"
     ]
    },
    {
     "name": "stdout",
     "output_type": "stream",
     "text": [
      "   ⬇️ Scaricato in: /home/lorenzo/Documenti/GitHub/Computer-Science-Sapienza/Computer Vision/project/artifacts/fold0_log:v123\n",
      "   ✅ Salvato: results/YOLOv11s/train/feasible-sweep-23_cvh48imq_fold0_log_v123_results.csv\n",
      "   🔍 Artifact training: fold1_log:v125\n"
     ]
    },
    {
     "name": "stderr",
     "output_type": "stream",
     "text": [
      "\u001b[34m\u001b[1mwandb\u001b[0m:   1 of 1 files downloaded.  \n"
     ]
    },
    {
     "name": "stdout",
     "output_type": "stream",
     "text": [
      "   ⬇️ Scaricato in: /home/lorenzo/Documenti/GitHub/Computer-Science-Sapienza/Computer Vision/project/artifacts/fold1_log:v125\n",
      "   ✅ Salvato: results/YOLOv11s/train/feasible-sweep-23_cvh48imq_fold1_log_v125_results.csv\n",
      "   🔍 Artifact training: fold2_log:v126\n"
     ]
    },
    {
     "name": "stderr",
     "output_type": "stream",
     "text": [
      "\u001b[34m\u001b[1mwandb\u001b[0m:   1 of 1 files downloaded.  \n"
     ]
    },
    {
     "name": "stdout",
     "output_type": "stream",
     "text": [
      "   ⬇️ Scaricato in: /home/lorenzo/Documenti/GitHub/Computer-Science-Sapienza/Computer Vision/project/artifacts/fold2_log:v126\n",
      "   ✅ Salvato: results/YOLOv11s/train/feasible-sweep-23_cvh48imq_fold2_log_v126_results.csv\n",
      "   🔍 Artifact training: fold3_log:v126\n"
     ]
    },
    {
     "name": "stderr",
     "output_type": "stream",
     "text": [
      "\u001b[34m\u001b[1mwandb\u001b[0m:   1 of 1 files downloaded.  \n"
     ]
    },
    {
     "name": "stdout",
     "output_type": "stream",
     "text": [
      "   ⬇️ Scaricato in: /home/lorenzo/Documenti/GitHub/Computer-Science-Sapienza/Computer Vision/project/artifacts/fold3_log:v126\n",
      "   ✅ Salvato: results/YOLOv11s/train/feasible-sweep-23_cvh48imq_fold3_log_v126_results.csv\n",
      "   🎉 Trovati 4 file\n",
      "🔄 Analizzo run: amber-sweep-22\n",
      "   ⚙️ Config salvato: configs/amber-sweep-22_21cfmjcm_config.yaml\n",
      "   📁 Trovati 5 artifacts\n",
      "   🔍 Artifact training: fold0_log:v122\n"
     ]
    },
    {
     "name": "stderr",
     "output_type": "stream",
     "text": [
      "\u001b[34m\u001b[1mwandb\u001b[0m:   1 of 1 files downloaded.  \n"
     ]
    },
    {
     "name": "stdout",
     "output_type": "stream",
     "text": [
      "   ⬇️ Scaricato in: /home/lorenzo/Documenti/GitHub/Computer-Science-Sapienza/Computer Vision/project/artifacts/fold0_log:v122\n",
      "   ✅ Salvato: results/YOLOv11s/train/amber-sweep-22_21cfmjcm_fold0_log_v122_results.csv\n",
      "   🔍 Artifact training: fold1_log:v124\n"
     ]
    },
    {
     "name": "stderr",
     "output_type": "stream",
     "text": [
      "\u001b[34m\u001b[1mwandb\u001b[0m:   1 of 1 files downloaded.  \n"
     ]
    },
    {
     "name": "stdout",
     "output_type": "stream",
     "text": [
      "   ⬇️ Scaricato in: /home/lorenzo/Documenti/GitHub/Computer-Science-Sapienza/Computer Vision/project/artifacts/fold1_log:v124\n",
      "   ✅ Salvato: results/YOLOv11s/train/amber-sweep-22_21cfmjcm_fold1_log_v124_results.csv\n",
      "   🔍 Artifact training: fold2_log:v125\n"
     ]
    },
    {
     "name": "stderr",
     "output_type": "stream",
     "text": [
      "\u001b[34m\u001b[1mwandb\u001b[0m:   1 of 1 files downloaded.  \n"
     ]
    },
    {
     "name": "stdout",
     "output_type": "stream",
     "text": [
      "   ⬇️ Scaricato in: /home/lorenzo/Documenti/GitHub/Computer-Science-Sapienza/Computer Vision/project/artifacts/fold2_log:v125\n",
      "   ✅ Salvato: results/YOLOv11s/train/amber-sweep-22_21cfmjcm_fold2_log_v125_results.csv\n",
      "   🔍 Artifact training: fold3_log:v125\n"
     ]
    },
    {
     "name": "stderr",
     "output_type": "stream",
     "text": [
      "\u001b[34m\u001b[1mwandb\u001b[0m:   1 of 1 files downloaded.  \n"
     ]
    },
    {
     "name": "stdout",
     "output_type": "stream",
     "text": [
      "   ⬇️ Scaricato in: /home/lorenzo/Documenti/GitHub/Computer-Science-Sapienza/Computer Vision/project/artifacts/fold3_log:v125\n",
      "   ✅ Salvato: results/YOLOv11s/train/amber-sweep-22_21cfmjcm_fold3_log_v125_results.csv\n",
      "   🎉 Trovati 4 file\n",
      "🔄 Analizzo run: kind-sweep-21\n",
      "   ⚙️ Config salvato: configs/kind-sweep-21_tr0pe4ud_config.yaml\n",
      "   📁 Trovati 4 artifacts\n",
      "   🔍 Artifact training: fold0_log:v121\n"
     ]
    },
    {
     "name": "stderr",
     "output_type": "stream",
     "text": [
      "\u001b[34m\u001b[1mwandb\u001b[0m:   1 of 1 files downloaded.  \n"
     ]
    },
    {
     "name": "stdout",
     "output_type": "stream",
     "text": [
      "   ⬇️ Scaricato in: /home/lorenzo/Documenti/GitHub/Computer-Science-Sapienza/Computer Vision/project/artifacts/fold0_log:v121\n",
      "   ✅ Salvato: results/YOLOv11s/train/kind-sweep-21_tr0pe4ud_fold0_log_v121_results.csv\n",
      "   🔍 Artifact training: fold1_log:v123\n"
     ]
    },
    {
     "name": "stderr",
     "output_type": "stream",
     "text": [
      "\u001b[34m\u001b[1mwandb\u001b[0m:   1 of 1 files downloaded.  \n"
     ]
    },
    {
     "name": "stdout",
     "output_type": "stream",
     "text": [
      "   ⬇️ Scaricato in: /home/lorenzo/Documenti/GitHub/Computer-Science-Sapienza/Computer Vision/project/artifacts/fold1_log:v123\n",
      "   ✅ Salvato: results/YOLOv11s/train/kind-sweep-21_tr0pe4ud_fold1_log_v123_results.csv\n",
      "   🔍 Artifact training: fold2_log:v124\n"
     ]
    },
    {
     "name": "stderr",
     "output_type": "stream",
     "text": [
      "\u001b[34m\u001b[1mwandb\u001b[0m:   1 of 1 files downloaded.  \n"
     ]
    },
    {
     "name": "stdout",
     "output_type": "stream",
     "text": [
      "   ⬇️ Scaricato in: /home/lorenzo/Documenti/GitHub/Computer-Science-Sapienza/Computer Vision/project/artifacts/fold2_log:v124\n",
      "   ✅ Salvato: results/YOLOv11s/train/kind-sweep-21_tr0pe4ud_fold2_log_v124_results.csv\n",
      "   🔍 Artifact training: fold3_log:v124\n"
     ]
    },
    {
     "name": "stderr",
     "output_type": "stream",
     "text": [
      "\u001b[34m\u001b[1mwandb\u001b[0m:   1 of 1 files downloaded.  \n"
     ]
    },
    {
     "name": "stdout",
     "output_type": "stream",
     "text": [
      "   ⬇️ Scaricato in: /home/lorenzo/Documenti/GitHub/Computer-Science-Sapienza/Computer Vision/project/artifacts/fold3_log:v124\n",
      "   ✅ Salvato: results/YOLOv11s/train/kind-sweep-21_tr0pe4ud_fold3_log_v124_results.csv\n",
      "   🎉 Trovati 4 file\n",
      "🔄 Analizzo run: stoic-sweep-20\n",
      "   ⚙️ Config salvato: configs/stoic-sweep-20_2lp7qswl_config.yaml\n",
      "   📁 Trovati 5 artifacts\n",
      "   🔍 Artifact training: fold0_log:v120\n"
     ]
    },
    {
     "name": "stderr",
     "output_type": "stream",
     "text": [
      "\u001b[34m\u001b[1mwandb\u001b[0m:   1 of 1 files downloaded.  \n"
     ]
    },
    {
     "name": "stdout",
     "output_type": "stream",
     "text": [
      "   ⬇️ Scaricato in: /home/lorenzo/Documenti/GitHub/Computer-Science-Sapienza/Computer Vision/project/artifacts/fold0_log:v120\n",
      "   ✅ Salvato: results/YOLOv11s/train/stoic-sweep-20_2lp7qswl_fold0_log_v120_results.csv\n",
      "   🔍 Artifact training: fold1_log:v122\n"
     ]
    },
    {
     "name": "stderr",
     "output_type": "stream",
     "text": [
      "\u001b[34m\u001b[1mwandb\u001b[0m:   1 of 1 files downloaded.  \n"
     ]
    },
    {
     "name": "stdout",
     "output_type": "stream",
     "text": [
      "   ⬇️ Scaricato in: /home/lorenzo/Documenti/GitHub/Computer-Science-Sapienza/Computer Vision/project/artifacts/fold1_log:v122\n",
      "   ✅ Salvato: results/YOLOv11s/train/stoic-sweep-20_2lp7qswl_fold1_log_v122_results.csv\n",
      "   🔍 Artifact training: fold2_log:v123\n"
     ]
    },
    {
     "name": "stderr",
     "output_type": "stream",
     "text": [
      "\u001b[34m\u001b[1mwandb\u001b[0m:   1 of 1 files downloaded.  \n"
     ]
    },
    {
     "name": "stdout",
     "output_type": "stream",
     "text": [
      "   ⬇️ Scaricato in: /home/lorenzo/Documenti/GitHub/Computer-Science-Sapienza/Computer Vision/project/artifacts/fold2_log:v123\n",
      "   ✅ Salvato: results/YOLOv11s/train/stoic-sweep-20_2lp7qswl_fold2_log_v123_results.csv\n",
      "   🔍 Artifact training: fold3_log:v123\n"
     ]
    },
    {
     "name": "stderr",
     "output_type": "stream",
     "text": [
      "\u001b[34m\u001b[1mwandb\u001b[0m:   1 of 1 files downloaded.  \n"
     ]
    },
    {
     "name": "stdout",
     "output_type": "stream",
     "text": [
      "   ⬇️ Scaricato in: /home/lorenzo/Documenti/GitHub/Computer-Science-Sapienza/Computer Vision/project/artifacts/fold3_log:v123\n",
      "   ✅ Salvato: results/YOLOv11s/train/stoic-sweep-20_2lp7qswl_fold3_log_v123_results.csv\n",
      "   🎉 Trovati 4 file\n",
      "🔄 Analizzo run: denim-sweep-19\n",
      "   ⚙️ Config salvato: configs/denim-sweep-19_3qi1cwu3_config.yaml\n",
      "   📁 Trovati 5 artifacts\n",
      "   🔍 Artifact training: fold0_log:v119\n"
     ]
    },
    {
     "name": "stderr",
     "output_type": "stream",
     "text": [
      "\u001b[34m\u001b[1mwandb\u001b[0m:   1 of 1 files downloaded.  \n"
     ]
    },
    {
     "name": "stdout",
     "output_type": "stream",
     "text": [
      "   ⬇️ Scaricato in: /home/lorenzo/Documenti/GitHub/Computer-Science-Sapienza/Computer Vision/project/artifacts/fold0_log:v119\n",
      "   ✅ Salvato: results/YOLOv11s/train/denim-sweep-19_3qi1cwu3_fold0_log_v119_results.csv\n",
      "   🔍 Artifact training: fold1_log:v121\n"
     ]
    },
    {
     "name": "stderr",
     "output_type": "stream",
     "text": [
      "\u001b[34m\u001b[1mwandb\u001b[0m:   1 of 1 files downloaded.  \n"
     ]
    },
    {
     "name": "stdout",
     "output_type": "stream",
     "text": [
      "   ⬇️ Scaricato in: /home/lorenzo/Documenti/GitHub/Computer-Science-Sapienza/Computer Vision/project/artifacts/fold1_log:v121\n",
      "   ✅ Salvato: results/YOLOv11s/train/denim-sweep-19_3qi1cwu3_fold1_log_v121_results.csv\n",
      "   🔍 Artifact training: fold2_log:v122\n"
     ]
    },
    {
     "name": "stderr",
     "output_type": "stream",
     "text": [
      "\u001b[34m\u001b[1mwandb\u001b[0m:   1 of 1 files downloaded.  \n"
     ]
    },
    {
     "name": "stdout",
     "output_type": "stream",
     "text": [
      "   ⬇️ Scaricato in: /home/lorenzo/Documenti/GitHub/Computer-Science-Sapienza/Computer Vision/project/artifacts/fold2_log:v122\n",
      "   ✅ Salvato: results/YOLOv11s/train/denim-sweep-19_3qi1cwu3_fold2_log_v122_results.csv\n",
      "   🔍 Artifact training: fold3_log:v122\n"
     ]
    },
    {
     "name": "stderr",
     "output_type": "stream",
     "text": [
      "\u001b[34m\u001b[1mwandb\u001b[0m:   1 of 1 files downloaded.  \n"
     ]
    },
    {
     "name": "stdout",
     "output_type": "stream",
     "text": [
      "   ⬇️ Scaricato in: /home/lorenzo/Documenti/GitHub/Computer-Science-Sapienza/Computer Vision/project/artifacts/fold3_log:v122\n",
      "   ✅ Salvato: results/YOLOv11s/train/denim-sweep-19_3qi1cwu3_fold3_log_v122_results.csv\n",
      "   🎉 Trovati 4 file\n",
      "🔄 Analizzo run: vocal-sweep-18\n",
      "   ⚙️ Config salvato: configs/vocal-sweep-18_g8zbu9t4_config.yaml\n",
      "   📁 Trovati 5 artifacts\n",
      "   🔍 Artifact training: fold0_log:v118\n"
     ]
    },
    {
     "name": "stderr",
     "output_type": "stream",
     "text": [
      "\u001b[34m\u001b[1mwandb\u001b[0m:   1 of 1 files downloaded.  \n"
     ]
    },
    {
     "name": "stdout",
     "output_type": "stream",
     "text": [
      "   ⬇️ Scaricato in: /home/lorenzo/Documenti/GitHub/Computer-Science-Sapienza/Computer Vision/project/artifacts/fold0_log:v118\n",
      "   ✅ Salvato: results/YOLOv11s/train/vocal-sweep-18_g8zbu9t4_fold0_log_v118_results.csv\n",
      "   🔍 Artifact training: fold1_log:v120\n"
     ]
    },
    {
     "name": "stderr",
     "output_type": "stream",
     "text": [
      "\u001b[34m\u001b[1mwandb\u001b[0m:   1 of 1 files downloaded.  \n"
     ]
    },
    {
     "name": "stdout",
     "output_type": "stream",
     "text": [
      "   ⬇️ Scaricato in: /home/lorenzo/Documenti/GitHub/Computer-Science-Sapienza/Computer Vision/project/artifacts/fold1_log:v120\n",
      "   ✅ Salvato: results/YOLOv11s/train/vocal-sweep-18_g8zbu9t4_fold1_log_v120_results.csv\n",
      "   🔍 Artifact training: fold2_log:v121\n"
     ]
    },
    {
     "name": "stderr",
     "output_type": "stream",
     "text": [
      "\u001b[34m\u001b[1mwandb\u001b[0m:   1 of 1 files downloaded.  \n"
     ]
    },
    {
     "name": "stdout",
     "output_type": "stream",
     "text": [
      "   ⬇️ Scaricato in: /home/lorenzo/Documenti/GitHub/Computer-Science-Sapienza/Computer Vision/project/artifacts/fold2_log:v121\n",
      "   ✅ Salvato: results/YOLOv11s/train/vocal-sweep-18_g8zbu9t4_fold2_log_v121_results.csv\n",
      "   🔍 Artifact training: fold3_log:v121\n"
     ]
    },
    {
     "name": "stderr",
     "output_type": "stream",
     "text": [
      "\u001b[34m\u001b[1mwandb\u001b[0m:   1 of 1 files downloaded.  \n"
     ]
    },
    {
     "name": "stdout",
     "output_type": "stream",
     "text": [
      "   ⬇️ Scaricato in: /home/lorenzo/Documenti/GitHub/Computer-Science-Sapienza/Computer Vision/project/artifacts/fold3_log:v121\n",
      "   ✅ Salvato: results/YOLOv11s/train/vocal-sweep-18_g8zbu9t4_fold3_log_v121_results.csv\n",
      "   🎉 Trovati 4 file\n",
      "🔄 Analizzo run: devout-sweep-17\n",
      "   ⚙️ Config salvato: configs/devout-sweep-17_duukxc05_config.yaml\n",
      "   📁 Trovati 5 artifacts\n",
      "   🔍 Artifact training: fold0_log:v117\n"
     ]
    },
    {
     "name": "stderr",
     "output_type": "stream",
     "text": [
      "\u001b[34m\u001b[1mwandb\u001b[0m:   1 of 1 files downloaded.  \n"
     ]
    },
    {
     "name": "stdout",
     "output_type": "stream",
     "text": [
      "   ⬇️ Scaricato in: /home/lorenzo/Documenti/GitHub/Computer-Science-Sapienza/Computer Vision/project/artifacts/fold0_log:v117\n",
      "   ✅ Salvato: results/YOLOv11s/train/devout-sweep-17_duukxc05_fold0_log_v117_results.csv\n",
      "   🔍 Artifact training: fold1_log:v119\n"
     ]
    },
    {
     "name": "stderr",
     "output_type": "stream",
     "text": [
      "\u001b[34m\u001b[1mwandb\u001b[0m:   1 of 1 files downloaded.  \n"
     ]
    },
    {
     "name": "stdout",
     "output_type": "stream",
     "text": [
      "   ⬇️ Scaricato in: /home/lorenzo/Documenti/GitHub/Computer-Science-Sapienza/Computer Vision/project/artifacts/fold1_log:v119\n",
      "   ✅ Salvato: results/YOLOv11s/train/devout-sweep-17_duukxc05_fold1_log_v119_results.csv\n",
      "   🔍 Artifact training: fold2_log:v120\n"
     ]
    },
    {
     "name": "stderr",
     "output_type": "stream",
     "text": [
      "\u001b[34m\u001b[1mwandb\u001b[0m:   1 of 1 files downloaded.  \n"
     ]
    },
    {
     "name": "stdout",
     "output_type": "stream",
     "text": [
      "   ⬇️ Scaricato in: /home/lorenzo/Documenti/GitHub/Computer-Science-Sapienza/Computer Vision/project/artifacts/fold2_log:v120\n",
      "   ✅ Salvato: results/YOLOv11s/train/devout-sweep-17_duukxc05_fold2_log_v120_results.csv\n",
      "   🔍 Artifact training: fold3_log:v120\n"
     ]
    },
    {
     "name": "stderr",
     "output_type": "stream",
     "text": [
      "\u001b[34m\u001b[1mwandb\u001b[0m:   1 of 1 files downloaded.  \n"
     ]
    },
    {
     "name": "stdout",
     "output_type": "stream",
     "text": [
      "   ⬇️ Scaricato in: /home/lorenzo/Documenti/GitHub/Computer-Science-Sapienza/Computer Vision/project/artifacts/fold3_log:v120\n",
      "   ✅ Salvato: results/YOLOv11s/train/devout-sweep-17_duukxc05_fold3_log_v120_results.csv\n",
      "   🎉 Trovati 4 file\n",
      "🔄 Analizzo run: polished-sweep-16\n",
      "   ⚙️ Config salvato: configs/polished-sweep-16_bfw8nbe4_config.yaml\n",
      "   📁 Trovati 5 artifacts\n",
      "   🔍 Artifact training: fold0_log:v116\n"
     ]
    },
    {
     "name": "stderr",
     "output_type": "stream",
     "text": [
      "\u001b[34m\u001b[1mwandb\u001b[0m:   1 of 1 files downloaded.  \n"
     ]
    },
    {
     "name": "stdout",
     "output_type": "stream",
     "text": [
      "   ⬇️ Scaricato in: /home/lorenzo/Documenti/GitHub/Computer-Science-Sapienza/Computer Vision/project/artifacts/fold0_log:v116\n",
      "   ✅ Salvato: results/YOLOv11s/train/polished-sweep-16_bfw8nbe4_fold0_log_v116_results.csv\n",
      "   🔍 Artifact training: fold1_log:v118\n"
     ]
    },
    {
     "name": "stderr",
     "output_type": "stream",
     "text": [
      "\u001b[34m\u001b[1mwandb\u001b[0m:   1 of 1 files downloaded.  \n"
     ]
    },
    {
     "name": "stdout",
     "output_type": "stream",
     "text": [
      "   ⬇️ Scaricato in: /home/lorenzo/Documenti/GitHub/Computer-Science-Sapienza/Computer Vision/project/artifacts/fold1_log:v118\n",
      "   ✅ Salvato: results/YOLOv11s/train/polished-sweep-16_bfw8nbe4_fold1_log_v118_results.csv\n",
      "   🔍 Artifact training: fold2_log:v119\n"
     ]
    },
    {
     "name": "stderr",
     "output_type": "stream",
     "text": [
      "\u001b[34m\u001b[1mwandb\u001b[0m:   1 of 1 files downloaded.  \n"
     ]
    },
    {
     "name": "stdout",
     "output_type": "stream",
     "text": [
      "   ⬇️ Scaricato in: /home/lorenzo/Documenti/GitHub/Computer-Science-Sapienza/Computer Vision/project/artifacts/fold2_log:v119\n",
      "   ✅ Salvato: results/YOLOv11s/train/polished-sweep-16_bfw8nbe4_fold2_log_v119_results.csv\n",
      "   🔍 Artifact training: fold3_log:v119\n"
     ]
    },
    {
     "name": "stderr",
     "output_type": "stream",
     "text": [
      "\u001b[34m\u001b[1mwandb\u001b[0m:   1 of 1 files downloaded.  \n"
     ]
    },
    {
     "name": "stdout",
     "output_type": "stream",
     "text": [
      "   ⬇️ Scaricato in: /home/lorenzo/Documenti/GitHub/Computer-Science-Sapienza/Computer Vision/project/artifacts/fold3_log:v119\n",
      "   ✅ Salvato: results/YOLOv11s/train/polished-sweep-16_bfw8nbe4_fold3_log_v119_results.csv\n",
      "   🎉 Trovati 4 file\n",
      "🔄 Analizzo run: expert-sweep-15\n",
      "   ⚙️ Config salvato: configs/expert-sweep-15_t3qsbdck_config.yaml\n",
      "   📁 Trovati 5 artifacts\n",
      "   🔍 Artifact training: fold0_log:v115\n"
     ]
    },
    {
     "name": "stderr",
     "output_type": "stream",
     "text": [
      "\u001b[34m\u001b[1mwandb\u001b[0m:   1 of 1 files downloaded.  \n"
     ]
    },
    {
     "name": "stdout",
     "output_type": "stream",
     "text": [
      "   ⬇️ Scaricato in: /home/lorenzo/Documenti/GitHub/Computer-Science-Sapienza/Computer Vision/project/artifacts/fold0_log:v115\n",
      "   ✅ Salvato: results/YOLOv11s/train/expert-sweep-15_t3qsbdck_fold0_log_v115_results.csv\n",
      "   🔍 Artifact training: fold1_log:v117\n"
     ]
    },
    {
     "name": "stderr",
     "output_type": "stream",
     "text": [
      "\u001b[34m\u001b[1mwandb\u001b[0m:   1 of 1 files downloaded.  \n"
     ]
    },
    {
     "name": "stdout",
     "output_type": "stream",
     "text": [
      "   ⬇️ Scaricato in: /home/lorenzo/Documenti/GitHub/Computer-Science-Sapienza/Computer Vision/project/artifacts/fold1_log:v117\n",
      "   ✅ Salvato: results/YOLOv11s/train/expert-sweep-15_t3qsbdck_fold1_log_v117_results.csv\n",
      "   🔍 Artifact training: fold2_log:v118\n"
     ]
    },
    {
     "name": "stderr",
     "output_type": "stream",
     "text": [
      "\u001b[34m\u001b[1mwandb\u001b[0m:   1 of 1 files downloaded.  \n"
     ]
    },
    {
     "name": "stdout",
     "output_type": "stream",
     "text": [
      "   ⬇️ Scaricato in: /home/lorenzo/Documenti/GitHub/Computer-Science-Sapienza/Computer Vision/project/artifacts/fold2_log:v118\n",
      "   ✅ Salvato: results/YOLOv11s/train/expert-sweep-15_t3qsbdck_fold2_log_v118_results.csv\n",
      "   🔍 Artifact training: fold3_log:v118\n"
     ]
    },
    {
     "name": "stderr",
     "output_type": "stream",
     "text": [
      "\u001b[34m\u001b[1mwandb\u001b[0m:   1 of 1 files downloaded.  \n"
     ]
    },
    {
     "name": "stdout",
     "output_type": "stream",
     "text": [
      "   ⬇️ Scaricato in: /home/lorenzo/Documenti/GitHub/Computer-Science-Sapienza/Computer Vision/project/artifacts/fold3_log:v118\n",
      "   ✅ Salvato: results/YOLOv11s/train/expert-sweep-15_t3qsbdck_fold3_log_v118_results.csv\n",
      "   🎉 Trovati 4 file\n",
      "🔄 Analizzo run: olive-sweep-14\n",
      "   ⚙️ Config salvato: configs/olive-sweep-14_1et2xdf2_config.yaml\n",
      "   📁 Trovati 5 artifacts\n",
      "   🔍 Artifact training: fold0_log:v114\n"
     ]
    },
    {
     "name": "stderr",
     "output_type": "stream",
     "text": [
      "\u001b[34m\u001b[1mwandb\u001b[0m:   1 of 1 files downloaded.  \n"
     ]
    },
    {
     "name": "stdout",
     "output_type": "stream",
     "text": [
      "   ⬇️ Scaricato in: /home/lorenzo/Documenti/GitHub/Computer-Science-Sapienza/Computer Vision/project/artifacts/fold0_log:v114\n",
      "   ✅ Salvato: results/YOLOv11s/train/olive-sweep-14_1et2xdf2_fold0_log_v114_results.csv\n",
      "   🔍 Artifact training: fold1_log:v116\n"
     ]
    },
    {
     "name": "stderr",
     "output_type": "stream",
     "text": [
      "\u001b[34m\u001b[1mwandb\u001b[0m:   1 of 1 files downloaded.  \n"
     ]
    },
    {
     "name": "stdout",
     "output_type": "stream",
     "text": [
      "   ⬇️ Scaricato in: /home/lorenzo/Documenti/GitHub/Computer-Science-Sapienza/Computer Vision/project/artifacts/fold1_log:v116\n",
      "   ✅ Salvato: results/YOLOv11s/train/olive-sweep-14_1et2xdf2_fold1_log_v116_results.csv\n",
      "   🔍 Artifact training: fold2_log:v117\n"
     ]
    },
    {
     "name": "stderr",
     "output_type": "stream",
     "text": [
      "\u001b[34m\u001b[1mwandb\u001b[0m:   1 of 1 files downloaded.  \n"
     ]
    },
    {
     "name": "stdout",
     "output_type": "stream",
     "text": [
      "   ⬇️ Scaricato in: /home/lorenzo/Documenti/GitHub/Computer-Science-Sapienza/Computer Vision/project/artifacts/fold2_log:v117\n",
      "   ✅ Salvato: results/YOLOv11s/train/olive-sweep-14_1et2xdf2_fold2_log_v117_results.csv\n",
      "   🔍 Artifact training: fold3_log:v117\n"
     ]
    },
    {
     "name": "stderr",
     "output_type": "stream",
     "text": [
      "\u001b[34m\u001b[1mwandb\u001b[0m:   1 of 1 files downloaded.  \n"
     ]
    },
    {
     "name": "stdout",
     "output_type": "stream",
     "text": [
      "   ⬇️ Scaricato in: /home/lorenzo/Documenti/GitHub/Computer-Science-Sapienza/Computer Vision/project/artifacts/fold3_log:v117\n",
      "   ✅ Salvato: results/YOLOv11s/train/olive-sweep-14_1et2xdf2_fold3_log_v117_results.csv\n",
      "   🎉 Trovati 4 file\n",
      "🔄 Analizzo run: feasible-sweep-13\n",
      "   ⚙️ Config salvato: configs/feasible-sweep-13_srv4z7sp_config.yaml\n",
      "   📁 Trovati 5 artifacts\n",
      "   🔍 Artifact training: fold0_log:v113\n"
     ]
    },
    {
     "name": "stderr",
     "output_type": "stream",
     "text": [
      "\u001b[34m\u001b[1mwandb\u001b[0m:   1 of 1 files downloaded.  \n"
     ]
    },
    {
     "name": "stdout",
     "output_type": "stream",
     "text": [
      "   ⬇️ Scaricato in: /home/lorenzo/Documenti/GitHub/Computer-Science-Sapienza/Computer Vision/project/artifacts/fold0_log:v113\n",
      "   ✅ Salvato: results/YOLOv11s/train/feasible-sweep-13_srv4z7sp_fold0_log_v113_results.csv\n",
      "   🔍 Artifact training: fold1_log:v115\n"
     ]
    },
    {
     "name": "stderr",
     "output_type": "stream",
     "text": [
      "\u001b[34m\u001b[1mwandb\u001b[0m:   1 of 1 files downloaded.  \n"
     ]
    },
    {
     "name": "stdout",
     "output_type": "stream",
     "text": [
      "   ⬇️ Scaricato in: /home/lorenzo/Documenti/GitHub/Computer-Science-Sapienza/Computer Vision/project/artifacts/fold1_log:v115\n",
      "   ✅ Salvato: results/YOLOv11s/train/feasible-sweep-13_srv4z7sp_fold1_log_v115_results.csv\n",
      "   🔍 Artifact training: fold2_log:v116\n"
     ]
    },
    {
     "name": "stderr",
     "output_type": "stream",
     "text": [
      "\u001b[34m\u001b[1mwandb\u001b[0m:   1 of 1 files downloaded.  \n"
     ]
    },
    {
     "name": "stdout",
     "output_type": "stream",
     "text": [
      "   ⬇️ Scaricato in: /home/lorenzo/Documenti/GitHub/Computer-Science-Sapienza/Computer Vision/project/artifacts/fold2_log:v116\n",
      "   ✅ Salvato: results/YOLOv11s/train/feasible-sweep-13_srv4z7sp_fold2_log_v116_results.csv\n",
      "   🔍 Artifact training: fold3_log:v116\n"
     ]
    },
    {
     "name": "stderr",
     "output_type": "stream",
     "text": [
      "\u001b[34m\u001b[1mwandb\u001b[0m:   1 of 1 files downloaded.  \n"
     ]
    },
    {
     "name": "stdout",
     "output_type": "stream",
     "text": [
      "   ⬇️ Scaricato in: /home/lorenzo/Documenti/GitHub/Computer-Science-Sapienza/Computer Vision/project/artifacts/fold3_log:v116\n",
      "   ✅ Salvato: results/YOLOv11s/train/feasible-sweep-13_srv4z7sp_fold3_log_v116_results.csv\n",
      "   🎉 Trovati 4 file\n",
      "🔄 Analizzo run: worthy-sweep-12\n",
      "   ⚙️ Config salvato: configs/worthy-sweep-12_5sbqj6uf_config.yaml\n",
      "   📁 Trovati 5 artifacts\n",
      "   🔍 Artifact training: fold0_log:v112\n"
     ]
    },
    {
     "name": "stderr",
     "output_type": "stream",
     "text": [
      "\u001b[34m\u001b[1mwandb\u001b[0m:   1 of 1 files downloaded.  \n"
     ]
    },
    {
     "name": "stdout",
     "output_type": "stream",
     "text": [
      "   ⬇️ Scaricato in: /home/lorenzo/Documenti/GitHub/Computer-Science-Sapienza/Computer Vision/project/artifacts/fold0_log:v112\n",
      "   ✅ Salvato: results/YOLOv11s/train/worthy-sweep-12_5sbqj6uf_fold0_log_v112_results.csv\n",
      "   🔍 Artifact training: fold1_log:v114\n"
     ]
    },
    {
     "name": "stderr",
     "output_type": "stream",
     "text": [
      "\u001b[34m\u001b[1mwandb\u001b[0m:   1 of 1 files downloaded.  \n"
     ]
    },
    {
     "name": "stdout",
     "output_type": "stream",
     "text": [
      "   ⬇️ Scaricato in: /home/lorenzo/Documenti/GitHub/Computer-Science-Sapienza/Computer Vision/project/artifacts/fold1_log:v114\n",
      "   ✅ Salvato: results/YOLOv11s/train/worthy-sweep-12_5sbqj6uf_fold1_log_v114_results.csv\n",
      "   🔍 Artifact training: fold2_log:v115\n"
     ]
    },
    {
     "name": "stderr",
     "output_type": "stream",
     "text": [
      "\u001b[34m\u001b[1mwandb\u001b[0m:   1 of 1 files downloaded.  \n"
     ]
    },
    {
     "name": "stdout",
     "output_type": "stream",
     "text": [
      "   ⬇️ Scaricato in: /home/lorenzo/Documenti/GitHub/Computer-Science-Sapienza/Computer Vision/project/artifacts/fold2_log:v115\n",
      "   ✅ Salvato: results/YOLOv11s/train/worthy-sweep-12_5sbqj6uf_fold2_log_v115_results.csv\n",
      "   🔍 Artifact training: fold3_log:v115\n"
     ]
    },
    {
     "name": "stderr",
     "output_type": "stream",
     "text": [
      "\u001b[34m\u001b[1mwandb\u001b[0m:   1 of 1 files downloaded.  \n"
     ]
    },
    {
     "name": "stdout",
     "output_type": "stream",
     "text": [
      "   ⬇️ Scaricato in: /home/lorenzo/Documenti/GitHub/Computer-Science-Sapienza/Computer Vision/project/artifacts/fold3_log:v115\n",
      "   ✅ Salvato: results/YOLOv11s/train/worthy-sweep-12_5sbqj6uf_fold3_log_v115_results.csv\n",
      "   🎉 Trovati 4 file\n",
      "🔄 Analizzo run: prime-sweep-11\n",
      "   ⚙️ Config salvato: configs/prime-sweep-11_ep271vsp_config.yaml\n",
      "   📁 Trovati 5 artifacts\n",
      "   🔍 Artifact training: fold0_log:v111\n"
     ]
    },
    {
     "name": "stderr",
     "output_type": "stream",
     "text": [
      "\u001b[34m\u001b[1mwandb\u001b[0m:   1 of 1 files downloaded.  \n"
     ]
    },
    {
     "name": "stdout",
     "output_type": "stream",
     "text": [
      "   ⬇️ Scaricato in: /home/lorenzo/Documenti/GitHub/Computer-Science-Sapienza/Computer Vision/project/artifacts/fold0_log:v111\n",
      "   ✅ Salvato: results/YOLOv11s/train/prime-sweep-11_ep271vsp_fold0_log_v111_results.csv\n",
      "   🔍 Artifact training: fold1_log:v113\n"
     ]
    },
    {
     "name": "stderr",
     "output_type": "stream",
     "text": [
      "\u001b[34m\u001b[1mwandb\u001b[0m:   1 of 1 files downloaded.  \n"
     ]
    },
    {
     "name": "stdout",
     "output_type": "stream",
     "text": [
      "   ⬇️ Scaricato in: /home/lorenzo/Documenti/GitHub/Computer-Science-Sapienza/Computer Vision/project/artifacts/fold1_log:v113\n",
      "   ✅ Salvato: results/YOLOv11s/train/prime-sweep-11_ep271vsp_fold1_log_v113_results.csv\n",
      "   🔍 Artifact training: fold2_log:v114\n"
     ]
    },
    {
     "name": "stderr",
     "output_type": "stream",
     "text": [
      "\u001b[34m\u001b[1mwandb\u001b[0m:   1 of 1 files downloaded.  \n"
     ]
    },
    {
     "name": "stdout",
     "output_type": "stream",
     "text": [
      "   ⬇️ Scaricato in: /home/lorenzo/Documenti/GitHub/Computer-Science-Sapienza/Computer Vision/project/artifacts/fold2_log:v114\n",
      "   ✅ Salvato: results/YOLOv11s/train/prime-sweep-11_ep271vsp_fold2_log_v114_results.csv\n",
      "   🔍 Artifact training: fold3_log:v114\n"
     ]
    },
    {
     "name": "stderr",
     "output_type": "stream",
     "text": [
      "\u001b[34m\u001b[1mwandb\u001b[0m:   1 of 1 files downloaded.  \n"
     ]
    },
    {
     "name": "stdout",
     "output_type": "stream",
     "text": [
      "   ⬇️ Scaricato in: /home/lorenzo/Documenti/GitHub/Computer-Science-Sapienza/Computer Vision/project/artifacts/fold3_log:v114\n",
      "   ✅ Salvato: results/YOLOv11s/train/prime-sweep-11_ep271vsp_fold3_log_v114_results.csv\n",
      "   🎉 Trovati 4 file\n",
      "🔄 Analizzo run: faithful-sweep-10\n",
      "   ⚙️ Config salvato: configs/faithful-sweep-10_lpse3qq3_config.yaml\n",
      "   📁 Trovati 5 artifacts\n",
      "   🔍 Artifact training: fold0_log:v110\n"
     ]
    },
    {
     "name": "stderr",
     "output_type": "stream",
     "text": [
      "\u001b[34m\u001b[1mwandb\u001b[0m:   1 of 1 files downloaded.  \n"
     ]
    },
    {
     "name": "stdout",
     "output_type": "stream",
     "text": [
      "   ⬇️ Scaricato in: /home/lorenzo/Documenti/GitHub/Computer-Science-Sapienza/Computer Vision/project/artifacts/fold0_log:v110\n",
      "   ✅ Salvato: results/YOLOv11s/train/faithful-sweep-10_lpse3qq3_fold0_log_v110_results.csv\n",
      "   🔍 Artifact training: fold1_log:v112\n"
     ]
    },
    {
     "name": "stderr",
     "output_type": "stream",
     "text": [
      "\u001b[34m\u001b[1mwandb\u001b[0m:   1 of 1 files downloaded.  \n"
     ]
    },
    {
     "name": "stdout",
     "output_type": "stream",
     "text": [
      "   ⬇️ Scaricato in: /home/lorenzo/Documenti/GitHub/Computer-Science-Sapienza/Computer Vision/project/artifacts/fold1_log:v112\n",
      "   ✅ Salvato: results/YOLOv11s/train/faithful-sweep-10_lpse3qq3_fold1_log_v112_results.csv\n",
      "   🔍 Artifact training: fold2_log:v113\n"
     ]
    },
    {
     "name": "stderr",
     "output_type": "stream",
     "text": [
      "\u001b[34m\u001b[1mwandb\u001b[0m:   1 of 1 files downloaded.  \n"
     ]
    },
    {
     "name": "stdout",
     "output_type": "stream",
     "text": [
      "   ⬇️ Scaricato in: /home/lorenzo/Documenti/GitHub/Computer-Science-Sapienza/Computer Vision/project/artifacts/fold2_log:v113\n",
      "   ✅ Salvato: results/YOLOv11s/train/faithful-sweep-10_lpse3qq3_fold2_log_v113_results.csv\n",
      "   🔍 Artifact training: fold3_log:v113\n"
     ]
    },
    {
     "name": "stderr",
     "output_type": "stream",
     "text": [
      "\u001b[34m\u001b[1mwandb\u001b[0m:   1 of 1 files downloaded.  \n"
     ]
    },
    {
     "name": "stdout",
     "output_type": "stream",
     "text": [
      "   ⬇️ Scaricato in: /home/lorenzo/Documenti/GitHub/Computer-Science-Sapienza/Computer Vision/project/artifacts/fold3_log:v113\n",
      "   ✅ Salvato: results/YOLOv11s/train/faithful-sweep-10_lpse3qq3_fold3_log_v113_results.csv\n",
      "   🎉 Trovati 4 file\n",
      "🔄 Analizzo run: vivid-sweep-9\n",
      "   ⚙️ Config salvato: configs/vivid-sweep-9_ezwbaw6j_config.yaml\n",
      "   📁 Trovati 5 artifacts\n",
      "   🔍 Artifact training: fold0_log:v109\n"
     ]
    },
    {
     "name": "stderr",
     "output_type": "stream",
     "text": [
      "\u001b[34m\u001b[1mwandb\u001b[0m:   1 of 1 files downloaded.  \n"
     ]
    },
    {
     "name": "stdout",
     "output_type": "stream",
     "text": [
      "   ⬇️ Scaricato in: /home/lorenzo/Documenti/GitHub/Computer-Science-Sapienza/Computer Vision/project/artifacts/fold0_log:v109\n",
      "   ✅ Salvato: results/YOLOv11s/train/vivid-sweep-9_ezwbaw6j_fold0_log_v109_results.csv\n",
      "   🔍 Artifact training: fold1_log:v111\n"
     ]
    },
    {
     "name": "stderr",
     "output_type": "stream",
     "text": [
      "\u001b[34m\u001b[1mwandb\u001b[0m:   1 of 1 files downloaded.  \n"
     ]
    },
    {
     "name": "stdout",
     "output_type": "stream",
     "text": [
      "   ⬇️ Scaricato in: /home/lorenzo/Documenti/GitHub/Computer-Science-Sapienza/Computer Vision/project/artifacts/fold1_log:v111\n",
      "   ✅ Salvato: results/YOLOv11s/train/vivid-sweep-9_ezwbaw6j_fold1_log_v111_results.csv\n",
      "   🔍 Artifact training: fold2_log:v112\n"
     ]
    },
    {
     "name": "stderr",
     "output_type": "stream",
     "text": [
      "\u001b[34m\u001b[1mwandb\u001b[0m:   1 of 1 files downloaded.  \n"
     ]
    },
    {
     "name": "stdout",
     "output_type": "stream",
     "text": [
      "   ⬇️ Scaricato in: /home/lorenzo/Documenti/GitHub/Computer-Science-Sapienza/Computer Vision/project/artifacts/fold2_log:v112\n",
      "   ✅ Salvato: results/YOLOv11s/train/vivid-sweep-9_ezwbaw6j_fold2_log_v112_results.csv\n",
      "   🔍 Artifact training: fold3_log:v112\n"
     ]
    },
    {
     "name": "stderr",
     "output_type": "stream",
     "text": [
      "\u001b[34m\u001b[1mwandb\u001b[0m:   1 of 1 files downloaded.  \n"
     ]
    },
    {
     "name": "stdout",
     "output_type": "stream",
     "text": [
      "   ⬇️ Scaricato in: /home/lorenzo/Documenti/GitHub/Computer-Science-Sapienza/Computer Vision/project/artifacts/fold3_log:v112\n",
      "   ✅ Salvato: results/YOLOv11s/train/vivid-sweep-9_ezwbaw6j_fold3_log_v112_results.csv\n",
      "   🎉 Trovati 4 file\n",
      "🔄 Analizzo run: logical-sweep-8\n",
      "   ⚙️ Config salvato: configs/logical-sweep-8_5bakkw98_config.yaml\n",
      "   📁 Trovati 5 artifacts\n",
      "   🔍 Artifact training: fold0_log:v108\n"
     ]
    },
    {
     "name": "stderr",
     "output_type": "stream",
     "text": [
      "\u001b[34m\u001b[1mwandb\u001b[0m:   1 of 1 files downloaded.  \n"
     ]
    },
    {
     "name": "stdout",
     "output_type": "stream",
     "text": [
      "   ⬇️ Scaricato in: /home/lorenzo/Documenti/GitHub/Computer-Science-Sapienza/Computer Vision/project/artifacts/fold0_log:v108\n",
      "   ✅ Salvato: results/YOLOv11s/train/logical-sweep-8_5bakkw98_fold0_log_v108_results.csv\n",
      "   🔍 Artifact training: fold1_log:v110\n"
     ]
    },
    {
     "name": "stderr",
     "output_type": "stream",
     "text": [
      "\u001b[34m\u001b[1mwandb\u001b[0m:   1 of 1 files downloaded.  \n"
     ]
    },
    {
     "name": "stdout",
     "output_type": "stream",
     "text": [
      "   ⬇️ Scaricato in: /home/lorenzo/Documenti/GitHub/Computer-Science-Sapienza/Computer Vision/project/artifacts/fold1_log:v110\n",
      "   ✅ Salvato: results/YOLOv11s/train/logical-sweep-8_5bakkw98_fold1_log_v110_results.csv\n",
      "   🔍 Artifact training: fold2_log:v111\n"
     ]
    },
    {
     "name": "stderr",
     "output_type": "stream",
     "text": [
      "\u001b[34m\u001b[1mwandb\u001b[0m:   1 of 1 files downloaded.  \n"
     ]
    },
    {
     "name": "stdout",
     "output_type": "stream",
     "text": [
      "   ⬇️ Scaricato in: /home/lorenzo/Documenti/GitHub/Computer-Science-Sapienza/Computer Vision/project/artifacts/fold2_log:v111\n",
      "   ✅ Salvato: results/YOLOv11s/train/logical-sweep-8_5bakkw98_fold2_log_v111_results.csv\n",
      "   🔍 Artifact training: fold3_log:v111\n"
     ]
    },
    {
     "name": "stderr",
     "output_type": "stream",
     "text": [
      "\u001b[34m\u001b[1mwandb\u001b[0m:   1 of 1 files downloaded.  \n"
     ]
    },
    {
     "name": "stdout",
     "output_type": "stream",
     "text": [
      "   ⬇️ Scaricato in: /home/lorenzo/Documenti/GitHub/Computer-Science-Sapienza/Computer Vision/project/artifacts/fold3_log:v111\n",
      "   ✅ Salvato: results/YOLOv11s/train/logical-sweep-8_5bakkw98_fold3_log_v111_results.csv\n",
      "   🎉 Trovati 4 file\n",
      "🔄 Analizzo run: glorious-sweep-7\n",
      "   ⚙️ Config salvato: configs/glorious-sweep-7_hfvbgoqm_config.yaml\n",
      "   📁 Trovati 5 artifacts\n",
      "   🔍 Artifact training: fold0_log:v107\n"
     ]
    },
    {
     "name": "stderr",
     "output_type": "stream",
     "text": [
      "\u001b[34m\u001b[1mwandb\u001b[0m:   1 of 1 files downloaded.  \n"
     ]
    },
    {
     "name": "stdout",
     "output_type": "stream",
     "text": [
      "   ⬇️ Scaricato in: /home/lorenzo/Documenti/GitHub/Computer-Science-Sapienza/Computer Vision/project/artifacts/fold0_log:v107\n",
      "   ✅ Salvato: results/YOLOv11s/train/glorious-sweep-7_hfvbgoqm_fold0_log_v107_results.csv\n",
      "   🔍 Artifact training: fold1_log:v109\n"
     ]
    },
    {
     "name": "stderr",
     "output_type": "stream",
     "text": [
      "\u001b[34m\u001b[1mwandb\u001b[0m:   1 of 1 files downloaded.  \n"
     ]
    },
    {
     "name": "stdout",
     "output_type": "stream",
     "text": [
      "   ⬇️ Scaricato in: /home/lorenzo/Documenti/GitHub/Computer-Science-Sapienza/Computer Vision/project/artifacts/fold1_log:v109\n",
      "   ✅ Salvato: results/YOLOv11s/train/glorious-sweep-7_hfvbgoqm_fold1_log_v109_results.csv\n",
      "   🔍 Artifact training: fold2_log:v110\n"
     ]
    },
    {
     "name": "stderr",
     "output_type": "stream",
     "text": [
      "\u001b[34m\u001b[1mwandb\u001b[0m:   1 of 1 files downloaded.  \n"
     ]
    },
    {
     "name": "stdout",
     "output_type": "stream",
     "text": [
      "   ⬇️ Scaricato in: /home/lorenzo/Documenti/GitHub/Computer-Science-Sapienza/Computer Vision/project/artifacts/fold2_log:v110\n",
      "   ✅ Salvato: results/YOLOv11s/train/glorious-sweep-7_hfvbgoqm_fold2_log_v110_results.csv\n",
      "   🔍 Artifact training: fold3_log:v110\n"
     ]
    },
    {
     "name": "stderr",
     "output_type": "stream",
     "text": [
      "\u001b[34m\u001b[1mwandb\u001b[0m:   1 of 1 files downloaded.  \n"
     ]
    },
    {
     "name": "stdout",
     "output_type": "stream",
     "text": [
      "   ⬇️ Scaricato in: /home/lorenzo/Documenti/GitHub/Computer-Science-Sapienza/Computer Vision/project/artifacts/fold3_log:v110\n",
      "   ✅ Salvato: results/YOLOv11s/train/glorious-sweep-7_hfvbgoqm_fold3_log_v110_results.csv\n",
      "   🎉 Trovati 4 file\n",
      "🔄 Analizzo run: glad-sweep-6\n",
      "   ⚙️ Config salvato: configs/glad-sweep-6_e9v5l6ps_config.yaml\n",
      "   📁 Trovati 5 artifacts\n",
      "   🔍 Artifact training: fold0_log:v106\n"
     ]
    },
    {
     "name": "stderr",
     "output_type": "stream",
     "text": [
      "\u001b[34m\u001b[1mwandb\u001b[0m:   1 of 1 files downloaded.  \n"
     ]
    },
    {
     "name": "stdout",
     "output_type": "stream",
     "text": [
      "   ⬇️ Scaricato in: /home/lorenzo/Documenti/GitHub/Computer-Science-Sapienza/Computer Vision/project/artifacts/fold0_log:v106\n",
      "   ✅ Salvato: results/YOLOv11s/train/glad-sweep-6_e9v5l6ps_fold0_log_v106_results.csv\n",
      "   🔍 Artifact training: fold1_log:v108\n"
     ]
    },
    {
     "name": "stderr",
     "output_type": "stream",
     "text": [
      "\u001b[34m\u001b[1mwandb\u001b[0m:   1 of 1 files downloaded.  \n"
     ]
    },
    {
     "name": "stdout",
     "output_type": "stream",
     "text": [
      "   ⬇️ Scaricato in: /home/lorenzo/Documenti/GitHub/Computer-Science-Sapienza/Computer Vision/project/artifacts/fold1_log:v108\n",
      "   ✅ Salvato: results/YOLOv11s/train/glad-sweep-6_e9v5l6ps_fold1_log_v108_results.csv\n",
      "   🔍 Artifact training: fold2_log:v109\n"
     ]
    },
    {
     "name": "stderr",
     "output_type": "stream",
     "text": [
      "\u001b[34m\u001b[1mwandb\u001b[0m:   1 of 1 files downloaded.  \n"
     ]
    },
    {
     "name": "stdout",
     "output_type": "stream",
     "text": [
      "   ⬇️ Scaricato in: /home/lorenzo/Documenti/GitHub/Computer-Science-Sapienza/Computer Vision/project/artifacts/fold2_log:v109\n",
      "   ✅ Salvato: results/YOLOv11s/train/glad-sweep-6_e9v5l6ps_fold2_log_v109_results.csv\n",
      "   🔍 Artifact training: fold3_log:v109\n"
     ]
    },
    {
     "name": "stderr",
     "output_type": "stream",
     "text": [
      "\u001b[34m\u001b[1mwandb\u001b[0m:   1 of 1 files downloaded.  \n"
     ]
    },
    {
     "name": "stdout",
     "output_type": "stream",
     "text": [
      "   ⬇️ Scaricato in: /home/lorenzo/Documenti/GitHub/Computer-Science-Sapienza/Computer Vision/project/artifacts/fold3_log:v109\n",
      "   ✅ Salvato: results/YOLOv11s/train/glad-sweep-6_e9v5l6ps_fold3_log_v109_results.csv\n",
      "   🎉 Trovati 4 file\n",
      "🔄 Analizzo run: celestial-sweep-5\n",
      "   ⚙️ Config salvato: configs/celestial-sweep-5_j9c0yxin_config.yaml\n",
      "   📁 Trovati 5 artifacts\n",
      "   🔍 Artifact training: fold0_log:v105\n"
     ]
    },
    {
     "name": "stderr",
     "output_type": "stream",
     "text": [
      "\u001b[34m\u001b[1mwandb\u001b[0m:   1 of 1 files downloaded.  \n"
     ]
    },
    {
     "name": "stdout",
     "output_type": "stream",
     "text": [
      "   ⬇️ Scaricato in: /home/lorenzo/Documenti/GitHub/Computer-Science-Sapienza/Computer Vision/project/artifacts/fold0_log:v105\n",
      "   ✅ Salvato: results/YOLOv11s/train/celestial-sweep-5_j9c0yxin_fold0_log_v105_results.csv\n",
      "   🔍 Artifact training: fold1_log:v107\n"
     ]
    },
    {
     "name": "stderr",
     "output_type": "stream",
     "text": [
      "\u001b[34m\u001b[1mwandb\u001b[0m:   1 of 1 files downloaded.  \n"
     ]
    },
    {
     "name": "stdout",
     "output_type": "stream",
     "text": [
      "   ⬇️ Scaricato in: /home/lorenzo/Documenti/GitHub/Computer-Science-Sapienza/Computer Vision/project/artifacts/fold1_log:v107\n",
      "   ✅ Salvato: results/YOLOv11s/train/celestial-sweep-5_j9c0yxin_fold1_log_v107_results.csv\n",
      "   🔍 Artifact training: fold2_log:v108\n"
     ]
    },
    {
     "name": "stderr",
     "output_type": "stream",
     "text": [
      "\u001b[34m\u001b[1mwandb\u001b[0m:   1 of 1 files downloaded.  \n"
     ]
    },
    {
     "name": "stdout",
     "output_type": "stream",
     "text": [
      "   ⬇️ Scaricato in: /home/lorenzo/Documenti/GitHub/Computer-Science-Sapienza/Computer Vision/project/artifacts/fold2_log:v108\n",
      "   ✅ Salvato: results/YOLOv11s/train/celestial-sweep-5_j9c0yxin_fold2_log_v108_results.csv\n",
      "   🔍 Artifact training: fold3_log:v108\n"
     ]
    },
    {
     "name": "stderr",
     "output_type": "stream",
     "text": [
      "\u001b[34m\u001b[1mwandb\u001b[0m:   1 of 1 files downloaded.  \n"
     ]
    },
    {
     "name": "stdout",
     "output_type": "stream",
     "text": [
      "   ⬇️ Scaricato in: /home/lorenzo/Documenti/GitHub/Computer-Science-Sapienza/Computer Vision/project/artifacts/fold3_log:v108\n",
      "   ✅ Salvato: results/YOLOv11s/train/celestial-sweep-5_j9c0yxin_fold3_log_v108_results.csv\n",
      "   🎉 Trovati 4 file\n",
      "🔄 Analizzo run: smart-sweep-4\n",
      "   ⚙️ Config salvato: configs/smart-sweep-4_wk2k6npi_config.yaml\n",
      "   📁 Trovati 5 artifacts\n",
      "   🔍 Artifact training: fold0_log:v104\n"
     ]
    },
    {
     "name": "stderr",
     "output_type": "stream",
     "text": [
      "\u001b[34m\u001b[1mwandb\u001b[0m:   1 of 1 files downloaded.  \n"
     ]
    },
    {
     "name": "stdout",
     "output_type": "stream",
     "text": [
      "   ⬇️ Scaricato in: /home/lorenzo/Documenti/GitHub/Computer-Science-Sapienza/Computer Vision/project/artifacts/fold0_log:v104\n",
      "   ✅ Salvato: results/YOLOv11s/train/smart-sweep-4_wk2k6npi_fold0_log_v104_results.csv\n",
      "   🔍 Artifact training: fold1_log:v106\n"
     ]
    },
    {
     "name": "stderr",
     "output_type": "stream",
     "text": [
      "\u001b[34m\u001b[1mwandb\u001b[0m:   1 of 1 files downloaded.  \n"
     ]
    },
    {
     "name": "stdout",
     "output_type": "stream",
     "text": [
      "   ⬇️ Scaricato in: /home/lorenzo/Documenti/GitHub/Computer-Science-Sapienza/Computer Vision/project/artifacts/fold1_log:v106\n",
      "   ✅ Salvato: results/YOLOv11s/train/smart-sweep-4_wk2k6npi_fold1_log_v106_results.csv\n",
      "   🔍 Artifact training: fold2_log:v107\n"
     ]
    },
    {
     "name": "stderr",
     "output_type": "stream",
     "text": [
      "\u001b[34m\u001b[1mwandb\u001b[0m:   1 of 1 files downloaded.  \n"
     ]
    },
    {
     "name": "stdout",
     "output_type": "stream",
     "text": [
      "   ⬇️ Scaricato in: /home/lorenzo/Documenti/GitHub/Computer-Science-Sapienza/Computer Vision/project/artifacts/fold2_log:v107\n",
      "   ✅ Salvato: results/YOLOv11s/train/smart-sweep-4_wk2k6npi_fold2_log_v107_results.csv\n",
      "   🔍 Artifact training: fold3_log:v107\n"
     ]
    },
    {
     "name": "stderr",
     "output_type": "stream",
     "text": [
      "\u001b[34m\u001b[1mwandb\u001b[0m:   1 of 1 files downloaded.  \n"
     ]
    },
    {
     "name": "stdout",
     "output_type": "stream",
     "text": [
      "   ⬇️ Scaricato in: /home/lorenzo/Documenti/GitHub/Computer-Science-Sapienza/Computer Vision/project/artifacts/fold3_log:v107\n",
      "   ✅ Salvato: results/YOLOv11s/train/smart-sweep-4_wk2k6npi_fold3_log_v107_results.csv\n",
      "   🎉 Trovati 4 file\n",
      "🔄 Analizzo run: dutiful-sweep-3\n",
      "   ⚙️ Config salvato: configs/dutiful-sweep-3_z39jh2vf_config.yaml\n",
      "   📁 Trovati 5 artifacts\n",
      "   🔍 Artifact training: fold0_log:v103\n"
     ]
    },
    {
     "name": "stderr",
     "output_type": "stream",
     "text": [
      "\u001b[34m\u001b[1mwandb\u001b[0m:   1 of 1 files downloaded.  \n"
     ]
    },
    {
     "name": "stdout",
     "output_type": "stream",
     "text": [
      "   ⬇️ Scaricato in: /home/lorenzo/Documenti/GitHub/Computer-Science-Sapienza/Computer Vision/project/artifacts/fold0_log:v103\n",
      "   ✅ Salvato: results/YOLOv11s/train/dutiful-sweep-3_z39jh2vf_fold0_log_v103_results.csv\n",
      "   🔍 Artifact training: fold1_log:v105\n"
     ]
    },
    {
     "name": "stderr",
     "output_type": "stream",
     "text": [
      "\u001b[34m\u001b[1mwandb\u001b[0m:   1 of 1 files downloaded.  \n"
     ]
    },
    {
     "name": "stdout",
     "output_type": "stream",
     "text": [
      "   ⬇️ Scaricato in: /home/lorenzo/Documenti/GitHub/Computer-Science-Sapienza/Computer Vision/project/artifacts/fold1_log:v105\n",
      "   ✅ Salvato: results/YOLOv11s/train/dutiful-sweep-3_z39jh2vf_fold1_log_v105_results.csv\n",
      "   🔍 Artifact training: fold2_log:v106\n"
     ]
    },
    {
     "name": "stderr",
     "output_type": "stream",
     "text": [
      "\u001b[34m\u001b[1mwandb\u001b[0m:   1 of 1 files downloaded.  \n"
     ]
    },
    {
     "name": "stdout",
     "output_type": "stream",
     "text": [
      "   ⬇️ Scaricato in: /home/lorenzo/Documenti/GitHub/Computer-Science-Sapienza/Computer Vision/project/artifacts/fold2_log:v106\n",
      "   ✅ Salvato: results/YOLOv11s/train/dutiful-sweep-3_z39jh2vf_fold2_log_v106_results.csv\n",
      "   🔍 Artifact training: fold3_log:v106\n"
     ]
    },
    {
     "name": "stderr",
     "output_type": "stream",
     "text": [
      "\u001b[34m\u001b[1mwandb\u001b[0m:   1 of 1 files downloaded.  \n"
     ]
    },
    {
     "name": "stdout",
     "output_type": "stream",
     "text": [
      "   ⬇️ Scaricato in: /home/lorenzo/Documenti/GitHub/Computer-Science-Sapienza/Computer Vision/project/artifacts/fold3_log:v106\n",
      "   ✅ Salvato: results/YOLOv11s/train/dutiful-sweep-3_z39jh2vf_fold3_log_v106_results.csv\n",
      "   🎉 Trovati 4 file\n",
      "🔄 Analizzo run: sandy-sweep-2\n",
      "   ⚙️ Config salvato: configs/sandy-sweep-2_cfid05hq_config.yaml\n",
      "   📁 Trovati 5 artifacts\n",
      "   🔍 Artifact training: fold0_log:v102\n"
     ]
    },
    {
     "name": "stderr",
     "output_type": "stream",
     "text": [
      "\u001b[34m\u001b[1mwandb\u001b[0m:   1 of 1 files downloaded.  \n"
     ]
    },
    {
     "name": "stdout",
     "output_type": "stream",
     "text": [
      "   ⬇️ Scaricato in: /home/lorenzo/Documenti/GitHub/Computer-Science-Sapienza/Computer Vision/project/artifacts/fold0_log:v102\n",
      "   ✅ Salvato: results/YOLOv11s/train/sandy-sweep-2_cfid05hq_fold0_log_v102_results.csv\n",
      "   🔍 Artifact training: fold1_log:v104\n"
     ]
    },
    {
     "name": "stderr",
     "output_type": "stream",
     "text": [
      "\u001b[34m\u001b[1mwandb\u001b[0m:   1 of 1 files downloaded.  \n"
     ]
    },
    {
     "name": "stdout",
     "output_type": "stream",
     "text": [
      "   ⬇️ Scaricato in: /home/lorenzo/Documenti/GitHub/Computer-Science-Sapienza/Computer Vision/project/artifacts/fold1_log:v104\n",
      "   ✅ Salvato: results/YOLOv11s/train/sandy-sweep-2_cfid05hq_fold1_log_v104_results.csv\n",
      "   🔍 Artifact training: fold2_log:v105\n"
     ]
    },
    {
     "name": "stderr",
     "output_type": "stream",
     "text": [
      "\u001b[34m\u001b[1mwandb\u001b[0m:   1 of 1 files downloaded.  \n"
     ]
    },
    {
     "name": "stdout",
     "output_type": "stream",
     "text": [
      "   ⬇️ Scaricato in: /home/lorenzo/Documenti/GitHub/Computer-Science-Sapienza/Computer Vision/project/artifacts/fold2_log:v105\n",
      "   ✅ Salvato: results/YOLOv11s/train/sandy-sweep-2_cfid05hq_fold2_log_v105_results.csv\n",
      "   🔍 Artifact training: fold3_log:v105\n"
     ]
    },
    {
     "name": "stderr",
     "output_type": "stream",
     "text": [
      "\u001b[34m\u001b[1mwandb\u001b[0m:   1 of 1 files downloaded.  \n"
     ]
    },
    {
     "name": "stdout",
     "output_type": "stream",
     "text": [
      "   ⬇️ Scaricato in: /home/lorenzo/Documenti/GitHub/Computer-Science-Sapienza/Computer Vision/project/artifacts/fold3_log:v105\n",
      "   ✅ Salvato: results/YOLOv11s/train/sandy-sweep-2_cfid05hq_fold3_log_v105_results.csv\n",
      "   🎉 Trovati 4 file\n",
      "🔄 Analizzo run: fast-sweep-1\n",
      "   ⚙️ Config salvato: configs/fast-sweep-1_jqw3qi7i_config.yaml\n",
      "   📁 Trovati 5 artifacts\n",
      "   🔍 Artifact training: fold0_log:v101\n"
     ]
    },
    {
     "name": "stderr",
     "output_type": "stream",
     "text": [
      "\u001b[34m\u001b[1mwandb\u001b[0m:   1 of 1 files downloaded.  \n"
     ]
    },
    {
     "name": "stdout",
     "output_type": "stream",
     "text": [
      "   ⬇️ Scaricato in: /home/lorenzo/Documenti/GitHub/Computer-Science-Sapienza/Computer Vision/project/artifacts/fold0_log:v101\n",
      "   ✅ Salvato: results/YOLOv11s/train/fast-sweep-1_jqw3qi7i_fold0_log_v101_results.csv\n",
      "   🔍 Artifact training: fold1_log:v103\n"
     ]
    },
    {
     "name": "stderr",
     "output_type": "stream",
     "text": [
      "\u001b[34m\u001b[1mwandb\u001b[0m:   1 of 1 files downloaded.  \n"
     ]
    },
    {
     "name": "stdout",
     "output_type": "stream",
     "text": [
      "   ⬇️ Scaricato in: /home/lorenzo/Documenti/GitHub/Computer-Science-Sapienza/Computer Vision/project/artifacts/fold1_log:v103\n",
      "   ✅ Salvato: results/YOLOv11s/train/fast-sweep-1_jqw3qi7i_fold1_log_v103_results.csv\n",
      "   🔍 Artifact training: fold2_log:v104\n"
     ]
    },
    {
     "name": "stderr",
     "output_type": "stream",
     "text": [
      "\u001b[34m\u001b[1mwandb\u001b[0m:   1 of 1 files downloaded.  \n"
     ]
    },
    {
     "name": "stdout",
     "output_type": "stream",
     "text": [
      "   ⬇️ Scaricato in: /home/lorenzo/Documenti/GitHub/Computer-Science-Sapienza/Computer Vision/project/artifacts/fold2_log:v104\n",
      "   ✅ Salvato: results/YOLOv11s/train/fast-sweep-1_jqw3qi7i_fold2_log_v104_results.csv\n",
      "   🔍 Artifact training: fold3_log:v104\n"
     ]
    },
    {
     "name": "stderr",
     "output_type": "stream",
     "text": [
      "\u001b[34m\u001b[1mwandb\u001b[0m:   1 of 1 files downloaded.  \n"
     ]
    },
    {
     "name": "stdout",
     "output_type": "stream",
     "text": [
      "   ⬇️ Scaricato in: /home/lorenzo/Documenti/GitHub/Computer-Science-Sapienza/Computer Vision/project/artifacts/fold3_log:v104\n",
      "   ✅ Salvato: results/YOLOv11s/train/fast-sweep-1_jqw3qi7i_fold3_log_v104_results.csv\n",
      "   🎉 Trovati 4 file\n",
      "\n",
      "📦 Sweep 4q1q0ld1 → output in 'results/YOLOv11s'\n",
      "🔍 Trovati 1 run\n",
      "🔄 Analizzo run: lilac-sweep-1\n",
      "   ⚙️ Config salvato: configs/lilac-sweep-1_fe6i9utb_config.yaml\n",
      "   📁 Trovati 5 artifacts\n",
      "   🔍 Artifact training: fold0_log:v100\n"
     ]
    },
    {
     "name": "stderr",
     "output_type": "stream",
     "text": [
      "\u001b[34m\u001b[1mwandb\u001b[0m:   1 of 1 files downloaded.  \n"
     ]
    },
    {
     "name": "stdout",
     "output_type": "stream",
     "text": [
      "   ⬇️ Scaricato in: /home/lorenzo/Documenti/GitHub/Computer-Science-Sapienza/Computer Vision/project/artifacts/fold0_log:v100\n",
      "   ✅ Salvato: results/YOLOv11s/train/lilac-sweep-1_fe6i9utb_fold0_log_v100_results.csv\n",
      "   🔍 Artifact training: fold1_log:v102\n"
     ]
    },
    {
     "name": "stderr",
     "output_type": "stream",
     "text": [
      "\u001b[34m\u001b[1mwandb\u001b[0m:   1 of 1 files downloaded.  \n"
     ]
    },
    {
     "name": "stdout",
     "output_type": "stream",
     "text": [
      "   ⬇️ Scaricato in: /home/lorenzo/Documenti/GitHub/Computer-Science-Sapienza/Computer Vision/project/artifacts/fold1_log:v102\n",
      "   ✅ Salvato: results/YOLOv11s/train/lilac-sweep-1_fe6i9utb_fold1_log_v102_results.csv\n",
      "   🔍 Artifact training: fold2_log:v103\n"
     ]
    },
    {
     "name": "stderr",
     "output_type": "stream",
     "text": [
      "\u001b[34m\u001b[1mwandb\u001b[0m:   1 of 1 files downloaded.  \n"
     ]
    },
    {
     "name": "stdout",
     "output_type": "stream",
     "text": [
      "   ⬇️ Scaricato in: /home/lorenzo/Documenti/GitHub/Computer-Science-Sapienza/Computer Vision/project/artifacts/fold2_log:v103\n",
      "   ✅ Salvato: results/YOLOv11s/train/lilac-sweep-1_fe6i9utb_fold2_log_v103_results.csv\n",
      "   🔍 Artifact training: fold3_log:v103\n"
     ]
    },
    {
     "name": "stderr",
     "output_type": "stream",
     "text": [
      "\u001b[34m\u001b[1mwandb\u001b[0m:   1 of 1 files downloaded.  \n"
     ]
    },
    {
     "name": "stdout",
     "output_type": "stream",
     "text": [
      "   ⬇️ Scaricato in: /home/lorenzo/Documenti/GitHub/Computer-Science-Sapienza/Computer Vision/project/artifacts/fold3_log:v103\n",
      "   ✅ Salvato: results/YOLOv11s/train/lilac-sweep-1_fe6i9utb_fold3_log_v103_results.csv\n",
      "   🎉 Trovati 4 file\n",
      "\n",
      "📦 Sweep 7e7521i8 → output in 'results/YOLOv11n'\n",
      "🔍 Trovati 59 run\n",
      "🔄 Analizzo run: youthful-sweep-59\n",
      "   ⚙️ Config salvato: configs/youthful-sweep-59_a4ppq4j8_config.yaml\n",
      "   📁 Trovati 5 artifacts\n",
      "   🔍 Artifact training: fold0_log:v162\n"
     ]
    },
    {
     "name": "stderr",
     "output_type": "stream",
     "text": [
      "\u001b[34m\u001b[1mwandb\u001b[0m:   1 of 1 files downloaded.  \n"
     ]
    },
    {
     "name": "stdout",
     "output_type": "stream",
     "text": [
      "   ⬇️ Scaricato in: /home/lorenzo/Documenti/GitHub/Computer-Science-Sapienza/Computer Vision/project/artifacts/fold0_log:v162\n",
      "   ✅ Salvato: results/YOLOv11n/train/youthful-sweep-59_a4ppq4j8_fold0_log_v162_results.csv\n",
      "   🔍 Artifact training: fold1_log:v165\n"
     ]
    },
    {
     "name": "stderr",
     "output_type": "stream",
     "text": [
      "\u001b[34m\u001b[1mwandb\u001b[0m:   1 of 1 files downloaded.  \n"
     ]
    },
    {
     "name": "stdout",
     "output_type": "stream",
     "text": [
      "   ⬇️ Scaricato in: /home/lorenzo/Documenti/GitHub/Computer-Science-Sapienza/Computer Vision/project/artifacts/fold1_log:v165\n",
      "   ✅ Salvato: results/YOLOv11n/train/youthful-sweep-59_a4ppq4j8_fold1_log_v165_results.csv\n",
      "   🔍 Artifact training: fold2_log:v166\n"
     ]
    },
    {
     "name": "stderr",
     "output_type": "stream",
     "text": [
      "\u001b[34m\u001b[1mwandb\u001b[0m:   1 of 1 files downloaded.  \n"
     ]
    },
    {
     "name": "stdout",
     "output_type": "stream",
     "text": [
      "   ⬇️ Scaricato in: /home/lorenzo/Documenti/GitHub/Computer-Science-Sapienza/Computer Vision/project/artifacts/fold2_log:v166\n",
      "   ✅ Salvato: results/YOLOv11n/train/youthful-sweep-59_a4ppq4j8_fold2_log_v166_results.csv\n",
      "   🔍 Artifact training: fold3_log:v166\n"
     ]
    },
    {
     "name": "stderr",
     "output_type": "stream",
     "text": [
      "\u001b[34m\u001b[1mwandb\u001b[0m:   1 of 1 files downloaded.  \n"
     ]
    },
    {
     "name": "stdout",
     "output_type": "stream",
     "text": [
      "   ⬇️ Scaricato in: /home/lorenzo/Documenti/GitHub/Computer-Science-Sapienza/Computer Vision/project/artifacts/fold3_log:v166\n",
      "   ✅ Salvato: results/YOLOv11n/train/youthful-sweep-59_a4ppq4j8_fold3_log_v166_results.csv\n",
      "   🎉 Trovati 4 file\n",
      "🔄 Analizzo run: spring-sweep-58\n",
      "   ⚙️ Config salvato: configs/spring-sweep-58_9q83pqwe_config.yaml\n",
      "   📁 Trovati 5 artifacts\n",
      "   🔍 Artifact training: fold0_log:v161\n"
     ]
    },
    {
     "name": "stderr",
     "output_type": "stream",
     "text": [
      "\u001b[34m\u001b[1mwandb\u001b[0m:   1 of 1 files downloaded.  \n"
     ]
    },
    {
     "name": "stdout",
     "output_type": "stream",
     "text": [
      "   ⬇️ Scaricato in: /home/lorenzo/Documenti/GitHub/Computer-Science-Sapienza/Computer Vision/project/artifacts/fold0_log:v161\n",
      "   ✅ Salvato: results/YOLOv11n/train/spring-sweep-58_9q83pqwe_fold0_log_v161_results.csv\n",
      "   🔍 Artifact training: fold1_log:v164\n"
     ]
    },
    {
     "name": "stderr",
     "output_type": "stream",
     "text": [
      "\u001b[34m\u001b[1mwandb\u001b[0m:   1 of 1 files downloaded.  \n"
     ]
    },
    {
     "name": "stdout",
     "output_type": "stream",
     "text": [
      "   ⬇️ Scaricato in: /home/lorenzo/Documenti/GitHub/Computer-Science-Sapienza/Computer Vision/project/artifacts/fold1_log:v164\n",
      "   ✅ Salvato: results/YOLOv11n/train/spring-sweep-58_9q83pqwe_fold1_log_v164_results.csv\n",
      "   🔍 Artifact training: fold2_log:v165\n"
     ]
    },
    {
     "name": "stderr",
     "output_type": "stream",
     "text": [
      "\u001b[34m\u001b[1mwandb\u001b[0m:   1 of 1 files downloaded.  \n"
     ]
    },
    {
     "name": "stdout",
     "output_type": "stream",
     "text": [
      "   ⬇️ Scaricato in: /home/lorenzo/Documenti/GitHub/Computer-Science-Sapienza/Computer Vision/project/artifacts/fold2_log:v165\n",
      "   ✅ Salvato: results/YOLOv11n/train/spring-sweep-58_9q83pqwe_fold2_log_v165_results.csv\n",
      "   🔍 Artifact training: fold3_log:v165\n"
     ]
    },
    {
     "name": "stderr",
     "output_type": "stream",
     "text": [
      "\u001b[34m\u001b[1mwandb\u001b[0m:   1 of 1 files downloaded.  \n"
     ]
    },
    {
     "name": "stdout",
     "output_type": "stream",
     "text": [
      "   ⬇️ Scaricato in: /home/lorenzo/Documenti/GitHub/Computer-Science-Sapienza/Computer Vision/project/artifacts/fold3_log:v165\n",
      "   ✅ Salvato: results/YOLOv11n/train/spring-sweep-58_9q83pqwe_fold3_log_v165_results.csv\n",
      "   🎉 Trovati 4 file\n",
      "🔄 Analizzo run: deft-sweep-57\n",
      "   ⚙️ Config salvato: configs/deft-sweep-57_92q4cdlm_config.yaml\n",
      "   📁 Trovati 5 artifacts\n",
      "   🔍 Artifact training: fold1_log:v163\n"
     ]
    },
    {
     "name": "stderr",
     "output_type": "stream",
     "text": [
      "\u001b[34m\u001b[1mwandb\u001b[0m:   1 of 1 files downloaded.  \n"
     ]
    },
    {
     "name": "stdout",
     "output_type": "stream",
     "text": [
      "   ⬇️ Scaricato in: /home/lorenzo/Documenti/GitHub/Computer-Science-Sapienza/Computer Vision/project/artifacts/fold1_log:v163\n",
      "   ✅ Salvato: results/YOLOv11n/train/deft-sweep-57_92q4cdlm_fold1_log_v163_results.csv\n",
      "   🔍 Artifact training: fold0_log:v160\n"
     ]
    },
    {
     "name": "stderr",
     "output_type": "stream",
     "text": [
      "\u001b[34m\u001b[1mwandb\u001b[0m:   1 of 1 files downloaded.  \n"
     ]
    },
    {
     "name": "stdout",
     "output_type": "stream",
     "text": [
      "   ⬇️ Scaricato in: /home/lorenzo/Documenti/GitHub/Computer-Science-Sapienza/Computer Vision/project/artifacts/fold0_log:v160\n",
      "   ✅ Salvato: results/YOLOv11n/train/deft-sweep-57_92q4cdlm_fold0_log_v160_results.csv\n",
      "   🔍 Artifact training: fold2_log:v164\n"
     ]
    },
    {
     "name": "stderr",
     "output_type": "stream",
     "text": [
      "\u001b[34m\u001b[1mwandb\u001b[0m:   1 of 1 files downloaded.  \n"
     ]
    },
    {
     "name": "stdout",
     "output_type": "stream",
     "text": [
      "   ⬇️ Scaricato in: /home/lorenzo/Documenti/GitHub/Computer-Science-Sapienza/Computer Vision/project/artifacts/fold2_log:v164\n",
      "   ✅ Salvato: results/YOLOv11n/train/deft-sweep-57_92q4cdlm_fold2_log_v164_results.csv\n",
      "   🔍 Artifact training: fold3_log:v164\n"
     ]
    },
    {
     "name": "stderr",
     "output_type": "stream",
     "text": [
      "\u001b[34m\u001b[1mwandb\u001b[0m:   1 of 1 files downloaded.  \n"
     ]
    },
    {
     "name": "stdout",
     "output_type": "stream",
     "text": [
      "   ⬇️ Scaricato in: /home/lorenzo/Documenti/GitHub/Computer-Science-Sapienza/Computer Vision/project/artifacts/fold3_log:v164\n",
      "   ✅ Salvato: results/YOLOv11n/train/deft-sweep-57_92q4cdlm_fold3_log_v164_results.csv\n",
      "   🎉 Trovati 4 file\n",
      "🔄 Analizzo run: sweepy-sweep-59\n",
      "   ⚙️ Config salvato: configs/sweepy-sweep-59_3uglgwnl_config.yaml\n",
      "   📁 Trovati 5 artifacts\n",
      "   🔍 Artifact training: fold0_log:v92\n"
     ]
    },
    {
     "name": "stderr",
     "output_type": "stream",
     "text": [
      "\u001b[34m\u001b[1mwandb\u001b[0m:   1 of 1 files downloaded.  \n"
     ]
    },
    {
     "name": "stdout",
     "output_type": "stream",
     "text": [
      "   ⬇️ Scaricato in: /home/lorenzo/Documenti/GitHub/Computer-Science-Sapienza/Computer Vision/project/artifacts/fold0_log:v92\n",
      "   ✅ Salvato: results/YOLOv11n/train/sweepy-sweep-59_3uglgwnl_fold0_log_v92_results.csv\n",
      "   🔍 Artifact training: fold1_log:v94\n"
     ]
    },
    {
     "name": "stderr",
     "output_type": "stream",
     "text": [
      "\u001b[34m\u001b[1mwandb\u001b[0m:   1 of 1 files downloaded.  \n"
     ]
    },
    {
     "name": "stdout",
     "output_type": "stream",
     "text": [
      "   ⬇️ Scaricato in: /home/lorenzo/Documenti/GitHub/Computer-Science-Sapienza/Computer Vision/project/artifacts/fold1_log:v94\n",
      "   ✅ Salvato: results/YOLOv11n/train/sweepy-sweep-59_3uglgwnl_fold1_log_v94_results.csv\n",
      "   🔍 Artifact training: fold2_log:v95\n"
     ]
    },
    {
     "name": "stderr",
     "output_type": "stream",
     "text": [
      "\u001b[34m\u001b[1mwandb\u001b[0m:   1 of 1 files downloaded.  \n"
     ]
    },
    {
     "name": "stdout",
     "output_type": "stream",
     "text": [
      "   ⬇️ Scaricato in: /home/lorenzo/Documenti/GitHub/Computer-Science-Sapienza/Computer Vision/project/artifacts/fold2_log:v95\n",
      "   ✅ Salvato: results/YOLOv11n/train/sweepy-sweep-59_3uglgwnl_fold2_log_v95_results.csv\n",
      "   🔍 Artifact training: fold3_log:v95\n"
     ]
    },
    {
     "name": "stderr",
     "output_type": "stream",
     "text": [
      "\u001b[34m\u001b[1mwandb\u001b[0m:   1 of 1 files downloaded.  \n"
     ]
    },
    {
     "name": "stdout",
     "output_type": "stream",
     "text": [
      "   ⬇️ Scaricato in: /home/lorenzo/Documenti/GitHub/Computer-Science-Sapienza/Computer Vision/project/artifacts/fold3_log:v95\n",
      "   ✅ Salvato: results/YOLOv11n/train/sweepy-sweep-59_3uglgwnl_fold3_log_v95_results.csv\n",
      "   🎉 Trovati 4 file\n",
      "🔄 Analizzo run: vague-sweep-58\n",
      "   ⚙️ Config salvato: configs/vague-sweep-58_5f4mvmwv_config.yaml\n",
      "   📁 Trovati 5 artifacts\n",
      "   🔍 Artifact training: fold0_log:v91\n"
     ]
    },
    {
     "name": "stderr",
     "output_type": "stream",
     "text": [
      "\u001b[34m\u001b[1mwandb\u001b[0m:   1 of 1 files downloaded.  \n"
     ]
    },
    {
     "name": "stdout",
     "output_type": "stream",
     "text": [
      "   ⬇️ Scaricato in: /home/lorenzo/Documenti/GitHub/Computer-Science-Sapienza/Computer Vision/project/artifacts/fold0_log:v91\n",
      "   ✅ Salvato: results/YOLOv11n/train/vague-sweep-58_5f4mvmwv_fold0_log_v91_results.csv\n",
      "   🔍 Artifact training: fold1_log:v93\n"
     ]
    },
    {
     "name": "stderr",
     "output_type": "stream",
     "text": [
      "\u001b[34m\u001b[1mwandb\u001b[0m:   1 of 1 files downloaded.  \n"
     ]
    },
    {
     "name": "stdout",
     "output_type": "stream",
     "text": [
      "   ⬇️ Scaricato in: /home/lorenzo/Documenti/GitHub/Computer-Science-Sapienza/Computer Vision/project/artifacts/fold1_log:v93\n",
      "   ✅ Salvato: results/YOLOv11n/train/vague-sweep-58_5f4mvmwv_fold1_log_v93_results.csv\n",
      "   🔍 Artifact training: fold2_log:v94\n"
     ]
    },
    {
     "name": "stderr",
     "output_type": "stream",
     "text": [
      "\u001b[34m\u001b[1mwandb\u001b[0m:   1 of 1 files downloaded.  \n"
     ]
    },
    {
     "name": "stdout",
     "output_type": "stream",
     "text": [
      "   ⬇️ Scaricato in: /home/lorenzo/Documenti/GitHub/Computer-Science-Sapienza/Computer Vision/project/artifacts/fold2_log:v94\n",
      "   ✅ Salvato: results/YOLOv11n/train/vague-sweep-58_5f4mvmwv_fold2_log_v94_results.csv\n",
      "   🔍 Artifact training: fold3_log:v94\n"
     ]
    },
    {
     "name": "stderr",
     "output_type": "stream",
     "text": [
      "\u001b[34m\u001b[1mwandb\u001b[0m:   1 of 1 files downloaded.  \n"
     ]
    },
    {
     "name": "stdout",
     "output_type": "stream",
     "text": [
      "   ⬇️ Scaricato in: /home/lorenzo/Documenti/GitHub/Computer-Science-Sapienza/Computer Vision/project/artifacts/fold3_log:v94\n",
      "   ✅ Salvato: results/YOLOv11n/train/vague-sweep-58_5f4mvmwv_fold3_log_v94_results.csv\n",
      "   🎉 Trovati 4 file\n",
      "🔄 Analizzo run: decent-sweep-57\n",
      "   ⚙️ Config salvato: configs/decent-sweep-57_u9v9xk4y_config.yaml\n",
      "   📁 Trovati 5 artifacts\n",
      "   🔍 Artifact training: fold0_log:v90\n"
     ]
    },
    {
     "name": "stderr",
     "output_type": "stream",
     "text": [
      "\u001b[34m\u001b[1mwandb\u001b[0m:   1 of 1 files downloaded.  \n"
     ]
    },
    {
     "name": "stdout",
     "output_type": "stream",
     "text": [
      "   ⬇️ Scaricato in: /home/lorenzo/Documenti/GitHub/Computer-Science-Sapienza/Computer Vision/project/artifacts/fold0_log:v90\n",
      "   ✅ Salvato: results/YOLOv11n/train/decent-sweep-57_u9v9xk4y_fold0_log_v90_results.csv\n",
      "   🔍 Artifact training: fold1_log:v92\n"
     ]
    },
    {
     "name": "stderr",
     "output_type": "stream",
     "text": [
      "\u001b[34m\u001b[1mwandb\u001b[0m:   1 of 1 files downloaded.  \n"
     ]
    },
    {
     "name": "stdout",
     "output_type": "stream",
     "text": [
      "   ⬇️ Scaricato in: /home/lorenzo/Documenti/GitHub/Computer-Science-Sapienza/Computer Vision/project/artifacts/fold1_log:v92\n",
      "   ✅ Salvato: results/YOLOv11n/train/decent-sweep-57_u9v9xk4y_fold1_log_v92_results.csv\n",
      "   🔍 Artifact training: fold2_log:v93\n"
     ]
    },
    {
     "name": "stderr",
     "output_type": "stream",
     "text": [
      "\u001b[34m\u001b[1mwandb\u001b[0m:   1 of 1 files downloaded.  \n"
     ]
    },
    {
     "name": "stdout",
     "output_type": "stream",
     "text": [
      "   ⬇️ Scaricato in: /home/lorenzo/Documenti/GitHub/Computer-Science-Sapienza/Computer Vision/project/artifacts/fold2_log:v93\n",
      "   ✅ Salvato: results/YOLOv11n/train/decent-sweep-57_u9v9xk4y_fold2_log_v93_results.csv\n",
      "   🔍 Artifact training: fold3_log:v93\n"
     ]
    },
    {
     "name": "stderr",
     "output_type": "stream",
     "text": [
      "\u001b[34m\u001b[1mwandb\u001b[0m:   1 of 1 files downloaded.  \n"
     ]
    },
    {
     "name": "stdout",
     "output_type": "stream",
     "text": [
      "   ⬇️ Scaricato in: /home/lorenzo/Documenti/GitHub/Computer-Science-Sapienza/Computer Vision/project/artifacts/fold3_log:v93\n",
      "   ✅ Salvato: results/YOLOv11n/train/decent-sweep-57_u9v9xk4y_fold3_log_v93_results.csv\n",
      "   🎉 Trovati 4 file\n",
      "🔄 Analizzo run: flowing-sweep-56\n",
      "   ⚙️ Config salvato: configs/flowing-sweep-56_8lfkccwt_config.yaml\n",
      "   📁 Trovati 5 artifacts\n",
      "   🔍 Artifact training: fold0_log:v89\n"
     ]
    },
    {
     "name": "stderr",
     "output_type": "stream",
     "text": [
      "\u001b[34m\u001b[1mwandb\u001b[0m:   1 of 1 files downloaded.  \n"
     ]
    },
    {
     "name": "stdout",
     "output_type": "stream",
     "text": [
      "   ⬇️ Scaricato in: /home/lorenzo/Documenti/GitHub/Computer-Science-Sapienza/Computer Vision/project/artifacts/fold0_log:v89\n",
      "   ✅ Salvato: results/YOLOv11n/train/flowing-sweep-56_8lfkccwt_fold0_log_v89_results.csv\n",
      "   🔍 Artifact training: fold1_log:v91\n"
     ]
    },
    {
     "name": "stderr",
     "output_type": "stream",
     "text": [
      "\u001b[34m\u001b[1mwandb\u001b[0m:   1 of 1 files downloaded.  \n"
     ]
    },
    {
     "name": "stdout",
     "output_type": "stream",
     "text": [
      "   ⬇️ Scaricato in: /home/lorenzo/Documenti/GitHub/Computer-Science-Sapienza/Computer Vision/project/artifacts/fold1_log:v91\n",
      "   ✅ Salvato: results/YOLOv11n/train/flowing-sweep-56_8lfkccwt_fold1_log_v91_results.csv\n",
      "   🔍 Artifact training: fold2_log:v92\n"
     ]
    },
    {
     "name": "stderr",
     "output_type": "stream",
     "text": [
      "\u001b[34m\u001b[1mwandb\u001b[0m:   1 of 1 files downloaded.  \n"
     ]
    },
    {
     "name": "stdout",
     "output_type": "stream",
     "text": [
      "   ⬇️ Scaricato in: /home/lorenzo/Documenti/GitHub/Computer-Science-Sapienza/Computer Vision/project/artifacts/fold2_log:v92\n",
      "   ✅ Salvato: results/YOLOv11n/train/flowing-sweep-56_8lfkccwt_fold2_log_v92_results.csv\n",
      "   🔍 Artifact training: fold3_log:v92\n"
     ]
    },
    {
     "name": "stderr",
     "output_type": "stream",
     "text": [
      "\u001b[34m\u001b[1mwandb\u001b[0m:   1 of 1 files downloaded.  \n"
     ]
    },
    {
     "name": "stdout",
     "output_type": "stream",
     "text": [
      "   ⬇️ Scaricato in: /home/lorenzo/Documenti/GitHub/Computer-Science-Sapienza/Computer Vision/project/artifacts/fold3_log:v92\n",
      "   ✅ Salvato: results/YOLOv11n/train/flowing-sweep-56_8lfkccwt_fold3_log_v92_results.csv\n",
      "   🎉 Trovati 4 file\n",
      "🔄 Analizzo run: sleek-sweep-55\n",
      "   ⚙️ Config salvato: configs/sleek-sweep-55_jz62q647_config.yaml\n",
      "   📁 Trovati 5 artifacts\n",
      "   🔍 Artifact training: fold0_log:v88\n"
     ]
    },
    {
     "name": "stderr",
     "output_type": "stream",
     "text": [
      "\u001b[34m\u001b[1mwandb\u001b[0m:   1 of 1 files downloaded.  \n"
     ]
    },
    {
     "name": "stdout",
     "output_type": "stream",
     "text": [
      "   ⬇️ Scaricato in: /home/lorenzo/Documenti/GitHub/Computer-Science-Sapienza/Computer Vision/project/artifacts/fold0_log:v88\n",
      "   ✅ Salvato: results/YOLOv11n/train/sleek-sweep-55_jz62q647_fold0_log_v88_results.csv\n",
      "   🔍 Artifact training: fold1_log:v90\n"
     ]
    },
    {
     "name": "stderr",
     "output_type": "stream",
     "text": [
      "\u001b[34m\u001b[1mwandb\u001b[0m:   1 of 1 files downloaded.  \n"
     ]
    },
    {
     "name": "stdout",
     "output_type": "stream",
     "text": [
      "   ⬇️ Scaricato in: /home/lorenzo/Documenti/GitHub/Computer-Science-Sapienza/Computer Vision/project/artifacts/fold1_log:v90\n",
      "   ✅ Salvato: results/YOLOv11n/train/sleek-sweep-55_jz62q647_fold1_log_v90_results.csv\n",
      "   🔍 Artifact training: fold2_log:v91\n"
     ]
    },
    {
     "name": "stderr",
     "output_type": "stream",
     "text": [
      "\u001b[34m\u001b[1mwandb\u001b[0m:   1 of 1 files downloaded.  \n"
     ]
    },
    {
     "name": "stdout",
     "output_type": "stream",
     "text": [
      "   ⬇️ Scaricato in: /home/lorenzo/Documenti/GitHub/Computer-Science-Sapienza/Computer Vision/project/artifacts/fold2_log:v91\n",
      "   ✅ Salvato: results/YOLOv11n/train/sleek-sweep-55_jz62q647_fold2_log_v91_results.csv\n",
      "   🔍 Artifact training: fold3_log:v91\n"
     ]
    },
    {
     "name": "stderr",
     "output_type": "stream",
     "text": [
      "\u001b[34m\u001b[1mwandb\u001b[0m:   1 of 1 files downloaded.  \n"
     ]
    },
    {
     "name": "stdout",
     "output_type": "stream",
     "text": [
      "   ⬇️ Scaricato in: /home/lorenzo/Documenti/GitHub/Computer-Science-Sapienza/Computer Vision/project/artifacts/fold3_log:v91\n",
      "   ✅ Salvato: results/YOLOv11n/train/sleek-sweep-55_jz62q647_fold3_log_v91_results.csv\n",
      "   🎉 Trovati 4 file\n",
      "🔄 Analizzo run: ruby-sweep-54\n",
      "   ⚙️ Config salvato: configs/ruby-sweep-54_su3w1es8_config.yaml\n",
      "   📁 Trovati 4 artifacts\n",
      "   🔍 Artifact training: fold0_log:v87\n"
     ]
    },
    {
     "name": "stderr",
     "output_type": "stream",
     "text": [
      "\u001b[34m\u001b[1mwandb\u001b[0m:   1 of 1 files downloaded.  \n"
     ]
    },
    {
     "name": "stdout",
     "output_type": "stream",
     "text": [
      "   ⬇️ Scaricato in: /home/lorenzo/Documenti/GitHub/Computer-Science-Sapienza/Computer Vision/project/artifacts/fold0_log:v87\n",
      "   ✅ Salvato: results/YOLOv11n/train/ruby-sweep-54_su3w1es8_fold0_log_v87_results.csv\n",
      "   🔍 Artifact training: fold1_log:v89\n"
     ]
    },
    {
     "name": "stderr",
     "output_type": "stream",
     "text": [
      "\u001b[34m\u001b[1mwandb\u001b[0m:   1 of 1 files downloaded.  \n"
     ]
    },
    {
     "name": "stdout",
     "output_type": "stream",
     "text": [
      "   ⬇️ Scaricato in: /home/lorenzo/Documenti/GitHub/Computer-Science-Sapienza/Computer Vision/project/artifacts/fold1_log:v89\n",
      "   ✅ Salvato: results/YOLOv11n/train/ruby-sweep-54_su3w1es8_fold1_log_v89_results.csv\n",
      "   🔍 Artifact training: fold2_log:v90\n"
     ]
    },
    {
     "name": "stderr",
     "output_type": "stream",
     "text": [
      "\u001b[34m\u001b[1mwandb\u001b[0m:   1 of 1 files downloaded.  \n"
     ]
    },
    {
     "name": "stdout",
     "output_type": "stream",
     "text": [
      "   ⬇️ Scaricato in: /home/lorenzo/Documenti/GitHub/Computer-Science-Sapienza/Computer Vision/project/artifacts/fold2_log:v90\n",
      "   ✅ Salvato: results/YOLOv11n/train/ruby-sweep-54_su3w1es8_fold2_log_v90_results.csv\n",
      "   🔍 Artifact training: fold3_log:v90\n"
     ]
    },
    {
     "name": "stderr",
     "output_type": "stream",
     "text": [
      "\u001b[34m\u001b[1mwandb\u001b[0m:   1 of 1 files downloaded.  \n"
     ]
    },
    {
     "name": "stdout",
     "output_type": "stream",
     "text": [
      "   ⬇️ Scaricato in: /home/lorenzo/Documenti/GitHub/Computer-Science-Sapienza/Computer Vision/project/artifacts/fold3_log:v90\n",
      "   ✅ Salvato: results/YOLOv11n/train/ruby-sweep-54_su3w1es8_fold3_log_v90_results.csv\n",
      "   🎉 Trovati 4 file\n",
      "🔄 Analizzo run: rural-sweep-53\n",
      "   ⚙️ Config salvato: configs/rural-sweep-53_dfxi5oar_config.yaml\n",
      "   📁 Trovati 5 artifacts\n",
      "   🔍 Artifact training: fold0_log:v86\n"
     ]
    },
    {
     "name": "stderr",
     "output_type": "stream",
     "text": [
      "\u001b[34m\u001b[1mwandb\u001b[0m:   1 of 1 files downloaded.  \n"
     ]
    },
    {
     "name": "stdout",
     "output_type": "stream",
     "text": [
      "   ⬇️ Scaricato in: /home/lorenzo/Documenti/GitHub/Computer-Science-Sapienza/Computer Vision/project/artifacts/fold0_log:v86\n",
      "   ✅ Salvato: results/YOLOv11n/train/rural-sweep-53_dfxi5oar_fold0_log_v86_results.csv\n",
      "   🔍 Artifact training: fold1_log:v88\n"
     ]
    },
    {
     "name": "stderr",
     "output_type": "stream",
     "text": [
      "\u001b[34m\u001b[1mwandb\u001b[0m:   1 of 1 files downloaded.  \n"
     ]
    },
    {
     "name": "stdout",
     "output_type": "stream",
     "text": [
      "   ⬇️ Scaricato in: /home/lorenzo/Documenti/GitHub/Computer-Science-Sapienza/Computer Vision/project/artifacts/fold1_log:v88\n",
      "   ✅ Salvato: results/YOLOv11n/train/rural-sweep-53_dfxi5oar_fold1_log_v88_results.csv\n",
      "   🔍 Artifact training: fold2_log:v89\n"
     ]
    },
    {
     "name": "stderr",
     "output_type": "stream",
     "text": [
      "\u001b[34m\u001b[1mwandb\u001b[0m:   1 of 1 files downloaded.  \n"
     ]
    },
    {
     "name": "stdout",
     "output_type": "stream",
     "text": [
      "   ⬇️ Scaricato in: /home/lorenzo/Documenti/GitHub/Computer-Science-Sapienza/Computer Vision/project/artifacts/fold2_log:v89\n",
      "   ✅ Salvato: results/YOLOv11n/train/rural-sweep-53_dfxi5oar_fold2_log_v89_results.csv\n",
      "   🔍 Artifact training: fold3_log:v89\n"
     ]
    },
    {
     "name": "stderr",
     "output_type": "stream",
     "text": [
      "\u001b[34m\u001b[1mwandb\u001b[0m:   1 of 1 files downloaded.  \n"
     ]
    },
    {
     "name": "stdout",
     "output_type": "stream",
     "text": [
      "   ⬇️ Scaricato in: /home/lorenzo/Documenti/GitHub/Computer-Science-Sapienza/Computer Vision/project/artifacts/fold3_log:v89\n",
      "   ✅ Salvato: results/YOLOv11n/train/rural-sweep-53_dfxi5oar_fold3_log_v89_results.csv\n",
      "   🎉 Trovati 4 file\n",
      "🔄 Analizzo run: curious-sweep-52\n",
      "   ⚙️ Config salvato: configs/curious-sweep-52_oephrkf3_config.yaml\n",
      "   📁 Trovati 5 artifacts\n",
      "   🔍 Artifact training: fold0_log:v85\n"
     ]
    },
    {
     "name": "stderr",
     "output_type": "stream",
     "text": [
      "\u001b[34m\u001b[1mwandb\u001b[0m:   1 of 1 files downloaded.  \n"
     ]
    },
    {
     "name": "stdout",
     "output_type": "stream",
     "text": [
      "   ⬇️ Scaricato in: /home/lorenzo/Documenti/GitHub/Computer-Science-Sapienza/Computer Vision/project/artifacts/fold0_log:v85\n",
      "   ✅ Salvato: results/YOLOv11n/train/curious-sweep-52_oephrkf3_fold0_log_v85_results.csv\n",
      "   🔍 Artifact training: fold1_log:v87\n"
     ]
    },
    {
     "name": "stderr",
     "output_type": "stream",
     "text": [
      "\u001b[34m\u001b[1mwandb\u001b[0m:   1 of 1 files downloaded.  \n"
     ]
    },
    {
     "name": "stdout",
     "output_type": "stream",
     "text": [
      "   ⬇️ Scaricato in: /home/lorenzo/Documenti/GitHub/Computer-Science-Sapienza/Computer Vision/project/artifacts/fold1_log:v87\n",
      "   ✅ Salvato: results/YOLOv11n/train/curious-sweep-52_oephrkf3_fold1_log_v87_results.csv\n",
      "   🔍 Artifact training: fold2_log:v88\n"
     ]
    },
    {
     "name": "stderr",
     "output_type": "stream",
     "text": [
      "\u001b[34m\u001b[1mwandb\u001b[0m:   1 of 1 files downloaded.  \n"
     ]
    },
    {
     "name": "stdout",
     "output_type": "stream",
     "text": [
      "   ⬇️ Scaricato in: /home/lorenzo/Documenti/GitHub/Computer-Science-Sapienza/Computer Vision/project/artifacts/fold2_log:v88\n",
      "   ✅ Salvato: results/YOLOv11n/train/curious-sweep-52_oephrkf3_fold2_log_v88_results.csv\n",
      "   🔍 Artifact training: fold3_log:v88\n"
     ]
    },
    {
     "name": "stderr",
     "output_type": "stream",
     "text": [
      "\u001b[34m\u001b[1mwandb\u001b[0m:   1 of 1 files downloaded.  \n"
     ]
    },
    {
     "name": "stdout",
     "output_type": "stream",
     "text": [
      "   ⬇️ Scaricato in: /home/lorenzo/Documenti/GitHub/Computer-Science-Sapienza/Computer Vision/project/artifacts/fold3_log:v88\n",
      "   ✅ Salvato: results/YOLOv11n/train/curious-sweep-52_oephrkf3_fold3_log_v88_results.csv\n",
      "   🎉 Trovati 4 file\n",
      "🔄 Analizzo run: different-sweep-51\n",
      "   ⚙️ Config salvato: configs/different-sweep-51_wo7pbhno_config.yaml\n",
      "   📁 Trovati 5 artifacts\n",
      "   🔍 Artifact training: fold0_log:v84\n"
     ]
    },
    {
     "name": "stderr",
     "output_type": "stream",
     "text": [
      "\u001b[34m\u001b[1mwandb\u001b[0m:   1 of 1 files downloaded.  \n"
     ]
    },
    {
     "name": "stdout",
     "output_type": "stream",
     "text": [
      "   ⬇️ Scaricato in: /home/lorenzo/Documenti/GitHub/Computer-Science-Sapienza/Computer Vision/project/artifacts/fold0_log:v84\n",
      "   ✅ Salvato: results/YOLOv11n/train/different-sweep-51_wo7pbhno_fold0_log_v84_results.csv\n",
      "   🔍 Artifact training: fold1_log:v86\n"
     ]
    },
    {
     "name": "stderr",
     "output_type": "stream",
     "text": [
      "\u001b[34m\u001b[1mwandb\u001b[0m:   1 of 1 files downloaded.  \n"
     ]
    },
    {
     "name": "stdout",
     "output_type": "stream",
     "text": [
      "   ⬇️ Scaricato in: /home/lorenzo/Documenti/GitHub/Computer-Science-Sapienza/Computer Vision/project/artifacts/fold1_log:v86\n",
      "   ✅ Salvato: results/YOLOv11n/train/different-sweep-51_wo7pbhno_fold1_log_v86_results.csv\n",
      "   🔍 Artifact training: fold3_log:v87\n"
     ]
    },
    {
     "name": "stderr",
     "output_type": "stream",
     "text": [
      "\u001b[34m\u001b[1mwandb\u001b[0m:   1 of 1 files downloaded.  \n"
     ]
    },
    {
     "name": "stdout",
     "output_type": "stream",
     "text": [
      "   ⬇️ Scaricato in: /home/lorenzo/Documenti/GitHub/Computer-Science-Sapienza/Computer Vision/project/artifacts/fold3_log:v87\n",
      "   ✅ Salvato: results/YOLOv11n/train/different-sweep-51_wo7pbhno_fold3_log_v87_results.csv\n",
      "   🔍 Artifact training: fold2_log:v87\n"
     ]
    },
    {
     "name": "stderr",
     "output_type": "stream",
     "text": [
      "\u001b[34m\u001b[1mwandb\u001b[0m:   1 of 1 files downloaded.  \n"
     ]
    },
    {
     "name": "stdout",
     "output_type": "stream",
     "text": [
      "   ⬇️ Scaricato in: /home/lorenzo/Documenti/GitHub/Computer-Science-Sapienza/Computer Vision/project/artifacts/fold2_log:v87\n",
      "   ✅ Salvato: results/YOLOv11n/train/different-sweep-51_wo7pbhno_fold2_log_v87_results.csv\n",
      "   🎉 Trovati 4 file\n",
      "🔄 Analizzo run: honest-sweep-50\n",
      "   ⚙️ Config salvato: configs/honest-sweep-50_dulugr21_config.yaml\n",
      "   📁 Trovati 5 artifacts\n",
      "   🔍 Artifact training: fold0_log:v83\n"
     ]
    },
    {
     "name": "stderr",
     "output_type": "stream",
     "text": [
      "\u001b[34m\u001b[1mwandb\u001b[0m:   1 of 1 files downloaded.  \n"
     ]
    },
    {
     "name": "stdout",
     "output_type": "stream",
     "text": [
      "   ⬇️ Scaricato in: /home/lorenzo/Documenti/GitHub/Computer-Science-Sapienza/Computer Vision/project/artifacts/fold0_log:v83\n",
      "   ✅ Salvato: results/YOLOv11n/train/honest-sweep-50_dulugr21_fold0_log_v83_results.csv\n",
      "   🔍 Artifact training: fold1_log:v85\n"
     ]
    },
    {
     "name": "stderr",
     "output_type": "stream",
     "text": [
      "\u001b[34m\u001b[1mwandb\u001b[0m:   1 of 1 files downloaded.  \n"
     ]
    },
    {
     "name": "stdout",
     "output_type": "stream",
     "text": [
      "   ⬇️ Scaricato in: /home/lorenzo/Documenti/GitHub/Computer-Science-Sapienza/Computer Vision/project/artifacts/fold1_log:v85\n",
      "   ✅ Salvato: results/YOLOv11n/train/honest-sweep-50_dulugr21_fold1_log_v85_results.csv\n",
      "   🔍 Artifact training: fold2_log:v86\n"
     ]
    },
    {
     "name": "stderr",
     "output_type": "stream",
     "text": [
      "\u001b[34m\u001b[1mwandb\u001b[0m:   1 of 1 files downloaded.  \n"
     ]
    },
    {
     "name": "stdout",
     "output_type": "stream",
     "text": [
      "   ⬇️ Scaricato in: /home/lorenzo/Documenti/GitHub/Computer-Science-Sapienza/Computer Vision/project/artifacts/fold2_log:v86\n",
      "   ✅ Salvato: results/YOLOv11n/train/honest-sweep-50_dulugr21_fold2_log_v86_results.csv\n",
      "   🔍 Artifact training: fold3_log:v86\n"
     ]
    },
    {
     "name": "stderr",
     "output_type": "stream",
     "text": [
      "\u001b[34m\u001b[1mwandb\u001b[0m:   1 of 1 files downloaded.  \n"
     ]
    },
    {
     "name": "stdout",
     "output_type": "stream",
     "text": [
      "   ⬇️ Scaricato in: /home/lorenzo/Documenti/GitHub/Computer-Science-Sapienza/Computer Vision/project/artifacts/fold3_log:v86\n",
      "   ✅ Salvato: results/YOLOv11n/train/honest-sweep-50_dulugr21_fold3_log_v86_results.csv\n",
      "   🎉 Trovati 4 file\n",
      "🔄 Analizzo run: spring-sweep-49\n",
      "   ⚙️ Config salvato: configs/spring-sweep-49_gtkhaheb_config.yaml\n",
      "   📁 Trovati 5 artifacts\n",
      "   🔍 Artifact training: fold0_log:v82\n"
     ]
    },
    {
     "name": "stderr",
     "output_type": "stream",
     "text": [
      "\u001b[34m\u001b[1mwandb\u001b[0m:   1 of 1 files downloaded.  \n"
     ]
    },
    {
     "name": "stdout",
     "output_type": "stream",
     "text": [
      "   ⬇️ Scaricato in: /home/lorenzo/Documenti/GitHub/Computer-Science-Sapienza/Computer Vision/project/artifacts/fold0_log:v82\n",
      "   ✅ Salvato: results/YOLOv11n/train/spring-sweep-49_gtkhaheb_fold0_log_v82_results.csv\n",
      "   🔍 Artifact training: fold1_log:v84\n"
     ]
    },
    {
     "name": "stderr",
     "output_type": "stream",
     "text": [
      "\u001b[34m\u001b[1mwandb\u001b[0m:   1 of 1 files downloaded.  \n"
     ]
    },
    {
     "name": "stdout",
     "output_type": "stream",
     "text": [
      "   ⬇️ Scaricato in: /home/lorenzo/Documenti/GitHub/Computer-Science-Sapienza/Computer Vision/project/artifacts/fold1_log:v84\n",
      "   ✅ Salvato: results/YOLOv11n/train/spring-sweep-49_gtkhaheb_fold1_log_v84_results.csv\n",
      "   🔍 Artifact training: fold2_log:v85\n"
     ]
    },
    {
     "name": "stderr",
     "output_type": "stream",
     "text": [
      "\u001b[34m\u001b[1mwandb\u001b[0m:   1 of 1 files downloaded.  \n"
     ]
    },
    {
     "name": "stdout",
     "output_type": "stream",
     "text": [
      "   ⬇️ Scaricato in: /home/lorenzo/Documenti/GitHub/Computer-Science-Sapienza/Computer Vision/project/artifacts/fold2_log:v85\n",
      "   ✅ Salvato: results/YOLOv11n/train/spring-sweep-49_gtkhaheb_fold2_log_v85_results.csv\n",
      "   🔍 Artifact training: fold3_log:v85\n"
     ]
    },
    {
     "name": "stderr",
     "output_type": "stream",
     "text": [
      "\u001b[34m\u001b[1mwandb\u001b[0m:   1 of 1 files downloaded.  \n"
     ]
    },
    {
     "name": "stdout",
     "output_type": "stream",
     "text": [
      "   ⬇️ Scaricato in: /home/lorenzo/Documenti/GitHub/Computer-Science-Sapienza/Computer Vision/project/artifacts/fold3_log:v85\n",
      "   ✅ Salvato: results/YOLOv11n/train/spring-sweep-49_gtkhaheb_fold3_log_v85_results.csv\n",
      "   🎉 Trovati 4 file\n",
      "🔄 Analizzo run: fallen-sweep-48\n",
      "   ⚙️ Config salvato: configs/fallen-sweep-48_afnngz4z_config.yaml\n",
      "   📁 Trovati 5 artifacts\n",
      "   🔍 Artifact training: fold1_log:v83\n"
     ]
    },
    {
     "name": "stderr",
     "output_type": "stream",
     "text": [
      "\u001b[34m\u001b[1mwandb\u001b[0m:   1 of 1 files downloaded.  \n"
     ]
    },
    {
     "name": "stdout",
     "output_type": "stream",
     "text": [
      "   ⬇️ Scaricato in: /home/lorenzo/Documenti/GitHub/Computer-Science-Sapienza/Computer Vision/project/artifacts/fold1_log:v83\n",
      "   ✅ Salvato: results/YOLOv11n/train/fallen-sweep-48_afnngz4z_fold1_log_v83_results.csv\n",
      "   🔍 Artifact training: fold0_log:v81\n"
     ]
    },
    {
     "name": "stderr",
     "output_type": "stream",
     "text": [
      "\u001b[34m\u001b[1mwandb\u001b[0m:   1 of 1 files downloaded.  \n"
     ]
    },
    {
     "name": "stdout",
     "output_type": "stream",
     "text": [
      "   ⬇️ Scaricato in: /home/lorenzo/Documenti/GitHub/Computer-Science-Sapienza/Computer Vision/project/artifacts/fold0_log:v81\n",
      "   ✅ Salvato: results/YOLOv11n/train/fallen-sweep-48_afnngz4z_fold0_log_v81_results.csv\n",
      "   🔍 Artifact training: fold2_log:v84\n"
     ]
    },
    {
     "name": "stderr",
     "output_type": "stream",
     "text": [
      "\u001b[34m\u001b[1mwandb\u001b[0m:   1 of 1 files downloaded.  \n"
     ]
    },
    {
     "name": "stdout",
     "output_type": "stream",
     "text": [
      "   ⬇️ Scaricato in: /home/lorenzo/Documenti/GitHub/Computer-Science-Sapienza/Computer Vision/project/artifacts/fold2_log:v84\n",
      "   ✅ Salvato: results/YOLOv11n/train/fallen-sweep-48_afnngz4z_fold2_log_v84_results.csv\n",
      "   🔍 Artifact training: fold3_log:v84\n"
     ]
    },
    {
     "name": "stderr",
     "output_type": "stream",
     "text": [
      "\u001b[34m\u001b[1mwandb\u001b[0m:   1 of 1 files downloaded.  \n"
     ]
    },
    {
     "name": "stdout",
     "output_type": "stream",
     "text": [
      "   ⬇️ Scaricato in: /home/lorenzo/Documenti/GitHub/Computer-Science-Sapienza/Computer Vision/project/artifacts/fold3_log:v84\n",
      "   ✅ Salvato: results/YOLOv11n/train/fallen-sweep-48_afnngz4z_fold3_log_v84_results.csv\n",
      "   🎉 Trovati 4 file\n",
      "🔄 Analizzo run: pleasant-sweep-47\n",
      "   ⚙️ Config salvato: configs/pleasant-sweep-47_i9ix6mkd_config.yaml\n",
      "   📁 Trovati 5 artifacts\n",
      "   🔍 Artifact training: fold0_log:v80\n"
     ]
    },
    {
     "name": "stderr",
     "output_type": "stream",
     "text": [
      "\u001b[34m\u001b[1mwandb\u001b[0m:   1 of 1 files downloaded.  \n"
     ]
    },
    {
     "name": "stdout",
     "output_type": "stream",
     "text": [
      "   ⬇️ Scaricato in: /home/lorenzo/Documenti/GitHub/Computer-Science-Sapienza/Computer Vision/project/artifacts/fold0_log:v80\n",
      "   ✅ Salvato: results/YOLOv11n/train/pleasant-sweep-47_i9ix6mkd_fold0_log_v80_results.csv\n",
      "   🔍 Artifact training: fold2_log:v83\n"
     ]
    },
    {
     "name": "stderr",
     "output_type": "stream",
     "text": [
      "\u001b[34m\u001b[1mwandb\u001b[0m:   1 of 1 files downloaded.  \n"
     ]
    },
    {
     "name": "stdout",
     "output_type": "stream",
     "text": [
      "   ⬇️ Scaricato in: /home/lorenzo/Documenti/GitHub/Computer-Science-Sapienza/Computer Vision/project/artifacts/fold2_log:v83\n",
      "   ✅ Salvato: results/YOLOv11n/train/pleasant-sweep-47_i9ix6mkd_fold2_log_v83_results.csv\n",
      "   🔍 Artifact training: fold1_log:v82\n"
     ]
    },
    {
     "name": "stderr",
     "output_type": "stream",
     "text": [
      "\u001b[34m\u001b[1mwandb\u001b[0m:   1 of 1 files downloaded.  \n"
     ]
    },
    {
     "name": "stdout",
     "output_type": "stream",
     "text": [
      "   ⬇️ Scaricato in: /home/lorenzo/Documenti/GitHub/Computer-Science-Sapienza/Computer Vision/project/artifacts/fold1_log:v82\n",
      "   ✅ Salvato: results/YOLOv11n/train/pleasant-sweep-47_i9ix6mkd_fold1_log_v82_results.csv\n",
      "   🔍 Artifact training: fold3_log:v83\n"
     ]
    },
    {
     "name": "stderr",
     "output_type": "stream",
     "text": [
      "\u001b[34m\u001b[1mwandb\u001b[0m:   1 of 1 files downloaded.  \n"
     ]
    },
    {
     "name": "stdout",
     "output_type": "stream",
     "text": [
      "   ⬇️ Scaricato in: /home/lorenzo/Documenti/GitHub/Computer-Science-Sapienza/Computer Vision/project/artifacts/fold3_log:v83\n",
      "   ✅ Salvato: results/YOLOv11n/train/pleasant-sweep-47_i9ix6mkd_fold3_log_v83_results.csv\n",
      "   🎉 Trovati 4 file\n",
      "🔄 Analizzo run: deft-sweep-46\n",
      "   ⚙️ Config salvato: configs/deft-sweep-46_vdlwydjk_config.yaml\n",
      "   📁 Trovati 5 artifacts\n",
      "   🔍 Artifact training: fold0_log:v79\n"
     ]
    },
    {
     "name": "stderr",
     "output_type": "stream",
     "text": [
      "\u001b[34m\u001b[1mwandb\u001b[0m:   1 of 1 files downloaded.  \n"
     ]
    },
    {
     "name": "stdout",
     "output_type": "stream",
     "text": [
      "   ⬇️ Scaricato in: /home/lorenzo/Documenti/GitHub/Computer-Science-Sapienza/Computer Vision/project/artifacts/fold0_log:v79\n",
      "   ✅ Salvato: results/YOLOv11n/train/deft-sweep-46_vdlwydjk_fold0_log_v79_results.csv\n",
      "   🔍 Artifact training: fold1_log:v81\n"
     ]
    },
    {
     "name": "stderr",
     "output_type": "stream",
     "text": [
      "\u001b[34m\u001b[1mwandb\u001b[0m:   1 of 1 files downloaded.  \n"
     ]
    },
    {
     "name": "stdout",
     "output_type": "stream",
     "text": [
      "   ⬇️ Scaricato in: /home/lorenzo/Documenti/GitHub/Computer-Science-Sapienza/Computer Vision/project/artifacts/fold1_log:v81\n",
      "   ✅ Salvato: results/YOLOv11n/train/deft-sweep-46_vdlwydjk_fold1_log_v81_results.csv\n",
      "   🔍 Artifact training: fold2_log:v82\n"
     ]
    },
    {
     "name": "stderr",
     "output_type": "stream",
     "text": [
      "\u001b[34m\u001b[1mwandb\u001b[0m:   1 of 1 files downloaded.  \n"
     ]
    },
    {
     "name": "stdout",
     "output_type": "stream",
     "text": [
      "   ⬇️ Scaricato in: /home/lorenzo/Documenti/GitHub/Computer-Science-Sapienza/Computer Vision/project/artifacts/fold2_log:v82\n",
      "   ✅ Salvato: results/YOLOv11n/train/deft-sweep-46_vdlwydjk_fold2_log_v82_results.csv\n",
      "   🔍 Artifact training: fold3_log:v82\n"
     ]
    },
    {
     "name": "stderr",
     "output_type": "stream",
     "text": [
      "\u001b[34m\u001b[1mwandb\u001b[0m:   1 of 1 files downloaded.  \n"
     ]
    },
    {
     "name": "stdout",
     "output_type": "stream",
     "text": [
      "   ⬇️ Scaricato in: /home/lorenzo/Documenti/GitHub/Computer-Science-Sapienza/Computer Vision/project/artifacts/fold3_log:v82\n",
      "   ✅ Salvato: results/YOLOv11n/train/deft-sweep-46_vdlwydjk_fold3_log_v82_results.csv\n",
      "   🎉 Trovati 4 file\n",
      "🔄 Analizzo run: wandering-sweep-45\n",
      "   ⚙️ Config salvato: configs/wandering-sweep-45_hbfwuph9_config.yaml\n",
      "   📁 Trovati 5 artifacts\n",
      "   🔍 Artifact training: fold0_log:v78\n"
     ]
    },
    {
     "name": "stderr",
     "output_type": "stream",
     "text": [
      "\u001b[34m\u001b[1mwandb\u001b[0m:   1 of 1 files downloaded.  \n"
     ]
    },
    {
     "name": "stdout",
     "output_type": "stream",
     "text": [
      "   ⬇️ Scaricato in: /home/lorenzo/Documenti/GitHub/Computer-Science-Sapienza/Computer Vision/project/artifacts/fold0_log:v78\n",
      "   ✅ Salvato: results/YOLOv11n/train/wandering-sweep-45_hbfwuph9_fold0_log_v78_results.csv\n",
      "   🔍 Artifact training: fold1_log:v80\n"
     ]
    },
    {
     "name": "stderr",
     "output_type": "stream",
     "text": [
      "\u001b[34m\u001b[1mwandb\u001b[0m:   1 of 1 files downloaded.  \n"
     ]
    },
    {
     "name": "stdout",
     "output_type": "stream",
     "text": [
      "   ⬇️ Scaricato in: /home/lorenzo/Documenti/GitHub/Computer-Science-Sapienza/Computer Vision/project/artifacts/fold1_log:v80\n",
      "   ✅ Salvato: results/YOLOv11n/train/wandering-sweep-45_hbfwuph9_fold1_log_v80_results.csv\n",
      "   🔍 Artifact training: fold2_log:v81\n"
     ]
    },
    {
     "name": "stderr",
     "output_type": "stream",
     "text": [
      "\u001b[34m\u001b[1mwandb\u001b[0m:   1 of 1 files downloaded.  \n"
     ]
    },
    {
     "name": "stdout",
     "output_type": "stream",
     "text": [
      "   ⬇️ Scaricato in: /home/lorenzo/Documenti/GitHub/Computer-Science-Sapienza/Computer Vision/project/artifacts/fold2_log:v81\n",
      "   ✅ Salvato: results/YOLOv11n/train/wandering-sweep-45_hbfwuph9_fold2_log_v81_results.csv\n",
      "   🔍 Artifact training: fold3_log:v81\n"
     ]
    },
    {
     "name": "stderr",
     "output_type": "stream",
     "text": [
      "\u001b[34m\u001b[1mwandb\u001b[0m:   1 of 1 files downloaded.  \n"
     ]
    },
    {
     "name": "stdout",
     "output_type": "stream",
     "text": [
      "   ⬇️ Scaricato in: /home/lorenzo/Documenti/GitHub/Computer-Science-Sapienza/Computer Vision/project/artifacts/fold3_log:v81\n",
      "   ✅ Salvato: results/YOLOv11n/train/wandering-sweep-45_hbfwuph9_fold3_log_v81_results.csv\n",
      "   🎉 Trovati 4 file\n",
      "🔄 Analizzo run: gentle-sweep-44\n",
      "   ⚙️ Config salvato: configs/gentle-sweep-44_twmck000_config.yaml\n",
      "   📁 Trovati 5 artifacts\n",
      "   🔍 Artifact training: fold0_log:v77\n"
     ]
    },
    {
     "name": "stderr",
     "output_type": "stream",
     "text": [
      "\u001b[34m\u001b[1mwandb\u001b[0m:   1 of 1 files downloaded.  \n"
     ]
    },
    {
     "name": "stdout",
     "output_type": "stream",
     "text": [
      "   ⬇️ Scaricato in: /home/lorenzo/Documenti/GitHub/Computer-Science-Sapienza/Computer Vision/project/artifacts/fold0_log:v77\n",
      "   ✅ Salvato: results/YOLOv11n/train/gentle-sweep-44_twmck000_fold0_log_v77_results.csv\n",
      "   🔍 Artifact training: fold1_log:v79\n"
     ]
    },
    {
     "name": "stderr",
     "output_type": "stream",
     "text": [
      "\u001b[34m\u001b[1mwandb\u001b[0m:   1 of 1 files downloaded.  \n"
     ]
    },
    {
     "name": "stdout",
     "output_type": "stream",
     "text": [
      "   ⬇️ Scaricato in: /home/lorenzo/Documenti/GitHub/Computer-Science-Sapienza/Computer Vision/project/artifacts/fold1_log:v79\n",
      "   ✅ Salvato: results/YOLOv11n/train/gentle-sweep-44_twmck000_fold1_log_v79_results.csv\n",
      "   🔍 Artifact training: fold2_log:v80\n"
     ]
    },
    {
     "name": "stderr",
     "output_type": "stream",
     "text": [
      "\u001b[34m\u001b[1mwandb\u001b[0m:   1 of 1 files downloaded.  \n"
     ]
    },
    {
     "name": "stdout",
     "output_type": "stream",
     "text": [
      "   ⬇️ Scaricato in: /home/lorenzo/Documenti/GitHub/Computer-Science-Sapienza/Computer Vision/project/artifacts/fold2_log:v80\n",
      "   ✅ Salvato: results/YOLOv11n/train/gentle-sweep-44_twmck000_fold2_log_v80_results.csv\n",
      "   🔍 Artifact training: fold3_log:v80\n"
     ]
    },
    {
     "name": "stderr",
     "output_type": "stream",
     "text": [
      "\u001b[34m\u001b[1mwandb\u001b[0m:   1 of 1 files downloaded.  \n"
     ]
    },
    {
     "name": "stdout",
     "output_type": "stream",
     "text": [
      "   ⬇️ Scaricato in: /home/lorenzo/Documenti/GitHub/Computer-Science-Sapienza/Computer Vision/project/artifacts/fold3_log:v80\n",
      "   ✅ Salvato: results/YOLOv11n/train/gentle-sweep-44_twmck000_fold3_log_v80_results.csv\n",
      "   🎉 Trovati 4 file\n",
      "🔄 Analizzo run: vivid-sweep-43\n",
      "   ⚙️ Config salvato: configs/vivid-sweep-43_24t720dt_config.yaml\n",
      "   📁 Trovati 5 artifacts\n",
      "   🔍 Artifact training: fold0_log:v76\n"
     ]
    },
    {
     "name": "stderr",
     "output_type": "stream",
     "text": [
      "\u001b[34m\u001b[1mwandb\u001b[0m:   1 of 1 files downloaded.  \n"
     ]
    },
    {
     "name": "stdout",
     "output_type": "stream",
     "text": [
      "   ⬇️ Scaricato in: /home/lorenzo/Documenti/GitHub/Computer-Science-Sapienza/Computer Vision/project/artifacts/fold0_log:v76\n",
      "   ✅ Salvato: results/YOLOv11n/train/vivid-sweep-43_24t720dt_fold0_log_v76_results.csv\n",
      "   🔍 Artifact training: fold1_log:v78\n"
     ]
    },
    {
     "name": "stderr",
     "output_type": "stream",
     "text": [
      "\u001b[34m\u001b[1mwandb\u001b[0m:   1 of 1 files downloaded.  \n"
     ]
    },
    {
     "name": "stdout",
     "output_type": "stream",
     "text": [
      "   ⬇️ Scaricato in: /home/lorenzo/Documenti/GitHub/Computer-Science-Sapienza/Computer Vision/project/artifacts/fold1_log:v78\n",
      "   ✅ Salvato: results/YOLOv11n/train/vivid-sweep-43_24t720dt_fold1_log_v78_results.csv\n",
      "   🔍 Artifact training: fold2_log:v79\n"
     ]
    },
    {
     "name": "stderr",
     "output_type": "stream",
     "text": [
      "\u001b[34m\u001b[1mwandb\u001b[0m:   1 of 1 files downloaded.  \n"
     ]
    },
    {
     "name": "stdout",
     "output_type": "stream",
     "text": [
      "   ⬇️ Scaricato in: /home/lorenzo/Documenti/GitHub/Computer-Science-Sapienza/Computer Vision/project/artifacts/fold2_log:v79\n",
      "   ✅ Salvato: results/YOLOv11n/train/vivid-sweep-43_24t720dt_fold2_log_v79_results.csv\n",
      "   🔍 Artifact training: fold3_log:v79\n"
     ]
    },
    {
     "name": "stderr",
     "output_type": "stream",
     "text": [
      "\u001b[34m\u001b[1mwandb\u001b[0m:   1 of 1 files downloaded.  \n"
     ]
    },
    {
     "name": "stdout",
     "output_type": "stream",
     "text": [
      "   ⬇️ Scaricato in: /home/lorenzo/Documenti/GitHub/Computer-Science-Sapienza/Computer Vision/project/artifacts/fold3_log:v79\n",
      "   ✅ Salvato: results/YOLOv11n/train/vivid-sweep-43_24t720dt_fold3_log_v79_results.csv\n",
      "   🎉 Trovati 4 file\n",
      "🔄 Analizzo run: hopeful-sweep-42\n",
      "   ⚙️ Config salvato: configs/hopeful-sweep-42_3lcfbgd8_config.yaml\n",
      "   📁 Trovati 5 artifacts\n",
      "   🔍 Artifact training: fold0_log:v75\n"
     ]
    },
    {
     "name": "stderr",
     "output_type": "stream",
     "text": [
      "\u001b[34m\u001b[1mwandb\u001b[0m:   1 of 1 files downloaded.  \n"
     ]
    },
    {
     "name": "stdout",
     "output_type": "stream",
     "text": [
      "   ⬇️ Scaricato in: /home/lorenzo/Documenti/GitHub/Computer-Science-Sapienza/Computer Vision/project/artifacts/fold0_log:v75\n",
      "   ✅ Salvato: results/YOLOv11n/train/hopeful-sweep-42_3lcfbgd8_fold0_log_v75_results.csv\n",
      "   🔍 Artifact training: fold1_log:v77\n"
     ]
    },
    {
     "name": "stderr",
     "output_type": "stream",
     "text": [
      "\u001b[34m\u001b[1mwandb\u001b[0m:   1 of 1 files downloaded.  \n"
     ]
    },
    {
     "name": "stdout",
     "output_type": "stream",
     "text": [
      "   ⬇️ Scaricato in: /home/lorenzo/Documenti/GitHub/Computer-Science-Sapienza/Computer Vision/project/artifacts/fold1_log:v77\n",
      "   ✅ Salvato: results/YOLOv11n/train/hopeful-sweep-42_3lcfbgd8_fold1_log_v77_results.csv\n",
      "   🔍 Artifact training: fold2_log:v78\n"
     ]
    },
    {
     "name": "stderr",
     "output_type": "stream",
     "text": [
      "\u001b[34m\u001b[1mwandb\u001b[0m:   1 of 1 files downloaded.  \n"
     ]
    },
    {
     "name": "stdout",
     "output_type": "stream",
     "text": [
      "   ⬇️ Scaricato in: /home/lorenzo/Documenti/GitHub/Computer-Science-Sapienza/Computer Vision/project/artifacts/fold2_log:v78\n",
      "   ✅ Salvato: results/YOLOv11n/train/hopeful-sweep-42_3lcfbgd8_fold2_log_v78_results.csv\n",
      "   🔍 Artifact training: fold3_log:v78\n"
     ]
    },
    {
     "name": "stderr",
     "output_type": "stream",
     "text": [
      "\u001b[34m\u001b[1mwandb\u001b[0m:   1 of 1 files downloaded.  \n"
     ]
    },
    {
     "name": "stdout",
     "output_type": "stream",
     "text": [
      "   ⬇️ Scaricato in: /home/lorenzo/Documenti/GitHub/Computer-Science-Sapienza/Computer Vision/project/artifacts/fold3_log:v78\n",
      "   ✅ Salvato: results/YOLOv11n/train/hopeful-sweep-42_3lcfbgd8_fold3_log_v78_results.csv\n",
      "   🎉 Trovati 4 file\n",
      "🔄 Analizzo run: major-sweep-41\n",
      "   ⚙️ Config salvato: configs/major-sweep-41_j817pbkf_config.yaml\n",
      "   📁 Trovati 5 artifacts\n",
      "   🔍 Artifact training: fold0_log:v74\n"
     ]
    },
    {
     "name": "stderr",
     "output_type": "stream",
     "text": [
      "\u001b[34m\u001b[1mwandb\u001b[0m:   1 of 1 files downloaded.  \n"
     ]
    },
    {
     "name": "stdout",
     "output_type": "stream",
     "text": [
      "   ⬇️ Scaricato in: /home/lorenzo/Documenti/GitHub/Computer-Science-Sapienza/Computer Vision/project/artifacts/fold0_log:v74\n",
      "   ✅ Salvato: results/YOLOv11n/train/major-sweep-41_j817pbkf_fold0_log_v74_results.csv\n",
      "   🔍 Artifact training: fold1_log:v76\n"
     ]
    },
    {
     "name": "stderr",
     "output_type": "stream",
     "text": [
      "\u001b[34m\u001b[1mwandb\u001b[0m:   1 of 1 files downloaded.  \n"
     ]
    },
    {
     "name": "stdout",
     "output_type": "stream",
     "text": [
      "   ⬇️ Scaricato in: /home/lorenzo/Documenti/GitHub/Computer-Science-Sapienza/Computer Vision/project/artifacts/fold1_log:v76\n",
      "   ✅ Salvato: results/YOLOv11n/train/major-sweep-41_j817pbkf_fold1_log_v76_results.csv\n",
      "   🔍 Artifact training: fold2_log:v77\n"
     ]
    },
    {
     "name": "stderr",
     "output_type": "stream",
     "text": [
      "\u001b[34m\u001b[1mwandb\u001b[0m:   1 of 1 files downloaded.  \n"
     ]
    },
    {
     "name": "stdout",
     "output_type": "stream",
     "text": [
      "   ⬇️ Scaricato in: /home/lorenzo/Documenti/GitHub/Computer-Science-Sapienza/Computer Vision/project/artifacts/fold2_log:v77\n",
      "   ✅ Salvato: results/YOLOv11n/train/major-sweep-41_j817pbkf_fold2_log_v77_results.csv\n",
      "   🔍 Artifact training: fold3_log:v77\n"
     ]
    },
    {
     "name": "stderr",
     "output_type": "stream",
     "text": [
      "\u001b[34m\u001b[1mwandb\u001b[0m:   1 of 1 files downloaded.  \n"
     ]
    },
    {
     "name": "stdout",
     "output_type": "stream",
     "text": [
      "   ⬇️ Scaricato in: /home/lorenzo/Documenti/GitHub/Computer-Science-Sapienza/Computer Vision/project/artifacts/fold3_log:v77\n",
      "   ✅ Salvato: results/YOLOv11n/train/major-sweep-41_j817pbkf_fold3_log_v77_results.csv\n",
      "   🎉 Trovati 4 file\n",
      "🔄 Analizzo run: absurd-sweep-40\n",
      "   ⚙️ Config salvato: configs/absurd-sweep-40_mp6l9a4g_config.yaml\n",
      "   📁 Trovati 5 artifacts\n",
      "   🔍 Artifact training: fold0_log:v73\n"
     ]
    },
    {
     "name": "stderr",
     "output_type": "stream",
     "text": [
      "\u001b[34m\u001b[1mwandb\u001b[0m:   1 of 1 files downloaded.  \n"
     ]
    },
    {
     "name": "stdout",
     "output_type": "stream",
     "text": [
      "   ⬇️ Scaricato in: /home/lorenzo/Documenti/GitHub/Computer-Science-Sapienza/Computer Vision/project/artifacts/fold0_log:v73\n",
      "   ✅ Salvato: results/YOLOv11n/train/absurd-sweep-40_mp6l9a4g_fold0_log_v73_results.csv\n",
      "   🔍 Artifact training: fold1_log:v75\n"
     ]
    },
    {
     "name": "stderr",
     "output_type": "stream",
     "text": [
      "\u001b[34m\u001b[1mwandb\u001b[0m:   1 of 1 files downloaded.  \n"
     ]
    },
    {
     "name": "stdout",
     "output_type": "stream",
     "text": [
      "   ⬇️ Scaricato in: /home/lorenzo/Documenti/GitHub/Computer-Science-Sapienza/Computer Vision/project/artifacts/fold1_log:v75\n",
      "   ✅ Salvato: results/YOLOv11n/train/absurd-sweep-40_mp6l9a4g_fold1_log_v75_results.csv\n",
      "   🔍 Artifact training: fold2_log:v76\n"
     ]
    },
    {
     "name": "stderr",
     "output_type": "stream",
     "text": [
      "\u001b[34m\u001b[1mwandb\u001b[0m:   1 of 1 files downloaded.  \n"
     ]
    },
    {
     "name": "stdout",
     "output_type": "stream",
     "text": [
      "   ⬇️ Scaricato in: /home/lorenzo/Documenti/GitHub/Computer-Science-Sapienza/Computer Vision/project/artifacts/fold2_log:v76\n",
      "   ✅ Salvato: results/YOLOv11n/train/absurd-sweep-40_mp6l9a4g_fold2_log_v76_results.csv\n",
      "   🔍 Artifact training: fold3_log:v76\n"
     ]
    },
    {
     "name": "stderr",
     "output_type": "stream",
     "text": [
      "\u001b[34m\u001b[1mwandb\u001b[0m:   1 of 1 files downloaded.  \n"
     ]
    },
    {
     "name": "stdout",
     "output_type": "stream",
     "text": [
      "   ⬇️ Scaricato in: /home/lorenzo/Documenti/GitHub/Computer-Science-Sapienza/Computer Vision/project/artifacts/fold3_log:v76\n",
      "   ✅ Salvato: results/YOLOv11n/train/absurd-sweep-40_mp6l9a4g_fold3_log_v76_results.csv\n",
      "   🎉 Trovati 4 file\n",
      "🔄 Analizzo run: youthful-sweep-39\n",
      "   ⚙️ Config salvato: configs/youthful-sweep-39_zmebq2kx_config.yaml\n",
      "   📁 Trovati 5 artifacts\n",
      "   🔍 Artifact training: fold0_log:v72\n"
     ]
    },
    {
     "name": "stderr",
     "output_type": "stream",
     "text": [
      "\u001b[34m\u001b[1mwandb\u001b[0m:   1 of 1 files downloaded.  \n"
     ]
    },
    {
     "name": "stdout",
     "output_type": "stream",
     "text": [
      "   ⬇️ Scaricato in: /home/lorenzo/Documenti/GitHub/Computer-Science-Sapienza/Computer Vision/project/artifacts/fold0_log:v72\n",
      "   ✅ Salvato: results/YOLOv11n/train/youthful-sweep-39_zmebq2kx_fold0_log_v72_results.csv\n",
      "   🔍 Artifact training: fold1_log:v74\n"
     ]
    },
    {
     "name": "stderr",
     "output_type": "stream",
     "text": [
      "\u001b[34m\u001b[1mwandb\u001b[0m:   1 of 1 files downloaded.  \n"
     ]
    },
    {
     "name": "stdout",
     "output_type": "stream",
     "text": [
      "   ⬇️ Scaricato in: /home/lorenzo/Documenti/GitHub/Computer-Science-Sapienza/Computer Vision/project/artifacts/fold1_log:v74\n",
      "   ✅ Salvato: results/YOLOv11n/train/youthful-sweep-39_zmebq2kx_fold1_log_v74_results.csv\n",
      "   🔍 Artifact training: fold2_log:v75\n"
     ]
    },
    {
     "name": "stderr",
     "output_type": "stream",
     "text": [
      "\u001b[34m\u001b[1mwandb\u001b[0m:   1 of 1 files downloaded.  \n"
     ]
    },
    {
     "name": "stdout",
     "output_type": "stream",
     "text": [
      "   ⬇️ Scaricato in: /home/lorenzo/Documenti/GitHub/Computer-Science-Sapienza/Computer Vision/project/artifacts/fold2_log:v75\n",
      "   ✅ Salvato: results/YOLOv11n/train/youthful-sweep-39_zmebq2kx_fold2_log_v75_results.csv\n",
      "   🔍 Artifact training: fold3_log:v75\n"
     ]
    },
    {
     "name": "stderr",
     "output_type": "stream",
     "text": [
      "\u001b[34m\u001b[1mwandb\u001b[0m:   1 of 1 files downloaded.  \n"
     ]
    },
    {
     "name": "stdout",
     "output_type": "stream",
     "text": [
      "   ⬇️ Scaricato in: /home/lorenzo/Documenti/GitHub/Computer-Science-Sapienza/Computer Vision/project/artifacts/fold3_log:v75\n",
      "   ✅ Salvato: results/YOLOv11n/train/youthful-sweep-39_zmebq2kx_fold3_log_v75_results.csv\n",
      "   🎉 Trovati 4 file\n",
      "🔄 Analizzo run: breezy-sweep-38\n",
      "   ⚙️ Config salvato: configs/breezy-sweep-38_2w4k7kdw_config.yaml\n",
      "   📁 Trovati 5 artifacts\n",
      "   🔍 Artifact training: fold0_log:v71\n"
     ]
    },
    {
     "name": "stderr",
     "output_type": "stream",
     "text": [
      "\u001b[34m\u001b[1mwandb\u001b[0m:   1 of 1 files downloaded.  \n"
     ]
    },
    {
     "name": "stdout",
     "output_type": "stream",
     "text": [
      "   ⬇️ Scaricato in: /home/lorenzo/Documenti/GitHub/Computer-Science-Sapienza/Computer Vision/project/artifacts/fold0_log:v71\n",
      "   ✅ Salvato: results/YOLOv11n/train/breezy-sweep-38_2w4k7kdw_fold0_log_v71_results.csv\n",
      "   🔍 Artifact training: fold1_log:v73\n"
     ]
    },
    {
     "name": "stderr",
     "output_type": "stream",
     "text": [
      "\u001b[34m\u001b[1mwandb\u001b[0m:   1 of 1 files downloaded.  \n"
     ]
    },
    {
     "name": "stdout",
     "output_type": "stream",
     "text": [
      "   ⬇️ Scaricato in: /home/lorenzo/Documenti/GitHub/Computer-Science-Sapienza/Computer Vision/project/artifacts/fold1_log:v73\n",
      "   ✅ Salvato: results/YOLOv11n/train/breezy-sweep-38_2w4k7kdw_fold1_log_v73_results.csv\n",
      "   🔍 Artifact training: fold2_log:v74\n"
     ]
    },
    {
     "name": "stderr",
     "output_type": "stream",
     "text": [
      "\u001b[34m\u001b[1mwandb\u001b[0m:   1 of 1 files downloaded.  \n"
     ]
    },
    {
     "name": "stdout",
     "output_type": "stream",
     "text": [
      "   ⬇️ Scaricato in: /home/lorenzo/Documenti/GitHub/Computer-Science-Sapienza/Computer Vision/project/artifacts/fold2_log:v74\n",
      "   ✅ Salvato: results/YOLOv11n/train/breezy-sweep-38_2w4k7kdw_fold2_log_v74_results.csv\n",
      "   🔍 Artifact training: fold3_log:v74\n"
     ]
    },
    {
     "name": "stderr",
     "output_type": "stream",
     "text": [
      "\u001b[34m\u001b[1mwandb\u001b[0m:   1 of 1 files downloaded.  \n"
     ]
    },
    {
     "name": "stdout",
     "output_type": "stream",
     "text": [
      "   ⬇️ Scaricato in: /home/lorenzo/Documenti/GitHub/Computer-Science-Sapienza/Computer Vision/project/artifacts/fold3_log:v74\n",
      "   ✅ Salvato: results/YOLOv11n/train/breezy-sweep-38_2w4k7kdw_fold3_log_v74_results.csv\n",
      "   🎉 Trovati 4 file\n",
      "🔄 Analizzo run: glad-sweep-37\n",
      "   ⚙️ Config salvato: configs/glad-sweep-37_c8re08lr_config.yaml\n",
      "   📁 Trovati 5 artifacts\n",
      "   🔍 Artifact training: fold0_log:v70\n"
     ]
    },
    {
     "name": "stderr",
     "output_type": "stream",
     "text": [
      "\u001b[34m\u001b[1mwandb\u001b[0m:   1 of 1 files downloaded.  \n"
     ]
    },
    {
     "name": "stdout",
     "output_type": "stream",
     "text": [
      "   ⬇️ Scaricato in: /home/lorenzo/Documenti/GitHub/Computer-Science-Sapienza/Computer Vision/project/artifacts/fold0_log:v70\n",
      "   ✅ Salvato: results/YOLOv11n/train/glad-sweep-37_c8re08lr_fold0_log_v70_results.csv\n",
      "   🔍 Artifact training: fold1_log:v72\n"
     ]
    },
    {
     "name": "stderr",
     "output_type": "stream",
     "text": [
      "\u001b[34m\u001b[1mwandb\u001b[0m:   1 of 1 files downloaded.  \n"
     ]
    },
    {
     "name": "stdout",
     "output_type": "stream",
     "text": [
      "   ⬇️ Scaricato in: /home/lorenzo/Documenti/GitHub/Computer-Science-Sapienza/Computer Vision/project/artifacts/fold1_log:v72\n",
      "   ✅ Salvato: results/YOLOv11n/train/glad-sweep-37_c8re08lr_fold1_log_v72_results.csv\n",
      "   🔍 Artifact training: fold2_log:v73\n"
     ]
    },
    {
     "name": "stderr",
     "output_type": "stream",
     "text": [
      "\u001b[34m\u001b[1mwandb\u001b[0m:   1 of 1 files downloaded.  \n"
     ]
    },
    {
     "name": "stdout",
     "output_type": "stream",
     "text": [
      "   ⬇️ Scaricato in: /home/lorenzo/Documenti/GitHub/Computer-Science-Sapienza/Computer Vision/project/artifacts/fold2_log:v73\n",
      "   ✅ Salvato: results/YOLOv11n/train/glad-sweep-37_c8re08lr_fold2_log_v73_results.csv\n",
      "   🔍 Artifact training: fold3_log:v73\n"
     ]
    },
    {
     "name": "stderr",
     "output_type": "stream",
     "text": [
      "\u001b[34m\u001b[1mwandb\u001b[0m:   1 of 1 files downloaded.  \n"
     ]
    },
    {
     "name": "stdout",
     "output_type": "stream",
     "text": [
      "   ⬇️ Scaricato in: /home/lorenzo/Documenti/GitHub/Computer-Science-Sapienza/Computer Vision/project/artifacts/fold3_log:v73\n",
      "   ✅ Salvato: results/YOLOv11n/train/glad-sweep-37_c8re08lr_fold3_log_v73_results.csv\n",
      "   🎉 Trovati 4 file\n",
      "🔄 Analizzo run: skilled-sweep-36\n",
      "   ⚙️ Config salvato: configs/skilled-sweep-36_f7o8t8hy_config.yaml\n",
      "   📁 Trovati 5 artifacts\n",
      "   🔍 Artifact training: fold0_log:v69\n"
     ]
    },
    {
     "name": "stderr",
     "output_type": "stream",
     "text": [
      "\u001b[34m\u001b[1mwandb\u001b[0m:   1 of 1 files downloaded.  \n"
     ]
    },
    {
     "name": "stdout",
     "output_type": "stream",
     "text": [
      "   ⬇️ Scaricato in: /home/lorenzo/Documenti/GitHub/Computer-Science-Sapienza/Computer Vision/project/artifacts/fold0_log:v69\n",
      "   ✅ Salvato: results/YOLOv11n/train/skilled-sweep-36_f7o8t8hy_fold0_log_v69_results.csv\n",
      "   🔍 Artifact training: fold1_log:v71\n"
     ]
    },
    {
     "name": "stderr",
     "output_type": "stream",
     "text": [
      "\u001b[34m\u001b[1mwandb\u001b[0m:   1 of 1 files downloaded.  \n"
     ]
    },
    {
     "name": "stdout",
     "output_type": "stream",
     "text": [
      "   ⬇️ Scaricato in: /home/lorenzo/Documenti/GitHub/Computer-Science-Sapienza/Computer Vision/project/artifacts/fold1_log:v71\n",
      "   ✅ Salvato: results/YOLOv11n/train/skilled-sweep-36_f7o8t8hy_fold1_log_v71_results.csv\n",
      "   🔍 Artifact training: fold2_log:v72\n"
     ]
    },
    {
     "name": "stderr",
     "output_type": "stream",
     "text": [
      "\u001b[34m\u001b[1mwandb\u001b[0m:   1 of 1 files downloaded.  \n"
     ]
    },
    {
     "name": "stdout",
     "output_type": "stream",
     "text": [
      "   ⬇️ Scaricato in: /home/lorenzo/Documenti/GitHub/Computer-Science-Sapienza/Computer Vision/project/artifacts/fold2_log:v72\n",
      "   ✅ Salvato: results/YOLOv11n/train/skilled-sweep-36_f7o8t8hy_fold2_log_v72_results.csv\n",
      "   🔍 Artifact training: fold3_log:v72\n"
     ]
    },
    {
     "name": "stderr",
     "output_type": "stream",
     "text": [
      "\u001b[34m\u001b[1mwandb\u001b[0m:   1 of 1 files downloaded.  \n"
     ]
    },
    {
     "name": "stdout",
     "output_type": "stream",
     "text": [
      "   ⬇️ Scaricato in: /home/lorenzo/Documenti/GitHub/Computer-Science-Sapienza/Computer Vision/project/artifacts/fold3_log:v72\n",
      "   ✅ Salvato: results/YOLOv11n/train/skilled-sweep-36_f7o8t8hy_fold3_log_v72_results.csv\n",
      "   🎉 Trovati 4 file\n",
      "🔄 Analizzo run: gallant-sweep-35\n",
      "   ⚙️ Config salvato: configs/gallant-sweep-35_9bc87m7j_config.yaml\n",
      "   📁 Trovati 5 artifacts\n",
      "   🔍 Artifact training: fold0_log:v68\n"
     ]
    },
    {
     "name": "stderr",
     "output_type": "stream",
     "text": [
      "\u001b[34m\u001b[1mwandb\u001b[0m:   1 of 1 files downloaded.  \n"
     ]
    },
    {
     "name": "stdout",
     "output_type": "stream",
     "text": [
      "   ⬇️ Scaricato in: /home/lorenzo/Documenti/GitHub/Computer-Science-Sapienza/Computer Vision/project/artifacts/fold0_log:v68\n",
      "   ✅ Salvato: results/YOLOv11n/train/gallant-sweep-35_9bc87m7j_fold0_log_v68_results.csv\n",
      "   🔍 Artifact training: fold1_log:v70\n"
     ]
    },
    {
     "name": "stderr",
     "output_type": "stream",
     "text": [
      "\u001b[34m\u001b[1mwandb\u001b[0m:   1 of 1 files downloaded.  \n"
     ]
    },
    {
     "name": "stdout",
     "output_type": "stream",
     "text": [
      "   ⬇️ Scaricato in: /home/lorenzo/Documenti/GitHub/Computer-Science-Sapienza/Computer Vision/project/artifacts/fold1_log:v70\n",
      "   ✅ Salvato: results/YOLOv11n/train/gallant-sweep-35_9bc87m7j_fold1_log_v70_results.csv\n",
      "   🔍 Artifact training: fold2_log:v71\n"
     ]
    },
    {
     "name": "stderr",
     "output_type": "stream",
     "text": [
      "\u001b[34m\u001b[1mwandb\u001b[0m:   1 of 1 files downloaded.  \n"
     ]
    },
    {
     "name": "stdout",
     "output_type": "stream",
     "text": [
      "   ⬇️ Scaricato in: /home/lorenzo/Documenti/GitHub/Computer-Science-Sapienza/Computer Vision/project/artifacts/fold2_log:v71\n",
      "   ✅ Salvato: results/YOLOv11n/train/gallant-sweep-35_9bc87m7j_fold2_log_v71_results.csv\n",
      "   🔍 Artifact training: fold3_log:v71\n"
     ]
    },
    {
     "name": "stderr",
     "output_type": "stream",
     "text": [
      "\u001b[34m\u001b[1mwandb\u001b[0m:   1 of 1 files downloaded.  \n"
     ]
    },
    {
     "name": "stdout",
     "output_type": "stream",
     "text": [
      "   ⬇️ Scaricato in: /home/lorenzo/Documenti/GitHub/Computer-Science-Sapienza/Computer Vision/project/artifacts/fold3_log:v71\n",
      "   ✅ Salvato: results/YOLOv11n/train/gallant-sweep-35_9bc87m7j_fold3_log_v71_results.csv\n",
      "   🎉 Trovati 4 file\n",
      "🔄 Analizzo run: comfy-sweep-33\n",
      "   ⚙️ Config salvato: configs/comfy-sweep-33_ezfoyrtu_config.yaml\n",
      "   📁 Trovati 5 artifacts\n",
      "   🔍 Artifact training: fold0_log:v67\n"
     ]
    },
    {
     "name": "stderr",
     "output_type": "stream",
     "text": [
      "\u001b[34m\u001b[1mwandb\u001b[0m:   1 of 1 files downloaded.  \n"
     ]
    },
    {
     "name": "stdout",
     "output_type": "stream",
     "text": [
      "   ⬇️ Scaricato in: /home/lorenzo/Documenti/GitHub/Computer-Science-Sapienza/Computer Vision/project/artifacts/fold0_log:v67\n",
      "   ✅ Salvato: results/YOLOv11n/train/comfy-sweep-33_ezfoyrtu_fold0_log_v67_results.csv\n",
      "   🔍 Artifact training: fold1_log:v68\n"
     ]
    },
    {
     "name": "stderr",
     "output_type": "stream",
     "text": [
      "\u001b[34m\u001b[1mwandb\u001b[0m:   1 of 1 files downloaded.  \n"
     ]
    },
    {
     "name": "stdout",
     "output_type": "stream",
     "text": [
      "   ⬇️ Scaricato in: /home/lorenzo/Documenti/GitHub/Computer-Science-Sapienza/Computer Vision/project/artifacts/fold1_log:v68\n",
      "   ✅ Salvato: results/YOLOv11n/train/comfy-sweep-33_ezfoyrtu_fold1_log_v68_results.csv\n",
      "   🔍 Artifact training: fold2_log:v69\n"
     ]
    },
    {
     "name": "stderr",
     "output_type": "stream",
     "text": [
      "\u001b[34m\u001b[1mwandb\u001b[0m:   1 of 1 files downloaded.  \n"
     ]
    },
    {
     "name": "stdout",
     "output_type": "stream",
     "text": [
      "   ⬇️ Scaricato in: /home/lorenzo/Documenti/GitHub/Computer-Science-Sapienza/Computer Vision/project/artifacts/fold2_log:v69\n",
      "   ✅ Salvato: results/YOLOv11n/train/comfy-sweep-33_ezfoyrtu_fold2_log_v69_results.csv\n",
      "   🔍 Artifact training: fold3_log:v69\n"
     ]
    },
    {
     "name": "stderr",
     "output_type": "stream",
     "text": [
      "\u001b[34m\u001b[1mwandb\u001b[0m:   1 of 1 files downloaded.  \n"
     ]
    },
    {
     "name": "stdout",
     "output_type": "stream",
     "text": [
      "   ⬇️ Scaricato in: /home/lorenzo/Documenti/GitHub/Computer-Science-Sapienza/Computer Vision/project/artifacts/fold3_log:v69\n",
      "   ✅ Salvato: results/YOLOv11n/train/comfy-sweep-33_ezfoyrtu_fold3_log_v69_results.csv\n",
      "   🎉 Trovati 4 file\n",
      "🔄 Analizzo run: polished-sweep-32\n",
      "   ⚙️ Config salvato: configs/polished-sweep-32_4w5kz17x_config.yaml\n",
      "   📁 Trovati 5 artifacts\n",
      "   🔍 Artifact training: fold0_log:v66\n"
     ]
    },
    {
     "name": "stderr",
     "output_type": "stream",
     "text": [
      "\u001b[34m\u001b[1mwandb\u001b[0m:   1 of 1 files downloaded.  \n"
     ]
    },
    {
     "name": "stdout",
     "output_type": "stream",
     "text": [
      "   ⬇️ Scaricato in: /home/lorenzo/Documenti/GitHub/Computer-Science-Sapienza/Computer Vision/project/artifacts/fold0_log:v66\n",
      "   ✅ Salvato: results/YOLOv11n/train/polished-sweep-32_4w5kz17x_fold0_log_v66_results.csv\n",
      "   🔍 Artifact training: fold1_log:v67\n"
     ]
    },
    {
     "name": "stderr",
     "output_type": "stream",
     "text": [
      "\u001b[34m\u001b[1mwandb\u001b[0m:   1 of 1 files downloaded.  \n"
     ]
    },
    {
     "name": "stdout",
     "output_type": "stream",
     "text": [
      "   ⬇️ Scaricato in: /home/lorenzo/Documenti/GitHub/Computer-Science-Sapienza/Computer Vision/project/artifacts/fold1_log:v67\n",
      "   ✅ Salvato: results/YOLOv11n/train/polished-sweep-32_4w5kz17x_fold1_log_v67_results.csv\n",
      "   🔍 Artifact training: fold2_log:v68\n"
     ]
    },
    {
     "name": "stderr",
     "output_type": "stream",
     "text": [
      "\u001b[34m\u001b[1mwandb\u001b[0m:   1 of 1 files downloaded.  \n"
     ]
    },
    {
     "name": "stdout",
     "output_type": "stream",
     "text": [
      "   ⬇️ Scaricato in: /home/lorenzo/Documenti/GitHub/Computer-Science-Sapienza/Computer Vision/project/artifacts/fold2_log:v68\n",
      "   ✅ Salvato: results/YOLOv11n/train/polished-sweep-32_4w5kz17x_fold2_log_v68_results.csv\n",
      "   🔍 Artifact training: fold3_log:v68\n"
     ]
    },
    {
     "name": "stderr",
     "output_type": "stream",
     "text": [
      "\u001b[34m\u001b[1mwandb\u001b[0m:   1 of 1 files downloaded.  \n"
     ]
    },
    {
     "name": "stdout",
     "output_type": "stream",
     "text": [
      "   ⬇️ Scaricato in: /home/lorenzo/Documenti/GitHub/Computer-Science-Sapienza/Computer Vision/project/artifacts/fold3_log:v68\n",
      "   ✅ Salvato: results/YOLOv11n/train/polished-sweep-32_4w5kz17x_fold3_log_v68_results.csv\n",
      "   🎉 Trovati 4 file\n",
      "🔄 Analizzo run: ancient-sweep-31\n",
      "   ⚙️ Config salvato: configs/ancient-sweep-31_sdq5kkhz_config.yaml\n",
      "   📁 Trovati 5 artifacts\n",
      "   🔍 Artifact training: fold0_log:v65\n"
     ]
    },
    {
     "name": "stderr",
     "output_type": "stream",
     "text": [
      "\u001b[34m\u001b[1mwandb\u001b[0m:   1 of 1 files downloaded.  \n"
     ]
    },
    {
     "name": "stdout",
     "output_type": "stream",
     "text": [
      "   ⬇️ Scaricato in: /home/lorenzo/Documenti/GitHub/Computer-Science-Sapienza/Computer Vision/project/artifacts/fold0_log:v65\n",
      "   ✅ Salvato: results/YOLOv11n/train/ancient-sweep-31_sdq5kkhz_fold0_log_v65_results.csv\n",
      "   🔍 Artifact training: fold1_log:v66\n"
     ]
    },
    {
     "name": "stderr",
     "output_type": "stream",
     "text": [
      "\u001b[34m\u001b[1mwandb\u001b[0m:   1 of 1 files downloaded.  \n"
     ]
    },
    {
     "name": "stdout",
     "output_type": "stream",
     "text": [
      "   ⬇️ Scaricato in: /home/lorenzo/Documenti/GitHub/Computer-Science-Sapienza/Computer Vision/project/artifacts/fold1_log:v66\n",
      "   ✅ Salvato: results/YOLOv11n/train/ancient-sweep-31_sdq5kkhz_fold1_log_v66_results.csv\n",
      "   🔍 Artifact training: fold2_log:v67\n"
     ]
    },
    {
     "name": "stderr",
     "output_type": "stream",
     "text": [
      "\u001b[34m\u001b[1mwandb\u001b[0m:   1 of 1 files downloaded.  \n"
     ]
    },
    {
     "name": "stdout",
     "output_type": "stream",
     "text": [
      "   ⬇️ Scaricato in: /home/lorenzo/Documenti/GitHub/Computer-Science-Sapienza/Computer Vision/project/artifacts/fold2_log:v67\n",
      "   ✅ Salvato: results/YOLOv11n/train/ancient-sweep-31_sdq5kkhz_fold2_log_v67_results.csv\n",
      "   🔍 Artifact training: fold3_log:v67\n"
     ]
    },
    {
     "name": "stderr",
     "output_type": "stream",
     "text": [
      "\u001b[34m\u001b[1mwandb\u001b[0m:   1 of 1 files downloaded.  \n"
     ]
    },
    {
     "name": "stdout",
     "output_type": "stream",
     "text": [
      "   ⬇️ Scaricato in: /home/lorenzo/Documenti/GitHub/Computer-Science-Sapienza/Computer Vision/project/artifacts/fold3_log:v67\n",
      "   ✅ Salvato: results/YOLOv11n/train/ancient-sweep-31_sdq5kkhz_fold3_log_v67_results.csv\n",
      "   🎉 Trovati 4 file\n",
      "🔄 Analizzo run: kind-sweep-30\n",
      "   ⚙️ Config salvato: configs/kind-sweep-30_xs3kn9c3_config.yaml\n",
      "   📁 Trovati 5 artifacts\n",
      "   🔍 Artifact training: fold0_log:v64\n"
     ]
    },
    {
     "name": "stderr",
     "output_type": "stream",
     "text": [
      "\u001b[34m\u001b[1mwandb\u001b[0m:   1 of 1 files downloaded.  \n"
     ]
    },
    {
     "name": "stdout",
     "output_type": "stream",
     "text": [
      "   ⬇️ Scaricato in: /home/lorenzo/Documenti/GitHub/Computer-Science-Sapienza/Computer Vision/project/artifacts/fold0_log:v64\n",
      "   ✅ Salvato: results/YOLOv11n/train/kind-sweep-30_xs3kn9c3_fold0_log_v64_results.csv\n",
      "   🔍 Artifact training: fold1_log:v65\n"
     ]
    },
    {
     "name": "stderr",
     "output_type": "stream",
     "text": [
      "\u001b[34m\u001b[1mwandb\u001b[0m:   1 of 1 files downloaded.  \n"
     ]
    },
    {
     "name": "stdout",
     "output_type": "stream",
     "text": [
      "   ⬇️ Scaricato in: /home/lorenzo/Documenti/GitHub/Computer-Science-Sapienza/Computer Vision/project/artifacts/fold1_log:v65\n",
      "   ✅ Salvato: results/YOLOv11n/train/kind-sweep-30_xs3kn9c3_fold1_log_v65_results.csv\n",
      "   🔍 Artifact training: fold2_log:v66\n"
     ]
    },
    {
     "name": "stderr",
     "output_type": "stream",
     "text": [
      "\u001b[34m\u001b[1mwandb\u001b[0m:   1 of 1 files downloaded.  \n"
     ]
    },
    {
     "name": "stdout",
     "output_type": "stream",
     "text": [
      "   ⬇️ Scaricato in: /home/lorenzo/Documenti/GitHub/Computer-Science-Sapienza/Computer Vision/project/artifacts/fold2_log:v66\n",
      "   ✅ Salvato: results/YOLOv11n/train/kind-sweep-30_xs3kn9c3_fold2_log_v66_results.csv\n",
      "   🔍 Artifact training: fold3_log:v66\n"
     ]
    },
    {
     "name": "stderr",
     "output_type": "stream",
     "text": [
      "\u001b[34m\u001b[1mwandb\u001b[0m:   1 of 1 files downloaded.  \n"
     ]
    },
    {
     "name": "stdout",
     "output_type": "stream",
     "text": [
      "   ⬇️ Scaricato in: /home/lorenzo/Documenti/GitHub/Computer-Science-Sapienza/Computer Vision/project/artifacts/fold3_log:v66\n",
      "   ✅ Salvato: results/YOLOv11n/train/kind-sweep-30_xs3kn9c3_fold3_log_v66_results.csv\n",
      "   🎉 Trovati 4 file\n",
      "🔄 Analizzo run: helpful-sweep-29\n",
      "   ⚙️ Config salvato: configs/helpful-sweep-29_gthlzv2w_config.yaml\n",
      "   📁 Trovati 5 artifacts\n",
      "   🔍 Artifact training: fold0_log:v63\n"
     ]
    },
    {
     "name": "stderr",
     "output_type": "stream",
     "text": [
      "\u001b[34m\u001b[1mwandb\u001b[0m:   1 of 1 files downloaded.  \n"
     ]
    },
    {
     "name": "stdout",
     "output_type": "stream",
     "text": [
      "   ⬇️ Scaricato in: /home/lorenzo/Documenti/GitHub/Computer-Science-Sapienza/Computer Vision/project/artifacts/fold0_log:v63\n",
      "   ✅ Salvato: results/YOLOv11n/train/helpful-sweep-29_gthlzv2w_fold0_log_v63_results.csv\n",
      "   🔍 Artifact training: fold1_log:v64\n"
     ]
    },
    {
     "name": "stderr",
     "output_type": "stream",
     "text": [
      "\u001b[34m\u001b[1mwandb\u001b[0m:   1 of 1 files downloaded.  \n"
     ]
    },
    {
     "name": "stdout",
     "output_type": "stream",
     "text": [
      "   ⬇️ Scaricato in: /home/lorenzo/Documenti/GitHub/Computer-Science-Sapienza/Computer Vision/project/artifacts/fold1_log:v64\n",
      "   ✅ Salvato: results/YOLOv11n/train/helpful-sweep-29_gthlzv2w_fold1_log_v64_results.csv\n",
      "   🔍 Artifact training: fold2_log:v65\n"
     ]
    },
    {
     "name": "stderr",
     "output_type": "stream",
     "text": [
      "\u001b[34m\u001b[1mwandb\u001b[0m:   1 of 1 files downloaded.  \n"
     ]
    },
    {
     "name": "stdout",
     "output_type": "stream",
     "text": [
      "   ⬇️ Scaricato in: /home/lorenzo/Documenti/GitHub/Computer-Science-Sapienza/Computer Vision/project/artifacts/fold2_log:v65\n",
      "   ✅ Salvato: results/YOLOv11n/train/helpful-sweep-29_gthlzv2w_fold2_log_v65_results.csv\n",
      "   🔍 Artifact training: fold3_log:v65\n"
     ]
    },
    {
     "name": "stderr",
     "output_type": "stream",
     "text": [
      "\u001b[34m\u001b[1mwandb\u001b[0m:   1 of 1 files downloaded.  \n"
     ]
    },
    {
     "name": "stdout",
     "output_type": "stream",
     "text": [
      "   ⬇️ Scaricato in: /home/lorenzo/Documenti/GitHub/Computer-Science-Sapienza/Computer Vision/project/artifacts/fold3_log:v65\n",
      "   ✅ Salvato: results/YOLOv11n/train/helpful-sweep-29_gthlzv2w_fold3_log_v65_results.csv\n",
      "   🎉 Trovati 4 file\n",
      "🔄 Analizzo run: laced-sweep-28\n",
      "   ⚙️ Config salvato: configs/laced-sweep-28_2l7f8g92_config.yaml\n",
      "   📁 Trovati 5 artifacts\n",
      "   🔍 Artifact training: fold0_log:v62\n"
     ]
    },
    {
     "name": "stderr",
     "output_type": "stream",
     "text": [
      "\u001b[34m\u001b[1mwandb\u001b[0m:   1 of 1 files downloaded.  \n"
     ]
    },
    {
     "name": "stdout",
     "output_type": "stream",
     "text": [
      "   ⬇️ Scaricato in: /home/lorenzo/Documenti/GitHub/Computer-Science-Sapienza/Computer Vision/project/artifacts/fold0_log:v62\n",
      "   ✅ Salvato: results/YOLOv11n/train/laced-sweep-28_2l7f8g92_fold0_log_v62_results.csv\n",
      "   🔍 Artifact training: fold1_log:v63\n"
     ]
    },
    {
     "name": "stderr",
     "output_type": "stream",
     "text": [
      "\u001b[34m\u001b[1mwandb\u001b[0m:   1 of 1 files downloaded.  \n"
     ]
    },
    {
     "name": "stdout",
     "output_type": "stream",
     "text": [
      "   ⬇️ Scaricato in: /home/lorenzo/Documenti/GitHub/Computer-Science-Sapienza/Computer Vision/project/artifacts/fold1_log:v63\n",
      "   ✅ Salvato: results/YOLOv11n/train/laced-sweep-28_2l7f8g92_fold1_log_v63_results.csv\n",
      "   🔍 Artifact training: fold2_log:v64\n"
     ]
    },
    {
     "name": "stderr",
     "output_type": "stream",
     "text": [
      "\u001b[34m\u001b[1mwandb\u001b[0m:   1 of 1 files downloaded.  \n"
     ]
    },
    {
     "name": "stdout",
     "output_type": "stream",
     "text": [
      "   ⬇️ Scaricato in: /home/lorenzo/Documenti/GitHub/Computer-Science-Sapienza/Computer Vision/project/artifacts/fold2_log:v64\n",
      "   ✅ Salvato: results/YOLOv11n/train/laced-sweep-28_2l7f8g92_fold2_log_v64_results.csv\n",
      "   🔍 Artifact training: fold3_log:v64\n"
     ]
    },
    {
     "name": "stderr",
     "output_type": "stream",
     "text": [
      "\u001b[34m\u001b[1mwandb\u001b[0m:   1 of 1 files downloaded.  \n"
     ]
    },
    {
     "name": "stdout",
     "output_type": "stream",
     "text": [
      "   ⬇️ Scaricato in: /home/lorenzo/Documenti/GitHub/Computer-Science-Sapienza/Computer Vision/project/artifacts/fold3_log:v64\n",
      "   ✅ Salvato: results/YOLOv11n/train/laced-sweep-28_2l7f8g92_fold3_log_v64_results.csv\n",
      "   🎉 Trovati 4 file\n",
      "🔄 Analizzo run: devout-sweep-27\n",
      "   ⚙️ Config salvato: configs/devout-sweep-27_j01f9fi4_config.yaml\n",
      "   📁 Trovati 5 artifacts\n",
      "   🔍 Artifact training: fold0_log:v61\n"
     ]
    },
    {
     "name": "stderr",
     "output_type": "stream",
     "text": [
      "\u001b[34m\u001b[1mwandb\u001b[0m:   1 of 1 files downloaded.  \n"
     ]
    },
    {
     "name": "stdout",
     "output_type": "stream",
     "text": [
      "   ⬇️ Scaricato in: /home/lorenzo/Documenti/GitHub/Computer-Science-Sapienza/Computer Vision/project/artifacts/fold0_log:v61\n",
      "   ✅ Salvato: results/YOLOv11n/train/devout-sweep-27_j01f9fi4_fold0_log_v61_results.csv\n",
      "   🔍 Artifact training: fold1_log:v62\n"
     ]
    },
    {
     "name": "stderr",
     "output_type": "stream",
     "text": [
      "\u001b[34m\u001b[1mwandb\u001b[0m:   1 of 1 files downloaded.  \n"
     ]
    },
    {
     "name": "stdout",
     "output_type": "stream",
     "text": [
      "   ⬇️ Scaricato in: /home/lorenzo/Documenti/GitHub/Computer-Science-Sapienza/Computer Vision/project/artifacts/fold1_log:v62\n",
      "   ✅ Salvato: results/YOLOv11n/train/devout-sweep-27_j01f9fi4_fold1_log_v62_results.csv\n",
      "   🔍 Artifact training: fold2_log:v63\n"
     ]
    },
    {
     "name": "stderr",
     "output_type": "stream",
     "text": [
      "\u001b[34m\u001b[1mwandb\u001b[0m:   1 of 1 files downloaded.  \n"
     ]
    },
    {
     "name": "stdout",
     "output_type": "stream",
     "text": [
      "   ⬇️ Scaricato in: /home/lorenzo/Documenti/GitHub/Computer-Science-Sapienza/Computer Vision/project/artifacts/fold2_log:v63\n",
      "   ✅ Salvato: results/YOLOv11n/train/devout-sweep-27_j01f9fi4_fold2_log_v63_results.csv\n",
      "   🔍 Artifact training: fold3_log:v63\n"
     ]
    },
    {
     "name": "stderr",
     "output_type": "stream",
     "text": [
      "\u001b[34m\u001b[1mwandb\u001b[0m:   1 of 1 files downloaded.  \n"
     ]
    },
    {
     "name": "stdout",
     "output_type": "stream",
     "text": [
      "   ⬇️ Scaricato in: /home/lorenzo/Documenti/GitHub/Computer-Science-Sapienza/Computer Vision/project/artifacts/fold3_log:v63\n",
      "   ✅ Salvato: results/YOLOv11n/train/devout-sweep-27_j01f9fi4_fold3_log_v63_results.csv\n",
      "   🎉 Trovati 4 file\n",
      "🔄 Analizzo run: usual-sweep-25\n",
      "   ⚙️ Config salvato: configs/usual-sweep-25_0yfr11kj_config.yaml\n",
      "   📁 Trovati 5 artifacts\n",
      "   🔍 Artifact training: fold0_log:v60\n"
     ]
    },
    {
     "name": "stderr",
     "output_type": "stream",
     "text": [
      "\u001b[34m\u001b[1mwandb\u001b[0m:   1 of 1 files downloaded.  \n"
     ]
    },
    {
     "name": "stdout",
     "output_type": "stream",
     "text": [
      "   ⬇️ Scaricato in: /home/lorenzo/Documenti/GitHub/Computer-Science-Sapienza/Computer Vision/project/artifacts/fold0_log:v60\n",
      "   ✅ Salvato: results/YOLOv11n/train/usual-sweep-25_0yfr11kj_fold0_log_v60_results.csv\n",
      "   🔍 Artifact training: fold1_log:v60\n"
     ]
    },
    {
     "name": "stderr",
     "output_type": "stream",
     "text": [
      "\u001b[34m\u001b[1mwandb\u001b[0m:   1 of 1 files downloaded.  \n"
     ]
    },
    {
     "name": "stdout",
     "output_type": "stream",
     "text": [
      "   ⬇️ Scaricato in: /home/lorenzo/Documenti/GitHub/Computer-Science-Sapienza/Computer Vision/project/artifacts/fold1_log:v60\n",
      "   ✅ Salvato: results/YOLOv11n/train/usual-sweep-25_0yfr11kj_fold1_log_v60_results.csv\n",
      "   🔍 Artifact training: fold2_log:v61\n"
     ]
    },
    {
     "name": "stderr",
     "output_type": "stream",
     "text": [
      "\u001b[34m\u001b[1mwandb\u001b[0m:   1 of 1 files downloaded.  \n"
     ]
    },
    {
     "name": "stdout",
     "output_type": "stream",
     "text": [
      "   ⬇️ Scaricato in: /home/lorenzo/Documenti/GitHub/Computer-Science-Sapienza/Computer Vision/project/artifacts/fold2_log:v61\n",
      "   ✅ Salvato: results/YOLOv11n/train/usual-sweep-25_0yfr11kj_fold2_log_v61_results.csv\n",
      "   🔍 Artifact training: fold3_log:v61\n"
     ]
    },
    {
     "name": "stderr",
     "output_type": "stream",
     "text": [
      "\u001b[34m\u001b[1mwandb\u001b[0m:   1 of 1 files downloaded.  \n"
     ]
    },
    {
     "name": "stdout",
     "output_type": "stream",
     "text": [
      "   ⬇️ Scaricato in: /home/lorenzo/Documenti/GitHub/Computer-Science-Sapienza/Computer Vision/project/artifacts/fold3_log:v61\n",
      "   ✅ Salvato: results/YOLOv11n/train/usual-sweep-25_0yfr11kj_fold3_log_v61_results.csv\n",
      "   🎉 Trovati 4 file\n",
      "🔄 Analizzo run: blooming-sweep-24\n",
      "   ⚙️ Config salvato: configs/blooming-sweep-24_aeiss6pz_config.yaml\n",
      "   📁 Trovati 5 artifacts\n",
      "   🔍 Artifact training: fold0_log:v59\n"
     ]
    },
    {
     "name": "stderr",
     "output_type": "stream",
     "text": [
      "\u001b[34m\u001b[1mwandb\u001b[0m:   1 of 1 files downloaded.  \n"
     ]
    },
    {
     "name": "stdout",
     "output_type": "stream",
     "text": [
      "   ⬇️ Scaricato in: /home/lorenzo/Documenti/GitHub/Computer-Science-Sapienza/Computer Vision/project/artifacts/fold0_log:v59\n",
      "   ✅ Salvato: results/YOLOv11n/train/blooming-sweep-24_aeiss6pz_fold0_log_v59_results.csv\n",
      "   🔍 Artifact training: fold1_log:v59\n"
     ]
    },
    {
     "name": "stderr",
     "output_type": "stream",
     "text": [
      "\u001b[34m\u001b[1mwandb\u001b[0m:   1 of 1 files downloaded.  \n"
     ]
    },
    {
     "name": "stdout",
     "output_type": "stream",
     "text": [
      "   ⬇️ Scaricato in: /home/lorenzo/Documenti/GitHub/Computer-Science-Sapienza/Computer Vision/project/artifacts/fold1_log:v59\n",
      "   ✅ Salvato: results/YOLOv11n/train/blooming-sweep-24_aeiss6pz_fold1_log_v59_results.csv\n",
      "   🔍 Artifact training: fold2_log:v60\n"
     ]
    },
    {
     "name": "stderr",
     "output_type": "stream",
     "text": [
      "\u001b[34m\u001b[1mwandb\u001b[0m:   1 of 1 files downloaded.  \n"
     ]
    },
    {
     "name": "stdout",
     "output_type": "stream",
     "text": [
      "   ⬇️ Scaricato in: /home/lorenzo/Documenti/GitHub/Computer-Science-Sapienza/Computer Vision/project/artifacts/fold2_log:v60\n",
      "   ✅ Salvato: results/YOLOv11n/train/blooming-sweep-24_aeiss6pz_fold2_log_v60_results.csv\n",
      "   🔍 Artifact training: fold3_log:v60\n"
     ]
    },
    {
     "name": "stderr",
     "output_type": "stream",
     "text": [
      "\u001b[34m\u001b[1mwandb\u001b[0m:   1 of 1 files downloaded.  \n"
     ]
    },
    {
     "name": "stdout",
     "output_type": "stream",
     "text": [
      "   ⬇️ Scaricato in: /home/lorenzo/Documenti/GitHub/Computer-Science-Sapienza/Computer Vision/project/artifacts/fold3_log:v60\n",
      "   ✅ Salvato: results/YOLOv11n/train/blooming-sweep-24_aeiss6pz_fold3_log_v60_results.csv\n",
      "   🎉 Trovati 4 file\n",
      "🔄 Analizzo run: azure-sweep-23\n",
      "   ⚙️ Config salvato: configs/azure-sweep-23_yoeo8so6_config.yaml\n",
      "   📁 Trovati 5 artifacts\n",
      "   🔍 Artifact training: fold0_log:v58\n"
     ]
    },
    {
     "name": "stderr",
     "output_type": "stream",
     "text": [
      "\u001b[34m\u001b[1mwandb\u001b[0m:   1 of 1 files downloaded.  \n"
     ]
    },
    {
     "name": "stdout",
     "output_type": "stream",
     "text": [
      "   ⬇️ Scaricato in: /home/lorenzo/Documenti/GitHub/Computer-Science-Sapienza/Computer Vision/project/artifacts/fold0_log:v58\n",
      "   ✅ Salvato: results/YOLOv11n/train/azure-sweep-23_yoeo8so6_fold0_log_v58_results.csv\n",
      "   🔍 Artifact training: fold1_log:v58\n"
     ]
    },
    {
     "name": "stderr",
     "output_type": "stream",
     "text": [
      "\u001b[34m\u001b[1mwandb\u001b[0m:   1 of 1 files downloaded.  \n"
     ]
    },
    {
     "name": "stdout",
     "output_type": "stream",
     "text": [
      "   ⬇️ Scaricato in: /home/lorenzo/Documenti/GitHub/Computer-Science-Sapienza/Computer Vision/project/artifacts/fold1_log:v58\n",
      "   ✅ Salvato: results/YOLOv11n/train/azure-sweep-23_yoeo8so6_fold1_log_v58_results.csv\n",
      "   🔍 Artifact training: fold2_log:v59\n"
     ]
    },
    {
     "name": "stderr",
     "output_type": "stream",
     "text": [
      "\u001b[34m\u001b[1mwandb\u001b[0m:   1 of 1 files downloaded.  \n"
     ]
    },
    {
     "name": "stdout",
     "output_type": "stream",
     "text": [
      "   ⬇️ Scaricato in: /home/lorenzo/Documenti/GitHub/Computer-Science-Sapienza/Computer Vision/project/artifacts/fold2_log:v59\n",
      "   ✅ Salvato: results/YOLOv11n/train/azure-sweep-23_yoeo8so6_fold2_log_v59_results.csv\n",
      "   🔍 Artifact training: fold3_log:v59\n"
     ]
    },
    {
     "name": "stderr",
     "output_type": "stream",
     "text": [
      "\u001b[34m\u001b[1mwandb\u001b[0m:   1 of 1 files downloaded.  \n"
     ]
    },
    {
     "name": "stdout",
     "output_type": "stream",
     "text": [
      "   ⬇️ Scaricato in: /home/lorenzo/Documenti/GitHub/Computer-Science-Sapienza/Computer Vision/project/artifacts/fold3_log:v59\n",
      "   ✅ Salvato: results/YOLOv11n/train/azure-sweep-23_yoeo8so6_fold3_log_v59_results.csv\n",
      "   🎉 Trovati 4 file\n",
      "🔄 Analizzo run: comfy-sweep-22\n",
      "   ⚙️ Config salvato: configs/comfy-sweep-22_4rltbg2s_config.yaml\n",
      "   📁 Trovati 5 artifacts\n",
      "   🔍 Artifact training: fold0_log:v57\n"
     ]
    },
    {
     "name": "stderr",
     "output_type": "stream",
     "text": [
      "\u001b[34m\u001b[1mwandb\u001b[0m:   1 of 1 files downloaded.  \n"
     ]
    },
    {
     "name": "stdout",
     "output_type": "stream",
     "text": [
      "   ⬇️ Scaricato in: /home/lorenzo/Documenti/GitHub/Computer-Science-Sapienza/Computer Vision/project/artifacts/fold0_log:v57\n",
      "   ✅ Salvato: results/YOLOv11n/train/comfy-sweep-22_4rltbg2s_fold0_log_v57_results.csv\n",
      "   🔍 Artifact training: fold1_log:v57\n"
     ]
    },
    {
     "name": "stderr",
     "output_type": "stream",
     "text": [
      "\u001b[34m\u001b[1mwandb\u001b[0m:   1 of 1 files downloaded.  \n"
     ]
    },
    {
     "name": "stdout",
     "output_type": "stream",
     "text": [
      "   ⬇️ Scaricato in: /home/lorenzo/Documenti/GitHub/Computer-Science-Sapienza/Computer Vision/project/artifacts/fold1_log:v57\n",
      "   ✅ Salvato: results/YOLOv11n/train/comfy-sweep-22_4rltbg2s_fold1_log_v57_results.csv\n",
      "   🔍 Artifact training: fold2_log:v58\n"
     ]
    },
    {
     "name": "stderr",
     "output_type": "stream",
     "text": [
      "\u001b[34m\u001b[1mwandb\u001b[0m:   1 of 1 files downloaded.  \n"
     ]
    },
    {
     "name": "stdout",
     "output_type": "stream",
     "text": [
      "   ⬇️ Scaricato in: /home/lorenzo/Documenti/GitHub/Computer-Science-Sapienza/Computer Vision/project/artifacts/fold2_log:v58\n",
      "   ✅ Salvato: results/YOLOv11n/train/comfy-sweep-22_4rltbg2s_fold2_log_v58_results.csv\n",
      "   🔍 Artifact training: fold3_log:v58\n"
     ]
    },
    {
     "name": "stderr",
     "output_type": "stream",
     "text": [
      "\u001b[34m\u001b[1mwandb\u001b[0m:   1 of 1 files downloaded.  \n"
     ]
    },
    {
     "name": "stdout",
     "output_type": "stream",
     "text": [
      "   ⬇️ Scaricato in: /home/lorenzo/Documenti/GitHub/Computer-Science-Sapienza/Computer Vision/project/artifacts/fold3_log:v58\n",
      "   ✅ Salvato: results/YOLOv11n/train/comfy-sweep-22_4rltbg2s_fold3_log_v58_results.csv\n",
      "   🎉 Trovati 4 file\n",
      "🔄 Analizzo run: wobbly-sweep-21\n",
      "   ⚙️ Config salvato: configs/wobbly-sweep-21_i1wtc8cv_config.yaml\n",
      "   📁 Trovati 5 artifacts\n",
      "   🔍 Artifact training: fold0_log:v56\n"
     ]
    },
    {
     "name": "stderr",
     "output_type": "stream",
     "text": [
      "\u001b[34m\u001b[1mwandb\u001b[0m:   1 of 1 files downloaded.  \n"
     ]
    },
    {
     "name": "stdout",
     "output_type": "stream",
     "text": [
      "   ⬇️ Scaricato in: /home/lorenzo/Documenti/GitHub/Computer-Science-Sapienza/Computer Vision/project/artifacts/fold0_log:v56\n",
      "   ✅ Salvato: results/YOLOv11n/train/wobbly-sweep-21_i1wtc8cv_fold0_log_v56_results.csv\n",
      "   🔍 Artifact training: fold1_log:v56\n"
     ]
    },
    {
     "name": "stderr",
     "output_type": "stream",
     "text": [
      "\u001b[34m\u001b[1mwandb\u001b[0m:   1 of 1 files downloaded.  \n"
     ]
    },
    {
     "name": "stdout",
     "output_type": "stream",
     "text": [
      "   ⬇️ Scaricato in: /home/lorenzo/Documenti/GitHub/Computer-Science-Sapienza/Computer Vision/project/artifacts/fold1_log:v56\n",
      "   ✅ Salvato: results/YOLOv11n/train/wobbly-sweep-21_i1wtc8cv_fold1_log_v56_results.csv\n",
      "   🔍 Artifact training: fold2_log:v57\n"
     ]
    },
    {
     "name": "stderr",
     "output_type": "stream",
     "text": [
      "\u001b[34m\u001b[1mwandb\u001b[0m:   1 of 1 files downloaded.  \n"
     ]
    },
    {
     "name": "stdout",
     "output_type": "stream",
     "text": [
      "   ⬇️ Scaricato in: /home/lorenzo/Documenti/GitHub/Computer-Science-Sapienza/Computer Vision/project/artifacts/fold2_log:v57\n",
      "   ✅ Salvato: results/YOLOv11n/train/wobbly-sweep-21_i1wtc8cv_fold2_log_v57_results.csv\n",
      "   🔍 Artifact training: fold3_log:v57\n"
     ]
    },
    {
     "name": "stderr",
     "output_type": "stream",
     "text": [
      "\u001b[34m\u001b[1mwandb\u001b[0m:   1 of 1 files downloaded.  \n"
     ]
    },
    {
     "name": "stdout",
     "output_type": "stream",
     "text": [
      "   ⬇️ Scaricato in: /home/lorenzo/Documenti/GitHub/Computer-Science-Sapienza/Computer Vision/project/artifacts/fold3_log:v57\n",
      "   ✅ Salvato: results/YOLOv11n/train/wobbly-sweep-21_i1wtc8cv_fold3_log_v57_results.csv\n",
      "   🎉 Trovati 4 file\n",
      "🔄 Analizzo run: winter-sweep-20\n",
      "   ⚙️ Config salvato: configs/winter-sweep-20_zq5mbpu3_config.yaml\n",
      "   📁 Trovati 5 artifacts\n",
      "   🔍 Artifact training: fold0_log:v55\n"
     ]
    },
    {
     "name": "stderr",
     "output_type": "stream",
     "text": [
      "\u001b[34m\u001b[1mwandb\u001b[0m:   1 of 1 files downloaded.  \n"
     ]
    },
    {
     "name": "stdout",
     "output_type": "stream",
     "text": [
      "   ⬇️ Scaricato in: /home/lorenzo/Documenti/GitHub/Computer-Science-Sapienza/Computer Vision/project/artifacts/fold0_log:v55\n",
      "   ✅ Salvato: results/YOLOv11n/train/winter-sweep-20_zq5mbpu3_fold0_log_v55_results.csv\n",
      "   🔍 Artifact training: fold1_log:v55\n"
     ]
    },
    {
     "name": "stderr",
     "output_type": "stream",
     "text": [
      "\u001b[34m\u001b[1mwandb\u001b[0m:   1 of 1 files downloaded.  \n"
     ]
    },
    {
     "name": "stdout",
     "output_type": "stream",
     "text": [
      "   ⬇️ Scaricato in: /home/lorenzo/Documenti/GitHub/Computer-Science-Sapienza/Computer Vision/project/artifacts/fold1_log:v55\n",
      "   ✅ Salvato: results/YOLOv11n/train/winter-sweep-20_zq5mbpu3_fold1_log_v55_results.csv\n",
      "   🔍 Artifact training: fold2_log:v56\n"
     ]
    },
    {
     "name": "stderr",
     "output_type": "stream",
     "text": [
      "\u001b[34m\u001b[1mwandb\u001b[0m:   1 of 1 files downloaded.  \n"
     ]
    },
    {
     "name": "stdout",
     "output_type": "stream",
     "text": [
      "   ⬇️ Scaricato in: /home/lorenzo/Documenti/GitHub/Computer-Science-Sapienza/Computer Vision/project/artifacts/fold2_log:v56\n",
      "   ✅ Salvato: results/YOLOv11n/train/winter-sweep-20_zq5mbpu3_fold2_log_v56_results.csv\n",
      "   🔍 Artifact training: fold3_log:v56\n"
     ]
    },
    {
     "name": "stderr",
     "output_type": "stream",
     "text": [
      "\u001b[34m\u001b[1mwandb\u001b[0m:   1 of 1 files downloaded.  \n"
     ]
    },
    {
     "name": "stdout",
     "output_type": "stream",
     "text": [
      "   ⬇️ Scaricato in: /home/lorenzo/Documenti/GitHub/Computer-Science-Sapienza/Computer Vision/project/artifacts/fold3_log:v56\n",
      "   ✅ Salvato: results/YOLOv11n/train/winter-sweep-20_zq5mbpu3_fold3_log_v56_results.csv\n",
      "   🎉 Trovati 4 file\n",
      "🔄 Analizzo run: youthful-sweep-19\n",
      "   ⚙️ Config salvato: configs/youthful-sweep-19_e1k863x5_config.yaml\n",
      "   📁 Trovati 5 artifacts\n",
      "   🔍 Artifact training: fold0_log:v54\n"
     ]
    },
    {
     "name": "stderr",
     "output_type": "stream",
     "text": [
      "\u001b[34m\u001b[1mwandb\u001b[0m:   1 of 1 files downloaded.  \n"
     ]
    },
    {
     "name": "stdout",
     "output_type": "stream",
     "text": [
      "   ⬇️ Scaricato in: /home/lorenzo/Documenti/GitHub/Computer-Science-Sapienza/Computer Vision/project/artifacts/fold0_log:v54\n",
      "   ✅ Salvato: results/YOLOv11n/train/youthful-sweep-19_e1k863x5_fold0_log_v54_results.csv\n",
      "   🔍 Artifact training: fold1_log:v54\n"
     ]
    },
    {
     "name": "stderr",
     "output_type": "stream",
     "text": [
      "\u001b[34m\u001b[1mwandb\u001b[0m:   1 of 1 files downloaded.  \n"
     ]
    },
    {
     "name": "stdout",
     "output_type": "stream",
     "text": [
      "   ⬇️ Scaricato in: /home/lorenzo/Documenti/GitHub/Computer-Science-Sapienza/Computer Vision/project/artifacts/fold1_log:v54\n",
      "   ✅ Salvato: results/YOLOv11n/train/youthful-sweep-19_e1k863x5_fold1_log_v54_results.csv\n",
      "   🔍 Artifact training: fold3_log:v55\n"
     ]
    },
    {
     "name": "stderr",
     "output_type": "stream",
     "text": [
      "\u001b[34m\u001b[1mwandb\u001b[0m:   1 of 1 files downloaded.  \n"
     ]
    },
    {
     "name": "stdout",
     "output_type": "stream",
     "text": [
      "   ⬇️ Scaricato in: /home/lorenzo/Documenti/GitHub/Computer-Science-Sapienza/Computer Vision/project/artifacts/fold3_log:v55\n",
      "   ✅ Salvato: results/YOLOv11n/train/youthful-sweep-19_e1k863x5_fold3_log_v55_results.csv\n",
      "   🔍 Artifact training: fold2_log:v55\n"
     ]
    },
    {
     "name": "stderr",
     "output_type": "stream",
     "text": [
      "\u001b[34m\u001b[1mwandb\u001b[0m:   1 of 1 files downloaded.  \n"
     ]
    },
    {
     "name": "stdout",
     "output_type": "stream",
     "text": [
      "   ⬇️ Scaricato in: /home/lorenzo/Documenti/GitHub/Computer-Science-Sapienza/Computer Vision/project/artifacts/fold2_log:v55\n",
      "   ✅ Salvato: results/YOLOv11n/train/youthful-sweep-19_e1k863x5_fold2_log_v55_results.csv\n",
      "   🎉 Trovati 4 file\n",
      "🔄 Analizzo run: lyric-sweep-18\n",
      "   ⚙️ Config salvato: configs/lyric-sweep-18_22h058jg_config.yaml\n",
      "   📁 Trovati 5 artifacts\n",
      "   🔍 Artifact training: fold0_log:v53\n"
     ]
    },
    {
     "name": "stderr",
     "output_type": "stream",
     "text": [
      "\u001b[34m\u001b[1mwandb\u001b[0m:   1 of 1 files downloaded.  \n"
     ]
    },
    {
     "name": "stdout",
     "output_type": "stream",
     "text": [
      "   ⬇️ Scaricato in: /home/lorenzo/Documenti/GitHub/Computer-Science-Sapienza/Computer Vision/project/artifacts/fold0_log:v53\n",
      "   ✅ Salvato: results/YOLOv11n/train/lyric-sweep-18_22h058jg_fold0_log_v53_results.csv\n",
      "   🔍 Artifact training: fold1_log:v53\n"
     ]
    },
    {
     "name": "stderr",
     "output_type": "stream",
     "text": [
      "\u001b[34m\u001b[1mwandb\u001b[0m:   1 of 1 files downloaded.  \n"
     ]
    },
    {
     "name": "stdout",
     "output_type": "stream",
     "text": [
      "   ⬇️ Scaricato in: /home/lorenzo/Documenti/GitHub/Computer-Science-Sapienza/Computer Vision/project/artifacts/fold1_log:v53\n",
      "   ✅ Salvato: results/YOLOv11n/train/lyric-sweep-18_22h058jg_fold1_log_v53_results.csv\n",
      "   🔍 Artifact training: fold2_log:v54\n"
     ]
    },
    {
     "name": "stderr",
     "output_type": "stream",
     "text": [
      "\u001b[34m\u001b[1mwandb\u001b[0m:   1 of 1 files downloaded.  \n"
     ]
    },
    {
     "name": "stdout",
     "output_type": "stream",
     "text": [
      "   ⬇️ Scaricato in: /home/lorenzo/Documenti/GitHub/Computer-Science-Sapienza/Computer Vision/project/artifacts/fold2_log:v54\n",
      "   ✅ Salvato: results/YOLOv11n/train/lyric-sweep-18_22h058jg_fold2_log_v54_results.csv\n",
      "   🔍 Artifact training: fold3_log:v54\n"
     ]
    },
    {
     "name": "stderr",
     "output_type": "stream",
     "text": [
      "\u001b[34m\u001b[1mwandb\u001b[0m:   1 of 1 files downloaded.  \n"
     ]
    },
    {
     "name": "stdout",
     "output_type": "stream",
     "text": [
      "   ⬇️ Scaricato in: /home/lorenzo/Documenti/GitHub/Computer-Science-Sapienza/Computer Vision/project/artifacts/fold3_log:v54\n",
      "   ✅ Salvato: results/YOLOv11n/train/lyric-sweep-18_22h058jg_fold3_log_v54_results.csv\n",
      "   🎉 Trovati 4 file\n",
      "🔄 Analizzo run: prime-sweep-17\n",
      "   ⚙️ Config salvato: configs/prime-sweep-17_bxu1wdml_config.yaml\n",
      "   📁 Trovati 5 artifacts\n",
      "   🔍 Artifact training: fold0_log:v52\n"
     ]
    },
    {
     "name": "stderr",
     "output_type": "stream",
     "text": [
      "\u001b[34m\u001b[1mwandb\u001b[0m:   1 of 1 files downloaded.  \n"
     ]
    },
    {
     "name": "stdout",
     "output_type": "stream",
     "text": [
      "   ⬇️ Scaricato in: /home/lorenzo/Documenti/GitHub/Computer-Science-Sapienza/Computer Vision/project/artifacts/fold0_log:v52\n",
      "   ✅ Salvato: results/YOLOv11n/train/prime-sweep-17_bxu1wdml_fold0_log_v52_results.csv\n",
      "   🔍 Artifact training: fold1_log:v52\n"
     ]
    },
    {
     "name": "stderr",
     "output_type": "stream",
     "text": [
      "\u001b[34m\u001b[1mwandb\u001b[0m:   1 of 1 files downloaded.  \n"
     ]
    },
    {
     "name": "stdout",
     "output_type": "stream",
     "text": [
      "   ⬇️ Scaricato in: /home/lorenzo/Documenti/GitHub/Computer-Science-Sapienza/Computer Vision/project/artifacts/fold1_log:v52\n",
      "   ✅ Salvato: results/YOLOv11n/train/prime-sweep-17_bxu1wdml_fold1_log_v52_results.csv\n",
      "   🔍 Artifact training: fold2_log:v53\n"
     ]
    },
    {
     "name": "stderr",
     "output_type": "stream",
     "text": [
      "\u001b[34m\u001b[1mwandb\u001b[0m:   1 of 1 files downloaded.  \n"
     ]
    },
    {
     "name": "stdout",
     "output_type": "stream",
     "text": [
      "   ⬇️ Scaricato in: /home/lorenzo/Documenti/GitHub/Computer-Science-Sapienza/Computer Vision/project/artifacts/fold2_log:v53\n",
      "   ✅ Salvato: results/YOLOv11n/train/prime-sweep-17_bxu1wdml_fold2_log_v53_results.csv\n",
      "   🔍 Artifact training: fold3_log:v53\n"
     ]
    },
    {
     "name": "stderr",
     "output_type": "stream",
     "text": [
      "\u001b[34m\u001b[1mwandb\u001b[0m:   1 of 1 files downloaded.  \n"
     ]
    },
    {
     "name": "stdout",
     "output_type": "stream",
     "text": [
      "   ⬇️ Scaricato in: /home/lorenzo/Documenti/GitHub/Computer-Science-Sapienza/Computer Vision/project/artifacts/fold3_log:v53\n",
      "   ✅ Salvato: results/YOLOv11n/train/prime-sweep-17_bxu1wdml_fold3_log_v53_results.csv\n",
      "   🎉 Trovati 4 file\n",
      "🔄 Analizzo run: usual-sweep-16\n",
      "   ⚙️ Config salvato: configs/usual-sweep-16_req7apnb_config.yaml\n",
      "   📁 Trovati 5 artifacts\n",
      "   🔍 Artifact training: fold0_log:v51\n"
     ]
    },
    {
     "name": "stderr",
     "output_type": "stream",
     "text": [
      "\u001b[34m\u001b[1mwandb\u001b[0m:   1 of 1 files downloaded.  \n"
     ]
    },
    {
     "name": "stdout",
     "output_type": "stream",
     "text": [
      "   ⬇️ Scaricato in: /home/lorenzo/Documenti/GitHub/Computer-Science-Sapienza/Computer Vision/project/artifacts/fold0_log:v51\n",
      "   ✅ Salvato: results/YOLOv11n/train/usual-sweep-16_req7apnb_fold0_log_v51_results.csv\n",
      "   🔍 Artifact training: fold1_log:v51\n"
     ]
    },
    {
     "name": "stderr",
     "output_type": "stream",
     "text": [
      "\u001b[34m\u001b[1mwandb\u001b[0m:   1 of 1 files downloaded.  \n"
     ]
    },
    {
     "name": "stdout",
     "output_type": "stream",
     "text": [
      "   ⬇️ Scaricato in: /home/lorenzo/Documenti/GitHub/Computer-Science-Sapienza/Computer Vision/project/artifacts/fold1_log:v51\n",
      "   ✅ Salvato: results/YOLOv11n/train/usual-sweep-16_req7apnb_fold1_log_v51_results.csv\n",
      "   🔍 Artifact training: fold2_log:v52\n"
     ]
    },
    {
     "name": "stderr",
     "output_type": "stream",
     "text": [
      "\u001b[34m\u001b[1mwandb\u001b[0m:   1 of 1 files downloaded.  \n"
     ]
    },
    {
     "name": "stdout",
     "output_type": "stream",
     "text": [
      "   ⬇️ Scaricato in: /home/lorenzo/Documenti/GitHub/Computer-Science-Sapienza/Computer Vision/project/artifacts/fold2_log:v52\n",
      "   ✅ Salvato: results/YOLOv11n/train/usual-sweep-16_req7apnb_fold2_log_v52_results.csv\n",
      "   🔍 Artifact training: fold3_log:v52\n"
     ]
    },
    {
     "name": "stderr",
     "output_type": "stream",
     "text": [
      "\u001b[34m\u001b[1mwandb\u001b[0m:   1 of 1 files downloaded.  \n"
     ]
    },
    {
     "name": "stdout",
     "output_type": "stream",
     "text": [
      "   ⬇️ Scaricato in: /home/lorenzo/Documenti/GitHub/Computer-Science-Sapienza/Computer Vision/project/artifacts/fold3_log:v52\n",
      "   ✅ Salvato: results/YOLOv11n/train/usual-sweep-16_req7apnb_fold3_log_v52_results.csv\n",
      "   🎉 Trovati 4 file\n",
      "🔄 Analizzo run: golden-sweep-15\n",
      "   ⚙️ Config salvato: configs/golden-sweep-15_pcsixsqm_config.yaml\n",
      "   📁 Trovati 5 artifacts\n",
      "   🔍 Artifact training: fold0_log:v50\n"
     ]
    },
    {
     "name": "stderr",
     "output_type": "stream",
     "text": [
      "\u001b[34m\u001b[1mwandb\u001b[0m:   1 of 1 files downloaded.  \n"
     ]
    },
    {
     "name": "stdout",
     "output_type": "stream",
     "text": [
      "   ⬇️ Scaricato in: /home/lorenzo/Documenti/GitHub/Computer-Science-Sapienza/Computer Vision/project/artifacts/fold0_log:v50\n",
      "   ✅ Salvato: results/YOLOv11n/train/golden-sweep-15_pcsixsqm_fold0_log_v50_results.csv\n",
      "   🔍 Artifact training: fold1_log:v50\n"
     ]
    },
    {
     "name": "stderr",
     "output_type": "stream",
     "text": [
      "\u001b[34m\u001b[1mwandb\u001b[0m:   1 of 1 files downloaded.  \n"
     ]
    },
    {
     "name": "stdout",
     "output_type": "stream",
     "text": [
      "   ⬇️ Scaricato in: /home/lorenzo/Documenti/GitHub/Computer-Science-Sapienza/Computer Vision/project/artifacts/fold1_log:v50\n",
      "   ✅ Salvato: results/YOLOv11n/train/golden-sweep-15_pcsixsqm_fold1_log_v50_results.csv\n",
      "   🔍 Artifact training: fold2_log:v51\n"
     ]
    },
    {
     "name": "stderr",
     "output_type": "stream",
     "text": [
      "\u001b[34m\u001b[1mwandb\u001b[0m:   1 of 1 files downloaded.  \n"
     ]
    },
    {
     "name": "stdout",
     "output_type": "stream",
     "text": [
      "   ⬇️ Scaricato in: /home/lorenzo/Documenti/GitHub/Computer-Science-Sapienza/Computer Vision/project/artifacts/fold2_log:v51\n",
      "   ✅ Salvato: results/YOLOv11n/train/golden-sweep-15_pcsixsqm_fold2_log_v51_results.csv\n",
      "   🔍 Artifact training: fold3_log:v51\n"
     ]
    },
    {
     "name": "stderr",
     "output_type": "stream",
     "text": [
      "\u001b[34m\u001b[1mwandb\u001b[0m:   1 of 1 files downloaded.  \n"
     ]
    },
    {
     "name": "stdout",
     "output_type": "stream",
     "text": [
      "   ⬇️ Scaricato in: /home/lorenzo/Documenti/GitHub/Computer-Science-Sapienza/Computer Vision/project/artifacts/fold3_log:v51\n",
      "   ✅ Salvato: results/YOLOv11n/train/golden-sweep-15_pcsixsqm_fold3_log_v51_results.csv\n",
      "   🎉 Trovati 4 file\n",
      "🔄 Analizzo run: noble-sweep-13\n",
      "   ⚙️ Config salvato: configs/noble-sweep-13_yk11xbi9_config.yaml\n",
      "   📁 Trovati 5 artifacts\n",
      "   🔍 Artifact training: fold0_log:v49\n"
     ]
    },
    {
     "name": "stderr",
     "output_type": "stream",
     "text": [
      "\u001b[34m\u001b[1mwandb\u001b[0m:   1 of 1 files downloaded.  \n"
     ]
    },
    {
     "name": "stdout",
     "output_type": "stream",
     "text": [
      "   ⬇️ Scaricato in: /home/lorenzo/Documenti/GitHub/Computer-Science-Sapienza/Computer Vision/project/artifacts/fold0_log:v49\n",
      "   ✅ Salvato: results/YOLOv11n/train/noble-sweep-13_yk11xbi9_fold0_log_v49_results.csv\n",
      "   🔍 Artifact training: fold1_log:v48\n"
     ]
    },
    {
     "name": "stderr",
     "output_type": "stream",
     "text": [
      "\u001b[34m\u001b[1mwandb\u001b[0m:   1 of 1 files downloaded.  \n"
     ]
    },
    {
     "name": "stdout",
     "output_type": "stream",
     "text": [
      "   ⬇️ Scaricato in: /home/lorenzo/Documenti/GitHub/Computer-Science-Sapienza/Computer Vision/project/artifacts/fold1_log:v48\n",
      "   ✅ Salvato: results/YOLOv11n/train/noble-sweep-13_yk11xbi9_fold1_log_v48_results.csv\n",
      "   🔍 Artifact training: fold2_log:v49\n"
     ]
    },
    {
     "name": "stderr",
     "output_type": "stream",
     "text": [
      "\u001b[34m\u001b[1mwandb\u001b[0m:   1 of 1 files downloaded.  \n"
     ]
    },
    {
     "name": "stdout",
     "output_type": "stream",
     "text": [
      "   ⬇️ Scaricato in: /home/lorenzo/Documenti/GitHub/Computer-Science-Sapienza/Computer Vision/project/artifacts/fold2_log:v49\n",
      "   ✅ Salvato: results/YOLOv11n/train/noble-sweep-13_yk11xbi9_fold2_log_v49_results.csv\n",
      "   🔍 Artifact training: fold3_log:v49\n"
     ]
    },
    {
     "name": "stderr",
     "output_type": "stream",
     "text": [
      "\u001b[34m\u001b[1mwandb\u001b[0m:   1 of 1 files downloaded.  \n"
     ]
    },
    {
     "name": "stdout",
     "output_type": "stream",
     "text": [
      "   ⬇️ Scaricato in: /home/lorenzo/Documenti/GitHub/Computer-Science-Sapienza/Computer Vision/project/artifacts/fold3_log:v49\n",
      "   ✅ Salvato: results/YOLOv11n/train/noble-sweep-13_yk11xbi9_fold3_log_v49_results.csv\n",
      "   🎉 Trovati 4 file\n",
      "🔄 Analizzo run: resilient-sweep-12\n",
      "   ⚙️ Config salvato: configs/resilient-sweep-12_vj492xqy_config.yaml\n",
      "   📁 Trovati 5 artifacts\n",
      "   🔍 Artifact training: fold0_log:v48\n"
     ]
    },
    {
     "name": "stderr",
     "output_type": "stream",
     "text": [
      "\u001b[34m\u001b[1mwandb\u001b[0m:   1 of 1 files downloaded.  \n"
     ]
    },
    {
     "name": "stdout",
     "output_type": "stream",
     "text": [
      "   ⬇️ Scaricato in: /home/lorenzo/Documenti/GitHub/Computer-Science-Sapienza/Computer Vision/project/artifacts/fold0_log:v48\n",
      "   ✅ Salvato: results/YOLOv11n/train/resilient-sweep-12_vj492xqy_fold0_log_v48_results.csv\n",
      "   🔍 Artifact training: fold1_log:v47\n"
     ]
    },
    {
     "name": "stderr",
     "output_type": "stream",
     "text": [
      "\u001b[34m\u001b[1mwandb\u001b[0m:   1 of 1 files downloaded.  \n"
     ]
    },
    {
     "name": "stdout",
     "output_type": "stream",
     "text": [
      "   ⬇️ Scaricato in: /home/lorenzo/Documenti/GitHub/Computer-Science-Sapienza/Computer Vision/project/artifacts/fold1_log:v47\n",
      "   ✅ Salvato: results/YOLOv11n/train/resilient-sweep-12_vj492xqy_fold1_log_v47_results.csv\n",
      "   🔍 Artifact training: fold2_log:v48\n"
     ]
    },
    {
     "name": "stderr",
     "output_type": "stream",
     "text": [
      "\u001b[34m\u001b[1mwandb\u001b[0m:   1 of 1 files downloaded.  \n"
     ]
    },
    {
     "name": "stdout",
     "output_type": "stream",
     "text": [
      "   ⬇️ Scaricato in: /home/lorenzo/Documenti/GitHub/Computer-Science-Sapienza/Computer Vision/project/artifacts/fold2_log:v48\n",
      "   ✅ Salvato: results/YOLOv11n/train/resilient-sweep-12_vj492xqy_fold2_log_v48_results.csv\n",
      "   🔍 Artifact training: fold3_log:v48\n"
     ]
    },
    {
     "name": "stderr",
     "output_type": "stream",
     "text": [
      "\u001b[34m\u001b[1mwandb\u001b[0m:   1 of 1 files downloaded.  \n"
     ]
    },
    {
     "name": "stdout",
     "output_type": "stream",
     "text": [
      "   ⬇️ Scaricato in: /home/lorenzo/Documenti/GitHub/Computer-Science-Sapienza/Computer Vision/project/artifacts/fold3_log:v48\n",
      "   ✅ Salvato: results/YOLOv11n/train/resilient-sweep-12_vj492xqy_fold3_log_v48_results.csv\n",
      "   🎉 Trovati 4 file\n",
      "🔄 Analizzo run: fine-sweep-11\n",
      "   ⚙️ Config salvato: configs/fine-sweep-11_53e475rh_config.yaml\n",
      "   📁 Trovati 5 artifacts\n",
      "   🔍 Artifact training: fold0_log:v47\n"
     ]
    },
    {
     "name": "stderr",
     "output_type": "stream",
     "text": [
      "\u001b[34m\u001b[1mwandb\u001b[0m:   1 of 1 files downloaded.  \n"
     ]
    },
    {
     "name": "stdout",
     "output_type": "stream",
     "text": [
      "   ⬇️ Scaricato in: /home/lorenzo/Documenti/GitHub/Computer-Science-Sapienza/Computer Vision/project/artifacts/fold0_log:v47\n",
      "   ✅ Salvato: results/YOLOv11n/train/fine-sweep-11_53e475rh_fold0_log_v47_results.csv\n",
      "   🔍 Artifact training: fold1_log:v46\n"
     ]
    },
    {
     "name": "stderr",
     "output_type": "stream",
     "text": [
      "\u001b[34m\u001b[1mwandb\u001b[0m:   1 of 1 files downloaded.  \n"
     ]
    },
    {
     "name": "stdout",
     "output_type": "stream",
     "text": [
      "   ⬇️ Scaricato in: /home/lorenzo/Documenti/GitHub/Computer-Science-Sapienza/Computer Vision/project/artifacts/fold1_log:v46\n",
      "   ✅ Salvato: results/YOLOv11n/train/fine-sweep-11_53e475rh_fold1_log_v46_results.csv\n",
      "   🔍 Artifact training: fold2_log:v47\n"
     ]
    },
    {
     "name": "stderr",
     "output_type": "stream",
     "text": [
      "\u001b[34m\u001b[1mwandb\u001b[0m:   1 of 1 files downloaded.  \n"
     ]
    },
    {
     "name": "stdout",
     "output_type": "stream",
     "text": [
      "   ⬇️ Scaricato in: /home/lorenzo/Documenti/GitHub/Computer-Science-Sapienza/Computer Vision/project/artifacts/fold2_log:v47\n",
      "   ✅ Salvato: results/YOLOv11n/train/fine-sweep-11_53e475rh_fold2_log_v47_results.csv\n",
      "   🔍 Artifact training: fold3_log:v47\n"
     ]
    },
    {
     "name": "stderr",
     "output_type": "stream",
     "text": [
      "\u001b[34m\u001b[1mwandb\u001b[0m:   1 of 1 files downloaded.  \n"
     ]
    },
    {
     "name": "stdout",
     "output_type": "stream",
     "text": [
      "   ⬇️ Scaricato in: /home/lorenzo/Documenti/GitHub/Computer-Science-Sapienza/Computer Vision/project/artifacts/fold3_log:v47\n",
      "   ✅ Salvato: results/YOLOv11n/train/fine-sweep-11_53e475rh_fold3_log_v47_results.csv\n",
      "   🎉 Trovati 4 file\n",
      "🔄 Analizzo run: zany-sweep-10\n",
      "   ⚙️ Config salvato: configs/zany-sweep-10_0d6it1wy_config.yaml\n",
      "   📁 Trovati 5 artifacts\n",
      "   🔍 Artifact training: fold0_log:v46\n"
     ]
    },
    {
     "name": "stderr",
     "output_type": "stream",
     "text": [
      "\u001b[34m\u001b[1mwandb\u001b[0m:   1 of 1 files downloaded.  \n"
     ]
    },
    {
     "name": "stdout",
     "output_type": "stream",
     "text": [
      "   ⬇️ Scaricato in: /home/lorenzo/Documenti/GitHub/Computer-Science-Sapienza/Computer Vision/project/artifacts/fold0_log:v46\n",
      "   ✅ Salvato: results/YOLOv11n/train/zany-sweep-10_0d6it1wy_fold0_log_v46_results.csv\n",
      "   🔍 Artifact training: fold1_log:v45\n"
     ]
    },
    {
     "name": "stderr",
     "output_type": "stream",
     "text": [
      "\u001b[34m\u001b[1mwandb\u001b[0m:   1 of 1 files downloaded.  \n"
     ]
    },
    {
     "name": "stdout",
     "output_type": "stream",
     "text": [
      "   ⬇️ Scaricato in: /home/lorenzo/Documenti/GitHub/Computer-Science-Sapienza/Computer Vision/project/artifacts/fold1_log:v45\n",
      "   ✅ Salvato: results/YOLOv11n/train/zany-sweep-10_0d6it1wy_fold1_log_v45_results.csv\n",
      "   🔍 Artifact training: fold2_log:v46\n"
     ]
    },
    {
     "name": "stderr",
     "output_type": "stream",
     "text": [
      "\u001b[34m\u001b[1mwandb\u001b[0m:   1 of 1 files downloaded.  \n"
     ]
    },
    {
     "name": "stdout",
     "output_type": "stream",
     "text": [
      "   ⬇️ Scaricato in: /home/lorenzo/Documenti/GitHub/Computer-Science-Sapienza/Computer Vision/project/artifacts/fold2_log:v46\n",
      "   ✅ Salvato: results/YOLOv11n/train/zany-sweep-10_0d6it1wy_fold2_log_v46_results.csv\n",
      "   🔍 Artifact training: fold3_log:v46\n"
     ]
    },
    {
     "name": "stderr",
     "output_type": "stream",
     "text": [
      "\u001b[34m\u001b[1mwandb\u001b[0m:   1 of 1 files downloaded.  \n"
     ]
    },
    {
     "name": "stdout",
     "output_type": "stream",
     "text": [
      "   ⬇️ Scaricato in: /home/lorenzo/Documenti/GitHub/Computer-Science-Sapienza/Computer Vision/project/artifacts/fold3_log:v46\n",
      "   ✅ Salvato: results/YOLOv11n/train/zany-sweep-10_0d6it1wy_fold3_log_v46_results.csv\n",
      "   🎉 Trovati 4 file\n",
      "🔄 Analizzo run: vivid-sweep-9\n",
      "   ⚙️ Config salvato: configs/vivid-sweep-9_zyodk73x_config.yaml\n",
      "   📁 Trovati 5 artifacts\n",
      "   🔍 Artifact training: fold0_log:v45\n"
     ]
    },
    {
     "name": "stderr",
     "output_type": "stream",
     "text": [
      "\u001b[34m\u001b[1mwandb\u001b[0m:   1 of 1 files downloaded.  \n"
     ]
    },
    {
     "name": "stdout",
     "output_type": "stream",
     "text": [
      "   ⬇️ Scaricato in: /home/lorenzo/Documenti/GitHub/Computer-Science-Sapienza/Computer Vision/project/artifacts/fold0_log:v45\n",
      "   ✅ Salvato: results/YOLOv11n/train/vivid-sweep-9_zyodk73x_fold0_log_v45_results.csv\n",
      "   🔍 Artifact training: fold1_log:v44\n"
     ]
    },
    {
     "name": "stderr",
     "output_type": "stream",
     "text": [
      "\u001b[34m\u001b[1mwandb\u001b[0m:   1 of 1 files downloaded.  \n"
     ]
    },
    {
     "name": "stdout",
     "output_type": "stream",
     "text": [
      "   ⬇️ Scaricato in: /home/lorenzo/Documenti/GitHub/Computer-Science-Sapienza/Computer Vision/project/artifacts/fold1_log:v44\n",
      "   ✅ Salvato: results/YOLOv11n/train/vivid-sweep-9_zyodk73x_fold1_log_v44_results.csv\n",
      "   🔍 Artifact training: fold2_log:v45\n"
     ]
    },
    {
     "name": "stderr",
     "output_type": "stream",
     "text": [
      "\u001b[34m\u001b[1mwandb\u001b[0m:   1 of 1 files downloaded.  \n"
     ]
    },
    {
     "name": "stdout",
     "output_type": "stream",
     "text": [
      "   ⬇️ Scaricato in: /home/lorenzo/Documenti/GitHub/Computer-Science-Sapienza/Computer Vision/project/artifacts/fold2_log:v45\n",
      "   ✅ Salvato: results/YOLOv11n/train/vivid-sweep-9_zyodk73x_fold2_log_v45_results.csv\n",
      "   🔍 Artifact training: fold3_log:v45\n"
     ]
    },
    {
     "name": "stderr",
     "output_type": "stream",
     "text": [
      "\u001b[34m\u001b[1mwandb\u001b[0m:   1 of 1 files downloaded.  \n"
     ]
    },
    {
     "name": "stdout",
     "output_type": "stream",
     "text": [
      "   ⬇️ Scaricato in: /home/lorenzo/Documenti/GitHub/Computer-Science-Sapienza/Computer Vision/project/artifacts/fold3_log:v45\n",
      "   ✅ Salvato: results/YOLOv11n/train/vivid-sweep-9_zyodk73x_fold3_log_v45_results.csv\n",
      "   🎉 Trovati 4 file\n",
      "🔄 Analizzo run: chocolate-sweep-8\n",
      "   ⚙️ Config salvato: configs/chocolate-sweep-8_noqlx8s8_config.yaml\n",
      "   📁 Trovati 5 artifacts\n",
      "   🔍 Artifact training: fold0_log:v44\n"
     ]
    },
    {
     "name": "stderr",
     "output_type": "stream",
     "text": [
      "\u001b[34m\u001b[1mwandb\u001b[0m:   1 of 1 files downloaded.  \n"
     ]
    },
    {
     "name": "stdout",
     "output_type": "stream",
     "text": [
      "   ⬇️ Scaricato in: /home/lorenzo/Documenti/GitHub/Computer-Science-Sapienza/Computer Vision/project/artifacts/fold0_log:v44\n",
      "   ✅ Salvato: results/YOLOv11n/train/chocolate-sweep-8_noqlx8s8_fold0_log_v44_results.csv\n",
      "   🔍 Artifact training: fold1_log:v43\n"
     ]
    },
    {
     "name": "stderr",
     "output_type": "stream",
     "text": [
      "\u001b[34m\u001b[1mwandb\u001b[0m:   1 of 1 files downloaded.  \n"
     ]
    },
    {
     "name": "stdout",
     "output_type": "stream",
     "text": [
      "   ⬇️ Scaricato in: /home/lorenzo/Documenti/GitHub/Computer-Science-Sapienza/Computer Vision/project/artifacts/fold1_log:v43\n",
      "   ✅ Salvato: results/YOLOv11n/train/chocolate-sweep-8_noqlx8s8_fold1_log_v43_results.csv\n",
      "   🔍 Artifact training: fold2_log:v44\n"
     ]
    },
    {
     "name": "stderr",
     "output_type": "stream",
     "text": [
      "\u001b[34m\u001b[1mwandb\u001b[0m:   1 of 1 files downloaded.  \n"
     ]
    },
    {
     "name": "stdout",
     "output_type": "stream",
     "text": [
      "   ⬇️ Scaricato in: /home/lorenzo/Documenti/GitHub/Computer-Science-Sapienza/Computer Vision/project/artifacts/fold2_log:v44\n",
      "   ✅ Salvato: results/YOLOv11n/train/chocolate-sweep-8_noqlx8s8_fold2_log_v44_results.csv\n",
      "   🔍 Artifact training: fold3_log:v44\n"
     ]
    },
    {
     "name": "stderr",
     "output_type": "stream",
     "text": [
      "\u001b[34m\u001b[1mwandb\u001b[0m:   1 of 1 files downloaded.  \n"
     ]
    },
    {
     "name": "stdout",
     "output_type": "stream",
     "text": [
      "   ⬇️ Scaricato in: /home/lorenzo/Documenti/GitHub/Computer-Science-Sapienza/Computer Vision/project/artifacts/fold3_log:v44\n",
      "   ✅ Salvato: results/YOLOv11n/train/chocolate-sweep-8_noqlx8s8_fold3_log_v44_results.csv\n",
      "   🎉 Trovati 4 file\n",
      "🔄 Analizzo run: pleasant-sweep-7\n",
      "   ⚙️ Config salvato: configs/pleasant-sweep-7_u7pydrbl_config.yaml\n",
      "   📁 Trovati 5 artifacts\n",
      "   🔍 Artifact training: fold0_log:v43\n"
     ]
    },
    {
     "name": "stderr",
     "output_type": "stream",
     "text": [
      "\u001b[34m\u001b[1mwandb\u001b[0m:   1 of 1 files downloaded.  \n"
     ]
    },
    {
     "name": "stdout",
     "output_type": "stream",
     "text": [
      "   ⬇️ Scaricato in: /home/lorenzo/Documenti/GitHub/Computer-Science-Sapienza/Computer Vision/project/artifacts/fold0_log:v43\n",
      "   ✅ Salvato: results/YOLOv11n/train/pleasant-sweep-7_u7pydrbl_fold0_log_v43_results.csv\n",
      "   🔍 Artifact training: fold1_log:v42\n"
     ]
    },
    {
     "name": "stderr",
     "output_type": "stream",
     "text": [
      "\u001b[34m\u001b[1mwandb\u001b[0m:   1 of 1 files downloaded.  \n"
     ]
    },
    {
     "name": "stdout",
     "output_type": "stream",
     "text": [
      "   ⬇️ Scaricato in: /home/lorenzo/Documenti/GitHub/Computer-Science-Sapienza/Computer Vision/project/artifacts/fold1_log:v42\n",
      "   ✅ Salvato: results/YOLOv11n/train/pleasant-sweep-7_u7pydrbl_fold1_log_v42_results.csv\n",
      "   🔍 Artifact training: fold2_log:v43\n"
     ]
    },
    {
     "name": "stderr",
     "output_type": "stream",
     "text": [
      "\u001b[34m\u001b[1mwandb\u001b[0m:   1 of 1 files downloaded.  \n"
     ]
    },
    {
     "name": "stdout",
     "output_type": "stream",
     "text": [
      "   ⬇️ Scaricato in: /home/lorenzo/Documenti/GitHub/Computer-Science-Sapienza/Computer Vision/project/artifacts/fold2_log:v43\n",
      "   ✅ Salvato: results/YOLOv11n/train/pleasant-sweep-7_u7pydrbl_fold2_log_v43_results.csv\n",
      "   🔍 Artifact training: fold3_log:v43\n"
     ]
    },
    {
     "name": "stderr",
     "output_type": "stream",
     "text": [
      "\u001b[34m\u001b[1mwandb\u001b[0m:   1 of 1 files downloaded.  \n"
     ]
    },
    {
     "name": "stdout",
     "output_type": "stream",
     "text": [
      "   ⬇️ Scaricato in: /home/lorenzo/Documenti/GitHub/Computer-Science-Sapienza/Computer Vision/project/artifacts/fold3_log:v43\n",
      "   ✅ Salvato: results/YOLOv11n/train/pleasant-sweep-7_u7pydrbl_fold3_log_v43_results.csv\n",
      "   🎉 Trovati 4 file\n",
      "🔄 Analizzo run: devoted-sweep-6\n",
      "   ⚙️ Config salvato: configs/devoted-sweep-6_o5a660ot_config.yaml\n",
      "   📁 Trovati 5 artifacts\n",
      "   🔍 Artifact training: fold0_log:v42\n"
     ]
    },
    {
     "name": "stderr",
     "output_type": "stream",
     "text": [
      "\u001b[34m\u001b[1mwandb\u001b[0m:   1 of 1 files downloaded.  \n"
     ]
    },
    {
     "name": "stdout",
     "output_type": "stream",
     "text": [
      "   ⬇️ Scaricato in: /home/lorenzo/Documenti/GitHub/Computer-Science-Sapienza/Computer Vision/project/artifacts/fold0_log:v42\n",
      "   ✅ Salvato: results/YOLOv11n/train/devoted-sweep-6_o5a660ot_fold0_log_v42_results.csv\n",
      "   🔍 Artifact training: fold1_log:v41\n"
     ]
    },
    {
     "name": "stderr",
     "output_type": "stream",
     "text": [
      "\u001b[34m\u001b[1mwandb\u001b[0m:   1 of 1 files downloaded.  \n"
     ]
    },
    {
     "name": "stdout",
     "output_type": "stream",
     "text": [
      "   ⬇️ Scaricato in: /home/lorenzo/Documenti/GitHub/Computer-Science-Sapienza/Computer Vision/project/artifacts/fold1_log:v41\n",
      "   ✅ Salvato: results/YOLOv11n/train/devoted-sweep-6_o5a660ot_fold1_log_v41_results.csv\n",
      "   🔍 Artifact training: fold2_log:v42\n"
     ]
    },
    {
     "name": "stderr",
     "output_type": "stream",
     "text": [
      "\u001b[34m\u001b[1mwandb\u001b[0m:   1 of 1 files downloaded.  \n"
     ]
    },
    {
     "name": "stdout",
     "output_type": "stream",
     "text": [
      "   ⬇️ Scaricato in: /home/lorenzo/Documenti/GitHub/Computer-Science-Sapienza/Computer Vision/project/artifacts/fold2_log:v42\n",
      "   ✅ Salvato: results/YOLOv11n/train/devoted-sweep-6_o5a660ot_fold2_log_v42_results.csv\n",
      "   🔍 Artifact training: fold3_log:v42\n"
     ]
    },
    {
     "name": "stderr",
     "output_type": "stream",
     "text": [
      "\u001b[34m\u001b[1mwandb\u001b[0m:   1 of 1 files downloaded.  \n"
     ]
    },
    {
     "name": "stdout",
     "output_type": "stream",
     "text": [
      "   ⬇️ Scaricato in: /home/lorenzo/Documenti/GitHub/Computer-Science-Sapienza/Computer Vision/project/artifacts/fold3_log:v42\n",
      "   ✅ Salvato: results/YOLOv11n/train/devoted-sweep-6_o5a660ot_fold3_log_v42_results.csv\n",
      "   🎉 Trovati 4 file\n",
      "🔄 Analizzo run: different-sweep-5\n",
      "   ⚙️ Config salvato: configs/different-sweep-5_orl6h6ob_config.yaml\n",
      "   📁 Trovati 5 artifacts\n",
      "   🔍 Artifact training: fold0_log:v41\n"
     ]
    },
    {
     "name": "stderr",
     "output_type": "stream",
     "text": [
      "\u001b[34m\u001b[1mwandb\u001b[0m:   1 of 1 files downloaded.  \n"
     ]
    },
    {
     "name": "stdout",
     "output_type": "stream",
     "text": [
      "   ⬇️ Scaricato in: /home/lorenzo/Documenti/GitHub/Computer-Science-Sapienza/Computer Vision/project/artifacts/fold0_log:v41\n",
      "   ✅ Salvato: results/YOLOv11n/train/different-sweep-5_orl6h6ob_fold0_log_v41_results.csv\n",
      "   🔍 Artifact training: fold1_log:v40\n"
     ]
    },
    {
     "name": "stderr",
     "output_type": "stream",
     "text": [
      "\u001b[34m\u001b[1mwandb\u001b[0m:   1 of 1 files downloaded.  \n"
     ]
    },
    {
     "name": "stdout",
     "output_type": "stream",
     "text": [
      "   ⬇️ Scaricato in: /home/lorenzo/Documenti/GitHub/Computer-Science-Sapienza/Computer Vision/project/artifacts/fold1_log:v40\n",
      "   ✅ Salvato: results/YOLOv11n/train/different-sweep-5_orl6h6ob_fold1_log_v40_results.csv\n",
      "   🔍 Artifact training: fold2_log:v41\n"
     ]
    },
    {
     "name": "stderr",
     "output_type": "stream",
     "text": [
      "\u001b[34m\u001b[1mwandb\u001b[0m:   1 of 1 files downloaded.  \n"
     ]
    },
    {
     "name": "stdout",
     "output_type": "stream",
     "text": [
      "   ⬇️ Scaricato in: /home/lorenzo/Documenti/GitHub/Computer-Science-Sapienza/Computer Vision/project/artifacts/fold2_log:v41\n",
      "   ✅ Salvato: results/YOLOv11n/train/different-sweep-5_orl6h6ob_fold2_log_v41_results.csv\n",
      "   🔍 Artifact training: fold3_log:v41\n"
     ]
    },
    {
     "name": "stderr",
     "output_type": "stream",
     "text": [
      "\u001b[34m\u001b[1mwandb\u001b[0m:   1 of 1 files downloaded.  \n"
     ]
    },
    {
     "name": "stdout",
     "output_type": "stream",
     "text": [
      "   ⬇️ Scaricato in: /home/lorenzo/Documenti/GitHub/Computer-Science-Sapienza/Computer Vision/project/artifacts/fold3_log:v41\n",
      "   ✅ Salvato: results/YOLOv11n/train/different-sweep-5_orl6h6ob_fold3_log_v41_results.csv\n",
      "   🎉 Trovati 4 file\n",
      "🔄 Analizzo run: splendid-sweep-4\n",
      "   ⚙️ Config salvato: configs/splendid-sweep-4_qkeqzxjt_config.yaml\n",
      "   📁 Trovati 5 artifacts\n",
      "   🔍 Artifact training: fold0_log:v40\n"
     ]
    },
    {
     "name": "stderr",
     "output_type": "stream",
     "text": [
      "\u001b[34m\u001b[1mwandb\u001b[0m:   1 of 1 files downloaded.  \n"
     ]
    },
    {
     "name": "stdout",
     "output_type": "stream",
     "text": [
      "   ⬇️ Scaricato in: /home/lorenzo/Documenti/GitHub/Computer-Science-Sapienza/Computer Vision/project/artifacts/fold0_log:v40\n",
      "   ✅ Salvato: results/YOLOv11n/train/splendid-sweep-4_qkeqzxjt_fold0_log_v40_results.csv\n",
      "   🔍 Artifact training: fold1_log:v39\n"
     ]
    },
    {
     "name": "stderr",
     "output_type": "stream",
     "text": [
      "\u001b[34m\u001b[1mwandb\u001b[0m:   1 of 1 files downloaded.  \n"
     ]
    },
    {
     "name": "stdout",
     "output_type": "stream",
     "text": [
      "   ⬇️ Scaricato in: /home/lorenzo/Documenti/GitHub/Computer-Science-Sapienza/Computer Vision/project/artifacts/fold1_log:v39\n",
      "   ✅ Salvato: results/YOLOv11n/train/splendid-sweep-4_qkeqzxjt_fold1_log_v39_results.csv\n",
      "   🔍 Artifact training: fold2_log:v40\n"
     ]
    },
    {
     "name": "stderr",
     "output_type": "stream",
     "text": [
      "\u001b[34m\u001b[1mwandb\u001b[0m:   1 of 1 files downloaded.  \n"
     ]
    },
    {
     "name": "stdout",
     "output_type": "stream",
     "text": [
      "   ⬇️ Scaricato in: /home/lorenzo/Documenti/GitHub/Computer-Science-Sapienza/Computer Vision/project/artifacts/fold2_log:v40\n",
      "   ✅ Salvato: results/YOLOv11n/train/splendid-sweep-4_qkeqzxjt_fold2_log_v40_results.csv\n",
      "   🔍 Artifact training: fold3_log:v40\n"
     ]
    },
    {
     "name": "stderr",
     "output_type": "stream",
     "text": [
      "\u001b[34m\u001b[1mwandb\u001b[0m:   1 of 1 files downloaded.  \n"
     ]
    },
    {
     "name": "stdout",
     "output_type": "stream",
     "text": [
      "   ⬇️ Scaricato in: /home/lorenzo/Documenti/GitHub/Computer-Science-Sapienza/Computer Vision/project/artifacts/fold3_log:v40\n",
      "   ✅ Salvato: results/YOLOv11n/train/splendid-sweep-4_qkeqzxjt_fold3_log_v40_results.csv\n",
      "   🎉 Trovati 4 file\n",
      "🔄 Analizzo run: glamorous-sweep-3\n",
      "   ⚙️ Config salvato: configs/glamorous-sweep-3_m8t8mbju_config.yaml\n",
      "   📁 Trovati 5 artifacts\n",
      "   🔍 Artifact training: fold0_log:v39\n"
     ]
    },
    {
     "name": "stderr",
     "output_type": "stream",
     "text": [
      "\u001b[34m\u001b[1mwandb\u001b[0m:   1 of 1 files downloaded.  \n"
     ]
    },
    {
     "name": "stdout",
     "output_type": "stream",
     "text": [
      "   ⬇️ Scaricato in: /home/lorenzo/Documenti/GitHub/Computer-Science-Sapienza/Computer Vision/project/artifacts/fold0_log:v39\n",
      "   ✅ Salvato: results/YOLOv11n/train/glamorous-sweep-3_m8t8mbju_fold0_log_v39_results.csv\n",
      "   🔍 Artifact training: fold1_log:v38\n"
     ]
    },
    {
     "name": "stderr",
     "output_type": "stream",
     "text": [
      "\u001b[34m\u001b[1mwandb\u001b[0m:   1 of 1 files downloaded.  \n"
     ]
    },
    {
     "name": "stdout",
     "output_type": "stream",
     "text": [
      "   ⬇️ Scaricato in: /home/lorenzo/Documenti/GitHub/Computer-Science-Sapienza/Computer Vision/project/artifacts/fold1_log:v38\n",
      "   ✅ Salvato: results/YOLOv11n/train/glamorous-sweep-3_m8t8mbju_fold1_log_v38_results.csv\n",
      "   🔍 Artifact training: fold2_log:v39\n"
     ]
    },
    {
     "name": "stderr",
     "output_type": "stream",
     "text": [
      "\u001b[34m\u001b[1mwandb\u001b[0m:   1 of 1 files downloaded.  \n"
     ]
    },
    {
     "name": "stdout",
     "output_type": "stream",
     "text": [
      "   ⬇️ Scaricato in: /home/lorenzo/Documenti/GitHub/Computer-Science-Sapienza/Computer Vision/project/artifacts/fold2_log:v39\n",
      "   ✅ Salvato: results/YOLOv11n/train/glamorous-sweep-3_m8t8mbju_fold2_log_v39_results.csv\n",
      "   🔍 Artifact training: fold3_log:v39\n"
     ]
    },
    {
     "name": "stderr",
     "output_type": "stream",
     "text": [
      "\u001b[34m\u001b[1mwandb\u001b[0m:   1 of 1 files downloaded.  \n"
     ]
    },
    {
     "name": "stdout",
     "output_type": "stream",
     "text": [
      "   ⬇️ Scaricato in: /home/lorenzo/Documenti/GitHub/Computer-Science-Sapienza/Computer Vision/project/artifacts/fold3_log:v39\n",
      "   ✅ Salvato: results/YOLOv11n/train/glamorous-sweep-3_m8t8mbju_fold3_log_v39_results.csv\n",
      "   🎉 Trovati 4 file\n",
      "🔄 Analizzo run: firm-sweep-2\n",
      "   ⚙️ Config salvato: configs/firm-sweep-2_cn5xbvua_config.yaml\n",
      "   📁 Trovati 5 artifacts\n",
      "   🔍 Artifact training: fold0_log:v38\n"
     ]
    },
    {
     "name": "stderr",
     "output_type": "stream",
     "text": [
      "\u001b[34m\u001b[1mwandb\u001b[0m:   1 of 1 files downloaded.  \n"
     ]
    },
    {
     "name": "stdout",
     "output_type": "stream",
     "text": [
      "   ⬇️ Scaricato in: /home/lorenzo/Documenti/GitHub/Computer-Science-Sapienza/Computer Vision/project/artifacts/fold0_log:v38\n",
      "   ✅ Salvato: results/YOLOv11n/train/firm-sweep-2_cn5xbvua_fold0_log_v38_results.csv\n",
      "   🔍 Artifact training: fold1_log:v37\n"
     ]
    },
    {
     "name": "stderr",
     "output_type": "stream",
     "text": [
      "\u001b[34m\u001b[1mwandb\u001b[0m:   1 of 1 files downloaded.  \n"
     ]
    },
    {
     "name": "stdout",
     "output_type": "stream",
     "text": [
      "   ⬇️ Scaricato in: /home/lorenzo/Documenti/GitHub/Computer-Science-Sapienza/Computer Vision/project/artifacts/fold1_log:v37\n",
      "   ✅ Salvato: results/YOLOv11n/train/firm-sweep-2_cn5xbvua_fold1_log_v37_results.csv\n",
      "   🔍 Artifact training: fold2_log:v38\n"
     ]
    },
    {
     "name": "stderr",
     "output_type": "stream",
     "text": [
      "\u001b[34m\u001b[1mwandb\u001b[0m:   1 of 1 files downloaded.  \n"
     ]
    },
    {
     "name": "stdout",
     "output_type": "stream",
     "text": [
      "   ⬇️ Scaricato in: /home/lorenzo/Documenti/GitHub/Computer-Science-Sapienza/Computer Vision/project/artifacts/fold2_log:v38\n",
      "   ✅ Salvato: results/YOLOv11n/train/firm-sweep-2_cn5xbvua_fold2_log_v38_results.csv\n",
      "   🔍 Artifact training: fold3_log:v38\n"
     ]
    },
    {
     "name": "stderr",
     "output_type": "stream",
     "text": [
      "\u001b[34m\u001b[1mwandb\u001b[0m:   1 of 1 files downloaded.  \n"
     ]
    },
    {
     "name": "stdout",
     "output_type": "stream",
     "text": [
      "   ⬇️ Scaricato in: /home/lorenzo/Documenti/GitHub/Computer-Science-Sapienza/Computer Vision/project/artifacts/fold3_log:v38\n",
      "   ✅ Salvato: results/YOLOv11n/train/firm-sweep-2_cn5xbvua_fold3_log_v38_results.csv\n",
      "   🎉 Trovati 4 file\n",
      "🔄 Analizzo run: gentle-sweep-1\n",
      "   ⚙️ Config salvato: configs/gentle-sweep-1_m6byghv9_config.yaml\n",
      "   📁 Trovati 5 artifacts\n",
      "   🔍 Artifact training: fold0_log:v37\n"
     ]
    },
    {
     "name": "stderr",
     "output_type": "stream",
     "text": [
      "\u001b[34m\u001b[1mwandb\u001b[0m:   1 of 1 files downloaded.  \n"
     ]
    },
    {
     "name": "stdout",
     "output_type": "stream",
     "text": [
      "   ⬇️ Scaricato in: /home/lorenzo/Documenti/GitHub/Computer-Science-Sapienza/Computer Vision/project/artifacts/fold0_log:v37\n",
      "   ✅ Salvato: results/YOLOv11n/train/gentle-sweep-1_m6byghv9_fold0_log_v37_results.csv\n",
      "   🔍 Artifact training: fold1_log:v36\n"
     ]
    },
    {
     "name": "stderr",
     "output_type": "stream",
     "text": [
      "\u001b[34m\u001b[1mwandb\u001b[0m:   1 of 1 files downloaded.  \n"
     ]
    },
    {
     "name": "stdout",
     "output_type": "stream",
     "text": [
      "   ⬇️ Scaricato in: /home/lorenzo/Documenti/GitHub/Computer-Science-Sapienza/Computer Vision/project/artifacts/fold1_log:v36\n",
      "   ✅ Salvato: results/YOLOv11n/train/gentle-sweep-1_m6byghv9_fold1_log_v36_results.csv\n",
      "   🔍 Artifact training: fold2_log:v37\n"
     ]
    },
    {
     "name": "stderr",
     "output_type": "stream",
     "text": [
      "\u001b[34m\u001b[1mwandb\u001b[0m:   1 of 1 files downloaded.  \n"
     ]
    },
    {
     "name": "stdout",
     "output_type": "stream",
     "text": [
      "   ⬇️ Scaricato in: /home/lorenzo/Documenti/GitHub/Computer-Science-Sapienza/Computer Vision/project/artifacts/fold2_log:v37\n",
      "   ✅ Salvato: results/YOLOv11n/train/gentle-sweep-1_m6byghv9_fold2_log_v37_results.csv\n",
      "   🔍 Artifact training: fold3_log:v37\n"
     ]
    },
    {
     "name": "stderr",
     "output_type": "stream",
     "text": [
      "\u001b[34m\u001b[1mwandb\u001b[0m:   1 of 1 files downloaded.  \n"
     ]
    },
    {
     "name": "stdout",
     "output_type": "stream",
     "text": [
      "   ⬇️ Scaricato in: /home/lorenzo/Documenti/GitHub/Computer-Science-Sapienza/Computer Vision/project/artifacts/fold3_log:v37\n",
      "   ✅ Salvato: results/YOLOv11n/train/gentle-sweep-1_m6byghv9_fold3_log_v37_results.csv\n",
      "   🎉 Trovati 4 file\n",
      "\n",
      "📦 Sweep so0hcj67 → output in 'results/YOLOv11n'\n",
      "🔍 Trovati 1 run\n",
      "🔄 Analizzo run: wandering-sweep-1\n",
      "   ⚙️ Config salvato: configs/wandering-sweep-1_75tzr2ib_config.yaml\n",
      "   📁 Trovati 5 artifacts\n",
      "   🔍 Artifact training: fold0_log:v36\n"
     ]
    },
    {
     "name": "stderr",
     "output_type": "stream",
     "text": [
      "\u001b[34m\u001b[1mwandb\u001b[0m:   1 of 1 files downloaded.  \n"
     ]
    },
    {
     "name": "stdout",
     "output_type": "stream",
     "text": [
      "   ⬇️ Scaricato in: /home/lorenzo/Documenti/GitHub/Computer-Science-Sapienza/Computer Vision/project/artifacts/fold0_log:v36\n",
      "   ✅ Salvato: results/YOLOv11n/train/wandering-sweep-1_75tzr2ib_fold0_log_v36_results.csv\n",
      "   🔍 Artifact training: fold1_log:v35\n"
     ]
    },
    {
     "name": "stderr",
     "output_type": "stream",
     "text": [
      "\u001b[34m\u001b[1mwandb\u001b[0m:   1 of 1 files downloaded.  \n"
     ]
    },
    {
     "name": "stdout",
     "output_type": "stream",
     "text": [
      "   ⬇️ Scaricato in: /home/lorenzo/Documenti/GitHub/Computer-Science-Sapienza/Computer Vision/project/artifacts/fold1_log:v35\n",
      "   ✅ Salvato: results/YOLOv11n/train/wandering-sweep-1_75tzr2ib_fold1_log_v35_results.csv\n",
      "   🔍 Artifact training: fold2_log:v36\n"
     ]
    },
    {
     "name": "stderr",
     "output_type": "stream",
     "text": [
      "\u001b[34m\u001b[1mwandb\u001b[0m:   1 of 1 files downloaded.  \n"
     ]
    },
    {
     "name": "stdout",
     "output_type": "stream",
     "text": [
      "   ⬇️ Scaricato in: /home/lorenzo/Documenti/GitHub/Computer-Science-Sapienza/Computer Vision/project/artifacts/fold2_log:v36\n",
      "   ✅ Salvato: results/YOLOv11n/train/wandering-sweep-1_75tzr2ib_fold2_log_v36_results.csv\n",
      "   🔍 Artifact training: fold3_log:v36\n"
     ]
    },
    {
     "name": "stderr",
     "output_type": "stream",
     "text": [
      "\u001b[34m\u001b[1mwandb\u001b[0m:   1 of 1 files downloaded.  \n"
     ]
    },
    {
     "name": "stdout",
     "output_type": "stream",
     "text": [
      "   ⬇️ Scaricato in: /home/lorenzo/Documenti/GitHub/Computer-Science-Sapienza/Computer Vision/project/artifacts/fold3_log:v36\n",
      "   ✅ Salvato: results/YOLOv11n/train/wandering-sweep-1_75tzr2ib_fold3_log_v36_results.csv\n",
      "   🎉 Trovati 4 file\n",
      "\n",
      "🏁 Download completato!\n"
     ]
    }
   ],
   "source": [
    "# === ESTRAZIONE DEI DATI ===\n",
    "all_runs_data = []\n",
    "\n",
    "summary_useful = [\n",
    "    'lr/pg0', \n",
    "    'lr/pg1', \n",
    "    'lr/pg2', \n",
    "    'metrics/mAP50(B)', \n",
    "    'metrics/mAP50-95(B)', \n",
    "    'metrics/precision(B)', \n",
    "    'metrics/recall(B)', \n",
    "    'model/GFLOPs', \n",
    "    'model/parameters', \n",
    "    'model/speed_PyTorch(ms)', \n",
    "    'train/box_loss', \n",
    "    'train/cls_loss', \n",
    "    'train/dfl_loss',\n",
    "    'val/box_loss',\n",
    "    'val/cls_loss', \n",
    "    'val/dfl_loss',\n",
    "]\n",
    "\n",
    "# === Creiamo il dizionario con tutte le cartelle di ogni sweep ===\n",
    "OUTPUT_DIR = {sweep_id: f\"results/{name}\" for sweep_id, name in sweeps_mapping.items()}\n",
    "\n",
    "# === Creiamo la cartella per le configs ===\n",
    "CONFIG_DIR = \"configs\"\n",
    "os.makedirs(CONFIG_DIR, exist_ok=True)\n",
    "\n",
    "# Funzione per scaricare un artifact e copiare i file che rispettano la condizione\n",
    "def process_artifact(artifact, run_name, run_id, dest_dir, file_check, suffix):\n",
    "    \"\"\"Scarica un artifact e copia i file che rispettano la condizione `file_check`.\"\"\"\n",
    "    try:\n",
    "        artifact_dir = artifact.download()\n",
    "        print(f\"   ⬇️ Scaricato in: {artifact_dir}\")\n",
    "\n",
    "        found_files = []\n",
    "        for root, _, files in os.walk(artifact_dir):\n",
    "            for file in files:\n",
    "                if file_check(file):  # condizione personalizzata\n",
    "                    src = os.path.join(root, file)\n",
    "                    artifact_name_clean = artifact.name.replace(\":\", \"_\").replace(\"/\", \"_\")\n",
    "                    out_name = f\"{run_name}_{run_id}_{artifact_name_clean}{suffix}\"\n",
    "                    dst = os.path.join(dest_dir, out_name)\n",
    "                    shutil.copy(src, dst)\n",
    "                    print(f\"   ✅ Salvato: {dst}\")\n",
    "                    found_files.append(dst)\n",
    "        return found_files\n",
    "\n",
    "    except Exception as e:\n",
    "        print(f\"   ❌ Errore scaricando artifact {artifact.name}: {e}\")\n",
    "        return []\n",
    "\n",
    "# === CICLO SU TUTTI GLI SWEEP ===\n",
    "for sweep_id in sweeps_mapping:\n",
    "    out_dir = OUTPUT_DIR[sweep_id]\n",
    "    train_dir, val_dir = [os.path.join(out_dir, d) for d in (\"train\", \"val\")]\n",
    "    for d in (out_dir, train_dir, val_dir):\n",
    "        os.makedirs(d, exist_ok=True)\n",
    "\n",
    "    print(f\"\\n📦 Sweep {sweep_id} → output in '{out_dir}'\")\n",
    "\n",
    "    try:\n",
    "        sweep = api.sweep(f\"{ENTITY}/{PROJECT}/{sweep_id}\")\n",
    "        runs = sweep.runs\n",
    "        print(f\"🔍 Trovati {len(runs)} run\")\n",
    "\n",
    "        for run in runs:\n",
    "            run_id, run_name = run.id, run.name or run.id\n",
    "            print(f\"🔄 Analizzo run: {run_name}\")\n",
    "\n",
    "            # Scarica config.yaml se esiste\n",
    "            try:\n",
    "                if any(f.name == \"config.yaml\" for f in run.files()):\n",
    "                    cfg_file = run.file(\"config.yaml\")\n",
    "                    cfg_path = os.path.join(CONFIG_DIR, f\"{run_name}_{run_id}_config.yaml\")\n",
    "                    cfg_file.download(CONFIG_DIR, replace=True)\n",
    "                    downloaded = os.path.join(CONFIG_DIR, \"config.yaml\")\n",
    "                    if os.path.exists(downloaded):\n",
    "                        os.rename(downloaded, cfg_path)\n",
    "                    print(f\"   ⚙️ Config salvato: {cfg_path}\")\n",
    "                else:\n",
    "                    print(\"   ⚠️ Nessun config.yaml trovato per questo run\")\n",
    "            except Exception as e:\n",
    "                print(f\"   ❌ Errore scaricando config.yaml: {e}\")\n",
    "\n",
    "            # Ciclo artifacts\n",
    "            found_files = []\n",
    "            artifacts = run.logged_artifacts()\n",
    "            print(f\"   📁 Trovati {len(artifacts)} artifacts\")\n",
    "\n",
    "            for artifact in artifacts:\n",
    "                base_name = artifact.name.split(':')[0]\n",
    "\n",
    "                if base_name.endswith('_log'):\n",
    "                    print(f\"   🔍 Artifact training: {artifact.name}\")\n",
    "                    found_files += process_artifact(\n",
    "                        artifact, run_name, run_id, train_dir,\n",
    "                        lambda f: f == \"results.csv\", suffix=\"_results.csv\"\n",
    "                    )\n",
    "\n",
    "                elif base_name.endswith('_results'):\n",
    "                    print(f\"   🔍 Artifact validazione: {artifact.name}\")\n",
    "                    found_files += process_artifact(\n",
    "                        artifact, run_name, run_id, val_dir,\n",
    "                        lambda f: f.endswith(\"_results.pt\"), suffix=\"_results.pt\"\n",
    "                    )\n",
    "\n",
    "            if not found_files:\n",
    "                print(\"   ⚠️ Nessun file di risultati trovato.\")\n",
    "            else:\n",
    "                print(f\"   🎉 Trovati {len(found_files)} file\")\n",
    "\n",
    "    except Exception as e:\n",
    "        print(f\"❌ Errore nello sweep {sweep_id}: {e}\")\n",
    "\n",
    "print(\"\\n🏁 Download completato!\")"
   ]
  },
  {
   "cell_type": "code",
   "execution_count": null,
   "id": "89067c91",
   "metadata": {},
   "outputs": [],
   "source": []
  }
 ],
 "metadata": {
  "kernelspec": {
   "display_name": "datas",
   "language": "python",
   "name": "python3"
  },
  "language_info": {
   "codemirror_mode": {
    "name": "ipython",
    "version": 3
   },
   "file_extension": ".py",
   "mimetype": "text/x-python",
   "name": "python",
   "nbconvert_exporter": "python",
   "pygments_lexer": "ipython3",
   "version": "3.10.13"
  }
 },
 "nbformat": 4,
 "nbformat_minor": 5
}
