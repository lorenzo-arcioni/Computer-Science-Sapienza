{
  "cells": [
    {
      "cell_type": "markdown",
      "metadata": {
        "id": "KuomydktArWz"
      },
      "source": [
        "## Tensor basics\n",
        "\n",
        "Source:https://pytorch.org/tutorials/beginner/blitz/tensor_tutorial.html\n",
        "\n",
        "### What is a tensor?\n",
        "\n",
        "<div>\n",
        "<img src=\"https://i.redd.it/zmnq16y5hw381.png\" width=\"350\" height=\"400\"/>\n",
        "</div>\n",
        "\n",
        "Tensors are a specialized data structure that are **very similar to arrays and matrices**. In PyTorch, we use tensors to encode the inputs and outputs of a model, as well as the model’s parameters.\n",
        "\n",
        "Let's go through some of the basics of tensors 😉\n"
      ]
    },
    {
      "cell_type": "markdown",
      "metadata": {
        "id": "gIK8bEVhG5eU"
      },
      "source": [
        "### Tensors creation and initialization"
      ]
    },
    {
      "cell_type": "code",
      "execution_count": 1,
      "metadata": {
        "colab": {
          "base_uri": "https://localhost:8080/"
        },
        "id": "moMGq2bEDeJv",
        "outputId": "7d92651f-d348-47e3-c29c-bc327a537505"
      },
      "outputs": [
        {
          "name": "stdout",
          "output_type": "stream",
          "text": [
            "cpu\n"
          ]
        }
      ],
      "source": [
        "# Importing libraries and setting device\n",
        "\n",
        "import torch\n",
        "import numpy as np\n",
        "\n",
        "device = torch.device('cuda' if torch.cuda.is_available() else 'cpu')\n",
        "print(device)"
      ]
    },
    {
      "cell_type": "code",
      "execution_count": 2,
      "metadata": {
        "colab": {
          "base_uri": "https://localhost:8080/"
        },
        "id": "ZgICF1NqDySn",
        "outputId": "df4b0fb2-5002-4890-8def-60cff79cdd92"
      },
      "outputs": [
        {
          "name": "stdout",
          "output_type": "stream",
          "text": [
            "tensor([1, 2, 3, 4]) \n",
            " tensor([[1, 2],\n",
            "        [3, 4],\n",
            "        [5, 6]]) \n",
            "\n",
            "tensor([1, 2, 3, 4]) \n",
            " tensor([[1, 2],\n",
            "        [3, 4],\n",
            "        [5, 6]]) \n",
            "\n"
          ]
        }
      ],
      "source": [
        "# From standard python types\n",
        "\n",
        "one_dimensional_list = [1, 2, 3, 4]\n",
        "two_dimensional_list = [[1,2], [3,4], [5,6]]\n",
        "\n",
        "one_dimensional_tensor_from_list = torch.tensor(one_dimensional_list)\n",
        "two_dimensional_tensor_from_list = torch.tensor(two_dimensional_list)\n",
        "print(one_dimensional_tensor_from_list, \"\\n\", two_dimensional_tensor_from_list, \"\\n\")\n",
        "\n",
        "one_dimensional_tuple = (1,2,3,4)\n",
        "two_dimensional_tuple = ((1,2), (3,4), (5,6))\n",
        "\n",
        "one_dimensional_tensor_from_tuple = torch.tensor(one_dimensional_tuple)\n",
        "two_dimensional_tensor_from_tuple = torch.tensor(two_dimensional_tuple)\n",
        "print(one_dimensional_tensor_from_tuple, \"\\n\", two_dimensional_tensor_from_tuple, \"\\n\")"
      ]
    },
    {
      "cell_type": "code",
      "execution_count": 3,
      "metadata": {
        "colab": {
          "base_uri": "https://localhost:8080/"
        },
        "id": "Z-TqGdD4Gr2T",
        "outputId": "4b2b783a-6194-4bfe-8bfc-e875aaca9396"
      },
      "outputs": [
        {
          "name": "stdout",
          "output_type": "stream",
          "text": [
            "tensor([[1, 2],\n",
            "        [3, 4],\n",
            "        [5, 6]]) \n",
            "\n",
            "tensor([[1, 2],\n",
            "        [3, 4],\n",
            "        [5, 6]]) \n",
            "\n"
          ]
        }
      ],
      "source": [
        "# From numpy ndarrays\n",
        "\n",
        "# TIP: being explicit is better!\n",
        "np_array = np.array([[1,2], [3,4], [5,6]])\n",
        "\n",
        "two_dimensional_tensor_from_np_array_a = torch.tensor(np_array) #implicit cast\n",
        "print(two_dimensional_tensor_from_np_array_a, \"\\n\")\n",
        "\n",
        "two_dimensional_tensor_from_np_array_b = torch.from_numpy(np_array) #explicit conversion\n",
        "print(two_dimensional_tensor_from_np_array_b, \"\\n\")"
      ]
    },
    {
      "cell_type": "code",
      "execution_count": 4,
      "metadata": {
        "colab": {
          "base_uri": "https://localhost:8080/"
        },
        "id": "QTVSbSszGx6D",
        "outputId": "81c587f5-fabc-427d-ae36-d70f65253396"
      },
      "outputs": [
        {
          "name": "stdout",
          "output_type": "stream",
          "text": [
            "tensor([[1, 2],\n",
            "        [3, 4],\n",
            "        [5, 6]]) \n",
            "\n",
            "tensor([[1, 1],\n",
            "        [1, 1],\n",
            "        [1, 1]]) \n",
            "\n",
            "tensor([[0.6544, 0.3800],\n",
            "        [0.1131, 0.2214],\n",
            "        [0.9927, 0.3718]]) \n",
            "\n"
          ]
        }
      ],
      "source": [
        "# From other tensors\n",
        "\n",
        "print(two_dimensional_tensor_from_np_array_a, \"\\n\")\n",
        "\n",
        "new_tensor = torch.ones_like(two_dimensional_tensor_from_np_array_a) #same with torch.zeros_like()\n",
        "print(new_tensor, \"\\n\")\n",
        "\n",
        "new_tensor = torch.rand_like(two_dimensional_tensor_from_np_array_a, dtype=torch.float)\n",
        "print(new_tensor, \"\\n\")"
      ]
    },
    {
      "cell_type": "code",
      "execution_count": 5,
      "metadata": {
        "colab": {
          "base_uri": "https://localhost:8080/"
        },
        "id": "8fZlK3HxNacz",
        "outputId": "c28542a0-b496-4078-b971-e3419a8c6787"
      },
      "outputs": [
        {
          "name": "stdout",
          "output_type": "stream",
          "text": [
            "tensor([[0.1229, 0.8420, 0.2862],\n",
            "        [0.6064, 0.1870, 0.6453]]) \n",
            "\n",
            "tensor([[1., 1., 1.],\n",
            "        [1., 1., 1.]]) \n",
            "\n",
            "tensor([[0., 0., 0.],\n",
            "        [0., 0., 0.]]) \n",
            "\n",
            "zeros(): argument 'size' (position 1) must be tuple of ints, but found element of type list at pos 0\n"
          ]
        }
      ],
      "source": [
        "# With random or constant values\n",
        "\n",
        "shape = (2,3) #shape can be a tuple\n",
        "random_tensor = torch.rand(shape)\n",
        "print(random_tensor, \"\\n\")\n",
        "\n",
        "shape = [2, 3] #shape can be a list\n",
        "ones_tensor = torch.ones(shape)\n",
        "print(ones_tensor, \"\\n\")\n",
        "\n",
        "zeros_tensor = torch.zeros(shape)\n",
        "print(zeros_tensor, \"\\n\")\n",
        "\n",
        "shape = [[2,3],[2,3]] #shape cannot be a multi-dimensional list!\n",
        "try:\n",
        "  zeros_tensor = torch.zeros(shape)\n",
        "except TypeError as te:\n",
        "  print(te)\n",
        "\n"
      ]
    },
    {
      "cell_type": "code",
      "execution_count": 6,
      "metadata": {
        "colab": {
          "base_uri": "https://localhost:8080/"
        },
        "id": "Ln6cF4ZaLZVG",
        "outputId": "fedf9c04-80b5-4350-91be-147d57850a77"
      },
      "outputs": [
        {
          "name": "stdout",
          "output_type": "stream",
          "text": [
            "tensor(2) tensor([3.1382e+12, 3.2894e-41])\n",
            "tensor([]) \n",
            "\n",
            "tensor() missing 1 required positional arguments: \"data\"\n",
            "tensor([1, 2]) tensor([1., 2.])\n"
          ]
        }
      ],
      "source": [
        "# Be careful!\n",
        "# torch.tensor != torch.Tensor\n",
        "# see: https://discuss.pytorch.org/t/difference-between-torch-tensor-and-torch-tensor/106816/4\n",
        "\n",
        "a = torch.tensor(2) #create tensor from input\n",
        "b = torch.Tensor(2) #create un-initialised tensor of two elements\n",
        "print(a, b)\n",
        "\n",
        "a = torch.Tensor() #ok!\n",
        "print(a, \"\\n\")\n",
        "\n",
        "try:\n",
        "  b = torch.tensor() #error!\n",
        "except TypeError as te:\n",
        "  print(te)\n",
        "\n",
        "a = torch.tensor([1,2])\n",
        "b = torch.Tensor([1,2]) #internally casts as float!\n",
        "print(a, b)\n"
      ]
    },
    {
      "cell_type": "markdown",
      "metadata": {
        "id": "WhawNCAfG9rb"
      },
      "source": [
        "### Tensor attributes"
      ]
    },
    {
      "cell_type": "code",
      "execution_count": 7,
      "metadata": {
        "colab": {
          "base_uri": "https://localhost:8080/"
        },
        "id": "bHKnq1bmRS_U",
        "outputId": "cfb81547-3861-4d5a-aaf4-ace7061ad032"
      },
      "outputs": [
        {
          "name": "stdout",
          "output_type": "stream",
          "text": [
            "tensor([[0.9822, 0.4493, 0.7408, 0.7619],\n",
            "        [0.7334, 0.8853, 0.2400, 0.6332],\n",
            "        [0.6285, 0.8299, 0.9621, 0.4045]]) \n",
            "\n",
            "Shape of tensor: torch.Size([3, 4])\n",
            "Datatype of tensor: torch.float32\n",
            "Device tensor is stored on: cpu\n"
          ]
        }
      ],
      "source": [
        "# Basic tensor attributes\n",
        "\n",
        "tensor = torch.rand(3,4)\n",
        "print(tensor, \"\\n\")\n",
        "\n",
        "# shape\n",
        "print(f\"Shape of tensor: {tensor.shape}\")\n",
        "\n",
        "# dtype\n",
        "print(f\"Datatype of tensor: {tensor.dtype}\")\n",
        "\n",
        "#device\n",
        "print(f\"Device tensor is stored on: {tensor.device}\")"
      ]
    },
    {
      "cell_type": "code",
      "execution_count": 8,
      "metadata": {
        "colab": {
          "base_uri": "https://localhost:8080/"
        },
        "id": "I3RDijSETFkd",
        "outputId": "a38d96d9-c621-44fd-b511-54f888dfe056"
      },
      "outputs": [
        {
          "name": "stdout",
          "output_type": "stream",
          "text": [
            "tensor([1., 2., 3.])\n",
            "tensor([1, 2, 3])\n"
          ]
        }
      ],
      "source": [
        "# Importance of dtype\n",
        "\n",
        "# specifying the dtype will force a cast in the specified dtype\n",
        "# the dtype is best specified using torch.dtype, e.g. torch.float32\n",
        "# all info at: https://pytorch.org/docs/stable/tensor_attributes.html#torch.dtype\n",
        "\n",
        "a = torch.tensor([1, 2, 3], dtype=torch.float32) #casts to float\n",
        "print(a)\n",
        "\n",
        "b = torch.tensor([1, 2, 3], dtype=torch.int64) #casts to int\n",
        "print(b)"
      ]
    },
    {
      "cell_type": "code",
      "execution_count": 9,
      "metadata": {
        "colab": {
          "base_uri": "https://localhost:8080/"
        },
        "id": "HGFsnanSU8W7",
        "outputId": "6a8d2d53-e3e8-4719-9b11-91214a1829d5"
      },
      "outputs": [
        {
          "name": "stdout",
          "output_type": "stream",
          "text": [
            "tensor([False,  True,  True])\n"
          ]
        }
      ],
      "source": [
        "# Sometimes casting will have unexpected results\n",
        "c = torch.tensor([0, 2, 3], dtype=torch.bool) #conversion to bool is always true unless the input is 0!\n",
        "print(c)"
      ]
    },
    {
      "cell_type": "code",
      "execution_count": 10,
      "metadata": {
        "colab": {
          "base_uri": "https://localhost:8080/"
        },
        "id": "55jbOO-3U_sd",
        "outputId": "73ccb863-efb5-45cc-9ec8-8066439302ea"
      },
      "outputs": [
        {
          "name": "stdout",
          "output_type": "stream",
          "text": [
            "tensor([1.2561, 3.0000, 4.0000], dtype=torch.float64)\n",
            "tensor([1.2561, 3.0000, 4.0000])\n",
            "tensor([False,  True,  True])\n"
          ]
        }
      ],
      "source": [
        "# Different dtypes will have different precisions\n",
        "\n",
        "# TIP: precision can matter! be careful...\n",
        "d = torch.tensor([1.2561312312312313, 3.0, 4], dtype=torch.double) #casts to double/float64\n",
        "print(d)\n",
        "\n",
        "e = torch.tensor([1.2561312312312313, 3.0, 4], dtype=torch.float32) #casts to float\n",
        "print(e)\n",
        "\n",
        "print(d == e)"
      ]
    },
    {
      "cell_type": "markdown",
      "metadata": {
        "id": "Micb1oYRG_6Y"
      },
      "source": [
        "### Tensor operations\n",
        "\n",
        "For a complete list of operations, see https://pytorch.org/docs/stable/torch.html\n",
        "\n",
        "This operations include (but are not limited to):\n",
        "- stacking and concatenating tensors (e.g. concatenate, stack, vstack, hstack...)\n",
        "- replicating tensor dimensions (e.g. repeat)\n",
        "- matrix multiplications (bmm, mm, etc)\n",
        "\n",
        "And so on...\n"
      ]
    },
    {
      "cell_type": "code",
      "execution_count": 11,
      "metadata": {
        "colab": {
          "base_uri": "https://localhost:8080/"
        },
        "id": "7LZv6IxfWo05",
        "outputId": "6fd3d36f-e557-4101-9e13-f5dd09e417ab"
      },
      "outputs": [],
      "source": [
        "# Moving tensor to gpu (when available)\n",
        "\n",
        "tensor = torch.tensor([1, 2, 3])\n",
        "multi_dimensional_tensor = torch.tensor([[1,2],[3,4]])\n",
        "\n",
        "if torch.cuda.is_available():\n",
        "  tensor = tensor.to(device)\n",
        "  multi_dimensional_tensor = multi_dimensional_tensor.to(device)\n",
        "  print(f\"Tensors stored on: {tensor.device} and {multi_dimensional_tensor.device}\")"
      ]
    },
    {
      "cell_type": "code",
      "execution_count": 12,
      "metadata": {
        "colab": {
          "base_uri": "https://localhost:8080/"
        },
        "id": "wVrdwpA8W5QD",
        "outputId": "443c1832-0d58-4a2f-cb86-2094f932401d"
      },
      "outputs": [
        {
          "name": "stdout",
          "output_type": "stream",
          "text": [
            "tensor([1, 2, 3]) \n",
            "\n",
            "tensor(2) \n",
            "\n",
            "tensor([[1, 2],\n",
            "        [3, 4]]) \n",
            "\n",
            "tensor(4) \n",
            "\n",
            "tensor([2, 4]) \n",
            "\n",
            "tensor([3, 4]) \n",
            "\n"
          ]
        }
      ],
      "source": [
        "# Indexing and slicing\n",
        "\n",
        "print(tensor, \"\\n\")\n",
        "\n",
        "n = tensor[1]\n",
        "print(n, \"\\n\")\n",
        "\n",
        "print(multi_dimensional_tensor, \"\\n\")\n",
        "\n",
        "n = multi_dimensional_tensor[1,1]\n",
        "print(n, \"\\n\")\n",
        "\n",
        "n = multi_dimensional_tensor[:,1]\n",
        "print(n, \"\\n\")\n",
        "\n",
        "n = multi_dimensional_tensor[1,:]\n",
        "print(n, \"\\n\")"
      ]
    },
    {
      "cell_type": "code",
      "execution_count": 13,
      "metadata": {
        "colab": {
          "base_uri": "https://localhost:8080/"
        },
        "id": "oPZIwYMehwsu",
        "outputId": "b2900fa3-f172-48e6-b614-db0aed4020ab"
      },
      "outputs": [
        {
          "name": "stdout",
          "output_type": "stream",
          "text": [
            "tensor([[1, 2],\n",
            "        [3, 4]]) \n",
            "\n",
            "tensor([3, 4])\n",
            "tensor([0.1877, 0.2131, 0.1009, 0.1666]) \n",
            "\n",
            "torch.Size([4, 3]) \n",
            " tensor([[0.4705, 0.7633, 0.9667],\n",
            "        [0.6733, 0.1942, 0.4804],\n",
            "        [0.4002, 0.3804, 0.1156],\n",
            "        [0.4143, 0.6471, 0.9513]]) \n",
            "\n"
          ]
        }
      ],
      "source": [
        "# More advanced slicing\n",
        "\n",
        "print(multi_dimensional_tensor, \"\\n\")\n",
        "\n",
        "# slicing with ellipsis\n",
        "n = multi_dimensional_tensor[1, ...]\n",
        "print(n)\n",
        "\n",
        "# will this work?\n",
        "# try to guess...and then uncomment\n",
        "# n = multi_dimensional_tensor[..., 1, :, ...]\n",
        "\n",
        "# ranged slicing\n",
        "big_tensor = torch.rand(100)\n",
        "indexes = range(0, big_tensor.shape[0], 25)\n",
        "n = big_tensor[indexes]\n",
        "print(n, \"\\n\")\n",
        "\n",
        "# multidimensional ranged_slicing\n",
        "big_tensor = torch.rand(100, 90)\n",
        "indexes_a = range(0, big_tensor.shape[0], 25)\n",
        "indexes_b = range(0, big_tensor.shape[1], 30)\n",
        "n = big_tensor[indexes_a][:, indexes_b]\n",
        "print(n.shape, \"\\n\", n, \"\\n\")"
      ]
    },
    {
      "cell_type": "code",
      "execution_count": 14,
      "metadata": {
        "colab": {
          "base_uri": "https://localhost:8080/"
        },
        "id": "rgp47SC5iVT-",
        "outputId": "c8887829-a596-4304-8554-5b11dd150ae1"
      },
      "outputs": [
        {
          "name": "stdout",
          "output_type": "stream",
          "text": [
            "tensor([0., 0., 0., 0., 0., 0., 0., 0., 0., 0.]) \n",
            "\n",
            "tensor([5., 5., 5., 5., 5., 5., 5., 5., 5., 5.])\n"
          ]
        }
      ],
      "source": [
        "# In place operations\n",
        "\n",
        "# In place operations are marked with an underscore at the end\n",
        "# They require less memory but will cause issues with backpropagation\n",
        "# so their use is generally not recommended if you need gradients.\n",
        "\n",
        "tensor = torch.zeros(10)\n",
        "print(tensor, \"\\n\")\n",
        "tensor.add_(5)\n",
        "print(tensor)"
      ]
    },
    {
      "cell_type": "markdown",
      "metadata": {
        "id": "hmZP1mZid6P_"
      },
      "source": [
        "### Numpy bridging\n",
        "\n",
        "Tensors on the CPU and NumPy arrays can share their underlying memory locations, and changing one will change the other."
      ]
    },
    {
      "cell_type": "code",
      "execution_count": 15,
      "metadata": {
        "colab": {
          "base_uri": "https://localhost:8080/"
        },
        "collapsed": true,
        "id": "yBAbXE_genlk",
        "outputId": "2e3fead8-9e6c-4bab-e37d-3dd008671ef1"
      },
      "outputs": [
        {
          "name": "stdout",
          "output_type": "stream",
          "text": [
            "t: tensor([1., 1., 1., 1., 1.])\n",
            "n: [1. 1. 1. 1. 1.] \n",
            "\n",
            "t: tensor([2., 2., 2., 2., 2.])\n",
            "n: [2. 2. 2. 2. 2.] \n",
            "\n",
            "With cloning: \n",
            " t: tensor([1., 1., 1., 1., 1.])\n",
            "n: tensor([1., 1., 1., 1., 1.]) \n",
            "\n",
            "t: tensor([2., 2., 2., 2., 2.])\n",
            "n: tensor([1., 1., 1., 1., 1.])\n"
          ]
        }
      ],
      "source": [
        "t = torch.ones(5)\n",
        "print(f\"t: {t}\")\n",
        "n = t.numpy()\n",
        "print(f\"n: {n} \\n\")\n",
        "\n",
        "t.add_(1)\n",
        "print(f\"t: {t}\")\n",
        "print(f\"n: {n} \\n\")\n",
        "\n",
        "# the opposite is also true, i.e. when creating a tensor with torch.from_numpy\n",
        "# to avoid sharing memory between two variables, create a copy!\n",
        "# this is necessary if for instance you need to log something that\n",
        "# also is part of a gradient computation\n",
        "\n",
        "t = torch.ones(5)\n",
        "print(f\"With cloning: \\n t: {t}\")\n",
        "n = torch.from_numpy(t.clone().numpy()) #NOTE: fix add .cpu() if the tensors are on the GPU!\n",
        "print(f\"n: {n} \\n\")\n",
        "\n",
        "t.add_(1)\n",
        "print(f\"t: {t}\")\n",
        "print(f\"n: {n}\")\n"
      ]
    },
    {
      "cell_type": "markdown",
      "metadata": {
        "id": "xptkTurCgX3y"
      },
      "source": [
        "## A gentle introduction to automatic gradients\n",
        "\n",
        "Source: https://pytorch.org/tutorials/beginner/blitz/autograd_tutorial.html\n",
        "\n",
        "### What is autograd?\n",
        "\n",
        "<div>\n",
        "<img src=\"https://drive.google.com/uc?export=view&id=1-uEz6hkaeOl70KqDhnmpJmJKrXEfcsQf\" width=\"500\" height=\"450\">\n",
        "</div>\n",
        "\n",
        "Backpropagation is the process that we use to optimize neural networks.\n",
        "Doing it manually is very complex and would be unfeasible for very large networks.\n",
        "\n",
        "Luckily, torch's **autograd** implementation will handle most of the complexity for us!\n",
        "\n",
        "But what are we backpropagating through?\n",
        "\n",
        "<details>\n",
        "The computational graph!\n",
        "</details>\n",
        "\n"
      ]
    },
    {
      "cell_type": "markdown",
      "metadata": {
        "id": "JtcHF8lAlg73"
      },
      "source": [
        "### How does autograd work\n",
        "\n",
        "Conceptually, autograd keeps a record of data (tensors) & all executed operations (along with the resulting new tensors) in a directed acyclic graph (DAG) consisting of Function objects. This is called a **computation graph**.\n",
        "\n",
        "In this DAG, leaves are the input tensors, roots are the output tensors. By tracing this graph from roots to leaves, you can automatically compute the gradients using the chain rule.\n",
        "\n",
        "In a forward pass, autograd does two things simultaneously:\n",
        "\n",
        "  - run the requested operation to compute a resulting tensor, and\n",
        "\n",
        "  - maintain the operation’s gradient function in the DAG.\n",
        "\n",
        "The backward pass kicks off when .backward() is called on the DAG root. autograd then:\n",
        "\n",
        "  - computes the gradients from each .grad_fn (functions participating in the gradients computation),\n",
        "\n",
        "  - accumulates them in the respective tensor’s .grad attribute, and\n",
        "\n",
        "  - using the chain rule, propagates all the way to the leaf tensors.\n",
        "\n",
        "\n",
        "Let's see this in practice with a visual explanation, computing the DAG of the following expression: $Q = 3a^3 - b^2$. Assume that $a, b$ are two tensors, and that we want to compute their gradient w.r.t to $Q$.\n",
        "\n",
        "**NOTE**: In this example $Q$ is a vector resulting from the above expression. Most of the time, you'll deal with expressions that have a single scalar as output, such as a loss function.\n",
        "\n",
        "Below is a visual representation of the DAG of this expression. In the graph, the arrows are in the direction of the forward pass. The nodes represent the backward functions of each operation in the forward pass. The leaf nodes in blue represent our leaf tensors a and b.\n",
        "\n",
        "<div>\n",
        "<img src=\"https://pytorch.org/tutorials/_images/dag_autograd.png\" width=\"400\" height=\"400\"/>\n",
        "</div>\n",
        "\n"
      ]
    },
    {
      "cell_type": "code",
      "execution_count": 16,
      "metadata": {
        "id": "4PIX9nrtghPO"
      },
      "outputs": [],
      "source": [
        "device = \"cpu\" #this tutorial only works on cpu!\n",
        "\n",
        "# let's the elements of our expression\n",
        "\n",
        "a = torch.tensor([2., 3.], requires_grad=True)\n",
        "b = torch.tensor([6., 4.], requires_grad=True)\n",
        "\n",
        "# and compute it\n",
        "\n",
        "Q = 3*a**3 - b**2"
      ]
    },
    {
      "cell_type": "markdown",
      "metadata": {
        "id": "fbpk9pS4qyra"
      },
      "source": [
        "### Computing gradient manually\n",
        "\n",
        "Let's manually compute the gradient for this expression and see if it matches with autograd's computation:\n",
        "- for $a$ the $\\frac{\\partial Q }{\\partial a}$ is $9a^2$\n",
        "- for $b$ the $\\frac{\\partial Q }{\\partial b}$ is $-2b$.\n",
        "\n",
        "In this case, the gradient should be\n",
        "- $9 \\cdot [2,3]^2 = 9 \\cdot [4, 9] = [36, 81]$\n",
        "- $-2 \\cdot [6,4] = [-12, -8]$\n",
        "\n",
        "Let's verify it with code!"
      ]
    },
    {
      "cell_type": "code",
      "execution_count": 17,
      "metadata": {
        "colab": {
          "base_uri": "https://localhost:8080/"
        },
        "id": "ya4TtALPr1MW",
        "outputId": "594bb05c-423e-4334-b3fe-4a0c5547b2b8"
      },
      "outputs": [
        {
          "name": "stdout",
          "output_type": "stream",
          "text": [
            "grad can be implicitly created only for scalar outputs\n"
          ]
        }
      ],
      "source": [
        "try:\n",
        "  grad = Q.backward()\n",
        "except RuntimeError as rt:\n",
        "  print(rt)"
      ]
    },
    {
      "cell_type": "markdown",
      "metadata": {
        "id": "ft7uMlFsxnWH"
      },
      "source": [
        "Oops! Unless $Q$ is a scalar, we need to explicitly pass a gradient argument in `Q.backward()` because it is a vector. `gradient` is a tensor of the same shape as $Q$, and it represents the gradient of $Q$ w.r.t. itself, i.e. $\\frac{\\partial Q}{\\partial Q} = 1$"
      ]
    },
    {
      "cell_type": "code",
      "execution_count": 18,
      "metadata": {
        "colab": {
          "base_uri": "https://localhost:8080/"
        },
        "id": "32aUiEhdxGeh",
        "outputId": "b4e15d71-7bd5-4461-91a7-b5e387ae51ec"
      },
      "outputs": [
        {
          "name": "stdout",
          "output_type": "stream",
          "text": [
            "Gradient of Q w.r.t Q is tensor([1., 1.])\n"
          ]
        }
      ],
      "source": [
        "external_grad = torch.tensor([1. , 1.])\n",
        "Q.backward(gradient=external_grad)\n",
        "print(f\"Gradient of Q w.r.t Q is {external_grad}\")"
      ]
    },
    {
      "cell_type": "markdown",
      "metadata": {
        "id": "SsRUuVcDyi4U"
      },
      "source": [
        "We can now manually verify that the gradients of $a$ and $b$ match!"
      ]
    },
    {
      "cell_type": "code",
      "execution_count": 19,
      "metadata": {
        "colab": {
          "base_uri": "https://localhost:8080/"
        },
        "id": "j1jltW_gymEI",
        "outputId": "6fd680e7-f4af-4b63-9dc2-fcb8252d5707"
      },
      "outputs": [
        {
          "name": "stdout",
          "output_type": "stream",
          "text": [
            "tensor([36., 81.])\n",
            "tensor([True, True]) \n",
            "\n",
            "tensor([-12.,  -8.])\n",
            "tensor([True, True])\n"
          ]
        }
      ],
      "source": [
        "print(a.grad)\n",
        "print(a.grad == 9*a**2, \"\\n\")\n",
        "print(b.grad)\n",
        "print(b.grad == -2*b)"
      ]
    },
    {
      "cell_type": "markdown",
      "metadata": {
        "id": "OrSJLqd4zN7B"
      },
      "source": [
        "Mh...what if we called `backward()` on Q  a second time? What would happen?"
      ]
    },
    {
      "cell_type": "code",
      "execution_count": 20,
      "metadata": {
        "colab": {
          "base_uri": "https://localhost:8080/"
        },
        "id": "S3yvB7iJzNfS",
        "outputId": "595e92bc-ab35-4d26-8fb6-e2ad405692b3"
      },
      "outputs": [
        {
          "name": "stdout",
          "output_type": "stream",
          "text": [
            "Trying to backward through the graph a second time (or directly access saved tensors after they have already been freed). Saved intermediate values of the graph are freed when you call .backward() or autograd.grad(). Specify retain_graph=True if you need to backward through the graph a second time or if you need to access saved tensors after calling backward.\n"
          ]
        }
      ],
      "source": [
        "try:\n",
        "  Q.backward(gradient=external_grad)\n",
        "except RuntimeError as rt:\n",
        "  print(rt)\n"
      ]
    },
    {
      "cell_type": "markdown",
      "metadata": {
        "id": "ejM3sRgIy2NJ"
      },
      "source": [
        "### Dynamic DAG\n",
        "\n",
        "In pytorch the graph is recreated **from scratch**; after each .backward() call, autograd starts populating a new graph. This is exactly what allows you to use control flow statements in your model; you can change the shape, size and operations at every iteration if needed.\n",
        "\n",
        "In addition to that, saved intermediate values of the graph are freed when you call `.backward()` or `autograd.grad()`. Specify `retain_graph=True` if you need to backward through the graph a second time or if you need to access saved tensors after calling `backward()`."
      ]
    },
    {
      "cell_type": "markdown",
      "metadata": {
        "id": "uVKFH0zk0z8j"
      },
      "source": [
        "### Excluding elements from the DAG\n",
        "\n",
        "`torch.autograd` tracks operations on all tensors which have their `requires_grad` flag set to `True`. For tensors that don’t require gradients, setting this attribute to `False` excludes it from the gradient computation DAG.\n",
        "\n",
        "The output tensor of an operation will require gradients even if only a single input tensor has `requires_grad=True`\n",
        "\n",
        "You also have the option of using `with torch.no_grad()`, as everything under its scope will automatically disable gradient computation (even if `requires_grad=True` for some variables).\n",
        "\n",
        "But why would we want avoid tracking gradients?\n",
        "\n",
        "<details>\n",
        "  <ul>\n",
        "    <li>\"freeze\" part of a model, for example for finetuing just a classification layer;</li>\n",
        "    <li>reduce autograd's computations (although this is a lot more uncommon)</li>\n",
        "  </ul>\n",
        "</details>"
      ]
    },
    {
      "cell_type": "code",
      "execution_count": 21,
      "metadata": {
        "colab": {
          "base_uri": "https://localhost:8080/"
        },
        "id": "M7ksexUF1IG9",
        "outputId": "e67e6fdb-c855-4c5c-b016-060d3a041f96"
      },
      "outputs": [
        {
          "name": "stdout",
          "output_type": "stream",
          "text": [
            "Does `a` require gradients?: False\n",
            "Does `b` require gradients?: True\n"
          ]
        }
      ],
      "source": [
        "x = torch.rand(5, 5)\n",
        "y = torch.rand(5, 5)\n",
        "z = torch.rand((5, 5), requires_grad=True)\n",
        "\n",
        "a = x + y\n",
        "print(f\"Does `a` require gradients?: {a.requires_grad}\")\n",
        "b = x + z\n",
        "print(f\"Does `b` require gradients?: {b.requires_grad}\")"
      ]
    },
    {
      "cell_type": "markdown",
      "metadata": {
        "id": "UO5tKkwn2PdL"
      },
      "source": [
        "## Your first neural network\n",
        "\n",
        "<div>\n",
        "<img src=\"https://i.kym-cdn.com/entries/icons/original/000/039/408/cover10.jpg\" width=\"800\" height=\"400\"/>\n",
        "</div>\n",
        "\n",
        "\n",
        "### Creating a NN from scratch\n",
        "\n",
        "In this part of the notebook, we'll create a small neural network, similar to the one in this image:\n",
        "\n",
        "<div>\n",
        "<img src=\"https://pytorch.org/tutorials/_images/mnist.png\" width=\"800\" height=\"200\"/>\n",
        "</div>\n",
        "\n",
        "It is a simple feed-forward network. It takes the input, feeds it through several layers one after the other, and then finally gives the output.\n",
        "To create it, we'll leverage the `torch.nn`package."
      ]
    },
    {
      "cell_type": "markdown",
      "metadata": {
        "id": "9Dj8Rzk87BNF"
      },
      "source": [
        "### Network"
      ]
    },
    {
      "cell_type": "code",
      "execution_count": 22,
      "metadata": {
        "colab": {
          "base_uri": "https://localhost:8080/"
        },
        "id": "jh5ZJAs-5Odu",
        "outputId": "41fe592d-2593-4aa2-a074-f23ce68a7cfe"
      },
      "outputs": [
        {
          "name": "stdout",
          "output_type": "stream",
          "text": [
            "Net(\n",
            "  (conv1): Conv2d(3, 32, kernel_size=(5, 5), stride=(1, 1))\n",
            "  (conv2): Conv2d(32, 64, kernel_size=(5, 5), stride=(1, 1))\n",
            "  (fc1): Linear(in_features=1600, out_features=120, bias=True)\n",
            "  (fc2): Linear(in_features=120, out_features=84, bias=True)\n",
            "  (fc3): Linear(in_features=84, out_features=10, bias=True)\n",
            ")\n"
          ]
        }
      ],
      "source": [
        "# Define network\n",
        "\n",
        "# let's create our toy network\n",
        "# as with every base torch model\n",
        "# it will be an extension of the torch.nn.Module class\n",
        "# see doc here: https://pytorch.org/docs/stable/generated/torch.nn.Module.html\n",
        "\n",
        "# we'll have to define an __init__ function and the forward function as well\n",
        "\n",
        "import torch.nn as nn\n",
        "import torch.nn.functional as F\n",
        "\n",
        "\n",
        "class Net(nn.Module):\n",
        "\n",
        "    def __init__(self):\n",
        "        super(Net, self).__init__()\n",
        "        # 3 input image channel, 32 output channels, 5x5 square convolution\n",
        "        # kernel\n",
        "        self.conv1 = nn.Conv2d(3, 32, 5)\n",
        "        self.conv2 = nn.Conv2d(32, 64, 5)\n",
        "        # an affine operation: y = Wx + b\n",
        "        self.fc1 = nn.Linear(64 * 5 * 5, 120)  # 5*5 from image dimension\n",
        "        self.fc2 = nn.Linear(120, 84)\n",
        "        self.fc3 = nn.Linear(84, 10)\n",
        "\n",
        "    def forward(self, input):\n",
        "        # Convolution layer C1: 3 input image channel, 32 output channels,\n",
        "        # 5x5 square convolution, it uses RELU activation function, and\n",
        "        # outputs a Tensor with size (N, 32, 28, 28), where N is the size of the batch\n",
        "        c1 = F.relu(self.conv1(input))\n",
        "        # Subsampling layer S2: 2x2 grid, purely functional,\n",
        "        # this layer does not have any parameter, and outputs a (N, 32, 14, 14) Tensor\n",
        "        s2 = F.max_pool2d(c1, (2, 2))\n",
        "        # Convolution layer C3: 32 input channels, 64 output channels,\n",
        "        # 5x5 square convolution, it uses RELU activation function, and\n",
        "        # outputs a (N, 64, 10, 10) Tensor\n",
        "        c3 = F.relu(self.conv2(s2))\n",
        "        # Subsampling layer S4: 2x2 grid, purely functional,\n",
        "        # this layer does not have any parameter, and outputs a (N, 64, 5, 5) Tensor\n",
        "        s4 = F.max_pool2d(c3, 2)\n",
        "        # Flatten operation: purely functional, outputs a (N, 400) Tensor\n",
        "        s4 = torch.flatten(s4, 1)\n",
        "        # Fully connected layer F5: (N, 400) Tensor input,\n",
        "        # and outputs a (N, 120) Tensor, it uses RELU activation function\n",
        "        f5 = F.relu(self.fc1(s4))\n",
        "        # Fully connected layer F6: (N, 120) Tensor input,\n",
        "        # and outputs a (N, 84) Tensor, it uses RELU activation function\n",
        "        f6 = F.relu(self.fc2(f5))\n",
        "        # Gaussian layer OUTPUT: (N, 84) Tensor input, and\n",
        "        # outputs a (N, 10) Tensor\n",
        "        output = self.fc3(f6)\n",
        "        return output\n",
        "\n",
        "\n",
        "net = Net()\n",
        "print(net)"
      ]
    },
    {
      "cell_type": "code",
      "execution_count": 23,
      "metadata": {
        "colab": {
          "base_uri": "https://localhost:8080/"
        },
        "id": "Q_GVvQSZ54Hn",
        "outputId": "d683a446-266a-4f69-e0c7-8632967a3d96"
      },
      "outputs": [
        {
          "name": "stdout",
          "output_type": "stream",
          "text": [
            "conv1.weight torch.Size([32, 3, 5, 5]) \n",
            "\n",
            "conv1.bias torch.Size([32]) \n",
            "\n",
            "conv2.weight torch.Size([64, 32, 5, 5]) \n",
            "\n",
            "conv2.bias torch.Size([64]) \n",
            "\n",
            "fc1.weight torch.Size([120, 1600]) \n",
            "\n",
            "fc1.bias torch.Size([120]) \n",
            "\n",
            "fc2.weight torch.Size([84, 120]) \n",
            "\n",
            "fc2.bias torch.Size([84]) \n",
            "\n",
            "fc3.weight torch.Size([10, 84]) \n",
            "\n",
            "fc3.bias torch.Size([10]) \n",
            "\n",
            "Total number of trainable parameters: 256830 \n",
            "\n"
          ]
        }
      ],
      "source": [
        "# let's count how many trainable parameters we have\n",
        "\n",
        "count = 0\n",
        "for n, p in net.named_parameters():\n",
        "  print(n, p.shape, \"\\n\")\n",
        "  count += p.numel() if p.requires_grad else 0\n",
        "\n",
        "print(f\"Total number of trainable parameters: {count} \\n\")\n",
        "\n",
        "# to return the learnable parameters, we can use .parameters()\n",
        "# we'll see later how this comes in handy\n",
        "params = list(net.parameters())\n"
      ]
    },
    {
      "cell_type": "code",
      "execution_count": 24,
      "metadata": {
        "colab": {
          "base_uri": "https://localhost:8080/"
        },
        "id": "75NO-ONf7KOC",
        "outputId": "197b152e-a874-481e-b778-e783f31c8699"
      },
      "outputs": [
        {
          "name": "stdout",
          "output_type": "stream",
          "text": [
            "tensor([[ 0.0579,  0.0078, -0.0111,  0.0232, -0.0404,  0.0441,  0.0268,  0.0171,\n",
            "         -0.0346,  0.1015]], grad_fn=<AddmmBackward0>)\n"
          ]
        }
      ],
      "source": [
        "# finally, let's see our network in action!\n",
        "\n",
        "input = torch.rand(1, 3, 32, 32)\n",
        "out = net(input)\n",
        "print(out)"
      ]
    },
    {
      "cell_type": "markdown",
      "metadata": {
        "id": "wM-hyZU07Dze"
      },
      "source": [
        "### Loss function and optimizer\n",
        "\n",
        "Once we have our model, we'll have to define an appropriate **loss function** to train the network.\n",
        "\n",
        "We'll also have to define an **optimizer**, to tune the network's parameters w.r.t. our loss function, and feed the network `parameters()` to the it.\n",
        "\n",
        "We can pick both from torch's vast library:\n",
        "- loss functions at https://pytorch.org/docs/stable/nn.html#loss-functions\n",
        "- optimizers at https://pytorch.org/docs/stable/optim.html\n",
        "\n",
        "Since we are dealing with a classification problem, we'll choose:\n",
        "<details>\n",
        "  <ul>\n",
        "    <li> crossentropy as the loss function</li>\n",
        "    <li> adam as the optimizer</li>\n",
        "  </ul>\n",
        "</details>"
      ]
    },
    {
      "cell_type": "code",
      "execution_count": 25,
      "metadata": {
        "colab": {
          "base_uri": "https://localhost:8080/"
        },
        "id": "bmH7glOO6ER7",
        "outputId": "0d631107-2dec-4270-8317-ae697a8715c6"
      },
      "outputs": [
        {
          "name": "stdout",
          "output_type": "stream",
          "text": [
            "Loss function is CrossEntropyLoss() \n",
            " Optimizer is Adam (\n",
            "Parameter Group 0\n",
            "    amsgrad: False\n",
            "    betas: (0.9, 0.999)\n",
            "    capturable: False\n",
            "    differentiable: False\n",
            "    eps: 1e-08\n",
            "    foreach: None\n",
            "    fused: None\n",
            "    lr: 0.001\n",
            "    maximize: False\n",
            "    weight_decay: 0\n",
            ")\n"
          ]
        }
      ],
      "source": [
        "loss_fn = torch.nn.CrossEntropyLoss()\n",
        "optimizer = torch.optim.Adam(params=net.parameters(), lr=0.001) #many optimizers out there, but remember: start easy!\n",
        "\n",
        "print(f\"Loss function is {loss_fn} \\n Optimizer is {optimizer}\")"
      ]
    },
    {
      "cell_type": "markdown",
      "metadata": {
        "id": "OC-16YJUUeKF"
      },
      "source": [
        "### Gathering the data\n",
        "\n",
        "The dataset that we'll use to train our model is **CIFAR10**. It's a very popular dataset, comprising 10 classes of 3x32x32 images.\n",
        "\n",
        "While it's possible to download and create the dataset class from scratch, we can speed things up using the `torchvison` package. It includes most of the more popular datasets.\n",
        "\n",
        "In case you need to create and visualize a dataset from scratch, you can refer to this tutorial: https://pytorch.org/tutorials/beginner/basics/data_tutorial.html.\n",
        "\n",
        "We'll now load the dataset, and then apply the transforms from `torchvision.transforms` to normalize and convert the images into tensors. Note that `torchvision` datasets will save data as `pillow` images by default."
      ]
    },
    {
      "cell_type": "code",
      "execution_count": 41,
      "metadata": {
        "colab": {
          "base_uri": "https://localhost:8080/"
        },
        "id": "6wm7tEOOToSn",
        "outputId": "f7e47a01-4205-4f6e-8903-97d10f2ca953"
      },
      "outputs": [
        {
          "name": "stdout",
          "output_type": "stream",
          "text": [
            "Files already downloaded and verified\n",
            "Files already downloaded and verified\n"
          ]
        }
      ],
      "source": [
        "import torchvision\n",
        "import torchvision.transforms as T\n",
        "from torchvision.datasets import CIFAR10\n",
        "\n",
        "transforms = T.Compose([\n",
        "    T.RandomApply([\n",
        "        T.RandomGrayscale(p=0.25)\n",
        "    ]),\n",
        "    T.ToTensor(),\n",
        "    T.Normalize((0.5, 0.5, 0.5), (0.5, 0.5, 0.5))\n",
        "]) #use Compose to concatenate multiple transforms\n",
        "\n",
        "train_dataset = CIFAR10(root='./data', train=True, download=True, transform=transforms)\n",
        "test_dataset = CIFAR10(root='./data', train=False, download=True, transform=transforms)\n",
        "\n",
        "classes = ('plane', 'car', 'bird', 'cat',\n",
        "           'deer', 'dog', 'frog', 'horse', 'ship', 'truck')"
      ]
    },
    {
      "cell_type": "code",
      "execution_count": 42,
      "metadata": {
        "colab": {
          "base_uri": "https://localhost:8080/",
          "height": 203
        },
        "id": "uf2G85rwUedb",
        "outputId": "620f4e10-e27c-4793-be87-30afcda21624"
      },
      "outputs": [
        {
          "data": {
            "image/png": "[encoded data removed]",
            "text/plain": [
              "<Figure size 1200x400 with 1 Axes>"
            ]
          },
          "metadata": {},
          "output_type": "display_data"
        },
        {
          "name": "stdout",
          "output_type": "stream",
          "text": [
            "horse  cat    cat    car    bird   ship   plane  frog   \n"
          ]
        }
      ],
      "source": [
        "# to make loading data easier, we'll create a dataloader using\n",
        "# torch.utils.data.Dataloader\n",
        "\n",
        "batch_size = 512\n",
        "trainloader = torch.utils.data.DataLoader(train_dataset, batch_size=batch_size,\n",
        "                                          shuffle=True, num_workers=2)\n",
        "testloader = torch.utils.data.DataLoader(test_dataset, batch_size=batch_size,\n",
        "                                         shuffle=False, num_workers=2)\n",
        "\n",
        "# let's visualize our data\n",
        "import matplotlib.pyplot as plt\n",
        "import numpy as np\n",
        "plt.figure(figsize=(12,4))\n",
        "\n",
        "# functions to show an image\n",
        "def imshow(img):\n",
        "    img = img / 2 + 0.5     # unnormalize\n",
        "    npimg = img.numpy()\n",
        "    plt.imshow(np.transpose(npimg, (1, 2, 0)))\n",
        "    plt.show()\n",
        "\n",
        "\n",
        "# get some random training images\n",
        "dataiter = iter(trainloader)\n",
        "images, labels = next(dataiter)\n",
        "\n",
        "# show images\n",
        "imshow(torchvision.utils.make_grid(images[:8]))\n",
        "# print labels\n",
        "print(''.join(f'{classes[labels[j]]:5s}  ' for j in range(8)))\n"
      ]
    },
    {
      "cell_type": "markdown",
      "metadata": {
        "id": "vO8arDX3Rz1T"
      },
      "source": [
        "### Training loop\n",
        "\n",
        "Now that we have a model, an optimizer and some data that we can use to train it, let's define a training loop.\n",
        "\n",
        "A basic training loop is composed as follows: for each epoch, we'll iterate on each mini-batch and perform:\n",
        "- a forward pass on the data\n",
        "- the loss computation\n",
        "- backpropagation\n",
        "- **optional**: validation\n",
        "\n",
        "Before proceeding, we have to move everything to the GPU. Doing so will significantly speed up training."
      ]
    },
    {
      "cell_type": "code",
      "execution_count": 43,
      "metadata": {
        "colab": {
          "base_uri": "https://localhost:8080/"
        },
        "id": "l40QpC-DWqSN",
        "outputId": "2e061de8-e47a-4502-b3c3-615dd8eac427"
      },
      "outputs": [
        {
          "name": "stdout",
          "output_type": "stream",
          "text": [
            "Using cpu device\n",
            "Current epoch is 0 \n",
            "\n"
          ]
        },
        {
          "name": "stderr",
          "output_type": "stream",
          "text": [
            "100%|██████████| 98/98 [00:31<00:00,  3.16it/s]\n"
          ]
        },
        {
          "name": "stdout",
          "output_type": "stream",
          "text": [
            "Running loss for epoch 0 is 0.8293757949556623\n",
            "Current epoch is 1 \n",
            "\n"
          ]
        },
        {
          "name": "stderr",
          "output_type": "stream",
          "text": [
            "100%|██████████| 98/98 [00:30<00:00,  3.19it/s]\n"
          ]
        },
        {
          "name": "stdout",
          "output_type": "stream",
          "text": [
            "Running loss for epoch 1 is 0.8316246508335581\n",
            "Current epoch is 2 \n",
            "\n"
          ]
        },
        {
          "name": "stderr",
          "output_type": "stream",
          "text": [
            "100%|██████████| 98/98 [00:38<00:00,  2.56it/s]\n"
          ]
        },
        {
          "name": "stdout",
          "output_type": "stream",
          "text": [
            "Running loss for epoch 2 is 0.8275134958782975\n",
            "Current epoch is 3 \n",
            "\n"
          ]
        },
        {
          "name": "stderr",
          "output_type": "stream",
          "text": [
            "100%|██████████| 98/98 [00:30<00:00,  3.21it/s]\n"
          ]
        },
        {
          "name": "stdout",
          "output_type": "stream",
          "text": [
            "Running loss for epoch 3 is 0.827918429155739\n",
            "Current epoch is 4 \n",
            "\n"
          ]
        },
        {
          "name": "stderr",
          "output_type": "stream",
          "text": [
            "100%|██████████| 98/98 [00:34<00:00,  2.84it/s]\n"
          ]
        },
        {
          "name": "stdout",
          "output_type": "stream",
          "text": [
            "Running loss for epoch 4 is 0.8274822904139149\n",
            "Current epoch is 5 \n",
            "\n"
          ]
        },
        {
          "name": "stderr",
          "output_type": "stream",
          "text": [
            "100%|██████████| 98/98 [00:36<00:00,  2.70it/s]\n"
          ]
        },
        {
          "name": "stdout",
          "output_type": "stream",
          "text": [
            "Running loss for epoch 5 is 0.8279711081057178\n",
            "Current epoch is 6 \n",
            "\n"
          ]
        },
        {
          "name": "stderr",
          "output_type": "stream",
          "text": [
            "100%|██████████| 98/98 [00:37<00:00,  2.62it/s]\n"
          ]
        },
        {
          "name": "stdout",
          "output_type": "stream",
          "text": [
            "Running loss for epoch 6 is 0.8291060079117211\n",
            "Current epoch is 7 \n",
            "\n"
          ]
        },
        {
          "name": "stderr",
          "output_type": "stream",
          "text": [
            "100%|██████████| 98/98 [00:36<00:00,  2.71it/s]\n"
          ]
        },
        {
          "name": "stdout",
          "output_type": "stream",
          "text": [
            "Running loss for epoch 7 is 0.8286910391583735\n",
            "Current epoch is 8 \n",
            "\n"
          ]
        },
        {
          "name": "stderr",
          "output_type": "stream",
          "text": [
            "100%|██████████| 98/98 [00:36<00:00,  2.69it/s]\n"
          ]
        },
        {
          "name": "stdout",
          "output_type": "stream",
          "text": [
            "Running loss for epoch 8 is 0.830183387410884\n",
            "Current epoch is 9 \n",
            "\n"
          ]
        },
        {
          "name": "stderr",
          "output_type": "stream",
          "text": [
            "100%|██████████| 98/98 [00:33<00:00,  2.93it/s]"
          ]
        },
        {
          "name": "stdout",
          "output_type": "stream",
          "text": [
            "Running loss for epoch 9 is 0.829774050688257\n",
            "Finished Training\n"
          ]
        },
        {
          "name": "stderr",
          "output_type": "stream",
          "text": [
            "\n"
          ]
        }
      ],
      "source": [
        "from tqdm import tqdm\n",
        "\n",
        "device = \"cuda\" if torch.cuda.is_available() else \"cpu\"\n",
        "print(f\"Using {device} device\")\n",
        "\n",
        "# move model to GPU\n",
        "net.to(device)\n",
        "net.train() #switch to train mode\n",
        "\n",
        "num_epochs = 10\n",
        "for epoch in range(num_epochs):  # loop over the dataset multiple times\n",
        "  print(f\"Current epoch is {epoch} \\n\")\n",
        "  running_loss = 0.0\n",
        "  count = 0\n",
        "  for data in tqdm(trainloader, position=0, leave=True):\n",
        "    # get the inputs; data is a list of [inputs, labels]\n",
        "    inputs, labels = data\n",
        "\n",
        "    inputs = inputs.to(device) #move to GPU\n",
        "    labels = labels.to(device) #move to GPU\n",
        "\n",
        "    # zero the parameter gradients\n",
        "    optimizer.zero_grad()\n",
        "\n",
        "    # forward + backward + optimize\n",
        "    outputs = net(inputs)\n",
        "    loss = loss_fn(outputs, labels)\n",
        "    loss.backward()\n",
        "    optimizer.step()\n",
        "\n",
        "    # print statistics\n",
        "    running_loss += loss.item()\n",
        "    count+=1\n",
        "\n",
        "  print(f\"Running loss for epoch {epoch} is {running_loss / count}\")\n",
        "\n",
        "print('Finished Training')"
      ]
    },
    {
      "cell_type": "code",
      "execution_count": 44,
      "metadata": {
        "colab": {
          "base_uri": "https://localhost:8080/"
        },
        "id": "pVPyA7MhbMiX",
        "outputId": "738b0128-4c33-41d0-fbee-da968d85f270"
      },
      "outputs": [
        {
          "data": {
            "text/plain": [
              "Net(\n",
              "  (conv1): Conv2d(3, 32, kernel_size=(5, 5), stride=(1, 1))\n",
              "  (conv2): Conv2d(32, 64, kernel_size=(5, 5), stride=(1, 1))\n",
              "  (fc1): Linear(in_features=1600, out_features=120, bias=True)\n",
              "  (fc2): Linear(in_features=120, out_features=84, bias=True)\n",
              "  (fc3): Linear(in_features=84, out_features=10, bias=True)\n",
              ")"
            ]
          },
          "execution_count": 44,
          "metadata": {},
          "output_type": "execute_result"
        }
      ],
      "source": [
        "# let's save the model we just trained\n",
        "# and load it back again\n",
        "# this is just to show how to save and reload a model\n",
        "\n",
        "PATH = './cifar_net.pth'\n",
        "torch.save(net.state_dict(), PATH)\n",
        "\n",
        "net = Net()\n",
        "net.load_state_dict(torch.load(PATH, weights_only=True))\n",
        "net.eval() #switch to eval mode"
      ]
    },
    {
      "cell_type": "markdown",
      "metadata": {
        "id": "Sf0sxjDbbe-d"
      },
      "source": [
        "### Testing the model\n",
        "\n",
        "We can finally test the model we just trained on the test dataset. We'll inspect performance on the whole test set and also on each class, to identify the ones where the network has struggled."
      ]
    },
    {
      "cell_type": "code",
      "execution_count": 45,
      "metadata": {
        "colab": {
          "base_uri": "https://localhost:8080/"
        },
        "id": "p7DqPeGTbnRH",
        "outputId": "65e89382-81a8-4df3-aa28-f2296ec9a0f8"
      },
      "outputs": [
        {
          "name": "stdout",
          "output_type": "stream",
          "text": [
            "Accuracy of the network on the 10000 test images: 66 %\n"
          ]
        }
      ],
      "source": [
        "correct = 0\n",
        "total = 0\n",
        "# since we're not training, we don't need to calculate the gradients for our outputs\n",
        "with torch.no_grad():\n",
        "    for data in testloader:\n",
        "        images, labels = data\n",
        "        # calculate outputs by running images through the network\n",
        "        outputs = net(images)\n",
        "        # the class with the highest probability is what we choose as prediction\n",
        "        _, predicted = torch.max(outputs.data, 1)\n",
        "        total += labels.size(0)\n",
        "        correct += (predicted == labels).sum().item()\n",
        "\n",
        "print(f'Accuracy of the network on the 10000 test images: {100 * correct // total} %')"
      ]
    },
    {
      "cell_type": "code",
      "execution_count": 46,
      "metadata": {
        "colab": {
          "base_uri": "https://localhost:8080/"
        },
        "id": "p2n4NbjAcDtc",
        "outputId": "034ef318-d7db-415a-d6c5-1f299b3d80f7"
      },
      "outputs": [
        {
          "name": "stdout",
          "output_type": "stream",
          "text": [
            "Accuracy for class: plane is 72.6 %\n",
            "Accuracy for class: car   is 84.9 %\n",
            "Accuracy for class: bird  is 46.3 %\n",
            "Accuracy for class: cat   is 42.0 %\n",
            "Accuracy for class: deer  is 59.0 %\n",
            "Accuracy for class: dog   is 67.5 %\n",
            "Accuracy for class: frog  is 78.8 %\n",
            "Accuracy for class: horse is 77.6 %\n",
            "Accuracy for class: ship  is 65.8 %\n",
            "Accuracy for class: truck is 73.5 %\n"
          ]
        }
      ],
      "source": [
        "# prepare to count predictions for each class\n",
        "correct_pred = {classname: 0 for classname in classes}\n",
        "total_pred = {classname: 0 for classname in classes}\n",
        "\n",
        "# again no gradients needed\n",
        "with torch.no_grad():\n",
        "    for data in testloader:\n",
        "        images, labels = data\n",
        "        outputs = net(images)\n",
        "        _, predictions = torch.max(outputs, 1)\n",
        "        # collect the correct predictions for each class\n",
        "        for label, prediction in zip(labels, predictions):\n",
        "            if label == prediction:\n",
        "                correct_pred[classes[label]] += 1\n",
        "            total_pred[classes[label]] += 1\n",
        "\n",
        "\n",
        "# print accuracy for each class\n",
        "for classname, correct_count in correct_pred.items():\n",
        "    accuracy = 100 * float(correct_count) / total_pred[classname]\n",
        "    print(f'Accuracy for class: {classname:5s} is {accuracy:.1f} %')"
      ]
    },
    {
      "cell_type": "markdown",
      "metadata": {
        "id": "MEv9ghIjeQQ-"
      },
      "source": [
        "## Congratulations!\n",
        "\n",
        "You just trained your very first basic network! In the next lab, we'll go through some more advanced topics, inlcuding loggin, automatic training/validation/testing, using SOTA models and the very basics of model tuning.\n",
        "\n",
        "<div>\n",
        "<img src=\"https://drive.google.com/uc?export=view&id=12bo7doNOi1MQKy6G0u13b7lBVKVfL8w1\" width=\"500\" height=\"450\">\n",
        "</div>\n",
        "\n",
        "<small> (Yes, generative models still struggle with text) </small>\n",
        "\n",
        "<small> If you need anything else, feel free to shot me an email at:\n",
        "gioia@diag.uniroma1.it with the prefix [AML]. </small>\n"
      ]
    }
  ],
  "metadata": {
    "accelerator": "GPU",
    "colab": {
      "collapsed_sections": [
        "KuomydktArWz",
        "xptkTurCgX3y"
      ],
      "gpuType": "T4",
      "provenance": [],
      "toc_visible": true
    },
    "kernelspec": {
      "display_name": "Python 3",
      "name": "python3"
    },
    "language_info": {
      "codemirror_mode": {
        "name": "ipython",
        "version": 3
      },
      "file_extension": ".py",
      "mimetype": "text/x-python",
      "name": "python",
      "nbconvert_exporter": "python",
      "pygments_lexer": "ipython3",
      "version": "3.10.13"
    }
  },
  "nbformat": 4,
  "nbformat_minor": 0
}
