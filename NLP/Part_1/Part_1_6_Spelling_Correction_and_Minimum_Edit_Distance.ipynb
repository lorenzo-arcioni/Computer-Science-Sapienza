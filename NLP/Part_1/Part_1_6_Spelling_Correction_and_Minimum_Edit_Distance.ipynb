{
 "cells": [
  {
   "cell_type": "markdown",
   "metadata": {},
   "source": [
    "<img src='https://www.di.uniroma1.it/sites/all/themes/sapienza_bootstrap/logo.png' width=\"200\"/> \n",
    "\n",
    "# **Part_1_6_Spelling Correction and Minimum Edit Distance**\n",
    "\n",
    "In Natural Language Processing (NLP), spelling correction is a critical step in ensuring accurate text analysis and user experience, especially in applications like search engines, chatbots, and automated text editors. Spelling correction relies on calculating word similarity, where **Minimum Edit Distance** is an essential technique. By determining the minimum number of edits required to transform one word into another, this technique allows us to identify the closest match for a misspelled word from a list of known words.\n",
    "\n",
    "Using the **NLTK library**, specifically the `nltk.metrics.distance` module, we can compute edit distances efficiently, making it easy to implement a spelling corrector without needing to manually build the algorithm from scratch. This tutorial guides you through understanding and implementing minimum edit distance with NLTK, creating a basic spelling corrector, and testing its performance with real examples.\n",
    "\n",
    "\n",
    "\n",
    "### **Objectives:**\n",
    "\n",
    "\n",
    "By the end of this notebook, Parham will have a thorough understanding of **Minimum Edit Distance** and how it applies to word similarity in spelling correction. He will learn to use **NLTK’s `edit_distance` function** to calculate the minimum number of edits between two words, which serves as the foundation for identifying and ranking correction candidates for misspelled words. Finally, through implementing a basic spelling corrector, Parham will gain hands-on experience in generating possible corrections and selecting the most likely match based on edit distance.\n",
    "\n",
    "### **References**: \n",
    "- [https://stanford.edu/~jurafsky/slp3/slides/2_EditDistance_2023.pdf](https://stanford.edu/~jurafsky/slp3/slides/2_EditDistance_2023.pdf)\n",
    "- [https://en.wikipedia.org/wiki/Levenshtein_distance](https://en.wikipedia.org/wiki/Levenshtein_distance)\n",
    "- [https://github.com/athlohangade/minimum-edit-distance](https://github.com/athlohangade/minimum-edit-distance)\n",
    "\n",
    "### **Tutors**:\n",
    "- Professor Stefano Farali\n",
    "    - <img src=\"https://upload.wikimedia.org/wikipedia/commons/7/7e/Gmail_icon_%282020%29.svg\" alt=\"Logo\" width=\"20\" height=\"20\"> **Email**: Stefano.faralli@uniroma1.it\n",
    "    - <img src=\"https://www.iconsdb.com/icons/preview/red/linkedin-6-xxl.png\" alt=\"Logo\" width=\"20\" height=\"20\"> **LinkedIn**: [LinkedIn](https://www.linkedin.com/in/stefano-faralli-b1183920/) \n",
    "- Professor Iacopo Masi\n",
    "    - <img src=\"https://upload.wikimedia.org/wikipedia/commons/7/7e/Gmail_icon_%282020%29.svg\" alt=\"Logo\" width=\"20\" height=\"20\"> **Email**: masi@di.uniroma1.it  \n",
    "    - <img src=\"https://www.iconsdb.com/icons/preview/red/linkedin-6-xxl.png\" alt=\"Logo\" width=\"20\" height=\"20\"> **LinkedIn**: [LinkedIn](https://www.linkedin.com/in/iacopomasi/)  \n",
    "    - <img src=\"https://upload.wikimedia.org/wikipedia/commons/a/ae/Github-desktop-logo-symbol.svg\" alt=\"Logo\" width=\"20\" height=\"20\"> **GitHub**: [GitHub](https://github.com/iacopomasi)  \n",
    "    \n",
    "### **Contributors**:\n",
    "- Parham Membari\n",
    "    - <img src=\"https://upload.wikimedia.org/wikipedia/commons/7/7e/Gmail_icon_%282020%29.svg\" alt=\"Logo\" width=\"20\" height=\"20\"> **Email**: p.membari96@gmail.com\n",
    "    - <img src=\"https://www.iconsdb.com/icons/preview/red/linkedin-6-xxl.png\" alt=\"Logo\" width=\"20\" height=\"20\"> **LinkedIn**: [LinkedIn](https://www.linkedin.com/in/p-mem/)\n",
    "    - <img src=\"https://upload.wikimedia.org/wikipedia/commons/a/ae/Github-desktop-logo-symbol.svg\" alt=\"Logo\" width=\"20\" height=\"20\"> **GitHub**:  [GitHub](https://github.com/parham075)\n",
    "    - <img src=\"https://upload.wikimedia.org/wikipedia/commons/e/ec/Medium_logo_Monogram.svg\" alt=\"Logo\" width=\"20\" height=\"20\"> **Medium**: [Medium](https://medium.com/@p.membari96)\n",
    "    \n",
    "### **Table of Contents:**\n",
    "1. Import Libraries\n",
    "2. Minimum Edit Distance with NLTK\n",
    "3. Building a Simple Spelling Corrector\n",
    "4. Closing Thoughts"
   ]
  },
  {
   "cell_type": "markdown",
   "metadata": {},
   "source": [
    "## 1. Import Libraries"
   ]
  },
  {
   "cell_type": "code",
   "execution_count": null,
   "metadata": {},
   "outputs": [],
   "source": [
    "import os\n",
    "import nltk\n",
    "from nltk.metrics import distance\n",
    "from loguru import logger \n",
    "import matplotlib.pyplot as plt\n",
    "import numpy as np \n",
    "from nltk.util import ngrams\n",
    "from collections import Counter \n",
    "from nltk.corpus import words\n",
    "import pandas as pd"
   ]
  },
  {
   "cell_type": "markdown",
   "metadata": {},
   "source": [
    "## 2. Minimum Edit Distance with NLTK"
   ]
  },
  {
   "cell_type": "markdown",
   "metadata": {},
   "source": [
    "Minimum Edit Distance is a key concept in Natural Language Processing (NLP) used to measure how dissimilar two strings are by calculating the minimum number of operations required to transform one string into another. These operations typically include insertion, deletion, and substitution of characters. In this section, we will explore how to compute the edit distance using the **NLTK** library's `nltk.metrics.distance` module.\n",
    "\n",
    "#### **2.1 Distance Metrics**\n",
    "\n",
    "In mathematical terms, a distance metric `d` must satisfy three fundamental properties for it to be a valid measure of distance:\n",
    "\n",
    "1. **Identity**: The distance between two identical items is zero. \n",
    "$$d(a, a) = 0$$  \n",
    "\n",
    "2. **Non-negativity**: The distance between two different items is always greater than or equal to zero. \n",
    "$$d(a, b) \\geq 0$$  \n",
    "\n",
    "3. **Triangle Inequality**: The distance between two items cannot exceed the sum of the distances between them through a third item. \n",
    "$$d(a, c) \\leq d(a, b) + d(b, c)$$ \n",
    "\n",
    "These properties ensure that distance metrics behave in a consistent and predictable manner."
   ]
  },
  {
   "cell_type": "markdown",
   "metadata": {},
   "source": [
    "#### **2.2 NLTK Metrics Overview**\n",
    "\n",
    "The `nltk.metrics.distance` module provides various functions to compute different types of distances. Below are some of the key functions available in this module:\n",
    "\n",
    "#### Binary Distance: \n",
    "A simple equality test that returns `0.0` if two labels are identical and `1.0` if they are different.\n",
    "\n",
    "\n"
   ]
  },
  {
   "cell_type": "code",
   "execution_count": 3,
   "metadata": {},
   "outputs": [
    {
     "data": {
      "text/plain": [
       "(0.0, 1.0)"
      ]
     },
     "execution_count": 3,
     "metadata": {},
     "output_type": "execute_result"
    }
   ],
   "source": [
    "def binary_distance(label1, label2):\n",
    "    \"\"\"Simple equality test.\n",
    "    0.0 if the labels are identical, 1.0 if they are different.\n",
    "    \"\"\"\n",
    "    return 0.0 if label1 == label2 else 1.0\n",
    "binary_distance(1,1), binary_distance(3,15)"
   ]
  },
  {
   "cell_type": "markdown",
   "metadata": {},
   "source": [
    "using nltk:"
   ]
  },
  {
   "cell_type": "code",
   "execution_count": 4,
   "metadata": {},
   "outputs": [
    {
     "data": {
      "text/plain": [
       "(0.0, 1.0)"
      ]
     },
     "execution_count": 4,
     "metadata": {},
     "output_type": "execute_result"
    }
   ],
   "source": [
    "d1 = distance.binary_distance(1,1)\n",
    "d2 = distance.binary_distance(3,15)\n",
    "d1 , d2"
   ]
  },
  {
   "cell_type": "markdown",
   "metadata": {},
   "source": [
    "#### Edit Distance: \n",
    "The minimum edit distance is calculated based on three primary operations:\n",
    "\n",
    "- **Insertion**: Adding a character to the string.\n",
    "- **Deletion**: Removing a character from the string.\n",
    "- **Substitution**: Replacing one character with another.\n",
    "\n",
    "For example, transforming the word \"kitten\" to \"sitting\" requires:\n",
    "\n",
    "1. Substitute `k` with `s` → sitten\n",
    "2. Substitute `e` with `i` → sittin\n",
    "3. Insert `g` at the end → sitting\n",
    "\n",
    "\n",
    "\n",
    "**How Edit Distance works in NLTK**\n",
    "\n",
    "The `edit_distance` function in NLTK computes the `Levenshtein distance` between two strings. The `Levenshtein distance` measures how dissimilar two strings are by calculating the minimum number of single-character edits required to change one string into the other. These edits can be insertions, deletions, or substitutions.\n",
    "\n",
    "The edit distance algorithm uses dynamic programming to build a matrix that represents the costs of converting the first string into the second string. Here’s how it works step-by-step:\n",
    "\n",
    "1. **Matrix Initialization**:\n",
    "   - Create a matrix (2D array) with dimensions $$(m+1) \\times (n+1)$$\n",
    "    where `m` is the length of the first string and `n` is the length of the second string.\n",
    "\n",
    "   - Initialize the first row and the first column:\n",
    "     - The first row represents the cost of converting an empty string to the second string (which involves `n` insertions).\n",
    "     - The first column represents the cost of converting the first string to an empty string (which involves `m` deletions).\n",
    "\n",
    "2. **Filling the Matrix**:\n",
    "\n",
    "   - Iterate through each character of both strings.\n",
    "   - For each character, calculate the cost of insertion, deletion, and substitution, and fill the matrix with the minimum cost for each combination of characters.\n",
    "   - The formula to fill in the matrix is:\n",
    "    \n",
    "$$\n",
    "D(i, j) = \\min \n",
    "\\begin{cases} \n",
    "    D(i-1, j) + 1 & \\text{(deletion)} \\\\\n",
    "    D(i, j-1) + 1 & \\text{(insertion)} \\\\\n",
    "    D(i-1, j-1) + \n",
    "    \\begin{cases}\n",
    "       1 & \\text{; } & \\quad \\text{if } S_1(i) \\neq S_2(j) \\\\\n",
    "       0 & \\text{; } & \\quad \\text{if } S_1(i) = S_2(j)\n",
    "    \\end{cases} & \\text{(substitution)}\n",
    "\\end{cases}\n",
    "$$\n",
    "\n",
    "\n",
    "\n",
    "\n",
    "   - Here, the cost is 0 if the characters are the same and 1 if they are different.\n",
    "\n",
    "3. **Retrieve the Result**:\n",
    "   - The bottom-right cell of the matrix contains the edit distance between the two strings, which represents the minimum number of edits required to convert the first string into the second.\n",
    "\n",
    "#### **2. Parameters of the `edit_distance` Function**\n",
    "\n",
    "The `edit_distance` function allows for several optional parameters:\n",
    "\n",
    "- **`s1` (str)**: The first string to compare.\n",
    "- **`s2` (str)**: The second string to compare.\n",
    "- **`substitution_cost` (int)**: The cost of a substitution operation. By default, this is set to 1. You can change this if you want to assign different penalties for certain substitutions.\n",
    "- **`transpositions` (bool)**: A boolean flag indicating whether to allow transposition edits (swapping adjacent characters). This is disabled by default.\n",
    "\n",
    "> Note: For more information please check [Levenshtein distance](https://en.wikipedia.org/wiki/Levenshtein_distance) \n"
   ]
  },
  {
   "cell_type": "code",
   "execution_count": 29,
   "metadata": {},
   "outputs": [],
   "source": [
    "def calculate_edit_distance_with_matrix(s1, s2):\n",
    "    m, n = len(s1), len(s2)\n",
    "    \n",
    "    # Initialize the distance matrix\n",
    "    D = np.zeros((m + 1, n + 1), dtype=int)\n",
    "    \n",
    "    # Fill the first row and first column\n",
    "    for i in range(1, m + 1):\n",
    "        D[i][0] = i  # Cost of deletion\n",
    "    for j in range(1, n + 1):\n",
    "        D[0][j] = j  # Cost of insertion\n",
    "\n",
    "    # Compute the edit distance and fill the matrix\n",
    "    for i in range(1, m + 1):\n",
    "        for j in range(1, n + 1):\n",
    "            # Calculate substitution cost based on character match\n",
    "            substitution_cost = 0 if s1[i - 1] == s2[j - 1] else 1\n",
    "            \n",
    "            D[i][j] = min(\n",
    "                D[i - 1][j] + 1,         # Deletion\n",
    "                D[i][j - 1] + 1,         # Insertion\n",
    "                D[i - 1][j - 1] + substitution_cost  # Substitution\n",
    "            )\n",
    "\n",
    "    return D\n",
    "\n",
    "\n",
    "\n",
    "def visualize_distance_matrix(matrix, s1, s2, title = \"Edit Distance Matrix\"):\n",
    "    plt.figure(figsize=(10, 6))\n",
    "    plt.imshow(matrix, interpolation=None)\n",
    "    plt.colorbar()\n",
    "    \n",
    "    plt.xticks(np.arange(len(s2) + 1), [''] + list(s2))\n",
    "    plt.yticks(np.arange(len(s1) + 1), [''] + list(s1))\n",
    "    \n",
    "    for (i, j), val in np.ndenumerate(matrix):\n",
    "        plt.text(j, i, f'{val}', ha='center', va='center', color='white')\n",
    "    \n",
    "    plt.title(title)\n",
    "    plt.xlabel('String 2')\n",
    "    plt.ylabel('String 1')\n",
    "    plt.grid(False)\n",
    "    plt.show()\n",
    "\n"
   ]
  },
  {
   "cell_type": "code",
   "execution_count": 30,
   "metadata": {},
   "outputs": [
    {
     "data": {
      "image/png": "[encoded data removed]",
      "text/plain": [
       "<Figure size 1000x600 with 2 Axes>"
      ]
     },
     "metadata": {},
     "output_type": "display_data"
    },
    {
     "name": "stderr",
     "output_type": "stream",
     "text": [
      "\u001b[32m2024-11-03 17:57:09.119\u001b[0m | \u001b[1mINFO    \u001b[0m | \u001b[36m__main__\u001b[0m:\u001b[36m<module>\u001b[0m:\u001b[36m15\u001b[0m - \u001b[1mThe Levenshtein distance between \u001b[94mAmazing, Incredible\u001b[0m is: 9\u001b[0m\n"
     ]
    }
   ],
   "source": [
    "# Define the two strings\n",
    "s1 = \"Amazing\"\n",
    "s2 = \"Incredible\"\n",
    "\n",
    "# Calculate the edit distance matrix\n",
    "distance_matrix = calculate_edit_distance_with_matrix(s1, s2)\n",
    "\n",
    "# Visualize the distance matrix\n",
    "visualize_distance_matrix(distance_matrix, s1, s2)\n",
    "\n",
    "# Output the final edit distance\n",
    "final_distance = distance_matrix[-1][-1]\n",
    "blue_color = \"\\033[94m\"\n",
    "reset_color = \"\\033[0m\"\n",
    "logger.info(f'The Levenshtein distance between {blue_color}{s1}, {s2}{reset_color} is: {final_distance}')\n"
   ]
  },
  {
   "cell_type": "markdown",
   "metadata": {},
   "source": [
    "**Exercise**: Calculate  The `Levenshtein distance` using `nltk.metrics.distance.edit_distance`"
   ]
  },
  {
   "cell_type": "code",
   "execution_count": null,
   "metadata": {},
   "outputs": [],
   "source": [
    "# @title 🧑🏿‍💻 Your code here"
   ]
  },
  {
   "cell_type": "code",
   "execution_count": null,
   "metadata": {},
   "outputs": [
    {
     "name": "stderr",
     "output_type": "stream",
     "text": [
      "\u001b[32m2024-11-03 18:14:36.815\u001b[0m | \u001b[1mINFO    \u001b[0m | \u001b[36m__main__\u001b[0m:\u001b[36m<module>\u001b[0m:\u001b[36m4\u001b[0m - \u001b[1mThe Levenshtein distance between \u001b[94mAmazing, Incredible\u001b[0m is: 9\u001b[0m\n"
     ]
    }
   ],
   "source": [
    "# @title 👀 Solution\n",
    "blue_color = \"\\033[94m\"\n",
    "reset_color = \"\\033[0m\"\n",
    "logger.info(f'The Levenshtein distance between {blue_color}{s1}, {s2}{reset_color} is: {distance.edit_distance(s1,s2,transpositions=False)}')\n"
   ]
  },
  {
   "cell_type": "markdown",
   "metadata": {},
   "source": [
    "To calculate the minimum `Levenshtein` edit-distance based alignment mapping between two strings. The alignment finds the mapping from string `s1` to `s2` that minimizes the edit distance cost. \n",
    "\n",
    "For example, mapping `rain` to `shine` would involve 2 substitutions, 2 matches and an insertion resulting in the following mapping: \n",
    "\n",
    "mapping: [(0, 0), (1, 1), (2, 2), (3, 3), (4, 4), (4, 5)] \n",
    "\n",
    "`NB`: (0, 0) is the start state without any letters associated\n",
    "\n",
    "In case of multiple valid minimum-distance alignments, the backtrace has the following operation precedence:\n",
    "\n",
    "- Substitute s1 and s2 characters\n",
    "\n",
    "- Skip s1 character\n",
    "\n",
    "- Skip s2 character\n",
    "\n",
    "The backtrace is carried out in reverse string order."
   ]
  },
  {
   "cell_type": "code",
   "execution_count": 51,
   "metadata": {},
   "outputs": [
    {
     "data": {
      "text/plain": [
       "[(0, 0),\n",
       " (0, 1),\n",
       " (0, 2),\n",
       " (1, 3),\n",
       " (2, 4),\n",
       " (3, 5),\n",
       " (4, 6),\n",
       " (5, 7),\n",
       " (5, 8),\n",
       " (6, 9),\n",
       " (7, 10)]"
      ]
     },
     "execution_count": 51,
     "metadata": {},
     "output_type": "execute_result"
    }
   ],
   "source": [
    "distance.edit_distance_align(s1, s2, substitution_cost=1)"
   ]
  },
  {
   "cell_type": "markdown",
   "metadata": {},
   "source": [
    "**Jaccard Distance**: \n",
    "\n",
    "Jaccard Distance measures the dissimilarity between two sets. To implement this using nltk, you can create sets of tokens from the strings and then calculate the Jaccard distance."
   ]
  },
  {
   "cell_type": "code",
   "execution_count": null,
   "metadata": {},
   "outputs": [
    {
     "name": "stdout",
     "output_type": "stream",
     "text": [
      "Jaccard Distance between 'hello' and 'hellow': 0.3333333333333333\n"
     ]
    }
   ],
   "source": [
    "\n",
    "def jaccard_distance_example(str1, str2):\n",
    "    \"\"\"\n",
    "    Calculate the Jaccard distance between two strings.\n",
    "    This converts the strings into sets of bigrams (or n-grams).\n",
    "    \"\"\"\n",
    "    # Create ngrams \n",
    "    set1 = set(ngrams(str1, 4))\n",
    "    set2 = set(ngrams(str2, 4))\n",
    "    \n",
    "    return distance.jaccard_distance(set1, set2)\n",
    "\n",
    "string_a = \"hello\"\n",
    "string_b = \"hellow\"\n",
    "DISTANCE = jaccard_distance_example(string_a, string_b)\n",
    "print(f\"Jaccard Distance between '{string_a}' and '{string_b}':\", DISTANCE)\n",
    "\n"
   ]
  },
  {
   "cell_type": "markdown",
   "metadata": {},
   "source": [
    "**Jaro Similarity**\n",
    "\n",
    "**Jaro Similarity** is a metric used to measure the similarity between two sequences, typically strings. It is especially useful in applications like name matching, where slight variations may occur. The Jaro similarity is defined as:\n",
    "\n",
    "$$\n",
    "\\text{Jaro Similarity} = \\begin{cases} \\frac{1}{3} \\left( \\frac{m}{|s_1|} + \\frac{m}{s_2} + \\frac{m-t}{m} \\right) \\\\\n",
    "0 \\text{;} &  \\text{if} & m = 0 \\end{cases}\n",
    "$$\n",
    "\n",
    "where\n",
    "- |s_i| is the length of string s_i\n",
    "- m is the number of matching characters\n",
    "- t is the half number of possible transpositions."
   ]
  },
  {
   "cell_type": "code",
   "execution_count": 99,
   "metadata": {},
   "outputs": [
    {
     "data": {
      "text/plain": [
       "0.32857142857142857"
      ]
     },
     "execution_count": 99,
     "metadata": {},
     "output_type": "execute_result"
    }
   ],
   "source": [
    "distance.jaro_similarity(s1, s2)"
   ]
  },
  {
   "cell_type": "markdown",
   "metadata": {},
   "source": [
    "**Exercise**: Implement `jaro_similarity` which was calculated in the previous cell out of the `nltk` library."
   ]
  },
  {
   "cell_type": "code",
   "execution_count": null,
   "metadata": {},
   "outputs": [],
   "source": [
    "# @title 🧑🏿‍💻 Your code here"
   ]
  },
  {
   "cell_type": "code",
   "execution_count": null,
   "metadata": {},
   "outputs": [
    {
     "name": "stdout",
     "output_type": "stream",
     "text": [
      "Jaro Similarity between 'Amazing' and 'Incredible': 0.3286\n"
     ]
    }
   ],
   "source": [
    "# @title 👀 Solution\n",
    "\n",
    "def jaro_similarity(s1, s2):\n",
    "        \n",
    "    len_s1 = len(s1)\n",
    "    len_s2 = len(s2)\n",
    "\n",
    "    # If both strings are empty, return a similarity of 1.0\n",
    "    if len_s1 == 0 and len_s2 == 0:\n",
    "        return 1.0\n",
    "\n",
    "    # Calculate the maximum allowable match distance\n",
    "    match_distance = (max(len_s1, len_s2) // 2) - 1\n",
    "\n",
    "    # Initialize match tracking variables\n",
    "    matches = 0\n",
    "    s1_matches = [False] * len_s1\n",
    "    s2_matches = [False] * len_s2\n",
    "\n",
    "    # Count matches between the two strings\n",
    "    for i in range(len_s1):\n",
    "        for j in range(max(0, i - match_distance), min(len_s2, i + match_distance + 1)):\n",
    "            if s1[i] == s2[j] and not s2_matches[j]:\n",
    "                s1_matches[i] = True\n",
    "                s2_matches[j] = True\n",
    "                matches += 1\n",
    "                break\n",
    "\n",
    "    # If no matches were found, the Jaro similarity is 0.0\n",
    "    if matches == 0:\n",
    "        return 0.0\n",
    "\n",
    "    # Count the number of transpositions\n",
    "    transpositions = 0\n",
    "    point = 0\n",
    "    for i in range(len_s1):\n",
    "        if s1_matches[i]:\n",
    "            while not s2_matches[point]:\n",
    "                point += 1\n",
    "            if s1[i] != s2[point]:\n",
    "                transpositions += 1\n",
    "            point += 1\n",
    "\n",
    "    # Calculate the final Jaro similarity score\n",
    "    transpositions //= 2  # Each transposition is counted twice\n",
    "    jaro_sim = (matches / len_s1 + matches / len_s2 + (matches - transpositions) / matches) / 3\n",
    "    return jaro_sim\n",
    "\n",
    "# Example usage\n",
    "similarity = jaro_similarity(s1, s2)\n",
    "print(f\"Jaro Similarity between '{s1}' and '{s2}': {similarity:.4f}\")\n",
    " \n"
   ]
  },
  {
   "cell_type": "markdown",
   "metadata": {},
   "source": [
    "**Jaro Winkler distance** \n",
    "\n",
    "The Jaro Winkler distance is an extension of the Jaro similarity which is formulate as below:\n",
    "$$\n",
    "\\text{Jaro-Winkler Similarity} = \\text{Jaro Similarity} + (l \\times p \\times (1 - \\text{Jaro Similarity}))\n",
    "$$\n",
    "\n",
    "\n",
    "where,\n",
    "- jaro_sim is the output from the Jaro Similarity,\n",
    "- `l` is the length of common prefix at the start of the string\n",
    "this implementation provides an upperbound for the `l` value\n",
    "to keep the prefixes.A common value of this upperbound is 4.\n",
    "- `p` is the constant scaling factor to overweigh common prefixes.\n",
    "The Jaro-Winkler similarity will fall within the [0, 1] bound, given that `max(p)`<=0.25 , default is p=0.1 in Winkler"
   ]
  },
  {
   "cell_type": "code",
   "execution_count": 102,
   "metadata": {},
   "outputs": [],
   "source": [
    "winkler_examples = [(\"billy\", \"billy\"), (\"billy\", \"bill\"), (\"billy\", \"blily\"),\n",
    "(\"massie\", \"massey\"), (\"yvette\", \"yevett\"), (\"billy\", \"bolly\"), (\"dwayne\", \"duane\"),(\"dixon\", \"dickson\"), (\"billy\", \"susan\")]"
   ]
  },
  {
   "cell_type": "code",
   "execution_count": 118,
   "metadata": {},
   "outputs": [
    {
     "name": "stdout",
     "output_type": "stream",
     "text": [
      "jaro_similarity_scores:  [1.0, 0.933, 0.933, 0.889, 0.889, 0.867, 0.822, 0.79, 0]\n",
      "jaro_winkler_similarity_scores:  [1.0, 0.947, 0.94, 0.911, 0.9, 0.88, 0.84, 0.832, 0.0]\n"
     ]
    }
   ],
   "source": [
    "jaro_similarity_scores = []\n",
    "jaro_winkler_similarity_scores = []\n",
    "for s1_s2 in winkler_examples:\n",
    "    s1, s2 = s1_s2\n",
    "    jaro_similarity_scores.append(round(distance.jaro_similarity(s1, s2),3))\n",
    "    jaro_winkler_similarity_scores.append(round(distance.jaro_winkler_similarity(s1, s2, p=0.1, max_l=2),3))\n",
    "\n",
    "print(\"jaro_similarity_scores: \", jaro_similarity_scores)\n",
    "print(\"jaro_winkler_similarity_scores: \",jaro_winkler_similarity_scores)"
   ]
  },
  {
   "cell_type": "markdown",
   "metadata": {},
   "source": [
    "## 3. Building a Simple Spelling Corrector\n",
    "In this section, Parham delves into constructing a basic spelling corrector—a crucial tool for improving text accuracy in `NLP` tasks. Spelling correctors are widely used in applications such as search engines, text editors, and messaging platforms to enhance user experience by automatically suggesting correct spellings. Using techniques like edit distance and similarity metrics, Parham will identify and suggest the most probable corrections for misspelled words. This approach combines the robustness of `NLP` libraries, like `NLTK`, with methods for handling spelling variations, creating a foundational spelling correction model."
   ]
  },
  {
   "cell_type": "code",
   "execution_count": null,
   "metadata": {},
   "outputs": [],
   "source": [
    "# Ensure you have the necessary nltk resources\n",
    "nltk.download('words')"
   ]
  },
  {
   "cell_type": "code",
   "execution_count": 182,
   "metadata": {},
   "outputs": [
    {
     "name": "stdout",
     "output_type": "stream",
     "text": [
      "Best Candidate for 'calculat': 'calculate' (Similarity: 0.978)\n",
      "Misspelled Word: 'calculat' -> Corrected Word: 'calculate'\n"
     ]
    }
   ],
   "source": [
    "# Load the corpus of words and count their occurrences\n",
    "word_list = words.words()\n",
    "word_counter = Counter(word_list)\n",
    "\n",
    "def get_best_candidate(word):\n",
    "    \"\"\"\n",
    "    Generate and find the best candidate word based on Jaro-Winkler similarity.\n",
    "    \"\"\"\n",
    "    # Minimum similarity threshold for candidates\n",
    "    threshold = 0.93\n",
    "    best_candidate = None\n",
    "    max_similarity = 0\n",
    "    \n",
    "    for candidate_word in word_counter:\n",
    "        # Calculate Jaro-Winkler similarity\n",
    "        similarity = distance.jaro_winkler_similarity(word, candidate_word)\n",
    "        \n",
    "        # Consider this word only if its similarity is above the threshold\n",
    "        if similarity >= threshold:\n",
    "            # Select the candidate with the highest similarity score, breaking ties with frequency\n",
    "            if similarity > max_similarity or (similarity == max_similarity and word_counter[candidate_word] > word_counter.get(best_candidate, 0)):\n",
    "                best_candidate = candidate_word\n",
    "                max_similarity = similarity\n",
    "    \n",
    "    return best_candidate, max_similarity\n",
    "\n",
    "def correct_spelling(word):\n",
    "    \"\"\"\n",
    "    Correct the spelling of a given word by suggesting the best match.\n",
    "    \"\"\"\n",
    "    best_candidate, max_similarity = get_best_candidate(word)\n",
    "    if not best_candidate:\n",
    "        print(f\"No close matches found for '{word}', returning original word.\")\n",
    "        return word  # Return the original word if no candidates are found\n",
    "    print(f\"Best Candidate for '{word}': '{best_candidate}' (Similarity: {max_similarity:.3f})\")\n",
    "    return best_candidate\n",
    "\n",
    "# Example usage\n",
    "misspelled_word = \"calculat\"\n",
    "corrected_word = correct_spelling(misspelled_word)\n",
    "print(f\"Misspelled Word: '{misspelled_word}' -> Corrected Word: '{corrected_word}'\")\n"
   ]
  },
  {
   "cell_type": "markdown",
   "metadata": {},
   "source": [
    "## 4. Closing Thoughts\n",
    "Throughout this notebook, Parham has undertaken the following activities:\n",
    "\n",
    "- Gained an understanding of minimum edit distance using the `NLTK` library.\n",
    "- Challenged himself by implementing similar concepts for minimum edit distance independently, outside of `NLTK`.\n",
    "- Developed a basic typo correction tool using `jaro_winkler_similarity`."
   ]
  }
 ],
 "metadata": {
  "kernelspec": {
   "display_name": "nlp",
   "language": "python",
   "name": "python3"
  },
  "language_info": {
   "codemirror_mode": {
    "name": "ipython",
    "version": 3
   },
   "file_extension": ".py",
   "mimetype": "text/x-python",
   "name": "python",
   "nbconvert_exporter": "python",
   "pygments_lexer": "ipython3",
   "version": "3.10.15"
  }
 },
 "nbformat": 4,
 "nbformat_minor": 2
}
