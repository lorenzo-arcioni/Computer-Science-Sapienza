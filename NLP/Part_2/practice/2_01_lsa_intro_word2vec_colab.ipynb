{
  "cells": [
    {
      "cell_type": "markdown",
      "metadata": {
        "id": "YdwqfgeaUAv6"
      },
      "source": [
        "# Natural Language Processing\n",
        "\n",
        "### 2.1 Distributional Semantics, Latent Semantic Analysis and Word2Vec\n",
        "<br><br>\n",
        "\n",
        "In this tutorial, we will cover:\n",
        "\n",
        "- How to use Gensim\n",
        "- LSA\n",
        "- word2vec\n",
        "\n",
        "Prerequisites:\n",
        "\n",
        "- Python\n",
        "- numpy\n",
        "\n",
        "#### Authors\n",
        "TA: Robert Adrian Minut\n",
        "\n",
        "Prof. Iacopo Masi and Prof. Stefano Faralli\n"
      ]
    },
    {
      "cell_type": "code",
      "execution_count": null,
      "metadata": {
        "hide_input": true,
        "id": "mh4ukQmNUAv6",
        "cellView": "form"
      },
      "outputs": [],
      "source": [
        "# @title Requirements\n",
        "import matplotlib.pyplot as plt\n",
        "from PIL import Image\n",
        "import pandas as pd\n",
        "import numpy as np\n",
        "import requests\n",
        "import random\n",
        "import scipy\n",
        "import io\n",
        "import sklearn\n",
        "pd.set_option('display.colheader_justify', 'center')\n",
        "random.seed(0)"
      ]
    },
    {
      "cell_type": "code",
      "execution_count": null,
      "metadata": {
        "hide_input": true,
        "run_control": {
          "marked": false
        },
        "scrolled": true,
        "id": "giLxjDAiUAv7",
        "cellView": "form"
      },
      "outputs": [],
      "source": [
        "# @title Utility Functions\n",
        "import matplotlib\n",
        "%matplotlib inline\n",
        "#plt.style.use('seaborn-whitegrid')\n",
        "\n",
        "# Aux functions\n",
        "\n",
        "from google.colab import output\n",
        "output.enable_custom_widget_manager()\n",
        "\n",
        "def plot_grid(Xs, Ys, axs=None):\n",
        "    ''' Aux function to plot a grid'''\n",
        "    t = np.arange(Xs.size) # define progression of int for indexing colormap\n",
        "    if axs:\n",
        "        axs.plot(0, 0, marker='*', color='r', linestyle='none') #plot origin\n",
        "        axs.scatter(Xs,Ys, c=t, cmap='jet', marker='.') # scatter x vs y\n",
        "        axs.axis('scaled') # axis scaled\n",
        "    else:\n",
        "        plt.plot(0, 0, marker='*', color='r', linestyle='none') #plot origin\n",
        "        plt.scatter(Xs,Ys, c=t, cmap='jet', marker='.') # scatter x vs y\n",
        "        plt.axis('scaled') # axis scaled\n",
        "\n",
        "def linear_map(A, Xs, Ys):\n",
        "    '''Map src points with A'''\n",
        "    # [NxN,NxN] -> NxNx2 # add 3-rd axis, like adding another layer\n",
        "    src = np.stack((Xs,Ys), axis=Xs.ndim)\n",
        "    # flatten first two dimension\n",
        "    # (NN)x2\n",
        "    src_r = src.reshape(-1,src.shape[-1]) #ask reshape to keep last dimension and adjust the rest\n",
        "    # 2x2 @ 2x(NN)\n",
        "    dst = A @ src_r.T # 2xNN\n",
        "    #(NN)x2 and then reshape as NxNx2\n",
        "    dst = (dst.T).reshape(src.shape)\n",
        "    # Access X and Y\n",
        "    return dst[...,0], dst[...,1]\n",
        "\n",
        "\n",
        "def plot_points(ax, Xs, Ys, col='red', unit=None, linestyle='solid'):\n",
        "    '''Plots points'''\n",
        "    ax.set_aspect('equal')\n",
        "    ax.grid(True, which='both')\n",
        "    ax.axhline(y=0, color='gray', linestyle=\"--\")\n",
        "    ax.axvline(x=0, color='gray',  linestyle=\"--\")\n",
        "    ax.plot(Xs, Ys, color=col)\n",
        "    if unit is None:\n",
        "        plotVectors(ax, [[0,1],[1,0]], ['gray']*2, alpha=1, linestyle=linestyle)\n",
        "    else:\n",
        "        plotVectors(ax, unit, [col]*2, alpha=1, linestyle=linestyle)\n",
        "\n",
        "def plotVectors(ax, vecs, cols, alpha=1, linestyle='solid'):\n",
        "    '''Plot set of vectors.'''\n",
        "    for i in range(len(vecs)):\n",
        "        x = np.concatenate([[0,0], vecs[i]])\n",
        "        ax.quiver([x[0]],\n",
        "                   [x[1]],\n",
        "                   [x[2]],\n",
        "                   [x[3]],\n",
        "                   angles='xy', scale_units='xy', scale=1, color=cols[i],\n",
        "                   alpha=alpha, linestyle=linestyle, linewidth=2)"
      ]
    },
    {
      "cell_type": "markdown",
      "metadata": {
        "hide_input": true,
        "id": "MfTTCflEUAv7"
      },
      "source": [
        "## My own latex definitions\n",
        "\n",
        "$$\\def\\mbf#1{\\mathbf{#1}}$$\n",
        "$$\\def\\bmf#1{\\boldsymbol{#1}}$$\n",
        "$$\\def\\bx{\\mbf{x}}$$\n",
        "$$\\def\\bxt#1{\\mbf{x}_{\\text{#1}}}$$\n",
        "$$\\def\\bv{\\mbf{v}}$$\n",
        "$$\\def\\bz{\\mbf{z}}$$\n",
        "$$\\def\\bmu{\\bmf{\\mu}}$$\n",
        "$$\\def\\bsigma{\\bmf{\\Sigma}}$$\n",
        "$$\\def\\Rd#1{\\in \\mathbb{R}^{#1}}$$\n",
        "$$\\def\\chain#1#2{\\frac{\\partial #1}{\\partial #2}}$$\n",
        "$$\\def\\loss{\\mathcal{L}}$$"
      ]
    },
    {
      "cell_type": "markdown",
      "source": [
        "# Gensim: Topic Modeling and Document Similarity Library\n",
        "\n",
        "**Gensim** is a Python library designed for efficient and scalable natural language processing (NLP) tasks, specifically for **topic modeling**, **document similarity analysis**, and **word embedding**. It is widely used for handling large text corpora, providing various algorithms and tools to process raw, unstructured text data into useful insights.\n",
        "\n",
        "### Features of Gensim\n",
        "\n",
        "- **Topic Modeling**: Implements popular algorithms like LDA (Latent Dirichlet Allocation), HDP (Hierarchical Dirichlet Process), and others for discovering hidden topics in a collection of documents.\n",
        "  \n",
        "- **Document Similarity**: Measures similarity between documents or chunks of texts based on pre-trained models.\n",
        "\n",
        "- **Word Embeddings**: Supports popular word embedding techniques such as Word2Vec, FastText, and Doc2Vec to represent words and documents as dense vectors.\n",
        "\n",
        "- **Scalability**: Efficient and scalable, Gensim can handle large datasets in a memory-efficient way, working seamlessly with disk-based storage to process large corpora.\n",
        "\n",
        "### Gensim Architecture Overview\n",
        "\n",
        "![Gensim Architecture](https://radimrehurek.com/gensim/_images/gensim_logo_positive_complete_tb.png)\n",
        "\n",
        "The architecture of Gensim allows easy transformation of raw texts into structured models that can be analyzed further. The process starts from **text preprocessing**, followed by building corpora and applying **topic models** like LDA or **word embeddings** like Word2Vec.\n",
        "\n",
        "### Use Cases\n",
        "\n",
        "1. **Topic Modeling**: Extracts hidden themes from a set of texts.\n",
        "   - Example: Understanding the major topics discussed in research papers or news articles.\n",
        "  \n",
        "2. **Document Similarity**: Measures how similar two or more documents are.\n",
        "   - Example: Recommending articles based on a reader's previous reading history.\n",
        "\n",
        "3. **Word Embeddings**: Learn dense vector representations for words.\n",
        "   - Example: Capturing word relationships (e.g., `king - man + woman = queen`).\n",
        "\n",
        "### Example Code\n",
        "\n",
        "```python\n",
        "import gensim\n",
        "from gensim import corpora\n",
        "from gensim.models import LdaModel\n",
        "\n",
        "# Sample corpus\n",
        "texts = [['human', 'interface', 'computer'],\n",
        "         ['survey', 'user', 'computer', 'system', 'response', 'time'],\n",
        "         ['eps', 'user', 'interface', 'system'],\n",
        "         ['system', 'human', 'system', 'eps']]\n",
        "\n",
        "# Create a dictionary and a corpus\n",
        "dictionary = corpora.Dictionary(texts)\n",
        "corpus = [dictionary.doc2bow(text) for text in texts]\n",
        "\n",
        "# Train LDA model\n",
        "lda = LdaModel(corpus, num_topics=2, id2word=dictionary)\n",
        "topics = lda.print_topics(num_words=4)\n",
        "print(topics)\n",
        "```\n",
        "\n",
        "For more information see\n",
        "\n",
        "https://radimrehurek.com/gensim/auto_examples/index.html#documentation"
      ],
      "metadata": {
        "id": "u8zj3jRSJlgq"
      }
    },
    {
      "cell_type": "markdown",
      "source": [
        "# Latent Semantic Analysis (LSA)\n",
        "\n",
        "Let us work with some small dataset\n",
        "\n",
        "# `fetch_20newsgroups` Dataset from Scikit-Learn\n",
        "\n",
        "The `fetch_20newsgroups` dataset is a popular benchmark dataset for text classification, particularly used in machine learning and NLP tasks. It contains approximately 20,000 newsgroup documents categorized into 20 different topics. Each document in the dataset is a news article, which makes it an ideal dataset for practicing classification algorithms like Naive Bayes, Support Vector Machines (SVMs), and neural networks.\n",
        "\n",
        "### Features of the Dataset\n",
        "\n",
        "- **Text Data**: The dataset consists of plain-text documents from 20 different newsgroups, making it perfect for text classification tasks.\n",
        "  \n",
        "- **20 Categories**: The dataset is divided into 20 different categories, such as `comp.graphics`, `sci.space`, `talk.politics.mideast`, etc.\n",
        "\n",
        "- **Train/Test Split**: The dataset can be loaded in a train-test split, enabling quick experimentation with classification algorithms.\n",
        "\n",
        "- **Preprocessing**: The dataset provides options to include or exclude metadata such as headers, footers, and quotes from the newsgroup posts.\n",
        "\n",
        "### Categories in the Dataset\n",
        "\n",
        "The 20 categories in the dataset are:\n",
        "\n",
        "1. `alt.atheism`\n",
        "2. `comp.graphics`\n",
        "3. `comp.os.ms-windows.misc`\n",
        "4. `comp.sys.ibm.pc.hardware`\n",
        "5. `comp.sys.mac.hardware`\n",
        "6. `comp.windows.x`\n",
        "7. `misc.forsale`\n",
        "8. `rec.autos`\n",
        "9. `rec.motorcycles`\n",
        "10. `rec.sport.baseball`\n",
        "11. `rec.sport.hockey`\n",
        "12. `sci.crypt`\n",
        "13. `sci.electronics`\n",
        "14. `sci.med`\n",
        "15. `sci.space`\n",
        "16. `soc.religion.christian`\n",
        "17. `talk.politics.guns`\n",
        "18. `talk.politics.mideast`\n",
        "19. `talk.politics.misc`\n",
        "20. `talk.religion.misc`\n",
        "\n",
        "We will use just 4 categories. Treat them as latent topics!\n",
        "\n",
        "```python\n",
        "categories = ['alt.atheism', 'talk.religion.misc', 'comp.graphics', 'sci.space']\n",
        "```"
      ],
      "metadata": {
        "id": "chbICcFcK-2E"
      }
    },
    {
      "cell_type": "code",
      "source": [
        "from sklearn.datasets import fetch_20newsgroups\n",
        "categories = ['alt.atheism', 'talk.religion.misc', 'comp.graphics', 'sci.space']\n",
        "remove = ('headers', 'footers', 'quotes')\n",
        "newsgroups_train = fetch_20newsgroups(subset='train', categories=categories, remove=remove)\n",
        "newsgroups_test = fetch_20newsgroups(subset='test', categories=categories, remove=remove)"
      ],
      "metadata": {
        "id": "y6MBncagK4Ev"
      },
      "execution_count": null,
      "outputs": []
    },
    {
      "cell_type": "markdown",
      "source": [
        "# Let's look at the data\n",
        "\n",
        "- Newsgroup text from the '90s (internet was not there yet)\n",
        "- We have the **categories** but $\\underline{\\text{we set them aside from the algorithm}}$\n",
        "- We assume **we do NOT know the categories of the text**\n",
        "    - We seek to recover them in an unsupervised way\n",
        "Categories are `{{newsgroups_train.target_names}}`\n",
        "\n",
        "```python\n",
        "from sklearn.datasets import fetch_20newsgroups\n",
        "categories = ['alt.atheism', 'talk.religion.misc', 'comp.graphics', 'sci.space']\n",
        "remove = ('headers', 'footers', 'quotes')\n",
        "newsgroups_train = fetch_20newsgroups(subset='train', categories=categories, remove=remove)\n",
        "newsgroups_test = fetch_20newsgroups(subset='test', categories=categories, remove=remove)\n",
        "```"
      ],
      "metadata": {
        "id": "qlqQpOUYMrVg"
      }
    },
    {
      "cell_type": "markdown",
      "source": [
        "# To install gensim run one of the two commands below\n",
        "```bash\n",
        "! pip install gensim==4.3\n",
        "```"
      ],
      "metadata": {
        "id": "CHsYZPUf4Jcu"
      }
    },
    {
      "cell_type": "code",
      "source": [
        "! pip install gensim==4.3"
      ],
      "metadata": {
        "id": "utlBqSoH5Fvx"
      },
      "execution_count": null,
      "outputs": []
    },
    {
      "cell_type": "markdown",
      "source": [
        "### **EXERCISE 1** 💻\n",
        "Print the first three sentences of the dataset in the training set where each  sentence is separated by a newline 50 '==' chars and another new  line"
      ],
      "metadata": {
        "id": "-n-V_uPcM4Yk"
      }
    },
    {
      "cell_type": "code",
      "source": [
        "# @title 🧑🏿‍💻 Your code here"
      ],
      "metadata": {
        "id": "ZI4Dat5BMqQI"
      },
      "execution_count": null,
      "outputs": []
    },
    {
      "cell_type": "code",
      "source": [
        "# @title 👀 Solution\n",
        "print(*newsgroups_train.data[:3], sep='\\n'+'=='*50+'\\n')"
      ],
      "metadata": {
        "colab": {
          "base_uri": "https://localhost:8080/"
        },
        "cellView": "form",
        "id": "vyjOjpPMM8GM",
        "outputId": "a83be738-f8e3-46ad-946b-16c65f559a3d"
      },
      "execution_count": null,
      "outputs": [
        {
          "output_type": "stream",
          "name": "stdout",
          "text": [
            "Hi,\n",
            "\n",
            "I've noticed that if you only save a model (with all your mapping planes\n",
            "positioned carefully) to a .3DS file that when you reload it after restarting\n",
            "3DS, they are given a default position and orientation.  But if you save\n",
            "to a .PRJ file their positions/orientation are preserved.  Does anyone\n",
            "know why this information is not stored in the .3DS file?  Nothing is\n",
            "explicitly said in the manual about saving texture rules in the .PRJ file. \n",
            "I'd like to be able to read the texture rule information, does anyone have \n",
            "the format for the .PRJ file?\n",
            "\n",
            "Is the .CEL file format available from somewhere?\n",
            "\n",
            "Rych\n",
            "====================================================================================================\n",
            "\n",
            "\n",
            "Seems to be, barring evidence to the contrary, that Koresh was simply\n",
            "another deranged fanatic who thought it neccessary to take a whole bunch of\n",
            "folks with him, children and all, to satisfy his delusional mania. Jim\n",
            "Jones, circa 1993.\n",
            "\n",
            "\n",
            "Nope - fruitcakes like Koresh have been demonstrating such evil corruption\n",
            "for centuries.\n",
            "====================================================================================================\n",
            "\n",
            " >In article <1993Apr19.020359.26996@sq.sq.com>, msb@sq.sq.com (Mark Brader) \n",
            "\n",
            "MB>                                                             So the\n",
            "MB> 1970 figure seems unlikely to actually be anything but a perijove.\n",
            "\n",
            "JG>Sorry, _perijoves_...I'm not used to talking this language.\n",
            "\n",
            "Couldn't we just say periapsis or apoapsis?\n",
            "\n",
            " \n"
          ]
        }
      ]
    },
    {
      "cell_type": "markdown",
      "source": [
        "# From raw text to Term-Document Matrix"
      ],
      "metadata": {
        "id": "zzwryTBSMp9g"
      }
    },
    {
      "cell_type": "markdown",
      "source": [
        "### **EXERCISE 2** 💻\n",
        "Use `sklearn` to compute the Term-Document Matrix and print the size of:\n",
        "\n",
        "- Documents\n",
        "- Vocabulary"
      ],
      "metadata": {
        "id": "RuPkPQ_mNcxM"
      }
    },
    {
      "cell_type": "code",
      "source": [
        "# @title 🧑🏿‍💻 Your code here"
      ],
      "metadata": {
        "id": "mEjYdnj7NtOU"
      },
      "execution_count": null,
      "outputs": []
    },
    {
      "cell_type": "code",
      "source": [
        "# @title 👀 Solution\n",
        "from sklearn.feature_extraction.text import CountVectorizer\n",
        "count_vect = CountVectorizer(stop_words='english')\n",
        "X_train_counts = count_vect.fit_transform(newsgroups_train.data)\n",
        "dims = X_train_counts.shape # (documents, vocab)\n",
        "print(f'We have {dims[0]} documents and a vocabulary of size {dims[1]}')"
      ],
      "metadata": {
        "colab": {
          "base_uri": "https://localhost:8080/"
        },
        "id": "gwEGFHjrNbZ3",
        "outputId": "f8b40717-5a1d-4ca2-82dd-215507b2fc8b"
      },
      "execution_count": null,
      "outputs": [
        {
          "output_type": "stream",
          "name": "stdout",
          "text": [
            "We have 2034 documents and a vocabulary of size 26576\n"
          ]
        }
      ]
    },
    {
      "cell_type": "markdown",
      "source": [
        "### **EXERCISE 3** 💻\n",
        "Random sample k=10 words from the vocabulary"
      ],
      "metadata": {
        "id": "p_-akIV8OLwN"
      }
    },
    {
      "cell_type": "code",
      "source": [
        "# @title 🧑🏿‍💻 Your code here"
      ],
      "metadata": {
        "id": "gr9UTMuQOjZj"
      },
      "execution_count": null,
      "outputs": []
    },
    {
      "cell_type": "code",
      "source": [
        "# @title 👀 Solution\n",
        "random.choices(count_vect.get_feature_names_out(), k=10)"
      ],
      "metadata": {
        "colab": {
          "base_uri": "https://localhost:8080/"
        },
        "cellView": "form",
        "id": "jEqTXhmcOJdF",
        "outputId": "8037102e-605d-45ba-8c2c-c5056c60375d"
      },
      "execution_count": null,
      "outputs": [
        {
          "output_type": "execute_result",
          "data": {
            "text/plain": [
              "['specs',\n",
              " 'regularity',\n",
              " 'gillespie',\n",
              " 'convienent',\n",
              " 'ite',\n",
              " 'friends',\n",
              " 'rom',\n",
              " 'devotion',\n",
              " 'imaging',\n",
              " 'mayer']"
            ]
          },
          "metadata": {},
          "execution_count": 47
        }
      ]
    },
    {
      "cell_type": "markdown",
      "source": [
        "### **EXERCISE 4** 💻\n",
        "Compute the percentage of non zero values in the matrix"
      ],
      "metadata": {
        "id": "67Np0XTsP6aM"
      }
    },
    {
      "cell_type": "code",
      "source": [
        "# @title 🧑🏿‍💻 Your code here"
      ],
      "metadata": {
        "cellView": "form",
        "id": "mEeIJttsPXlx"
      },
      "execution_count": null,
      "outputs": []
    },
    {
      "cell_type": "code",
      "source": [
        "# @title 👀 Solution\n",
        "X_train_counts.count_nonzero()/(X_train_counts.shape[0]*X_train_counts.shape[1])*100"
      ],
      "metadata": {
        "colab": {
          "base_uri": "https://localhost:8080/"
        },
        "cellView": "form",
        "id": "YukEfz7kOt78",
        "outputId": "77d5a6d0-5140-4bc8-c69a-c1a02670d7e0"
      },
      "execution_count": null,
      "outputs": [
        {
          "output_type": "execute_result",
          "data": {
            "text/plain": [
              "0.24721590280108713"
            ]
          },
          "metadata": {},
          "execution_count": 49
        }
      ]
    },
    {
      "cell_type": "markdown",
      "source": [
        "### **EXERCISE 5** 💻\n",
        "Compute the most frequent word in the matrix and the most frequent words across all documents."
      ],
      "metadata": {
        "id": "xiZmjYDJQEEq"
      }
    },
    {
      "cell_type": "code",
      "source": [
        "# @title 🧑🏿‍💻 Your code here"
      ],
      "metadata": {
        "id": "flmKEeg_QNXL"
      },
      "execution_count": null,
      "outputs": []
    },
    {
      "cell_type": "code",
      "source": [
        "# @title 👀 Solution\n",
        "r, c = np.unravel_index(np.argmax(X_train_counts), X_train_counts.shape)\n",
        "print(count_vect.get_feature_names_out()[c], 'occurred', X_train_counts[r, c], 'times')"
      ],
      "metadata": {
        "cellView": "form",
        "colab": {
          "base_uri": "https://localhost:8080/"
        },
        "id": "Fa0jaPZJQQ9n",
        "outputId": "e72520be-af31-4dee-8fc4-17b4c75a8038"
      },
      "execution_count": null,
      "outputs": [
        {
          "output_type": "stream",
          "name": "stdout",
          "text": [
            "jpeg occurred 232 times\n"
          ]
        }
      ]
    },
    {
      "cell_type": "markdown",
      "source": [
        "### **EXERCISE 6** 💻\n",
        "Now perform LSA that is apply sparse SVD to the term-document matrix\n",
        "to find the **two most important latent topics**\n",
        "\n",
        "_Hint: use scipy.sparse.linalg.svds_\n",
        "\n",
        "**Note it will take some time**"
      ],
      "metadata": {
        "id": "vK483fi4QLpA"
      }
    },
    {
      "cell_type": "code",
      "source": [
        "# @title 🧑🏿‍💻 Your code here"
      ],
      "metadata": {
        "id": "2tLTjpn5QtZs"
      },
      "execution_count": null,
      "outputs": []
    },
    {
      "cell_type": "code",
      "source": [
        "# @title 👀 Solution\n",
        "Us, Ss, Vts = scipy.sparse.linalg.svds(X_train_counts.asfptype(), k=2)"
      ],
      "metadata": {
        "id": "CY35Si05Qlww"
      },
      "execution_count": null,
      "outputs": []
    },
    {
      "cell_type": "code",
      "source": [
        "# @title  1. Singular Values give you the  \"topic\" importance\n",
        "plt.bar([1,2],Ss);"
      ],
      "metadata": {
        "colab": {
          "base_uri": "https://localhost:8080/",
          "height": 430
        },
        "id": "jvTvBohZRAjh",
        "outputId": "731b6091-fe04-4b67-cee0-6737ad5d4a26"
      },
      "execution_count": null,
      "outputs": [
        {
          "output_type": "display_data",
          "data": {
            "text/plain": [
              "<Figure size 640x480 with 1 Axes>"
            ],
            "image/png": "[encoded data removed]"
          },
          "metadata": {}
        }
      ]
    },
    {
      "cell_type": "markdown",
      "source": [
        "# 2. The embedding space ($k=2$)\n",
        "\n",
        "- Unlike before, it is now **continuous, short and dense**\n",
        "- The space encodes some notion of similarities between words\n",
        "- Cosine similarity makes more sense\n",
        "\n",
        "\n",
        "Note this embedding space computed with `CountVector` is not great, probably each new embedding is \"dominated\" by the word frequency in the dataset. See how the word jpeg (most frequent) has higher norm (more at the boundary)."
      ],
      "metadata": {
        "id": "yoqwo5bVSJ4H"
      }
    },
    {
      "cell_type": "code",
      "source": [
        "fig, ax = plt.subplots(figsize=(10,10))\n",
        "clip = 0\n",
        "ax.scatter(*Vts);\n",
        "vocab = count_vect.get_feature_names_out()\n",
        "for count, ((x,y), txt) in enumerate(zip(Vts.T, vocab)):\n",
        "    if np.linalg.norm([x,y]) > .5e-1:\n",
        "        ax.annotate(txt, (x+0.01, y))\n",
        "if clip:\n",
        "    plt.ylim(-0.175, -0.030)\n",
        "    #plt.ylim(0.05, 0.15)\n",
        "plt.grid('off')"
      ],
      "metadata": {
        "colab": {
          "base_uri": "https://localhost:8080/",
          "height": 830
        },
        "id": "mcqHU2t9ROax",
        "outputId": "4db5d4a8-d2aa-4985-a7aa-a6c60d3aa479"
      },
      "execution_count": null,
      "outputs": [
        {
          "output_type": "display_data",
          "data": {
            "text/plain": [
              "<Figure size 1000x1000 with 1 Axes>"
            ],
            "image/png": "[encoded data removed]"
          },
          "metadata": {}
        }
      ]
    },
    {
      "cell_type": "markdown",
      "source": [
        "# 3. We can associate each new $k$ component (topic) with most important words\n",
        "\n",
        "<br><br>\n",
        "<div align='center'><img src=\"https://github.com/iacopomasi/NLP/blob/main/course/AA2324/2_01_lsa_intro_word2vec/figs/mysvd.png?raw=true\" width='65%' ></div>"
      ],
      "metadata": {
        "id": "Ks4pUN8gSbrx"
      }
    },
    {
      "cell_type": "markdown",
      "source": [
        "# 3. We can associate each new $k$ component (topic) with most important words using $\\mbf{V}_k$\n",
        "<br><div align='center'><img src=\"https://github.com/iacopomasi/NLP/blob/main/course/AA2324/2_01_lsa_intro_word2vec/figs/mysvd2.png?raw=true\" width='65%' ></div>"
      ],
      "metadata": {
        "id": "FefieUqsSwOc"
      }
    },
    {
      "cell_type": "markdown",
      "source": [
        "### **EXERCISE 7** 💻\n",
        "Select the first latent topic and plot/print:\n",
        "\n",
        "1. The most important 10 words tokens that contribute **positively** to that latent topic\n",
        "2. The most important 10 words tokens that contribute **negatively** to that latent topic"
      ],
      "metadata": {
        "id": "YDEba7rhTOva"
      }
    },
    {
      "cell_type": "code",
      "source": [
        "# @title 🧑🏿‍💻 Your code here"
      ],
      "metadata": {
        "id": "hh6WTC_7TNI6"
      },
      "execution_count": null,
      "outputs": []
    },
    {
      "cell_type": "code",
      "source": [
        "# @title 👀 Solution\n",
        "k = 0 #first component, first topic\n",
        "word_per_topic = 10\n",
        "topic = [vocab[idx_word] for idx_word in np.argsort(Vts[k,:])[:-word_per_topic-1:-1]]\n",
        "topic_weight = np.sort(Vts[k,:])[:-word_per_topic-1:-1]\n",
        "topic_neg = [vocab[idx_word] for idx_word in np.argsort(Vts[k,:])[:word_per_topic:]]\n",
        "\n",
        "print(f'Words positive for k={k} are {topic}')\n",
        "print(f'Words negative for k={k} are {topic_neg}')"
      ],
      "metadata": {
        "colab": {
          "base_uri": "https://localhost:8080/"
        },
        "id": "DVIFkr0ATII7",
        "outputId": "f39679c0-4e7e-48e3-ae2c-357739c64a58"
      },
      "execution_count": null,
      "outputs": [
        {
          "output_type": "stream",
          "name": "stdout",
          "text": [
            "Words positive for k=0 are ['jpeg', 'gif', 'file', 'color', 'quality', 'image', 'jfif', 'format', 'bit', 'version']\n",
            "Words negative for k=0 are ['edu', 'graphics', 'data', 'space', 'pub', 'mail', '128', '3d', 'ray', 'nasa']\n"
          ]
        }
      ]
    },
    {
      "cell_type": "markdown",
      "source": [
        "# How to think about the new embedding space\n",
        "\n",
        "If you reduce the dimension from 3 to 2, you may think that the embedding is learning something like:\n",
        "\n",
        "$$[\\text{car}, \\text{truck}, \\text{flower}] \\longrightarrow [(1.3452 * \\text{car} + 0.2828 * \\text{truck}), \\text{flower}]$$"
      ],
      "metadata": {
        "id": "uKNKs9I2pIwk"
      }
    },
    {
      "cell_type": "markdown",
      "source": [
        "# 4. Dimensionality Reduction:\n",
        "## Projecting a document into lower-dimensional space\n",
        "\n",
        "We treat the document as a vector $\\mbf{d}$ that lives in a $V$ dimensional space.\n",
        "- We want to use the output of SVD to project $\\mbf{d}$ from V dimension to $k$ where $k\\ll V$.\n",
        "- Usually $k$ is the order of hundreds.\n",
        "\n",
        "We take the matrix $\\mbf{V}_k$ of the SVD decomposition that has dimension $k\\times V$ (this makes sense because $\\mbf{d}$ lives in the same $V$-D space too).\n",
        "$$ \\mbf{d}_k = \\underbrace{\\mbf{V}_k^{\\top}}_{k\\times V}\\underbrace{\\mbf{d}}_{V}$$\n",
        "\n",
        "**The new $\\mbf{d}_k$ is now short and dense**"
      ],
      "metadata": {
        "id": "E1Hy002rpNIV"
      }
    },
    {
      "cell_type": "markdown",
      "source": [
        "## Gensim LSA or LSI\n",
        "\n",
        "https://radimrehurek.com/gensim/models/lsimodel.html"
      ],
      "metadata": {
        "id": "tHDLOz1_pvsI"
      }
    },
    {
      "cell_type": "markdown",
      "metadata": {
        "id": "M6c4M9rcUAwL"
      },
      "source": [
        "# Now Let's switch and play with word2vec\n",
        "\n",
        "There are many version of word embeddings, trained on different corpus or in different ways (word2vec vs Glove vs fasttext).\n",
        "Let us us the followin word2vec, a word2vec trained on entire Google News dataset, of about **100 billion words.**\n",
        "\n",
        "the tag name is `word2vec-google-news-300`\n",
        "\n",
        "Model is 1.6GB so it will take time to download (it will show progress bar)! ⚠\n",
        "\n"
      ]
    },
    {
      "cell_type": "markdown",
      "source": [
        "# Word Embeddings (word2vec)"
      ],
      "metadata": {
        "id": "fQdUdvp_N5pw"
      }
    },
    {
      "cell_type": "markdown",
      "metadata": {
        "id": "1HkU2W0TUAwL"
      },
      "source": [
        "## Show available models in Gensim\n",
        "\n",
        "You need Gensim Downloader\n",
        "\n",
        "```python import gensim.downloader```"
      ]
    },
    {
      "cell_type": "code",
      "source": [],
      "metadata": {
        "colab": {
          "base_uri": "https://localhost:8080/"
        },
        "id": "2goGUEu22eLG",
        "outputId": "08b1f67b-682f-4405-9f07-9c484147f80d"
      },
      "execution_count": null,
      "outputs": [
        {
          "output_type": "stream",
          "name": "stdout",
          "text": [
            "Collecting gensim\n",
            "  Downloading gensim-4.3.3-cp311-cp311-manylinux_2_17_x86_64.manylinux2014_x86_64.whl.metadata (8.1 kB)\n",
            "Collecting numpy<2.0,>=1.18.5 (from gensim)\n",
            "  Downloading numpy-1.26.4-cp311-cp311-manylinux_2_17_x86_64.manylinux2014_x86_64.whl.metadata (61 kB)\n",
            "\u001b[2K     \u001b[90m━━━━━━━━━━━━━━━━━━━━━━━━━━━━━━━━━━━━━━━━\u001b[0m \u001b[32m61.0/61.0 kB\u001b[0m \u001b[31m4.8 MB/s\u001b[0m eta \u001b[36m0:00:00\u001b[0m\n",
            "\u001b[?25hCollecting scipy<1.14.0,>=1.7.0 (from gensim)\n",
            "  Downloading scipy-1.13.1-cp311-cp311-manylinux_2_17_x86_64.manylinux2014_x86_64.whl.metadata (60 kB)\n",
            "\u001b[2K     \u001b[90m━━━━━━━━━━━━━━━━━━━━━━━━━━━━━━━━━━━━━━━━\u001b[0m \u001b[32m60.6/60.6 kB\u001b[0m \u001b[31m4.3 MB/s\u001b[0m eta \u001b[36m0:00:00\u001b[0m\n",
            "\u001b[?25hRequirement already satisfied: smart-open>=1.8.1 in /usr/local/lib/python3.11/dist-packages (from gensim) (7.1.0)\n",
            "Requirement already satisfied: wrapt in /usr/local/lib/python3.11/dist-packages (from smart-open>=1.8.1->gensim) (1.17.2)\n",
            "Downloading gensim-4.3.3-cp311-cp311-manylinux_2_17_x86_64.manylinux2014_x86_64.whl (26.7 MB)\n",
            "\u001b[2K   \u001b[90m━━━━━━━━━━━━━━━━━━━━━━━━━━━━━━━━━━━━━━━━\u001b[0m \u001b[32m26.7/26.7 MB\u001b[0m \u001b[31m64.4 MB/s\u001b[0m eta \u001b[36m0:00:00\u001b[0m\n",
            "\u001b[?25hDownloading numpy-1.26.4-cp311-cp311-manylinux_2_17_x86_64.manylinux2014_x86_64.whl (18.3 MB)\n",
            "\u001b[2K   \u001b[90m━━━━━━━━━━━━━━━━━━━━━━━━━━━━━━━━━━━━━━━━\u001b[0m \u001b[32m18.3/18.3 MB\u001b[0m \u001b[31m80.2 MB/s\u001b[0m eta \u001b[36m0:00:00\u001b[0m\n",
            "\u001b[?25hDownloading scipy-1.13.1-cp311-cp311-manylinux_2_17_x86_64.manylinux2014_x86_64.whl (38.6 MB)\n",
            "\u001b[2K   \u001b[90m━━━━━━━━━━━━━━━━━━━━━━━━━━━━━━━━━━━━━━━━\u001b[0m \u001b[32m38.6/38.6 MB\u001b[0m \u001b[31m15.7 MB/s\u001b[0m eta \u001b[36m0:00:00\u001b[0m\n",
            "\u001b[?25hInstalling collected packages: numpy, scipy, gensim\n",
            "  Attempting uninstall: numpy\n",
            "    Found existing installation: numpy 2.0.2\n",
            "    Uninstalling numpy-2.0.2:\n",
            "      Successfully uninstalled numpy-2.0.2\n",
            "  Attempting uninstall: scipy\n",
            "    Found existing installation: scipy 1.14.1\n",
            "    Uninstalling scipy-1.14.1:\n",
            "      Successfully uninstalled scipy-1.14.1\n",
            "\u001b[31mERROR: pip's dependency resolver does not currently take into account all the packages that are installed. This behaviour is the source of the following dependency conflicts.\n",
            "thinc 8.3.6 requires numpy<3.0.0,>=2.0.0, but you have numpy 1.26.4 which is incompatible.\u001b[0m\u001b[31m\n",
            "\u001b[0mSuccessfully installed gensim-4.3.3 numpy-1.26.4 scipy-1.13.1\n"
          ]
        }
      ]
    },
    {
      "cell_type": "code",
      "source": [
        "import numpy as np"
      ],
      "metadata": {
        "id": "HEKzkk2R2o60"
      },
      "execution_count": null,
      "outputs": []
    },
    {
      "cell_type": "code",
      "source": [
        "np.__version__\n",
        "import gensim.downloader"
      ],
      "metadata": {
        "colab": {
          "base_uri": "https://localhost:8080/",
          "height": 222
        },
        "id": "dcgomxvU2_Oj",
        "outputId": "12a3c9f9-eea4-443b-a917-0947a61bcd98"
      },
      "execution_count": null,
      "outputs": [
        {
          "output_type": "error",
          "ename": "ValueError",
          "evalue": "numpy.dtype size changed, may indicate binary incompatibility. Expected 96 from C header, got 88 from PyObject",
          "traceback": [
            "\u001b[0;31m---------------------------------------------------------------------------\u001b[0m",
            "\u001b[0;31mValueError\u001b[0m                                Traceback (most recent call last)",
            "\u001b[0;32m<ipython-input-9-e462e73ebfe0>\u001b[0m in \u001b[0;36m<cell line: 0>\u001b[0;34m()\u001b[0m\n\u001b[1;32m      1\u001b[0m \u001b[0mnp\u001b[0m\u001b[0;34m.\u001b[0m\u001b[0m__version__\u001b[0m\u001b[0;34m\u001b[0m\u001b[0;34m\u001b[0m\u001b[0m\n\u001b[0;32m----> 2\u001b[0;31m \u001b[0;32mimport\u001b[0m \u001b[0mgensim\u001b[0m\u001b[0;34m.\u001b[0m\u001b[0mdownloader\u001b[0m\u001b[0;34m\u001b[0m\u001b[0;34m\u001b[0m\u001b[0m\n\u001b[0m",
            "\u001b[0;32m/usr/local/lib/python3.11/dist-packages/gensim/__init__.py\u001b[0m in \u001b[0;36m<module>\u001b[0;34m\u001b[0m\n\u001b[1;32m      9\u001b[0m \u001b[0;32mimport\u001b[0m \u001b[0mlogging\u001b[0m\u001b[0;34m\u001b[0m\u001b[0;34m\u001b[0m\u001b[0m\n\u001b[1;32m     10\u001b[0m \u001b[0;34m\u001b[0m\u001b[0m\n\u001b[0;32m---> 11\u001b[0;31m \u001b[0;32mfrom\u001b[0m \u001b[0mgensim\u001b[0m \u001b[0;32mimport\u001b[0m \u001b[0mparsing\u001b[0m\u001b[0;34m,\u001b[0m \u001b[0mcorpora\u001b[0m\u001b[0;34m,\u001b[0m \u001b[0mmatutils\u001b[0m\u001b[0;34m,\u001b[0m \u001b[0minterfaces\u001b[0m\u001b[0;34m,\u001b[0m \u001b[0mmodels\u001b[0m\u001b[0;34m,\u001b[0m \u001b[0msimilarities\u001b[0m\u001b[0;34m,\u001b[0m \u001b[0mutils\u001b[0m  \u001b[0;31m# noqa:F401\u001b[0m\u001b[0;34m\u001b[0m\u001b[0;34m\u001b[0m\u001b[0m\n\u001b[0m\u001b[1;32m     12\u001b[0m \u001b[0;34m\u001b[0m\u001b[0m\n\u001b[1;32m     13\u001b[0m \u001b[0;34m\u001b[0m\u001b[0m\n",
            "\u001b[0;32m/usr/local/lib/python3.11/dist-packages/gensim/corpora/__init__.py\u001b[0m in \u001b[0;36m<module>\u001b[0;34m\u001b[0m\n\u001b[1;32m      4\u001b[0m \u001b[0;34m\u001b[0m\u001b[0m\n\u001b[1;32m      5\u001b[0m \u001b[0;31m# bring corpus classes directly into package namespace, to save some typing\u001b[0m\u001b[0;34m\u001b[0m\u001b[0;34m\u001b[0m\u001b[0m\n\u001b[0;32m----> 6\u001b[0;31m \u001b[0;32mfrom\u001b[0m \u001b[0;34m.\u001b[0m\u001b[0mindexedcorpus\u001b[0m \u001b[0;32mimport\u001b[0m \u001b[0mIndexedCorpus\u001b[0m  \u001b[0;31m# noqa:F401 must appear before the other classes\u001b[0m\u001b[0;34m\u001b[0m\u001b[0;34m\u001b[0m\u001b[0m\n\u001b[0m\u001b[1;32m      7\u001b[0m \u001b[0;34m\u001b[0m\u001b[0m\n\u001b[1;32m      8\u001b[0m \u001b[0;32mfrom\u001b[0m \u001b[0;34m.\u001b[0m\u001b[0mmmcorpus\u001b[0m \u001b[0;32mimport\u001b[0m \u001b[0mMmCorpus\u001b[0m  \u001b[0;31m# noqa:F401\u001b[0m\u001b[0;34m\u001b[0m\u001b[0;34m\u001b[0m\u001b[0m\n",
            "\u001b[0;32m/usr/local/lib/python3.11/dist-packages/gensim/corpora/indexedcorpus.py\u001b[0m in \u001b[0;36m<module>\u001b[0;34m\u001b[0m\n\u001b[1;32m     12\u001b[0m \u001b[0;32mimport\u001b[0m \u001b[0mnumpy\u001b[0m\u001b[0;34m\u001b[0m\u001b[0;34m\u001b[0m\u001b[0m\n\u001b[1;32m     13\u001b[0m \u001b[0;34m\u001b[0m\u001b[0m\n\u001b[0;32m---> 14\u001b[0;31m \u001b[0;32mfrom\u001b[0m \u001b[0mgensim\u001b[0m \u001b[0;32mimport\u001b[0m \u001b[0minterfaces\u001b[0m\u001b[0;34m,\u001b[0m \u001b[0mutils\u001b[0m\u001b[0;34m\u001b[0m\u001b[0;34m\u001b[0m\u001b[0m\n\u001b[0m\u001b[1;32m     15\u001b[0m \u001b[0;34m\u001b[0m\u001b[0m\n\u001b[1;32m     16\u001b[0m \u001b[0mlogger\u001b[0m \u001b[0;34m=\u001b[0m \u001b[0mlogging\u001b[0m\u001b[0;34m.\u001b[0m\u001b[0mgetLogger\u001b[0m\u001b[0;34m(\u001b[0m\u001b[0m__name__\u001b[0m\u001b[0;34m)\u001b[0m\u001b[0;34m\u001b[0m\u001b[0;34m\u001b[0m\u001b[0m\n",
            "\u001b[0;32m/usr/local/lib/python3.11/dist-packages/gensim/interfaces.py\u001b[0m in \u001b[0;36m<module>\u001b[0;34m\u001b[0m\n\u001b[1;32m     17\u001b[0m \u001b[0;32mimport\u001b[0m \u001b[0mlogging\u001b[0m\u001b[0;34m\u001b[0m\u001b[0;34m\u001b[0m\u001b[0m\n\u001b[1;32m     18\u001b[0m \u001b[0;34m\u001b[0m\u001b[0m\n\u001b[0;32m---> 19\u001b[0;31m \u001b[0;32mfrom\u001b[0m \u001b[0mgensim\u001b[0m \u001b[0;32mimport\u001b[0m \u001b[0mutils\u001b[0m\u001b[0;34m,\u001b[0m \u001b[0mmatutils\u001b[0m\u001b[0;34m\u001b[0m\u001b[0;34m\u001b[0m\u001b[0m\n\u001b[0m\u001b[1;32m     20\u001b[0m \u001b[0;34m\u001b[0m\u001b[0m\n\u001b[1;32m     21\u001b[0m \u001b[0;34m\u001b[0m\u001b[0m\n",
            "\u001b[0;32m/usr/local/lib/python3.11/dist-packages/gensim/matutils.py\u001b[0m in \u001b[0;36m<module>\u001b[0;34m\u001b[0m\n\u001b[1;32m   1032\u001b[0m \u001b[0;32mtry\u001b[0m\u001b[0;34m:\u001b[0m\u001b[0;34m\u001b[0m\u001b[0;34m\u001b[0m\u001b[0m\n\u001b[1;32m   1033\u001b[0m     \u001b[0;31m# try to load fast, cythonized code if possible\u001b[0m\u001b[0;34m\u001b[0m\u001b[0;34m\u001b[0m\u001b[0m\n\u001b[0;32m-> 1034\u001b[0;31m     \u001b[0;32mfrom\u001b[0m \u001b[0mgensim\u001b[0m\u001b[0;34m.\u001b[0m\u001b[0m_matutils\u001b[0m \u001b[0;32mimport\u001b[0m \u001b[0mlogsumexp\u001b[0m\u001b[0;34m,\u001b[0m \u001b[0mmean_absolute_difference\u001b[0m\u001b[0;34m,\u001b[0m \u001b[0mdirichlet_expectation\u001b[0m\u001b[0;34m\u001b[0m\u001b[0;34m\u001b[0m\u001b[0m\n\u001b[0m\u001b[1;32m   1035\u001b[0m \u001b[0;34m\u001b[0m\u001b[0m\n\u001b[1;32m   1036\u001b[0m \u001b[0;32mexcept\u001b[0m \u001b[0mImportError\u001b[0m\u001b[0;34m:\u001b[0m\u001b[0;34m\u001b[0m\u001b[0;34m\u001b[0m\u001b[0m\n",
            "\u001b[0;32m/usr/local/lib/python3.11/dist-packages/gensim/_matutils.pyx\u001b[0m in \u001b[0;36minit gensim._matutils\u001b[0;34m()\u001b[0m\n",
            "\u001b[0;31mValueError\u001b[0m: numpy.dtype size changed, may indicate binary incompatibility. Expected 96 from C header, got 88 from PyObject"
          ]
        }
      ]
    },
    {
      "cell_type": "code",
      "execution_count": null,
      "metadata": {
        "id": "NN1NsbzpUAwL",
        "outputId": "7cff6d8b-9e23-473f-ec53-e3515aa0c29d",
        "colab": {
          "base_uri": "https://localhost:8080/"
        }
      },
      "outputs": [
        {
          "output_type": "execute_result",
          "data": {
            "text/plain": [
              "['fasttext-wiki-news-subwords-300',\n",
              " 'conceptnet-numberbatch-17-06-300',\n",
              " 'word2vec-ruscorpora-300',\n",
              " 'word2vec-google-news-300',\n",
              " 'glove-wiki-gigaword-50',\n",
              " 'glove-wiki-gigaword-100',\n",
              " 'glove-wiki-gigaword-200',\n",
              " 'glove-wiki-gigaword-300',\n",
              " 'glove-twitter-25',\n",
              " 'glove-twitter-50',\n",
              " 'glove-twitter-100',\n",
              " 'glove-twitter-200',\n",
              " '__testing_word2vec-matrix-synopsis']"
            ]
          },
          "metadata": {},
          "execution_count": 3
        }
      ],
      "source": [
        "import gensim.downloader\n",
        "# Show all available models in gensim-data\n",
        "list(gensim.downloader.info()['models'].keys())"
      ]
    },
    {
      "cell_type": "markdown",
      "source": [
        "## Let us get `word2vec-google-news-300`\n",
        "⏲ it will take a while"
      ],
      "metadata": {
        "id": "EewFXYT4qpn2"
      }
    },
    {
      "cell_type": "code",
      "execution_count": null,
      "metadata": {
        "id": "UEzX9ofIUAwL",
        "colab": {
          "base_uri": "https://localhost:8080/"
        },
        "outputId": "d39dce72-b20e-4a26-9fe9-55e256209cde"
      },
      "outputs": [
        {
          "output_type": "stream",
          "name": "stdout",
          "text": [
            "[==================================================] 100.0% 1662.8/1662.8MB downloaded\n"
          ]
        }
      ],
      "source": [
        "import gensim.downloader as api\n",
        "wv = api.load('word2vec-google-news-300')\n",
        "# [==================================================] 100.0% 1662.8/1662.8MB downloaded"
      ]
    },
    {
      "cell_type": "markdown",
      "metadata": {
        "id": "X5vSyvOZUAwM"
      },
      "source": [
        "### **EXERCISE 8** 💻\n",
        "Print the size of the vocabulary\n",
        "\n",
        "_Hint: Search gensim documentation or help(wv)_"
      ]
    },
    {
      "cell_type": "code",
      "source": [
        "# @title 🧑🏿‍💻 Your code here"
      ],
      "metadata": {
        "id": "PzhIdzv-q8Ly"
      },
      "execution_count": null,
      "outputs": []
    },
    {
      "cell_type": "code",
      "execution_count": null,
      "metadata": {
        "id": "CnhjnlSIUAwM",
        "outputId": "8bd56ca4-73d0-4c5e-964f-10952781ff81",
        "colab": {
          "base_uri": "https://localhost:8080/",
          "height": 53
        }
      },
      "outputs": [
        {
          "output_type": "stream",
          "name": "stdout",
          "text": [
            "vocabulary size is 3000000\n"
          ]
        },
        {
          "output_type": "execute_result",
          "data": {
            "text/plain": [
              "'Your code here'"
            ],
            "application/vnd.google.colaboratory.intrinsic+json": {
              "type": "string"
            }
          },
          "metadata": {},
          "execution_count": 44
        }
      ],
      "source": [
        "N = len(wv.index_to_key)\n",
        "print(f'vocabulary size is {N}')"
      ]
    },
    {
      "cell_type": "markdown",
      "source": [
        "### **EXERCISE 9** 💻\n",
        "\n",
        "Show the first 10 words of the vocabulary"
      ],
      "metadata": {
        "id": "lz6hu_DIrmKZ"
      }
    },
    {
      "cell_type": "code",
      "source": [
        "# @title 🧑🏿‍💻 Your code here"
      ],
      "metadata": {
        "id": "FKTfq5CsrhVg"
      },
      "execution_count": null,
      "outputs": []
    },
    {
      "cell_type": "code",
      "source": [
        "# @title 👀 Solution\n",
        "for index, word in enumerate(wv.index_to_key):\n",
        "    if index == 10:\n",
        "        break\n",
        "    print(f\"word #{index} over {N} is {word}\")"
      ],
      "metadata": {
        "colab": {
          "base_uri": "https://localhost:8080/"
        },
        "cellView": "form",
        "id": "gN4MRdE-W5eY",
        "outputId": "0e1dcf7e-1c26-4f38-ac35-3e0878ded03a"
      },
      "execution_count": null,
      "outputs": [
        {
          "output_type": "stream",
          "name": "stdout",
          "text": [
            "word #0 over 3000000 is </s>\n",
            "word #1 over 3000000 is in\n",
            "word #2 over 3000000 is for\n",
            "word #3 over 3000000 is that\n",
            "word #4 over 3000000 is is\n",
            "word #5 over 3000000 is on\n",
            "word #6 over 3000000 is ##\n",
            "word #7 over 3000000 is The\n",
            "word #8 over 3000000 is with\n",
            "word #9 over 3000000 is said\n"
          ]
        }
      ]
    },
    {
      "cell_type": "markdown",
      "metadata": {
        "id": "Ooyb0HRbUAwM"
      },
      "source": [
        "### **EXERCISE 10** 💻\n",
        "\n",
        "Accessing the word embedding `king` and plot the dense vector with matplotlib\n",
        "\n",
        "What is the dimensionality of the word embedding?"
      ]
    },
    {
      "cell_type": "code",
      "source": [
        "# @title 🧑🏿‍💻 Your code here"
      ],
      "metadata": {
        "id": "EEIH4xtgsBIP"
      },
      "execution_count": null,
      "outputs": []
    },
    {
      "cell_type": "code",
      "execution_count": null,
      "metadata": {
        "id": "-Qj0wPH0UAwM",
        "outputId": "d4fdb010-16b6-47a0-d388-5491cadeaa90",
        "colab": {
          "base_uri": "https://localhost:8080/"
        },
        "cellView": "form"
      },
      "outputs": [
        {
          "output_type": "stream",
          "name": "stdout",
          "text": [
            "vector shape is (300,)\n"
          ]
        }
      ],
      "source": [
        "# @title 👀 Solution\n",
        "vec_king = wv['king']\n",
        "print(f'vector shape is {vec_king.shape}')"
      ]
    },
    {
      "cell_type": "code",
      "source": [
        "plt.plot(vec_king);"
      ],
      "metadata": {
        "colab": {
          "base_uri": "https://localhost:8080/",
          "height": 430
        },
        "id": "VeSuLbYZXGbU",
        "outputId": "85cc7268-cfed-4951-8b04-7ee9cf5400a6"
      },
      "execution_count": null,
      "outputs": [
        {
          "output_type": "display_data",
          "data": {
            "text/plain": [
              "<Figure size 640x480 with 1 Axes>"
            ],
            "image/png": "[encoded data removed]"
          },
          "metadata": {}
        }
      ]
    },
    {
      "cell_type": "markdown",
      "metadata": {
        "id": "xUH0KzI2UAwM"
      },
      "source": [
        "⚠ Watch out if you do not pass before through the vocabulary before asking the model ⚠\n",
        "\n",
        "try to access the word `cameroon`  What happens?"
      ]
    },
    {
      "cell_type": "code",
      "source": [
        "# @title 🧑🏿‍💻 Your code here"
      ],
      "metadata": {
        "id": "APHxJJvPXgyB"
      },
      "execution_count": null,
      "outputs": []
    },
    {
      "cell_type": "code",
      "execution_count": null,
      "metadata": {
        "id": "dI3eedSfUAwM",
        "cellView": "form"
      },
      "outputs": [],
      "source": [
        "# @title 👀 Solution\n",
        "try:\n",
        "    vec_cameroon = wv['cameroon']\n",
        "except KeyError:\n",
        "    print(\"The word 'cameroon' does not appear in this model\")"
      ]
    },
    {
      "cell_type": "markdown",
      "metadata": {
        "id": "iyEMpqZ8UAwM"
      },
      "source": [
        "# Word similarities!\n",
        "\n",
        "Word embeddings can provide some notion of **semantic similarities between words**\n",
        "\n",
        "You can use the `wv.similarity(w1, w2)` function to compare two words `w1,w2`"
      ]
    },
    {
      "cell_type": "code",
      "execution_count": null,
      "metadata": {
        "id": "nvlBnRsLUAwM",
        "outputId": "d2657486-2890-4d57-dea4-e815c561b5f6",
        "colab": {
          "base_uri": "https://localhost:8080/"
        }
      },
      "outputs": [
        {
          "output_type": "stream",
          "name": "stdout",
          "text": [
            "'car'\t'minivan'\t0.69\n",
            "'car'\t'bicycle'\t0.54\n",
            "'car'\t'airplane'\t0.42\n",
            "'car'\t'cereal'\t0.14\n",
            "'car'\t'communism'\t0.06\n",
            "'car'\t'cartoon'\t0.03\n"
          ]
        }
      ],
      "source": [
        "pairs = [\n",
        "    ('car', 'minivan'),   # a minivan is a kind of car\n",
        "    ('car', 'bicycle'),   # still a wheeled vehicle\n",
        "    ('car', 'airplane'),  # ok, no wheels, but still a vehicle\n",
        "    ('car', 'cereal'),    # ... and so on\n",
        "    ('car', 'communism'),\n",
        "    ('car', 'cartoon'),\n",
        "]\n",
        "for w1, w2 in pairs:\n",
        "    print('%r\\t%r\\t%.2f' % (w1, w2, wv.similarity(w1, w2)))"
      ]
    },
    {
      "cell_type": "markdown",
      "metadata": {
        "id": "Hq1_UgoPUAwM"
      },
      "source": [
        "# Find the most similar words given queries"
      ]
    },
    {
      "cell_type": "code",
      "execution_count": null,
      "metadata": {
        "id": "M0zXMULmUAwN",
        "outputId": "0b24c0dc-23c4-4fd4-d0c5-afe2101b5ddc",
        "colab": {
          "base_uri": "https://localhost:8080/"
        }
      },
      "outputs": [
        {
          "output_type": "execute_result",
          "data": {
            "text/plain": [
              "[('SUV', 0.8532192707061768),\n",
              " ('vehicle', 0.8175783753395081),\n",
              " ('pickup_truck', 0.7763688564300537),\n",
              " ('Jeep', 0.7567334175109863),\n",
              " ('Ford_Explorer', 0.7565720081329346)]"
            ]
          },
          "metadata": {},
          "execution_count": 10
        }
      ],
      "source": [
        "wv.most_similar(positive=['car', 'minivan'], topn=5)"
      ]
    },
    {
      "cell_type": "markdown",
      "metadata": {
        "id": "rCGv97DZUAwN"
      },
      "source": [
        "# Outlier detection\n",
        "\n",
        "It can also detect words that semantically do not belong to a pool of other words"
      ]
    },
    {
      "cell_type": "code",
      "execution_count": null,
      "metadata": {
        "id": "TJwge0VVUAwN",
        "outputId": "0ca40d72-8914-40e9-f14f-ca7c18af25db",
        "colab": {
          "base_uri": "https://localhost:8080/",
          "height": 35
        }
      },
      "outputs": [
        {
          "output_type": "execute_result",
          "data": {
            "text/plain": [
              "'car'"
            ],
            "application/vnd.google.colaboratory.intrinsic+json": {
              "type": "string"
            }
          },
          "metadata": {},
          "execution_count": 11
        }
      ],
      "source": [
        "wv.doesnt_match(['fire', 'water', 'land', 'sea', 'air', 'car'])"
      ]
    },
    {
      "cell_type": "markdown",
      "metadata": {
        "id": "CAcIu3rDUAwN"
      },
      "source": [
        "# Analogy using the learned embedding space\n",
        "\n",
        "- word2vec learns relationships between words automatically\n",
        "- Arithmetic of the vectors has **surprising properties!**\n",
        "\n",
        "`a is to b as a* is to what?`\n",
        "\n",
        "`Man is to King as Woman is to ______`"
      ]
    },
    {
      "cell_type": "markdown",
      "metadata": {
        "id": "fCvbHuXuUAwN"
      },
      "source": [
        "### Algebric way\n",
        "\n",
        "$$\\bmf{\\theta}_W(\\text{king}) - \\bmf{\\theta}_W(\\text{man}) + \\bmf{\\theta}_W(\\text{woman}) \\approx \\bmf{\\theta}_W(\\text{queen})$$"
      ]
    },
    {
      "cell_type": "markdown",
      "metadata": {
        "id": "BHF1mKYDUAwN"
      },
      "source": [
        "# Analogy using the learned embedding space\n",
        "### Geometric way (parallelogram model)\n",
        "<div align='center'><img src=\"https://github.com/iacopomasi/NLP/blob/main/course/AA2324/2_01_lsa_intro_word2vec/figs/word2vec_analogy.png?raw=1\" width='35%' ></div>"
      ]
    },
    {
      "cell_type": "markdown",
      "metadata": {
        "id": "Fizmt1SNUAwN"
      },
      "source": [
        "# Analogy using the learned embedding space\n",
        "### Optimization\n",
        "$$ \\mbf{a}:\\mbf{b} = \\mbf{a}^{\\star}: \\mbf{b}^{\\star} (?) $$\n",
        "\n",
        "$$ \\mbf{b}^{\\star} = \\arg\\max_{\\mbf{x}} \\text{sim}(\\mbf{x},\\mbf{b}-\\mbf{a}+\\mbf{a}^{\\star})$$\n",
        "\n",
        "<div align='center'><img src=\"https://github.com/iacopomasi/NLP/blob/main/course/AA2324/2_01_lsa_intro_word2vec/figs/word2vec_analogy.png?raw=1\" width='35%' ></div>"
      ]
    },
    {
      "cell_type": "markdown",
      "metadata": {
        "id": "Xebb8uqgUAwN"
      },
      "source": [
        "# Analogy"
      ]
    },
    {
      "cell_type": "markdown",
      "source": [
        "### **EXERCISE 11** 💻\n",
        "\n",
        "Define a function `analogy` that using word2vec gensim API can perform analogies between words.\n",
        "\n",
        "_Hints: use most similar with positive and negatives_\n",
        "\n"
      ],
      "metadata": {
        "id": "nVgAyBajs1JZ"
      }
    },
    {
      "cell_type": "code",
      "source": [
        "def analogy(x1, x2, y1):\n",
        "    pass"
      ],
      "metadata": {
        "id": "k1oIo-v9tEwr"
      },
      "execution_count": null,
      "outputs": []
    },
    {
      "cell_type": "code",
      "execution_count": null,
      "metadata": {
        "id": "0nEgj7h9UAwN",
        "cellView": "form"
      },
      "outputs": [],
      "source": [
        "# @title 👀 Solution\n",
        "def analogy(x1, x2, y1):\n",
        "    result = wv.most_similar(positive=[y1, x2], negative=[x1])\n",
        "    return result[0][0]"
      ]
    },
    {
      "cell_type": "markdown",
      "source": [
        "## Try it out!"
      ],
      "metadata": {
        "id": "aeP1NCw3tPfr"
      }
    },
    {
      "cell_type": "code",
      "execution_count": null,
      "metadata": {
        "id": "xTVKYDQfUAwN",
        "outputId": "7cb630cd-d008-4ba9-e74b-9bb319fa9486",
        "colab": {
          "base_uri": "https://localhost:8080/",
          "height": 35
        }
      },
      "outputs": [
        {
          "output_type": "execute_result",
          "data": {
            "text/plain": [
              "'queen'"
            ],
            "application/vnd.google.colaboratory.intrinsic+json": {
              "type": "string"
            }
          },
          "metadata": {},
          "execution_count": 13
        }
      ],
      "source": [
        "analogy('man', 'king', 'woman')"
      ]
    },
    {
      "cell_type": "code",
      "execution_count": null,
      "metadata": {
        "id": "4bW2gnqzUAwO",
        "outputId": "cbdbc3c2-57ea-4032-950a-d2328c32f555",
        "colab": {
          "base_uri": "https://localhost:8080/",
          "height": 35
        }
      },
      "outputs": [
        {
          "output_type": "execute_result",
          "data": {
            "text/plain": [
              "'beers'"
            ],
            "application/vnd.google.colaboratory.intrinsic+json": {
              "type": "string"
            }
          },
          "metadata": {},
          "execution_count": 14
        }
      ],
      "source": [
        "analogy('australia', 'beer', 'france')\n",
        "# does not work well with Glove should give you champagne"
      ]
    },
    {
      "cell_type": "code",
      "execution_count": null,
      "metadata": {
        "id": "edbirjQ4UAwO",
        "outputId": "98ae08ac-99d1-44f2-ebed-f3708ff49f74",
        "colab": {
          "base_uri": "https://localhost:8080/",
          "height": 35
        }
      },
      "outputs": [
        {
          "output_type": "execute_result",
          "data": {
            "text/plain": [
              "'kerry'"
            ],
            "application/vnd.google.colaboratory.intrinsic+json": {
              "type": "string"
            }
          },
          "metadata": {},
          "execution_count": 15
        }
      ],
      "source": [
        "analogy('obama', 'clinton', 'reagan')"
      ]
    },
    {
      "cell_type": "code",
      "execution_count": null,
      "metadata": {
        "id": "whXiwX7AUAwO",
        "outputId": "caf4b83a-a252-4862-984f-f86fbb10cb8f",
        "colab": {
          "base_uri": "https://localhost:8080/",
          "height": 35
        }
      },
      "outputs": [
        {
          "output_type": "execute_result",
          "data": {
            "text/plain": [
              "'longest'"
            ],
            "application/vnd.google.colaboratory.intrinsic+json": {
              "type": "string"
            }
          },
          "metadata": {},
          "execution_count": 16
        }
      ],
      "source": [
        "analogy('tall', 'tallest', 'long')"
      ]
    },
    {
      "cell_type": "code",
      "execution_count": null,
      "metadata": {
        "id": "EnAG03H9UAwO",
        "outputId": "c1c05ea9-6a99-4349-ca10-54c6b3ab350d",
        "colab": {
          "base_uri": "https://localhost:8080/",
          "height": 35
        }
      },
      "outputs": [
        {
          "output_type": "execute_result",
          "data": {
            "text/plain": [
              "'horrible'"
            ],
            "application/vnd.google.colaboratory.intrinsic+json": {
              "type": "string"
            }
          },
          "metadata": {},
          "execution_count": 17
        }
      ],
      "source": [
        "analogy('good', 'fantastic', 'bad')"
      ]
    },
    {
      "cell_type": "markdown",
      "source": [
        "# Other Exercises\n",
        "\n",
        "### Objective:\n",
        "\n",
        "The goal of these exercises is to deepen your understanding of word vectors (also known as word embeddings) by performing a series of tasks that involve manipulating and analyzing these vectors. Word vectors are a fundamental concept in natural language processing (NLP) and underpin many modern AI models and applications."
      ],
      "metadata": {
        "id": "rfjDgRBEtRvU"
      }
    },
    {
      "cell_type": "markdown",
      "source": [
        "## 1. Words Similarity"
      ],
      "metadata": {
        "id": "gQoTLz_kzn4p"
      }
    },
    {
      "cell_type": "markdown",
      "source": [
        "### **EXERCISE 12** 💻\n",
        "Compute cosine similarities between the following words\n",
        "pairs = [('king', 'queen'), ('Paris', 'France'), ('apple', 'orange')]\n",
        "\n",
        "You have to implement the cosine similarity by hand."
      ],
      "metadata": {
        "id": "8em_kz4HteLD"
      }
    },
    {
      "cell_type": "code",
      "source": [
        "# @title 🧑🏿‍💻 Your code here\n",
        "# Compute cosine similarities\n",
        "pairs = [('king', 'queen'), ('Paris', 'France'), ('apple', 'orange')]\n",
        "\n",
        "def cosine_similarity(vec1, vec2):\n",
        "    '''\n",
        "    Your Code\n",
        "    '''\n",
        "    return 0\n",
        "\n",
        "# Test the cosine_similarity function\n",
        "for word1, word2 in pairs:\n",
        "    similarity = cosine_similarity(wv[word1], wv[word2])\n",
        "    print(f\"Cosine similarity between '{word1}' and '{word2}': {similarity:.2f}\")"
      ],
      "metadata": {
        "id": "5p3QGBiftTR9",
        "colab": {
          "base_uri": "https://localhost:8080/"
        },
        "outputId": "4d7cca16-ca48-4f69-f703-9ac2e55f8476"
      },
      "execution_count": null,
      "outputs": [
        {
          "output_type": "stream",
          "name": "stdout",
          "text": [
            "Cosine similarity between 'king' and 'queen': 0.00\n",
            "Cosine similarity between 'Paris' and 'France': 0.00\n",
            "Cosine similarity between 'apple' and 'orange': 0.00\n"
          ]
        }
      ]
    },
    {
      "cell_type": "code",
      "source": [
        "# @title 👀 Solution\n",
        "def cosine_similarity(vec1, vec2):\n",
        "  return np.dot(vec1, vec2) / (np.linalg.norm(vec1) * np.linalg.norm(vec2))\n",
        "\n",
        "for word1, word2 in pairs:\n",
        "  similarity = cosine_similarity(wv[word1], wv[word2])\n",
        "  print(f\"Cosine similarity between '{word1}' and '{word2}': {similarity:.2f}\")"
      ],
      "metadata": {
        "colab": {
          "base_uri": "https://localhost:8080/"
        },
        "id": "5dVf65q96966",
        "outputId": "7224617e-a5a5-40a4-e1db-20e2e0adf3da",
        "cellView": "form"
      },
      "execution_count": null,
      "outputs": [
        {
          "output_type": "stream",
          "name": "stdout",
          "text": [
            "Cosine similarity between 'king' and 'queen': 0.65\n",
            "Cosine similarity between 'Paris' and 'France': 0.63\n",
            "Cosine similarity between 'apple' and 'orange': 0.39\n"
          ]
        }
      ]
    },
    {
      "cell_type": "markdown",
      "source": [
        "## 2. Words Clustering"
      ],
      "metadata": {
        "id": "OinkZYm_zzY9"
      }
    },
    {
      "cell_type": "code",
      "source": [
        "words = ['dog', 'cat', 'apple',  'pear', 'pie', 'pasta', 'orange', 'king', 'queen',\n",
        "         'car', 'bicycle', 'Paris', 'London', 'happy', 'sad', 'big', 'small', 'fast',\n",
        "         'slow', 'hot', 'cold', 'bright', 'dark']"
      ],
      "metadata": {
        "id": "v7y-LOCO6qof"
      },
      "execution_count": null,
      "outputs": []
    },
    {
      "cell_type": "code",
      "source": [
        "# @title 🧑🏿‍💻 Your code here\n",
        "import numpy as np\n",
        "from sklearn.cluster import KMeans\n",
        "# Select words and extract their vectors\n",
        "word_vectors = np.array([wv[word] for word in words])\n",
        "\n",
        "# Perform K-means clustering\n",
        "kmeans = KMeans(n_clusters=4, random_state=0, n_init='auto')\n",
        "clusters_dict = {}\n",
        "\n",
        "# Cluster word vectors and fill the dictionary\n",
        "'''\n",
        "Your Code\n",
        "'''\n",
        "\n",
        "for cluster, cl_words in enumerate(clusters_dict.values()):\n",
        "    print(f\"Cluster {cluster}: {cl_words}\")"
      ],
      "metadata": {
        "id": "-rFRfjoA6rsI"
      },
      "execution_count": null,
      "outputs": []
    },
    {
      "cell_type": "code",
      "source": [
        "# @title 👀 Solution\n",
        "from sklearn.cluster import KMeans\n",
        "\n",
        "# Perform K-means clustering\n",
        "kmeans = KMeans(n_clusters=4, random_state=0, n_init='auto')\n",
        "kmeans = kmeans.fit(word_vectors)\n",
        "clusters = kmeans.labels_\n",
        "\n",
        "# then we can iterate over the clusters\n",
        "clusters_dict = {}\n",
        "for i, cluster in enumerate(clusters):\n",
        "    if cluster not in clusters_dict:\n",
        "        clusters_dict[cluster] = []\n",
        "    clusters_dict[cluster].append(words[i])\n",
        "\n",
        "for cluster, cl_words in enumerate(clusters_dict.values()):\n",
        "    print(f\"Cluster {cluster}: {cl_words}\")"
      ],
      "metadata": {
        "id": "jJBFfhr5sKRY"
      },
      "execution_count": null,
      "outputs": []
    },
    {
      "cell_type": "markdown",
      "source": [
        "### **EXERCISE 13** 💻 Vector Space Visualization\n",
        "\n",
        "Let's visualize the word vectors from the previous exercise on a 2D Plot."
      ],
      "metadata": {
        "id": "gk5Wvnqq0Ab-"
      }
    },
    {
      "cell_type": "code",
      "source": [
        "# @title 🧑🏿‍💻 Your code here\n",
        "# To do so, we must first reduce the number of dimensions (you may use PCA or T-SNE)\n",
        "'''\n",
        "Your Code\n",
        "'''"
      ],
      "metadata": {
        "id": "FYTX6COq_oT0",
        "colab": {
          "base_uri": "https://localhost:8080/",
          "height": 35
        },
        "outputId": "b881389f-29bb-48c1-db3a-f37126c69f90"
      },
      "execution_count": null,
      "outputs": [
        {
          "output_type": "execute_result",
          "data": {
            "text/plain": [
              "'\\nYour Code\\n'"
            ],
            "application/vnd.google.colaboratory.intrinsic+json": {
              "type": "string"
            }
          },
          "metadata": {},
          "execution_count": 28
        }
      ]
    },
    {
      "cell_type": "code",
      "source": [
        "# @title 🧑🏿‍💻 Your code here\n",
        "# Then, we can plot them using Matplotlib.\n",
        "'''\n",
        "Your Code\n",
        "'''"
      ],
      "metadata": {
        "id": "leJsU5UH_6zz",
        "colab": {
          "base_uri": "https://localhost:8080/",
          "height": 35
        },
        "outputId": "672a8afc-b2ed-43e0-a5fc-c824741884e8"
      },
      "execution_count": null,
      "outputs": [
        {
          "output_type": "execute_result",
          "data": {
            "text/plain": [
              "'\\nYour Code\\n'"
            ],
            "application/vnd.google.colaboratory.intrinsic+json": {
              "type": "string"
            }
          },
          "metadata": {},
          "execution_count": 29
        }
      ]
    },
    {
      "cell_type": "code",
      "source": [
        "# @title 👀 Solution\n",
        "from sklearn.decomposition import PCA\n",
        "import matplotlib.pyplot as plt\n",
        "\n",
        "# Reduce dimensions\n",
        "pca = PCA(n_components=2, random_state=0)\n",
        "word_vectors_2d = pca.fit_transform(word_vectors)\n",
        "# Plot\n",
        "plt.figure(figsize=(10, 10))\n",
        "for i, word in enumerate(words):\n",
        "    plt.scatter(word_vectors_2d[i, 0], word_vectors_2d[i, 1])\n",
        "    plt.annotate(word, xy=(word_vectors_2d[i, 0], word_vectors_2d[i, 1]), xytext=(5, 2),\n",
        "                 textcoords='offset points', ha='right', va='bottom')\n",
        "plt.show()"
      ],
      "metadata": {
        "id": "tksVF1ySsZWX",
        "cellView": "form"
      },
      "execution_count": null,
      "outputs": []
    },
    {
      "cell_type": "markdown",
      "source": [
        "### **EXERCISE 14** 💻 Sentiment Analysis\n",
        "\n",
        "### Objective\n",
        "\n",
        "The goal of this exercise is to introduce you to a basic form of sentiment analysis by leveraging word vectors. You will develop a Python script that analyzes the sentiment of text data by counting the number of terms classified as positive or negative based on their similarity to known positive and negative words.\n",
        "\n",
        "### Background\n",
        "\n",
        "Sentiment analysis is a common task in natural language processing (NLP) that involves determining the emotional tone behind a body of text. This is a basic form of sentiment analysis focusing on the occurrence of explicitly positive or negative terms, enhanced by the semantic understanding provided by word vectors.\n",
        "\n",
        "### Tasks\n",
        "\n",
        "1. Preparation:\n",
        "  - Choose a pre-trained word vector model from any library (e.g., Gensim with Word2Vec, GloVe, or FastText embeddings).\n",
        "  Define a small set of seed words for positive and negative sentiments (e.g., positive: [\"happy\", \"joyful\", \"excited\"], negative: [\"sad\", \"angry\", \"frustrated\"]).\n",
        "2. Sentiment Analysis Function:\n",
        "  - Write a Python function analyze_sentiment(text, model, positive_seeds, negative_seeds) that takes a string of text and the sets of seed words as input and returns the sentiment of the text as either \"Positive\", \"Negative\", or \"Neutral\".\n",
        "  - The function should tokenize the input text into words, extract nouns, and for each noun in the text, use the word vector model to find its closest match in the set of seed words (based on cosine similarity).\n",
        "  - Count how many times words in the text are most similar to the positive seed words versus the negative seed words.\n",
        "  - Determine the overall sentiment based on which type of seed words, positive or negative, has the most matches.\n",
        "3. Analysis:\n",
        "  - Test your function on at least three different sentences of varying sentiment (e.g., clearly positive, clearly negative, and neutral or mixed sentiment).\n",
        "  - Discuss the effectiveness of this method for sentiment analysis. Consider its limitations and potential improvements."
      ],
      "metadata": {
        "id": "HMme-pHhEl0B"
      }
    },
    {
      "cell_type": "code",
      "source": [
        "def sent_analysis_test():\n",
        "\n",
        "  positive_seeds = [] # TODO: choose your seeds\n",
        "  negative_seeds = [] # TODO: choose your seeds\n",
        "\n",
        "  # Test sentences\n",
        "  test_sentences = [\n",
        "      \"I am very happy and excited about the new opportunities.\",\n",
        "      \"I am sad and frustrated with the current situation.\",\n",
        "      \"It's the best day of my life.\",\n",
        "      \"The joyful parade made everyone incredibly happy.\",\n",
        "      \"The sad news left the community in a state of sorrow.\",\n",
        "      \"Today is just an ordinary day.\",\n",
        "      \"Great, another rainy day. Just what I needed to make my weekend perfect.\",\n",
        "      \"Oh wonderful, my favorite show got canceled. What a fantastic way to start the day!\"\n",
        "  ]\n",
        "\n",
        "  for sentence in test_sentences:\n",
        "      sentiment = analyze_sentiment(sentence, wv, positive_seeds, negative_seeds)\n",
        "      print(f\"Sentence: '{sentence}'\\nSentiment: {sentiment}\\n\")"
      ],
      "metadata": {
        "id": "qwiIN0t8Ku_f"
      },
      "execution_count": null,
      "outputs": []
    },
    {
      "cell_type": "code",
      "source": [
        "# @title 🧑🏿‍💻 Your code here\n",
        "from nltk.tokenize import word_tokenize\n",
        "from nltk import pos_tag\n",
        "import numpy as np\n",
        "import nltk\n",
        "\n",
        "nltk.download('punkt')\n",
        "nltk.download('averaged_perceptron_tagger')\n",
        "\n",
        "def analyze_sentiment(text, model, positive_seeds, negative_seeds):\n",
        "    # Tokenize the input text\n",
        "    tokens = word_tokenize(text.lower())\n",
        "\n",
        "    # Tag tokens\n",
        "    tagged_tokens = pos_tag(tokens)\n",
        "\n",
        "    # Filter tokens to include only nouns (NN, NNP, NNS, NNPS)\n",
        "    '''\n",
        "    Your Code\n",
        "    '''\n",
        "\n",
        "    # Initialize counters\n",
        "    positive_count, negative_count = 0, 0\n",
        "\n",
        "    # Count positive and negative nouns\n",
        "    '''\n",
        "    Your Code\n",
        "    '''\n",
        "\n",
        "    # Determine overall sentiment\n",
        "    if positive_count > negative_count:\n",
        "        return \"Positive\"\n",
        "    elif positive_count < negative_count:\n",
        "        return \"Negative\"\n",
        "    else:\n",
        "        return \"Neutral\""
      ],
      "metadata": {
        "colab": {
          "base_uri": "https://localhost:8080/"
        },
        "id": "vcQjInTLEnVu",
        "outputId": "33bae60e-ca83-4d6a-cfeb-c4ff095a6810"
      },
      "execution_count": null,
      "outputs": [
        {
          "output_type": "stream",
          "name": "stderr",
          "text": [
            "[nltk_data] Downloading package punkt to /root/nltk_data...\n",
            "[nltk_data]   Unzipping tokenizers/punkt.zip.\n",
            "[nltk_data] Downloading package averaged_perceptron_tagger to\n",
            "[nltk_data]     /root/nltk_data...\n",
            "[nltk_data]   Unzipping taggers/averaged_perceptron_tagger.zip.\n"
          ]
        }
      ]
    },
    {
      "cell_type": "code",
      "source": [
        "# run to test your solution\n",
        "sent_analysis_test()"
      ],
      "metadata": {
        "id": "d9BF0VEhH7cs",
        "colab": {
          "base_uri": "https://localhost:8080/"
        },
        "outputId": "aa0ca104-aa39-4341-b76d-d247cfeb2238"
      },
      "execution_count": null,
      "outputs": [
        {
          "output_type": "stream",
          "name": "stdout",
          "text": [
            "Sentence: 'I am very happy and excited about the new opportunities.'\n",
            "Sentiment: Neutral\n",
            "\n",
            "Sentence: 'I am sad and frustrated with the current situation.'\n",
            "Sentiment: Neutral\n",
            "\n",
            "Sentence: 'It's the best day of my life.'\n",
            "Sentiment: Neutral\n",
            "\n",
            "Sentence: 'The joyful parade made everyone incredibly happy.'\n",
            "Sentiment: Neutral\n",
            "\n",
            "Sentence: 'The sad news left the community in a state of sorrow.'\n",
            "Sentiment: Neutral\n",
            "\n",
            "Sentence: 'Today is just an ordinary day.'\n",
            "Sentiment: Neutral\n",
            "\n",
            "Sentence: 'Great, another rainy day. Just what I needed to make my weekend perfect.'\n",
            "Sentiment: Neutral\n",
            "\n",
            "Sentence: 'Oh wonderful, my favorite show got canceled. What a fantastic way to start the day!'\n",
            "Sentiment: Neutral\n",
            "\n"
          ]
        }
      ]
    },
    {
      "cell_type": "code",
      "source": [
        "# @title 👀 Solution\n",
        "\n",
        "from nltk.tokenize import word_tokenize\n",
        "from nltk import pos_tag\n",
        "import numpy as np\n",
        "import nltk\n",
        "\n",
        "def sent_analysis_test():\n",
        "\n",
        "  positive_seeds = [\"happy\", \"joyful\", \"excited\"]\n",
        "  negative_seeds = [\"sad\", \"angry\", \"frustrated\"]\n",
        "\n",
        "  # Test sentences\n",
        "  test_sentences = [\n",
        "      \"I am very happy and excited about the new opportunities.\",\n",
        "      \"I am sad and frustrated with the current situation.\",\n",
        "      \"It's the best day of my life.\",\n",
        "      \"The joyful parade made everyone incredibly happy.\",\n",
        "      \"The sad news left the community in a state of sorrow.\",\n",
        "      \"Today is just an ordinary day.\",\n",
        "      \"Great, another rainy day. Just what I needed to make my weekend perfect.\",\n",
        "      \"Oh wonderful, my favorite show got canceled. What a fantastic way to start the day!\"\n",
        "  ]\n",
        "\n",
        "  for sentence in test_sentences:\n",
        "      sentiment = analyze_sentiment(sentence, wv, positive_seeds, negative_seeds)\n",
        "      print(f\"Sentence: '{sentence}'\\nSentiment: {sentiment}\\n\")\n",
        "\n",
        "\n",
        "nltk.download('punkt')\n",
        "nltk.download('averaged_perceptron_tagger')\n",
        "\n",
        "def analyze_sentiment(text, model, positive_seeds, negative_seeds):\n",
        "    # Tokenize the input text\n",
        "    tokens = word_tokenize(text.lower())\n",
        "\n",
        "    # Tag tokens\n",
        "    tagged_tokens = pos_tag(tokens)\n",
        "\n",
        "    # Filter tokens to include only nouns (NN, NNP, NNS, NNPS)\n",
        "    nouns = [word for word, tag in tagged_tokens if tag in ('NN', 'NNP', 'NNS', 'NNPS')]\n",
        "\n",
        "    # Initialize counters\n",
        "    positive_count, negative_count = 0, 0\n",
        "\n",
        "    # Count positive and negative nouns\n",
        "    for noun in nouns:\n",
        "        if noun in model.key_to_index:\n",
        "            # Compute similarities to seed words\n",
        "            positive_similarities = [model.similarity(noun, seed) for seed in positive_seeds]\n",
        "            negative_similarities = [model.similarity(noun, seed) for seed in negative_seeds]\n",
        "\n",
        "            # Sum the similarities for each sentiment\n",
        "            if max(positive_similarities) > max(negative_similarities):\n",
        "                positive_count += 1\n",
        "            elif max(positive_similarities) < max(negative_similarities):\n",
        "                negative_count += 1\n",
        "\n",
        "    # Determine overall sentiment\n",
        "    if positive_count > negative_count:\n",
        "        return \"Positive\"\n",
        "    elif positive_count < negative_count:\n",
        "        return \"Negative\"\n",
        "    else:\n",
        "        return \"Neutral\""
      ],
      "metadata": {
        "id": "MwhNgf-qNvmN",
        "cellView": "form"
      },
      "execution_count": null,
      "outputs": []
    },
    {
      "cell_type": "code",
      "source": [
        "# @title 👀 Solution\n",
        "sent_analysis_test() # Notice any problems?"
      ],
      "metadata": {
        "id": "Z05Q07WIKJjl",
        "cellView": "form"
      },
      "execution_count": null,
      "outputs": []
    }
  ],
  "metadata": {
    "celltoolbar": "Slideshow",
    "kernelspec": {
      "display_name": "Python 3 (ipykernel)",
      "language": "python",
      "name": "python3"
    },
    "language_info": {
      "codemirror_mode": {
        "name": "ipython",
        "version": 3
      },
      "file_extension": ".py",
      "mimetype": "text/x-python",
      "name": "python",
      "nbconvert_exporter": "python",
      "pygments_lexer": "ipython3",
      "version": "3.8.13"
    },
    "latex_envs": {
      "LaTeX_envs_menu_present": true,
      "autoclose": false,
      "autocomplete": false,
      "bibliofile": "biblio.bib",
      "cite_by": "key",
      "current_citInitial": 1,
      "eqLabelWithNumbers": true,
      "eqNumInitial": 1,
      "hotkeys": {
        "equation": "Ctrl-E",
        "itemize": "Ctrl-I"
      },
      "labels_anchors": false,
      "latex_user_defs": false,
      "report_style_numbering": false,
      "user_envs_cfg": false
    },
    "notify_time": "5",
    "rise": {
      "autolaunch": true,
      "overlay": "<div class='myheader'>Natural Language Processing<img src='../sapienza_logo.png'/></div>",
      "transition": "linear"
    },
    "toc": {
      "base_numbering": 1,
      "nav_menu": {},
      "number_sections": true,
      "sideBar": true,
      "skip_h1_title": false,
      "title_cell": "Table of Contents",
      "title_sidebar": "Summary",
      "toc_cell": false,
      "toc_position": {
        "height": "47px",
        "left": "1143px",
        "top": "173px",
        "width": "210.344px"
      },
      "toc_section_display": false,
      "toc_window_display": false
    },
    "varInspector": {
      "cols": {
        "lenName": 16,
        "lenType": 16,
        "lenVar": 40
      },
      "kernels_config": {
        "python": {
          "delete_cmd_postfix": "",
          "delete_cmd_prefix": "del ",
          "library": "var_list.py",
          "varRefreshCmd": "print(var_dic_list())"
        },
        "r": {
          "delete_cmd_postfix": ") ",
          "delete_cmd_prefix": "rm(",
          "library": "var_list.r",
          "varRefreshCmd": "cat(var_dic_list()) "
        }
      },
      "types_to_exclude": [
        "module",
        "function",
        "builtin_function_or_method",
        "instance",
        "_Feature"
      ],
      "window_display": false
    },
    "colab": {
      "provenance": [],
      "toc_visible": true
    }
  },
  "nbformat": 4,
  "nbformat_minor": 0
}