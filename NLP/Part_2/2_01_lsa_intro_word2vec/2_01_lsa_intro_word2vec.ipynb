{
 "cells": [
  {
   "cell_type": "markdown",
   "metadata": {
    "slideshow": {
     "slide_type": "slide"
    }
   },
   "source": [
    "# Natural Language Processing\n",
    "\n",
    "### 2.1 Distributional Semantics, Latent Semantic Analysis and Word2Vec\n",
    "<br><br>\n",
    "Prof. Iacopo Masi and Prof. Stefano Faralli\n",
    "\n",
    "TA: Robert Adrian Minut"
   ]
  },
  {
   "cell_type": "code",
   "execution_count": 1,
   "metadata": {
    "hide_input": true,
    "slideshow": {
     "slide_type": "skip"
    }
   },
   "outputs": [],
   "source": [
    "import matplotlib.pyplot as plt\n",
    "import scipy\n",
    "import random\n",
    "import numpy as np\n",
    "import pandas as pd\n",
    "pd.set_option('display.colheader_justify', 'center')"
   ]
  },
  {
   "cell_type": "code",
   "execution_count": 2,
   "metadata": {
    "hide_input": true,
    "run_control": {
     "marked": false
    },
    "scrolled": true,
    "slideshow": {
     "slide_type": "skip"
    }
   },
   "outputs": [],
   "source": [
    "import matplotlib\n",
    "import matplotlib.pyplot as plt\n",
    "import numpy as np\n",
    "%matplotlib inline\n",
    "#plt.style.use('seaborn-whitegrid')\n",
    "\n",
    "font = {'family' : 'Times',\n",
    "        'weight' : 'bold',\n",
    "        'size'   : 12}\n",
    "\n",
    "matplotlib.rc('font', **font)\n",
    "\n",
    "\n",
    "# Aux functions\n",
    "\n",
    "def plot_grid(Xs, Ys, axs=None):\n",
    "    ''' Aux function to plot a grid'''\n",
    "    t = np.arange(Xs.size) # define progression of int for indexing colormap\n",
    "    if axs:\n",
    "        axs.plot(0, 0, marker='*', color='r', linestyle='none') #plot origin\n",
    "        axs.scatter(Xs,Ys, c=t, cmap='jet', marker='.') # scatter x vs y\n",
    "        axs.axis('scaled') # axis scaled\n",
    "    else:\n",
    "        plt.plot(0, 0, marker='*', color='r', linestyle='none') #plot origin\n",
    "        plt.scatter(Xs,Ys, c=t, cmap='jet', marker='.') # scatter x vs y\n",
    "        plt.axis('scaled') # axis scaled\n",
    "        \n",
    "def linear_map(A, Xs, Ys):\n",
    "    '''Map src points with A'''\n",
    "    # [NxN,NxN] -> NxNx2 # add 3-rd axis, like adding another layer\n",
    "    src = np.stack((Xs,Ys), axis=Xs.ndim)\n",
    "    # flatten first two dimension\n",
    "    # (NN)x2\n",
    "    src_r = src.reshape(-1,src.shape[-1]) #ask reshape to keep last dimension and adjust the rest\n",
    "    # 2x2 @ 2x(NN)\n",
    "    dst = A @ src_r.T # 2xNN\n",
    "    #(NN)x2 and then reshape as NxNx2\n",
    "    dst = (dst.T).reshape(src.shape)\n",
    "    # Access X and Y\n",
    "    return dst[...,0], dst[...,1]\n",
    "\n",
    "\n",
    "def plot_points(ax, Xs, Ys, col='red', unit=None, linestyle='solid'):\n",
    "    '''Plots points'''\n",
    "    ax.set_aspect('equal')\n",
    "    ax.grid(True, which='both')\n",
    "    ax.axhline(y=0, color='gray', linestyle=\"--\")\n",
    "    ax.axvline(x=0, color='gray',  linestyle=\"--\")\n",
    "    ax.plot(Xs, Ys, color=col)\n",
    "    if unit is None:\n",
    "        plotVectors(ax, [[0,1],[1,0]], ['gray']*2, alpha=1, linestyle=linestyle)\n",
    "    else:\n",
    "        plotVectors(ax, unit, [col]*2, alpha=1, linestyle=linestyle)\n",
    "\n",
    "def plotVectors(ax, vecs, cols, alpha=1, linestyle='solid'):\n",
    "    '''Plot set of vectors.'''\n",
    "    for i in range(len(vecs)):\n",
    "        x = np.concatenate([[0,0], vecs[i]])\n",
    "        ax.quiver([x[0]],\n",
    "                   [x[1]],\n",
    "                   [x[2]],\n",
    "                   [x[3]],\n",
    "                   angles='xy', scale_units='xy', scale=1, color=cols[i],\n",
    "                   alpha=alpha, linestyle=linestyle, linewidth=2)"
   ]
  },
  {
   "cell_type": "markdown",
   "metadata": {
    "hide_input": true,
    "slideshow": {
     "slide_type": "skip"
    }
   },
   "source": [
    "## My own latex definitions\n",
    "\n",
    "$$\\def\\mbf#1{\\mathbf{#1}}$$\n",
    "$$\\def\\bmf#1{\\boldsymbol{#1}}$$\n",
    "$$\\def\\bx{\\mbf{x}}$$\n",
    "$$\\def\\bxt#1{\\mbf{x}_{\\text{#1}}}$$\n",
    "$$\\def\\bv{\\mbf{v}}$$\n",
    "$$\\def\\bz{\\mbf{z}}$$\n",
    "$$\\def\\bmu{\\bmf{\\mu}}$$\n",
    "$$\\def\\bsigma{\\bmf{\\Sigma}}$$\n",
    "$$\\def\\Rd#1{\\in \\mathbb{R}^{#1}}$$\n",
    "$$\\def\\chain#1#2{\\frac{\\partial #1}{\\partial #2}}$$\n",
    "$$\\def\\loss{\\mathcal{L}}$$"
   ]
  },
  {
   "cell_type": "markdown",
   "metadata": {
    "slideshow": {
     "slide_type": "slide"
    }
   },
   "source": [
    "# Very Brief Introduction"
   ]
  },
  {
   "cell_type": "markdown",
   "metadata": {
    "cell_style": "split",
    "slideshow": {
     "slide_type": "slide"
    }
   },
   "source": [
    "<img width=\"250\" src=\"https://github.com/iacopomasi/iacopomasi.github.io/blob/master/imgs/iacopomasi_res.jpg?raw=true\">"
   ]
  },
  {
   "cell_type": "markdown",
   "metadata": {
    "cell_style": "split",
    "slideshow": {
     "slide_type": "fragment"
    }
   },
   "source": [
    "## 👨🏼‍🏫 About Me\n",
    "\n",
    "- **Associate Professor** with Sapienza since late 2020\n",
    "- **Adjunct Research Assistant Professor** with University of Southern California (USC), Los Angeles **till August 2022**\n",
    "\n",
    "- Worked as Research Scientist on big DARPA projects (Dept. of Defense) of USA.\n",
    "\n",
    "\n",
    "- My Background:\n",
    " - Computer Vision\n",
    " - Machine Learning\n"
   ]
  },
  {
   "cell_type": "markdown",
   "metadata": {
    "slideshow": {
     "slide_type": "subslide"
    }
   },
   "source": [
    "# I do research in AI\n",
    "\n",
    "## Biometrics, Face Recognition, Adversarial Robustness, Generative Models \n",
    "### Mainly visual domain (images) but I am broadening my range (e.g. NLP!) 😛\n",
    "\n"
   ]
  },
  {
   "cell_type": "markdown",
   "metadata": {
    "slideshow": {
     "slide_type": "subslide"
    }
   },
   "source": [
    "# OmnAI Lab\n",
    "<br>\n",
    "<div align='center'><img src=\"figs/lab.png\" width='50%'></div>"
   ]
  },
  {
   "cell_type": "markdown",
   "metadata": {
    "slideshow": {
     "slide_type": "subslide"
    }
   },
   "source": [
    "# Research Group\n",
    "<br>\n",
    "<div align='center'><img src=\"figs/people.png\" width='40%'></div>"
   ]
  },
  {
   "cell_type": "markdown",
   "metadata": {
    "slideshow": {
     "slide_type": "subslide"
    }
   },
   "source": [
    "# My Path\n",
    "<div align='center'><img src=\"figs/path.png\" width='80%'></div>"
   ]
  },
  {
   "cell_type": "markdown",
   "metadata": {
    "slideshow": {
     "slide_type": "subslide"
    }
   },
   "source": [
    "# Latest Research Effort (Sapienza)\n",
    "## Shedding More Light on Robust Classifiers under the lens of Energy-based Models\n",
    "\n",
    "<div align='center'><img src=\"figs/shed_1.png\" width='60%'></div>\n",
    "<div align='center'><img src=\"figs/shed_2.png\" width='60%'></div>"
   ]
  },
  {
   "cell_type": "markdown",
   "metadata": {
    "cell_style": "split",
    "slideshow": {
     "slide_type": "slide"
    }
   },
   "source": [
    "# Stanford NLP Course \n",
    "<div align='center'><img src=\"figs/stanford.png\" width='85%' ></div>\n"
   ]
  },
  {
   "cell_type": "markdown",
   "metadata": {
    "cell_style": "split",
    "slideshow": {
     "slide_type": "fragment"
    }
   },
   "source": [
    "# Sapienza NLP Course 2023\n",
    "\n",
    "<div align='center'><img src=\"figs/sapienza_nlp.png\" width='85%' ></div>"
   ]
  },
  {
   "cell_type": "markdown",
   "metadata": {
    "cell_style": "split",
    "slideshow": {
     "slide_type": "slide"
    }
   },
   "source": [
    "# Sapienza NLP Course 2024\n",
    "<br>\n",
    "<div align='center'><img src=\"figs/sapienza_nlp.png\" width='85%' ></div>"
   ]
  },
  {
   "cell_type": "markdown",
   "metadata": {
    "cell_style": "split",
    "slideshow": {
     "slide_type": "fragment"
    }
   },
   "source": [
    "# Sapienza NLP Course 2025\n",
    "\n",
    "Welcome **Adrian**!\n",
    "<div align='center'><img src=\"figs/sapienza_nlp2.png\" width='85%' ></div>"
   ]
  },
  {
   "cell_type": "markdown",
   "metadata": {
    "slideshow": {
     "slide_type": "slide"
    }
   },
   "source": [
    "# Today's lecture\n",
    "## - From Sparse to Distributed Representations\n",
    "## - Latent Semantic Analysis (LSA)\n",
    "## - Introduction to Word2Vec"
   ]
  },
  {
   "cell_type": "markdown",
   "metadata": {
    "slideshow": {
     "slide_type": "slide"
    }
   },
   "source": [
    "# This lecture material is taken from\n",
    "📘 **Chapter 5 and 6 Jurafsky Book**\n",
    "\n",
    "📘 **Chapter 14.5 Eisenstein Book**\n",
    "- [Stanford Slide Word2Vec](http://web.stanford.edu/class/cs224n/slides/cs224n-2022-lecture01-wordvecs1.pdf)\n",
    "- [Stanford Lecture Word2Vec](https://www.youtube.com/watch?v=rmVRLeJRkl4&list=PLoROMvodv4rOSH4v6133s9LFPRHjEmbmJ&index=1)\n",
    "- [Stanford Notes on Word2Vec](http://web.stanford.edu/class/cs224n/readings/cs224n-2019-notes01-wordvecs1.pdf)\n",
    "\n",
    "**LSA** part is taken from **[Introduction to Information Retrieval by Manning](https://nlp.stanford.edu/IR-book/pdf/18lsi.pdf)**\n",
    "\n",
    "**Truncated SVD** from [sklearn](https://scikit-learn.org/stable/modules/decomposition.html#truncated-singular-value-decomposition-and-latent-semantic-analysis)\n",
    "\n",
    "📝 Research papers on word2vec:\n",
    "- [First paper: word2vec + hierarchical softmax](https://arxiv.org/pdf/1301.3781.pdf)\n",
    "- [Negative Sampling paper](https://proceedings.neurips.cc/paper/2013/file/9aa42b31882ec039965f3c4923ce901b-Paper.pdf)"
   ]
  },
  {
   "cell_type": "markdown",
   "metadata": {
    "slideshow": {
     "slide_type": "slide"
    }
   },
   "source": [
    "# Word2vec and Distributed Representations\n",
    "\n",
    "- Word2vec is a method for learning **distributed representations** of words (also called **word embeddings**).\n",
    "- These representations capture the **meanings of words** in a continuous vector space, where similar words are mapped to nearby points.\n",
    "- This allows words to be used in natural language processing tasks like **language translation** and **text classification**, in a way that reflects their meanings."
   ]
  },
  {
   "cell_type": "markdown",
   "metadata": {
    "slideshow": {
     "slide_type": "subslide"
    }
   },
   "source": [
    "# Word2vec and Distributed Representations\n",
    "\n",
    "- Distributed representations are useful because they **encode words in a way that preserves relationships** between them.\n",
    "- Word2vec uses a **shallow neural network** to learn these representations from large amounts of unannotated text data.\n",
    "- The word2vec model has two main learning algorithms: **continuous bag-of-words (CBOW)** and **skip-gram**. These algorithms have different strengths and are suitable for different tasks."
   ]
  },
  {
   "cell_type": "markdown",
   "metadata": {
    "slideshow": {
     "slide_type": "subslide"
    }
   },
   "source": [
    "...but there is a problem with the slides before 🤨 "
   ]
  },
  {
   "cell_type": "markdown",
   "metadata": {
    "slideshow": {
     "slide_type": "fragment"
    }
   },
   "source": [
    "...does anyone spot any problem?"
   ]
  },
  {
   "cell_type": "markdown",
   "metadata": {
    "slideshow": {
     "slide_type": "fragment"
    }
   },
   "source": [
    "well, they have been generated by a **large NLP language model optimized for dialogue 🤖**"
   ]
  },
  {
   "cell_type": "markdown",
   "metadata": {
    "slideshow": {
     "slide_type": "subslide"
    }
   },
   "source": [
    "# ChatGPT, if you do not believe me\n",
    "\n",
    "<br>\n",
    "<div align='center'><img src=\"figs/chatgpt_01.png\" width='45%' ></div>\n"
   ]
  },
  {
   "cell_type": "markdown",
   "metadata": {
    "slideshow": {
     "slide_type": "subslide"
    }
   },
   "source": [
    "# To keep you motivated, let me entertain you...\n",
    "\n",
    "Let's try latest NLP success **[ChatGPT](https://chat.openai.com/chat) by OpenAI**\n",
    "<br><br>\n",
    "<div align='center'><img src=\"figs/chatgpt_02.png\" width='45%' ></div>"
   ]
  },
  {
   "cell_type": "markdown",
   "metadata": {
    "slideshow": {
     "slide_type": "slide"
    }
   },
   "source": [
    "# NLP\n",
    "\n",
    "\n",
    "- Human (natural) language is different than Computer (Artificial) languages\n",
    "- Human language is a system specifically constructed to **convey meaning**\n",
    "- Vision is produced by a **physical manifestation of a signal**, **NLP is not**\n",
    "- Human language uses symbols to indicate extra-linguistic entities\n",
    "\n",
    "<br><br>\n",
    "<center>\n",
    "<h2>Word : Signifier = Idea : Signified</h2>\n",
    "<h2>\"tree\" = {🎄,🌳,🌴,🌲,🏝,}</h2>\n",
    "</center>\n",
    "\n",
    "\n",
    "<br>\n",
    "\n",
    "_Stat rosa pristina nomine, nomina nuda tenemus_"
   ]
  },
  {
   "cell_type": "markdown",
   "metadata": {
    "slideshow": {
     "slide_type": "subslide"
    }
   },
   "source": [
    "# NLP models discrete symbols\n",
    "\n",
    "\n",
    "- Vision and Audio are modeled as continuous signals that are then discretized (e.g. images)\n",
    "- NLP instead is a **discrete/symbolic/categorical** domain.\n",
    "    - This is why so far you have seen a lot of `count()`. \n",
    "    - All the math involved in NLP is mostly **discrete math**."
   ]
  },
  {
   "cell_type": "markdown",
   "metadata": {
    "slideshow": {
     "slide_type": "subslide"
    }
   },
   "source": [
    "# Let's take a quick grasp of the difference between NLP and Vision"
   ]
  },
  {
   "cell_type": "markdown",
   "metadata": {
    "slideshow": {
     "slide_type": "subslide"
    }
   },
   "source": [
    "# Let's sample from a English Corpus"
   ]
  },
  {
   "cell_type": "code",
   "execution_count": 3,
   "metadata": {
    "slideshow": {
     "slide_type": "slide"
    }
   },
   "outputs": [],
   "source": [
    "# downloaded from https://www.nltk.org/nltk_data/\n",
    "# https://raw.githubusercontent.com/nltk/nltk_data/gh-pages/packages/corpora/words.zip\n",
    "with open('data/en-basic.txt') as fr: words = fr.read().split('\\n')"
   ]
  },
  {
   "cell_type": "markdown",
   "metadata": {
    "slideshow": {
     "slide_type": "slide"
    }
   },
   "source": [
    "```python\n",
    "print(*random.choices(words, k=100), sep=' ')\n",
    "```"
   ]
  },
  {
   "cell_type": "markdown",
   "metadata": {
    "slideshow": {
     "slide_type": "subslide"
    }
   },
   "source": [
    "# \"Unigram\" model (no use of frequency)\n",
    "\n",
    "Sampling from a corpus of **#{{len(words)}} words**\n",
    "\n",
    "```\n",
    "{{random.seed(42);print(*random.choices(words,k=100), sep=' ')}}\n",
    "```"
   ]
  },
  {
   "cell_type": "markdown",
   "metadata": {
    "slideshow": {
     "slide_type": "fragment"
    }
   },
   "source": [
    "The text **globally does not make sense** but we still understand each word.\n",
    "\n",
    "At times, **a few parts seem almost meaningful**:\n",
    "- `and enough deep secret`\n",
    "- `warm the fire property`\n",
    "- `so industry basket`"
   ]
  },
  {
   "cell_type": "markdown",
   "metadata": {
    "slideshow": {
     "slide_type": "subslide"
    }
   },
   "source": [
    "# now  with Vision"
   ]
  },
  {
   "cell_type": "code",
   "execution_count": 4,
   "metadata": {
    "slideshow": {
     "slide_type": "subslide"
    }
   },
   "outputs": [
    {
     "name": "stdout",
     "output_type": "stream",
     "text": [
      "Image shape is (120, 120, 4) --> HxWx(RGBA)\n"
     ]
    },
    {
     "data": {
      "image/png": "[encoded data removed]",
      "text/plain": [
       "<Figure size 700x700 with 1 Axes>"
      ]
     },
     "metadata": {},
     "output_type": "display_data"
    }
   ],
   "source": [
    "import matplotlib.pyplot as plt\n",
    "import matplotlib.image as mpimg\n",
    "img = mpimg.imread('data/mario.png')\n",
    "plt.figure(figsize=(7,7));\n",
    "imgplot = plt.imshow(img)\n",
    "plt.axis('off');\n",
    "print(f'Image shape is {img.shape} --> HxWx(RGBA)');"
   ]
  },
  {
   "cell_type": "markdown",
   "metadata": {
    "slideshow": {
     "slide_type": "subslide"
    },
    "variables": {
     "plt.figure(figsize=(5,5));_=plt.imshow(img);_=plt.axis('off');": "<p><strong>NameError</strong>: name &#39;plt&#39; is not defined</p>\n"
    }
   },
   "source": [
    "# Vision\n",
    "\n",
    "Mario below is an instance in space of $\\mathbb{Z}_{[0,255]}^{120\\times120\\times3}$,  if we do not consider the alpha channel.\n",
    "- each pixel takes value in $[0,255]$\n",
    "- we have HxWx3 cell grid to fill\n",
    "\n",
    "<center>\n",
    "{{plt.figure(figsize=(5,5));_=plt.imshow(img);_=plt.axis('off');}}\n",
    "</center>"
   ]
  },
  {
   "cell_type": "markdown",
   "metadata": {
    "slideshow": {
     "slide_type": "subslide"
    }
   },
   "source": [
    "# Let's sample randomly in the \"visual\" space\n",
    "\n",
    "```python\n",
    "import numpy as np\n",
    "rand_im = random.choices(range(0, 256), k=120*120*3)\n",
    "rand_im = np.array(rand_im).reshape(120, 120, 3)\n",
    "imgplot = plt.imshow(rand_im)\n",
    "plt.axis('off');\n",
    "```\n",
    "## What would you expect?"
   ]
  },
  {
   "cell_type": "code",
   "execution_count": 5,
   "metadata": {
    "hide_input": false,
    "slideshow": {
     "slide_type": "subslide"
    }
   },
   "outputs": [
    {
     "data": {
      "image/png": "[encoded data removed]",
      "text/plain": [
       "<Figure size 500x500 with 1 Axes>"
      ]
     },
     "metadata": {},
     "output_type": "display_data"
    }
   ],
   "source": [
    "import numpy as np\n",
    "rand_im = random.choices(range(0, 256), k=120*120*3)\n",
    "rand_im = np.array(rand_im).reshape(120, 120, 3)\n",
    "plt.figure(figsize=(5,5))\n",
    "imgplot=plt.imshow(rand_im)\n",
    "_=plt.axis('off')"
   ]
  },
  {
   "cell_type": "markdown",
   "metadata": {
    "slideshow": {
     "slide_type": "fragment"
    }
   },
   "source": [
    "# Much more non-sense than with text, right?\n"
   ]
  },
  {
   "cell_type": "markdown",
   "metadata": {
    "slideshow": {
     "slide_type": "subslide"
    }
   },
   "source": [
    "# Vision\n",
    "\n",
    "- No notion of discrete symbols. What is the semantic of a pixel?\n",
    "- Continuous signal that is discretized on a grid"
   ]
  },
  {
   "cell_type": "markdown",
   "metadata": {
    "slideshow": {
     "slide_type": "slide"
    }
   },
   "source": [
    "# NLP meets Vision will return at the end of the course"
   ]
  },
  {
   "cell_type": "markdown",
   "metadata": {
    "slideshow": {
     "slide_type": "slide"
    }
   },
   "source": [
    "#  A bit of Linguistics to start\n",
    "\n",
    "Definition of mouse from a dictionary:\n",
    "```text\n",
    "mouse (N)\n",
    "1.  any of numerous small rodents...\n",
    "2.  a hand-operated device that controls a cursor...\n",
    "```\n",
    "\n",
    "- **mouse** is called a **lemma or citation form**; for verbs usually the **lemma** is the infinite form\n",
    "- **mice**  is a **wordform** (in this case the, irregular, plural form of mouse)"
   ]
  },
  {
   "cell_type": "markdown",
   "metadata": {
    "slideshow": {
     "slide_type": "subslide"
    }
   },
   "source": [
    "# Word Sense\n",
    "\n",
    "Multiple aspects of the meaning of a word\n",
    "\n",
    "```text\n",
    "mouse (N)\n",
    "1.  any of numerous small rodents...\n",
    "2.  a hand-operated device that controls a cursor...\n",
    "```\n",
    "\n",
    "without **context** it is difficult to say if `mouse` refers to `1.` or `2.`\n"
   ]
  },
  {
   "cell_type": "markdown",
   "metadata": {
    "cell_style": "split",
    "slideshow": {
     "slide_type": "subslide"
    }
   },
   "source": [
    "<div align='center'><img src=\"figs/mouse.png\" width='45%' ></div>"
   ]
  },
  {
   "cell_type": "markdown",
   "metadata": {
    "cell_style": "split",
    "slideshow": {
     "slide_type": "fragment"
    }
   },
   "source": [
    "<div align='center'><img src=\"figs/mouse_animal.png\" width='45%' ></div>"
   ]
  },
  {
   "cell_type": "markdown",
   "metadata": {
    "slideshow": {
     "slide_type": "subslide"
    }
   },
   "source": [
    "# Word Sense Disambiguation\n",
    "\n",
    "<div align='center'><img src=\"figs/google.png\" width='45%' ></div>"
   ]
  },
  {
   "cell_type": "markdown",
   "metadata": {
    "slideshow": {
     "slide_type": "subslide"
    }
   },
   "source": [
    "# Synonym\n",
    "\n",
    "- One important component of **word meaning** is the relationship between word senses. \n",
    "- For example when **one word has a sense whose meaning** is _identical_ to a **sense of another word** we say the two senses of those two words are **synonyms**.\n",
    "\n",
    "| **Word A** \t| **Word B** \t|\n",
    "|:----------:\t|-----------:\t|\n",
    "| couch      \t|       sofa \t|\n",
    "| car        \t| automobile \t|\n",
    "| hazelnut   \t|    filbert \t|"
   ]
  },
  {
   "cell_type": "markdown",
   "metadata": {
    "slideshow": {
     "slide_type": "subslide"
    }
   },
   "source": [
    "# Word Similarity: what this lecture is about\n",
    "\n",
    "- While words do not have many synonyms, most words do have lots of similar words\n",
    "- Cat is not a synonym of dog, but **cats and dogs are certainly similar words** (for sure more than **cat vs airplane**)\n",
    "- The notion of **word similarity** is very useful in larger semantic tasks\n",
    "\n",
    "|       |            |         |\n",
    "|:----- | -------:   | -------:\t\n",
    "vanish \t| disappear  | 9.8 \n",
    "belief  | impression | 5.95\n",
    "muscle  | bone       | 3.65 \n",
    "modest  | flexible   | 0.98\n",
    "hole \t| agreement  | 0.3  "
   ]
  },
  {
   "cell_type": "markdown",
   "metadata": {
    "slideshow": {
     "slide_type": "subslide"
    }
   },
   "source": [
    "# Representing Words as Discrete Symbols: One-Hot Encoding\n",
    "\n",
    "In traditional NLP, we regard words as discrete symbols.\n",
    "\n",
    "`hotel, conference, motel` can be represented with a vector $\\bx$:\n",
    "- of dimension $|V|$\n",
    "- each component indexes a word in the vocabulary $V$\n",
    "- if we are dealing with a word present in $V$ at index $i$ then:\n",
    "\n",
    "$$\n",
    "\\bx_j = \\begin{cases} 1, & \\mbox{if } i=j \\\\\n",
    "                       0  & \\forall j \\neq i\n",
    "          \\end{cases}\n",
    "$$\n",
    "\n",
    "visually this is something as:\n",
    "\n",
    "   0   |   0   |   0   |    0   |   1    |   ...    |    0   |       |       |       |\n",
    ":----- |:----- |:----- |:----- |:----- |:----- |:----- |:----- |:----- |:----- |\n",
    " cat   |  airplane     |   dog     |  beer     |  hotel      |  ....     |   garden    |       |       |       |\n",
    "\n",
    "\n"
   ]
  },
  {
   "cell_type": "markdown",
   "metadata": {
    "slideshow": {
     "slide_type": "subslide"
    }
   },
   "source": [
    "# Representing Words as Discrete Symbols: One-Hot Encoding\n",
    "\n",
    "In traditional NLP, we regard words as discrete symbols.\n",
    "\n",
    "`hotel, conference, motel` can be represented with a vector $\\bx$:\n",
    "- of dimension $|V|$\n",
    "- each component indexes a word in the vocabulary $V$\n",
    "- if we are dealing with a word present in $V$ at index $i$ then:\n",
    "\n",
    "$$\n",
    "\\bx_j = \\begin{cases} 1, & \\mbox{if } i=j \\\\\n",
    "                       0  & \\forall j \\neq i\n",
    "          \\end{cases}\n",
    "$$\n",
    "\n",
    "More formally:\n",
    "$$\n",
    "\\bxt{hotel} = \\underbrace{[0~0~0~0~1~0~0\\ldots 0~0~0~0~0~0]}_{|V|}\n",
    "$$\n",
    "\n",
    "\n"
   ]
  },
  {
   "cell_type": "markdown",
   "metadata": {
    "slideshow": {
     "slide_type": "fragment"
    }
   },
   "source": [
    "Is the same as saying that the word `hotel` appears at index 4 in the vocabulary (starting from zero)"
   ]
  },
  {
   "cell_type": "markdown",
   "metadata": {
    "slideshow": {
     "slide_type": "slide"
    }
   },
   "source": [
    "# Brief recap on Linear Algebra"
   ]
  },
  {
   "cell_type": "markdown",
   "metadata": {
    "slideshow": {
     "slide_type": "slide"
    }
   },
   "source": [
    "# Vectors: Geometric Interpretation 1 \n",
    "## Point in space\n",
    "\n",
    "- Given a vector, the first interpretation\n",
    "that we should give it is as a **point in space.**\n",
    "\n",
    "- In two or three dimensions, we can visualize these points\n",
    "by using the components of the vectors to define\n",
    "the location of the points in space compared\n",
    "to a fixed reference called the *origin*.\n",
    "\n",
    "<img class=\"center\" src=\"https://raw.githubusercontent.com/d2l-ai/d2l-en/master/img/grid-points.svg\" width=\"30%\">\n"
   ]
  },
  {
   "cell_type": "markdown",
   "metadata": {
    "slideshow": {
     "slide_type": "subslide"
    }
   },
   "source": [
    "##### Formalizing problems\n",
    "This geometric point of view allows us to consider the problem on a more abstract level.\n",
    "No longer faced with some insurmountable seeming problem\n",
    "like classifying pictures as either cats or dogs but separate points in space.\n",
    "\n",
    "`Problem -> Formalization -> Math -> Computational System`\n",
    "\n",
    "<small>Taken from [d2l.ai](https://d2l.ai)<small>"
   ]
  },
  {
   "cell_type": "markdown",
   "metadata": {
    "slideshow": {
     "slide_type": "subslide"
    }
   },
   "source": [
    "# Vectors: Geometric Interpretation 2 \n",
    "## Direction in space\n",
    "\n",
    "In parallel, there is a second point of view\n",
    "that people often take of vectors: **as directions in space.**\n",
    "Not only can we think of the vector $\\mathbf{v} = [3,2]^\\top$\n",
    "as the location $3$ units to the right and $2$ units up from the origin,\n",
    "we can also think of it as the direction itself\n",
    "to take $3$ steps to the right and $2$ steps up.\n",
    "In this way, we consider all the vectors in figure the same.\n",
    "<img src=\"https://raw.githubusercontent.com/d2l-ai/d2l-en/master/img/par-vec.svg\" width=\"30%\">"
   ]
  },
  {
   "cell_type": "markdown",
   "metadata": {
    "slideshow": {
     "slide_type": "subslide"
    }
   },
   "source": [
    "## Direction in space\n",
    "\n",
    "One of the benefits of this shift is that\n",
    "we can make visual sense of the act of vector addition.\n",
    "In particular, we follow the directions given by one vector,\n",
    "and then follow the directions given by the other, as is seen below.\n",
    "\n",
    "<img src=\"https://raw.githubusercontent.com/d2l-ai/d2l-en/master/img/vec-add.svg\" width=\"30%\">\n",
    "\n",
    "Difference is just $\\mathbf{A}-\\mathbf{B}=\\mathbf{A}+(-\\mathbf{B})$\n",
    "\n",
    "<small>Taken from [d2l.ai]<small>"
   ]
  },
  {
   "cell_type": "markdown",
   "metadata": {
    "slideshow": {
     "slide_type": "subslide"
    }
   },
   "source": [
    "# Inner Product (Dot Product)\n",
    "\n",
    "\\begin{equation} \\mathbf{x}, \\mathbf{y} \\in \\mathbb{R}^D ~~~~~~~~~\\quad \n",
    "\\mathbf{x}^T \\mathbf{y} = \\left\\langle\\mathbf{x}, \\mathbf{y}\\right\\rangle = \\sum_i^D \\mathbf{x}_i \\cdot \\mathbf{y}_i\n",
    "\\end{equation}\n",
    "\n",
    "```\n",
    "x1 x2 x3 x4 \n",
    "           y1\n",
    "           y2   =    result (dot_product)\n",
    "           y3\n",
    "           y4\n",
    "\n",
    "\n",
    "dot_product = x1y1 + x2y2 + x3y3 + x4y4\n",
    "```\n",
    "\n",
    "- The result is a **scalar** (not a vector anymore).\n",
    "- $\\mathbf{x}, \\mathbf{y}$ must live in the same dimension\n",
    "- It is **commutative**\n",
    "- The data is **paired**: just muliply elementwise and sum across axis."
   ]
  },
  {
   "cell_type": "markdown",
   "metadata": {
    "slideshow": {
     "slide_type": "subslide"
    }
   },
   "source": [
    "# Inner product: Geometric Interpretation\n",
    "\n",
    "- The dot product also admits a geometric interpretation: **it is closely related to the angle between two vectors.** \n",
    "- It is biased by the norm (\"length\") of the vectors (it favors \"long\" vectors)\n",
    "\n",
    "\n",
    "<img src=\"https://raw.githubusercontent.com/d2l-ai/d2l-en/master/img/vec-angle.svg\" width=\"30%\">\n",
    "\n",
    "$$\n",
    "\\mathbf{v}\\cdot\\mathbf{w} = \\|\\mathbf{v}\\|\\|\\mathbf{w}\\|\\cos(\\theta).\n",
    "$$"
   ]
  },
  {
   "cell_type": "markdown",
   "metadata": {
    "slideshow": {
     "slide_type": "subslide"
    }
   },
   "source": [
    "With some simple algebraic manipulation, we can rearrange terms to obtain\n",
    "\n",
    "$$\n",
    "\\theta = \\arccos\\left(\\frac{\\mathbf{v}\\cdot\\mathbf{w}}{\\|\\mathbf{v}\\|\\|\\mathbf{w}\\|}\\right).\n",
    "$$\n",
    "\n",
    "\n",
    "This is a nice result since nothing in the computation references two-dimensions.\n",
    "\n",
    "**Indeed, we can use this in three or three million dimensions without issue.**"
   ]
  },
  {
   "cell_type": "markdown",
   "metadata": {
    "slideshow": {
     "slide_type": "subslide"
    }
   },
   "source": [
    "### Cosine Similarity\n",
    "In ML contexts where the **angle is employed\n",
    "to measure the closeness of two vectors**,\n",
    "practitioners adopt the term **cosine similarity**\n",
    "to refer to the portion\n",
    "$$\n",
    "\\cos(\\theta) = \\underbrace{\\frac{\\mathbf{v}\\cdot\\mathbf{w}}{\\|\\mathbf{v}\\|\\|\\mathbf{w}\\|}}_{\\text{cosine similarity}}.\n",
    "$$\n",
    "\n",
    "- What happens if cosine similarity is 1?\n",
    "- Notice any similarity with some concept we saw in previous lecture?"
   ]
  },
  {
   "cell_type": "markdown",
   "metadata": {
    "slideshow": {
     "slide_type": "subslide"
    }
   },
   "source": [
    "# The problem of Dot Product and One-Hot Encoding\n",
    "\n",
    "Assume a vocabulary of words $V$\n",
    "\n",
    "$$\n",
    "\\bxt{motel} =  \n",
    "\\begin{bmatrix}\n",
    "0 \\\\\n",
    "1 \\\\\n",
    "\\ldots, \\\\\n",
    "0 \\\\\n",
    "\\end{bmatrix} \\quad\n",
    "\\bxt{hotel} =  \n",
    "\\begin{bmatrix}\n",
    "0 \\\\\n",
    "1 \\\\\n",
    "\\ldots, \\\\\n",
    "0 \\\\\n",
    "\\end{bmatrix} \\quad \\ldots\n",
    "\\quad\n",
    "\\bxt{car} =  \n",
    "\\begin{bmatrix}\n",
    "0 \\\\\n",
    "1 \\\\\n",
    "\\ldots, \\\\\n",
    "0 \\\\\n",
    "\\end{bmatrix}\n",
    "$$"
   ]
  },
  {
   "cell_type": "markdown",
   "metadata": {
    "slideshow": {
     "slide_type": "fragment"
    }
   },
   "source": [
    " $$ \\bxt{motel}^T \\bxt{hotel} = \\bxt{motel}^T\\bxt{car}=0$$\n",
    " \n",
    "There is no notion of similarity and vectors are very long--size of $|V|$."
   ]
  },
  {
   "cell_type": "markdown",
   "metadata": {
    "slideshow": {
     "slide_type": "subslide"
    }
   },
   "source": [
    "# The Distributional Hypothesis\n",
    "\n",
    "<div align='center'><img src=\"figs/firth.png\" width='10%' ></div>\n",
    "    \n",
    "Stated by J. R. Firth (1957) as: \n",
    "\n",
    "> \"You shall know a word by the company it keeps\"\n",
    "\n",
    "Distributional statistics have a striking ability to capture lexical semantic relationships such as **analogies**."
   ]
  },
  {
   "cell_type": "markdown",
   "metadata": {
    "slideshow": {
     "slide_type": "subslide"
    }
   },
   "source": [
    "# Distributional statistics and unsupervised learning\n",
    "\n",
    "The distributional hypothesis has stood the test of time: \n",
    "- distributional statistics are a core part of language technology today\n",
    "- they make it possible to leverage large amounts of **unlabeled data** to learn about rare words that do not appear in labeled training data"
   ]
  },
  {
   "cell_type": "markdown",
   "metadata": {
    "slideshow": {
     "slide_type": "slide"
    }
   },
   "source": [
    "# The meaning of the word `tezguino`"
   ]
  },
  {
   "cell_type": "markdown",
   "metadata": {
    "slideshow": {
     "slide_type": "fragment"
    }
   },
   "source": [
    "<div align='center'><img src=\"figs/tezguino.png\" width='45%' ></div>"
   ]
  },
  {
   "cell_type": "markdown",
   "metadata": {
    "slideshow": {
     "slide_type": "subslide"
    }
   },
   "source": [
    "# The context plays a big role\n",
    "\n",
    "We evince that `tezguino` may be an **alcoholic beverage made from corn mash.**\n",
    "\n",
    "<div align='center'><img src=\"figs/tezguino.png\" width='45%' ></div>"
   ]
  },
  {
   "cell_type": "markdown",
   "metadata": {
    "cell_style": "split",
    "slideshow": {
     "slide_type": "subslide"
    }
   },
   "source": [
    "# Long, Sparse\n",
    "\n",
    "- One-Hot Encoding\n",
    "- TF-IDF\n",
    "- Term-Document matrix\n",
    "- PPMI (Point-wise Mutual Information)"
   ]
  },
  {
   "cell_type": "markdown",
   "metadata": {
    "cell_style": "split",
    "slideshow": {
     "slide_type": "fragment"
    }
   },
   "source": [
    "# Short, Dense\n",
    "\n",
    "- Latent Semantic Analysis (LSA)\n",
    "- word2vec"
   ]
  },
  {
   "cell_type": "markdown",
   "metadata": {
    "slideshow": {
     "slide_type": "subslide"
    }
   },
   "source": [
    "# Long, Sparse: Term-Document Matrix"
   ]
  },
  {
   "cell_type": "markdown",
   "metadata": {
    "slideshow": {
     "slide_type": "subslide"
    }
   },
   "source": [
    "```python\n",
    "corpus = [\n",
    "    'This document is the second document.', #document 0\n",
    "    'And this is the third one.',            #document 1\n",
    "    'Is this the first document?',           #document 2\n",
    "]\n",
    "```"
   ]
  },
  {
   "cell_type": "code",
   "execution_count": 6,
   "metadata": {
    "run_control": {
     "marked": false
    },
    "slideshow": {
     "slide_type": "skip"
    }
   },
   "outputs": [],
   "source": [
    "from sklearn.feature_extraction.text import CountVectorizer\n",
    "corpus = [\n",
    "    'This document is the second document.', #0\n",
    "    'And this is the third one.',            #1\n",
    "    'Is this the first document?',           #2\n",
    "]\n",
    "vectorizer = CountVectorizer()\n",
    "X = vectorizer.fit_transform(corpus)\n",
    "td_matrix=pd.DataFrame(data=X.todense(), \n",
    "             index=[f'doc-{i}' for i in range(X.shape[0])],\n",
    "             columns=vectorizer.get_feature_names_out(),)"
   ]
  },
  {
   "cell_type": "markdown",
   "metadata": {
    "slideshow": {
     "slide_type": "subslide"
    },
    "variables": {
     "td_matrix": "<p><strong>NameError</strong>: name &#39;td_matrix&#39; is not defined</p>\n"
    }
   },
   "source": [
    "# Term-Document Matrix\n",
    "\n",
    "$|V|=9$ is the vocabulary size and $|D|=3$ is the number of documents\n",
    "\n",
    "$$ \\text{count}(t,d)\\quad  t \\in V$$\n",
    "\n",
    "{{td_matrix}}\n",
    "\n",
    "You can interpret it two ways:\n",
    "1. $|D|=3$ documents vectors that lives in a $|V|$ dimensional space (row-wise)\n",
    "    - An axis of the space indicates a **word**\n",
    "2. $V$ word vectors that lives in a $|D|=3$ dimensional space (column-wise)\n",
    "    - An axis of the space indicates a **document**"
   ]
  },
  {
   "cell_type": "markdown",
   "metadata": {
    "slideshow": {
     "slide_type": "subslide"
    }
   },
   "source": [
    "# Long, Sparse: TF-IDF Matrix"
   ]
  },
  {
   "cell_type": "code",
   "execution_count": 40,
   "metadata": {
    "run_control": {
     "marked": false
    },
    "slideshow": {
     "slide_type": "skip"
    }
   },
   "outputs": [],
   "source": [
    "from sklearn.feature_extraction.text import TfidfVectorizer\n",
    "corpus = [\n",
    "    'This document is the second document.', #0\n",
    "    'And this is the third one.',            #1\n",
    "    'Is this the first document?',           #2\n",
    "]\n",
    "vectorizer = TfidfVectorizer()\n",
    "X = vectorizer.fit_transform(corpus)\n",
    "tfidf_matrix=pd.DataFrame(data=X.todense(), \n",
    "             index=[f'doc-{i}' for i in range(X.shape[0])],\n",
    "             columns=vectorizer.get_feature_names_out(),)"
   ]
  },
  {
   "cell_type": "markdown",
   "metadata": {
    "slideshow": {
     "slide_type": "subslide"
    },
    "variables": {
     "tfidf_matrix": "<p><strong>NameError</strong>: name &#39;tfidf_matrix&#39; is not defined</p>\n"
    }
   },
   "source": [
    "# TF-IDF Matrix\n",
    "\n",
    "$$\\text{tf}(t,d) = \\log_{10}\\big(\\text{count}(t,d)+1\\big)\\quad \\text{idf}(t) = \\log_{10}\\Big(\\frac{|D|}{\\text{df(t)}}\\Big)\\quad  df(t)= \\sum_{d=1}^{|D|} \\mathbb{1}[t \\in d] $$\n",
    "\n",
    "$$ \\text{w}(t,d) \\doteq \\text{tf}(t,d) \\cdot \\text{idf}(t)   $$\n",
    "{{tfidf_matrix}}"
   ]
  },
  {
   "cell_type": "markdown",
   "metadata": {
    "slideshow": {
     "slide_type": "slide"
    }
   },
   "source": [
    "# How do we go Short and Dense?"
   ]
  },
  {
   "cell_type": "markdown",
   "metadata": {
    "slideshow": {
     "slide_type": "slide"
    }
   },
   "source": [
    "# How do we go Short and Dense?\n",
    "\n",
    "> \"You shall know a word by the company it keeps\"\n",
    "\n",
    "**Word embeddings (dense)** are estimated by **optimizing some objective**: the reconstruction of a matrix of context count or the likelihood of a set of unlabeled data.\n",
    "\n",
    "1. **[Latent Semantic Analysis (LSA)]** Factorize your count matrix $\\mbf{X}$ by minimizing its reconstruction $|| \\mbf{X} - \\mbf{X}(\\mbf{u},\\mbf{v})||_F$ and learning $\\mbf{u}$ document embedding and $\\mbf{v}$ word embedding\n",
    "2. **[Word2vec]** we optimize the likelihood-based optimization of a model that encodes word embeddings over a corpus of training data with self-supervision.\n"
   ]
  },
  {
   "cell_type": "markdown",
   "metadata": {
    "slideshow": {
     "slide_type": "subslide"
    }
   },
   "source": [
    "# Latent Semantic Analysis (LSA)\n",
    "\n",
    "Sometimes it is called *Latent Semantic Indexing (LSI)*"
   ]
  },
  {
   "cell_type": "markdown",
   "metadata": {
    "slideshow": {
     "slide_type": "subslide"
    }
   },
   "source": [
    "# Latent Semantic Analysis (LSA)\n",
    "\n",
    "It is related to different concept of machine learning and unsupervised learning\n",
    "\n",
    "- Eigendecomposition and Singular Value Decomposition (SVD)\n",
    "- Dimensionality reduction (I have features in $N$ dimensional space I want to reduce it to $M$ dimensions $M\\ll N$)\n",
    "- **Finding latent topics in text in an unsupervised way**\n",
    "- From long, sparse representation to **short, dense**"
   ]
  },
  {
   "cell_type": "markdown",
   "metadata": {
    "slideshow": {
     "slide_type": "subslide"
    }
   },
   "source": [
    "# Decompose a matrix\n",
    "\n",
    "Assume $\\mathbf{X}$ is your term-document or tf-idf matrix computed over a corpus.\n",
    "\n",
    "$\\mathbf{X}$ dimension is $|D| \\times |V|$ so it captures some form of correlation between:\n",
    " - term vs term in a vector space defined by documents\n",
    " - document vs document in a vector space define by terms\n",
    "\n",
    "**Key idea 1:** Assume there are $k$ hidden topics that we do not know about, but seek for discovering them in unsupervised way.\n",
    "\n",
    "**Key idea 2:** Do not look at  $\\mathbf{X}$ simply as raw data yet decompose it in a way that **the decomposition gives you information and imposes constraints.**"
   ]
  },
  {
   "cell_type": "markdown",
   "metadata": {
    "slideshow": {
     "slide_type": "subslide"
    }
   },
   "source": [
    "# Decompose with SVD (Singular Value Decomposition)\n",
    "\n",
    "For now we simply seek to decompose $\\mathbf{X} = \\mathbf{U}\\mathbf{S}\\mathbf{V}^{\\top}$"
   ]
  },
  {
   "cell_type": "markdown",
   "metadata": {
    "slideshow": {
     "slide_type": "fragment"
    }
   },
   "source": [
    "$\\mathbf{X} \\in \\mathbb{R}^{|D| \\times |V|} \\qquad = \\qquad {\\mathbf{U} \\in \\mathbb{R}^{|D| \\times |D|}, ~~\\mathbf{S} \\in \\mathbb{R}^{|D| \\times |V|},~~ \\mathbf{V} \\in \\mathbb{R}^{|V| \\times |V|}}$\n",
    "\n",
    "<br>\n",
    "\\begin{equation}\n",
    "\\begin{aligned}\n",
    "\\arg\\min_{\\mathbf{U},\\mathbf{S},\\mathbf{V}}  & \\left\\|\\mathbf{X}-\\mathbf{U S V}^{\\top}\\right\\|_F \\\\\n",
    "\\text { s.t. } & \\mathbf{U}^{\\top} \\mathbf{U}=\\text{Id} \\quad \\mathbf{V}^{\\top} \\mathbf{V}=\\text{Id} \\\\\n",
    "& \\mathbf{S}=\\text{diag}(\\lambda_1,....\\lambda_s)\\\\\n",
    "& \\text{we seek  }  \\mathbf{U}\\mathbf{S}\\mathbf{V}^{\\top} \\text{to be low-rank}\n",
    "\\end{aligned}\n",
    "\\end{equation}"
   ]
  },
  {
   "cell_type": "markdown",
   "metadata": {
    "slideshow": {
     "slide_type": "fragment"
    }
   },
   "source": [
    "##### Property\n",
    "- $\\mathbf{U}^{\\top} \\mathbf{U}=\\text{Id}$ **orthonormality constraints** that all pairs of dimensions in U and V are uncorrelated, so that each dimension conveys unique information\n",
    "- $\\mbf{S}$ is a diagonal matrix containing the ordered singular values (denote the **importance** of each axis in the new  space)"
   ]
  },
  {
   "cell_type": "markdown",
   "metadata": {
    "slideshow": {
     "slide_type": "subslide"
    }
   },
   "source": [
    "# SVD Visually\n",
    "\n",
    "<div align='center'><img src=\"figs/tsvd.png\" width='65%' ></div>"
   ]
  },
  {
   "cell_type": "markdown",
   "metadata": {
    "slideshow": {
     "slide_type": "subslide"
    }
   },
   "source": [
    "# Low-rank approximation of the data with Truncated SVD\n",
    "\n",
    "**Key idea:** We assume there might be $k \\ll D$ latent topics in your data matrix $\\mbf{X}$.\n",
    "- We use **SVD** but now approximate $\\mbf{X}$ by **just considering the highest singular values**\n",
    "- In some sense, it is a way of saying we consider most of the variations in the data; \n",
    "- small variations may be related to noise and so we \"throw them away\".\n",
    "\n",
    "$$\\mbf{X} \\approx \\mbf{X}_k = \\mbf{U_k S_k V_k}^{\\top}$$\n",
    "<br><br><br>\n",
    "<div align='center'><img src=\"figs/mysvd.png\" width='65%' ></div>"
   ]
  },
  {
   "cell_type": "markdown",
   "metadata": {
    "slideshow": {
     "slide_type": "subslide"
    }
   },
   "source": [
    "# Truncated SVD - Low-rank approximation\n",
    "\n",
    "<div align='center'><img src=\"figs/tsvd2.png\" width='75%' ></div>"
   ]
  },
  {
   "cell_type": "code",
   "execution_count": 8,
   "metadata": {
    "slideshow": {
     "slide_type": "subslide"
    }
   },
   "outputs": [],
   "source": [
    "from sklearn.datasets import fetch_20newsgroups\n",
    "categories = ['alt.atheism', 'talk.religion.misc', 'comp.graphics', 'sci.space']\n",
    "remove = ('headers', 'footers', 'quotes')\n",
    "newsgroups_train = fetch_20newsgroups(subset='train', categories=categories, remove=remove)\n",
    "newsgroups_test = fetch_20newsgroups(subset='test', categories=categories, remove=remove)"
   ]
  },
  {
   "cell_type": "markdown",
   "metadata": {
    "slideshow": {
     "slide_type": "subslide"
    }
   },
   "source": [
    "# Let's look at the data\n",
    "\n",
    "- Newsgroup text from the '90s (internet was not there yet)\n",
    "- We have the **categories** but $\\underline{\\text{we set them aside from the algorithm}}$\n",
    "- We assume **we do NOT know the categories of the text**\n",
    "    - We seek to recover them in an unsupervised way\n",
    "Categories are `{{newsgroups_train.target_names}}`\n",
    "\n",
    "```python\n",
    "from sklearn.datasets import fetch_20newsgroups\n",
    "categories = ['alt.atheism', 'talk.religion.misc', 'comp.graphics', 'sci.space']\n",
    "remove = ('headers', 'footers', 'quotes')\n",
    "newsgroups_train = fetch_20newsgroups(subset='train', categories=categories, remove=remove)\n",
    "newsgroups_test = fetch_20newsgroups(subset='test', categories=categories, remove=remove)\n",
    "```"
   ]
  },
  {
   "cell_type": "code",
   "execution_count": 9,
   "metadata": {
    "hide_input": true,
    "slideshow": {
     "slide_type": "subslide"
    }
   },
   "outputs": [
    {
     "name": "stdout",
     "output_type": "stream",
     "text": [
      "Hi,\n",
      "\n",
      "I've noticed that if you only save a model (with all your mapping planes\n",
      "positioned carefully) to a .3DS file that when you reload it after restarting\n",
      "3DS, they are given a default position and orientation.  But if you save\n",
      "to a .PRJ file their positions/orientation are preserved.  Does anyone\n",
      "know why this information is not stored in the .3DS file?  Nothing is\n",
      "explicitly said in the manual about saving texture rules in the .PRJ file. \n",
      "I'd like to be able to read the texture rule information, does anyone have \n",
      "the format for the .PRJ file?\n",
      "\n",
      "Is the .CEL file format available from somewhere?\n",
      "\n",
      "Rych\n",
      "====================================================================================================\n",
      "\n",
      "\n",
      "Seems to be, barring evidence to the contrary, that Koresh was simply\n",
      "another deranged fanatic who thought it neccessary to take a whole bunch of\n",
      "folks with him, children and all, to satisfy his delusional mania. Jim\n",
      "Jones, circa 1993.\n",
      "\n",
      "\n",
      "Nope - fruitcakes like Koresh have been demonstrating such evil corruption\n",
      "for centuries.\n",
      "====================================================================================================\n",
      "\n",
      " >In article <1993Apr19.020359.26996@sq.sq.com>, msb@sq.sq.com (Mark Brader) \n",
      "\n",
      "MB>                                                             So the\n",
      "MB> 1970 figure seems unlikely to actually be anything but a perijove.\n",
      "\n",
      "JG>Sorry, _perijoves_...I'm not used to talking this language.\n",
      "\n",
      "Couldn't we just say periapsis or apoapsis?\n",
      "\n",
      " \n"
     ]
    }
   ],
   "source": [
    "print(*newsgroups_train.data[:3], sep='\\n'+'=='*50+'\\n')"
   ]
  },
  {
   "cell_type": "markdown",
   "metadata": {
    "slideshow": {
     "slide_type": "subslide"
    }
   },
   "source": [
    "# From raw text to Term-Document Matrix"
   ]
  },
  {
   "cell_type": "markdown",
   "metadata": {
    "slideshow": {
     "slide_type": "subslide"
    }
   },
   "source": [
    "# From raw text to Term-Document Matrix\n",
    "\n",
    "```python\n",
    "from sklearn.feature_extraction.text import CountVectorizer\n",
    "count_vect = CountVectorizer(stop_words='english')\n",
    "X_train_counts = count_vect.fit_transform(newsgroups_train.data)\n",
    "X_train_counts.shape # (documents, vocab)\n",
    "```"
   ]
  },
  {
   "cell_type": "code",
   "execution_count": 10,
   "metadata": {
    "slideshow": {
     "slide_type": "subslide"
    }
   },
   "outputs": [
    {
     "name": "stdout",
     "output_type": "stream",
     "text": [
      "We have 2034 documents and a vocabulary of size 26576\n"
     ]
    }
   ],
   "source": [
    "from sklearn.feature_extraction.text import CountVectorizer\n",
    "count_vect = CountVectorizer(stop_words='english')\n",
    "X_train_counts = count_vect.fit_transform(newsgroups_train.data)\n",
    "dims = X_train_counts.shape # (documents, vocab)\n",
    "print(f'We have {dims[0]} documents and a vocabulary of size {dims[1]}')"
   ]
  },
  {
   "cell_type": "markdown",
   "metadata": {
    "slideshow": {
     "slide_type": "subslide"
    }
   },
   "source": [
    "# Term-Document Matrix Shape\n",
    "\n",
    "X_train_counts shape is {{X_train_counts.shape}}\n",
    "\n",
    "- {{X_train_counts.shape[0]}} individual documents (in this case newsgroup posts)\n",
    "- {{X_train_counts.shape[1]}} the number of terms (i.e. vocabulary size $|V|$)\n",
    "- Note that `X_train_counts` is modeled as a sparse matrix `{{type(X_train_counts)}}`\n",
    "\n",
    "Let us see a few $k=10$ random words from the vocabulary:\n",
    "```python\n",
    "random.choices(count_vect.get_feature_names_out(), k=10) #k is the number of samples\n",
    "```\n",
    "\n",
    "{{random.seed(0); random.choices(count_vect.get_feature_names_out(), k=10)}}"
   ]
  },
  {
   "cell_type": "code",
   "execution_count": 11,
   "metadata": {
    "slideshow": {
     "slide_type": "skip"
    }
   },
   "outputs": [],
   "source": [
    "td_matrix = pd.DataFrame(data=X_train_counts.todense(), \n",
    "                         index=range(X_train_counts.shape[0]),\n",
    "                         columns=count_vect.get_feature_names_out(),)"
   ]
  },
  {
   "cell_type": "markdown",
   "metadata": {
    "slideshow": {
     "slide_type": "subslide"
    },
    "variables": {
     "td_matrix": "<p><strong>NameError</strong>: name &#39;td_matrix&#39; is not defined</p>\n"
    }
   },
   "source": [
    "{{td_matrix}}"
   ]
  },
  {
   "cell_type": "markdown",
   "metadata": {
    "slideshow": {
     "slide_type": "subslide"
    }
   },
   "source": [
    "# Sanity check and see the most frequent word\n",
    "\n",
    "```python\n",
    "r, c = np.unravel_index(np.argmax(X_train_counts), X_train_counts.shape)\n",
    "print(count_vect.get_feature_names_out()[c], \n",
    "      'occurred', X_train_counts[r, c], 'times')\n",
    "```"
   ]
  },
  {
   "cell_type": "code",
   "execution_count": 12,
   "metadata": {
    "slideshow": {
     "slide_type": "subslide"
    }
   },
   "outputs": [
    {
     "name": "stdout",
     "output_type": "stream",
     "text": [
      "jpeg occurred 232 times\n"
     ]
    }
   ],
   "source": [
    "r, c = np.unravel_index(np.argmax(X_train_counts), X_train_counts.shape)\n",
    "print(count_vect.get_feature_names_out()[c], 'occurred', X_train_counts[r, c], 'times')"
   ]
  },
  {
   "cell_type": "code",
   "execution_count": 13,
   "metadata": {
    "slideshow": {
     "slide_type": "skip"
    }
   },
   "outputs": [],
   "source": [
    "#%time U, S, V = np.linalg.svd(X_train_counts.todense(), full_matrices=False)"
   ]
  },
  {
   "cell_type": "code",
   "execution_count": 14,
   "metadata": {
    "slideshow": {
     "slide_type": "skip"
    }
   },
   "outputs": [],
   "source": [
    "#%time Us, Ss, Vts = scipy.sparse.linalg.svds(X_train_counts.asfptype(), k=X_train_counts.shape[0]-1)"
   ]
  },
  {
   "cell_type": "code",
   "execution_count": 15,
   "metadata": {
    "slideshow": {
     "slide_type": "subslide"
    }
   },
   "outputs": [
    {
     "name": "stdout",
     "output_type": "stream",
     "text": [
      "CPU times: user 87.2 ms, sys: 7.98 ms, total: 95.2 ms\n",
      "Wall time: 49.3 ms\n"
     ]
    }
   ],
   "source": [
    "%time Us, Ss, Vts = scipy.sparse.linalg.svds(X_train_counts.asfptype(), k=2)"
   ]
  },
  {
   "cell_type": "code",
   "execution_count": 16,
   "metadata": {
    "run_control": {
     "marked": false
    },
    "slideshow": {
     "slide_type": "subslide"
    }
   },
   "outputs": [
    {
     "name": "stdout",
     "output_type": "stream",
     "text": [
      "U =  (2034, 2) S =  (2,) V =  (2, 26576)\n"
     ]
    }
   ],
   "source": [
    "print(\"U = \", (Us.shape), \"S = \",  (Ss.shape), \"V = \",  (Vts.shape))"
   ]
  },
  {
   "cell_type": "markdown",
   "metadata": {
    "slideshow": {
     "slide_type": "subslide"
    },
    "variables": {
     "Ss": "<p><strong>NameError</strong>: name &#39;Ss&#39; is not defined</p>\n",
     "_=plt.bar([1,2],Ss)": "<p><strong>NameError</strong>: name &#39;plt&#39; is not defined</p>\n"
    }
   },
   "source": [
    "# 1. Singular Values give you the  \"topic\" importance\n",
    "$S=${{Ss}}\n",
    "{{_=plt.bar([1,2],Ss)}}"
   ]
  },
  {
   "cell_type": "markdown",
   "metadata": {
    "slideshow": {
     "slide_type": "subslide"
    }
   },
   "source": [
    "# 2. The embedding space ($k=2$)\n",
    "\n",
    "- Unlike before, it is now **continuous, short and dense**\n",
    "- The space encodes some notion of similarities between words\n",
    "- Cosine similarity makes more sense"
   ]
  },
  {
   "cell_type": "code",
   "execution_count": 17,
   "metadata": {
    "hide_input": false,
    "scrolled": true,
    "slideshow": {
     "slide_type": "fragment"
    }
   },
   "outputs": [
    {
     "data": {
      "image/png": "[encoded data removed]",
      "text/plain": [
       "<Figure size 1000x1000 with 1 Axes>"
      ]
     },
     "metadata": {},
     "output_type": "display_data"
    }
   ],
   "source": [
    "fig, ax = plt.subplots(figsize=(10,10))\n",
    "clip = 1\n",
    "ax.scatter(*Vts);\n",
    "vocab = count_vect.get_feature_names_out()\n",
    "for count, ((x,y), txt) in enumerate(zip(Vts.T, vocab)):\n",
    "    if np.linalg.norm([x,y]) > .5e-1:    \n",
    "        ax.annotate(txt, (x+0.01, y))\n",
    "if clip:\n",
    "    #plt.ylim(-0.175, -0.030)\n",
    "    plt.ylim(0.05, 0.15)\n",
    "plt.grid('off')"
   ]
  },
  {
   "cell_type": "markdown",
   "metadata": {
    "slideshow": {
     "slide_type": "subslide"
    }
   },
   "source": [
    "# 3. We can associate each new $k$ component (topic) with most important words\n",
    "\n",
    "<br><br>\n",
    "<div align='center'><img src=\"figs/mysvd.png?\" width='65%' ></div>"
   ]
  },
  {
   "cell_type": "markdown",
   "metadata": {
    "slideshow": {
     "slide_type": "subslide"
    }
   },
   "source": [
    "# 3. We can associate each new $k$ component (topic) with most important words using $\\mbf{V}_k$\n",
    "<br>\n",
    "<div align='center'><img src=\"figs/mysvd2.png?\" width='35%' ></div>"
   ]
  },
  {
   "cell_type": "code",
   "execution_count": 18,
   "metadata": {
    "slideshow": {
     "slide_type": "skip"
    }
   },
   "outputs": [],
   "source": [
    "k=0 #first component, first topic\n",
    "word_per_topic = 10\n",
    "topic = [vocab[idx_word] for idx_word in np.argsort(Vts[k,:])[:-word_per_topic-1:-1]]\n",
    "topic_weight = np.sort(Vts[k,:])[:-word_per_topic-1:-1]\n",
    "topic_neg = [vocab[idx_word] for idx_word in np.argsort(Vts[k,:])[:word_per_topic:]]\n",
    "#topic"
   ]
  },
  {
   "cell_type": "markdown",
   "metadata": {
    "slideshow": {
     "slide_type": "subslide"
    }
   },
   "source": [
    "# Topic $k=0$ associated with singular value $\\lambda_0$ = {{round(Ss[0])}}\n",
    "```python\n",
    "word_per_topic = 10\n",
    "topic = [vocab[idx_word] for idx_word in np.argsort(Vts[k,:])[:-word_per_topic-1:-1]]\n",
    "```\n",
    "\n",
    "{{pd.DataFrame(data=[topic])}}"
   ]
  },
  {
   "cell_type": "markdown",
   "metadata": {
    "slideshow": {
     "slide_type": "fragment"
    },
    "variables": {
     "pd.DataFrame(data=[topic_weight])": "<p><strong>NameError</strong>: name &#39;pd&#39; is not defined</p>\n"
    }
   },
   "source": [
    "####  Weights\n",
    "{{pd.DataFrame(data=[topic_weight])}}"
   ]
  },
  {
   "cell_type": "markdown",
   "metadata": {
    "slideshow": {
     "slide_type": "fragment"
    },
    "variables": {
     "pd.DataFrame(data=[topic_neg])": "<p><strong>NameError</strong>: name &#39;pd&#39; is not defined</p>\n"
    }
   },
   "source": [
    "####  Negative terms \n",
    "{{pd.DataFrame(data=[topic_neg])}}"
   ]
  },
  {
   "cell_type": "code",
   "execution_count": 19,
   "metadata": {
    "slideshow": {
     "slide_type": "skip"
    }
   },
   "outputs": [],
   "source": [
    "k=1 #second component, first topic\n",
    "topic = [vocab[idx_word] for idx_word in np.argsort(Vts[k,:])[:-word_per_topic-1:-1]]\n",
    "topic_weight = np.sort(Vts[k,:])[:-word_per_topic-1:-1]\n",
    "topic_neg = [vocab[idx_word] for idx_word in np.argsort(Vts[k,:])[:word_per_topic:]]\n",
    "#topic"
   ]
  },
  {
   "cell_type": "markdown",
   "metadata": {
    "slideshow": {
     "slide_type": "subslide"
    }
   },
   "source": [
    "# Topic $k=1$ associated with singular value $\\lambda_1$ = {{round(Ss[1])}}\n",
    "```python\n",
    "word_per_topic = 10\n",
    "k=1;topic = [vocab[idx_word] for idx_word in np.argsort(Vts[k,:])[:-word_per_topic-1:-1]]\n",
    "```\n",
    "\n",
    "{{pd.DataFrame(data=[topic])}}"
   ]
  },
  {
   "cell_type": "markdown",
   "metadata": {
    "slideshow": {
     "slide_type": "fragment"
    },
    "variables": {
     "pd.DataFrame(data=[topic_weight])": "<p><strong>NameError</strong>: name &#39;pd&#39; is not defined</p>\n"
    }
   },
   "source": [
    "####  Weights\n",
    "{{pd.DataFrame(data=[topic_weight])}}"
   ]
  },
  {
   "cell_type": "markdown",
   "metadata": {
    "slideshow": {
     "slide_type": "fragment"
    },
    "variables": {
     "pd.DataFrame(data=[topic_neg])": "<p><strong>NameError</strong>: name &#39;pd&#39; is not defined</p>\n"
    }
   },
   "source": [
    "####  Negative terms \n",
    "{{pd.DataFrame(data=[topic_neg])}}"
   ]
  },
  {
   "cell_type": "markdown",
   "metadata": {
    "slideshow": {
     "slide_type": "subslide"
    }
   },
   "source": [
    "# How to think about the new embedding space\n",
    "\n",
    "If you reduce the dimension from 3 to 2, you may think that the embedding is learning something like:\n",
    "\n",
    "$$[\\text{car}, \\text{truck}, \\text{flower}] \\longrightarrow [(1.3452 * \\text{car} + 0.2828 * \\text{truck}), \\text{flower}]$$"
   ]
  },
  {
   "cell_type": "markdown",
   "metadata": {
    "slideshow": {
     "slide_type": "subslide"
    }
   },
   "source": [
    "# 4. Dimensionality Reduction: \n",
    "## Projecting a document into lower-dimensional space\n",
    "\n",
    "We treat the document as a vector $\\mbf{d}$ that lives in a $V$ dimensional space. \n",
    "- We want to use the output of SVD to project $\\mbf{d}$ from V dimension to $k$ where $k\\ll V$. \n",
    "- Usually $k$ is the order of hundreds.\n",
    "\n",
    "We take the matrix $\\mbf{V}_k$ of the SVD decomposition that has dimension $k\\times V$ (this makes sense because $\\mbf{d}$ lives in the same $V$-D space too).\n",
    "$$ \\mbf{d}_k = \\underbrace{\\mbf{V}_k^{\\top}}_{k\\times V}\\underbrace{\\mbf{d}}_{V}$$"
   ]
  },
  {
   "cell_type": "markdown",
   "metadata": {
    "slideshow": {
     "slide_type": "subslide"
    }
   },
   "source": [
    "#  Why SVD?\n",
    "\n",
    "Consider $X$ has `term by document` matrix.\n",
    "\n",
    "\\begin{matrix} \n",
    " & \\textbf{d}_j \\\\\n",
    " & \\downarrow \\\\\n",
    "\\textbf{t}_i^T \\rightarrow &\n",
    "\\begin{bmatrix} \n",
    "x_{1,1} & \\dots & x_{1,j} & \\dots & x_{1,n} \\\\\n",
    "\\vdots & \\ddots & \\vdots & \\ddots & \\vdots \\\\\n",
    "x_{i,1} & \\dots & x_{i,j} &  \\dots & x_{i,n} \\\\\n",
    "\\vdots & \\ddots & \\vdots & \\ddots & \\vdots \\\\\n",
    "x_{m,1} & \\dots & x_{m,j} & \\dots & x_{m,n} \\\\\n",
    "\\end{bmatrix}\n",
    "\\end{matrix}\n",
    "\n",
    "- Assuming that you have $\\ell_2$ normalized vectors, you can compute the **similarity** between two terms by evaluating the dot product $\\textbf{t}_i^T\\textbf{t}_j$\n",
    "- If you want to compute it for all pairs just compute the covariance matrix: $\\mbf{X}\\mbf{X}^{\\top}$ which measure all the **correlations between terms in the document space.**"
   ]
  },
  {
   "cell_type": "markdown",
   "metadata": {
    "slideshow": {
     "slide_type": "subslide"
    }
   },
   "source": [
    "# Why SVD: decompose correlation of the data\n",
    "\n",
    "$\\mbf{X}\\mbf{X}^{\\top}$ which measures all the **correlations between terms in the document space.** What if we decompose this correlation?"
   ]
  },
  {
   "cell_type": "markdown",
   "metadata": {
    "slideshow": {
     "slide_type": "fragment"
    }
   },
   "source": [
    "\\begin{matrix}\n",
    "\\mathbf{X} \\mathbf{X}^T &=& (\\mathbf{U} \\mathbf{S} \\mathbf{V}^T) (\\mathbf{U} \\mathbf{S} \\mathbf{V}^T)^T = (\\mathbf{U} \\mathbf{S} \\mathbf{V}^T) (\\mathbf{V}^{T^T} \\mathbf{S}^T \\mathbf{U}^T) = \\mathbf{U} \\mathbf{S} \\mathbf{V}^T \\mathbf{V} \\mathbf{S}^T \\mathbf{U}^T = \\mathbf{U} \\underbrace{\\mathbf{S} \\mathbf{S}^T}_{\\Sigma} \\mathbf{U}^T  \\\\\n",
    "\\end{matrix}\n",
    "\n",
    "Singular Value Decomposition of $\\mathbf{X}$ is related to **Eigendecomposition** of the covariance of $\\mathbf{X}$. \n",
    "\n",
    "Eigenvalue $\\sigma_i = \\lambda_i^2 \\quad\\longrightarrow\\quad$ Eigenvalue = squared singular value"
   ]
  },
  {
   "cell_type": "markdown",
   "metadata": {
    "slideshow": {
     "slide_type": "subslide"
    }
   },
   "source": [
    "# Eigendecomposition and Singular Value Decomposition\n",
    "\n",
    "| Method \t| X \t| Decomposition \t|\n",
    "|--------\t|---\t|---------------\t|\n",
    "|     SVD   | any  \t|   $\\mbf{X}=\\mbf{U}\\mbf{\\Sigma}\\mbf{V}^{\\top}$            \t|\n",
    "|     Eigen   | square  \t|   $\\mbf{X}=\\mbf{U}\\mbf{\\Sigma}\\mbf{U}^{-1}$            \t|"
   ]
  },
  {
   "cell_type": "markdown",
   "metadata": {
    "slideshow": {
     "slide_type": "subslide"
    }
   },
   "source": [
    "# Decomposition as a Geometric Pipeline\n",
    "\n",
    "$$\\mathbf{A}\\mathbf{x} = \\underbrace{(\\mathbf{U} \n",
    "\\underbrace{(\\mathbf{\\Sigma}\\underbrace{(\\mathbf{U}^{-1}\\mathbf{x})}_{\\text{1st step/rotate}})}_{\\text{2nd step/scale}})}_{\\text{3rd step/rotate}}$$"
   ]
  },
  {
   "cell_type": "markdown",
   "metadata": {
    "slideshow": {
     "slide_type": "subslide"
    }
   },
   "source": [
    "| Method   \t| Step 1 \t| Step 2             \t| Step 3 \t|\n",
    "|----------\t|--------\t|--------------------\t|--------\t|\n",
    "| Geometry \t| rotate \t| scale/reflect axis \t| rotate \t|\n",
    "| SVD      \t|   $\\mbf{V}^T$     \t|   $\\mbf{\\Sigma}$                 \t|  $\\mbf{U}$      \t|\n",
    "| Geometry \t| rotate \t| scale/reflect axis \t| rotate \t|\n",
    "| Eig      \t|  $\\mbf{V}^{-1}$        \t|     $\\mbf{\\Sigma}$                 \t| $\\mbf{U}$         \t|"
   ]
  },
  {
   "cell_type": "markdown",
   "metadata": {
    "slideshow": {
     "slide_type": "subslide"
    }
   },
   "source": [
    "# Problems with LSA and SVD\n",
    "\n",
    "The dimensions of the matrix change very often (new words are added very frequently and corpus changes in size). \n",
    "SVD based methods do not scale well for big matrices and it is hard to incorporate new words or documents.\n",
    "- The matrix is extremely sparse since most words do not co-occur.\n",
    "- The matrix is very high dimensional in general (≈ $10^6 × 10^6$)\n",
    "- Quadratic cost to train (i.e. to perform SVD)\n",
    "- Requires the incorporation of some hacks on X to account for the drastic imbalance in word frequency"
   ]
  },
  {
   "cell_type": "markdown",
   "metadata": {
    "slideshow": {
     "slide_type": "subslide"
    }
   },
   "source": [
    "# Applications: Topic modeling with Gensim\n",
    "<br/>\n",
    "<div align='center'><img src=\"figs/gensim.png\" width='65%' ></div>"
   ]
  },
  {
   "cell_type": "markdown",
   "metadata": {
    "slideshow": {
     "slide_type": "subslide"
    }
   },
   "source": [
    "# Gensim library\n",
    "\n",
    "- Free python library for topic modeling\n",
    "- It contains **LSA** and also **word2vec**\n",
    "- No deeplearning yet!\n",
    "\n",
    "<div align='center'><img src=\"figs/gen_sim_lsa.png\" width='65%' ></div>\n",
    "\n"
   ]
  },
  {
   "cell_type": "markdown",
   "metadata": {
    "slideshow": {
     "slide_type": "slide"
    }
   },
   "source": [
    "# Introduction to word2vec"
   ]
  },
  {
   "cell_type": "markdown",
   "metadata": {
    "slideshow": {
     "slide_type": "subslide"
    }
   },
   "source": [
    "# Introduction  to word2vec\n",
    "\n",
    "Word2vec [Mikolov et al. 2013] is a framework for **learning word vectors**. \n",
    "\n",
    "The objective is the same to what we saw in **LSA**."
   ]
  },
  {
   "cell_type": "markdown",
   "metadata": {
    "slideshow": {
     "slide_type": "subslide"
    }
   },
   "source": [
    "# Introduction to word2vec\n",
    "\n",
    "- Still learn short, dense and static embeddings.\n",
    "- Static embeddings: one fixed embedding for each word in the vocabulary\n",
    "\n",
    "Idea: apply **machine learning** and use the text as **self-supervision**\n",
    "\n",
    ">The intuition of word2vec is that instead of counting how often each word w occurs near, say, apricot, we’ll instead train a classifier on a binary prediction task: “Is\n",
    "word w likely to show up near apricot?” We don’t actually care about this prediction\n",
    "task; instead we’ll take the learned classifier weights as the word embeddings."
   ]
  },
  {
   "cell_type": "markdown",
   "metadata": {
    "slideshow": {
     "slide_type": "subslide"
    }
   },
   "source": [
    "# Recap of concepts to understand word2vec\n",
    "\n",
    "- Self-Supervision\n",
    "- Binary Logistic Regression\n",
    "- Softmax classifier (Multinomial Logistic Regression)\n",
    "- Optimization with Gradient Descent"
   ]
  },
  {
   "cell_type": "markdown",
   "metadata": {
    "slideshow": {
     "slide_type": "subslide"
    }
   },
   "source": [
    "# Self-Supervision\n",
    "\n",
    "Let's play a game and fill the missing word:\n",
    "\n",
    "```\n",
    "Yesterday, it was a hot summer day in Rome, so I went to a nice \n",
    "gelateria and I bought a delicious yet melting ____________\n",
    "```\n",
    "<br/>\n",
    "\n",
    "| word1   \t| word2 \t| word3             \t| word4\t| sum | \n",
    "|----------\t|--------\t|--------------------\t|--------\t| --------\t|\n",
    "| strolley | ice-cream | parrot|  gelato| |\n",
    "| prob=? | prob=? | prob=?|  prob=?| 1 |\n",
    "\n",
    "**Masking the input:** with self-supervision you have the ground-truth word because it is in the text itself. You simple remove a word and ask the machine to predict the removed word, given some context.\n",
    "\n"
   ]
  },
  {
   "cell_type": "markdown",
   "metadata": {
    "slideshow": {
     "slide_type": "subslide"
    }
   },
   "source": [
    "# Logistic Regression\n",
    "\n",
    "- The name is a bit _misleading_: it is used as a **discriminative <ins>classifier<ins>**\n",
    "- Discriminative means we model $p(y|x)$ _what is the probability for the label $\\operatorname{prob}(Y=y)$ given $x$?_\n",
    "- Very commonly used algorithm"
   ]
  },
  {
   "cell_type": "markdown",
   "metadata": {
    "slideshow": {
     "slide_type": "subslide"
    }
   },
   "source": [
    "# Logistic Regression\n",
    "\n",
    "- $\\mbf{x} \\in \\mathbb{R}^d \\quad y \\in \\{0,1\\}$\n",
    "\n",
    "$$ \\begin{cases}\n",
    "y=1  \\quad \\text{positive example}\\\\\n",
    "y=0 \\quad \\text{negative example}\\\\\n",
    "\\end{cases} $$"
   ]
  },
  {
   "cell_type": "markdown",
   "metadata": {
    "slideshow": {
     "slide_type": "subslide"
    },
    "variables": {
     "import numpy as np;import matplotlib.pyplot as plt;x = np.arange(-20.0, 20.0, 0.1);y = 1/(1+np.exp(-x));_=plt.plot(x,y);": "<img src=\"data:image/png;base64,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\n\"/>"
    }
   },
   "source": [
    "# Logistic Regression (also called Logit)\n",
    "\n",
    "\n",
    "$$f_{\\boldsymbol{\\theta}}(\\mbf{x}) \\doteq \\sigma\\left(  \\bmf{\\theta}^T\\mbf{x} \\right)$$\n",
    "\n",
    "where:\n",
    "\n",
    "$$ \\sigma(z)= \\frac{1}{1+\\exp^{-z}} \\quad \\text{sigmoid or logistic function}$$\n",
    "<br><br> <center>Smooth and Differentiable alternative to sign</center>\n",
    "{{import numpy as np;import matplotlib.pyplot as plt;x = np.arange(-20.0, 20.0, 0.1);y = 1/(1+np.exp(-x));_=plt.plot(x,y);}}"
   ]
  },
  {
   "cell_type": "markdown",
   "metadata": {
    "slideshow": {
     "slide_type": "subslide"
    }
   },
   "source": [
    "# Logistic Regression - Probabilistic View\n",
    "\n",
    "We model **conditional probability of $y|x$:**\n",
    "\n",
    "$$ \\begin{cases}\n",
    "p(y=1| \\mbf{x};\\bmf{\\theta}) = f_{\\boldsymbol{\\theta}}\\\\\n",
    "p(y=0| \\mbf{x};\\bmf{\\theta}) = ?\\\\\n",
    "\\end{cases} $$\n",
    "\n",
    "<br><br>\n",
    "$$f_{\\boldsymbol{\\theta}}(\\mbf{x}) \\doteq \\sigma\\left(  \\bmf{\\theta}^T\\mbf{x} \\right)$$\n",
    "\n",
    "where:\n",
    "\n",
    "$$ \\sigma(z)= \\frac{1}{1+\\exp^{-z}} \\quad \\text{sigmoid or logistic function}$$\n"
   ]
  },
  {
   "cell_type": "markdown",
   "metadata": {
    "slideshow": {
     "slide_type": "subslide"
    }
   },
   "source": [
    "# Logistic Regression - Probabilistic View\n",
    "\n",
    "We model **conditional probability of $y|x$:**\n",
    "\n",
    "$$ \\begin{cases}\n",
    "p(y=1| \\mbf{x};\\bmf{\\theta}) = f_{\\boldsymbol{\\theta}}\\\\\n",
    "p(y=0| \\mbf{x};\\bmf{\\theta}) = 1- f_{\\boldsymbol{\\theta}}\\\n",
    "\\end{cases} $$\n",
    "\n",
    "<br><br>\n",
    "$$f_{\\boldsymbol{\\theta}}(\\mbf{x}) \\doteq \\sigma\\left(  \\bmf{\\theta}^T\\mbf{x} \\right)$$\n",
    "\n",
    "where:\n",
    "\n",
    "$$ \\sigma(z)= \\frac{1}{1+\\exp^{-z}} \\quad \\text{sigmoid or logistic function}$$\n",
    "\n",
    "$$\\lim_{z\\mapsto \\infty}\\sigma(z)=1$$\n",
    "$$\\lim_{z\\mapsto -\\infty}\\sigma(z)=0$$"
   ]
  },
  {
   "cell_type": "markdown",
   "metadata": {
    "slideshow": {
     "slide_type": "subslide"
    }
   },
   "source": [
    "# Logistic Regression - Probabilistic View\n",
    "\n",
    "We model **conditional probability of $y|x$:**\n",
    "\n",
    "$$ \\begin{cases}\n",
    "p(y=1| \\mbf{x};\\bmf{\\theta}) = f_{\\boldsymbol{\\theta}}\\\\\n",
    "p(y=0| \\mbf{x};\\bmf{\\theta}) = 1- f_{\\boldsymbol{\\theta}}\\\n",
    "\\end{cases} $$\n",
    "\n",
    "<br><br>\n",
    "$$f_{\\boldsymbol{\\theta}}(\\mbf{x}) \\doteq \\frac{1}{1+\\exp^{-\\bmf{\\theta}^T\\mbf{x}}}$$\n"
   ]
  },
  {
   "cell_type": "markdown",
   "metadata": {
    "slideshow": {
     "slide_type": "subslide"
    }
   },
   "source": [
    "# Multinomial Logistic Regression with SoftMax\n",
    "\n",
    "We model **conditional probability of $y|x$:**\n",
    "\n",
    "$$ \\begin{cases}\n",
    "p(y=1| \\mbf{x};\\mbf{W},\\mbf{b}) = p_1 = \\bmf{\\sigma}_1\\left(  \\mbf{W}\\mbf{x} + \\mbf{b} \\right)\\\\\n",
    "p(y=2| \\mbf{x};\\mbf{W},\\mbf{b}) = p_2 =  \\bmf{\\sigma}_2\\left(  \\mbf{W}\\mbf{x} + \\mbf{b} \\right)\\\\\n",
    "\\ldots \\\\\n",
    "p(y=K| \\mbf{x};\\mbf{W},\\mbf{b}) = p_K =  \\bmf{\\sigma}_K\\left(  \\mbf{W}\\mbf{x} + \\mbf{b} \\right)\\\\\n",
    "\\end{cases} $$\n",
    "\n",
    "<br><br>\n",
    "$$f_{\\boldsymbol{\\theta}}(\\mbf{x}) \\doteq \\mbf{z} \\doteq \\bmf{\\sigma}\\left(  \\mbf{W}\\mbf{x} + \\mbf{b} \\right)$$\n",
    "\n",
    "where:\n",
    "\n",
    "$$ \\bmf{\\sigma}_i(z)= \\frac{e^{z_i}}{\\sum_{k=1}^K e^{z_k}} \\quad \\text{Softmax function}$$\n"
   ]
  },
  {
   "cell_type": "markdown",
   "metadata": {
    "slideshow": {
     "slide_type": "subslide"
    }
   },
   "source": [
    "# How SoftMax transforms logits into probability\n",
    "\n",
    "<div align='center'><img src=\"figs/softmax_prob.png\" width='75%' ></div>"
   ]
  },
  {
   "cell_type": "markdown",
   "metadata": {
    "slideshow": {
     "slide_type": "subslide"
    }
   },
   "source": [
    "# SoftMax Regression, More Compact Form\n",
    "\n",
    "\n",
    "you can think $\\mbf{z} = \\mbf{W}\\mbf{x}+\\mbf{b}$ as **unormalized log-probability** of each class.\n",
    "\n",
    "<br>\n",
    "$$ p(\\mbf{y}| \\mbf{x};\\mbf{W},\\mbf{b}) = \\frac{\\exp({\\mbf{W}\\mbf{x}+\\mbf{b})}}{\\sum_{k=1}^K\\exp({\\mbf{W}_k\\mbf{x}+\\mbf{b}_k)}} $$\n",
    "\n",
    "\n"
   ]
  },
  {
   "cell_type": "markdown",
   "metadata": {
    "slideshow": {
     "slide_type": "subslide"
    }
   },
   "source": [
    "# Learning weights through Stochastic Gradient Descent (SGD)\n",
    "\n",
    "We need to minimize $$ \\mathcal{J}(\\mbf{\\theta};\\mbf{x},y)= \\frac{1}{2} \\sum_{i=1}^{n}\\mathcal{L}\\big(y_{i}, f_{\\boldsymbol{\\theta}}(\\mbf{x}_i)\\big)$$  so to find:\n",
    "\n",
    "$$\\mbf{\\theta}^{\\star} = \\arg\\min_{\\mbf{\\theta}} \\mathcal{J}(\\mbf{\\theta};\\mbf{x},y) $$"
   ]
  },
  {
   "cell_type": "markdown",
   "metadata": {
    "slideshow": {
     "slide_type": "subslide"
    }
   },
   "source": [
    "# Gradient Descent Algorithm as an Iterative Method\n",
    "\n",
    "<ins>**Idea: make little step so that locally after each step the cost is lower than before**</ins><br>\n",
    "Input: Training set $\\{\\mbf{x}_i,y_i\\}$, learning rate  $\\gamma$, a small value in $\\{0.1,\\ldots,\\texttt{1e-6}\\}$."
   ]
  },
  {
   "cell_type": "markdown",
   "metadata": {
    "slideshow": {
     "slide_type": "fragment"
    }
   },
   "source": [
    "1. **Initialization - Very Important if the function is not strictly convex** \n",
    "$$\\bmf{\\theta} \\doteq \\mbf{0}^T$$ Set it to all zeros or random initialization from a distribution.\n",
    "2. Repeat until **convergence**:\n",
    "    - Compute the gradient of the loss wrt to the parameters $\\bmf{\\theta}$ given **all the training set**\n",
    "    - Take a small step in the opposite direction of steepest ascent **(so steepest descent).**<br/><br/>\n",
    "     $$\\bmf{\\theta} \\leftarrow  \\bmf{\\theta} -\\gamma \\bmf{\\nabla}_{\\bmf{\\theta}}\\mathcal{J}(\\mbf{\\theta};\\mbf{x},y)$$\n",
    "3. When convergence is reached, you final estimate is in $\\bmf{\\theta}$"
   ]
  },
  {
   "cell_type": "markdown",
   "metadata": {
    "slideshow": {
     "slide_type": "subslide"
    }
   },
   "source": [
    "# Convergence\n",
    "\n",
    "$$\\big\\{\\bmf{\\theta}_{t=0},\\bmf{\\theta}_{t=1}, \\ldots, \\bmf{\\theta}_{t=100} \\big\\}$$\n",
    "\n",
    "### 0) <ins>Always:</ins> validation loss/metric _(early stopping)_ (required)\n",
    "\n",
    "### 1) No significant decrease in the loss function (preferred)\n",
    "\n",
    "$$\\mid \\mathcal{J}(\\mbf{\\theta};\\mbf{x},y)_{t} - \\mathcal{J}(\\mbf{\\theta};\\mbf{x},y)_{t-1}   \\mid $$\n",
    "\n",
    "### 1) No variations in the parameters\n",
    "\n",
    "$$\\mid\\mid \\mbf{\\theta}_{t} - \\mbf{\\theta}_{t-1}   \\mid\\mid $$\n",
    "\n",
    "### 2) Gradient Norm goes to zero\n",
    "\n",
    "$$\\mid\\mid \\bmf{\\nabla}_{\\bmf{\\theta}}\\mathcal{J}(\\mbf{\\theta};\\mbf{x},y)   \\mid\\mid \\rightarrow 0 $$\n"
   ]
  },
  {
   "cell_type": "code",
   "execution_count": 20,
   "metadata": {
    "hide_input": false,
    "slideshow": {
     "slide_type": "skip"
    }
   },
   "outputs": [
    {
     "data": {
      "image/png": "[encoded data removed]",
      "text/plain": [
       "<Figure size 700x700 with 1 Axes>"
      ]
     },
     "metadata": {},
     "output_type": "display_data"
    }
   ],
   "source": [
    "%matplotlib inline\n",
    "from sklearn import linear_model, datasets\n",
    "from matplotlib import pyplot as plt\n",
    "import numpy as np\n",
    "\n",
    "n_samples = 100\n",
    "size = 7\n",
    "\n",
    "X, y, coef_gt = datasets.make_regression(\n",
    "    n_samples=n_samples,\n",
    "    n_features=1,\n",
    "    n_informative=1,\n",
    "    noise=20,\n",
    "    coef=True,\n",
    "    random_state=42,\n",
    ")\n",
    "fig = plt.figure(figsize=(size, size))\n",
    "ax = fig.add_subplot()\n",
    "# Linear Regression\n",
    "bias = np.ones((X.shape[0], 1))\n",
    "X = np.hstack((X, bias))\n",
    "theta = np.linalg.inv(X.T@X)@X.T@y\n",
    "# Now MeshGrid\n",
    "Xmin, Xmax = X.min(), X.max()\n",
    "x_interp = np.linspace(Xmin, Xmax, 100)\n",
    "x_interp = x_interp.reshape(-1,1)\n",
    "x_interp = np.c_[x_interp,np.ones_like(x_interp)]\n",
    "y_interp = np.dot(theta, x_interp.T)\n",
    "ax.scatter(x_interp[:,0], y_interp, alpha=0.7, marker='.')\n",
    "ax.scatter(X[..., 0], y, c='red', marker='o')\n",
    "ax.set_xlabel('$x$');\n",
    "ax.set_ylabel('$y$');"
   ]
  },
  {
   "cell_type": "code",
   "execution_count": 21,
   "metadata": {
    "slideshow": {
     "slide_type": "skip"
    }
   },
   "outputs": [],
   "source": [
    "# do mesh grid on possible theta, evaluate the loss and plot the countf\n",
    "theta_sampling = 50\n",
    "theta_space = np.linspace(-200, 200, theta_sampling)\n",
    "xxt, yyt = np.meshgrid(theta_space, theta_space)\n",
    "xxt = xxt.flatten()\n",
    "yyt = yyt.flatten()\n",
    "all_coeff = np.stack((xxt, yyt), axis=1)\n",
    "loss = 0.5*1"
   ]
  },
  {
   "cell_type": "code",
   "execution_count": 22,
   "metadata": {
    "slideshow": {
     "slide_type": "skip"
    }
   },
   "outputs": [],
   "source": [
    "losses = []\n",
    "for coeff in all_coeff:\n",
    "    diff = np.dot(X, coeff.T) - y\n",
    "    losses.append(0.5*np.dot(diff.T, diff))\n",
    "losses = np.array(losses)\n",
    "losses = losses.reshape(theta_sampling, theta_sampling)\n",
    "xxt = xxt.reshape(theta_sampling, theta_sampling)\n",
    "yyt = yyt.reshape(theta_sampling, theta_sampling)"
   ]
  },
  {
   "cell_type": "code",
   "execution_count": 23,
   "metadata": {
    "slideshow": {
     "slide_type": "skip"
    }
   },
   "outputs": [
    {
     "data": {
      "image/png": "[encoded data removed]",
      "text/plain": [
       "<Figure size 640x480 with 2 Axes>"
      ]
     },
     "metadata": {},
     "output_type": "display_data"
    }
   ],
   "source": [
    "plt.rcParams['axes.grid'] = False\n",
    "plt.contourf(xxt, yyt, losses, levels=50, cmap='jet')\n",
    "plt.colorbar()\n",
    "plt.scatter(coef_gt, 0, color='red', marker='o', s=50)\n",
    "plt.axis('scaled')\n",
    "plt.xlabel('$theta_1$')\n",
    "plt.ylabel('$theta_2$');"
   ]
  },
  {
   "cell_type": "markdown",
   "metadata": {
    "slideshow": {
     "slide_type": "subslide"
    }
   },
   "source": [
    "# Ready for an awesome demo?"
   ]
  },
  {
   "cell_type": "code",
   "execution_count": 24,
   "metadata": {
    "hide_input": true,
    "scrolled": true,
    "slideshow": {
     "slide_type": "subslide"
    }
   },
   "outputs": [
    {
     "data": {
      "application/javascript": [
       "/* Put everything inside the global mpl namespace */\n",
       "/* global mpl */\n",
       "window.mpl = {};\n",
       "\n",
       "mpl.get_websocket_type = function () {\n",
       "    if (typeof WebSocket !== 'undefined') {\n",
       "        return WebSocket;\n",
       "    } else if (typeof MozWebSocket !== 'undefined') {\n",
       "        return MozWebSocket;\n",
       "    } else {\n",
       "        alert(\n",
       "            'Your browser does not have WebSocket support. ' +\n",
       "                'Please try Chrome, Safari or Firefox ≥ 6. ' +\n",
       "                'Firefox 4 and 5 are also supported but you ' +\n",
       "                'have to enable WebSockets in about:config.'\n",
       "        );\n",
       "    }\n",
       "};\n",
       "\n",
       "mpl.figure = function (figure_id, websocket, ondownload, parent_element) {\n",
       "    this.id = figure_id;\n",
       "\n",
       "    this.ws = websocket;\n",
       "\n",
       "    this.supports_binary = this.ws.binaryType !== undefined;\n",
       "\n",
       "    if (!this.supports_binary) {\n",
       "        var warnings = document.getElementById('mpl-warnings');\n",
       "        if (warnings) {\n",
       "            warnings.style.display = 'block';\n",
       "            warnings.textContent =\n",
       "                'This browser does not support binary websocket messages. ' +\n",
       "                'Performance may be slow.';\n",
       "        }\n",
       "    }\n",
       "\n",
       "    this.imageObj = new Image();\n",
       "\n",
       "    this.context = undefined;\n",
       "    this.message = undefined;\n",
       "    this.canvas = undefined;\n",
       "    this.rubberband_canvas = undefined;\n",
       "    this.rubberband_context = undefined;\n",
       "    this.format_dropdown = undefined;\n",
       "\n",
       "    this.image_mode = 'full';\n",
       "\n",
       "    this.root = document.createElement('div');\n",
       "    this.root.setAttribute('style', 'display: inline-block');\n",
       "    this._root_extra_style(this.root);\n",
       "\n",
       "    parent_element.appendChild(this.root);\n",
       "\n",
       "    this._init_header(this);\n",
       "    this._init_canvas(this);\n",
       "    this._init_toolbar(this);\n",
       "\n",
       "    var fig = this;\n",
       "\n",
       "    this.waiting = false;\n",
       "\n",
       "    this.ws.onopen = function () {\n",
       "        fig.send_message('supports_binary', { value: fig.supports_binary });\n",
       "        fig.send_message('send_image_mode', {});\n",
       "        if (fig.ratio !== 1) {\n",
       "            fig.send_message('set_device_pixel_ratio', {\n",
       "                device_pixel_ratio: fig.ratio,\n",
       "            });\n",
       "        }\n",
       "        fig.send_message('refresh', {});\n",
       "    };\n",
       "\n",
       "    this.imageObj.onload = function () {\n",
       "        if (fig.image_mode === 'full') {\n",
       "            // Full images could contain transparency (where diff images\n",
       "            // almost always do), so we need to clear the canvas so that\n",
       "            // there is no ghosting.\n",
       "            fig.context.clearRect(0, 0, fig.canvas.width, fig.canvas.height);\n",
       "        }\n",
       "        fig.context.drawImage(fig.imageObj, 0, 0);\n",
       "    };\n",
       "\n",
       "    this.imageObj.onunload = function () {\n",
       "        fig.ws.close();\n",
       "    };\n",
       "\n",
       "    this.ws.onmessage = this._make_on_message_function(this);\n",
       "\n",
       "    this.ondownload = ondownload;\n",
       "};\n",
       "\n",
       "mpl.figure.prototype._init_header = function () {\n",
       "    var titlebar = document.createElement('div');\n",
       "    titlebar.classList =\n",
       "        'ui-dialog-titlebar ui-widget-header ui-corner-all ui-helper-clearfix';\n",
       "    var titletext = document.createElement('div');\n",
       "    titletext.classList = 'ui-dialog-title';\n",
       "    titletext.setAttribute(\n",
       "        'style',\n",
       "        'width: 100%; text-align: center; padding: 3px;'\n",
       "    );\n",
       "    titlebar.appendChild(titletext);\n",
       "    this.root.appendChild(titlebar);\n",
       "    this.header = titletext;\n",
       "};\n",
       "\n",
       "mpl.figure.prototype._canvas_extra_style = function (_canvas_div) {};\n",
       "\n",
       "mpl.figure.prototype._root_extra_style = function (_canvas_div) {};\n",
       "\n",
       "mpl.figure.prototype._init_canvas = function () {\n",
       "    var fig = this;\n",
       "\n",
       "    var canvas_div = (this.canvas_div = document.createElement('div'));\n",
       "    canvas_div.setAttribute('tabindex', '0');\n",
       "    canvas_div.setAttribute(\n",
       "        'style',\n",
       "        'border: 1px solid #ddd;' +\n",
       "            'box-sizing: content-box;' +\n",
       "            'clear: both;' +\n",
       "            'min-height: 1px;' +\n",
       "            'min-width: 1px;' +\n",
       "            'outline: 0;' +\n",
       "            'overflow: hidden;' +\n",
       "            'position: relative;' +\n",
       "            'resize: both;' +\n",
       "            'z-index: 2;'\n",
       "    );\n",
       "\n",
       "    function on_keyboard_event_closure(name) {\n",
       "        return function (event) {\n",
       "            return fig.key_event(event, name);\n",
       "        };\n",
       "    }\n",
       "\n",
       "    canvas_div.addEventListener(\n",
       "        'keydown',\n",
       "        on_keyboard_event_closure('key_press')\n",
       "    );\n",
       "    canvas_div.addEventListener(\n",
       "        'keyup',\n",
       "        on_keyboard_event_closure('key_release')\n",
       "    );\n",
       "\n",
       "    this._canvas_extra_style(canvas_div);\n",
       "    this.root.appendChild(canvas_div);\n",
       "\n",
       "    var canvas = (this.canvas = document.createElement('canvas'));\n",
       "    canvas.classList.add('mpl-canvas');\n",
       "    canvas.setAttribute(\n",
       "        'style',\n",
       "        'box-sizing: content-box;' +\n",
       "            'pointer-events: none;' +\n",
       "            'position: relative;' +\n",
       "            'z-index: 0;'\n",
       "    );\n",
       "\n",
       "    this.context = canvas.getContext('2d');\n",
       "\n",
       "    var backingStore =\n",
       "        this.context.backingStorePixelRatio ||\n",
       "        this.context.webkitBackingStorePixelRatio ||\n",
       "        this.context.mozBackingStorePixelRatio ||\n",
       "        this.context.msBackingStorePixelRatio ||\n",
       "        this.context.oBackingStorePixelRatio ||\n",
       "        this.context.backingStorePixelRatio ||\n",
       "        1;\n",
       "\n",
       "    this.ratio = (window.devicePixelRatio || 1) / backingStore;\n",
       "\n",
       "    var rubberband_canvas = (this.rubberband_canvas = document.createElement(\n",
       "        'canvas'\n",
       "    ));\n",
       "    rubberband_canvas.setAttribute(\n",
       "        'style',\n",
       "        'box-sizing: content-box;' +\n",
       "            'left: 0;' +\n",
       "            'pointer-events: none;' +\n",
       "            'position: absolute;' +\n",
       "            'top: 0;' +\n",
       "            'z-index: 1;'\n",
       "    );\n",
       "\n",
       "    // Apply a ponyfill if ResizeObserver is not implemented by browser.\n",
       "    if (this.ResizeObserver === undefined) {\n",
       "        if (window.ResizeObserver !== undefined) {\n",
       "            this.ResizeObserver = window.ResizeObserver;\n",
       "        } else {\n",
       "            var obs = _JSXTOOLS_RESIZE_OBSERVER({});\n",
       "            this.ResizeObserver = obs.ResizeObserver;\n",
       "        }\n",
       "    }\n",
       "\n",
       "    this.resizeObserverInstance = new this.ResizeObserver(function (entries) {\n",
       "        var nentries = entries.length;\n",
       "        for (var i = 0; i < nentries; i++) {\n",
       "            var entry = entries[i];\n",
       "            var width, height;\n",
       "            if (entry.contentBoxSize) {\n",
       "                if (entry.contentBoxSize instanceof Array) {\n",
       "                    // Chrome 84 implements new version of spec.\n",
       "                    width = entry.contentBoxSize[0].inlineSize;\n",
       "                    height = entry.contentBoxSize[0].blockSize;\n",
       "                } else {\n",
       "                    // Firefox implements old version of spec.\n",
       "                    width = entry.contentBoxSize.inlineSize;\n",
       "                    height = entry.contentBoxSize.blockSize;\n",
       "                }\n",
       "            } else {\n",
       "                // Chrome <84 implements even older version of spec.\n",
       "                width = entry.contentRect.width;\n",
       "                height = entry.contentRect.height;\n",
       "            }\n",
       "\n",
       "            // Keep the size of the canvas and rubber band canvas in sync with\n",
       "            // the canvas container.\n",
       "            if (entry.devicePixelContentBoxSize) {\n",
       "                // Chrome 84 implements new version of spec.\n",
       "                canvas.setAttribute(\n",
       "                    'width',\n",
       "                    entry.devicePixelContentBoxSize[0].inlineSize\n",
       "                );\n",
       "                canvas.setAttribute(\n",
       "                    'height',\n",
       "                    entry.devicePixelContentBoxSize[0].blockSize\n",
       "                );\n",
       "            } else {\n",
       "                canvas.setAttribute('width', width * fig.ratio);\n",
       "                canvas.setAttribute('height', height * fig.ratio);\n",
       "            }\n",
       "            /* This rescales the canvas back to display pixels, so that it\n",
       "             * appears correct on HiDPI screens. */\n",
       "            canvas.style.width = width + 'px';\n",
       "            canvas.style.height = height + 'px';\n",
       "\n",
       "            rubberband_canvas.setAttribute('width', width);\n",
       "            rubberband_canvas.setAttribute('height', height);\n",
       "\n",
       "            // And update the size in Python. We ignore the initial 0/0 size\n",
       "            // that occurs as the element is placed into the DOM, which should\n",
       "            // otherwise not happen due to the minimum size styling.\n",
       "            if (fig.ws.readyState == 1 && width != 0 && height != 0) {\n",
       "                fig.request_resize(width, height);\n",
       "            }\n",
       "        }\n",
       "    });\n",
       "    this.resizeObserverInstance.observe(canvas_div);\n",
       "\n",
       "    function on_mouse_event_closure(name) {\n",
       "        /* User Agent sniffing is bad, but WebKit is busted:\n",
       "         * https://bugs.webkit.org/show_bug.cgi?id=144526\n",
       "         * https://bugs.webkit.org/show_bug.cgi?id=181818\n",
       "         * The worst that happens here is that they get an extra browser\n",
       "         * selection when dragging, if this check fails to catch them.\n",
       "         */\n",
       "        var UA = navigator.userAgent;\n",
       "        var isWebKit = /AppleWebKit/.test(UA) && !/Chrome/.test(UA);\n",
       "        if(isWebKit) {\n",
       "            return function (event) {\n",
       "                /* This prevents the web browser from automatically changing to\n",
       "                 * the text insertion cursor when the button is pressed. We\n",
       "                 * want to control all of the cursor setting manually through\n",
       "                 * the 'cursor' event from matplotlib */\n",
       "                event.preventDefault()\n",
       "                return fig.mouse_event(event, name);\n",
       "            };\n",
       "        } else {\n",
       "            return function (event) {\n",
       "                return fig.mouse_event(event, name);\n",
       "            };\n",
       "        }\n",
       "    }\n",
       "\n",
       "    canvas_div.addEventListener(\n",
       "        'mousedown',\n",
       "        on_mouse_event_closure('button_press')\n",
       "    );\n",
       "    canvas_div.addEventListener(\n",
       "        'mouseup',\n",
       "        on_mouse_event_closure('button_release')\n",
       "    );\n",
       "    canvas_div.addEventListener(\n",
       "        'dblclick',\n",
       "        on_mouse_event_closure('dblclick')\n",
       "    );\n",
       "    // Throttle sequential mouse events to 1 every 20ms.\n",
       "    canvas_div.addEventListener(\n",
       "        'mousemove',\n",
       "        on_mouse_event_closure('motion_notify')\n",
       "    );\n",
       "\n",
       "    canvas_div.addEventListener(\n",
       "        'mouseenter',\n",
       "        on_mouse_event_closure('figure_enter')\n",
       "    );\n",
       "    canvas_div.addEventListener(\n",
       "        'mouseleave',\n",
       "        on_mouse_event_closure('figure_leave')\n",
       "    );\n",
       "\n",
       "    canvas_div.addEventListener('wheel', function (event) {\n",
       "        if (event.deltaY < 0) {\n",
       "            event.step = 1;\n",
       "        } else {\n",
       "            event.step = -1;\n",
       "        }\n",
       "        on_mouse_event_closure('scroll')(event);\n",
       "    });\n",
       "\n",
       "    canvas_div.appendChild(canvas);\n",
       "    canvas_div.appendChild(rubberband_canvas);\n",
       "\n",
       "    this.rubberband_context = rubberband_canvas.getContext('2d');\n",
       "    this.rubberband_context.strokeStyle = '#000000';\n",
       "\n",
       "    this._resize_canvas = function (width, height, forward) {\n",
       "        if (forward) {\n",
       "            canvas_div.style.width = width + 'px';\n",
       "            canvas_div.style.height = height + 'px';\n",
       "        }\n",
       "    };\n",
       "\n",
       "    // Disable right mouse context menu.\n",
       "    canvas_div.addEventListener('contextmenu', function (_e) {\n",
       "        event.preventDefault();\n",
       "        return false;\n",
       "    });\n",
       "\n",
       "    function set_focus() {\n",
       "        canvas.focus();\n",
       "        canvas_div.focus();\n",
       "    }\n",
       "\n",
       "    window.setTimeout(set_focus, 100);\n",
       "};\n",
       "\n",
       "mpl.figure.prototype._init_toolbar = function () {\n",
       "    var fig = this;\n",
       "\n",
       "    var toolbar = document.createElement('div');\n",
       "    toolbar.classList = 'mpl-toolbar';\n",
       "    this.root.appendChild(toolbar);\n",
       "\n",
       "    function on_click_closure(name) {\n",
       "        return function (_event) {\n",
       "            return fig.toolbar_button_onclick(name);\n",
       "        };\n",
       "    }\n",
       "\n",
       "    function on_mouseover_closure(tooltip) {\n",
       "        return function (event) {\n",
       "            if (!event.currentTarget.disabled) {\n",
       "                return fig.toolbar_button_onmouseover(tooltip);\n",
       "            }\n",
       "        };\n",
       "    }\n",
       "\n",
       "    fig.buttons = {};\n",
       "    var buttonGroup = document.createElement('div');\n",
       "    buttonGroup.classList = 'mpl-button-group';\n",
       "    for (var toolbar_ind in mpl.toolbar_items) {\n",
       "        var name = mpl.toolbar_items[toolbar_ind][0];\n",
       "        var tooltip = mpl.toolbar_items[toolbar_ind][1];\n",
       "        var image = mpl.toolbar_items[toolbar_ind][2];\n",
       "        var method_name = mpl.toolbar_items[toolbar_ind][3];\n",
       "\n",
       "        if (!name) {\n",
       "            /* Instead of a spacer, we start a new button group. */\n",
       "            if (buttonGroup.hasChildNodes()) {\n",
       "                toolbar.appendChild(buttonGroup);\n",
       "            }\n",
       "            buttonGroup = document.createElement('div');\n",
       "            buttonGroup.classList = 'mpl-button-group';\n",
       "            continue;\n",
       "        }\n",
       "\n",
       "        var button = (fig.buttons[name] = document.createElement('button'));\n",
       "        button.classList = 'mpl-widget';\n",
       "        button.setAttribute('role', 'button');\n",
       "        button.setAttribute('aria-disabled', 'false');\n",
       "        button.addEventListener('click', on_click_closure(method_name));\n",
       "        button.addEventListener('mouseover', on_mouseover_closure(tooltip));\n",
       "\n",
       "        var icon_img = document.createElement('img');\n",
       "        icon_img.src = '_images/' + image + '.png';\n",
       "        icon_img.srcset = '_images/' + image + '_large.png 2x';\n",
       "        icon_img.alt = tooltip;\n",
       "        button.appendChild(icon_img);\n",
       "\n",
       "        buttonGroup.appendChild(button);\n",
       "    }\n",
       "\n",
       "    if (buttonGroup.hasChildNodes()) {\n",
       "        toolbar.appendChild(buttonGroup);\n",
       "    }\n",
       "\n",
       "    var fmt_picker = document.createElement('select');\n",
       "    fmt_picker.classList = 'mpl-widget';\n",
       "    toolbar.appendChild(fmt_picker);\n",
       "    this.format_dropdown = fmt_picker;\n",
       "\n",
       "    for (var ind in mpl.extensions) {\n",
       "        var fmt = mpl.extensions[ind];\n",
       "        var option = document.createElement('option');\n",
       "        option.selected = fmt === mpl.default_extension;\n",
       "        option.innerHTML = fmt;\n",
       "        fmt_picker.appendChild(option);\n",
       "    }\n",
       "\n",
       "    var status_bar = document.createElement('span');\n",
       "    status_bar.classList = 'mpl-message';\n",
       "    toolbar.appendChild(status_bar);\n",
       "    this.message = status_bar;\n",
       "};\n",
       "\n",
       "mpl.figure.prototype.request_resize = function (x_pixels, y_pixels) {\n",
       "    // Request matplotlib to resize the figure. Matplotlib will then trigger a resize in the client,\n",
       "    // which will in turn request a refresh of the image.\n",
       "    this.send_message('resize', { width: x_pixels, height: y_pixels });\n",
       "};\n",
       "\n",
       "mpl.figure.prototype.send_message = function (type, properties) {\n",
       "    properties['type'] = type;\n",
       "    properties['figure_id'] = this.id;\n",
       "    this.ws.send(JSON.stringify(properties));\n",
       "};\n",
       "\n",
       "mpl.figure.prototype.send_draw_message = function () {\n",
       "    if (!this.waiting) {\n",
       "        this.waiting = true;\n",
       "        this.ws.send(JSON.stringify({ type: 'draw', figure_id: this.id }));\n",
       "    }\n",
       "};\n",
       "\n",
       "mpl.figure.prototype.handle_save = function (fig, _msg) {\n",
       "    var format_dropdown = fig.format_dropdown;\n",
       "    var format = format_dropdown.options[format_dropdown.selectedIndex].value;\n",
       "    fig.ondownload(fig, format);\n",
       "};\n",
       "\n",
       "mpl.figure.prototype.handle_resize = function (fig, msg) {\n",
       "    var size = msg['size'];\n",
       "    if (size[0] !== fig.canvas.width || size[1] !== fig.canvas.height) {\n",
       "        fig._resize_canvas(size[0], size[1], msg['forward']);\n",
       "        fig.send_message('refresh', {});\n",
       "    }\n",
       "};\n",
       "\n",
       "mpl.figure.prototype.handle_rubberband = function (fig, msg) {\n",
       "    var x0 = msg['x0'] / fig.ratio;\n",
       "    var y0 = (fig.canvas.height - msg['y0']) / fig.ratio;\n",
       "    var x1 = msg['x1'] / fig.ratio;\n",
       "    var y1 = (fig.canvas.height - msg['y1']) / fig.ratio;\n",
       "    x0 = Math.floor(x0) + 0.5;\n",
       "    y0 = Math.floor(y0) + 0.5;\n",
       "    x1 = Math.floor(x1) + 0.5;\n",
       "    y1 = Math.floor(y1) + 0.5;\n",
       "    var min_x = Math.min(x0, x1);\n",
       "    var min_y = Math.min(y0, y1);\n",
       "    var width = Math.abs(x1 - x0);\n",
       "    var height = Math.abs(y1 - y0);\n",
       "\n",
       "    fig.rubberband_context.clearRect(\n",
       "        0,\n",
       "        0,\n",
       "        fig.canvas.width / fig.ratio,\n",
       "        fig.canvas.height / fig.ratio\n",
       "    );\n",
       "\n",
       "    fig.rubberband_context.strokeRect(min_x, min_y, width, height);\n",
       "};\n",
       "\n",
       "mpl.figure.prototype.handle_figure_label = function (fig, msg) {\n",
       "    // Updates the figure title.\n",
       "    fig.header.textContent = msg['label'];\n",
       "};\n",
       "\n",
       "mpl.figure.prototype.handle_cursor = function (fig, msg) {\n",
       "    fig.canvas_div.style.cursor = msg['cursor'];\n",
       "};\n",
       "\n",
       "mpl.figure.prototype.handle_message = function (fig, msg) {\n",
       "    fig.message.textContent = msg['message'];\n",
       "};\n",
       "\n",
       "mpl.figure.prototype.handle_draw = function (fig, _msg) {\n",
       "    // Request the server to send over a new figure.\n",
       "    fig.send_draw_message();\n",
       "};\n",
       "\n",
       "mpl.figure.prototype.handle_image_mode = function (fig, msg) {\n",
       "    fig.image_mode = msg['mode'];\n",
       "};\n",
       "\n",
       "mpl.figure.prototype.handle_history_buttons = function (fig, msg) {\n",
       "    for (var key in msg) {\n",
       "        if (!(key in fig.buttons)) {\n",
       "            continue;\n",
       "        }\n",
       "        fig.buttons[key].disabled = !msg[key];\n",
       "        fig.buttons[key].setAttribute('aria-disabled', !msg[key]);\n",
       "    }\n",
       "};\n",
       "\n",
       "mpl.figure.prototype.handle_navigate_mode = function (fig, msg) {\n",
       "    if (msg['mode'] === 'PAN') {\n",
       "        fig.buttons['Pan'].classList.add('active');\n",
       "        fig.buttons['Zoom'].classList.remove('active');\n",
       "    } else if (msg['mode'] === 'ZOOM') {\n",
       "        fig.buttons['Pan'].classList.remove('active');\n",
       "        fig.buttons['Zoom'].classList.add('active');\n",
       "    } else {\n",
       "        fig.buttons['Pan'].classList.remove('active');\n",
       "        fig.buttons['Zoom'].classList.remove('active');\n",
       "    }\n",
       "};\n",
       "\n",
       "mpl.figure.prototype.updated_canvas_event = function () {\n",
       "    // Called whenever the canvas gets updated.\n",
       "    this.send_message('ack', {});\n",
       "};\n",
       "\n",
       "// A function to construct a web socket function for onmessage handling.\n",
       "// Called in the figure constructor.\n",
       "mpl.figure.prototype._make_on_message_function = function (fig) {\n",
       "    return function socket_on_message(evt) {\n",
       "        if (evt.data instanceof Blob) {\n",
       "            var img = evt.data;\n",
       "            if (img.type !== 'image/png') {\n",
       "                /* FIXME: We get \"Resource interpreted as Image but\n",
       "                 * transferred with MIME type text/plain:\" errors on\n",
       "                 * Chrome.  But how to set the MIME type?  It doesn't seem\n",
       "                 * to be part of the websocket stream */\n",
       "                img.type = 'image/png';\n",
       "            }\n",
       "\n",
       "            /* Free the memory for the previous frames */\n",
       "            if (fig.imageObj.src) {\n",
       "                (window.URL || window.webkitURL).revokeObjectURL(\n",
       "                    fig.imageObj.src\n",
       "                );\n",
       "            }\n",
       "\n",
       "            fig.imageObj.src = (window.URL || window.webkitURL).createObjectURL(\n",
       "                img\n",
       "            );\n",
       "            fig.updated_canvas_event();\n",
       "            fig.waiting = false;\n",
       "            return;\n",
       "        } else if (\n",
       "            typeof evt.data === 'string' &&\n",
       "            evt.data.slice(0, 21) === 'data:image/png;base64'\n",
       "        ) {\n",
       "            fig.imageObj.src = evt.data;\n",
       "            fig.updated_canvas_event();\n",
       "            fig.waiting = false;\n",
       "            return;\n",
       "        }\n",
       "\n",
       "        var msg = JSON.parse(evt.data);\n",
       "        var msg_type = msg['type'];\n",
       "\n",
       "        // Call the  \"handle_{type}\" callback, which takes\n",
       "        // the figure and JSON message as its only arguments.\n",
       "        try {\n",
       "            var callback = fig['handle_' + msg_type];\n",
       "        } catch (e) {\n",
       "            console.log(\n",
       "                \"No handler for the '\" + msg_type + \"' message type: \",\n",
       "                msg\n",
       "            );\n",
       "            return;\n",
       "        }\n",
       "\n",
       "        if (callback) {\n",
       "            try {\n",
       "                // console.log(\"Handling '\" + msg_type + \"' message: \", msg);\n",
       "                callback(fig, msg);\n",
       "            } catch (e) {\n",
       "                console.log(\n",
       "                    \"Exception inside the 'handler_\" + msg_type + \"' callback:\",\n",
       "                    e,\n",
       "                    e.stack,\n",
       "                    msg\n",
       "                );\n",
       "            }\n",
       "        }\n",
       "    };\n",
       "};\n",
       "\n",
       "\n",
       "/*\n",
       " * return a copy of an object with only non-object keys\n",
       " * we need this to avoid circular references\n",
       " * https://stackoverflow.com/a/24161582/3208463\n",
       " */\n",
       "function simpleKeys(original) {\n",
       "    return Object.keys(original).reduce(function (obj, key) {\n",
       "        if (typeof original[key] !== 'object') {\n",
       "            obj[key] = original[key];\n",
       "        }\n",
       "        return obj;\n",
       "    }, {});\n",
       "}\n",
       "\n",
       "mpl.figure.prototype.mouse_event = function (event, name) {\n",
       "    if (name === 'button_press') {\n",
       "        this.canvas.focus();\n",
       "        this.canvas_div.focus();\n",
       "    }\n",
       "\n",
       "    // from https://stackoverflow.com/q/1114465\n",
       "    var boundingRect = this.canvas.getBoundingClientRect();\n",
       "    var x = (event.clientX - boundingRect.left) * this.ratio;\n",
       "    var y = (event.clientY - boundingRect.top) * this.ratio;\n",
       "\n",
       "    this.send_message(name, {\n",
       "        x: x,\n",
       "        y: y,\n",
       "        button: event.button,\n",
       "        step: event.step,\n",
       "        guiEvent: simpleKeys(event),\n",
       "    });\n",
       "\n",
       "    return false;\n",
       "};\n",
       "\n",
       "mpl.figure.prototype._key_event_extra = function (_event, _name) {\n",
       "    // Handle any extra behaviour associated with a key event\n",
       "};\n",
       "\n",
       "mpl.figure.prototype.key_event = function (event, name) {\n",
       "    // Prevent repeat events\n",
       "    if (name === 'key_press') {\n",
       "        if (event.key === this._key) {\n",
       "            return;\n",
       "        } else {\n",
       "            this._key = event.key;\n",
       "        }\n",
       "    }\n",
       "    if (name === 'key_release') {\n",
       "        this._key = null;\n",
       "    }\n",
       "\n",
       "    var value = '';\n",
       "    if (event.ctrlKey && event.key !== 'Control') {\n",
       "        value += 'ctrl+';\n",
       "    }\n",
       "    else if (event.altKey && event.key !== 'Alt') {\n",
       "        value += 'alt+';\n",
       "    }\n",
       "    else if (event.shiftKey && event.key !== 'Shift') {\n",
       "        value += 'shift+';\n",
       "    }\n",
       "\n",
       "    value += 'k' + event.key;\n",
       "\n",
       "    this._key_event_extra(event, name);\n",
       "\n",
       "    this.send_message(name, { key: value, guiEvent: simpleKeys(event) });\n",
       "    return false;\n",
       "};\n",
       "\n",
       "mpl.figure.prototype.toolbar_button_onclick = function (name) {\n",
       "    if (name === 'download') {\n",
       "        this.handle_save(this, null);\n",
       "    } else {\n",
       "        this.send_message('toolbar_button', { name: name });\n",
       "    }\n",
       "};\n",
       "\n",
       "mpl.figure.prototype.toolbar_button_onmouseover = function (tooltip) {\n",
       "    this.message.textContent = tooltip;\n",
       "};\n",
       "\n",
       "///////////////// REMAINING CONTENT GENERATED BY embed_js.py /////////////////\n",
       "// prettier-ignore\n",
       "var _JSXTOOLS_RESIZE_OBSERVER=function(A){var t,i=new WeakMap,n=new WeakMap,a=new WeakMap,r=new WeakMap,o=new Set;function s(e){if(!(this instanceof s))throw new TypeError(\"Constructor requires 'new' operator\");i.set(this,e)}function h(){throw new TypeError(\"Function is not a constructor\")}function c(e,t,i,n){e=0 in arguments?Number(arguments[0]):0,t=1 in arguments?Number(arguments[1]):0,i=2 in arguments?Number(arguments[2]):0,n=3 in arguments?Number(arguments[3]):0,this.right=(this.x=this.left=e)+(this.width=i),this.bottom=(this.y=this.top=t)+(this.height=n),Object.freeze(this)}function d(){t=requestAnimationFrame(d);var s=new WeakMap,p=new Set;o.forEach((function(t){r.get(t).forEach((function(i){var r=t instanceof window.SVGElement,o=a.get(t),d=r?0:parseFloat(o.paddingTop),f=r?0:parseFloat(o.paddingRight),l=r?0:parseFloat(o.paddingBottom),u=r?0:parseFloat(o.paddingLeft),g=r?0:parseFloat(o.borderTopWidth),m=r?0:parseFloat(o.borderRightWidth),w=r?0:parseFloat(o.borderBottomWidth),b=u+f,F=d+l,v=(r?0:parseFloat(o.borderLeftWidth))+m,W=g+w,y=r?0:t.offsetHeight-W-t.clientHeight,E=r?0:t.offsetWidth-v-t.clientWidth,R=b+v,z=F+W,M=r?t.width:parseFloat(o.width)-R-E,O=r?t.height:parseFloat(o.height)-z-y;if(n.has(t)){var k=n.get(t);if(k[0]===M&&k[1]===O)return}n.set(t,[M,O]);var S=Object.create(h.prototype);S.target=t,S.contentRect=new c(u,d,M,O),s.has(i)||(s.set(i,[]),p.add(i)),s.get(i).push(S)}))})),p.forEach((function(e){i.get(e).call(e,s.get(e),e)}))}return s.prototype.observe=function(i){if(i instanceof window.Element){r.has(i)||(r.set(i,new Set),o.add(i),a.set(i,window.getComputedStyle(i)));var n=r.get(i);n.has(this)||n.add(this),cancelAnimationFrame(t),t=requestAnimationFrame(d)}},s.prototype.unobserve=function(i){if(i instanceof window.Element&&r.has(i)){var n=r.get(i);n.has(this)&&(n.delete(this),n.size||(r.delete(i),o.delete(i))),n.size||r.delete(i),o.size||cancelAnimationFrame(t)}},A.DOMRectReadOnly=c,A.ResizeObserver=s,A.ResizeObserverEntry=h,A}; // eslint-disable-line\n",
       "mpl.toolbar_items = [[\"Home\", \"Reset original view\", \"fa fa-home\", \"home\"], [\"Back\", \"Back to previous view\", \"fa fa-arrow-left\", \"back\"], [\"Forward\", \"Forward to next view\", \"fa fa-arrow-right\", \"forward\"], [\"\", \"\", \"\", \"\"], [\"Pan\", \"Left button pans, Right button zooms\\nx/y fixes axis, CTRL fixes aspect\", \"fa fa-arrows\", \"pan\"], [\"Zoom\", \"Zoom to rectangle\\nx/y fixes axis\", \"fa fa-square-o\", \"zoom\"], [\"\", \"\", \"\", \"\"], [\"Download\", \"Download plot\", \"fa fa-floppy-o\", \"download\"]];\n",
       "\n",
       "mpl.extensions = [\"eps\", \"jpeg\", \"pgf\", \"pdf\", \"png\", \"ps\", \"raw\", \"svg\", \"tif\", \"webp\"];\n",
       "\n",
       "mpl.default_extension = \"png\";/* global mpl */\n",
       "\n",
       "var comm_websocket_adapter = function (comm) {\n",
       "    // Create a \"websocket\"-like object which calls the given IPython comm\n",
       "    // object with the appropriate methods. Currently this is a non binary\n",
       "    // socket, so there is still some room for performance tuning.\n",
       "    var ws = {};\n",
       "\n",
       "    ws.binaryType = comm.kernel.ws.binaryType;\n",
       "    ws.readyState = comm.kernel.ws.readyState;\n",
       "    function updateReadyState(_event) {\n",
       "        if (comm.kernel.ws) {\n",
       "            ws.readyState = comm.kernel.ws.readyState;\n",
       "        } else {\n",
       "            ws.readyState = 3; // Closed state.\n",
       "        }\n",
       "    }\n",
       "    comm.kernel.ws.addEventListener('open', updateReadyState);\n",
       "    comm.kernel.ws.addEventListener('close', updateReadyState);\n",
       "    comm.kernel.ws.addEventListener('error', updateReadyState);\n",
       "\n",
       "    ws.close = function () {\n",
       "        comm.close();\n",
       "    };\n",
       "    ws.send = function (m) {\n",
       "        //console.log('sending', m);\n",
       "        comm.send(m);\n",
       "    };\n",
       "    // Register the callback with on_msg.\n",
       "    comm.on_msg(function (msg) {\n",
       "        //console.log('receiving', msg['content']['data'], msg);\n",
       "        var data = msg['content']['data'];\n",
       "        if (data['blob'] !== undefined) {\n",
       "            data = {\n",
       "                data: new Blob(msg['buffers'], { type: data['blob'] }),\n",
       "            };\n",
       "        }\n",
       "        // Pass the mpl event to the overridden (by mpl) onmessage function.\n",
       "        ws.onmessage(data);\n",
       "    });\n",
       "    return ws;\n",
       "};\n",
       "\n",
       "mpl.mpl_figure_comm = function (comm, msg) {\n",
       "    // This is the function which gets called when the mpl process\n",
       "    // starts-up an IPython Comm through the \"matplotlib\" channel.\n",
       "\n",
       "    var id = msg.content.data.id;\n",
       "    // Get hold of the div created by the display call when the Comm\n",
       "    // socket was opened in Python.\n",
       "    var element = document.getElementById(id);\n",
       "    var ws_proxy = comm_websocket_adapter(comm);\n",
       "\n",
       "    function ondownload(figure, _format) {\n",
       "        window.open(figure.canvas.toDataURL());\n",
       "    }\n",
       "\n",
       "    var fig = new mpl.figure(id, ws_proxy, ondownload, element);\n",
       "\n",
       "    // Call onopen now - mpl needs it, as it is assuming we've passed it a real\n",
       "    // web socket which is closed, not our websocket->open comm proxy.\n",
       "    ws_proxy.onopen();\n",
       "\n",
       "    fig.parent_element = element;\n",
       "    fig.cell_info = mpl.find_output_cell(\"<div id='\" + id + \"'></div>\");\n",
       "    if (!fig.cell_info) {\n",
       "        console.error('Failed to find cell for figure', id, fig);\n",
       "        return;\n",
       "    }\n",
       "    fig.cell_info[0].output_area.element.on(\n",
       "        'cleared',\n",
       "        { fig: fig },\n",
       "        fig._remove_fig_handler\n",
       "    );\n",
       "};\n",
       "\n",
       "mpl.figure.prototype.handle_close = function (fig, msg) {\n",
       "    var width = fig.canvas.width / fig.ratio;\n",
       "    fig.cell_info[0].output_area.element.off(\n",
       "        'cleared',\n",
       "        fig._remove_fig_handler\n",
       "    );\n",
       "    fig.resizeObserverInstance.unobserve(fig.canvas_div);\n",
       "\n",
       "    // Update the output cell to use the data from the current canvas.\n",
       "    fig.push_to_output();\n",
       "    var dataURL = fig.canvas.toDataURL();\n",
       "    // Re-enable the keyboard manager in IPython - without this line, in FF,\n",
       "    // the notebook keyboard shortcuts fail.\n",
       "    IPython.keyboard_manager.enable();\n",
       "    fig.parent_element.innerHTML =\n",
       "        '<img src=\"' + dataURL + '\" width=\"' + width + '\">';\n",
       "    fig.close_ws(fig, msg);\n",
       "};\n",
       "\n",
       "mpl.figure.prototype.close_ws = function (fig, msg) {\n",
       "    fig.send_message('closing', msg);\n",
       "    // fig.ws.close()\n",
       "};\n",
       "\n",
       "mpl.figure.prototype.push_to_output = function (_remove_interactive) {\n",
       "    // Turn the data on the canvas into data in the output cell.\n",
       "    var width = this.canvas.width / this.ratio;\n",
       "    var dataURL = this.canvas.toDataURL();\n",
       "    this.cell_info[1]['text/html'] =\n",
       "        '<img src=\"' + dataURL + '\" width=\"' + width + '\">';\n",
       "};\n",
       "\n",
       "mpl.figure.prototype.updated_canvas_event = function () {\n",
       "    // Tell IPython that the notebook contents must change.\n",
       "    IPython.notebook.set_dirty(true);\n",
       "    this.send_message('ack', {});\n",
       "    var fig = this;\n",
       "    // Wait a second, then push the new image to the DOM so\n",
       "    // that it is saved nicely (might be nice to debounce this).\n",
       "    setTimeout(function () {\n",
       "        fig.push_to_output();\n",
       "    }, 1000);\n",
       "};\n",
       "\n",
       "mpl.figure.prototype._init_toolbar = function () {\n",
       "    var fig = this;\n",
       "\n",
       "    var toolbar = document.createElement('div');\n",
       "    toolbar.classList = 'btn-toolbar';\n",
       "    this.root.appendChild(toolbar);\n",
       "\n",
       "    function on_click_closure(name) {\n",
       "        return function (_event) {\n",
       "            return fig.toolbar_button_onclick(name);\n",
       "        };\n",
       "    }\n",
       "\n",
       "    function on_mouseover_closure(tooltip) {\n",
       "        return function (event) {\n",
       "            if (!event.currentTarget.disabled) {\n",
       "                return fig.toolbar_button_onmouseover(tooltip);\n",
       "            }\n",
       "        };\n",
       "    }\n",
       "\n",
       "    fig.buttons = {};\n",
       "    var buttonGroup = document.createElement('div');\n",
       "    buttonGroup.classList = 'btn-group';\n",
       "    var button;\n",
       "    for (var toolbar_ind in mpl.toolbar_items) {\n",
       "        var name = mpl.toolbar_items[toolbar_ind][0];\n",
       "        var tooltip = mpl.toolbar_items[toolbar_ind][1];\n",
       "        var image = mpl.toolbar_items[toolbar_ind][2];\n",
       "        var method_name = mpl.toolbar_items[toolbar_ind][3];\n",
       "\n",
       "        if (!name) {\n",
       "            /* Instead of a spacer, we start a new button group. */\n",
       "            if (buttonGroup.hasChildNodes()) {\n",
       "                toolbar.appendChild(buttonGroup);\n",
       "            }\n",
       "            buttonGroup = document.createElement('div');\n",
       "            buttonGroup.classList = 'btn-group';\n",
       "            continue;\n",
       "        }\n",
       "\n",
       "        button = fig.buttons[name] = document.createElement('button');\n",
       "        button.classList = 'btn btn-default';\n",
       "        button.href = '#';\n",
       "        button.title = name;\n",
       "        button.innerHTML = '<i class=\"fa ' + image + ' fa-lg\"></i>';\n",
       "        button.addEventListener('click', on_click_closure(method_name));\n",
       "        button.addEventListener('mouseover', on_mouseover_closure(tooltip));\n",
       "        buttonGroup.appendChild(button);\n",
       "    }\n",
       "\n",
       "    if (buttonGroup.hasChildNodes()) {\n",
       "        toolbar.appendChild(buttonGroup);\n",
       "    }\n",
       "\n",
       "    // Add the status bar.\n",
       "    var status_bar = document.createElement('span');\n",
       "    status_bar.classList = 'mpl-message pull-right';\n",
       "    toolbar.appendChild(status_bar);\n",
       "    this.message = status_bar;\n",
       "\n",
       "    // Add the close button to the window.\n",
       "    var buttongrp = document.createElement('div');\n",
       "    buttongrp.classList = 'btn-group inline pull-right';\n",
       "    button = document.createElement('button');\n",
       "    button.classList = 'btn btn-mini btn-primary';\n",
       "    button.href = '#';\n",
       "    button.title = 'Stop Interaction';\n",
       "    button.innerHTML = '<i class=\"fa fa-power-off icon-remove icon-large\"></i>';\n",
       "    button.addEventListener('click', function (_evt) {\n",
       "        fig.handle_close(fig, {});\n",
       "    });\n",
       "    button.addEventListener(\n",
       "        'mouseover',\n",
       "        on_mouseover_closure('Stop Interaction')\n",
       "    );\n",
       "    buttongrp.appendChild(button);\n",
       "    var titlebar = this.root.querySelector('.ui-dialog-titlebar');\n",
       "    titlebar.insertBefore(buttongrp, titlebar.firstChild);\n",
       "};\n",
       "\n",
       "mpl.figure.prototype._remove_fig_handler = function (event) {\n",
       "    var fig = event.data.fig;\n",
       "    if (event.target !== this) {\n",
       "        // Ignore bubbled events from children.\n",
       "        return;\n",
       "    }\n",
       "    fig.close_ws(fig, {});\n",
       "};\n",
       "\n",
       "mpl.figure.prototype._root_extra_style = function (el) {\n",
       "    el.style.boxSizing = 'content-box'; // override notebook setting of border-box.\n",
       "};\n",
       "\n",
       "mpl.figure.prototype._canvas_extra_style = function (el) {\n",
       "    // this is important to make the div 'focusable\n",
       "    el.setAttribute('tabindex', 0);\n",
       "    // reach out to IPython and tell the keyboard manager to turn it's self\n",
       "    // off when our div gets focus\n",
       "\n",
       "    // location in version 3\n",
       "    if (IPython.notebook.keyboard_manager) {\n",
       "        IPython.notebook.keyboard_manager.register_events(el);\n",
       "    } else {\n",
       "        // location in version 2\n",
       "        IPython.keyboard_manager.register_events(el);\n",
       "    }\n",
       "};\n",
       "\n",
       "mpl.figure.prototype._key_event_extra = function (event, _name) {\n",
       "    // Check for shift+enter\n",
       "    if (event.shiftKey && event.which === 13) {\n",
       "        this.canvas_div.blur();\n",
       "        // select the cell after this one\n",
       "        var index = IPython.notebook.find_cell_index(this.cell_info[0]);\n",
       "        IPython.notebook.select(index + 1);\n",
       "    }\n",
       "};\n",
       "\n",
       "mpl.figure.prototype.handle_save = function (fig, _msg) {\n",
       "    fig.ondownload(fig, null);\n",
       "};\n",
       "\n",
       "mpl.find_output_cell = function (html_output) {\n",
       "    // Return the cell and output element which can be found *uniquely* in the notebook.\n",
       "    // Note - this is a bit hacky, but it is done because the \"notebook_saving.Notebook\"\n",
       "    // IPython event is triggered only after the cells have been serialised, which for\n",
       "    // our purposes (turning an active figure into a static one), is too late.\n",
       "    var cells = IPython.notebook.get_cells();\n",
       "    var ncells = cells.length;\n",
       "    for (var i = 0; i < ncells; i++) {\n",
       "        var cell = cells[i];\n",
       "        if (cell.cell_type === 'code') {\n",
       "            for (var j = 0; j < cell.output_area.outputs.length; j++) {\n",
       "                var data = cell.output_area.outputs[j];\n",
       "                if (data.data) {\n",
       "                    // IPython >= 3 moved mimebundle to data attribute of output\n",
       "                    data = data.data;\n",
       "                }\n",
       "                if (data['text/html'] === html_output) {\n",
       "                    return [cell, data, j];\n",
       "                }\n",
       "            }\n",
       "        }\n",
       "    }\n",
       "};\n",
       "\n",
       "// Register the function which deals with the matplotlib target/channel.\n",
       "// The kernel may be null if the page has been refreshed.\n",
       "if (IPython.notebook.kernel !== null) {\n",
       "    IPython.notebook.kernel.comm_manager.register_target(\n",
       "        'matplotlib',\n",
       "        mpl.mpl_figure_comm\n",
       "    );\n",
       "}\n"
      ],
      "text/plain": [
       "<IPython.core.display.Javascript object>"
      ]
     },
     "metadata": {},
     "output_type": "display_data"
    },
    {
     "data": {
      "text/html": [
       "<img src=\"data:image/png;base64,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\" width=\"1200\">"
      ],
      "text/plain": [
       "<IPython.core.display.HTML object>"
      ]
     },
     "metadata": {},
     "output_type": "display_data"
    },
    {
     "name": "stdout",
     "output_type": "stream",
     "text": [
      "[46.09610615] [1.80913084]\n"
     ]
    }
   ],
   "source": [
    "## Implementation of Gradient Descent for Logistic Regression\n",
    "\n",
    "import time\n",
    "%matplotlib notebook\n",
    "\n",
    "\n",
    "def get_diff(X, theta, y):\n",
    "    return X@theta - y[..., np.newaxis]\n",
    "\n",
    "\n",
    "def get_loss(diff): \n",
    "    return 0.5*np.dot(diff.T, diff)\n",
    "\n",
    "\n",
    "def plot_line(plot3, theta):\n",
    "    x_interp = np.linspace(Xmin, Xmax, 100)\n",
    "    x_interp = x_interp.reshape(-1, 1)\n",
    "    x_interp = np.c_[x_interp, np.ones_like(x_interp)]\n",
    "    y_interp = np.dot(x_interp, theta)\n",
    "    if plot3:\n",
    "        plot3.set_xdata(x_interp[:, 0])\n",
    "        plot3.set_ydata(y_interp)\n",
    "    else:\n",
    "        return x_interp, y_interp\n",
    "\n",
    "Xmin, Xmax = X.min(), X.max()\n",
    "plt.ion()\n",
    "figure, (axes_1, axes_2) = plt.subplots(2, 2, figsize=(12, 12))\n",
    "plt.rcParams['axes.grid'] = False\n",
    "ax0, ax1 = axes_1\n",
    "ax2, ax3 = axes_2\n",
    "ax0.contourf(xxt, yyt, losses, levels=50, cmap='jet')\n",
    "ax0.scatter(coef_gt, 0, color='red', marker='o', s=50)\n",
    "ax0.set_xlabel('$theta_1$',fontsize=18)\n",
    "ax0.set_ylabel('$theta_2$',fontsize=18)\n",
    "ax1.set_ylabel('$loss$',fontsize=18)\n",
    "ax1.set_xlabel('$iter$',fontsize=18)\n",
    "ax1.set(xlim=(0, 100), ylim=(0, 1.28e6))\n",
    "ax2.scatter(X[..., 0], y, c='red', marker='o')\n",
    "ax2.set_xlabel('$x$',fontsize=18)\n",
    "ax2.set_ylabel('$y$',fontsize=18)\n",
    "ax3.set_ylabel('$Grad. Norm.$',fontsize=18)\n",
    "ax3.set_xlabel('$iter$',fontsize=18)\n",
    "ax3.set(xlim=(0, 100), ylim=(0, 20000))\n",
    "\n",
    "theta_curr = np.array([[-100, -100]]).T\n",
    "losses_track = [get_loss(get_diff(X, theta_curr, y))]\n",
    "grad_norm_track = [1000]\n",
    "\n",
    "theta_track = np.array(theta_curr)\n",
    "lr = 1e-3\n",
    "loss_tol = 10\n",
    "\n",
    "plot1, = ax0.plot(*theta_curr, color='violet',\n",
    "                  marker='.', markersize=5, linestyle='-')\n",
    "plot2, = ax1.plot(*losses_track, color='blue',\n",
    "                  marker='.', markersize=10, linestyle='--')\n",
    "xi, yi = plot_line(None, theta_curr)\n",
    "plot3a,plot3b = ax2.plot(xi, yi, color='blue', marker='.',\n",
    "                  markersize=3, linestyle='--')\n",
    "plot4, = ax3.plot(1000, color='blue',\n",
    "                  marker='.', markersize=10, linestyle='--')\n",
    "while True:\n",
    "    diff = get_diff(X, theta_curr, y)\n",
    "    grad = (diff * X).sum(axis=0, keepdims=True).T\n",
    "    theta_curr = theta_curr - lr*grad\n",
    "    theta_track = np.append(theta_track, theta_curr, axis=1)\n",
    "    diff = get_diff(X, theta_curr, y)\n",
    "    losses_track.append(get_loss(diff))\n",
    "    grad_norm_track.append(np.linalg.norm(grad,2))\n",
    "    if abs(losses_track[-2]-losses_track[-1]) < loss_tol:\n",
    "        break\n",
    "    plot1.set_xdata(theta_track[0, :])\n",
    "    plot1.set_ydata(theta_track[1, :])\n",
    "    plot2.set_xdata(range(len(losses_track)))\n",
    "    plot2.set_ydata(losses_track)\n",
    "    plot4.set_xdata(range(len(grad_norm_track[1:])))\n",
    "    plot4.set_ydata(grad_norm_track[1:])\n",
    "    plot_line(plot3a, theta_curr)\n",
    "    plot_line(plot3b, theta_curr)\n",
    "    figure.canvas.draw()\n",
    "    figure.canvas.flush_events()\n",
    "    time.sleep(0.1)\n",
    "print(*theta_curr)\n",
    "plt.show()"
   ]
  },
  {
   "cell_type": "markdown",
   "metadata": {
    "slideshow": {
     "slide_type": "slide"
    }
   },
   "source": [
    "# Let's go back to word2vec"
   ]
  },
  {
   "cell_type": "markdown",
   "metadata": {
    "slideshow": {
     "slide_type": "subslide"
    }
   },
   "source": [
    "# Introduction to word2vec\n",
    "\n",
    "- We have a very **large corpus** on which we apply **self-supervision**\n",
    "   - The corpus defines the vocabulary $V$.\n",
    "- Every word in $V$ is represented as a vector in a $D$ dimensional    vector space \n",
    "   - e.g. D = 100.\n",
    "- The parametric model $\\bmf{\\theta}$ that we learn **depends on all vectors for all the words**"
   ]
  },
  {
   "cell_type": "markdown",
   "metadata": {
    "cell_style": "split",
    "slideshow": {
     "slide_type": "subslide"
    }
   },
   "source": [
    "# word2vec is a generic framework \n",
    "\n",
    "`word2vec` presents two algorithms:\n",
    " 1. **Skip-Gram** _(we see it today!)_\n",
    " 2. Continuous Bag-of-Word (CBOW)\n",
    " "
   ]
  },
  {
   "cell_type": "markdown",
   "metadata": {
    "cell_style": "split",
    "slideshow": {
     "slide_type": "fragment"
    }
   },
   "source": [
    "<br>\n",
    "\n",
    "Also it offers different training methods:\n",
    " - **with softmax**  _(we see it today!)_\n",
    " - negative sampling from [Mikolov et al. 2013]\n",
    " - hierarchical softmax"
   ]
  },
  {
   "cell_type": "markdown",
   "metadata": {
    "slideshow": {
     "slide_type": "subslide"
    }
   },
   "source": [
    "# word2vec: Skip-Gram with softmax\n",
    "\n",
    "Parameters to learn: $$\\bmf{\\theta} = [\\bmf{\\theta}_W;\\bmf{\\theta}_C]$$\n",
    "\n",
    "<div align='center'><img src=\"figs/word2vec_params.png\" width='65%' ></div>"
   ]
  },
  {
   "cell_type": "markdown",
   "metadata": {
    "slideshow": {
     "slide_type": "subslide"
    }
   },
   "source": [
    "# word2vec: Skip-Gram with softmax\n",
    "\n",
    "Parameters to learn:   $\\bmf{\\theta} = [\\bmf{\\theta}_W;\\bmf{\\theta}_C]$\n",
    "\n",
    "- $\\bmf{\\theta}_W$ is a matrix $|V|\\times D$ where we store a vector in D dimensions for each word of the vocabulary $V$. We store vectors when the word $w$ works as a **$\\underline{center}$**.\n",
    "- $\\bmf{\\theta}_C$ is a matrix $|V|\\times D$ where we store a vector in D dimensions for each word of the vocabulary $V$. We store vectors when the word $w$ works as the **$\\underline{context}$**.\n",
    "\n",
    "Thus the number of parameters to learn $\\bmf{\\theta}$ is $\\quad 2\\cdot|V|\\cdot D$\n"
   ]
  },
  {
   "cell_type": "markdown",
   "metadata": {
    "slideshow": {
     "slide_type": "subslide"
    }
   },
   "source": [
    "# Sample question you may find in the exam\n",
    "\n",
    "Given a **word2vec** model with **skip-gram** that learns word embedding $\\bmf{\\theta}_i\\Rd{10}$ with a vocabulary of $100$ words, how many parameters word2vec needs to be learned? What is the dimension of the matrix learned?"
   ]
  },
  {
   "cell_type": "markdown",
   "metadata": {
    "slideshow": {
     "slide_type": "fragment"
    }
   },
   "source": [
    "## Answer"
   ]
  },
  {
   "cell_type": "markdown",
   "metadata": {
    "slideshow": {
     "slide_type": "fragment"
    }
   },
   "source": [
    "word2vec learns two vectors for each word in the vocabulary. One vector in case the word is considered as target; one vector in case the word functions as context. Given that the vectors are in 10-D space, the number of params is $2\\cdot10\\cdot100 = 2000$.\n",
    "The matrix $\\bmf{\\theta}$ shape is $2\\cdot100 \\times 10$, where each row indicates a word in the vocabulary."
   ]
  },
  {
   "cell_type": "markdown",
   "metadata": {
    "slideshow": {
     "slide_type": "subslide"
    }
   },
   "source": [
    "# word2vec: Skip-Gram Self-Supervision\n",
    "\n",
    "We start from a large corpus of text:\n",
    "\n",
    "`... lemon, a tablespoon of apricot jam, a pinch ...`\n",
    "\n",
    "and a window that defines the context (let's assume window size is $m=2$ and centered at the index $t$)."
   ]
  },
  {
   "cell_type": "markdown",
   "metadata": {
    "slideshow": {
     "slide_type": "subslide"
    }
   },
   "source": [
    "# word2vec: Skip-Gram Self-Supervision\n",
    "\n",
    "Given a window size of $m=2$ words as **context**, we select:\n",
    "- the center word $w_t$, apricot in this case.\n",
    "- 2 words as context on the left of $w_t$ $\\longrightarrow$ ($w_{t-2}$, $w_{t-1}$)\n",
    "- 2 word as context on the right of $w_t$ $\\longrightarrow$ ($w_{t+1}$, $w_{t+2}$)\n",
    "\n",
    "|   | ~~lemon~~, | ~~a~~ | [tablespoon | of | apricot | jam | a] | ~~pinch~~ |\n",
    "|:-:|:------:|:-:|:-----------:|:--:|:-------:|:---:|:--:|:-----:|\n",
    "|   |        |   |      w_{t-2}     | w_{t-1} |    **$w_t$**    |  w_{t+1} | w_{t+2} |       |\n",
    "\n"
   ]
  },
  {
   "cell_type": "markdown",
   "metadata": {
    "slideshow": {
     "slide_type": "subslide"
    }
   },
   "source": [
    "# word2vec: Skip-Gram Self-Supervision\n",
    "\n",
    "|   | ~~lemon~~, | ~~a~~ | [tablespoon | of | apricot | jam | a] | ~~pinch~~ |\n",
    "|:-:|:------:|:-:|:-----------:|:--:|:-------:|:---:|:--:|:-----:|\n",
    "|   |        |   |      w_{t-2}     | w_{t-1} |    **$w_t$**    |  w_{t+1} | w_{t+2} |       |\n",
    "\n",
    "Let's assume the vocabulary is made of $|V|$ words:\n",
    "\n",
    "| word1   \t| word2 \t| word3             \t| ...\t | wordN\t|\n",
    "|----------\t|--------\t|--------------------\t|--------\t|--------\t|\n",
    "| lemon | tablespoon | gelato  | ... | jam |\n",
    "\n",
    "Note: $|V|$ is possibly in the order of millions."
   ]
  },
  {
   "cell_type": "markdown",
   "metadata": {
    "slideshow": {
     "slide_type": "subslide"
    }
   },
   "source": [
    "# word2vec: Skip-Gram Self-Supervision\n",
    "<br/>\n",
    "$$ p(w_{t-2},w_{t-1},w_{t+1},w_{t+2}|w_t=\\text{apricot};\\bmf{\\theta})$$\n",
    "<br/><br/>\n",
    "\n",
    "|   | ~~lemon~~, | ~~a~~ | [tablespoon | of | apricot | jam | a] | ~~pinch~~ |\n",
    "|:-:|:------:|:-:|:-----------:|:--:|:-------:|:---:|:--:|:-----:|\n",
    "|   |        |   |      w_{t-2}     | w_{t-1} |    **$w_t$**    |  w_{t+1} | w_{t+2} |       |\n"
   ]
  },
  {
   "cell_type": "markdown",
   "metadata": {
    "slideshow": {
     "slide_type": "subslide"
    }
   },
   "source": [
    "# word2vec: Skip-Gram Self-Supervision\n",
    "\n",
    "⚠️ With **strong naive conditional independence assumption** \n",
    "<br/>\n",
    "\n",
    "$$ p(w_{t-2},w_{t-1},w_{t+1},w_{t+2}|w_t;\\bmf{\\theta}) \\approx \\prod_{-m\\leq j\\leq m} p(c_{t+j}|w_t;\\bmf{\\theta})$$\n",
    "\n",
    "<br/>\n",
    "\n",
    "|   | ~~lemon~~, | ~~a~~ | [tablespoon | of | apricot | jam | a] | ~~pinch~~ |\n",
    "|:-:|:------:|:-:|:-----------:|:--:|:-------:|:---:|:--:|:-----:|\n",
    "|   |        |   |      w_{t-2}     | w_{t-1} |    **$w_t$**    |  w_{t+1} | w_{t+2} |       |\n"
   ]
  },
  {
   "cell_type": "markdown",
   "metadata": {
    "slideshow": {
     "slide_type": "subslide"
    }
   },
   "source": [
    "# word2vec: Skip-Gram Self-Supervision\n",
    "\n",
    "Given the example below, we have to compute:\n",
    "<br/>\n",
    "\n",
    "$$p(w_{t-2}|w_t)\\cdot p(w_{t-1}|w_t)\\cdot p(w_{t+1}|w_t)\\cdot p(w_{t+2}|w_t)$$\n",
    "<br/>\n",
    "\n",
    "|   | ~~lemon~~, | ~~a~~ | [tablespoon | of | apricot | jam | a] | ~~pinch~~ |\n",
    "|:-:|:------:|:-:|:-----------:|:--:|:-------:|:---:|:--:|:-----:|\n",
    "|   |        |   |      w_{t-2}     | w_{t-1} |    **$w_t$**    |  w_{t+1} | w_{t+2} |       |\n"
   ]
  },
  {
   "cell_type": "markdown",
   "metadata": {
    "slideshow": {
     "slide_type": "subslide"
    }
   },
   "source": [
    "# word2vec: Skip-Gram Self-Supervision\n",
    "\n",
    "Given the example below, we have to compute:\n",
    "<br/>\n",
    "\n",
    "$$p(w_{t-2}|w_t)\\cdot p(w_{t-1}|w_t)\\cdot p(w_{t+1}|w_t)\\cdot p(w_{t+2}|w_t)$$\n",
    "<br/><br/>\n",
    "<div align='center'><img src=\"figs/word2vec_skipgram.png\" width='65%' ></div>"
   ]
  },
  {
   "cell_type": "markdown",
   "metadata": {
    "slideshow": {
     "slide_type": "subslide"
    }
   },
   "source": [
    "# How to compute $p(w_{t-1}|w_{t})$?\n",
    "$$ p(w_{t-1}|w=\\text{apricot})$$\n",
    "\n",
    "We have to predict $w_{t-1}$ given the center word $w_t$. Note $w_{t-1}$ can takes values based on the words in $V$. \n",
    "\n",
    "Think $w_{t-1}$ as a **categorical variable** where its possible state spans $V$.\n",
    "\n",
    "| word1   \t| word2 \t| word3             \t| ...\t | wordN\t|\n",
    "|----------\t|--------\t|--------------------\t|--------\t|--------\t|\n",
    "| lemone | tablespoon | gelato  | ... | jam |"
   ]
  },
  {
   "cell_type": "markdown",
   "metadata": {
    "slideshow": {
     "slide_type": "subslide"
    }
   },
   "source": [
    "# How to compute $p(w_{t-1}|w_{t})$?\n",
    "1. $i$ is the index of the center word $w$ in $V$ and also $\\bmf{\\theta}_{W}$. **Compare the embedding of $w$ as center word $\\bmf{\\theta}_{W}[i]$ vs embeddings of all context words $\\bmf{\\theta}_{C}$**  with matrix to vector product.\n",
    "$$\\underbrace{\\mbf{z}}_{|V|\\times 1}=\\overbrace{\\underbrace{\\bmf{\\theta}_C}_{|V|\\times D}}^{\\text{as context}}\\cdot\\overbrace{\\underbrace{\\bmf{\\theta}_{W}[i]^T}_{D\\times 1}}^{\\text{as center}} $$\n",
    "\n",
    "2. $\\mbf{z}$ is logits and encodes the similarity via dot product of the center word embedding $\\bmf{\\theta}_{W}[i]$ **against all vocabulary words** taken as context $\\bmf{\\theta}_C$\n",
    "\n",
    "3. We pass $\\mbf{z}$ through softmax operator to get a distribution over $|V|$ as: $$\\mbf{p}=\\operatorname{softmax}(\\mbf{z}) $$\n",
    "\n",
    "You can think $\\mbf{p}$ as of this form:\n",
    "\n",
    "|    \t| lemon   \t| tablespoon \t| gelato             \t| ...\t | jam\t|\n",
    "|----------|----------\t|--------\t|--------------------\t|--------\t|--------\t|\n",
    "|**p** | 0.001 | 0.1 | 0.03  | ... | 0.15 |"
   ]
  },
  {
   "cell_type": "markdown",
   "metadata": {
    "slideshow": {
     "slide_type": "subslide"
    }
   },
   "source": [
    "# How to compute $p(w_{t-1}|w_{t})$?\n",
    " \n",
    "$$\\mbf{p}=\\operatorname{softmax}\\big(\\bmf{\\theta}_C\\cdot\\bmf{\\theta}_{W}[i]^T\\big) $$\n",
    "\n",
    "You can think $\\mbf{p}$ as of this form:\n",
    "\n",
    "|    \t| lemon   \t| tablespoon \t| gelato             \t| ...\t | jam\t|\n",
    "|----------|----------\t|--------\t|--------------------\t|--------\t|--------\t|\n",
    "|**p** | 0.001 | 0.1 | 0.03  | ... | 0.15 |\n",
    "\n",
    "🤔 Note: until now we did not used the self-supervised label! We did not use the **ground-truth index for $w_{t-1}$**. (i.e. the fact that $w_{t-1}$ is actually `tablespoon`!"
   ]
  },
  {
   "cell_type": "markdown",
   "metadata": {
    "slideshow": {
     "slide_type": "fragment"
    }
   },
   "source": [
    "|   | ~~lemon~~, | ~~a~~ | [tablespoon | of | apricot | jam | a] | ~~pinch~~ |\n",
    "|:-:|:------:|:-:|:-----------:|:--:|:-------:|:---:|:--:|:-----:|\n",
    "|   |        |   |      w_{t-2}     | w_{t-1} |    **$w_t$**    |  w_{t+1} | w_{t+2} |       |"
   ]
  },
  {
   "cell_type": "markdown",
   "metadata": {
    "slideshow": {
     "slide_type": "subslide"
    }
   },
   "source": [
    "# Loss function: compare two discrete distributions\n",
    " \n",
    "$$\\mbf{p}=\\operatorname{softmax}\\big(\\bmf{\\theta}_C\\cdot\\bmf{\\theta}_{W}[i]^T\\big) $$\n",
    "\n",
    "You can think $\\mbf{p}$ as of this form:\n",
    "\n",
    "|    \t| lemon   \t| tablespoon \t| gelato             \t| ...\t | jam\t|\n",
    "|----------|----------\t|--------\t|--------------------\t|--------\t|--------\t|\n",
    "|**p (word2vec prediction)**        | 0.001 | 0.1 | 0.03  | ... | 0.15 |\n",
    "\n",
    "\n",
    "Let's consider the label as a one-hot encoding vector where 1 is over the ground-truth word given by the text.\n",
    "\n",
    "|    \t| lemon   \t| tablespoon \t| gelato             \t| ...\t | jam\t|\n",
    "|----------|----------\t|--------\t|--------------------\t|--------\t|--------\t|\n",
    "|**y label (ground-truth $w_{t-1}$)** | 0 | 1 | 0  | ... | 0 |\n",
    "\n",
    "### We want to adjust the weights $\\bmf{\\theta}$ so that $\\mbf{p}$ matches the label!"
   ]
  },
  {
   "cell_type": "markdown",
   "metadata": {
    "slideshow": {
     "slide_type": "subslide"
    }
   },
   "source": [
    "# Loss function: compare two discrete distributions\n",
    "## In this example $V$ has two words\n",
    "\n",
    "Who can tell me how we can compare two _[discrete]_ probability distributions? We use **cross-entropy.**\n",
    "<br><br>\n",
    "<div align='center'><img src=\"figs/distributions.png\" width='65%' ></div>"
   ]
  },
  {
   "cell_type": "markdown",
   "metadata": {
    "slideshow": {
     "slide_type": "subslide"
    }
   },
   "source": [
    "# Loss function: Cross-entropy (CE)\n",
    "\n",
    "- $\\mbf{y}=[0,0,0,1,0]$ is the **one-hot encoding of the labels** $\\rightarrow$ This is self-supervised by the text itself!\n",
    "- $\\mbf{p}(w_{t-1}|w_{t})=[0.1, 0.1, 0.1, 0.35, 0.35]$ is the output from `word2vec`. We want $\\mbf{p}$ to match $\\mbf{y}$.\n",
    "<br><br>\n",
    "$$ \n",
    "\\mathcal{L}(w_{t-1},w_{t};\\mbf{\\theta})=-\\mbf{y}^{\\top} \\log\\big(\\mbf{p}(w_{t-1}|w_{t}) \\big)\n",
    "$$\n",
    "<br><br>\n",
    "$$-0\\cdot\\ln(0.1)-0\\cdot\\ln(0.1)-0\\cdot\\ln(0.1)\\underbrace{-1\\cdot\\ln(0.35)}_{\\text{only this matter}}-0\\cdot\\ln(0.35)=-1\\cdot\\ln(0.35)\\approx1.04$$"
   ]
  },
  {
   "cell_type": "markdown",
   "metadata": {
    "slideshow": {
     "slide_type": "subslide"
    }
   },
   "source": [
    "# One-hot encoding is a selector!\n",
    "\n",
    "\n",
    "- $\\mbf{y}=[0,0,0,1,0]$ $\\rightarrow$ works as a selector of probability of the actual ground-truth word that we removed!\n",
    "- Of the probabilites returned by `word2vec` select that for which the index $gt$ corresponds to the `1` in the label $\\mbf{y}$\n",
    "- in our case, $gt$ is the index of `tablespoon` in $|V|$.\n",
    "\n",
    "$$ \\mathcal{L}(w_{t-1},w_{t};\\mbf{\\theta}) = -\\log \\mbf{p}\\big(w_{t-1}|w_{t}\\big){[gt]}$$"
   ]
  },
  {
   "cell_type": "markdown",
   "metadata": {
    "slideshow": {
     "slide_type": "subslide"
    }
   },
   "source": [
    "# Loss function simplified\n",
    "\n",
    "We can select immediately $[gt]$ in the numerator.\n",
    "\n",
    "$$\n",
    "\\mathcal{L}(w_{t-1},w_{t};\\mbf{\\theta}) = -\\log \\left(\\frac{\\exp \\big( \\bmf{\\theta}_{C}[gt]\\cdot\\bmf{\\theta}_{W}[i]^T \\big)}{\\sum_{v=1}^{V} \\exp \\big(\\bmf{\\theta}_{C}[v]\\cdot\\bmf{\\theta}_{W}[i]^T\\big)}\\right)\n",
    "$$\n",
    "\n",
    "Sometimes is shown as:\n",
    "\n",
    "$$\n",
    "\\mathcal{L}(w_{t-1},w_{t};\\mbf{\\theta}) = \\underbrace{-\\bmf{\\theta}_{C}[gt]\\cdot\\bmf{\\theta}_{W}[i]^T}_{\\text{similarity center vs context}} + \\underbrace{\\log\\Big(\\sum_{v=1}^{V} \\exp \\big(\\bmf{\\theta}_{C}[v]\\cdot\\bmf{\\theta}_{W}[i]^T\\big)\\Big)}_{\\text{make sure it is a probability}}\n",
    "$$"
   ]
  },
  {
   "cell_type": "markdown",
   "metadata": {
    "slideshow": {
     "slide_type": "subslide"
    }
   },
   "source": [
    "# Exercise A: compute the loss for a center word in word2vec\n",
    " \n",
    "$$\\mbf{p}=\\operatorname{softmax}\\big(\\bmf{\\theta}_C\\cdot\\bmf{\\theta}_{W}[i]^T\\big) $$\n",
    "\n",
    "You can think $\\mbf{p}$ as of this form:\n",
    "\n",
    "|    \t| lemon   \t| tablespoon \t| gelato             \t| ...\t | jam\t|\n",
    "|----------|----------\t|--------\t|--------------------\t|--------\t|--------\t|\n",
    "|**p (word2vec prediction)**        | 0.001 | 0.1 | 0.03  | ... | 0.15 |\n",
    "\n",
    "\n",
    "Let's consider the label as a one-hot encoding vector where 1 is over the ground-truth word given by the text.\n",
    "\n",
    "|    \t| lemon   \t| tablespoon \t| gelato             \t| ...\t | jam\t|\n",
    "|----------|----------\t|--------\t|--------------------\t|--------\t|--------\t|\n",
    "|**y label (ground-truth)** | 0 | 1 | 0  | ... | 0 |\n",
    "\n",
    "$$ \\mathcal{L}(w_{t-1},w_{t};\\mbf{\\theta}) = -\\log \\mbf{p}\\big(w_{t-1}|w_{t}\\big){[gt]} = -\\ln(0.1)\\approx 2.30$$"
   ]
  },
  {
   "cell_type": "markdown",
   "metadata": {
    "slideshow": {
     "slide_type": "subslide"
    }
   },
   "source": [
    "# Exercise B: similar but more complex\n",
    "\n",
    "We give 2D matrix of $\\theta_W$ and $\\theta_C$, the position of the center word and context word, compute the loss."
   ]
  },
  {
   "cell_type": "markdown",
   "metadata": {
    "slideshow": {
     "slide_type": "subslide"
    }
   },
   "source": [
    "# Likelihood over a window\n",
    "\n",
    "Likelihood of the data given the parameters. \n",
    "$$L(\\bmf{\\theta})=p\\big(w_{t-2},w_{t-1},w_{t+1},w_{t+2}|w;\\bmf{\\theta}\\big) \\approx \\prod_{-m\\leq j\\leq m, j \\neq 0}p(w_{t+j}|w_{t};\\bmf{\\theta})$$\n",
    "\n",
    "We seek the parameters $\\bmf{\\theta}$ that maximizes the likelihood of the data.\n",
    "\n",
    "$$ \\bmf{\\theta}^{\\star} = \\arg\\max_{\\bmf{\\theta}} L(\\bmf{\\theta})=p\\big(w_{t-2},w_{t-1},w_{t+1},w_{t+2}|w;\\bmf{\\theta}\\big)$$"
   ]
  },
  {
   "cell_type": "markdown",
   "metadata": {
    "slideshow": {
     "slide_type": "subslide"
    }
   },
   "source": [
    "# Loss function over a window\n",
    "\n",
    "$$\\bmf{\\theta}^{\\star} = \\arg\\max_{\\bmf{\\theta}} L(\\bmf{\\theta})= \\prod_{-m\\leq j\\leq m, j \\neq 0}p(w_{t+j}|w_{t};\\bmf{\\theta}) $$\n",
    "\n",
    "Logarithm is a strictly monotonic function so we can flip the sign, apply the $\\log()$ and **minimize the loss instead:**\n",
    "\n",
    "### Minimize the cross-entropy loss $\\leftrightarrow$ maximizing the likelihood of the data given the parameters\n",
    "<br>\n",
    "$$\\bmf{\\theta}^{\\star} = \\arg\\min_{\\bmf{\\theta}} \\mathcal{L}(\\bmf{\\theta})=-\\sum_{-m\\leq j\\leq m, j \\neq 0} \\log\\big(p(w_{t+j}|w_t;\\bmf{\\theta})\\big)$$"
   ]
  },
  {
   "cell_type": "markdown",
   "metadata": {
    "slideshow": {
     "slide_type": "subslide"
    }
   },
   "source": [
    "# Loss over a window, over all possible windows\n",
    "\n",
    "We iterate over all possibile center words with $t \\in \\{1\\ldots T\\}$ maximizing the likelihood:\n",
    "$$\\bmf{\\theta}^{\\star} = \\arg\\max_{\\bmf{\\theta}} L(\\bmf{\\theta})= \\prod_{t=1}^T\\prod_{-m\\leq j\\leq m, j \\neq 0}p(w_{t+j}|w_{t};\\bmf{\\theta}) $$\n",
    "\n",
    "In practice, we minimize the average negative log-likelihood (loss):\n",
    "\n",
    "$$\\bmf{\\theta}^{\\star} = \\arg\\min_{\\bmf{\\theta}} \\mathcal{L}(\\bmf{\\theta})=-\\frac{1}{T}\\sum_{t=1}^T\\sum_{-m\\leq j\\leq m, j \\neq 0} \\log\\big(p(w_{t+j}|w_t;\\bmf{\\theta})\\big)$$\n",
    "\n",
    "\n",
    "### Minimize the cross-entropy loss is $\\leftrightarrow$ maximizing the likelihood of the data given the parameters"
   ]
  },
  {
   "cell_type": "markdown",
   "metadata": {
    "slideshow": {
     "slide_type": "subslide"
    }
   },
   "source": [
    "# We optimize the loss with SGD\n",
    "\n",
    "$$\\bmf{\\theta}^{\\star} = \\arg\\min_{\\bmf{\\theta}} \\mathcal{L}(\\bmf{\\theta})=-\\frac{1}{T}\\sum_{t=1}^T\\sum_{-m\\leq j\\leq m, j \\neq 0} \\log\\big(p(w_{t+j}|w_t;\\bmf{\\theta})\\big)$$\n",
    "\n",
    "To optimize our $\\bmf{\\theta}$ we have to make a small step in the negative direction of the gradient:\n",
    "\n",
    "$$\\bmf{\\theta} \\leftarrow  \\bmf{\\theta} -\\gamma \\bmf{\\nabla}_{\\bmf{\\theta}}\\mathcal{J}(\\mbf{\\theta};w_{t-1},w_t)$$"
   ]
  },
  {
   "cell_type": "markdown",
   "metadata": {
    "slideshow": {
     "slide_type": "-"
    }
   },
   "source": [
    "Pseudo-code of the training:\n",
    "\n",
    "```python\n",
    "gamma = 1e-3\n",
    "while not converged:\n",
    "    loss = word2vec(corpus, theta)\n",
    "    theta_grad = evaluate_gradient(loss, corpus, theta)\n",
    "    theta = theta - gamma*theta_grad\n",
    "```"
   ]
  },
  {
   "cell_type": "markdown",
   "metadata": {
    "slideshow": {
     "slide_type": "slide"
    }
   },
   "source": [
    "## Example: compute the gradient of the loss wrt center word embedding \n",
    "\n",
    "Define $\\mbf{u}_c\\doteq\\bmf{\\theta}_{W}[i]$ and $\\mbf{u}_o \\doteq \\bmf{\\theta}_{C}[gt]$. Compute the gradient of the loss wrt. to the embedding of the center word $\\mbf{u}_c$\n",
    "\n",
    "$$\n",
    "\\nabla_{\\mbf{u}_c} \\mathcal{L}(\\mbf{u}_c,\\mbf{u}_o) =  \\nabla_{\\mbf{u}_c} -\\log \\left(\\frac{\\exp \\big( \\mbf{u}_o\\cdot\\mbf{u}_c^T \\big)}{\\sum_{v=1}^{V} \\exp \\big(\\mbf{u}_v\\cdot\\mbf{u}_c^T\\big)}\\right)\n",
    "$$\n",
    "\n",
    "Continue on the whiteboard"
   ]
  },
  {
   "cell_type": "markdown",
   "metadata": {
    "slideshow": {
     "slide_type": "subslide"
    }
   },
   "source": [
    "# word2vec with Skip-Gram at a glance\n",
    "\n",
    "... and why it can be seen as a tiny neural net.\n",
    "\n",
    "<div align='center'><img src=\"figs/word2vec_layers.png\" width='65%' ></div>"
   ]
  },
  {
   "cell_type": "markdown",
   "metadata": {
    "slideshow": {
     "slide_type": "subslide"
    }
   },
   "source": [
    "# word2vec learned space\n",
    "\n",
    "word2vec minimizes the loss function by putting similar words (words that happen in same context) nearby in space\n",
    "\n",
    "\n",
    "<div align='center'><img src=\"figs/word2vec_space.png\" width='65%' ></div>\n",
    "<small>Taken from Stanford slide<small>"
   ]
  },
  {
   "cell_type": "markdown",
   "metadata": {
    "slideshow": {
     "slide_type": "slide"
    }
   },
   "source": [
    "# Let's play with word2vec"
   ]
  },
  {
   "cell_type": "markdown",
   "metadata": {
    "slideshow": {
     "slide_type": "subslide"
    }
   },
   "source": [
    "# Show available models in Gensim\n",
    "\n",
    "You need Gensim."
   ]
  },
  {
   "cell_type": "code",
   "execution_count": 25,
   "metadata": {
    "slideshow": {
     "slide_type": "-"
    }
   },
   "outputs": [
    {
     "data": {
      "text/plain": [
       "['fasttext-wiki-news-subwords-300',\n",
       " 'conceptnet-numberbatch-17-06-300',\n",
       " 'word2vec-ruscorpora-300',\n",
       " 'word2vec-google-news-300',\n",
       " 'glove-wiki-gigaword-50',\n",
       " 'glove-wiki-gigaword-100',\n",
       " 'glove-wiki-gigaword-200',\n",
       " 'glove-wiki-gigaword-300',\n",
       " 'glove-twitter-25',\n",
       " 'glove-twitter-50',\n",
       " 'glove-twitter-100',\n",
       " 'glove-twitter-200',\n",
       " '__testing_word2vec-matrix-synopsis']"
      ]
     },
     "execution_count": 25,
     "metadata": {},
     "output_type": "execute_result"
    }
   ],
   "source": [
    "import gensim.downloader\n",
    "# Show all available models in gensim-data\n",
    "list(gensim.downloader.info()['models'].keys())"
   ]
  },
  {
   "cell_type": "markdown",
   "metadata": {
    "slideshow": {
     "slide_type": "subslide"
    }
   },
   "source": [
    "# Let's play with word2vec\n",
    "\n",
    "This is a word2vec trained on entire Google News dataset, of about **100 billion words.**\n",
    "\n",
    "`word2vec-google-news-300`\n",
    "\n",
    "Model is 1.6GB so it will take time to download (it will show progress bar)!\n",
    "\n"
   ]
  },
  {
   "cell_type": "code",
   "execution_count": 26,
   "metadata": {
    "slideshow": {
     "slide_type": "-"
    }
   },
   "outputs": [],
   "source": [
    "import gensim.downloader as api\n",
    "wv = api.load('word2vec-google-news-300')\n",
    "# [==================================================] 100.0% 1662.8/1662.8MB downloaded"
   ]
  },
  {
   "cell_type": "markdown",
   "metadata": {
    "slideshow": {
     "slide_type": "subslide"
    }
   },
   "source": [
    "# The vocabulary"
   ]
  },
  {
   "cell_type": "code",
   "execution_count": 27,
   "metadata": {
    "slideshow": {
     "slide_type": "-"
    }
   },
   "outputs": [
    {
     "name": "stdout",
     "output_type": "stream",
     "text": [
      "vocabulary size is 3000000\n",
      "word #0 over 3000000 is </s>\n",
      "word #1 over 3000000 is in\n",
      "word #2 over 3000000 is for\n",
      "word #3 over 3000000 is that\n",
      "word #4 over 3000000 is is\n",
      "word #5 over 3000000 is on\n",
      "word #6 over 3000000 is ##\n",
      "word #7 over 3000000 is The\n",
      "word #8 over 3000000 is with\n",
      "word #9 over 3000000 is said\n"
     ]
    }
   ],
   "source": [
    "N = len(wv.index_to_key)\n",
    "print(f'vocabulary size is {N}')\n",
    "\n",
    "for index, word in enumerate(wv.index_to_key):\n",
    "    if index == 10:\n",
    "        break\n",
    "    print(f\"word #{index} over {N} is {word}\")"
   ]
  },
  {
   "cell_type": "markdown",
   "metadata": {
    "slideshow": {
     "slide_type": "subslide"
    }
   },
   "source": [
    "# Accessing a word embedding"
   ]
  },
  {
   "cell_type": "code",
   "execution_count": 28,
   "metadata": {
    "slideshow": {
     "slide_type": "-"
    }
   },
   "outputs": [
    {
     "name": "stdout",
     "output_type": "stream",
     "text": [
      "vector shape is (300,)\n"
     ]
    }
   ],
   "source": [
    "vec_king = wv['king']\n",
    "print(f'vector shape is {vec_king.shape}')"
   ]
  },
  {
   "cell_type": "code",
   "execution_count": 29,
   "metadata": {
    "slideshow": {
     "slide_type": "subslide"
    }
   },
   "outputs": [
    {
     "data": {
      "text/html": [
       "<div>\n",
       "<style scoped>\n",
       "    .dataframe tbody tr th:only-of-type {\n",
       "        vertical-align: middle;\n",
       "    }\n",
       "\n",
       "    .dataframe tbody tr th {\n",
       "        vertical-align: top;\n",
       "    }\n",
       "\n",
       "    .dataframe thead th {\n",
       "        text-align: right;\n",
       "    }\n",
       "</style>\n",
       "<table border=\"1\" class=\"dataframe\">\n",
       "  <thead>\n",
       "    <tr style=\"text-align: center;\">\n",
       "      <th></th>\n",
       "      <th>0</th>\n",
       "      <th>1</th>\n",
       "      <th>2</th>\n",
       "      <th>3</th>\n",
       "      <th>4</th>\n",
       "      <th>5</th>\n",
       "      <th>6</th>\n",
       "      <th>7</th>\n",
       "      <th>8</th>\n",
       "      <th>9</th>\n",
       "      <th>...</th>\n",
       "      <th>290</th>\n",
       "      <th>291</th>\n",
       "      <th>292</th>\n",
       "      <th>293</th>\n",
       "      <th>294</th>\n",
       "      <th>295</th>\n",
       "      <th>296</th>\n",
       "      <th>297</th>\n",
       "      <th>298</th>\n",
       "      <th>299</th>\n",
       "    </tr>\n",
       "  </thead>\n",
       "  <tbody>\n",
       "    <tr>\n",
       "      <th>king</th>\n",
       "      <td>0.125977</td>\n",
       "      <td>0.029785</td>\n",
       "      <td>0.008606</td>\n",
       "      <td>0.139648</td>\n",
       "      <td>-0.025635</td>\n",
       "      <td>-0.036133</td>\n",
       "      <td>0.111816</td>\n",
       "      <td>-0.198242</td>\n",
       "      <td>0.05127</td>\n",
       "      <td>0.363281</td>\n",
       "      <td>...</td>\n",
       "      <td>-0.004669</td>\n",
       "      <td>-0.244141</td>\n",
       "      <td>-0.209961</td>\n",
       "      <td>-0.287109</td>\n",
       "      <td>-0.04541</td>\n",
       "      <td>-0.177734</td>\n",
       "      <td>-0.279297</td>\n",
       "      <td>-0.085938</td>\n",
       "      <td>0.091309</td>\n",
       "      <td>0.251953</td>\n",
       "    </tr>\n",
       "  </tbody>\n",
       "</table>\n",
       "<p>1 rows × 300 columns</p>\n",
       "</div>"
      ],
      "text/plain": [
       "         0         1         2         3         4         5         6      \\\n",
       "king  0.125977  0.029785  0.008606  0.139648 -0.025635 -0.036133  0.111816   \n",
       "\n",
       "         7        8         9      ...     290       291       292    \\\n",
       "king -0.198242  0.05127  0.363281  ... -0.004669 -0.244141 -0.209961   \n",
       "\n",
       "         293      294       295       296       297       298       299    \n",
       "king -0.287109 -0.04541 -0.177734 -0.279297 -0.085938  0.091309  0.251953  \n",
       "\n",
       "[1 rows x 300 columns]"
      ]
     },
     "execution_count": 29,
     "metadata": {},
     "output_type": "execute_result"
    }
   ],
   "source": [
    "import pandas as pd\n",
    "pd.DataFrame(dict(king=vec_king.tolist())).T"
   ]
  },
  {
   "cell_type": "markdown",
   "metadata": {
    "slideshow": {
     "slide_type": "-"
    }
   },
   "source": [
    "Watch out if you do not pass before through the vocabulary before asking the model"
   ]
  },
  {
   "cell_type": "code",
   "execution_count": 30,
   "metadata": {
    "slideshow": {
     "slide_type": "-"
    }
   },
   "outputs": [
    {
     "name": "stdout",
     "output_type": "stream",
     "text": [
      "The word 'cameroon' does not appear in this model\n"
     ]
    }
   ],
   "source": [
    "try:\n",
    "    vec_cameroon = wv['cameroon']\n",
    "except KeyError:\n",
    "    print(\"The word 'cameroon' does not appear in this model\")"
   ]
  },
  {
   "cell_type": "markdown",
   "metadata": {
    "slideshow": {
     "slide_type": "subslide"
    }
   },
   "source": [
    "# Word similarities!"
   ]
  },
  {
   "cell_type": "code",
   "execution_count": 31,
   "metadata": {
    "slideshow": {
     "slide_type": "-"
    }
   },
   "outputs": [
    {
     "name": "stdout",
     "output_type": "stream",
     "text": [
      "'car'\t'minivan'\t0.69\n",
      "'car'\t'bicycle'\t0.54\n",
      "'car'\t'airplane'\t0.42\n",
      "'car'\t'cereal'\t0.14\n",
      "'car'\t'communism'\t0.06\n",
      "'car'\t'cartoon'\t0.03\n"
     ]
    }
   ],
   "source": [
    "pairs = [\n",
    "    ('car', 'minivan'),   # a minivan is a kind of car\n",
    "    ('car', 'bicycle'),   # still a wheeled vehicle\n",
    "    ('car', 'airplane'),  # ok, no wheels, but still a vehicle\n",
    "    ('car', 'cereal'),    # ... and so on\n",
    "    ('car', 'communism'),\n",
    "    ('car', 'cartoon'),\n",
    "]\n",
    "for w1, w2 in pairs:\n",
    "    print('%r\\t%r\\t%.2f' % (w1, w2, wv.similarity(w1, w2)))"
   ]
  },
  {
   "cell_type": "markdown",
   "metadata": {
    "slideshow": {
     "slide_type": "subslide"
    }
   },
   "source": [
    "# Most similar"
   ]
  },
  {
   "cell_type": "code",
   "execution_count": 32,
   "metadata": {
    "slideshow": {
     "slide_type": "-"
    }
   },
   "outputs": [
    {
     "data": {
      "text/plain": [
       "[('SUV', 0.8532192707061768),\n",
       " ('vehicle', 0.8175783753395081),\n",
       " ('pickup_truck', 0.7763688564300537),\n",
       " ('Jeep', 0.7567334175109863),\n",
       " ('Ford_Explorer', 0.7565720081329346)]"
      ]
     },
     "execution_count": 32,
     "metadata": {},
     "output_type": "execute_result"
    }
   ],
   "source": [
    "wv.most_similar(positive=['car', 'minivan'], topn=5)"
   ]
  },
  {
   "cell_type": "markdown",
   "metadata": {
    "slideshow": {
     "slide_type": "subslide"
    }
   },
   "source": [
    "# Outlier detection"
   ]
  },
  {
   "cell_type": "code",
   "execution_count": 33,
   "metadata": {
    "slideshow": {
     "slide_type": "-"
    }
   },
   "outputs": [
    {
     "data": {
      "text/plain": [
       "'car'"
      ]
     },
     "execution_count": 33,
     "metadata": {},
     "output_type": "execute_result"
    }
   ],
   "source": [
    "wv.doesnt_match(['fire', 'water', 'land', 'sea', 'air', 'car'])"
   ]
  },
  {
   "cell_type": "markdown",
   "metadata": {
    "slideshow": {
     "slide_type": "subslide"
    }
   },
   "source": [
    "# Analogy using the learned embedding space\n",
    "\n",
    "- word2vec learns relationships between words automatically\n",
    "- Arithmetic of the vectors has surprising properties!\n",
    "\n",
    "`a is to b as a* is to what?`\n",
    "\n",
    "`Man is to King as Woman is to ______`"
   ]
  },
  {
   "cell_type": "markdown",
   "metadata": {
    "slideshow": {
     "slide_type": "fragment"
    }
   },
   "source": [
    "### Algebric way\n",
    "\n",
    "$$\\bmf{\\theta}_W(\\text{king}) - \\bmf{\\theta}_W(\\text{man}) + \\bmf{\\theta}_W(\\text{woman}) \\approx \\bmf{\\theta}_W(\\text{queen})$$"
   ]
  },
  {
   "cell_type": "markdown",
   "metadata": {
    "slideshow": {
     "slide_type": "subslide"
    }
   },
   "source": [
    "# Analogy using the learned embedding space\n",
    "### Geometric way (parallelogram model)\n",
    "<div align='center'><img src=\"figs/word2vec_analogy.png\" width='35%' ></div>"
   ]
  },
  {
   "cell_type": "markdown",
   "metadata": {
    "slideshow": {
     "slide_type": "subslide"
    }
   },
   "source": [
    "# Analogy using the learned embedding space\n",
    "### Optimization\n",
    "$$ \\mbf{a}:\\mbf{b} = \\mbf{a}^{\\star}: \\mbf{b}^{\\star}? $$\n",
    "\n",
    "$$ \\mbf{b}^{\\star} = \\arg\\max_{\\mbf{x}} \\text{sim}(\\mbf{x},\\mbf{b}-\\mbf{a}+\\mbf{a}^{\\star})$$\n",
    " \n",
    "<div align='center'><img src=\"figs/word2vec_analogy.png\" width='35%' ></div>"
   ]
  },
  {
   "cell_type": "markdown",
   "metadata": {
    "slideshow": {
     "slide_type": "subslide"
    }
   },
   "source": [
    "# Analogy"
   ]
  },
  {
   "cell_type": "code",
   "execution_count": 34,
   "metadata": {
    "slideshow": {
     "slide_type": "-"
    }
   },
   "outputs": [],
   "source": [
    "def analogy(x1, x2, y1):\n",
    "    result = wv.most_similar(positive=[y1, x2], negative=[x1])\n",
    "    return result[0][0]"
   ]
  },
  {
   "cell_type": "code",
   "execution_count": 35,
   "metadata": {},
   "outputs": [
    {
     "data": {
      "text/plain": [
       "'queen'"
      ]
     },
     "execution_count": 35,
     "metadata": {},
     "output_type": "execute_result"
    }
   ],
   "source": [
    "analogy('man', 'king', 'woman')"
   ]
  },
  {
   "cell_type": "code",
   "execution_count": 36,
   "metadata": {
    "slideshow": {
     "slide_type": "fragment"
    }
   },
   "outputs": [
    {
     "data": {
      "text/plain": [
       "'beers'"
      ]
     },
     "execution_count": 36,
     "metadata": {},
     "output_type": "execute_result"
    }
   ],
   "source": [
    "analogy('australia', 'beer', 'france')# does not work well with Glove should give you champagne\n"
   ]
  },
  {
   "cell_type": "code",
   "execution_count": 37,
   "metadata": {
    "slideshow": {
     "slide_type": "fragment"
    }
   },
   "outputs": [
    {
     "data": {
      "text/plain": [
       "'kerry'"
      ]
     },
     "execution_count": 37,
     "metadata": {},
     "output_type": "execute_result"
    }
   ],
   "source": [
    "analogy('obama', 'clinton', 'reagan')"
   ]
  },
  {
   "cell_type": "code",
   "execution_count": 38,
   "metadata": {
    "slideshow": {
     "slide_type": "fragment"
    }
   },
   "outputs": [
    {
     "data": {
      "text/plain": [
       "'longest'"
      ]
     },
     "execution_count": 38,
     "metadata": {},
     "output_type": "execute_result"
    }
   ],
   "source": [
    "analogy('tall', 'tallest', 'long')"
   ]
  },
  {
   "cell_type": "code",
   "execution_count": 39,
   "metadata": {
    "slideshow": {
     "slide_type": "fragment"
    }
   },
   "outputs": [
    {
     "data": {
      "text/plain": [
       "'horrible'"
      ]
     },
     "execution_count": 39,
     "metadata": {},
     "output_type": "execute_result"
    }
   ],
   "source": [
    "analogy('good', 'fantastic', 'bad')"
   ]
  }
 ],
 "metadata": {
  "celltoolbar": "Slideshow",
  "kernelspec": {
   "display_name": "Python 3 (ipykernel)",
   "language": "python",
   "name": "python3"
  },
  "language_info": {
   "codemirror_mode": {
    "name": "ipython",
    "version": 3
   },
   "file_extension": ".py",
   "mimetype": "text/x-python",
   "name": "python",
   "nbconvert_exporter": "python",
   "pygments_lexer": "ipython3",
   "version": "3.8.13"
  },
  "latex_envs": {
   "LaTeX_envs_menu_present": true,
   "autoclose": false,
   "autocomplete": false,
   "bibliofile": "biblio.bib",
   "cite_by": "key",
   "current_citInitial": 1,
   "eqLabelWithNumbers": true,
   "eqNumInitial": 1,
   "hotkeys": {
    "equation": "Ctrl-E",
    "itemize": "Ctrl-I"
   },
   "labels_anchors": false,
   "latex_user_defs": false,
   "report_style_numbering": false,
   "user_envs_cfg": false
  },
  "notify_time": "5",
  "rise": {
   "autolaunch": true,
   "overlay": "<div class='myheader'>Natural Language Processing<img src='../sapienza_logo.png'/></div>",
   "transition": "linear"
  },
  "toc": {
   "base_numbering": 1,
   "nav_menu": {},
   "number_sections": true,
   "sideBar": true,
   "skip_h1_title": false,
   "title_cell": "Table of Contents",
   "title_sidebar": "Summary",
   "toc_cell": false,
   "toc_position": {
    "height": "47px",
    "left": "1143px",
    "top": "173px",
    "width": "210.344px"
   },
   "toc_section_display": false,
   "toc_window_display": false
  },
  "varInspector": {
   "cols": {
    "lenName": 16,
    "lenType": 16,
    "lenVar": 40
   },
   "kernels_config": {
    "python": {
     "delete_cmd_postfix": "",
     "delete_cmd_prefix": "del ",
     "library": "var_list.py",
     "varRefreshCmd": "print(var_dic_list())"
    },
    "r": {
     "delete_cmd_postfix": ") ",
     "delete_cmd_prefix": "rm(",
     "library": "var_list.r",
     "varRefreshCmd": "cat(var_dic_list()) "
    }
   },
   "types_to_exclude": [
    "module",
    "function",
    "builtin_function_or_method",
    "instance",
    "_Feature"
   ],
   "window_display": false
  }
 },
 "nbformat": 4,
 "nbformat_minor": 4
}
