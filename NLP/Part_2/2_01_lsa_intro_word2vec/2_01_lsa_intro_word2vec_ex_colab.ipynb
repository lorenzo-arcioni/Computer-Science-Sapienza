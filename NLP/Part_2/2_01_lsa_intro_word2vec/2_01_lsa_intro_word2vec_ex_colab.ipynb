{
  "cells": [
    {
      "cell_type": "markdown",
      "metadata": {
        "id": "YdwqfgeaUAv6"
      },
      "source": [
        "# Natural Language Processing\n",
        "\n",
        "### 2.1 Distributional Semantics, Latent Semantic Analysis and Word2Vec\n",
        "<br><br>\n",
        "Prof. Iacopo Masi and Prof. Stefano Faralli"
      ]
    },
    {
      "cell_type": "code",
      "execution_count": 1,
      "metadata": {
        "hide_input": true,
        "id": "mh4ukQmNUAv6"
      },
      "outputs": [],
      "source": [
        "import matplotlib.pyplot as plt\n",
        "from PIL import Image\n",
        "import pandas as pd\n",
        "import numpy as np\n",
        "import requests\n",
        "import random\n",
        "import scipy\n",
        "import io\n",
        "\n",
        "pd.set_option('display.colheader_justify', 'center')"
      ]
    },
    {
      "cell_type": "code",
      "execution_count": 2,
      "metadata": {
        "hide_input": true,
        "id": "giLxjDAiUAv7",
        "run_control": {
          "marked": false
        },
        "scrolled": true
      },
      "outputs": [],
      "source": [
        "import matplotlib\n",
        "%matplotlib inline\n",
        "#plt.style.use('seaborn-whitegrid')\n",
        "\n",
        "# Aux functions\n",
        "\n",
        "from google.colab import output\n",
        "output.enable_custom_widget_manager()\n",
        "\n",
        "def plot_grid(Xs, Ys, axs=None):\n",
        "    ''' Aux function to plot a grid'''\n",
        "    t = np.arange(Xs.size) # define progression of int for indexing colormap\n",
        "    if axs:\n",
        "        axs.plot(0, 0, marker='*', color='r', linestyle='none') #plot origin\n",
        "        axs.scatter(Xs,Ys, c=t, cmap='jet', marker='.') # scatter x vs y\n",
        "        axs.axis('scaled') # axis scaled\n",
        "    else:\n",
        "        plt.plot(0, 0, marker='*', color='r', linestyle='none') #plot origin\n",
        "        plt.scatter(Xs,Ys, c=t, cmap='jet', marker='.') # scatter x vs y\n",
        "        plt.axis('scaled') # axis scaled\n",
        "\n",
        "def linear_map(A, Xs, Ys):\n",
        "    '''Map src points with A'''\n",
        "    # [NxN,NxN] -> NxNx2 # add 3-rd axis, like adding another layer\n",
        "    src = np.stack((Xs,Ys), axis=Xs.ndim)\n",
        "    # flatten first two dimension\n",
        "    # (NN)x2\n",
        "    src_r = src.reshape(-1,src.shape[-1]) #ask reshape to keep last dimension and adjust the rest\n",
        "    # 2x2 @ 2x(NN)\n",
        "    dst = A @ src_r.T # 2xNN\n",
        "    #(NN)x2 and then reshape as NxNx2\n",
        "    dst = (dst.T).reshape(src.shape)\n",
        "    # Access X and Y\n",
        "    return dst[...,0], dst[...,1]\n",
        "\n",
        "\n",
        "def plot_points(ax, Xs, Ys, col='red', unit=None, linestyle='solid'):\n",
        "    '''Plots points'''\n",
        "    ax.set_aspect('equal')\n",
        "    ax.grid(True, which='both')\n",
        "    ax.axhline(y=0, color='gray', linestyle=\"--\")\n",
        "    ax.axvline(x=0, color='gray',  linestyle=\"--\")\n",
        "    ax.plot(Xs, Ys, color=col)\n",
        "    if unit is None:\n",
        "        plotVectors(ax, [[0,1],[1,0]], ['gray']*2, alpha=1, linestyle=linestyle)\n",
        "    else:\n",
        "        plotVectors(ax, unit, [col]*2, alpha=1, linestyle=linestyle)\n",
        "\n",
        "def plotVectors(ax, vecs, cols, alpha=1, linestyle='solid'):\n",
        "    '''Plot set of vectors.'''\n",
        "    for i in range(len(vecs)):\n",
        "        x = np.concatenate([[0,0], vecs[i]])\n",
        "        ax.quiver([x[0]],\n",
        "                   [x[1]],\n",
        "                   [x[2]],\n",
        "                   [x[3]],\n",
        "                   angles='xy', scale_units='xy', scale=1, color=cols[i],\n",
        "                   alpha=alpha, linestyle=linestyle, linewidth=2)"
      ]
    },
    {
      "cell_type": "markdown",
      "metadata": {
        "hide_input": true,
        "id": "MfTTCflEUAv7"
      },
      "source": [
        "## My own latex definitions\n",
        "\n",
        "$$\\def\\mbf#1{\\mathbf{#1}}$$\n",
        "$$\\def\\bmf#1{\\boldsymbol{#1}}$$\n",
        "$$\\def\\bx{\\mbf{x}}$$\n",
        "$$\\def\\bxt#1{\\mbf{x}_{\\text{#1}}}$$\n",
        "$$\\def\\bv{\\mbf{v}}$$\n",
        "$$\\def\\bz{\\mbf{z}}$$\n",
        "$$\\def\\bmu{\\bmf{\\mu}}$$\n",
        "$$\\def\\bsigma{\\bmf{\\Sigma}}$$\n",
        "$$\\def\\Rd#1{\\in \\mathbb{R}^{#1}}$$\n",
        "$$\\def\\chain#1#2{\\frac{\\partial #1}{\\partial #2}}$$\n",
        "$$\\def\\loss{\\mathcal{L}}$$"
      ]
    },
    {
      "cell_type": "markdown",
      "metadata": {
        "id": "LnQY2gA4UAv7"
      },
      "source": [
        "# Very Brief Introduction"
      ]
    },
    {
      "cell_type": "markdown",
      "metadata": {
        "cell_style": "split",
        "id": "3v6IIeiRUAv7"
      },
      "source": [
        "<img width=\"250\" src=\"https://github.com/iacopomasi/iacopomasi.github.io/blob/master/imgs/iacopomasi_res.jpg?raw=true\">"
      ]
    },
    {
      "cell_type": "markdown",
      "metadata": {
        "cell_style": "split",
        "id": "aZ7yocj4UAv7"
      },
      "source": [
        "## 👨🏼‍🏫 About Me\n",
        "\n",
        "- **Associate Professor** with Sapienza since late 2020\n",
        "- **Adjunct Research Assistant Professor** with University of Southern California (USC), Los Angeles **till August 2022**\n",
        "\n",
        "- Worked as Research Scientist on big DARPA projects (Dept. of Defense) of USA.\n",
        "\n",
        "\n",
        "- My Background:\n",
        " - Computer Vision\n",
        " - Machine Learning\n"
      ]
    },
    {
      "cell_type": "markdown",
      "metadata": {
        "id": "1Hh08NWuUAv7"
      },
      "source": [
        "# I do research in AI\n",
        "\n",
        "## Biometrics, Face Recognition, Adversarial Robustness, Generative Models\n",
        "### Mainly visual domain (images) but I am broadening my range (e.g. NLP!) 😛\n",
        "\n"
      ]
    },
    {
      "cell_type": "markdown",
      "metadata": {
        "id": "scQ-oIuMUAv7"
      },
      "source": [
        "# My Path\n",
        "<div align='center'><img src=\"./figs/path.png?raw=1\" width='80%'></div>"
      ]
    },
    {
      "cell_type": "markdown",
      "metadata": {
        "id": "xqoONq2IUAv8"
      },
      "source": [
        "# Latest Research Effort (w/ USC, UCLA, Sapienza)\n",
        "## Image Synthesis by Inverting a Quasi-Robust Classifier in AAAI-23\n",
        "<div align='center'><img src=\"./figs/aaai23.png?raw=1\" width='50%'></div>"
      ]
    },
    {
      "cell_type": "markdown",
      "metadata": {
        "cell_style": "split",
        "id": "c7uAcK_DUAv8"
      },
      "source": [
        "# Stanford NLP Course\n",
        "<div align='center'><img src=\"./figs/stanford.png?raw=1\" width='85%' ></div>\n"
      ]
    },
    {
      "cell_type": "markdown",
      "metadata": {
        "cell_style": "split",
        "id": "DNH0EZMhUAv8"
      },
      "source": [
        "# Sapienza NLP Course\n",
        "\n",
        "<div align='center'><img src=\"./figs/sapienza_nlp.png?raw=1\" width='85%' ></div>"
      ]
    },
    {
      "cell_type": "markdown",
      "metadata": {
        "id": "jRcYlxIGUAv8"
      },
      "source": [
        "# Today's lecture\n",
        "## - From Sparse to Distributed Representations\n",
        "## - Latent Semantic Analysis (LSA)\n",
        "## - Introduction to Word2Vec"
      ]
    },
    {
      "cell_type": "markdown",
      "metadata": {
        "id": "1eioB4rSUAv8"
      },
      "source": [
        "# This lecture material is taken from\n",
        "📘 **Chapter 5 and 6 Jurafsky Book**\n",
        "\n",
        "📘 **Chapter 14.5 Eisenstein Book**\n",
        "- [Stanford Slide Word2Vec](http://web.stanford.edu/class/cs224n/slides/cs224n-2022-lecture01-wordvecs1.pdf)\n",
        "- [Stanford Lecture Word2Vec](https://www.youtube.com/watch?v=rmVRLeJRkl4&list=PLoROMvodv4rOSH4v6133s9LFPRHjEmbmJ&index=1)\n",
        "- [Stanford Notes on Word2Vec](http://web.stanford.edu/class/cs224n/readings/cs224n-2019-notes01-wordvecs1.pdf)\n",
        "\n",
        "**LSA** part is taken from **[Introduction to Information Retrieval by Manning](https://nlp.stanford.edu/IR-book/pdf/18lsi.pdf)**\n",
        "\n",
        "**Truncated SVD** from [sklearn](https://scikit-learn.org/stable/modules/decomposition.html#truncated-singular-value-decomposition-and-latent-semantic-analysis)\n",
        "\n",
        "📝 Research papers on word2vec:\n",
        "- [First paper: word2vec + hierarchical softmax](https://arxiv.org/pdf/1301.3781.pdf)\n",
        "- [Negative Sampling paper](https://proceedings.neurips.cc/paper/2013/file/9aa42b31882ec039965f3c4923ce901b-Paper.pdf)"
      ]
    },
    {
      "cell_type": "markdown",
      "metadata": {
        "id": "kqFB8jpRUAv8"
      },
      "source": [
        "# Word2vec and Distributed Representations\n",
        "\n",
        "- Word2vec is a method for learning **distributed representations** of words (also called **word embeddings**).\n",
        "- These representations capture the **meanings of words** in a continuous vector space, where similar words are mapped to nearby points.\n",
        "- This allows words to be used in natural language processing tasks like **language translation** and **text classification**, in a way that reflects their meanings."
      ]
    },
    {
      "cell_type": "markdown",
      "metadata": {
        "id": "wTl7eTNDUAv8"
      },
      "source": [
        "# Word2vec and Distributed Representations\n",
        "\n",
        "- Distributed representations are useful because they **encode words in a way that preserves relationships** between them.\n",
        "- Word2vec uses a **shallow neural network** to learn these representations from large amounts of unannotated text data.\n",
        "- The word2vec model has two main learning algorithms: **continuous bag-of-words (CBOW)** and **skip-gram**. These algorithms have different strengths and are suitable for different tasks."
      ]
    },
    {
      "cell_type": "markdown",
      "metadata": {
        "id": "zRMWFGXDUAv8"
      },
      "source": [
        "...but there is a problem with the slides before 🤨"
      ]
    },
    {
      "cell_type": "markdown",
      "metadata": {
        "id": "O7GQ2c_OUAv8"
      },
      "source": [
        "...does anyone spot any problem?"
      ]
    },
    {
      "cell_type": "markdown",
      "metadata": {
        "id": "YgLJj341UAv8"
      },
      "source": [
        "well, they have been generated by a **large NLP language model optimized for dialogue 🤖**"
      ]
    },
    {
      "cell_type": "markdown",
      "metadata": {
        "id": "6_ldikNvUAv8"
      },
      "source": [
        "# ChatGPT, if you do not believe me\n",
        "\n",
        "<br>\n",
        "<div align='center'><img src=\"./figs/chatgpt_01.png?raw=1\" width='45%' ></div>\n"
      ]
    },
    {
      "cell_type": "markdown",
      "metadata": {
        "id": "93M9pJYfUAv8"
      },
      "source": [
        "# To keep you motivated, let me entertain you...\n",
        "\n",
        "Let's try latest NLP success **[ChatGPT](https://chat.openai.com/chat) by OpenAI**\n",
        "<br><br>\n",
        "<div align='center'><img src=\"./figs/chatgpt_02.png?raw=1\" width='45%' ></div>"
      ]
    },
    {
      "cell_type": "markdown",
      "metadata": {
        "id": "Qj9N174qUAv8"
      },
      "source": [
        "# NLP\n",
        "\n",
        "\n",
        "- Human (natural) language is different than Computer (Artificial) languages\n",
        "- Human language is a system specifically constructed to **convey meaning**\n",
        "- Vision is produced by a **physical manifestation of a signal**, **NLP is not**\n",
        "- Human language uses symbols to indicate extra-linguistic entities\n",
        "\n",
        "<br><br>\n",
        "<center>\n",
        "<h2>Word : Signifier = Idea : Signified</h2>\n",
        "<h2>\"tree\" = {🎄,🌳,🌴,🌲,🏝,}</h2>\n",
        "</center>\n",
        "\n",
        "\n",
        "<br>\n",
        "\n",
        "_Stat rosa pristina nomine, nomina nuda tenemus_"
      ]
    },
    {
      "cell_type": "markdown",
      "metadata": {
        "id": "luGrFWxxUAv8"
      },
      "source": [
        "# NLP models discrete symbols\n",
        "\n",
        "\n",
        "- Vision and Audio are modeled as continuous signals that are then discretized (e.g. images)\n",
        "- NLP instead is a **discrete/symbolic/categorical** domain.\n",
        "    - This is why so far you have seen a lot of `count()`.\n",
        "    - All the math involved in NLP is mostly **discrete math**."
      ]
    },
    {
      "cell_type": "markdown",
      "metadata": {
        "id": "ODUb03pcUAv8"
      },
      "source": [
        "# Let's take a quick grasp of the difference between NLP and Vision"
      ]
    },
    {
      "cell_type": "markdown",
      "metadata": {
        "id": "Iml6-Yx8UAv9"
      },
      "source": [
        "# Let's sample from an English Corpus"
      ]
    },
    {
      "cell_type": "code",
      "execution_count": null,
      "metadata": {
        "colab": {
          "base_uri": "https://localhost:8080/"
        },
        "id": "JapYZMM3UAv9",
        "outputId": "f7463a84-3a6b-473c-824d-a036fd7434d4"
      },
      "outputs": [
        {
          "name": "stdout",
          "output_type": "stream",
          "text": [
            "  % Total    % Received % Xferd  Average Speed   Time    Time     Time  Current\n",
            "                                 Dload  Upload   Total   Spent    Left  Speed\n",
            "100  740k  100  740k    0     0  1123k      0 --:--:-- --:--:-- --:--:-- 1122k\n",
            "Archive:  words.zip\n",
            "   creating: words/\n",
            "  inflating: words/en                \n",
            "  inflating: words/en-basic          \n",
            "  inflating: words/README            \n"
          ]
        }
      ],
      "source": [
        "# downloaded from https://www.nltk.org/nltk_data/\n",
        "# https://raw.githubusercontent.com/nltk/nltk_data/gh-pages/packages/corpora/words.zip\n",
        "!curl https://raw.githubusercontent.com/nltk/nltk_data/gh-pages/packages/corpora/words.zip -O\n",
        "!unzip words.zip\n",
        "!mv words data"
      ]
    },
    {
      "cell_type": "code",
      "execution_count": null,
      "metadata": {
        "colab": {
          "base_uri": "https://localhost:8080/"
        },
        "id": "d0C2QEr3UTFR",
        "outputId": "6b9f6baf-dc00-4de4-eecd-b09cfc500e8f"
      },
      "outputs": [
        {
          "name": "stdout",
          "output_type": "stream",
          "text": [
            "851\n"
          ]
        }
      ],
      "source": [
        "with open('data/en-basic') as fr: words = fr.read().split('\\n')\n",
        "\n",
        "print(len(words))"
      ]
    },
    {
      "cell_type": "markdown",
      "metadata": {
        "id": "lelQZ-m_UAv9"
      },
      "source": [
        "# \"Unigram\" model (no use of frequency)\n",
        "\n",
        "Sampling from a corpus of **851 words**"
      ]
    },
    {
      "cell_type": "code",
      "execution_count": null,
      "metadata": {
        "colab": {
          "base_uri": "https://localhost:8080/"
        },
        "id": "6vc4NmrnU0rX",
        "outputId": "fc933dc7-9189-4231-dd8a-b558dd1f4b66"
      },
      "outputs": [
        {
          "name": "stdout",
          "output_type": "stream",
          "text": [
            "pot and enough deep secret rat thunder black industry answer death material angle crime probable nation debt organization spade acid soup reward free circle west forward board bone substance parcel south scissors move window hanging needle sticky pipe table old river attack design expert between different bottle error poor grass group cut education voice prison peace comfort science coat hanging writing pot news receipt street sky desire any first education damage warm the fire property help tray lead east do normal early opposite tin history death you measure blue attention breath pleasure so industry basket harbour yesterday moon will system\n"
          ]
        }
      ],
      "source": [
        "random.seed(42)\n",
        "print(*random.choices(words, k=100), sep=' ')"
      ]
    },
    {
      "cell_type": "markdown",
      "metadata": {
        "id": "1gmyLUpFUAv9"
      },
      "source": [
        "The text **globally does not make sense** but we still understand each word.\n",
        "\n",
        "At times, **a few parts seem almost meaningful**:\n",
        "- `and enough deep secret`\n",
        "- `warm the fire property`\n",
        "- `so industry basket`"
      ]
    },
    {
      "cell_type": "markdown",
      "metadata": {
        "id": "Hx1nVUkcUAv9"
      },
      "source": [
        "# now  with Vision"
      ]
    },
    {
      "cell_type": "code",
      "execution_count": null,
      "metadata": {
        "colab": {
          "base_uri": "https://localhost:8080/",
          "height": 594
        },
        "id": "N128kEvzUAv9",
        "outputId": "6aa0efe6-abb9-4a96-abe9-4a72bee22d97"
      },
      "outputs": [
        {
          "name": "stdout",
          "output_type": "stream",
          "text": [
            "Image shape is (120, 120, 4) --> HxWx(RGBA)\n"
          ]
        },
        {
          "data": {
            "image/png": "[encoded data removed]",
            "text/plain": [
              "<Figure size 700x700 with 1 Axes>"
            ]
          },
          "metadata": {},
          "output_type": "display_data"
        }
      ],
      "source": [
        "url = './data/mario.png?raw=true'\n",
        "img = Image.open(requests.get(url, stream=True).raw)\n",
        "np_img = np.array(img)\n",
        "\n",
        "plt.figure(figsize=(7,7));\n",
        "imgplot = plt.imshow(img)\n",
        "plt.axis('off');\n",
        "print(f'Image shape is {np_img.shape} --> HxWx(RGBA)');"
      ]
    },
    {
      "cell_type": "markdown",
      "metadata": {
        "id": "iQo9grsXUAv9",
        "variables": {
          "plt.figure(figsize=(5,5));_=plt.imshow(img);_=plt.axis('off');": "<p><strong>NameError</strong>: name &#39;plt&#39; is not defined</p>\n"
        }
      },
      "source": [
        "# Vision\n",
        "\n",
        "Mario below is an instance in space of $\\mathbb{Z}_{[0,255]}^{120\\times120\\times3}$,  if we do not consider the alpha channel.\n",
        "- each pixel takes value in $[0,255]$\n",
        "- we have HxWx3 cell grid to fill\n",
        "\n",
        "<center>\n",
        "{{plt.figure(figsize=(5,5));_=plt.imshow(img);_=plt.axis('off');}}\n",
        "</center>"
      ]
    },
    {
      "cell_type": "markdown",
      "metadata": {
        "id": "oM5eGTnuUAv9"
      },
      "source": [
        "# Let's sample randomly in the \"visual\" space\n",
        "\n",
        "## What would you expect?"
      ]
    },
    {
      "cell_type": "code",
      "execution_count": null,
      "metadata": {
        "colab": {
          "base_uri": "https://localhost:8080/",
          "height": 422
        },
        "hide_input": false,
        "id": "iVaFAshpUAv9",
        "outputId": "5f71b886-7205-4cef-c1c1-30cf409a0976"
      },
      "outputs": [
        {
          "data": {
            "image/png": "[encoded data removed]",
            "text/plain": [
              "<Figure size 500x500 with 1 Axes>"
            ]
          },
          "metadata": {},
          "output_type": "display_data"
        }
      ],
      "source": [
        "rand_im = random.choices(range(0, 256), k=120*120*3)\n",
        "rand_im = np.array(rand_im).reshape(120, 120, 3)\n",
        "plt.figure(figsize=(5,5))\n",
        "imgplot=plt.imshow(rand_im)\n",
        "_=plt.axis('off')"
      ]
    },
    {
      "cell_type": "markdown",
      "metadata": {
        "id": "XiskMwLTUAv9"
      },
      "source": [
        "# Much more non-sense than with text, right?\n"
      ]
    },
    {
      "cell_type": "markdown",
      "metadata": {
        "id": "w2U9XSwjUAv9"
      },
      "source": [
        "# Vision\n",
        "\n",
        "- No notion of discrete symbols. What is the semantic of a pixel?\n",
        "- Continuous signal that is discretized on a grid"
      ]
    },
    {
      "cell_type": "markdown",
      "metadata": {
        "id": "YWp7gycSUAv-"
      },
      "source": [
        "# NLP meets Vision will return at the end of the course"
      ]
    },
    {
      "cell_type": "markdown",
      "metadata": {
        "id": "hD3cz8MKUAv-"
      },
      "source": [
        "#  A bit of Linguistics to start\n",
        "\n",
        "Definition of mouse from a dictionary:\n",
        "```text\n",
        "mouse (N)\n",
        "1.  any of numerous small rodents...\n",
        "2.  a hand-operated device that controls a cursor...\n",
        "```\n",
        "\n",
        "- **mouse** is called a **lemma or citation form**; for verbs usually the **lemma** is the infinite form\n",
        "- **mice**  is a **wordform** (in this case the, irregular, plural form of mouse)"
      ]
    },
    {
      "cell_type": "markdown",
      "metadata": {
        "id": "nV9KwKlbUAv-"
      },
      "source": [
        "# Word Sense\n",
        "\n",
        "Multiple aspects of the meaning of a word\n",
        "\n",
        "```text\n",
        "mouse (N)\n",
        "1.  any of numerous small rodents...\n",
        "2.  a hand-operated device that controls a cursor...\n",
        "```\n",
        "\n",
        "without **context** it is difficult to say if `mouse` refers to `1.` or `2.`\n"
      ]
    },
    {
      "cell_type": "markdown",
      "metadata": {
        "cell_style": "split",
        "id": "DfYteYIGUAv-"
      },
      "source": [
        "<div align='center'><img src=\"./figs/mouse.png?raw=1\" width='45%' ></div>"
      ]
    },
    {
      "cell_type": "markdown",
      "metadata": {
        "cell_style": "split",
        "id": "d5CABQmgUAv-"
      },
      "source": [
        "<div align='center'><img src=\"./figs/mouse_animal.png?raw=1\" width='45%' ></div>"
      ]
    },
    {
      "cell_type": "markdown",
      "metadata": {
        "id": "_t89Co0tUAv-"
      },
      "source": [
        "# Word Sense Disambiguation\n",
        "\n",
        "<div align='center'><img src=\"./figs/google.png?raw=1\" width='45%' ></div>"
      ]
    },
    {
      "cell_type": "markdown",
      "metadata": {
        "id": "c8yJqvdPUAv-"
      },
      "source": [
        "# Synonym\n",
        "\n",
        "- One important component of **word meaning** is the relationship between word senses.\n",
        "- For example when **one word has a sense whose meaning** is _identical_ to a **sense of another word** we say the two senses of those two words are **synonyms**.\n",
        "\n",
        "| **Word A** \t| **Word B** \t|\n",
        "|:----------:\t|-----------:\t|\n",
        "| couch      \t|       sofa \t|\n",
        "| car        \t| automobile \t|\n",
        "| hazelnut   \t|    filbert \t|"
      ]
    },
    {
      "cell_type": "markdown",
      "metadata": {
        "id": "trylJ-0cUAv-"
      },
      "source": [
        "# Word Similarity: what this lecture is about\n",
        "\n",
        "- While words do not have many synonyms, most words do have lots of similar words\n",
        "- Cat is not a synonym of dog, but **cats and dogs are certainly similar words** (for sure more than **cat vs airplane**)\n",
        "- The notion of **word similarity** is very useful in larger semantic tasks\n",
        "\n",
        "|       |            |         |\n",
        "|:----- | -------:   | -------:\n",
        "vanish \t| disappear  | 9.8\n",
        "belief  | impression | 5.95\n",
        "muscle  | bone       | 3.65\n",
        "modest  | flexible   | 0.98\n",
        "hole \t| agreement  | 0.3  "
      ]
    },
    {
      "cell_type": "markdown",
      "metadata": {
        "id": "j1qTvOmMUAv-"
      },
      "source": [
        "# Representing Words as Discrete Symbols: One-Hot Encoding\n",
        "\n",
        "In traditional NLP, we regard words as discrete symbols.\n",
        "\n",
        "`hotel, conference, motel` can be represented with a vector $\\bx$:\n",
        "- of dimension $|V|$\n",
        "- each component indexes a word in the vocabulary $V$\n",
        "- if we are dealing with a word present in $V$ at index $i$ then:\n",
        "\n",
        "$$\n",
        "\\bx_j = \\begin{cases} 1, & \\mbox{if } i=j \\\\\n",
        "                       0  & \\forall j \\neq i\n",
        "          \\end{cases}\n",
        "$$\n",
        "\n",
        "visually this is something as:\n",
        "\n",
        "   0   |   0   |   0   |    0   |   1    |   ...    |    0   |       |       |       |\n",
        ":----- |:----- |:----- |:----- |:----- |:----- |:----- |:----- |:----- |:----- |\n",
        " cat   |  airplane     |   dog     |  beer     |  hotel      |  ....     |   garden    |       |       |       |\n",
        "\n",
        "\n"
      ]
    },
    {
      "cell_type": "markdown",
      "metadata": {
        "id": "b1QMXqCXUAv-"
      },
      "source": [
        "# Representing Words as Discrete Symbols: One-Hot Encoding\n",
        "\n",
        "In traditional NLP, we regard words as discrete symbols.\n",
        "\n",
        "`hotel, conference, motel` can be represented with a vector $\\bx$:\n",
        "- of dimension $|V|$\n",
        "- each component indexes a word in the vocabulary $V$\n",
        "- if we are dealing with a word present in $V$ at index $i$ then:\n",
        "\n",
        "$$\n",
        "\\bx_j = \\begin{cases} 1, & \\mbox{if } i=j \\\\\n",
        "                       0  & \\forall j \\neq i\n",
        "          \\end{cases}\n",
        "$$\n",
        "\n",
        "More formally:\n",
        "$$\n",
        "\\bxt{hotel} = \\underbrace{[0~0~0~0~1~0~0\\ldots 0~0~0~0~0~0]}_{|V|}\n",
        "$$\n",
        "\n",
        "\n"
      ]
    },
    {
      "cell_type": "markdown",
      "metadata": {
        "id": "b-zcVkzpUAv-"
      },
      "source": [
        "Is the same as saying that the word `hotel` appears at index 4 in the vocabulary (starting from zero)"
      ]
    },
    {
      "cell_type": "markdown",
      "metadata": {
        "id": "2U1qO4KTUAv-"
      },
      "source": [
        "# Brief recap on Linear Algebra"
      ]
    },
    {
      "cell_type": "markdown",
      "metadata": {
        "id": "fi97avGSUAv-"
      },
      "source": [
        "# Vectors: Geometric Interpretation 1\n",
        "## Point in space\n",
        "\n",
        "- Given a vector, the first interpretation\n",
        "that we should give it is as a **point in space.**\n",
        "\n",
        "- In two or three dimensions, we can visualize these points\n",
        "by using the components of the vectors to define\n",
        "the location of the points in space compared\n",
        "to a fixed reference called the *origin*.\n",
        "\n",
        "<img class=\"center\" src=\"https://raw.githubusercontent.com/d2l-ai/d2l-en/master/img/grid-points.svg\" width=\"30%\">\n"
      ]
    },
    {
      "cell_type": "markdown",
      "metadata": {
        "id": "LKA7BRdTUAv_"
      },
      "source": [
        "##### Formalizing problems\n",
        "This geometric point of view allows us to consider the problem on a more abstract level.\n",
        "No longer faced with some insurmountable seeming problem\n",
        "like classifying pictures as either cats or dogs but separate points in space.\n",
        "\n",
        "`Problem -> Formalization -> Math -> Computational System`\n",
        "\n",
        "<small>Taken from [d2l.ai](https://d2l.ai)<small>"
      ]
    },
    {
      "cell_type": "markdown",
      "metadata": {
        "id": "9V5pggkAUAv_"
      },
      "source": [
        "# Vectors: Geometric Interpretation 2\n",
        "## Direction in space\n",
        "\n",
        "In parallel, there is a second point of view\n",
        "that people often take of vectors: **as directions in space.**\n",
        "Not only can we think of the vector $\\mathbf{v} = [3,2]^\\top$\n",
        "as the location $3$ units to the right and $2$ units up from the origin,\n",
        "we can also think of it as the direction itself\n",
        "to take $3$ steps to the right and $2$ steps up.\n",
        "In this way, we consider all the vectors in figure the same.\n",
        "<img src=\"https://raw.githubusercontent.com/d2l-ai/d2l-en/master/img/par-vec.svg\" width=\"30%\">"
      ]
    },
    {
      "cell_type": "markdown",
      "metadata": {
        "id": "NxP3Jz3GUAv_"
      },
      "source": [
        "## Direction in space\n",
        "\n",
        "One of the benefits of this shift is that\n",
        "we can make visual sense of the act of vector addition.\n",
        "In particular, we follow the directions given by one vector,\n",
        "and then follow the directions given by the other, as is seen below.\n",
        "\n",
        "<img src=\"https://raw.githubusercontent.com/d2l-ai/d2l-en/master/img/vec-add.svg\" width=\"30%\">\n",
        "\n",
        "Difference is just $\\mathbf{A}-\\mathbf{B}=\\mathbf{A}+(-\\mathbf{B})$\n",
        "\n",
        "<small>Taken from [d2l.ai]<small>"
      ]
    },
    {
      "cell_type": "markdown",
      "metadata": {
        "id": "r3WXZD3WUAv_"
      },
      "source": [
        "# Inner Product (Dot Product)\n",
        "\n",
        "\\begin{equation} \\mathbf{x}, \\mathbf{y} \\in \\mathbb{R}^D ~~~~~~~~~\\quad\n",
        "\\mathbf{x}^T \\mathbf{y} = \\left\\langle\\mathbf{x}, \\mathbf{y}\\right\\rangle = \\sum_i^D \\mathbf{x}_i \\cdot \\mathbf{y}_i\n",
        "\\end{equation}\n",
        "\n",
        "```\n",
        "x1 x2 x3 x4\n",
        "           y1\n",
        "           y2   =    result (dot_product)\n",
        "           y3\n",
        "           y4\n",
        "\n",
        "\n",
        "dot_product = x1y1 + x2y2 + x3y3 + x4y4\n",
        "```\n",
        "\n",
        "- The result is a **scalar** (not a vector anymore).\n",
        "- $\\mathbf{x}, \\mathbf{y}$ must live in the same dimension\n",
        "- It is **commutative**\n",
        "- The data is **paired**: just muliply elementwise and sum across axis."
      ]
    },
    {
      "cell_type": "markdown",
      "metadata": {
        "id": "ZiWXXricUAv_"
      },
      "source": [
        "# Inner product: Geometric Interpretation\n",
        "\n",
        "- The dot product also admits a geometric interpretation: **it is closely related to the angle between two vectors.**\n",
        "- It is biased by the norm (\"length\") of the vectors (it favors \"long\" vectors)\n",
        "\n",
        "\n",
        "<img src=\"https://raw.githubusercontent.com/d2l-ai/d2l-en/master/img/vec-angle.svg\" width=\"30%\">\n",
        "\n",
        "$$\n",
        "\\mathbf{v}\\cdot\\mathbf{w} = \\|\\mathbf{v}\\|\\|\\mathbf{w}\\|\\cos(\\theta).\n",
        "$$"
      ]
    },
    {
      "cell_type": "markdown",
      "metadata": {
        "id": "FD2c6hWkUAv_"
      },
      "source": [
        "With some simple algebraic manipulation, we can rearrange terms to obtain\n",
        "\n",
        "$$\n",
        "\\theta = \\arccos\\left(\\frac{\\mathbf{v}\\cdot\\mathbf{w}}{\\|\\mathbf{v}\\|\\|\\mathbf{w}\\|}\\right).\n",
        "$$\n",
        "\n",
        "\n",
        "This is a nice result since nothing in the computation references two-dimensions.\n",
        "\n",
        "**Indeed, we can use this in three or three million dimensions without issue.**"
      ]
    },
    {
      "cell_type": "markdown",
      "metadata": {
        "id": "OyCdx62RUAv_"
      },
      "source": [
        "### Cosine Similarity\n",
        "In ML contexts where the **angle is employed\n",
        "to measure the closeness of two vectors**,\n",
        "practitioners adopt the term **cosine similarity**\n",
        "to refer to the portion\n",
        "$$\n",
        "\\cos(\\theta) = \\underbrace{\\frac{\\mathbf{v}\\cdot\\mathbf{w}}{\\|\\mathbf{v}\\|\\|\\mathbf{w}\\|}}_{\\text{cosine similarity}}.\n",
        "$$\n",
        "\n",
        "- What happens if cosine similarity is 1?\n",
        "- Notice any similarity with some concept we saw in a previous lecture?"
      ]
    },
    {
      "cell_type": "markdown",
      "metadata": {
        "id": "ZaAXDiVWUAv_"
      },
      "source": [
        "# The problem of Dot Product and One-Hot Encoding\n",
        "\n",
        "Assume a vocabulary of words $V$\n",
        "\n",
        "$$\n",
        "\\bxt{motel} =  \n",
        "\\begin{bmatrix}\n",
        "0 \\\\\n",
        "1 \\\\\n",
        "\\ldots, \\\\\n",
        "0 \\\\\n",
        "\\end{bmatrix} \\quad\n",
        "\\bxt{hotel} =  \n",
        "\\begin{bmatrix}\n",
        "0 \\\\\n",
        "1 \\\\\n",
        "\\ldots, \\\\\n",
        "0 \\\\\n",
        "\\end{bmatrix} \\quad \\ldots\n",
        "\\quad\n",
        "\\bxt{car} =  \n",
        "\\begin{bmatrix}\n",
        "0 \\\\\n",
        "1 \\\\\n",
        "\\ldots, \\\\\n",
        "0 \\\\\n",
        "\\end{bmatrix}\n",
        "$$"
      ]
    },
    {
      "cell_type": "markdown",
      "metadata": {
        "id": "K1g4Ype0UAv_"
      },
      "source": [
        " $$ \\bxt{motel}^T \\bxt{hotel} = \\bxt{motel}^T\\bxt{car}=0$$\n",
        "\n",
        "There is no notion of similarity and vectors are very long--size of $|V|$."
      ]
    },
    {
      "cell_type": "markdown",
      "metadata": {
        "id": "2PBoDSWzUAv_"
      },
      "source": [
        "# The Distributional Hypothesis\n",
        "\n",
        "<div align='center'><img src=\"./figs/firth.png?raw=1\" width='10%' ></div>\n",
        "    \n",
        "Stated by J. R. Firth (1957) as:\n",
        "\n",
        "> \"You shall know a word by the company it keeps\"\n",
        "\n",
        "Distributional statistics have a striking ability to capture lexical semantic relationships such as **analogies**."
      ]
    },
    {
      "cell_type": "markdown",
      "metadata": {
        "id": "3NJvorCCUAv_"
      },
      "source": [
        "# Distributional statistics and unsupervised learning\n",
        "\n",
        "The distributional hypothesis has stood the test of time:\n",
        "- distributional statistics are a core part of language technology today\n",
        "- they make it possible to leverage large amounts of **unlabeled data** to learn about rare words that do not appear in labeled training data"
      ]
    },
    {
      "cell_type": "markdown",
      "metadata": {
        "id": "wF2cPoZJUAv_"
      },
      "source": [
        "# The meaning of the word `tezguino`"
      ]
    },
    {
      "cell_type": "markdown",
      "metadata": {
        "id": "VjO0MFSDUAv_"
      },
      "source": [
        "<div align='center'><img src=\"./figs/tezguino.png?raw=1\" width='45%' ></div>"
      ]
    },
    {
      "cell_type": "markdown",
      "metadata": {
        "id": "4r5TluwPUAv_"
      },
      "source": [
        "# The context plays a big role\n",
        "\n",
        "We evince that `tezguino` may be an **alcoholic beverage made from corn mash.**\n",
        "\n",
        "<div align='center'><img src=\"./figs/tezguino.png?raw=1\" width='45%' ></div>"
      ]
    },
    {
      "cell_type": "markdown",
      "metadata": {
        "cell_style": "split",
        "id": "7_SF6Zy7UAwA"
      },
      "source": [
        "# Long, Sparse\n",
        "\n",
        "- One-Hot Encoding\n",
        "- TF-IDF\n",
        "- Term-Document matrix\n",
        "- PPMI (Point-wise Mutual Information)"
      ]
    },
    {
      "cell_type": "markdown",
      "metadata": {
        "cell_style": "split",
        "id": "N2YjdWaqUAwA"
      },
      "source": [
        "# Short, Dense\n",
        "\n",
        "- Latent Semantic Analysis (LSA)\n",
        "- word2vec"
      ]
    },
    {
      "cell_type": "markdown",
      "metadata": {
        "id": "IAfB2lOGUAwA"
      },
      "source": [
        "# Long, Sparse: Term-Document Matrix"
      ]
    },
    {
      "cell_type": "markdown",
      "metadata": {
        "id": "nLCCjsMPUAwA"
      },
      "source": [
        "```python\n",
        "corpus = [\n",
        "    'This document is the second document.', #document 0\n",
        "    'And this is the third one.',            #document 1\n",
        "    'Is this the first document?',           #document 2\n",
        "]\n",
        "```"
      ]
    },
    {
      "cell_type": "code",
      "execution_count": null,
      "metadata": {
        "id": "kat_LX_rUAwA",
        "run_control": {
          "marked": false
        }
      },
      "outputs": [],
      "source": [
        "from sklearn.feature_extraction.text import CountVectorizer\n",
        "corpus = [\n",
        "    'This document is the second document.', #0\n",
        "    'And this is the third one.',            #1\n",
        "    'Is this the first document?',           #2\n",
        "]\n",
        "vectorizer = CountVectorizer()\n",
        "X = vectorizer.fit_transform(corpus)\n",
        "td_matrix=pd.DataFrame(data=X.todense(),\n",
        "             index=[f'doc-{i}' for i in range(X.shape[0])],\n",
        "             columns=vectorizer.get_feature_names_out(),)"
      ]
    },
    {
      "cell_type": "markdown",
      "metadata": {
        "id": "Ph2mr9QHUAwA",
        "variables": {
          "td_matrix": "<p><strong>NameError</strong>: name &#39;td_matrix&#39; is not defined</p>\n"
        }
      },
      "source": [
        "# Term-Document Matrix\n",
        "\n",
        "$|V|=9$ is the vocabulary size and $|D|=3$ is the number of documents\n",
        "\n",
        "$$ \\text{count}(t,d)\\quad  t \\in V$$"
      ]
    },
    {
      "cell_type": "code",
      "execution_count": null,
      "metadata": {
        "colab": {
          "base_uri": "https://localhost:8080/",
          "height": 143
        },
        "id": "FdyLHVmwWVcv",
        "outputId": "f7037f30-5a69-42e0-9c21-9a3b158f9c2c"
      },
      "outputs": [
        {
          "data": {
            "application/vnd.google.colaboratory.intrinsic+json": {
              "summary": "{\n  \"name\": \"td_matrix\",\n  \"rows\": 3,\n  \"fields\": [\n    {\n      \"column\": \"and\",\n      \"properties\": {\n        \"dtype\": \"number\",\n        \"std\": 0,\n        \"min\": 0,\n        \"max\": 1,\n        \"num_unique_values\": 2,\n        \"samples\": [\n          1,\n          0\n        ],\n        \"semantic_type\": \"\",\n        \"description\": \"\"\n      }\n    },\n    {\n      \"column\": \"document\",\n      \"properties\": {\n        \"dtype\": \"number\",\n        \"std\": 1,\n        \"min\": 0,\n        \"max\": 2,\n        \"num_unique_values\": 3,\n        \"samples\": [\n          2,\n          0\n        ],\n        \"semantic_type\": \"\",\n        \"description\": \"\"\n      }\n    },\n    {\n      \"column\": \"first\",\n      \"properties\": {\n        \"dtype\": \"number\",\n        \"std\": 0,\n        \"min\": 0,\n        \"max\": 1,\n        \"num_unique_values\": 2,\n        \"samples\": [\n          1,\n          0\n        ],\n        \"semantic_type\": \"\",\n        \"description\": \"\"\n      }\n    },\n    {\n      \"column\": \"is\",\n      \"properties\": {\n        \"dtype\": \"number\",\n        \"std\": 0,\n        \"min\": 1,\n        \"max\": 1,\n        \"num_unique_values\": 1,\n        \"samples\": [\n          1\n        ],\n        \"semantic_type\": \"\",\n        \"description\": \"\"\n      }\n    },\n    {\n      \"column\": \"one\",\n      \"properties\": {\n        \"dtype\": \"number\",\n        \"std\": 0,\n        \"min\": 0,\n        \"max\": 1,\n        \"num_unique_values\": 2,\n        \"samples\": [\n          1\n        ],\n        \"semantic_type\": \"\",\n        \"description\": \"\"\n      }\n    },\n    {\n      \"column\": \"second\",\n      \"properties\": {\n        \"dtype\": \"number\",\n        \"std\": 0,\n        \"min\": 0,\n        \"max\": 1,\n        \"num_unique_values\": 2,\n        \"samples\": [\n          0\n        ],\n        \"semantic_type\": \"\",\n        \"description\": \"\"\n      }\n    },\n    {\n      \"column\": \"the\",\n      \"properties\": {\n        \"dtype\": \"number\",\n        \"std\": 0,\n        \"min\": 1,\n        \"max\": 1,\n        \"num_unique_values\": 1,\n        \"samples\": [\n          1\n        ],\n        \"semantic_type\": \"\",\n        \"description\": \"\"\n      }\n    },\n    {\n      \"column\": \"third\",\n      \"properties\": {\n        \"dtype\": \"number\",\n        \"std\": 0,\n        \"min\": 0,\n        \"max\": 1,\n        \"num_unique_values\": 2,\n        \"samples\": [\n          1\n        ],\n        \"semantic_type\": \"\",\n        \"description\": \"\"\n      }\n    },\n    {\n      \"column\": \"this\",\n      \"properties\": {\n        \"dtype\": \"number\",\n        \"std\": 0,\n        \"min\": 1,\n        \"max\": 1,\n        \"num_unique_values\": 1,\n        \"samples\": [\n          1\n        ],\n        \"semantic_type\": \"\",\n        \"description\": \"\"\n      }\n    }\n  ]\n}",
              "type": "dataframe",
              "variable_name": "td_matrix"
            },
            "text/html": [
              "\n",
              "  <div id=\"df-728578a7-aa6a-4f77-9262-00493703b3be\" class=\"colab-df-container\">\n",
              "    <div>\n",
              "<style scoped>\n",
              "    .dataframe tbody tr th:only-of-type {\n",
              "        vertical-align: middle;\n",
              "    }\n",
              "\n",
              "    .dataframe tbody tr th {\n",
              "        vertical-align: top;\n",
              "    }\n",
              "\n",
              "    .dataframe thead th {\n",
              "        text-align: right;\n",
              "    }\n",
              "</style>\n",
              "<table border=\"1\" class=\"dataframe\">\n",
              "  <thead>\n",
              "    <tr style=\"text-align: center;\">\n",
              "      <th></th>\n",
              "      <th>and</th>\n",
              "      <th>document</th>\n",
              "      <th>first</th>\n",
              "      <th>is</th>\n",
              "      <th>one</th>\n",
              "      <th>second</th>\n",
              "      <th>the</th>\n",
              "      <th>third</th>\n",
              "      <th>this</th>\n",
              "    </tr>\n",
              "  </thead>\n",
              "  <tbody>\n",
              "    <tr>\n",
              "      <th>doc-0</th>\n",
              "      <td>0</td>\n",
              "      <td>2</td>\n",
              "      <td>0</td>\n",
              "      <td>1</td>\n",
              "      <td>0</td>\n",
              "      <td>1</td>\n",
              "      <td>1</td>\n",
              "      <td>0</td>\n",
              "      <td>1</td>\n",
              "    </tr>\n",
              "    <tr>\n",
              "      <th>doc-1</th>\n",
              "      <td>1</td>\n",
              "      <td>0</td>\n",
              "      <td>0</td>\n",
              "      <td>1</td>\n",
              "      <td>1</td>\n",
              "      <td>0</td>\n",
              "      <td>1</td>\n",
              "      <td>1</td>\n",
              "      <td>1</td>\n",
              "    </tr>\n",
              "    <tr>\n",
              "      <th>doc-2</th>\n",
              "      <td>0</td>\n",
              "      <td>1</td>\n",
              "      <td>1</td>\n",
              "      <td>1</td>\n",
              "      <td>0</td>\n",
              "      <td>0</td>\n",
              "      <td>1</td>\n",
              "      <td>0</td>\n",
              "      <td>1</td>\n",
              "    </tr>\n",
              "  </tbody>\n",
              "</table>\n",
              "</div>\n",
              "    <div class=\"colab-df-buttons\">\n",
              "\n",
              "  <div class=\"colab-df-container\">\n",
              "    <button class=\"colab-df-convert\" onclick=\"convertToInteractive('df-728578a7-aa6a-4f77-9262-00493703b3be')\"\n",
              "            title=\"Convert this dataframe to an interactive table.\"\n",
              "            style=\"display:none;\">\n",
              "\n",
              "  <svg xmlns=\"http://www.w3.org/2000/svg\" height=\"24px\" viewBox=\"0 -960 960 960\">\n",
              "    <path d=\"M120-120v-720h720v720H120Zm60-500h600v-160H180v160Zm220 220h160v-160H400v160Zm0 220h160v-160H400v160ZM180-400h160v-160H180v160Zm440 0h160v-160H620v160ZM180-180h160v-160H180v160Zm440 0h160v-160H620v160Z\"/>\n",
              "  </svg>\n",
              "    </button>\n",
              "\n",
              "  <style>\n",
              "    .colab-df-container {\n",
              "      display:flex;\n",
              "      gap: 12px;\n",
              "    }\n",
              "\n",
              "    .colab-df-convert {\n",
              "      background-color: #E8F0FE;\n",
              "      border: none;\n",
              "      border-radius: 50%;\n",
              "      cursor: pointer;\n",
              "      display: none;\n",
              "      fill: #1967D2;\n",
              "      height: 32px;\n",
              "      padding: 0 0 0 0;\n",
              "      width: 32px;\n",
              "    }\n",
              "\n",
              "    .colab-df-convert:hover {\n",
              "      background-color: #E2EBFA;\n",
              "      box-shadow: 0px 1px 2px rgba(60, 64, 67, 0.3), 0px 1px 3px 1px rgba(60, 64, 67, 0.15);\n",
              "      fill: #174EA6;\n",
              "    }\n",
              "\n",
              "    .colab-df-buttons div {\n",
              "      margin-bottom: 4px;\n",
              "    }\n",
              "\n",
              "    [theme=dark] .colab-df-convert {\n",
              "      background-color: #3B4455;\n",
              "      fill: #D2E3FC;\n",
              "    }\n",
              "\n",
              "    [theme=dark] .colab-df-convert:hover {\n",
              "      background-color: #434B5C;\n",
              "      box-shadow: 0px 1px 3px 1px rgba(0, 0, 0, 0.15);\n",
              "      filter: drop-shadow(0px 1px 2px rgba(0, 0, 0, 0.3));\n",
              "      fill: #FFFFFF;\n",
              "    }\n",
              "  </style>\n",
              "\n",
              "    <script>\n",
              "      const buttonEl =\n",
              "        document.querySelector('#df-728578a7-aa6a-4f77-9262-00493703b3be button.colab-df-convert');\n",
              "      buttonEl.style.display =\n",
              "        google.colab.kernel.accessAllowed ? 'block' : 'none';\n",
              "\n",
              "      async function convertToInteractive(key) {\n",
              "        const element = document.querySelector('#df-728578a7-aa6a-4f77-9262-00493703b3be');\n",
              "        const dataTable =\n",
              "          await google.colab.kernel.invokeFunction('convertToInteractive',\n",
              "                                                    [key], {});\n",
              "        if (!dataTable) return;\n",
              "\n",
              "        const docLinkHtml = 'Like what you see? Visit the ' +\n",
              "          '<a target=\"_blank\" href=https://colab.research.google.com/notebooks/data_table.ipynb>data table notebook</a>'\n",
              "          + ' to learn more about interactive tables.';\n",
              "        element.innerHTML = '';\n",
              "        dataTable['output_type'] = 'display_data';\n",
              "        await google.colab.output.renderOutput(dataTable, element);\n",
              "        const docLink = document.createElement('div');\n",
              "        docLink.innerHTML = docLinkHtml;\n",
              "        element.appendChild(docLink);\n",
              "      }\n",
              "    </script>\n",
              "  </div>\n",
              "\n",
              "\n",
              "<div id=\"df-73c3473b-eae2-4d1d-b9cf-d1037fc401de\">\n",
              "  <button class=\"colab-df-quickchart\" onclick=\"quickchart('df-73c3473b-eae2-4d1d-b9cf-d1037fc401de')\"\n",
              "            title=\"Suggest charts\"\n",
              "            style=\"display:none;\">\n",
              "\n",
              "<svg xmlns=\"http://www.w3.org/2000/svg\" height=\"24px\"viewBox=\"0 0 24 24\"\n",
              "     width=\"24px\">\n",
              "    <g>\n",
              "        <path d=\"M19 3H5c-1.1 0-2 .9-2 2v14c0 1.1.9 2 2 2h14c1.1 0 2-.9 2-2V5c0-1.1-.9-2-2-2zM9 17H7v-7h2v7zm4 0h-2V7h2v10zm4 0h-2v-4h2v4z\"/>\n",
              "    </g>\n",
              "</svg>\n",
              "  </button>\n",
              "\n",
              "<style>\n",
              "  .colab-df-quickchart {\n",
              "      --bg-color: #E8F0FE;\n",
              "      --fill-color: #1967D2;\n",
              "      --hover-bg-color: #E2EBFA;\n",
              "      --hover-fill-color: #174EA6;\n",
              "      --disabled-fill-color: #AAA;\n",
              "      --disabled-bg-color: #DDD;\n",
              "  }\n",
              "\n",
              "  [theme=dark] .colab-df-quickchart {\n",
              "      --bg-color: #3B4455;\n",
              "      --fill-color: #D2E3FC;\n",
              "      --hover-bg-color: #434B5C;\n",
              "      --hover-fill-color: #FFFFFF;\n",
              "      --disabled-bg-color: #3B4455;\n",
              "      --disabled-fill-color: #666;\n",
              "  }\n",
              "\n",
              "  .colab-df-quickchart {\n",
              "    background-color: var(--bg-color);\n",
              "    border: none;\n",
              "    border-radius: 50%;\n",
              "    cursor: pointer;\n",
              "    display: none;\n",
              "    fill: var(--fill-color);\n",
              "    height: 32px;\n",
              "    padding: 0;\n",
              "    width: 32px;\n",
              "  }\n",
              "\n",
              "  .colab-df-quickchart:hover {\n",
              "    background-color: var(--hover-bg-color);\n",
              "    box-shadow: 0 1px 2px rgba(60, 64, 67, 0.3), 0 1px 3px 1px rgba(60, 64, 67, 0.15);\n",
              "    fill: var(--button-hover-fill-color);\n",
              "  }\n",
              "\n",
              "  .colab-df-quickchart-complete:disabled,\n",
              "  .colab-df-quickchart-complete:disabled:hover {\n",
              "    background-color: var(--disabled-bg-color);\n",
              "    fill: var(--disabled-fill-color);\n",
              "    box-shadow: none;\n",
              "  }\n",
              "\n",
              "  .colab-df-spinner {\n",
              "    border: 2px solid var(--fill-color);\n",
              "    border-color: transparent;\n",
              "    border-bottom-color: var(--fill-color);\n",
              "    animation:\n",
              "      spin 1s steps(1) infinite;\n",
              "  }\n",
              "\n",
              "  @keyframes spin {\n",
              "    0% {\n",
              "      border-color: transparent;\n",
              "      border-bottom-color: var(--fill-color);\n",
              "      border-left-color: var(--fill-color);\n",
              "    }\n",
              "    20% {\n",
              "      border-color: transparent;\n",
              "      border-left-color: var(--fill-color);\n",
              "      border-top-color: var(--fill-color);\n",
              "    }\n",
              "    30% {\n",
              "      border-color: transparent;\n",
              "      border-left-color: var(--fill-color);\n",
              "      border-top-color: var(--fill-color);\n",
              "      border-right-color: var(--fill-color);\n",
              "    }\n",
              "    40% {\n",
              "      border-color: transparent;\n",
              "      border-right-color: var(--fill-color);\n",
              "      border-top-color: var(--fill-color);\n",
              "    }\n",
              "    60% {\n",
              "      border-color: transparent;\n",
              "      border-right-color: var(--fill-color);\n",
              "    }\n",
              "    80% {\n",
              "      border-color: transparent;\n",
              "      border-right-color: var(--fill-color);\n",
              "      border-bottom-color: var(--fill-color);\n",
              "    }\n",
              "    90% {\n",
              "      border-color: transparent;\n",
              "      border-bottom-color: var(--fill-color);\n",
              "    }\n",
              "  }\n",
              "</style>\n",
              "\n",
              "  <script>\n",
              "    async function quickchart(key) {\n",
              "      const quickchartButtonEl =\n",
              "        document.querySelector('#' + key + ' button');\n",
              "      quickchartButtonEl.disabled = true;  // To prevent multiple clicks.\n",
              "      quickchartButtonEl.classList.add('colab-df-spinner');\n",
              "      try {\n",
              "        const charts = await google.colab.kernel.invokeFunction(\n",
              "            'suggestCharts', [key], {});\n",
              "      } catch (error) {\n",
              "        console.error('Error during call to suggestCharts:', error);\n",
              "      }\n",
              "      quickchartButtonEl.classList.remove('colab-df-spinner');\n",
              "      quickchartButtonEl.classList.add('colab-df-quickchart-complete');\n",
              "    }\n",
              "    (() => {\n",
              "      let quickchartButtonEl =\n",
              "        document.querySelector('#df-73c3473b-eae2-4d1d-b9cf-d1037fc401de button');\n",
              "      quickchartButtonEl.style.display =\n",
              "        google.colab.kernel.accessAllowed ? 'block' : 'none';\n",
              "    })();\n",
              "  </script>\n",
              "</div>\n",
              "    </div>\n",
              "  </div>\n"
            ],
            "text/plain": [
              "       and  document  first  is  one  second  the  third  this\n",
              "doc-0   0       2       0     1   0      1     1     0      1 \n",
              "doc-1   1       0       0     1   1      0     1     1      1 \n",
              "doc-2   0       1       1     1   0      0     1     0      1 "
            ]
          },
          "execution_count": 5,
          "metadata": {},
          "output_type": "execute_result"
        }
      ],
      "source": [
        "td_matrix"
      ]
    },
    {
      "cell_type": "markdown",
      "metadata": {
        "id": "iHwV3FuRWWiH"
      },
      "source": [
        "You can interpret it two ways:\n",
        "1. $|D|=3$ documents vectors that lives in a $|V|$ dimensional space (row-wise)\n",
        "    - An axis of the space indicates a **word**\n",
        "2. $V$ word vectors that lives in a $|D|=3$ dimensional space (column-wise)\n",
        "    - An axis of the space indicates a **document**"
      ]
    },
    {
      "cell_type": "markdown",
      "metadata": {
        "id": "23uclpRBUAwA"
      },
      "source": [
        "# Long, Sparse: TF-IDF Matrix"
      ]
    },
    {
      "cell_type": "code",
      "execution_count": null,
      "metadata": {
        "id": "RNDmaZAlUAwA",
        "run_control": {
          "marked": false
        }
      },
      "outputs": [],
      "source": [
        "from sklearn.feature_extraction.text import TfidfVectorizer\n",
        "corpus = [\n",
        "    'This document is the second document.', #0\n",
        "    'And this is the third one.',            #1\n",
        "    'Is this the first document?',           #2\n",
        "]\n",
        "vectorizer = TfidfVectorizer()\n",
        "X = vectorizer.fit_transform(corpus)\n",
        "tfidf_matrix=pd.DataFrame(data=X.todense(),\n",
        "             index=[f'doc-{i}' for i in range(X.shape[0])],\n",
        "             columns=vectorizer.get_feature_names_out(),)"
      ]
    },
    {
      "cell_type": "markdown",
      "metadata": {
        "id": "W9lAPjkPUAwA",
        "variables": {
          "tfidf_matrix": "<p><strong>NameError</strong>: name &#39;tfidf_matrix&#39; is not defined</p>\n"
        }
      },
      "source": [
        "# TF-IDF Matrix\n",
        "\n",
        "$$\\text{tf}(t,d) = \\log_{10}\\big(\\text{count}(t,d)+1\\big)\\quad \\text{idf}(t) = \\log_{10}\\Big(\\frac{|D|}{\\text{df(t)}}\\Big)\\quad  df(t)= \\sum_{d=1}^{|D|} \\mathbb{1}[t \\in d] $$\n",
        "\n",
        "$$ \\text{w}(t,d) \\doteq \\text{tf}(t,d) \\cdot \\text{idf}(t)   $$"
      ]
    },
    {
      "cell_type": "code",
      "execution_count": null,
      "metadata": {
        "colab": {
          "base_uri": "https://localhost:8080/",
          "height": 143
        },
        "id": "eoD2gtOVW1on",
        "outputId": "513db980-7702-42c8-eb15-b744b7f86abc"
      },
      "outputs": [
        {
          "data": {
            "application/vnd.google.colaboratory.intrinsic+json": {
              "summary": "{\n  \"name\": \"tfidf_matrix\",\n  \"rows\": 3,\n  \"fields\": [\n    {\n      \"column\": \"and\",\n      \"properties\": {\n        \"dtype\": \"number\",\n        \"std\": 0.2870123319813255,\n        \"min\": 0.0,\n        \"max\": 0.49711994139048143,\n        \"num_unique_values\": 2,\n        \"samples\": [\n          0.49711994139048143,\n          0.0\n        ],\n        \"semantic_type\": \"\",\n        \"description\": \"\"\n      }\n    },\n    {\n      \"column\": \"document\",\n      \"properties\": {\n        \"dtype\": \"number\",\n        \"std\": 0.3692514631101606,\n        \"min\": 0.0,\n        \"max\": 0.7284448965638161,\n        \"num_unique_values\": 3,\n        \"samples\": [\n          0.7284448965638161,\n          0.0\n        ],\n        \"semantic_type\": \"\",\n        \"description\": \"\"\n      }\n    },\n    {\n      \"column\": \"first\",\n      \"properties\": {\n        \"dtype\": \"number\",\n        \"std\": 0.3563563579476069,\n        \"min\": 0.0,\n        \"max\": 0.6172273175654565,\n        \"num_unique_values\": 2,\n        \"samples\": [\n          0.6172273175654565,\n          0.0\n        ],\n        \"semantic_type\": \"\",\n        \"description\": \"\"\n      }\n    },\n    {\n      \"column\": \"is\",\n      \"properties\": {\n        \"dtype\": \"number\",\n        \"std\": 0.044387630146623114,\n        \"min\": 0.2828512224204681,\n        \"max\": 0.3645443967613799,\n        \"num_unique_values\": 3,\n        \"samples\": [\n          0.2828512224204681,\n          0.2936070455647438\n        ],\n        \"semantic_type\": \"\",\n        \"description\": \"\"\n      }\n    },\n    {\n      \"column\": \"one\",\n      \"properties\": {\n        \"dtype\": \"number\",\n        \"std\": 0.2870123319813255,\n        \"min\": 0.0,\n        \"max\": 0.49711994139048143,\n        \"num_unique_values\": 2,\n        \"samples\": [\n          0.49711994139048143,\n          0.0\n        ],\n        \"semantic_type\": \"\",\n        \"description\": \"\"\n      }\n    },\n    {\n      \"column\": \"second\",\n      \"properties\": {\n        \"dtype\": \"number\",\n        \"std\": 0.27649809559071215,\n        \"min\": 0.0,\n        \"max\": 0.47890874975914965,\n        \"num_unique_values\": 2,\n        \"samples\": [\n          0.0,\n          0.47890874975914965\n        ],\n        \"semantic_type\": \"\",\n        \"description\": \"\"\n      }\n    },\n    {\n      \"column\": \"the\",\n      \"properties\": {\n        \"dtype\": \"number\",\n        \"std\": 0.044387630146623114,\n        \"min\": 0.2828512224204681,\n        \"max\": 0.3645443967613799,\n        \"num_unique_values\": 3,\n        \"samples\": [\n          0.2828512224204681,\n          0.2936070455647438\n        ],\n        \"semantic_type\": \"\",\n        \"description\": \"\"\n      }\n    },\n    {\n      \"column\": \"third\",\n      \"properties\": {\n        \"dtype\": \"number\",\n        \"std\": 0.2870123319813255,\n        \"min\": 0.0,\n        \"max\": 0.49711994139048143,\n        \"num_unique_values\": 2,\n        \"samples\": [\n          0.49711994139048143,\n          0.0\n        ],\n        \"semantic_type\": \"\",\n        \"description\": \"\"\n      }\n    },\n    {\n      \"column\": \"this\",\n      \"properties\": {\n        \"dtype\": \"number\",\n        \"std\": 0.044387630146623114,\n        \"min\": 0.2828512224204681,\n        \"max\": 0.3645443967613799,\n        \"num_unique_values\": 3,\n        \"samples\": [\n          0.2828512224204681,\n          0.2936070455647438\n        ],\n        \"semantic_type\": \"\",\n        \"description\": \"\"\n      }\n    }\n  ]\n}",
              "type": "dataframe",
              "variable_name": "tfidf_matrix"
            },
            "text/html": [
              "\n",
              "  <div id=\"df-23001a99-b6a2-4a1d-a5a8-0b0ca3e76665\" class=\"colab-df-container\">\n",
              "    <div>\n",
              "<style scoped>\n",
              "    .dataframe tbody tr th:only-of-type {\n",
              "        vertical-align: middle;\n",
              "    }\n",
              "\n",
              "    .dataframe tbody tr th {\n",
              "        vertical-align: top;\n",
              "    }\n",
              "\n",
              "    .dataframe thead th {\n",
              "        text-align: right;\n",
              "    }\n",
              "</style>\n",
              "<table border=\"1\" class=\"dataframe\">\n",
              "  <thead>\n",
              "    <tr style=\"text-align: center;\">\n",
              "      <th></th>\n",
              "      <th>and</th>\n",
              "      <th>document</th>\n",
              "      <th>first</th>\n",
              "      <th>is</th>\n",
              "      <th>one</th>\n",
              "      <th>second</th>\n",
              "      <th>the</th>\n",
              "      <th>third</th>\n",
              "      <th>this</th>\n",
              "    </tr>\n",
              "  </thead>\n",
              "  <tbody>\n",
              "    <tr>\n",
              "      <th>doc-0</th>\n",
              "      <td>0.00000</td>\n",
              "      <td>0.728445</td>\n",
              "      <td>0.000000</td>\n",
              "      <td>0.282851</td>\n",
              "      <td>0.00000</td>\n",
              "      <td>0.478909</td>\n",
              "      <td>0.282851</td>\n",
              "      <td>0.00000</td>\n",
              "      <td>0.282851</td>\n",
              "    </tr>\n",
              "    <tr>\n",
              "      <th>doc-1</th>\n",
              "      <td>0.49712</td>\n",
              "      <td>0.000000</td>\n",
              "      <td>0.000000</td>\n",
              "      <td>0.293607</td>\n",
              "      <td>0.49712</td>\n",
              "      <td>0.000000</td>\n",
              "      <td>0.293607</td>\n",
              "      <td>0.49712</td>\n",
              "      <td>0.293607</td>\n",
              "    </tr>\n",
              "    <tr>\n",
              "      <th>doc-2</th>\n",
              "      <td>0.00000</td>\n",
              "      <td>0.469417</td>\n",
              "      <td>0.617227</td>\n",
              "      <td>0.364544</td>\n",
              "      <td>0.00000</td>\n",
              "      <td>0.000000</td>\n",
              "      <td>0.364544</td>\n",
              "      <td>0.00000</td>\n",
              "      <td>0.364544</td>\n",
              "    </tr>\n",
              "  </tbody>\n",
              "</table>\n",
              "</div>\n",
              "    <div class=\"colab-df-buttons\">\n",
              "\n",
              "  <div class=\"colab-df-container\">\n",
              "    <button class=\"colab-df-convert\" onclick=\"convertToInteractive('df-23001a99-b6a2-4a1d-a5a8-0b0ca3e76665')\"\n",
              "            title=\"Convert this dataframe to an interactive table.\"\n",
              "            style=\"display:none;\">\n",
              "\n",
              "  <svg xmlns=\"http://www.w3.org/2000/svg\" height=\"24px\" viewBox=\"0 -960 960 960\">\n",
              "    <path d=\"M120-120v-720h720v720H120Zm60-500h600v-160H180v160Zm220 220h160v-160H400v160Zm0 220h160v-160H400v160ZM180-400h160v-160H180v160Zm440 0h160v-160H620v160ZM180-180h160v-160H180v160Zm440 0h160v-160H620v160Z\"/>\n",
              "  </svg>\n",
              "    </button>\n",
              "\n",
              "  <style>\n",
              "    .colab-df-container {\n",
              "      display:flex;\n",
              "      gap: 12px;\n",
              "    }\n",
              "\n",
              "    .colab-df-convert {\n",
              "      background-color: #E8F0FE;\n",
              "      border: none;\n",
              "      border-radius: 50%;\n",
              "      cursor: pointer;\n",
              "      display: none;\n",
              "      fill: #1967D2;\n",
              "      height: 32px;\n",
              "      padding: 0 0 0 0;\n",
              "      width: 32px;\n",
              "    }\n",
              "\n",
              "    .colab-df-convert:hover {\n",
              "      background-color: #E2EBFA;\n",
              "      box-shadow: 0px 1px 2px rgba(60, 64, 67, 0.3), 0px 1px 3px 1px rgba(60, 64, 67, 0.15);\n",
              "      fill: #174EA6;\n",
              "    }\n",
              "\n",
              "    .colab-df-buttons div {\n",
              "      margin-bottom: 4px;\n",
              "    }\n",
              "\n",
              "    [theme=dark] .colab-df-convert {\n",
              "      background-color: #3B4455;\n",
              "      fill: #D2E3FC;\n",
              "    }\n",
              "\n",
              "    [theme=dark] .colab-df-convert:hover {\n",
              "      background-color: #434B5C;\n",
              "      box-shadow: 0px 1px 3px 1px rgba(0, 0, 0, 0.15);\n",
              "      filter: drop-shadow(0px 1px 2px rgba(0, 0, 0, 0.3));\n",
              "      fill: #FFFFFF;\n",
              "    }\n",
              "  </style>\n",
              "\n",
              "    <script>\n",
              "      const buttonEl =\n",
              "        document.querySelector('#df-23001a99-b6a2-4a1d-a5a8-0b0ca3e76665 button.colab-df-convert');\n",
              "      buttonEl.style.display =\n",
              "        google.colab.kernel.accessAllowed ? 'block' : 'none';\n",
              "\n",
              "      async function convertToInteractive(key) {\n",
              "        const element = document.querySelector('#df-23001a99-b6a2-4a1d-a5a8-0b0ca3e76665');\n",
              "        const dataTable =\n",
              "          await google.colab.kernel.invokeFunction('convertToInteractive',\n",
              "                                                    [key], {});\n",
              "        if (!dataTable) return;\n",
              "\n",
              "        const docLinkHtml = 'Like what you see? Visit the ' +\n",
              "          '<a target=\"_blank\" href=https://colab.research.google.com/notebooks/data_table.ipynb>data table notebook</a>'\n",
              "          + ' to learn more about interactive tables.';\n",
              "        element.innerHTML = '';\n",
              "        dataTable['output_type'] = 'display_data';\n",
              "        await google.colab.output.renderOutput(dataTable, element);\n",
              "        const docLink = document.createElement('div');\n",
              "        docLink.innerHTML = docLinkHtml;\n",
              "        element.appendChild(docLink);\n",
              "      }\n",
              "    </script>\n",
              "  </div>\n",
              "\n",
              "\n",
              "<div id=\"df-a13dc3e5-ecaf-4d40-8c3d-8971d26d3b34\">\n",
              "  <button class=\"colab-df-quickchart\" onclick=\"quickchart('df-a13dc3e5-ecaf-4d40-8c3d-8971d26d3b34')\"\n",
              "            title=\"Suggest charts\"\n",
              "            style=\"display:none;\">\n",
              "\n",
              "<svg xmlns=\"http://www.w3.org/2000/svg\" height=\"24px\"viewBox=\"0 0 24 24\"\n",
              "     width=\"24px\">\n",
              "    <g>\n",
              "        <path d=\"M19 3H5c-1.1 0-2 .9-2 2v14c0 1.1.9 2 2 2h14c1.1 0 2-.9 2-2V5c0-1.1-.9-2-2-2zM9 17H7v-7h2v7zm4 0h-2V7h2v10zm4 0h-2v-4h2v4z\"/>\n",
              "    </g>\n",
              "</svg>\n",
              "  </button>\n",
              "\n",
              "<style>\n",
              "  .colab-df-quickchart {\n",
              "      --bg-color: #E8F0FE;\n",
              "      --fill-color: #1967D2;\n",
              "      --hover-bg-color: #E2EBFA;\n",
              "      --hover-fill-color: #174EA6;\n",
              "      --disabled-fill-color: #AAA;\n",
              "      --disabled-bg-color: #DDD;\n",
              "  }\n",
              "\n",
              "  [theme=dark] .colab-df-quickchart {\n",
              "      --bg-color: #3B4455;\n",
              "      --fill-color: #D2E3FC;\n",
              "      --hover-bg-color: #434B5C;\n",
              "      --hover-fill-color: #FFFFFF;\n",
              "      --disabled-bg-color: #3B4455;\n",
              "      --disabled-fill-color: #666;\n",
              "  }\n",
              "\n",
              "  .colab-df-quickchart {\n",
              "    background-color: var(--bg-color);\n",
              "    border: none;\n",
              "    border-radius: 50%;\n",
              "    cursor: pointer;\n",
              "    display: none;\n",
              "    fill: var(--fill-color);\n",
              "    height: 32px;\n",
              "    padding: 0;\n",
              "    width: 32px;\n",
              "  }\n",
              "\n",
              "  .colab-df-quickchart:hover {\n",
              "    background-color: var(--hover-bg-color);\n",
              "    box-shadow: 0 1px 2px rgba(60, 64, 67, 0.3), 0 1px 3px 1px rgba(60, 64, 67, 0.15);\n",
              "    fill: var(--button-hover-fill-color);\n",
              "  }\n",
              "\n",
              "  .colab-df-quickchart-complete:disabled,\n",
              "  .colab-df-quickchart-complete:disabled:hover {\n",
              "    background-color: var(--disabled-bg-color);\n",
              "    fill: var(--disabled-fill-color);\n",
              "    box-shadow: none;\n",
              "  }\n",
              "\n",
              "  .colab-df-spinner {\n",
              "    border: 2px solid var(--fill-color);\n",
              "    border-color: transparent;\n",
              "    border-bottom-color: var(--fill-color);\n",
              "    animation:\n",
              "      spin 1s steps(1) infinite;\n",
              "  }\n",
              "\n",
              "  @keyframes spin {\n",
              "    0% {\n",
              "      border-color: transparent;\n",
              "      border-bottom-color: var(--fill-color);\n",
              "      border-left-color: var(--fill-color);\n",
              "    }\n",
              "    20% {\n",
              "      border-color: transparent;\n",
              "      border-left-color: var(--fill-color);\n",
              "      border-top-color: var(--fill-color);\n",
              "    }\n",
              "    30% {\n",
              "      border-color: transparent;\n",
              "      border-left-color: var(--fill-color);\n",
              "      border-top-color: var(--fill-color);\n",
              "      border-right-color: var(--fill-color);\n",
              "    }\n",
              "    40% {\n",
              "      border-color: transparent;\n",
              "      border-right-color: var(--fill-color);\n",
              "      border-top-color: var(--fill-color);\n",
              "    }\n",
              "    60% {\n",
              "      border-color: transparent;\n",
              "      border-right-color: var(--fill-color);\n",
              "    }\n",
              "    80% {\n",
              "      border-color: transparent;\n",
              "      border-right-color: var(--fill-color);\n",
              "      border-bottom-color: var(--fill-color);\n",
              "    }\n",
              "    90% {\n",
              "      border-color: transparent;\n",
              "      border-bottom-color: var(--fill-color);\n",
              "    }\n",
              "  }\n",
              "</style>\n",
              "\n",
              "  <script>\n",
              "    async function quickchart(key) {\n",
              "      const quickchartButtonEl =\n",
              "        document.querySelector('#' + key + ' button');\n",
              "      quickchartButtonEl.disabled = true;  // To prevent multiple clicks.\n",
              "      quickchartButtonEl.classList.add('colab-df-spinner');\n",
              "      try {\n",
              "        const charts = await google.colab.kernel.invokeFunction(\n",
              "            'suggestCharts', [key], {});\n",
              "      } catch (error) {\n",
              "        console.error('Error during call to suggestCharts:', error);\n",
              "      }\n",
              "      quickchartButtonEl.classList.remove('colab-df-spinner');\n",
              "      quickchartButtonEl.classList.add('colab-df-quickchart-complete');\n",
              "    }\n",
              "    (() => {\n",
              "      let quickchartButtonEl =\n",
              "        document.querySelector('#df-a13dc3e5-ecaf-4d40-8c3d-8971d26d3b34 button');\n",
              "      quickchartButtonEl.style.display =\n",
              "        google.colab.kernel.accessAllowed ? 'block' : 'none';\n",
              "    })();\n",
              "  </script>\n",
              "</div>\n",
              "    </div>\n",
              "  </div>\n"
            ],
            "text/plain": [
              "         and    document    first      is       one     second      the    \\\n",
              "doc-0  0.00000  0.728445  0.000000  0.282851  0.00000  0.478909  0.282851   \n",
              "doc-1  0.49712  0.000000  0.000000  0.293607  0.49712  0.000000  0.293607   \n",
              "doc-2  0.00000  0.469417  0.617227  0.364544  0.00000  0.000000  0.364544   \n",
              "\n",
              "        third     this    \n",
              "doc-0  0.00000  0.282851  \n",
              "doc-1  0.49712  0.293607  \n",
              "doc-2  0.00000  0.364544  "
            ]
          },
          "execution_count": 7,
          "metadata": {},
          "output_type": "execute_result"
        }
      ],
      "source": [
        "tfidf_matrix"
      ]
    },
    {
      "cell_type": "markdown",
      "metadata": {
        "id": "mCLG8i0AUAwA"
      },
      "source": [
        "# How do we go Short and Dense?\n",
        "\n",
        "> \"You shall know a word by the company it keeps\"\n",
        "\n",
        "**Word embeddings (dense)** are estimated by **optimizing some objective**: the reconstruction of a matrix of context count or the likelihood of a set of unlabeled data.\n",
        "\n",
        "1. **[Latent Semantic Analysis (LSA)]** Factorize your count matrix $\\mbf{X}$ by minimizing its reconstruction $|| \\mbf{X} - \\mbf{X}(\\mbf{u},\\mbf{v})||_F$ and learning $\\mbf{u}$ document embedding and $\\mbf{v}$ word embedding\n",
        "2. **[Word2vec]** we optimize the likelihood-based optimization of a model that encodes word embeddings over a corpus of training data with self-supervision.\n"
      ]
    },
    {
      "cell_type": "markdown",
      "metadata": {
        "id": "uvFD9pbEUAwA"
      },
      "source": [
        "# Latent Semantic Analysis (LSA)\n",
        "\n",
        "Sometimes it is called *Latent Semantic Indexing (LSI)*"
      ]
    },
    {
      "cell_type": "markdown",
      "metadata": {
        "id": "r_6wiTP-UAwA"
      },
      "source": [
        "# Latent Semantic Analysis (LSA)\n",
        "\n",
        "It is related to different concept of machine learning and unsupervised learning\n",
        "\n",
        "- Eigendecomposition and Singular Value Decomposition (SVD)\n",
        "- Dimensionality reduction (I have features in $N$ dimensional space I want to reduce it to $M$ dimensions $M\\ll N$)\n",
        "- **Finding latent topics in text in an unsupervised way**\n",
        "- From long, sparse representation to **short, dense**"
      ]
    },
    {
      "cell_type": "markdown",
      "metadata": {
        "id": "8BuK2zBaUAwB"
      },
      "source": [
        "# Decompose a matrix\n",
        "\n",
        "Assume $\\mathbf{X}$ is your term-document or tf-idf matrix computed over a corpus.\n",
        "\n",
        "$\\mathbf{X}$ dimension is $|D| \\times |V|$ so it captures some form of correlation between:\n",
        " - term vs term in a vector space defined by documents\n",
        " - document vs document in a vector space define by terms\n",
        "\n",
        "**Key idea 1:** Assume there are $k$ hidden topics that we do not know about, but seek for discovering them in unsupervised way.\n",
        "\n",
        "**Key idea 2:** Do not look at  $\\mathbf{X}$ simply as raw data yet decompose it in a way that **the decomposition gives you information and imposes constraints.**"
      ]
    },
    {
      "cell_type": "markdown",
      "metadata": {
        "id": "FXGhc-6lUAwB"
      },
      "source": [
        "# Decompose with SVD (Singular Value Decomposition)\n",
        "\n",
        "For now we simply seek to decompose $\\mathbf{X} = \\mathbf{U}\\mathbf{S}\\mathbf{V}^{\\top}$"
      ]
    },
    {
      "cell_type": "markdown",
      "metadata": {
        "id": "Q1ES22WbUAwB"
      },
      "source": [
        "$\\mathbf{X} \\in \\mathbb{R}^{|D| \\times |V|} \\qquad = \\qquad {\\mathbf{U} \\in \\mathbb{R}^{|D| \\times |D|}, ~~\\mathbf{S} \\in \\mathbb{R}^{|D| \\times |V|},~~ \\mathbf{V} \\in \\mathbb{R}^{|V| \\times |V|}}$\n",
        "\n",
        "<br>\n",
        "\n",
        "$$\n",
        "\\begin{equation}\n",
        "\\begin{aligned}\n",
        "\\arg\\min_{\\mathbf{U},\\mathbf{S},\\mathbf{V}}  & \\left\\|\\mathbf{X}-\\mathbf{U S V}^{\\top}\\right\\|_F \\\\\n",
        "\\text { s.t. } & \\mathbf{U}^{\\top} \\mathbf{U}=\\text{Id} \\quad \\mathbf{V}^{\\top} \\mathbf{V}=\\text{Id} \\\\\n",
        "& \\mathbf{S}=\\text{diag}(\\lambda_1,....\\lambda_s)\\\\\n",
        "& \\text{we seek  }  \\mathbf{U}\\mathbf{S}\\mathbf{V}^{\\top} \\text{to be low-rank}\n",
        "\\end{aligned}\n",
        "\\end{equation}\n",
        "$$"
      ]
    },
    {
      "cell_type": "markdown",
      "metadata": {
        "id": "bCAXtFc1UAwB"
      },
      "source": [
        "##### Property\n",
        "- $\\mathbf{U}^{\\top} \\mathbf{U}=\\text{Id}$ **orthonormality constraints** that all pairs of dimensions in U and V are uncorrelated, so that each dimension conveys unique information\n",
        "- $\\mbf{S}$ is a diagonal matrix containing the ordered singular values (denote the **importance** of each axis in the new  space)"
      ]
    },
    {
      "cell_type": "markdown",
      "metadata": {
        "id": "jWP5DGbFUAwB"
      },
      "source": [
        "# SVD Visually\n",
        "\n",
        "<div align='center'><img src=\"./figs/tsvd.png?raw=1\" width='65%' ></div>"
      ]
    },
    {
      "cell_type": "markdown",
      "metadata": {
        "id": "reOOYAz7UAwB"
      },
      "source": [
        "# Low-rank approximation of the data with Truncated SVD\n",
        "\n",
        "**Key idea:** We assume there might be $k \\ll D$ latent topics in your data matrix $\\mbf{X}$.\n",
        "- We use **SVD** but now approximate $\\mbf{X}$ by **just considering the highest singular values**\n",
        "- In some sense, it is a way of saying we consider most of the variations in the data;\n",
        "- small variations may be related to noise and so we \"throw them away\".\n",
        "\n",
        "$$\\mbf{X} \\approx \\mbf{X}_k = \\mbf{U_k S_k V_k}^{\\top}$$\n",
        "<br><br><br>\n",
        "<div align='center'><img src=\"./figs/mysvd.png?raw=1\" width='65%' ></div>"
      ]
    },
    {
      "cell_type": "markdown",
      "metadata": {
        "id": "w8TdGfTtUAwB"
      },
      "source": [
        "# Truncated SVD - Low-rank approximation\n",
        "\n",
        "<div align='center'><img src=\"./figs/tsvd2.png?raw=1\" width='75%' ></div>"
      ]
    },
    {
      "cell_type": "code",
      "execution_count": null,
      "metadata": {
        "id": "XGDPSPAzUAwB"
      },
      "outputs": [],
      "source": [
        "from sklearn.datasets import fetch_20newsgroups\n",
        "categories = ['alt.atheism', 'talk.religion.misc', 'comp.graphics', 'sci.space']\n",
        "remove = ('headers', 'footers', 'quotes')\n",
        "newsgroups_train = fetch_20newsgroups(subset='train', categories=categories, remove=remove)\n",
        "newsgroups_test = fetch_20newsgroups(subset='test', categories=categories, remove=remove)"
      ]
    },
    {
      "cell_type": "markdown",
      "metadata": {
        "id": "hvZyqZ_KUAwB"
      },
      "source": [
        "# Let's look at the data\n",
        "\n",
        "- Newsgroup text from the '90s (internet was not there yet)\n",
        "- We have the **categories** but $\\underline{\\text{we set them aside from the algorithm}}$\n",
        "- We assume **we do NOT know the categories of the text**\n",
        "    - We seek to recover them in an unsupervised way\n",
        "Categories are `alt.atheism comp.graphics sci.space talk.religion.misc`\n",
        "\n",
        "```python\n",
        "from sklearn.datasets import fetch_20newsgroups\n",
        "categories = ['alt.atheism', 'talk.religion.misc', 'comp.graphics', 'sci.space']\n",
        "remove = ('headers', 'footers', 'quotes')\n",
        "newsgroups_train = fetch_20newsgroups(subset='train', categories=categories, remove=remove)\n",
        "newsgroups_test = fetch_20newsgroups(subset='test', categories=categories, remove=remove)\n",
        "```"
      ]
    },
    {
      "cell_type": "code",
      "execution_count": null,
      "metadata": {
        "colab": {
          "base_uri": "https://localhost:8080/"
        },
        "hide_input": true,
        "id": "58D8r-KxUAwB",
        "outputId": "03dca1a9-57ba-4a1c-b577-86c8392174cb"
      },
      "outputs": [
        {
          "name": "stdout",
          "output_type": "stream",
          "text": [
            "Hi,\n",
            "\n",
            "I've noticed that if you only save a model (with all your mapping planes\n",
            "positioned carefully) to a .3DS file that when you reload it after restarting\n",
            "3DS, they are given a default position and orientation.  But if you save\n",
            "to a .PRJ file their positions/orientation are preserved.  Does anyone\n",
            "know why this information is not stored in the .3DS file?  Nothing is\n",
            "explicitly said in the manual about saving texture rules in the .PRJ file. \n",
            "I'd like to be able to read the texture rule information, does anyone have \n",
            "the format for the .PRJ file?\n",
            "\n",
            "Is the .CEL file format available from somewhere?\n",
            "\n",
            "Rych\n",
            "====================================================================================================\n",
            "\n",
            "\n",
            "Seems to be, barring evidence to the contrary, that Koresh was simply\n",
            "another deranged fanatic who thought it neccessary to take a whole bunch of\n",
            "folks with him, children and all, to satisfy his delusional mania. Jim\n",
            "Jones, circa 1993.\n",
            "\n",
            "\n",
            "Nope - fruitcakes like Koresh have been demonstrating such evil corruption\n",
            "for centuries.\n",
            "====================================================================================================\n",
            "\n",
            " >In article <1993Apr19.020359.26996@sq.sq.com>, msb@sq.sq.com (Mark Brader) \n",
            "\n",
            "MB>                                                             So the\n",
            "MB> 1970 figure seems unlikely to actually be anything but a perijove.\n",
            "\n",
            "JG>Sorry, _perijoves_...I'm not used to talking this language.\n",
            "\n",
            "Couldn't we just say periapsis or apoapsis?\n",
            "\n",
            " \n"
          ]
        }
      ],
      "source": [
        "print(*newsgroups_train.data[:3], sep='\\n'+'=='*50+'\\n')"
      ]
    },
    {
      "cell_type": "markdown",
      "metadata": {
        "id": "4UYsxu07UAwB"
      },
      "source": [
        "# From raw text to Term-Document Matrix"
      ]
    },
    {
      "cell_type": "markdown",
      "metadata": {
        "id": "xtnqprLuUAwB"
      },
      "source": [
        "# From raw text to Term-Document Matrix\n",
        "\n",
        "```python\n",
        "from sklearn.feature_extraction.text import CountVectorizer\n",
        "count_vect = CountVectorizer(stop_words='english')\n",
        "X_train_counts = count_vect.fit_transform(newsgroups_train.data)\n",
        "X_train_counts.shape # (documents, vocab)\n",
        "```"
      ]
    },
    {
      "cell_type": "code",
      "execution_count": null,
      "metadata": {
        "colab": {
          "base_uri": "https://localhost:8080/"
        },
        "id": "USp89OCIUAwB",
        "outputId": "d1a56b1d-0851-4461-f282-4268fe7e4211"
      },
      "outputs": [
        {
          "name": "stdout",
          "output_type": "stream",
          "text": [
            "We have 2034 documents and a vocabulary of size 26576\n"
          ]
        }
      ],
      "source": [
        "from sklearn.feature_extraction.text import CountVectorizer\n",
        "count_vect = CountVectorizer(stop_words='english')\n",
        "X_train_counts = count_vect.fit_transform(newsgroups_train.data)\n",
        "dims = X_train_counts.shape # (documents, vocab)\n",
        "print(f'We have {dims[0]} documents and a vocabulary of size {dims[1]}')"
      ]
    },
    {
      "cell_type": "markdown",
      "metadata": {
        "id": "pWzpHUOAUAwC"
      },
      "source": [
        "# Term-Document Matrix Shape\n",
        "\n",
        "X_train_counts shape is (2034, 26576)\n",
        "\n",
        "- 2034 individual documents (in this case newsgroup posts)\n",
        "- 26576 the number of terms (i.e. vocabulary size $|V|$)\n",
        "- Note that `X_train_counts` is modeled as a sparse matrix `scipy.sparse._csr.csr_matrix`\n",
        "\n",
        "Let us see a few $k=10$ random words from the vocabulary:"
      ]
    },
    {
      "cell_type": "code",
      "execution_count": null,
      "metadata": {
        "colab": {
          "base_uri": "https://localhost:8080/"
        },
        "id": "kS9D9_A5ZIun",
        "outputId": "90db5fcb-87c5-4d72-dc6a-bba653348e36"
      },
      "outputs": [
        {
          "data": {
            "text/plain": [
              "['specs',\n",
              " 'regularity',\n",
              " 'gillespie',\n",
              " 'convienent',\n",
              " 'ite',\n",
              " 'friends',\n",
              " 'rom',\n",
              " 'devotion',\n",
              " 'imaging',\n",
              " 'mayer']"
            ]
          },
          "execution_count": 18,
          "metadata": {},
          "output_type": "execute_result"
        }
      ],
      "source": [
        "random.seed(0)\n",
        "random.choices(count_vect.get_feature_names_out(), k=10) #k is the number of samples"
      ]
    },
    {
      "cell_type": "code",
      "execution_count": null,
      "metadata": {
        "colab": {
          "base_uri": "https://localhost:8080/",
          "height": 424
        },
        "id": "ncAja6F6UAwC",
        "outputId": "63d435c8-41a5-4658-9985-bf98f1fe8022"
      },
      "outputs": [
        {
          "data": {
            "application/vnd.google.colaboratory.intrinsic+json": {
              "type": "dataframe",
              "variable_name": "td_matrix"
            },
            "text/html": [
              "\n",
              "  <div id=\"df-a6458430-ad5f-4983-b0a2-967b200a2fec\" class=\"colab-df-container\">\n",
              "    <div>\n",
              "<style scoped>\n",
              "    .dataframe tbody tr th:only-of-type {\n",
              "        vertical-align: middle;\n",
              "    }\n",
              "\n",
              "    .dataframe tbody tr th {\n",
              "        vertical-align: top;\n",
              "    }\n",
              "\n",
              "    .dataframe thead th {\n",
              "        text-align: right;\n",
              "    }\n",
              "</style>\n",
              "<table border=\"1\" class=\"dataframe\">\n",
              "  <thead>\n",
              "    <tr style=\"text-align: center;\">\n",
              "      <th></th>\n",
              "      <th>00</th>\n",
              "      <th>000</th>\n",
              "      <th>0000</th>\n",
              "      <th>00000</th>\n",
              "      <th>000000</th>\n",
              "      <th>000005102000</th>\n",
              "      <th>000062david42</th>\n",
              "      <th>0001</th>\n",
              "      <th>000100255pixel</th>\n",
              "      <th>00041032</th>\n",
              "      <th>...</th>\n",
              "      <th>zurich</th>\n",
              "      <th>zurvanism</th>\n",
              "      <th>zus</th>\n",
              "      <th>zvi</th>\n",
              "      <th>zwaartepunten</th>\n",
              "      <th>zwak</th>\n",
              "      <th>zwakke</th>\n",
              "      <th>zware</th>\n",
              "      <th>zwarte</th>\n",
              "      <th>zyxel</th>\n",
              "    </tr>\n",
              "  </thead>\n",
              "  <tbody>\n",
              "    <tr>\n",
              "      <th>0</th>\n",
              "      <td>0</td>\n",
              "      <td>0</td>\n",
              "      <td>0</td>\n",
              "      <td>0</td>\n",
              "      <td>0</td>\n",
              "      <td>0</td>\n",
              "      <td>0</td>\n",
              "      <td>0</td>\n",
              "      <td>0</td>\n",
              "      <td>0</td>\n",
              "      <td>...</td>\n",
              "      <td>0</td>\n",
              "      <td>0</td>\n",
              "      <td>0</td>\n",
              "      <td>0</td>\n",
              "      <td>0</td>\n",
              "      <td>0</td>\n",
              "      <td>0</td>\n",
              "      <td>0</td>\n",
              "      <td>0</td>\n",
              "      <td>0</td>\n",
              "    </tr>\n",
              "    <tr>\n",
              "      <th>1</th>\n",
              "      <td>0</td>\n",
              "      <td>0</td>\n",
              "      <td>0</td>\n",
              "      <td>0</td>\n",
              "      <td>0</td>\n",
              "      <td>0</td>\n",
              "      <td>0</td>\n",
              "      <td>0</td>\n",
              "      <td>0</td>\n",
              "      <td>0</td>\n",
              "      <td>...</td>\n",
              "      <td>0</td>\n",
              "      <td>0</td>\n",
              "      <td>0</td>\n",
              "      <td>0</td>\n",
              "      <td>0</td>\n",
              "      <td>0</td>\n",
              "      <td>0</td>\n",
              "      <td>0</td>\n",
              "      <td>0</td>\n",
              "      <td>0</td>\n",
              "    </tr>\n",
              "    <tr>\n",
              "      <th>2</th>\n",
              "      <td>0</td>\n",
              "      <td>0</td>\n",
              "      <td>0</td>\n",
              "      <td>0</td>\n",
              "      <td>0</td>\n",
              "      <td>0</td>\n",
              "      <td>0</td>\n",
              "      <td>0</td>\n",
              "      <td>0</td>\n",
              "      <td>0</td>\n",
              "      <td>...</td>\n",
              "      <td>0</td>\n",
              "      <td>0</td>\n",
              "      <td>0</td>\n",
              "      <td>0</td>\n",
              "      <td>0</td>\n",
              "      <td>0</td>\n",
              "      <td>0</td>\n",
              "      <td>0</td>\n",
              "      <td>0</td>\n",
              "      <td>0</td>\n",
              "    </tr>\n",
              "    <tr>\n",
              "      <th>3</th>\n",
              "      <td>0</td>\n",
              "      <td>0</td>\n",
              "      <td>0</td>\n",
              "      <td>0</td>\n",
              "      <td>0</td>\n",
              "      <td>0</td>\n",
              "      <td>0</td>\n",
              "      <td>0</td>\n",
              "      <td>0</td>\n",
              "      <td>0</td>\n",
              "      <td>...</td>\n",
              "      <td>0</td>\n",
              "      <td>0</td>\n",
              "      <td>0</td>\n",
              "      <td>0</td>\n",
              "      <td>0</td>\n",
              "      <td>0</td>\n",
              "      <td>0</td>\n",
              "      <td>0</td>\n",
              "      <td>0</td>\n",
              "      <td>0</td>\n",
              "    </tr>\n",
              "    <tr>\n",
              "      <th>4</th>\n",
              "      <td>0</td>\n",
              "      <td>0</td>\n",
              "      <td>0</td>\n",
              "      <td>0</td>\n",
              "      <td>0</td>\n",
              "      <td>0</td>\n",
              "      <td>0</td>\n",
              "      <td>0</td>\n",
              "      <td>0</td>\n",
              "      <td>0</td>\n",
              "      <td>...</td>\n",
              "      <td>0</td>\n",
              "      <td>0</td>\n",
              "      <td>0</td>\n",
              "      <td>0</td>\n",
              "      <td>0</td>\n",
              "      <td>0</td>\n",
              "      <td>0</td>\n",
              "      <td>0</td>\n",
              "      <td>0</td>\n",
              "      <td>0</td>\n",
              "    </tr>\n",
              "    <tr>\n",
              "      <th>...</th>\n",
              "      <td>...</td>\n",
              "      <td>...</td>\n",
              "      <td>...</td>\n",
              "      <td>...</td>\n",
              "      <td>...</td>\n",
              "      <td>...</td>\n",
              "      <td>...</td>\n",
              "      <td>...</td>\n",
              "      <td>...</td>\n",
              "      <td>...</td>\n",
              "      <td>...</td>\n",
              "      <td>...</td>\n",
              "      <td>...</td>\n",
              "      <td>...</td>\n",
              "      <td>...</td>\n",
              "      <td>...</td>\n",
              "      <td>...</td>\n",
              "      <td>...</td>\n",
              "      <td>...</td>\n",
              "      <td>...</td>\n",
              "      <td>...</td>\n",
              "    </tr>\n",
              "    <tr>\n",
              "      <th>2029</th>\n",
              "      <td>0</td>\n",
              "      <td>0</td>\n",
              "      <td>0</td>\n",
              "      <td>0</td>\n",
              "      <td>0</td>\n",
              "      <td>0</td>\n",
              "      <td>0</td>\n",
              "      <td>0</td>\n",
              "      <td>0</td>\n",
              "      <td>0</td>\n",
              "      <td>...</td>\n",
              "      <td>0</td>\n",
              "      <td>0</td>\n",
              "      <td>0</td>\n",
              "      <td>0</td>\n",
              "      <td>0</td>\n",
              "      <td>0</td>\n",
              "      <td>0</td>\n",
              "      <td>0</td>\n",
              "      <td>0</td>\n",
              "      <td>0</td>\n",
              "    </tr>\n",
              "    <tr>\n",
              "      <th>2030</th>\n",
              "      <td>0</td>\n",
              "      <td>0</td>\n",
              "      <td>0</td>\n",
              "      <td>0</td>\n",
              "      <td>0</td>\n",
              "      <td>0</td>\n",
              "      <td>0</td>\n",
              "      <td>0</td>\n",
              "      <td>0</td>\n",
              "      <td>0</td>\n",
              "      <td>...</td>\n",
              "      <td>0</td>\n",
              "      <td>0</td>\n",
              "      <td>0</td>\n",
              "      <td>0</td>\n",
              "      <td>0</td>\n",
              "      <td>0</td>\n",
              "      <td>0</td>\n",
              "      <td>0</td>\n",
              "      <td>0</td>\n",
              "      <td>0</td>\n",
              "    </tr>\n",
              "    <tr>\n",
              "      <th>2031</th>\n",
              "      <td>0</td>\n",
              "      <td>0</td>\n",
              "      <td>0</td>\n",
              "      <td>0</td>\n",
              "      <td>0</td>\n",
              "      <td>0</td>\n",
              "      <td>0</td>\n",
              "      <td>0</td>\n",
              "      <td>0</td>\n",
              "      <td>0</td>\n",
              "      <td>...</td>\n",
              "      <td>0</td>\n",
              "      <td>0</td>\n",
              "      <td>0</td>\n",
              "      <td>0</td>\n",
              "      <td>0</td>\n",
              "      <td>0</td>\n",
              "      <td>0</td>\n",
              "      <td>0</td>\n",
              "      <td>0</td>\n",
              "      <td>0</td>\n",
              "    </tr>\n",
              "    <tr>\n",
              "      <th>2032</th>\n",
              "      <td>0</td>\n",
              "      <td>0</td>\n",
              "      <td>0</td>\n",
              "      <td>0</td>\n",
              "      <td>0</td>\n",
              "      <td>0</td>\n",
              "      <td>0</td>\n",
              "      <td>0</td>\n",
              "      <td>0</td>\n",
              "      <td>0</td>\n",
              "      <td>...</td>\n",
              "      <td>0</td>\n",
              "      <td>0</td>\n",
              "      <td>0</td>\n",
              "      <td>0</td>\n",
              "      <td>0</td>\n",
              "      <td>0</td>\n",
              "      <td>0</td>\n",
              "      <td>0</td>\n",
              "      <td>0</td>\n",
              "      <td>0</td>\n",
              "    </tr>\n",
              "    <tr>\n",
              "      <th>2033</th>\n",
              "      <td>0</td>\n",
              "      <td>0</td>\n",
              "      <td>0</td>\n",
              "      <td>0</td>\n",
              "      <td>0</td>\n",
              "      <td>0</td>\n",
              "      <td>0</td>\n",
              "      <td>0</td>\n",
              "      <td>0</td>\n",
              "      <td>0</td>\n",
              "      <td>...</td>\n",
              "      <td>0</td>\n",
              "      <td>0</td>\n",
              "      <td>0</td>\n",
              "      <td>0</td>\n",
              "      <td>0</td>\n",
              "      <td>0</td>\n",
              "      <td>0</td>\n",
              "      <td>0</td>\n",
              "      <td>0</td>\n",
              "      <td>0</td>\n",
              "    </tr>\n",
              "  </tbody>\n",
              "</table>\n",
              "<p>2034 rows × 26576 columns</p>\n",
              "</div>\n",
              "    <div class=\"colab-df-buttons\">\n",
              "\n",
              "  <div class=\"colab-df-container\">\n",
              "    <button class=\"colab-df-convert\" onclick=\"convertToInteractive('df-a6458430-ad5f-4983-b0a2-967b200a2fec')\"\n",
              "            title=\"Convert this dataframe to an interactive table.\"\n",
              "            style=\"display:none;\">\n",
              "\n",
              "  <svg xmlns=\"http://www.w3.org/2000/svg\" height=\"24px\" viewBox=\"0 -960 960 960\">\n",
              "    <path d=\"M120-120v-720h720v720H120Zm60-500h600v-160H180v160Zm220 220h160v-160H400v160Zm0 220h160v-160H400v160ZM180-400h160v-160H180v160Zm440 0h160v-160H620v160ZM180-180h160v-160H180v160Zm440 0h160v-160H620v160Z\"/>\n",
              "  </svg>\n",
              "    </button>\n",
              "\n",
              "  <style>\n",
              "    .colab-df-container {\n",
              "      display:flex;\n",
              "      gap: 12px;\n",
              "    }\n",
              "\n",
              "    .colab-df-convert {\n",
              "      background-color: #E8F0FE;\n",
              "      border: none;\n",
              "      border-radius: 50%;\n",
              "      cursor: pointer;\n",
              "      display: none;\n",
              "      fill: #1967D2;\n",
              "      height: 32px;\n",
              "      padding: 0 0 0 0;\n",
              "      width: 32px;\n",
              "    }\n",
              "\n",
              "    .colab-df-convert:hover {\n",
              "      background-color: #E2EBFA;\n",
              "      box-shadow: 0px 1px 2px rgba(60, 64, 67, 0.3), 0px 1px 3px 1px rgba(60, 64, 67, 0.15);\n",
              "      fill: #174EA6;\n",
              "    }\n",
              "\n",
              "    .colab-df-buttons div {\n",
              "      margin-bottom: 4px;\n",
              "    }\n",
              "\n",
              "    [theme=dark] .colab-df-convert {\n",
              "      background-color: #3B4455;\n",
              "      fill: #D2E3FC;\n",
              "    }\n",
              "\n",
              "    [theme=dark] .colab-df-convert:hover {\n",
              "      background-color: #434B5C;\n",
              "      box-shadow: 0px 1px 3px 1px rgba(0, 0, 0, 0.15);\n",
              "      filter: drop-shadow(0px 1px 2px rgba(0, 0, 0, 0.3));\n",
              "      fill: #FFFFFF;\n",
              "    }\n",
              "  </style>\n",
              "\n",
              "    <script>\n",
              "      const buttonEl =\n",
              "        document.querySelector('#df-a6458430-ad5f-4983-b0a2-967b200a2fec button.colab-df-convert');\n",
              "      buttonEl.style.display =\n",
              "        google.colab.kernel.accessAllowed ? 'block' : 'none';\n",
              "\n",
              "      async function convertToInteractive(key) {\n",
              "        const element = document.querySelector('#df-a6458430-ad5f-4983-b0a2-967b200a2fec');\n",
              "        const dataTable =\n",
              "          await google.colab.kernel.invokeFunction('convertToInteractive',\n",
              "                                                    [key], {});\n",
              "        if (!dataTable) return;\n",
              "\n",
              "        const docLinkHtml = 'Like what you see? Visit the ' +\n",
              "          '<a target=\"_blank\" href=https://colab.research.google.com/notebooks/data_table.ipynb>data table notebook</a>'\n",
              "          + ' to learn more about interactive tables.';\n",
              "        element.innerHTML = '';\n",
              "        dataTable['output_type'] = 'display_data';\n",
              "        await google.colab.output.renderOutput(dataTable, element);\n",
              "        const docLink = document.createElement('div');\n",
              "        docLink.innerHTML = docLinkHtml;\n",
              "        element.appendChild(docLink);\n",
              "      }\n",
              "    </script>\n",
              "  </div>\n",
              "\n",
              "\n",
              "<div id=\"df-abd9f178-889b-4ea7-9120-c29135106c33\">\n",
              "  <button class=\"colab-df-quickchart\" onclick=\"quickchart('df-abd9f178-889b-4ea7-9120-c29135106c33')\"\n",
              "            title=\"Suggest charts\"\n",
              "            style=\"display:none;\">\n",
              "\n",
              "<svg xmlns=\"http://www.w3.org/2000/svg\" height=\"24px\"viewBox=\"0 0 24 24\"\n",
              "     width=\"24px\">\n",
              "    <g>\n",
              "        <path d=\"M19 3H5c-1.1 0-2 .9-2 2v14c0 1.1.9 2 2 2h14c1.1 0 2-.9 2-2V5c0-1.1-.9-2-2-2zM9 17H7v-7h2v7zm4 0h-2V7h2v10zm4 0h-2v-4h2v4z\"/>\n",
              "    </g>\n",
              "</svg>\n",
              "  </button>\n",
              "\n",
              "<style>\n",
              "  .colab-df-quickchart {\n",
              "      --bg-color: #E8F0FE;\n",
              "      --fill-color: #1967D2;\n",
              "      --hover-bg-color: #E2EBFA;\n",
              "      --hover-fill-color: #174EA6;\n",
              "      --disabled-fill-color: #AAA;\n",
              "      --disabled-bg-color: #DDD;\n",
              "  }\n",
              "\n",
              "  [theme=dark] .colab-df-quickchart {\n",
              "      --bg-color: #3B4455;\n",
              "      --fill-color: #D2E3FC;\n",
              "      --hover-bg-color: #434B5C;\n",
              "      --hover-fill-color: #FFFFFF;\n",
              "      --disabled-bg-color: #3B4455;\n",
              "      --disabled-fill-color: #666;\n",
              "  }\n",
              "\n",
              "  .colab-df-quickchart {\n",
              "    background-color: var(--bg-color);\n",
              "    border: none;\n",
              "    border-radius: 50%;\n",
              "    cursor: pointer;\n",
              "    display: none;\n",
              "    fill: var(--fill-color);\n",
              "    height: 32px;\n",
              "    padding: 0;\n",
              "    width: 32px;\n",
              "  }\n",
              "\n",
              "  .colab-df-quickchart:hover {\n",
              "    background-color: var(--hover-bg-color);\n",
              "    box-shadow: 0 1px 2px rgba(60, 64, 67, 0.3), 0 1px 3px 1px rgba(60, 64, 67, 0.15);\n",
              "    fill: var(--button-hover-fill-color);\n",
              "  }\n",
              "\n",
              "  .colab-df-quickchart-complete:disabled,\n",
              "  .colab-df-quickchart-complete:disabled:hover {\n",
              "    background-color: var(--disabled-bg-color);\n",
              "    fill: var(--disabled-fill-color);\n",
              "    box-shadow: none;\n",
              "  }\n",
              "\n",
              "  .colab-df-spinner {\n",
              "    border: 2px solid var(--fill-color);\n",
              "    border-color: transparent;\n",
              "    border-bottom-color: var(--fill-color);\n",
              "    animation:\n",
              "      spin 1s steps(1) infinite;\n",
              "  }\n",
              "\n",
              "  @keyframes spin {\n",
              "    0% {\n",
              "      border-color: transparent;\n",
              "      border-bottom-color: var(--fill-color);\n",
              "      border-left-color: var(--fill-color);\n",
              "    }\n",
              "    20% {\n",
              "      border-color: transparent;\n",
              "      border-left-color: var(--fill-color);\n",
              "      border-top-color: var(--fill-color);\n",
              "    }\n",
              "    30% {\n",
              "      border-color: transparent;\n",
              "      border-left-color: var(--fill-color);\n",
              "      border-top-color: var(--fill-color);\n",
              "      border-right-color: var(--fill-color);\n",
              "    }\n",
              "    40% {\n",
              "      border-color: transparent;\n",
              "      border-right-color: var(--fill-color);\n",
              "      border-top-color: var(--fill-color);\n",
              "    }\n",
              "    60% {\n",
              "      border-color: transparent;\n",
              "      border-right-color: var(--fill-color);\n",
              "    }\n",
              "    80% {\n",
              "      border-color: transparent;\n",
              "      border-right-color: var(--fill-color);\n",
              "      border-bottom-color: var(--fill-color);\n",
              "    }\n",
              "    90% {\n",
              "      border-color: transparent;\n",
              "      border-bottom-color: var(--fill-color);\n",
              "    }\n",
              "  }\n",
              "</style>\n",
              "\n",
              "  <script>\n",
              "    async function quickchart(key) {\n",
              "      const quickchartButtonEl =\n",
              "        document.querySelector('#' + key + ' button');\n",
              "      quickchartButtonEl.disabled = true;  // To prevent multiple clicks.\n",
              "      quickchartButtonEl.classList.add('colab-df-spinner');\n",
              "      try {\n",
              "        const charts = await google.colab.kernel.invokeFunction(\n",
              "            'suggestCharts', [key], {});\n",
              "      } catch (error) {\n",
              "        console.error('Error during call to suggestCharts:', error);\n",
              "      }\n",
              "      quickchartButtonEl.classList.remove('colab-df-spinner');\n",
              "      quickchartButtonEl.classList.add('colab-df-quickchart-complete');\n",
              "    }\n",
              "    (() => {\n",
              "      let quickchartButtonEl =\n",
              "        document.querySelector('#df-abd9f178-889b-4ea7-9120-c29135106c33 button');\n",
              "      quickchartButtonEl.style.display =\n",
              "        google.colab.kernel.accessAllowed ? 'block' : 'none';\n",
              "    })();\n",
              "  </script>\n",
              "</div>\n",
              "    </div>\n",
              "  </div>\n"
            ],
            "text/plain": [
              "      00  000  0000  00000  000000  000005102000  000062david42  0001  \\\n",
              "0      0   0     0     0       0          0             0          0    \n",
              "1      0   0     0     0       0          0             0          0    \n",
              "2      0   0     0     0       0          0             0          0    \n",
              "3      0   0     0     0       0          0             0          0    \n",
              "4      0   0     0     0       0          0             0          0    \n",
              "...   ..  ...   ...    ...     ...           ...            ...   ...   \n",
              "2029   0   0     0     0       0          0             0          0    \n",
              "2030   0   0     0     0       0          0             0          0    \n",
              "2031   0   0     0     0       0          0             0          0    \n",
              "2032   0   0     0     0       0          0             0          0    \n",
              "2033   0   0     0     0       0          0             0          0    \n",
              "\n",
              "      000100255pixel  00041032  ...  zurich  zurvanism  zus  zvi  \\\n",
              "0            0            0     ...     0        0       0    0    \n",
              "1            0            0     ...     0        0       0    0    \n",
              "2            0            0     ...     0        0       0    0    \n",
              "3            0            0     ...     0        0       0    0    \n",
              "4            0            0     ...     0        0       0    0    \n",
              "...              ...       ...  ...     ...        ...  ...  ...   \n",
              "2029         0            0     ...     0        0       0    0    \n",
              "2030         0            0     ...     0        0       0    0    \n",
              "2031         0            0     ...     0        0       0    0    \n",
              "2032         0            0     ...     0        0       0    0    \n",
              "2033         0            0     ...     0        0       0    0    \n",
              "\n",
              "      zwaartepunten  zwak  zwakke  zware  zwarte  zyxel  \n",
              "0           0          0      0      0       0      0    \n",
              "1           0          0      0      0       0      0    \n",
              "2           0          0      0      0       0      0    \n",
              "3           0          0      0      0       0      0    \n",
              "4           0          0      0      0       0      0    \n",
              "...             ...   ...     ...    ...     ...    ...  \n",
              "2029        0          0      0      0       0      0    \n",
              "2030        0          0      0      0       0      0    \n",
              "2031        0          0      0      0       0      0    \n",
              "2032        0          0      0      0       0      0    \n",
              "2033        0          0      0      0       0      0    \n",
              "\n",
              "[2034 rows x 26576 columns]"
            ]
          },
          "execution_count": 20,
          "metadata": {},
          "output_type": "execute_result"
        }
      ],
      "source": [
        "td_matrix = pd.DataFrame(data=X_train_counts.todense(),\n",
        "                         index=range(X_train_counts.shape[0]),\n",
        "                         columns=count_vect.get_feature_names_out(),)\n",
        "\n",
        "td_matrix"
      ]
    },
    {
      "cell_type": "markdown",
      "metadata": {
        "id": "Qnylh7F1UAwC"
      },
      "source": [
        "# Sanity check and see the most frequent word"
      ]
    },
    {
      "cell_type": "code",
      "execution_count": null,
      "metadata": {
        "colab": {
          "base_uri": "https://localhost:8080/"
        },
        "id": "4o1ALbgsUAwC",
        "outputId": "afaa5149-5612-44ca-8d99-ecda5463799e"
      },
      "outputs": [
        {
          "name": "stdout",
          "output_type": "stream",
          "text": [
            "jpeg occurred 232 times\n"
          ]
        }
      ],
      "source": [
        "r, c = np.unravel_index(np.argmax(X_train_counts), X_train_counts.shape)\n",
        "print(count_vect.get_feature_names_out()[c], 'occurred', X_train_counts[r, c], 'times')"
      ]
    },
    {
      "cell_type": "code",
      "execution_count": null,
      "metadata": {
        "id": "hqK5e2PsUAwC"
      },
      "outputs": [],
      "source": [
        "#%time U, S, V = np.linalg.svd(X_train_counts.todense(), full_matrices=False)"
      ]
    },
    {
      "cell_type": "code",
      "execution_count": null,
      "metadata": {
        "id": "rpDMW8M3UAwC"
      },
      "outputs": [],
      "source": [
        "#%time Us, Ss, Vts = scipy.sparse.linalg.svds(X_train_counts.asfptype(), k=X_train_counts.shape[0]-1)"
      ]
    },
    {
      "cell_type": "code",
      "execution_count": null,
      "metadata": {
        "colab": {
          "base_uri": "https://localhost:8080/"
        },
        "id": "f_Z_dpyJUAwC",
        "outputId": "a0d966ab-5ba0-4583-f40c-8611b9d343ec"
      },
      "outputs": [
        {
          "name": "stdout",
          "output_type": "stream",
          "text": [
            "CPU times: user 54 ms, sys: 39.8 ms, total: 93.8 ms\n",
            "Wall time: 69.7 ms\n"
          ]
        }
      ],
      "source": [
        "%time Us, Ss, Vts = scipy.sparse.linalg.svds(X_train_counts.asfptype(), k=2)"
      ]
    },
    {
      "cell_type": "code",
      "execution_count": null,
      "metadata": {
        "colab": {
          "base_uri": "https://localhost:8080/"
        },
        "id": "FEQCkggYUAwC",
        "outputId": "1f857d0a-b9f1-4841-9fac-5110d4599dba",
        "run_control": {
          "marked": false
        }
      },
      "outputs": [
        {
          "name": "stdout",
          "output_type": "stream",
          "text": [
            "U =  (2034, 2) S =  (2,) V =  (2, 26576)\n"
          ]
        }
      ],
      "source": [
        "print(\"U = \", (Us.shape), \"S = \",  (Ss.shape), \"V = \",  (Vts.shape))"
      ]
    },
    {
      "cell_type": "markdown",
      "metadata": {
        "id": "5hnOsv3sUAwD",
        "variables": {
          "Ss": "<p><strong>NameError</strong>: name &#39;Ss&#39; is not defined</p>\n",
          "_=plt.bar([1,2],Ss)": "<p><strong>NameError</strong>: name &#39;plt&#39; is not defined</p>\n"
        }
      },
      "source": [
        "# 1. Singular Values give you the  \"topic\" importance"
      ]
    },
    {
      "cell_type": "code",
      "execution_count": null,
      "metadata": {
        "colab": {
          "base_uri": "https://localhost:8080/",
          "height": 430
        },
        "id": "-c8L2J_cZ6Hk",
        "outputId": "4b28f4cd-2578-421b-d734-d44bc6c48a50"
      },
      "outputs": [
        {
          "data": {
            "image/png": "[encoded data removed]",
            "text/plain": [
              "<Figure size 640x480 with 1 Axes>"
            ]
          },
          "metadata": {},
          "output_type": "display_data"
        }
      ],
      "source": [
        "plt.xticks([1,2]);\n",
        "plt.bar([1,2],Ss);"
      ]
    },
    {
      "cell_type": "markdown",
      "metadata": {
        "id": "UG-QPeKXUAwD"
      },
      "source": [
        "# 2. The embedding space ($k=2$)\n",
        "\n",
        "- Unlike before, it is now **continuous, short and dense**\n",
        "- The space encodes some notion of similarities between words\n",
        "- Cosine similarity makes more sense"
      ]
    },
    {
      "cell_type": "code",
      "execution_count": null,
      "metadata": {
        "colab": {
          "base_uri": "https://localhost:8080/",
          "height": 830
        },
        "hide_input": false,
        "id": "ee7mkqWFUAwD",
        "outputId": "834f3fc1-a647-492d-f960-6b11a3f11d73",
        "scrolled": true
      },
      "outputs": [
        {
          "data": {
            "image/png": "[encoded data removed]",
            "text/plain": [
              "<Figure size 1000x1000 with 1 Axes>"
            ]
          },
          "metadata": {},
          "output_type": "display_data"
        }
      ],
      "source": [
        "fig, ax = plt.subplots(figsize=(10,10))\n",
        "clip = 1\n",
        "ax.scatter(*-Vts);\n",
        "vocab = count_vect.get_feature_names_out()\n",
        "for count, ((x,y), txt) in enumerate(zip(-Vts.T, vocab)):\n",
        "    if np.linalg.norm([x,y]) > .5e-1:\n",
        "        ax.annotate(txt, (x+0.01, y))\n",
        "if clip:\n",
        "    #plt.ylim(-0.175, -0.030)\n",
        "    plt.ylim(0.05, 0.15)\n",
        "plt.grid('off')"
      ]
    },
    {
      "cell_type": "markdown",
      "metadata": {
        "id": "9j8-Xz8nUAwD"
      },
      "source": [
        "# 3. We can associate each new $k$ component (topic) with most important words\n",
        "\n",
        "<br><br>\n",
        "<div align='center'><img src=\"./figs/mysvd.png?raw=1\" width='65%' ></div>"
      ]
    },
    {
      "cell_type": "markdown",
      "metadata": {
        "id": "u3feLdY3UAwD"
      },
      "source": [
        "# 3. We can associate each new $k$ component (topic) with most important words using $\\mbf{V}_k$\n",
        "<br>\n",
        "<div align='center'><img src=\"./figs/mysvd2.png?raw=1\" width='35%' ></div>"
      ]
    },
    {
      "cell_type": "code",
      "execution_count": null,
      "metadata": {
        "id": "fueYVjfkUAwD"
      },
      "outputs": [],
      "source": [
        "k=0 #first component, first topic\n",
        "word_per_topic = 10\n",
        "topic = [vocab[idx_word] for idx_word in np.argsort(Vts[k,:])[:-word_per_topic-1:-1]]\n",
        "topic_weight = np.sort(Vts[k,:])[:-word_per_topic-1:-1]\n",
        "topic_neg = [vocab[idx_word] for idx_word in np.argsort(Vts[k,:])[:word_per_topic:]]\n",
        "#topic"
      ]
    },
    {
      "cell_type": "markdown",
      "metadata": {
        "id": "7cJmj6bNUAwD"
      },
      "source": [
        "# Topic $k=0$ associated with singular value $\\lambda_0$ = {{round(Ss[0])}}\n",
        "```python\n",
        "word_per_topic = 10\n",
        "topic = [vocab[idx_word] for idx_word in np.argsort(Vts[k,:])[:-word_per_topic-1:-1]]\n",
        "```"
      ]
    },
    {
      "cell_type": "code",
      "execution_count": null,
      "metadata": {
        "colab": {
          "base_uri": "https://localhost:8080/",
          "height": 81
        },
        "id": "r8SnkESfb3BG",
        "outputId": "cd15f55a-8ffa-403d-ad61-b1aeeb5bafbc"
      },
      "outputs": [
        {
          "data": {
            "application/vnd.google.colaboratory.intrinsic+json": {
              "summary": "{\n  \"name\": \"pd\",\n  \"rows\": 1,\n  \"fields\": [\n    {\n      \"column\": 0,\n      \"properties\": {\n        \"dtype\": \"string\",\n        \"num_unique_values\": 1,\n        \"samples\": [\n          \"jpeg\"\n        ],\n        \"semantic_type\": \"\",\n        \"description\": \"\"\n      }\n    },\n    {\n      \"column\": 1,\n      \"properties\": {\n        \"dtype\": \"string\",\n        \"num_unique_values\": 1,\n        \"samples\": [\n          \"gif\"\n        ],\n        \"semantic_type\": \"\",\n        \"description\": \"\"\n      }\n    },\n    {\n      \"column\": 2,\n      \"properties\": {\n        \"dtype\": \"string\",\n        \"num_unique_values\": 1,\n        \"samples\": [\n          \"file\"\n        ],\n        \"semantic_type\": \"\",\n        \"description\": \"\"\n      }\n    },\n    {\n      \"column\": 3,\n      \"properties\": {\n        \"dtype\": \"string\",\n        \"num_unique_values\": 1,\n        \"samples\": [\n          \"color\"\n        ],\n        \"semantic_type\": \"\",\n        \"description\": \"\"\n      }\n    },\n    {\n      \"column\": 4,\n      \"properties\": {\n        \"dtype\": \"string\",\n        \"num_unique_values\": 1,\n        \"samples\": [\n          \"quality\"\n        ],\n        \"semantic_type\": \"\",\n        \"description\": \"\"\n      }\n    },\n    {\n      \"column\": 5,\n      \"properties\": {\n        \"dtype\": \"string\",\n        \"num_unique_values\": 1,\n        \"samples\": [\n          \"image\"\n        ],\n        \"semantic_type\": \"\",\n        \"description\": \"\"\n      }\n    },\n    {\n      \"column\": 6,\n      \"properties\": {\n        \"dtype\": \"string\",\n        \"num_unique_values\": 1,\n        \"samples\": [\n          \"jfif\"\n        ],\n        \"semantic_type\": \"\",\n        \"description\": \"\"\n      }\n    },\n    {\n      \"column\": 7,\n      \"properties\": {\n        \"dtype\": \"string\",\n        \"num_unique_values\": 1,\n        \"samples\": [\n          \"format\"\n        ],\n        \"semantic_type\": \"\",\n        \"description\": \"\"\n      }\n    },\n    {\n      \"column\": 8,\n      \"properties\": {\n        \"dtype\": \"string\",\n        \"num_unique_values\": 1,\n        \"samples\": [\n          \"bit\"\n        ],\n        \"semantic_type\": \"\",\n        \"description\": \"\"\n      }\n    },\n    {\n      \"column\": 9,\n      \"properties\": {\n        \"dtype\": \"string\",\n        \"num_unique_values\": 1,\n        \"samples\": [\n          \"version\"\n        ],\n        \"semantic_type\": \"\",\n        \"description\": \"\"\n      }\n    }\n  ]\n}",
              "type": "dataframe"
            },
            "text/html": [
              "\n",
              "  <div id=\"df-df319244-e3eb-4cda-abd3-2abd68a3f811\" class=\"colab-df-container\">\n",
              "    <div>\n",
              "<style scoped>\n",
              "    .dataframe tbody tr th:only-of-type {\n",
              "        vertical-align: middle;\n",
              "    }\n",
              "\n",
              "    .dataframe tbody tr th {\n",
              "        vertical-align: top;\n",
              "    }\n",
              "\n",
              "    .dataframe thead th {\n",
              "        text-align: right;\n",
              "    }\n",
              "</style>\n",
              "<table border=\"1\" class=\"dataframe\">\n",
              "  <thead>\n",
              "    <tr style=\"text-align: center;\">\n",
              "      <th></th>\n",
              "      <th>0</th>\n",
              "      <th>1</th>\n",
              "      <th>2</th>\n",
              "      <th>3</th>\n",
              "      <th>4</th>\n",
              "      <th>5</th>\n",
              "      <th>6</th>\n",
              "      <th>7</th>\n",
              "      <th>8</th>\n",
              "      <th>9</th>\n",
              "    </tr>\n",
              "  </thead>\n",
              "  <tbody>\n",
              "    <tr>\n",
              "      <th>0</th>\n",
              "      <td>jpeg</td>\n",
              "      <td>gif</td>\n",
              "      <td>file</td>\n",
              "      <td>color</td>\n",
              "      <td>quality</td>\n",
              "      <td>image</td>\n",
              "      <td>jfif</td>\n",
              "      <td>format</td>\n",
              "      <td>bit</td>\n",
              "      <td>version</td>\n",
              "    </tr>\n",
              "  </tbody>\n",
              "</table>\n",
              "</div>\n",
              "    <div class=\"colab-df-buttons\">\n",
              "\n",
              "  <div class=\"colab-df-container\">\n",
              "    <button class=\"colab-df-convert\" onclick=\"convertToInteractive('df-df319244-e3eb-4cda-abd3-2abd68a3f811')\"\n",
              "            title=\"Convert this dataframe to an interactive table.\"\n",
              "            style=\"display:none;\">\n",
              "\n",
              "  <svg xmlns=\"http://www.w3.org/2000/svg\" height=\"24px\" viewBox=\"0 -960 960 960\">\n",
              "    <path d=\"M120-120v-720h720v720H120Zm60-500h600v-160H180v160Zm220 220h160v-160H400v160Zm0 220h160v-160H400v160ZM180-400h160v-160H180v160Zm440 0h160v-160H620v160ZM180-180h160v-160H180v160Zm440 0h160v-160H620v160Z\"/>\n",
              "  </svg>\n",
              "    </button>\n",
              "\n",
              "  <style>\n",
              "    .colab-df-container {\n",
              "      display:flex;\n",
              "      gap: 12px;\n",
              "    }\n",
              "\n",
              "    .colab-df-convert {\n",
              "      background-color: #E8F0FE;\n",
              "      border: none;\n",
              "      border-radius: 50%;\n",
              "      cursor: pointer;\n",
              "      display: none;\n",
              "      fill: #1967D2;\n",
              "      height: 32px;\n",
              "      padding: 0 0 0 0;\n",
              "      width: 32px;\n",
              "    }\n",
              "\n",
              "    .colab-df-convert:hover {\n",
              "      background-color: #E2EBFA;\n",
              "      box-shadow: 0px 1px 2px rgba(60, 64, 67, 0.3), 0px 1px 3px 1px rgba(60, 64, 67, 0.15);\n",
              "      fill: #174EA6;\n",
              "    }\n",
              "\n",
              "    .colab-df-buttons div {\n",
              "      margin-bottom: 4px;\n",
              "    }\n",
              "\n",
              "    [theme=dark] .colab-df-convert {\n",
              "      background-color: #3B4455;\n",
              "      fill: #D2E3FC;\n",
              "    }\n",
              "\n",
              "    [theme=dark] .colab-df-convert:hover {\n",
              "      background-color: #434B5C;\n",
              "      box-shadow: 0px 1px 3px 1px rgba(0, 0, 0, 0.15);\n",
              "      filter: drop-shadow(0px 1px 2px rgba(0, 0, 0, 0.3));\n",
              "      fill: #FFFFFF;\n",
              "    }\n",
              "  </style>\n",
              "\n",
              "    <script>\n",
              "      const buttonEl =\n",
              "        document.querySelector('#df-df319244-e3eb-4cda-abd3-2abd68a3f811 button.colab-df-convert');\n",
              "      buttonEl.style.display =\n",
              "        google.colab.kernel.accessAllowed ? 'block' : 'none';\n",
              "\n",
              "      async function convertToInteractive(key) {\n",
              "        const element = document.querySelector('#df-df319244-e3eb-4cda-abd3-2abd68a3f811');\n",
              "        const dataTable =\n",
              "          await google.colab.kernel.invokeFunction('convertToInteractive',\n",
              "                                                    [key], {});\n",
              "        if (!dataTable) return;\n",
              "\n",
              "        const docLinkHtml = 'Like what you see? Visit the ' +\n",
              "          '<a target=\"_blank\" href=https://colab.research.google.com/notebooks/data_table.ipynb>data table notebook</a>'\n",
              "          + ' to learn more about interactive tables.';\n",
              "        element.innerHTML = '';\n",
              "        dataTable['output_type'] = 'display_data';\n",
              "        await google.colab.output.renderOutput(dataTable, element);\n",
              "        const docLink = document.createElement('div');\n",
              "        docLink.innerHTML = docLinkHtml;\n",
              "        element.appendChild(docLink);\n",
              "      }\n",
              "    </script>\n",
              "  </div>\n",
              "\n",
              "    </div>\n",
              "  </div>\n"
            ],
            "text/plain": [
              "    0    1     2     3       4       5      6      7     8      9    \n",
              "0  jpeg  gif  file  color  quality  image  jfif  format  bit  version"
            ]
          },
          "execution_count": 46,
          "metadata": {},
          "output_type": "execute_result"
        }
      ],
      "source": [
        "pd.DataFrame(data=[topic])"
      ]
    },
    {
      "cell_type": "markdown",
      "metadata": {
        "id": "Sl8psQl1UAwD",
        "variables": {
          "pd.DataFrame(data=[topic_weight])": "<p><strong>NameError</strong>: name &#39;pd&#39; is not defined</p>\n"
        }
      },
      "source": [
        "####  Weights"
      ]
    },
    {
      "cell_type": "code",
      "execution_count": null,
      "metadata": {
        "colab": {
          "base_uri": "https://localhost:8080/",
          "height": 81
        },
        "id": "JPlwO8wcb92I",
        "outputId": "8c7045e8-a0a1-467a-9d6a-77d549447d5e"
      },
      "outputs": [
        {
          "data": {
            "application/vnd.google.colaboratory.intrinsic+json": {
              "summary": "{\n  \"name\": \"pd\",\n  \"rows\": 1,\n  \"fields\": [\n    {\n      \"column\": 0,\n      \"properties\": {\n        \"dtype\": \"number\",\n        \"std\": null,\n        \"min\": 0.5490924146069471,\n        \"max\": 0.5490924146069471,\n        \"num_unique_values\": 1,\n        \"samples\": [\n          0.5490924146069471\n        ],\n        \"semantic_type\": \"\",\n        \"description\": \"\"\n      }\n    },\n    {\n      \"column\": 1,\n      \"properties\": {\n        \"dtype\": \"number\",\n        \"std\": null,\n        \"min\": 0.20524322152883331,\n        \"max\": 0.20524322152883331,\n        \"num_unique_values\": 1,\n        \"samples\": [\n          0.20524322152883331\n        ],\n        \"semantic_type\": \"\",\n        \"description\": \"\"\n      }\n    },\n    {\n      \"column\": 2,\n      \"properties\": {\n        \"dtype\": \"number\",\n        \"std\": null,\n        \"min\": 0.13232356699546222,\n        \"max\": 0.13232356699546222,\n        \"num_unique_values\": 1,\n        \"samples\": [\n          0.13232356699546222\n        ],\n        \"semantic_type\": \"\",\n        \"description\": \"\"\n      }\n    },\n    {\n      \"column\": 3,\n      \"properties\": {\n        \"dtype\": \"number\",\n        \"std\": null,\n        \"min\": 0.12573815304579586,\n        \"max\": 0.12573815304579586,\n        \"num_unique_values\": 1,\n        \"samples\": [\n          0.12573815304579586\n        ],\n        \"semantic_type\": \"\",\n        \"description\": \"\"\n      }\n    },\n    {\n      \"column\": 4,\n      \"properties\": {\n        \"dtype\": \"number\",\n        \"std\": null,\n        \"min\": 0.10745595391293068,\n        \"max\": 0.10745595391293068,\n        \"num_unique_values\": 1,\n        \"samples\": [\n          0.10745595391293068\n        ],\n        \"semantic_type\": \"\",\n        \"description\": \"\"\n      }\n    },\n    {\n      \"column\": 5,\n      \"properties\": {\n        \"dtype\": \"number\",\n        \"std\": null,\n        \"min\": 0.09085979690097859,\n        \"max\": 0.09085979690097859,\n        \"num_unique_values\": 1,\n        \"samples\": [\n          0.09085979690097859\n        ],\n        \"semantic_type\": \"\",\n        \"description\": \"\"\n      }\n    },\n    {\n      \"column\": 6,\n      \"properties\": {\n        \"dtype\": \"number\",\n        \"std\": null,\n        \"min\": 0.07444498554933655,\n        \"max\": 0.07444498554933655,\n        \"num_unique_values\": 1,\n        \"samples\": [\n          0.07444498554933655\n        ],\n        \"semantic_type\": \"\",\n        \"description\": \"\"\n      }\n    },\n    {\n      \"column\": 7,\n      \"properties\": {\n        \"dtype\": \"number\",\n        \"std\": null,\n        \"min\": 0.06381421054657652,\n        \"max\": 0.06381421054657652,\n        \"num_unique_values\": 1,\n        \"samples\": [\n          0.06381421054657652\n        ],\n        \"semantic_type\": \"\",\n        \"description\": \"\"\n      }\n    },\n    {\n      \"column\": 8,\n      \"properties\": {\n        \"dtype\": \"number\",\n        \"std\": null,\n        \"min\": 0.06196373979026189,\n        \"max\": 0.06196373979026189,\n        \"num_unique_values\": 1,\n        \"samples\": [\n          0.06196373979026189\n        ],\n        \"semantic_type\": \"\",\n        \"description\": \"\"\n      }\n    },\n    {\n      \"column\": 9,\n      \"properties\": {\n        \"dtype\": \"number\",\n        \"std\": null,\n        \"min\": 0.05801228971842224,\n        \"max\": 0.05801228971842224,\n        \"num_unique_values\": 1,\n        \"samples\": [\n          0.05801228971842224\n        ],\n        \"semantic_type\": \"\",\n        \"description\": \"\"\n      }\n    }\n  ]\n}",
              "type": "dataframe"
            },
            "text/html": [
              "\n",
              "  <div id=\"df-f9f96d53-7399-42be-a18c-04bf9c9081ce\" class=\"colab-df-container\">\n",
              "    <div>\n",
              "<style scoped>\n",
              "    .dataframe tbody tr th:only-of-type {\n",
              "        vertical-align: middle;\n",
              "    }\n",
              "\n",
              "    .dataframe tbody tr th {\n",
              "        vertical-align: top;\n",
              "    }\n",
              "\n",
              "    .dataframe thead th {\n",
              "        text-align: right;\n",
              "    }\n",
              "</style>\n",
              "<table border=\"1\" class=\"dataframe\">\n",
              "  <thead>\n",
              "    <tr style=\"text-align: center;\">\n",
              "      <th></th>\n",
              "      <th>0</th>\n",
              "      <th>1</th>\n",
              "      <th>2</th>\n",
              "      <th>3</th>\n",
              "      <th>4</th>\n",
              "      <th>5</th>\n",
              "      <th>6</th>\n",
              "      <th>7</th>\n",
              "      <th>8</th>\n",
              "      <th>9</th>\n",
              "    </tr>\n",
              "  </thead>\n",
              "  <tbody>\n",
              "    <tr>\n",
              "      <th>0</th>\n",
              "      <td>0.549092</td>\n",
              "      <td>0.205243</td>\n",
              "      <td>0.132324</td>\n",
              "      <td>0.125738</td>\n",
              "      <td>0.107456</td>\n",
              "      <td>0.09086</td>\n",
              "      <td>0.074445</td>\n",
              "      <td>0.063814</td>\n",
              "      <td>0.061964</td>\n",
              "      <td>0.058012</td>\n",
              "    </tr>\n",
              "  </tbody>\n",
              "</table>\n",
              "</div>\n",
              "    <div class=\"colab-df-buttons\">\n",
              "\n",
              "  <div class=\"colab-df-container\">\n",
              "    <button class=\"colab-df-convert\" onclick=\"convertToInteractive('df-f9f96d53-7399-42be-a18c-04bf9c9081ce')\"\n",
              "            title=\"Convert this dataframe to an interactive table.\"\n",
              "            style=\"display:none;\">\n",
              "\n",
              "  <svg xmlns=\"http://www.w3.org/2000/svg\" height=\"24px\" viewBox=\"0 -960 960 960\">\n",
              "    <path d=\"M120-120v-720h720v720H120Zm60-500h600v-160H180v160Zm220 220h160v-160H400v160Zm0 220h160v-160H400v160ZM180-400h160v-160H180v160Zm440 0h160v-160H620v160ZM180-180h160v-160H180v160Zm440 0h160v-160H620v160Z\"/>\n",
              "  </svg>\n",
              "    </button>\n",
              "\n",
              "  <style>\n",
              "    .colab-df-container {\n",
              "      display:flex;\n",
              "      gap: 12px;\n",
              "    }\n",
              "\n",
              "    .colab-df-convert {\n",
              "      background-color: #E8F0FE;\n",
              "      border: none;\n",
              "      border-radius: 50%;\n",
              "      cursor: pointer;\n",
              "      display: none;\n",
              "      fill: #1967D2;\n",
              "      height: 32px;\n",
              "      padding: 0 0 0 0;\n",
              "      width: 32px;\n",
              "    }\n",
              "\n",
              "    .colab-df-convert:hover {\n",
              "      background-color: #E2EBFA;\n",
              "      box-shadow: 0px 1px 2px rgba(60, 64, 67, 0.3), 0px 1px 3px 1px rgba(60, 64, 67, 0.15);\n",
              "      fill: #174EA6;\n",
              "    }\n",
              "\n",
              "    .colab-df-buttons div {\n",
              "      margin-bottom: 4px;\n",
              "    }\n",
              "\n",
              "    [theme=dark] .colab-df-convert {\n",
              "      background-color: #3B4455;\n",
              "      fill: #D2E3FC;\n",
              "    }\n",
              "\n",
              "    [theme=dark] .colab-df-convert:hover {\n",
              "      background-color: #434B5C;\n",
              "      box-shadow: 0px 1px 3px 1px rgba(0, 0, 0, 0.15);\n",
              "      filter: drop-shadow(0px 1px 2px rgba(0, 0, 0, 0.3));\n",
              "      fill: #FFFFFF;\n",
              "    }\n",
              "  </style>\n",
              "\n",
              "    <script>\n",
              "      const buttonEl =\n",
              "        document.querySelector('#df-f9f96d53-7399-42be-a18c-04bf9c9081ce button.colab-df-convert');\n",
              "      buttonEl.style.display =\n",
              "        google.colab.kernel.accessAllowed ? 'block' : 'none';\n",
              "\n",
              "      async function convertToInteractive(key) {\n",
              "        const element = document.querySelector('#df-f9f96d53-7399-42be-a18c-04bf9c9081ce');\n",
              "        const dataTable =\n",
              "          await google.colab.kernel.invokeFunction('convertToInteractive',\n",
              "                                                    [key], {});\n",
              "        if (!dataTable) return;\n",
              "\n",
              "        const docLinkHtml = 'Like what you see? Visit the ' +\n",
              "          '<a target=\"_blank\" href=https://colab.research.google.com/notebooks/data_table.ipynb>data table notebook</a>'\n",
              "          + ' to learn more about interactive tables.';\n",
              "        element.innerHTML = '';\n",
              "        dataTable['output_type'] = 'display_data';\n",
              "        await google.colab.output.renderOutput(dataTable, element);\n",
              "        const docLink = document.createElement('div');\n",
              "        docLink.innerHTML = docLinkHtml;\n",
              "        element.appendChild(docLink);\n",
              "      }\n",
              "    </script>\n",
              "  </div>\n",
              "\n",
              "    </div>\n",
              "  </div>\n"
            ],
            "text/plain": [
              "       0         1         2         3         4        5         6     \\\n",
              "0  0.549092  0.205243  0.132324  0.125738  0.107456  0.09086  0.074445   \n",
              "\n",
              "       7         8         9     \n",
              "0  0.063814  0.061964  0.058012  "
            ]
          },
          "execution_count": 47,
          "metadata": {},
          "output_type": "execute_result"
        }
      ],
      "source": [
        "pd.DataFrame(data=[topic_weight])"
      ]
    },
    {
      "cell_type": "markdown",
      "metadata": {
        "id": "SCWbtQdWUAwD",
        "variables": {
          "pd.DataFrame(data=[topic_neg])": "<p><strong>NameError</strong>: name &#39;pd&#39; is not defined</p>\n"
        }
      },
      "source": [
        "####  Negative terms\n",
        "\n"
      ]
    },
    {
      "cell_type": "code",
      "execution_count": null,
      "metadata": {
        "colab": {
          "base_uri": "https://localhost:8080/",
          "height": 81
        },
        "id": "2GExa92WcDEP",
        "outputId": "0cbf92e0-c1bd-4948-907d-a9ae2d907680"
      },
      "outputs": [
        {
          "data": {
            "application/vnd.google.colaboratory.intrinsic+json": {
              "summary": "{\n  \"name\": \"pd\",\n  \"rows\": 1,\n  \"fields\": [\n    {\n      \"column\": 0,\n      \"properties\": {\n        \"dtype\": \"string\",\n        \"num_unique_values\": 1,\n        \"samples\": [\n          \"edu\"\n        ],\n        \"semantic_type\": \"\",\n        \"description\": \"\"\n      }\n    },\n    {\n      \"column\": 1,\n      \"properties\": {\n        \"dtype\": \"string\",\n        \"num_unique_values\": 1,\n        \"samples\": [\n          \"graphics\"\n        ],\n        \"semantic_type\": \"\",\n        \"description\": \"\"\n      }\n    },\n    {\n      \"column\": 2,\n      \"properties\": {\n        \"dtype\": \"string\",\n        \"num_unique_values\": 1,\n        \"samples\": [\n          \"data\"\n        ],\n        \"semantic_type\": \"\",\n        \"description\": \"\"\n      }\n    },\n    {\n      \"column\": 3,\n      \"properties\": {\n        \"dtype\": \"string\",\n        \"num_unique_values\": 1,\n        \"samples\": [\n          \"space\"\n        ],\n        \"semantic_type\": \"\",\n        \"description\": \"\"\n      }\n    },\n    {\n      \"column\": 4,\n      \"properties\": {\n        \"dtype\": \"string\",\n        \"num_unique_values\": 1,\n        \"samples\": [\n          \"pub\"\n        ],\n        \"semantic_type\": \"\",\n        \"description\": \"\"\n      }\n    },\n    {\n      \"column\": 5,\n      \"properties\": {\n        \"dtype\": \"string\",\n        \"num_unique_values\": 1,\n        \"samples\": [\n          \"mail\"\n        ],\n        \"semantic_type\": \"\",\n        \"description\": \"\"\n      }\n    },\n    {\n      \"column\": 6,\n      \"properties\": {\n        \"dtype\": \"string\",\n        \"num_unique_values\": 1,\n        \"samples\": [\n          \"128\"\n        ],\n        \"semantic_type\": \"\",\n        \"description\": \"\"\n      }\n    },\n    {\n      \"column\": 7,\n      \"properties\": {\n        \"dtype\": \"string\",\n        \"num_unique_values\": 1,\n        \"samples\": [\n          \"3d\"\n        ],\n        \"semantic_type\": \"\",\n        \"description\": \"\"\n      }\n    },\n    {\n      \"column\": 8,\n      \"properties\": {\n        \"dtype\": \"string\",\n        \"num_unique_values\": 1,\n        \"samples\": [\n          \"ray\"\n        ],\n        \"semantic_type\": \"\",\n        \"description\": \"\"\n      }\n    },\n    {\n      \"column\": 9,\n      \"properties\": {\n        \"dtype\": \"string\",\n        \"num_unique_values\": 1,\n        \"samples\": [\n          \"nasa\"\n        ],\n        \"semantic_type\": \"\",\n        \"description\": \"\"\n      }\n    }\n  ]\n}",
              "type": "dataframe"
            },
            "text/html": [
              "\n",
              "  <div id=\"df-f9f7727c-a13b-4688-b4a4-31f3240af296\" class=\"colab-df-container\">\n",
              "    <div>\n",
              "<style scoped>\n",
              "    .dataframe tbody tr th:only-of-type {\n",
              "        vertical-align: middle;\n",
              "    }\n",
              "\n",
              "    .dataframe tbody tr th {\n",
              "        vertical-align: top;\n",
              "    }\n",
              "\n",
              "    .dataframe thead th {\n",
              "        text-align: right;\n",
              "    }\n",
              "</style>\n",
              "<table border=\"1\" class=\"dataframe\">\n",
              "  <thead>\n",
              "    <tr style=\"text-align: center;\">\n",
              "      <th></th>\n",
              "      <th>0</th>\n",
              "      <th>1</th>\n",
              "      <th>2</th>\n",
              "      <th>3</th>\n",
              "      <th>4</th>\n",
              "      <th>5</th>\n",
              "      <th>6</th>\n",
              "      <th>7</th>\n",
              "      <th>8</th>\n",
              "      <th>9</th>\n",
              "    </tr>\n",
              "  </thead>\n",
              "  <tbody>\n",
              "    <tr>\n",
              "      <th>0</th>\n",
              "      <td>edu</td>\n",
              "      <td>graphics</td>\n",
              "      <td>data</td>\n",
              "      <td>space</td>\n",
              "      <td>pub</td>\n",
              "      <td>mail</td>\n",
              "      <td>128</td>\n",
              "      <td>3d</td>\n",
              "      <td>ray</td>\n",
              "      <td>nasa</td>\n",
              "    </tr>\n",
              "  </tbody>\n",
              "</table>\n",
              "</div>\n",
              "    <div class=\"colab-df-buttons\">\n",
              "\n",
              "  <div class=\"colab-df-container\">\n",
              "    <button class=\"colab-df-convert\" onclick=\"convertToInteractive('df-f9f7727c-a13b-4688-b4a4-31f3240af296')\"\n",
              "            title=\"Convert this dataframe to an interactive table.\"\n",
              "            style=\"display:none;\">\n",
              "\n",
              "  <svg xmlns=\"http://www.w3.org/2000/svg\" height=\"24px\" viewBox=\"0 -960 960 960\">\n",
              "    <path d=\"M120-120v-720h720v720H120Zm60-500h600v-160H180v160Zm220 220h160v-160H400v160Zm0 220h160v-160H400v160ZM180-400h160v-160H180v160Zm440 0h160v-160H620v160ZM180-180h160v-160H180v160Zm440 0h160v-160H620v160Z\"/>\n",
              "  </svg>\n",
              "    </button>\n",
              "\n",
              "  <style>\n",
              "    .colab-df-container {\n",
              "      display:flex;\n",
              "      gap: 12px;\n",
              "    }\n",
              "\n",
              "    .colab-df-convert {\n",
              "      background-color: #E8F0FE;\n",
              "      border: none;\n",
              "      border-radius: 50%;\n",
              "      cursor: pointer;\n",
              "      display: none;\n",
              "      fill: #1967D2;\n",
              "      height: 32px;\n",
              "      padding: 0 0 0 0;\n",
              "      width: 32px;\n",
              "    }\n",
              "\n",
              "    .colab-df-convert:hover {\n",
              "      background-color: #E2EBFA;\n",
              "      box-shadow: 0px 1px 2px rgba(60, 64, 67, 0.3), 0px 1px 3px 1px rgba(60, 64, 67, 0.15);\n",
              "      fill: #174EA6;\n",
              "    }\n",
              "\n",
              "    .colab-df-buttons div {\n",
              "      margin-bottom: 4px;\n",
              "    }\n",
              "\n",
              "    [theme=dark] .colab-df-convert {\n",
              "      background-color: #3B4455;\n",
              "      fill: #D2E3FC;\n",
              "    }\n",
              "\n",
              "    [theme=dark] .colab-df-convert:hover {\n",
              "      background-color: #434B5C;\n",
              "      box-shadow: 0px 1px 3px 1px rgba(0, 0, 0, 0.15);\n",
              "      filter: drop-shadow(0px 1px 2px rgba(0, 0, 0, 0.3));\n",
              "      fill: #FFFFFF;\n",
              "    }\n",
              "  </style>\n",
              "\n",
              "    <script>\n",
              "      const buttonEl =\n",
              "        document.querySelector('#df-f9f7727c-a13b-4688-b4a4-31f3240af296 button.colab-df-convert');\n",
              "      buttonEl.style.display =\n",
              "        google.colab.kernel.accessAllowed ? 'block' : 'none';\n",
              "\n",
              "      async function convertToInteractive(key) {\n",
              "        const element = document.querySelector('#df-f9f7727c-a13b-4688-b4a4-31f3240af296');\n",
              "        const dataTable =\n",
              "          await google.colab.kernel.invokeFunction('convertToInteractive',\n",
              "                                                    [key], {});\n",
              "        if (!dataTable) return;\n",
              "\n",
              "        const docLinkHtml = 'Like what you see? Visit the ' +\n",
              "          '<a target=\"_blank\" href=https://colab.research.google.com/notebooks/data_table.ipynb>data table notebook</a>'\n",
              "          + ' to learn more about interactive tables.';\n",
              "        element.innerHTML = '';\n",
              "        dataTable['output_type'] = 'display_data';\n",
              "        await google.colab.output.renderOutput(dataTable, element);\n",
              "        const docLink = document.createElement('div');\n",
              "        docLink.innerHTML = docLinkHtml;\n",
              "        element.appendChild(docLink);\n",
              "      }\n",
              "    </script>\n",
              "  </div>\n",
              "\n",
              "    </div>\n",
              "  </div>\n"
            ],
            "text/plain": [
              "   0       1       2     3     4     5    6    7   8     9  \n",
              "0  edu  graphics  data  space  pub  mail  128  3d  ray  nasa"
            ]
          },
          "execution_count": 48,
          "metadata": {},
          "output_type": "execute_result"
        }
      ],
      "source": [
        "pd.DataFrame(data=[topic_neg])"
      ]
    },
    {
      "cell_type": "code",
      "execution_count": null,
      "metadata": {
        "id": "_Hs9JcIjUAwE"
      },
      "outputs": [],
      "source": [
        "k=1 #second component, first topic\n",
        "topic = [vocab[idx_word] for idx_word in np.argsort(Vts[k,:])[:-word_per_topic-1:-1]]\n",
        "topic_weight = np.sort(Vts[k,:])[:-word_per_topic-1:-1]\n",
        "topic_neg = [vocab[idx_word] for idx_word in np.argsort(Vts[k,:])[:word_per_topic:]]\n",
        "#topic"
      ]
    },
    {
      "cell_type": "markdown",
      "metadata": {
        "id": "rQ0h9hNoUAwE"
      },
      "source": [
        "# Topic $k=1$ associated with singular value $\\lambda_1$ = {{round(Ss[1])}}\n",
        "```python\n",
        "word_per_topic = 10\n",
        "k=1;topic = [vocab[idx_word] for idx_word in np.argsort(Vts[k,:])[:-word_per_topic-1:-1]]\n",
        "```"
      ]
    },
    {
      "cell_type": "code",
      "execution_count": null,
      "metadata": {
        "colab": {
          "base_uri": "https://localhost:8080/",
          "height": 81
        },
        "id": "3U2J-Cm3cO1o",
        "outputId": "c0c00b5b-e340-470d-867a-cb1c985563e7"
      },
      "outputs": [
        {
          "data": {
            "application/vnd.google.colaboratory.intrinsic+json": {
              "summary": "{\n  \"name\": \"pd\",\n  \"rows\": 1,\n  \"fields\": [\n    {\n      \"column\": 0,\n      \"properties\": {\n        \"dtype\": \"string\",\n        \"num_unique_values\": 1,\n        \"samples\": [\n          \"ditto\"\n        ],\n        \"semantic_type\": \"\",\n        \"description\": \"\"\n      }\n    },\n    {\n      \"column\": 1,\n      \"properties\": {\n        \"dtype\": \"string\",\n        \"num_unique_values\": 1,\n        \"samples\": [\n          \"critus\"\n        ],\n        \"semantic_type\": \"\",\n        \"description\": \"\"\n      }\n    },\n    {\n      \"column\": 2,\n      \"properties\": {\n        \"dtype\": \"string\",\n        \"num_unique_values\": 1,\n        \"samples\": [\n          \"propagandist\"\n        ],\n        \"semantic_type\": \"\",\n        \"description\": \"\"\n      }\n    },\n    {\n      \"column\": 3,\n      \"properties\": {\n        \"dtype\": \"string\",\n        \"num_unique_values\": 1,\n        \"samples\": [\n          \"surname\"\n        ],\n        \"semantic_type\": \"\",\n        \"description\": \"\"\n      }\n    },\n    {\n      \"column\": 4,\n      \"properties\": {\n        \"dtype\": \"string\",\n        \"num_unique_values\": 1,\n        \"samples\": [\n          \"galacticentric\"\n        ],\n        \"semantic_type\": \"\",\n        \"description\": \"\"\n      }\n    },\n    {\n      \"column\": 5,\n      \"properties\": {\n        \"dtype\": \"string\",\n        \"num_unique_values\": 1,\n        \"samples\": [\n          \"kindergarten\"\n        ],\n        \"semantic_type\": \"\",\n        \"description\": \"\"\n      }\n    },\n    {\n      \"column\": 6,\n      \"properties\": {\n        \"dtype\": \"string\",\n        \"num_unique_values\": 1,\n        \"samples\": [\n          \"surreal\"\n        ],\n        \"semantic_type\": \"\",\n        \"description\": \"\"\n      }\n    },\n    {\n      \"column\": 7,\n      \"properties\": {\n        \"dtype\": \"string\",\n        \"num_unique_values\": 1,\n        \"samples\": [\n          \"imaginative\"\n        ],\n        \"semantic_type\": \"\",\n        \"description\": \"\"\n      }\n    },\n    {\n      \"column\": 8,\n      \"properties\": {\n        \"dtype\": \"string\",\n        \"num_unique_values\": 1,\n        \"samples\": [\n          \"salvadorans\"\n        ],\n        \"semantic_type\": \"\",\n        \"description\": \"\"\n      }\n    },\n    {\n      \"column\": 9,\n      \"properties\": {\n        \"dtype\": \"string\",\n        \"num_unique_values\": 1,\n        \"samples\": [\n          \"ahhh\"\n        ],\n        \"semantic_type\": \"\",\n        \"description\": \"\"\n      }\n    }\n  ]\n}",
              "type": "dataframe"
            },
            "text/html": [
              "\n",
              "  <div id=\"df-1dacc41a-7d85-4a4d-90f5-860a74c04bc2\" class=\"colab-df-container\">\n",
              "    <div>\n",
              "<style scoped>\n",
              "    .dataframe tbody tr th:only-of-type {\n",
              "        vertical-align: middle;\n",
              "    }\n",
              "\n",
              "    .dataframe tbody tr th {\n",
              "        vertical-align: top;\n",
              "    }\n",
              "\n",
              "    .dataframe thead th {\n",
              "        text-align: right;\n",
              "    }\n",
              "</style>\n",
              "<table border=\"1\" class=\"dataframe\">\n",
              "  <thead>\n",
              "    <tr style=\"text-align: center;\">\n",
              "      <th></th>\n",
              "      <th>0</th>\n",
              "      <th>1</th>\n",
              "      <th>2</th>\n",
              "      <th>3</th>\n",
              "      <th>4</th>\n",
              "      <th>5</th>\n",
              "      <th>6</th>\n",
              "      <th>7</th>\n",
              "      <th>8</th>\n",
              "      <th>9</th>\n",
              "    </tr>\n",
              "  </thead>\n",
              "  <tbody>\n",
              "    <tr>\n",
              "      <th>0</th>\n",
              "      <td>ditto</td>\n",
              "      <td>critus</td>\n",
              "      <td>propagandist</td>\n",
              "      <td>surname</td>\n",
              "      <td>galacticentric</td>\n",
              "      <td>kindergarten</td>\n",
              "      <td>surreal</td>\n",
              "      <td>imaginative</td>\n",
              "      <td>salvadorans</td>\n",
              "      <td>ahhh</td>\n",
              "    </tr>\n",
              "  </tbody>\n",
              "</table>\n",
              "</div>\n",
              "    <div class=\"colab-df-buttons\">\n",
              "\n",
              "  <div class=\"colab-df-container\">\n",
              "    <button class=\"colab-df-convert\" onclick=\"convertToInteractive('df-1dacc41a-7d85-4a4d-90f5-860a74c04bc2')\"\n",
              "            title=\"Convert this dataframe to an interactive table.\"\n",
              "            style=\"display:none;\">\n",
              "\n",
              "  <svg xmlns=\"http://www.w3.org/2000/svg\" height=\"24px\" viewBox=\"0 -960 960 960\">\n",
              "    <path d=\"M120-120v-720h720v720H120Zm60-500h600v-160H180v160Zm220 220h160v-160H400v160Zm0 220h160v-160H400v160ZM180-400h160v-160H180v160Zm440 0h160v-160H620v160ZM180-180h160v-160H180v160Zm440 0h160v-160H620v160Z\"/>\n",
              "  </svg>\n",
              "    </button>\n",
              "\n",
              "  <style>\n",
              "    .colab-df-container {\n",
              "      display:flex;\n",
              "      gap: 12px;\n",
              "    }\n",
              "\n",
              "    .colab-df-convert {\n",
              "      background-color: #E8F0FE;\n",
              "      border: none;\n",
              "      border-radius: 50%;\n",
              "      cursor: pointer;\n",
              "      display: none;\n",
              "      fill: #1967D2;\n",
              "      height: 32px;\n",
              "      padding: 0 0 0 0;\n",
              "      width: 32px;\n",
              "    }\n",
              "\n",
              "    .colab-df-convert:hover {\n",
              "      background-color: #E2EBFA;\n",
              "      box-shadow: 0px 1px 2px rgba(60, 64, 67, 0.3), 0px 1px 3px 1px rgba(60, 64, 67, 0.15);\n",
              "      fill: #174EA6;\n",
              "    }\n",
              "\n",
              "    .colab-df-buttons div {\n",
              "      margin-bottom: 4px;\n",
              "    }\n",
              "\n",
              "    [theme=dark] .colab-df-convert {\n",
              "      background-color: #3B4455;\n",
              "      fill: #D2E3FC;\n",
              "    }\n",
              "\n",
              "    [theme=dark] .colab-df-convert:hover {\n",
              "      background-color: #434B5C;\n",
              "      box-shadow: 0px 1px 3px 1px rgba(0, 0, 0, 0.15);\n",
              "      filter: drop-shadow(0px 1px 2px rgba(0, 0, 0, 0.3));\n",
              "      fill: #FFFFFF;\n",
              "    }\n",
              "  </style>\n",
              "\n",
              "    <script>\n",
              "      const buttonEl =\n",
              "        document.querySelector('#df-1dacc41a-7d85-4a4d-90f5-860a74c04bc2 button.colab-df-convert');\n",
              "      buttonEl.style.display =\n",
              "        google.colab.kernel.accessAllowed ? 'block' : 'none';\n",
              "\n",
              "      async function convertToInteractive(key) {\n",
              "        const element = document.querySelector('#df-1dacc41a-7d85-4a4d-90f5-860a74c04bc2');\n",
              "        const dataTable =\n",
              "          await google.colab.kernel.invokeFunction('convertToInteractive',\n",
              "                                                    [key], {});\n",
              "        if (!dataTable) return;\n",
              "\n",
              "        const docLinkHtml = 'Like what you see? Visit the ' +\n",
              "          '<a target=\"_blank\" href=https://colab.research.google.com/notebooks/data_table.ipynb>data table notebook</a>'\n",
              "          + ' to learn more about interactive tables.';\n",
              "        element.innerHTML = '';\n",
              "        dataTable['output_type'] = 'display_data';\n",
              "        await google.colab.output.renderOutput(dataTable, element);\n",
              "        const docLink = document.createElement('div');\n",
              "        docLink.innerHTML = docLinkHtml;\n",
              "        element.appendChild(docLink);\n",
              "      }\n",
              "    </script>\n",
              "  </div>\n",
              "\n",
              "    </div>\n",
              "  </div>\n"
            ],
            "text/plain": [
              "    0       1          2          3            4              5        \\\n",
              "0  ditto  critus  propagandist  surname  galacticentric  kindergarten   \n",
              "\n",
              "     6          7            8         9    \n",
              "0  surreal  imaginative  salvadorans  ahhh  "
            ]
          },
          "execution_count": 50,
          "metadata": {},
          "output_type": "execute_result"
        }
      ],
      "source": [
        "pd.DataFrame(data=[topic])"
      ]
    },
    {
      "cell_type": "markdown",
      "metadata": {
        "id": "g7CccootUAwE",
        "variables": {
          "pd.DataFrame(data=[topic_weight])": "<p><strong>NameError</strong>: name &#39;pd&#39; is not defined</p>\n"
        }
      },
      "source": [
        "####  Weights"
      ]
    },
    {
      "cell_type": "code",
      "execution_count": null,
      "metadata": {
        "colab": {
          "base_uri": "https://localhost:8080/",
          "height": 81
        },
        "id": "EO5CMq8dcS2R",
        "outputId": "876dcc92-0abe-48f1-cc98-3bddf35abcd9"
      },
      "outputs": [
        {
          "data": {
            "application/vnd.google.colaboratory.intrinsic+json": {
              "summary": "{\n  \"name\": \"pd\",\n  \"rows\": 1,\n  \"fields\": [\n    {\n      \"column\": 0,\n      \"properties\": {\n        \"dtype\": \"number\",\n        \"std\": null,\n        \"min\": 1.1182907907431071e-20,\n        \"max\": 1.1182907907431071e-20,\n        \"num_unique_values\": 1,\n        \"samples\": [\n          1.1182907907431071e-20\n        ],\n        \"semantic_type\": \"\",\n        \"description\": \"\"\n      }\n    },\n    {\n      \"column\": 1,\n      \"properties\": {\n        \"dtype\": \"number\",\n        \"std\": null,\n        \"min\": 2.371139736708739e-21,\n        \"max\": 2.371139736708739e-21,\n        \"num_unique_values\": 1,\n        \"samples\": [\n          2.371139736708739e-21\n        ],\n        \"semantic_type\": \"\",\n        \"description\": \"\"\n      }\n    },\n    {\n      \"column\": 2,\n      \"properties\": {\n        \"dtype\": \"number\",\n        \"std\": null,\n        \"min\": -3.7383040365991223e-10,\n        \"max\": -3.7383040365991223e-10,\n        \"num_unique_values\": 1,\n        \"samples\": [\n          -3.7383040365991223e-10\n        ],\n        \"semantic_type\": \"\",\n        \"description\": \"\"\n      }\n    },\n    {\n      \"column\": 3,\n      \"properties\": {\n        \"dtype\": \"number\",\n        \"std\": null,\n        \"min\": -1.1742315109988079e-09,\n        \"max\": -1.1742315109988079e-09,\n        \"num_unique_values\": 1,\n        \"samples\": [\n          -1.1742315109988079e-09\n        ],\n        \"semantic_type\": \"\",\n        \"description\": \"\"\n      }\n    },\n    {\n      \"column\": 4,\n      \"properties\": {\n        \"dtype\": \"number\",\n        \"std\": null,\n        \"min\": -2.3325697407393858e-09,\n        \"max\": -2.3325697407393858e-09,\n        \"num_unique_values\": 1,\n        \"samples\": [\n          -2.3325697407393858e-09\n        ],\n        \"semantic_type\": \"\",\n        \"description\": \"\"\n      }\n    },\n    {\n      \"column\": 5,\n      \"properties\": {\n        \"dtype\": \"number\",\n        \"std\": null,\n        \"min\": -5.12920120047136e-09,\n        \"max\": -5.12920120047136e-09,\n        \"num_unique_values\": 1,\n        \"samples\": [\n          -5.12920120047136e-09\n        ],\n        \"semantic_type\": \"\",\n        \"description\": \"\"\n      }\n    },\n    {\n      \"column\": 6,\n      \"properties\": {\n        \"dtype\": \"number\",\n        \"std\": null,\n        \"min\": -2.4163466465543988e-08,\n        \"max\": -2.4163466465543988e-08,\n        \"num_unique_values\": 1,\n        \"samples\": [\n          -2.4163466465543988e-08\n        ],\n        \"semantic_type\": \"\",\n        \"description\": \"\"\n      }\n    },\n    {\n      \"column\": 7,\n      \"properties\": {\n        \"dtype\": \"number\",\n        \"std\": null,\n        \"min\": -2.7917948489847705e-08,\n        \"max\": -2.7917948489847705e-08,\n        \"num_unique_values\": 1,\n        \"samples\": [\n          -2.7917948489847705e-08\n        ],\n        \"semantic_type\": \"\",\n        \"description\": \"\"\n      }\n    },\n    {\n      \"column\": 8,\n      \"properties\": {\n        \"dtype\": \"number\",\n        \"std\": null,\n        \"min\": -2.7956799819888376e-08,\n        \"max\": -2.7956799819888376e-08,\n        \"num_unique_values\": 1,\n        \"samples\": [\n          -2.7956799819888376e-08\n        ],\n        \"semantic_type\": \"\",\n        \"description\": \"\"\n      }\n    },\n    {\n      \"column\": 9,\n      \"properties\": {\n        \"dtype\": \"number\",\n        \"std\": null,\n        \"min\": -2.985945935901571e-08,\n        \"max\": -2.985945935901571e-08,\n        \"num_unique_values\": 1,\n        \"samples\": [\n          -2.985945935901571e-08\n        ],\n        \"semantic_type\": \"\",\n        \"description\": \"\"\n      }\n    }\n  ]\n}",
              "type": "dataframe"
            },
            "text/html": [
              "\n",
              "  <div id=\"df-066e51f0-c8aa-4dbf-8484-e50056fb80a2\" class=\"colab-df-container\">\n",
              "    <div>\n",
              "<style scoped>\n",
              "    .dataframe tbody tr th:only-of-type {\n",
              "        vertical-align: middle;\n",
              "    }\n",
              "\n",
              "    .dataframe tbody tr th {\n",
              "        vertical-align: top;\n",
              "    }\n",
              "\n",
              "    .dataframe thead th {\n",
              "        text-align: right;\n",
              "    }\n",
              "</style>\n",
              "<table border=\"1\" class=\"dataframe\">\n",
              "  <thead>\n",
              "    <tr style=\"text-align: center;\">\n",
              "      <th></th>\n",
              "      <th>0</th>\n",
              "      <th>1</th>\n",
              "      <th>2</th>\n",
              "      <th>3</th>\n",
              "      <th>4</th>\n",
              "      <th>5</th>\n",
              "      <th>6</th>\n",
              "      <th>7</th>\n",
              "      <th>8</th>\n",
              "      <th>9</th>\n",
              "    </tr>\n",
              "  </thead>\n",
              "  <tbody>\n",
              "    <tr>\n",
              "      <th>0</th>\n",
              "      <td>1.118291e-20</td>\n",
              "      <td>2.371140e-21</td>\n",
              "      <td>-3.738304e-10</td>\n",
              "      <td>-1.174232e-09</td>\n",
              "      <td>-2.332570e-09</td>\n",
              "      <td>-5.129201e-09</td>\n",
              "      <td>-2.416347e-08</td>\n",
              "      <td>-2.791795e-08</td>\n",
              "      <td>-2.795680e-08</td>\n",
              "      <td>-2.985946e-08</td>\n",
              "    </tr>\n",
              "  </tbody>\n",
              "</table>\n",
              "</div>\n",
              "    <div class=\"colab-df-buttons\">\n",
              "\n",
              "  <div class=\"colab-df-container\">\n",
              "    <button class=\"colab-df-convert\" onclick=\"convertToInteractive('df-066e51f0-c8aa-4dbf-8484-e50056fb80a2')\"\n",
              "            title=\"Convert this dataframe to an interactive table.\"\n",
              "            style=\"display:none;\">\n",
              "\n",
              "  <svg xmlns=\"http://www.w3.org/2000/svg\" height=\"24px\" viewBox=\"0 -960 960 960\">\n",
              "    <path d=\"M120-120v-720h720v720H120Zm60-500h600v-160H180v160Zm220 220h160v-160H400v160Zm0 220h160v-160H400v160ZM180-400h160v-160H180v160Zm440 0h160v-160H620v160ZM180-180h160v-160H180v160Zm440 0h160v-160H620v160Z\"/>\n",
              "  </svg>\n",
              "    </button>\n",
              "\n",
              "  <style>\n",
              "    .colab-df-container {\n",
              "      display:flex;\n",
              "      gap: 12px;\n",
              "    }\n",
              "\n",
              "    .colab-df-convert {\n",
              "      background-color: #E8F0FE;\n",
              "      border: none;\n",
              "      border-radius: 50%;\n",
              "      cursor: pointer;\n",
              "      display: none;\n",
              "      fill: #1967D2;\n",
              "      height: 32px;\n",
              "      padding: 0 0 0 0;\n",
              "      width: 32px;\n",
              "    }\n",
              "\n",
              "    .colab-df-convert:hover {\n",
              "      background-color: #E2EBFA;\n",
              "      box-shadow: 0px 1px 2px rgba(60, 64, 67, 0.3), 0px 1px 3px 1px rgba(60, 64, 67, 0.15);\n",
              "      fill: #174EA6;\n",
              "    }\n",
              "\n",
              "    .colab-df-buttons div {\n",
              "      margin-bottom: 4px;\n",
              "    }\n",
              "\n",
              "    [theme=dark] .colab-df-convert {\n",
              "      background-color: #3B4455;\n",
              "      fill: #D2E3FC;\n",
              "    }\n",
              "\n",
              "    [theme=dark] .colab-df-convert:hover {\n",
              "      background-color: #434B5C;\n",
              "      box-shadow: 0px 1px 3px 1px rgba(0, 0, 0, 0.15);\n",
              "      filter: drop-shadow(0px 1px 2px rgba(0, 0, 0, 0.3));\n",
              "      fill: #FFFFFF;\n",
              "    }\n",
              "  </style>\n",
              "\n",
              "    <script>\n",
              "      const buttonEl =\n",
              "        document.querySelector('#df-066e51f0-c8aa-4dbf-8484-e50056fb80a2 button.colab-df-convert');\n",
              "      buttonEl.style.display =\n",
              "        google.colab.kernel.accessAllowed ? 'block' : 'none';\n",
              "\n",
              "      async function convertToInteractive(key) {\n",
              "        const element = document.querySelector('#df-066e51f0-c8aa-4dbf-8484-e50056fb80a2');\n",
              "        const dataTable =\n",
              "          await google.colab.kernel.invokeFunction('convertToInteractive',\n",
              "                                                    [key], {});\n",
              "        if (!dataTable) return;\n",
              "\n",
              "        const docLinkHtml = 'Like what you see? Visit the ' +\n",
              "          '<a target=\"_blank\" href=https://colab.research.google.com/notebooks/data_table.ipynb>data table notebook</a>'\n",
              "          + ' to learn more about interactive tables.';\n",
              "        element.innerHTML = '';\n",
              "        dataTable['output_type'] = 'display_data';\n",
              "        await google.colab.output.renderOutput(dataTable, element);\n",
              "        const docLink = document.createElement('div');\n",
              "        docLink.innerHTML = docLinkHtml;\n",
              "        element.appendChild(docLink);\n",
              "      }\n",
              "    </script>\n",
              "  </div>\n",
              "\n",
              "    </div>\n",
              "  </div>\n"
            ],
            "text/plain": [
              "         0             1             2             3             4       \\\n",
              "0  1.118291e-20  2.371140e-21 -3.738304e-10 -1.174232e-09 -2.332570e-09   \n",
              "\n",
              "         5             6             7             8             9       \n",
              "0 -5.129201e-09 -2.416347e-08 -2.791795e-08 -2.795680e-08 -2.985946e-08  "
            ]
          },
          "execution_count": 51,
          "metadata": {},
          "output_type": "execute_result"
        }
      ],
      "source": [
        "pd.DataFrame(data=[topic_weight])"
      ]
    },
    {
      "cell_type": "markdown",
      "metadata": {
        "id": "yhVpMuucUAwE",
        "variables": {
          "pd.DataFrame(data=[topic_neg])": "<p><strong>NameError</strong>: name &#39;pd&#39; is not defined</p>\n"
        }
      },
      "source": [
        "####  Negative terms"
      ]
    },
    {
      "cell_type": "code",
      "execution_count": null,
      "metadata": {
        "colab": {
          "base_uri": "https://localhost:8080/",
          "height": 81
        },
        "id": "MxWFHG5ycV2C",
        "outputId": "265dd5b2-8886-4d59-8a81-9a5b205240b0"
      },
      "outputs": [
        {
          "data": {
            "application/vnd.google.colaboratory.intrinsic+json": {
              "summary": "{\n  \"name\": \"pd\",\n  \"rows\": 1,\n  \"fields\": [\n    {\n      \"column\": 0,\n      \"properties\": {\n        \"dtype\": \"string\",\n        \"num_unique_values\": 1,\n        \"samples\": [\n          \"jpeg\"\n        ],\n        \"semantic_type\": \"\",\n        \"description\": \"\"\n      }\n    },\n    {\n      \"column\": 1,\n      \"properties\": {\n        \"dtype\": \"string\",\n        \"num_unique_values\": 1,\n        \"samples\": [\n          \"image\"\n        ],\n        \"semantic_type\": \"\",\n        \"description\": \"\"\n      }\n    },\n    {\n      \"column\": 2,\n      \"properties\": {\n        \"dtype\": \"string\",\n        \"num_unique_values\": 1,\n        \"samples\": [\n          \"edu\"\n        ],\n        \"semantic_type\": \"\",\n        \"description\": \"\"\n      }\n    },\n    {\n      \"column\": 3,\n      \"properties\": {\n        \"dtype\": \"string\",\n        \"num_unique_values\": 1,\n        \"samples\": [\n          \"file\"\n        ],\n        \"semantic_type\": \"\",\n        \"description\": \"\"\n      }\n    },\n    {\n      \"column\": 4,\n      \"properties\": {\n        \"dtype\": \"string\",\n        \"num_unique_values\": 1,\n        \"samples\": [\n          \"graphics\"\n        ],\n        \"semantic_type\": \"\",\n        \"description\": \"\"\n      }\n    },\n    {\n      \"column\": 5,\n      \"properties\": {\n        \"dtype\": \"string\",\n        \"num_unique_values\": 1,\n        \"samples\": [\n          \"images\"\n        ],\n        \"semantic_type\": \"\",\n        \"description\": \"\"\n      }\n    },\n    {\n      \"column\": 6,\n      \"properties\": {\n        \"dtype\": \"string\",\n        \"num_unique_values\": 1,\n        \"samples\": [\n          \"gif\"\n        ],\n        \"semantic_type\": \"\",\n        \"description\": \"\"\n      }\n    },\n    {\n      \"column\": 7,\n      \"properties\": {\n        \"dtype\": \"string\",\n        \"num_unique_values\": 1,\n        \"samples\": [\n          \"data\"\n        ],\n        \"semantic_type\": \"\",\n        \"description\": \"\"\n      }\n    },\n    {\n      \"column\": 8,\n      \"properties\": {\n        \"dtype\": \"string\",\n        \"num_unique_values\": 1,\n        \"samples\": [\n          \"pub\"\n        ],\n        \"semantic_type\": \"\",\n        \"description\": \"\"\n      }\n    },\n    {\n      \"column\": 9,\n      \"properties\": {\n        \"dtype\": \"string\",\n        \"num_unique_values\": 1,\n        \"samples\": [\n          \"ftp\"\n        ],\n        \"semantic_type\": \"\",\n        \"description\": \"\"\n      }\n    }\n  ]\n}",
              "type": "dataframe"
            },
            "text/html": [
              "\n",
              "  <div id=\"df-7ffcbad3-9f34-4142-9dc2-5c51c8c10a6a\" class=\"colab-df-container\">\n",
              "    <div>\n",
              "<style scoped>\n",
              "    .dataframe tbody tr th:only-of-type {\n",
              "        vertical-align: middle;\n",
              "    }\n",
              "\n",
              "    .dataframe tbody tr th {\n",
              "        vertical-align: top;\n",
              "    }\n",
              "\n",
              "    .dataframe thead th {\n",
              "        text-align: right;\n",
              "    }\n",
              "</style>\n",
              "<table border=\"1\" class=\"dataframe\">\n",
              "  <thead>\n",
              "    <tr style=\"text-align: center;\">\n",
              "      <th></th>\n",
              "      <th>0</th>\n",
              "      <th>1</th>\n",
              "      <th>2</th>\n",
              "      <th>3</th>\n",
              "      <th>4</th>\n",
              "      <th>5</th>\n",
              "      <th>6</th>\n",
              "      <th>7</th>\n",
              "      <th>8</th>\n",
              "      <th>9</th>\n",
              "    </tr>\n",
              "  </thead>\n",
              "  <tbody>\n",
              "    <tr>\n",
              "      <th>0</th>\n",
              "      <td>jpeg</td>\n",
              "      <td>image</td>\n",
              "      <td>edu</td>\n",
              "      <td>file</td>\n",
              "      <td>graphics</td>\n",
              "      <td>images</td>\n",
              "      <td>gif</td>\n",
              "      <td>data</td>\n",
              "      <td>pub</td>\n",
              "      <td>ftp</td>\n",
              "    </tr>\n",
              "  </tbody>\n",
              "</table>\n",
              "</div>\n",
              "    <div class=\"colab-df-buttons\">\n",
              "\n",
              "  <div class=\"colab-df-container\">\n",
              "    <button class=\"colab-df-convert\" onclick=\"convertToInteractive('df-7ffcbad3-9f34-4142-9dc2-5c51c8c10a6a')\"\n",
              "            title=\"Convert this dataframe to an interactive table.\"\n",
              "            style=\"display:none;\">\n",
              "\n",
              "  <svg xmlns=\"http://www.w3.org/2000/svg\" height=\"24px\" viewBox=\"0 -960 960 960\">\n",
              "    <path d=\"M120-120v-720h720v720H120Zm60-500h600v-160H180v160Zm220 220h160v-160H400v160Zm0 220h160v-160H400v160ZM180-400h160v-160H180v160Zm440 0h160v-160H620v160ZM180-180h160v-160H180v160Zm440 0h160v-160H620v160Z\"/>\n",
              "  </svg>\n",
              "    </button>\n",
              "\n",
              "  <style>\n",
              "    .colab-df-container {\n",
              "      display:flex;\n",
              "      gap: 12px;\n",
              "    }\n",
              "\n",
              "    .colab-df-convert {\n",
              "      background-color: #E8F0FE;\n",
              "      border: none;\n",
              "      border-radius: 50%;\n",
              "      cursor: pointer;\n",
              "      display: none;\n",
              "      fill: #1967D2;\n",
              "      height: 32px;\n",
              "      padding: 0 0 0 0;\n",
              "      width: 32px;\n",
              "    }\n",
              "\n",
              "    .colab-df-convert:hover {\n",
              "      background-color: #E2EBFA;\n",
              "      box-shadow: 0px 1px 2px rgba(60, 64, 67, 0.3), 0px 1px 3px 1px rgba(60, 64, 67, 0.15);\n",
              "      fill: #174EA6;\n",
              "    }\n",
              "\n",
              "    .colab-df-buttons div {\n",
              "      margin-bottom: 4px;\n",
              "    }\n",
              "\n",
              "    [theme=dark] .colab-df-convert {\n",
              "      background-color: #3B4455;\n",
              "      fill: #D2E3FC;\n",
              "    }\n",
              "\n",
              "    [theme=dark] .colab-df-convert:hover {\n",
              "      background-color: #434B5C;\n",
              "      box-shadow: 0px 1px 3px 1px rgba(0, 0, 0, 0.15);\n",
              "      filter: drop-shadow(0px 1px 2px rgba(0, 0, 0, 0.3));\n",
              "      fill: #FFFFFF;\n",
              "    }\n",
              "  </style>\n",
              "\n",
              "    <script>\n",
              "      const buttonEl =\n",
              "        document.querySelector('#df-7ffcbad3-9f34-4142-9dc2-5c51c8c10a6a button.colab-df-convert');\n",
              "      buttonEl.style.display =\n",
              "        google.colab.kernel.accessAllowed ? 'block' : 'none';\n",
              "\n",
              "      async function convertToInteractive(key) {\n",
              "        const element = document.querySelector('#df-7ffcbad3-9f34-4142-9dc2-5c51c8c10a6a');\n",
              "        const dataTable =\n",
              "          await google.colab.kernel.invokeFunction('convertToInteractive',\n",
              "                                                    [key], {});\n",
              "        if (!dataTable) return;\n",
              "\n",
              "        const docLinkHtml = 'Like what you see? Visit the ' +\n",
              "          '<a target=\"_blank\" href=https://colab.research.google.com/notebooks/data_table.ipynb>data table notebook</a>'\n",
              "          + ' to learn more about interactive tables.';\n",
              "        element.innerHTML = '';\n",
              "        dataTable['output_type'] = 'display_data';\n",
              "        await google.colab.output.renderOutput(dataTable, element);\n",
              "        const docLink = document.createElement('div');\n",
              "        docLink.innerHTML = docLinkHtml;\n",
              "        element.appendChild(docLink);\n",
              "      }\n",
              "    </script>\n",
              "  </div>\n",
              "\n",
              "    </div>\n",
              "  </div>\n"
            ],
            "text/plain": [
              "    0     1     2     3       4        5     6     7    8    9  \n",
              "0  jpeg  image  edu  file  graphics  images  gif  data  pub  ftp"
            ]
          },
          "execution_count": 52,
          "metadata": {},
          "output_type": "execute_result"
        }
      ],
      "source": [
        "pd.DataFrame(data=[topic_neg])"
      ]
    },
    {
      "cell_type": "markdown",
      "metadata": {
        "id": "CfAMYIuKUAwE"
      },
      "source": [
        "# How to think about the new embedding space\n",
        "\n",
        "If you reduce the dimension from 3 to 2, you may think that the embedding is learning something like:\n",
        "\n",
        "$$[\\text{car}, \\text{truck}, \\text{flower}] \\longrightarrow [(1.3452 * \\text{car} + 0.2828 * \\text{truck}), \\text{flower}]$$"
      ]
    },
    {
      "cell_type": "markdown",
      "metadata": {
        "id": "OSSERBXnUAwE"
      },
      "source": [
        "# 4. Dimensionality Reduction:\n",
        "## Projecting a document into lower-dimensional space\n",
        "\n",
        "We treat the document as a vector $\\mbf{d}$ that lives in a $V$ dimensional space.\n",
        "- We want to use the output of SVD to project $\\mbf{d}$ from V dimension to $k$ where $k\\ll V$.\n",
        "- Usually $k$ is the order of hundreds.\n",
        "\n",
        "We take the matrix $\\mbf{V}_k$ of the SVD decomposition that has dimension $k\\times V$ (this makes sense because $\\mbf{d}$ lives in the same $V$-D space too).\n",
        "$$ \\mbf{d}_k = \\underbrace{\\mbf{V}_k^{\\top}}_{k\\times V}\\underbrace{\\mbf{d}}_{V}$$"
      ]
    },
    {
      "cell_type": "markdown",
      "metadata": {
        "id": "Monz0rKkUAwE"
      },
      "source": [
        "#  Why SVD?\n",
        "\n",
        "Consider $X$ has `term by document` matrix.\n",
        "\n",
        "\\begin{matrix}\n",
        " & \\textbf{d}_j \\\\\n",
        " & \\downarrow \\\\\n",
        "\\textbf{t}_i^T \\rightarrow &\n",
        "\\begin{bmatrix}\n",
        "x_{1,1} & \\dots & x_{1,j} & \\dots & x_{1,n} \\\\\n",
        "\\vdots & \\ddots & \\vdots & \\ddots & \\vdots \\\\\n",
        "x_{i,1} & \\dots & x_{i,j} &  \\dots & x_{i,n} \\\\\n",
        "\\vdots & \\ddots & \\vdots & \\ddots & \\vdots \\\\\n",
        "x_{m,1} & \\dots & x_{m,j} & \\dots & x_{m,n} \\\\\n",
        "\\end{bmatrix}\n",
        "\\end{matrix}\n",
        "\n",
        "- Assuming that you have $\\ell_2$ normalized vectors, you can compute the **similarity** between two terms by evaluating the dot product $\\textbf{t}_i^T\\textbf{t}_j$\n",
        "- If you want to compute it for all pairs just compute the covariance matrix: $\\mbf{X}\\mbf{X}^{\\top}$ which measure all the **correlations between terms in the document space.**"
      ]
    },
    {
      "cell_type": "markdown",
      "metadata": {
        "id": "OE06bOMUUAwE"
      },
      "source": [
        "# Why SVD: decompose correlation of the data\n",
        "\n",
        "$\\mbf{X}\\mbf{X}^{\\top}$ which measures all the **correlations between terms in the document space.** What if we decompose this correlation?"
      ]
    },
    {
      "cell_type": "markdown",
      "metadata": {
        "id": "7NRGSbM6UAwE"
      },
      "source": [
        "\\begin{matrix}\n",
        "\\mathbf{X} \\mathbf{X}^T &=& (\\mathbf{U} \\mathbf{S} \\mathbf{V}^T) (\\mathbf{U} \\mathbf{S} \\mathbf{V}^T)^T = (\\mathbf{U} \\mathbf{S} \\mathbf{V}^T) (\\mathbf{V}^{T^T} \\mathbf{S}^T \\mathbf{U}^T) = \\mathbf{U} \\mathbf{S} \\mathbf{V}^T \\mathbf{V} \\mathbf{S}^T \\mathbf{U}^T = \\mathbf{U} \\underbrace{\\mathbf{S} \\mathbf{S}^T}_{\\Sigma} \\mathbf{U}^T  \\\\\n",
        "\\end{matrix}\n",
        "\n",
        "Singular Value Decomposition of $\\mathbf{X}$ is related to **Eigendecomposition** of the covariance of $\\mathbf{X}$.\n",
        "\n",
        "Eigenvalue $\\sigma_i = \\lambda_i^2 \\quad\\longrightarrow\\quad$ Eigenvalue = squared singular value"
      ]
    },
    {
      "cell_type": "markdown",
      "metadata": {
        "id": "xjn_dIe6UAwF"
      },
      "source": [
        "# Eigendecomposition and Singular Value Decomposition\n",
        "\n",
        "| Method \t| X \t| Decomposition \t|\n",
        "|--------\t|---\t|---------------\t|\n",
        "|     SVD   | any  \t|   $\\mbf{X}=\\mbf{U}\\mbf{\\Sigma}\\mbf{V}^{\\top}$            \t|\n",
        "|     Eigen   | square  \t|   $\\mbf{X}=\\mbf{U}\\mbf{\\Sigma}\\mbf{U}^{-1}$            \t|"
      ]
    },
    {
      "cell_type": "markdown",
      "metadata": {
        "id": "fLMD2loyUAwF"
      },
      "source": [
        "# Decomposition as a Geometric Pipeline\n",
        "\n",
        "$$\\mathbf{A}\\mathbf{x} = \\underbrace{(\\mathbf{U}\n",
        "\\underbrace{(\\mathbf{\\Sigma}\\underbrace{(\\mathbf{U}^{-1}\\mathbf{x})}_{\\text{1st step/rotate}})}_{\\text{2nd step/scale}})}_{\\text{3rd step/rotate}}$$"
      ]
    },
    {
      "cell_type": "markdown",
      "metadata": {
        "id": "vxgPUVHFUAwF"
      },
      "source": [
        "| Method   \t| Step 1 \t| Step 2             \t| Step 3 \t|\n",
        "|----------\t|--------\t|--------------------\t|--------\t|\n",
        "| Geometry \t| rotate \t| scale/reflect axis \t| rotate \t|\n",
        "| SVD      \t|   $\\mbf{V}^T$     \t|   $\\mbf{\\Sigma}$                 \t|  $\\mbf{U}$      \t|\n",
        "| Geometry \t| rotate \t| scale/reflect axis \t| rotate \t|\n",
        "| Eig      \t|  $\\mbf{V}^{-1}$        \t|     $\\mbf{\\Sigma}$                 \t| $\\mbf{U}$         \t|"
      ]
    },
    {
      "cell_type": "markdown",
      "metadata": {
        "id": "XbUOm_aNUAwF"
      },
      "source": [
        "# Problems with LSA and SVD\n",
        "\n",
        "The dimensions of the matrix change very often (new words are added very frequently and corpus changes in size).\n",
        "SVD based methods do not scale well for big matrices and it is hard to incorporate new words or documents.\n",
        "- The matrix is extremely sparse since most words do not co-occur.\n",
        "- The matrix is very high dimensional in general (≈ $10^6 × 10^6$)\n",
        "- Quadratic cost to train (i.e. to perform SVD)\n",
        "- Requires the incorporation of some hacks on X to account for the drastic imbalance in word frequency"
      ]
    },
    {
      "cell_type": "markdown",
      "metadata": {
        "id": "eWHQ35e5UAwF"
      },
      "source": [
        "# Applications: Topic modeling with Gensim\n",
        "<br/>\n",
        "<div align='center'><img src=\"./figs/gensim.png?raw=1\" width='65%' ></div>"
      ]
    },
    {
      "cell_type": "markdown",
      "metadata": {
        "id": "CXdVO6ZgUAwF"
      },
      "source": [
        "# Gensim library\n",
        "\n",
        "- Free python library for topic modeling\n",
        "- It contains **LSA** and also **word2vec**\n",
        "- No deeplearning yet!\n",
        "\n",
        "<div align='center'><img src=\"./figs/gen_sim_lsa.png?raw=1\" width='65%' ></div>\n",
        "\n"
      ]
    },
    {
      "cell_type": "markdown",
      "metadata": {
        "id": "sA7o5-oFUAwF"
      },
      "source": [
        "# Introduction to word2vec"
      ]
    },
    {
      "cell_type": "markdown",
      "metadata": {
        "id": "iDfYgrVqUAwF"
      },
      "source": [
        "# Introduction  to word2vec\n",
        "\n",
        "Word2vec [Mikolov et al. 2013] is a framework for **learning word vectors**.\n",
        "\n",
        "The objective is the same to what we saw in **LSA**."
      ]
    },
    {
      "cell_type": "markdown",
      "metadata": {
        "id": "cBA-rKW9UAwF"
      },
      "source": [
        "# Introduction to word2vec\n",
        "\n",
        "- Still learn short, dense and static embeddings.\n",
        "- Static embeddings: one fixed embedding for each word in the vocabulary\n",
        "\n",
        "Idea: apply **machine learning** and use the text as **self-supervision**\n",
        "\n",
        ">The intuition of word2vec is that instead of counting how often each word w occurs near, say, apricot, we’ll instead train a classifier on a binary prediction task: “Is\n",
        "word w likely to show up near apricot?” We don’t actually care about this prediction\n",
        "task; instead we’ll take the learned classifier weights as the word embeddings."
      ]
    },
    {
      "cell_type": "markdown",
      "metadata": {
        "id": "gZbYMF2lUAwF"
      },
      "source": [
        "# Recap of concepts to understand word2vec\n",
        "\n",
        "- Self-Supervision\n",
        "- Binary Logistic Regression\n",
        "- Softmax classifier (Multinomial Logistic Regression)\n",
        "- Optimization with Gradient Descent"
      ]
    },
    {
      "cell_type": "markdown",
      "metadata": {
        "id": "V59tlnLZUAwF"
      },
      "source": [
        "# Self-Supervision\n",
        "\n",
        "Let's play a game and fill the missing word:\n",
        "\n",
        "```\n",
        "Yesterday, it was a hot summer day in Rome, so I went to a nice\n",
        "gelateria and I bought a delicious yet melting ____________\n",
        "```\n",
        "<br/>\n",
        "\n",
        "| word1   \t| word2 \t| word3             \t| word4\t| sum |\n",
        "|----------\t|--------\t|--------------------\t|--------\t| --------\t|\n",
        "| strolley | ice-cream | parrot|  gelato| |\n",
        "| prob=? | prob=? | prob=?|  prob=?| 1 |\n",
        "\n",
        "**Masking the input:** with self-supervision you have the ground-truth word because it is in the text itself. You simple remove a word and ask the machine to predict the removed word, given some context.\n",
        "\n"
      ]
    },
    {
      "cell_type": "markdown",
      "metadata": {
        "id": "aAekigTmUAwG"
      },
      "source": [
        "# Logistic Regression\n",
        "\n",
        "- The name is a bit _misleading_: it is used as a **discriminative <ins>classifier<ins>**\n",
        "- Discriminative means we model $p(y|x)$ _what is the probability for the label $\\operatorname{prob}(Y=y)$ given $x$?_\n",
        "- Very commonly used algorithm"
      ]
    },
    {
      "cell_type": "markdown",
      "metadata": {
        "id": "-Fow6wW-UAwG"
      },
      "source": [
        "# Logistic Regression\n",
        "\n",
        "- $\\mbf{x} \\in \\mathbb{R}^d \\quad y \\in \\{0,1\\}$\n",
        "\n",
        "$$ \\begin{cases}\n",
        "y=1  \\quad \\text{positive example}\\\\\n",
        "y=0 \\quad \\text{negative example}\\\\\n",
        "\\end{cases} $$"
      ]
    },
    {
      "cell_type": "markdown",
      "metadata": {
        "id": "5woxmwV9UAwG",
        "variables": {
          "import numpy as np;import matplotlib.pyplot as plt;x = np.arange(-20.0, 20.0, 0.1);y = 1/(1+np.exp(-x));_=plt.plot(x,y);": "<img src=\"data:image/png;base64,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\n\"/>"
        }
      },
      "source": [
        "# Logistic Regression (also called Logit)\n",
        "\n",
        "\n",
        "$$f_{\\boldsymbol{\\theta}}(\\mbf{x}) \\doteq \\sigma\\left(  \\bmf{\\theta}^T\\mbf{x} \\right)$$\n",
        "\n",
        "where:\n",
        "\n",
        "$$ \\sigma(z)= \\frac{1}{1+\\exp^{-z}} \\quad \\text{sigmoid or logistic function}$$\n",
        "<br><br> <center>Smooth and Differentiable alternative to sign</center>"
      ]
    },
    {
      "cell_type": "code",
      "execution_count": null,
      "metadata": {
        "colab": {
          "base_uri": "https://localhost:8080/",
          "height": 430
        },
        "id": "h7xEkXP6crnQ",
        "outputId": "a3582ad3-c232-411d-b372-584510681644"
      },
      "outputs": [
        {
          "data": {
            "image/png": "[encoded data removed]",
            "text/plain": [
              "<Figure size 640x480 with 1 Axes>"
            ]
          },
          "metadata": {},
          "output_type": "display_data"
        }
      ],
      "source": [
        "import numpy as np\n",
        "import matplotlib.pyplot as plt\n",
        "\n",
        "x = np.arange(-20.0, 20.0, 0.1)\n",
        "y = 1/(1+np.exp(-x))\n",
        "\n",
        "plt.plot(x,y);"
      ]
    },
    {
      "cell_type": "markdown",
      "metadata": {
        "id": "0Zww2ZfDUAwG"
      },
      "source": [
        "# Logistic Regression - Probabilistic View\n",
        "\n",
        "We model **conditional probability of $y|x$:**\n",
        "\n",
        "$$ \\begin{cases}\n",
        "p(y=1| \\mbf{x};\\bmf{\\theta}) = f_{\\boldsymbol{\\theta}}\\\\\n",
        "p(y=0| \\mbf{x};\\bmf{\\theta}) = ?\\\\\n",
        "\\end{cases} $$\n",
        "\n",
        "<br><br>\n",
        "$$f_{\\boldsymbol{\\theta}}(\\mbf{x}) \\doteq \\sigma\\left(  \\bmf{\\theta}^T\\mbf{x} \\right)$$\n",
        "\n",
        "where:\n",
        "\n",
        "$$ \\sigma(z)= \\frac{1}{1+\\exp^{-z}} \\quad \\text{sigmoid or logistic function}$$\n"
      ]
    },
    {
      "cell_type": "markdown",
      "metadata": {
        "id": "ylJ89R9OUAwG"
      },
      "source": [
        "# Logistic Regression - Probabilistic View\n",
        "\n",
        "We model **conditional probability of $y|x$:**\n",
        "\n",
        "$$ \\begin{cases}\n",
        "p(y=1| \\mbf{x};\\bmf{\\theta}) = f_{\\boldsymbol{\\theta}}\\\\\n",
        "p(y=0| \\mbf{x};\\bmf{\\theta}) = 1- f_{\\boldsymbol{\\theta}}\\\n",
        "\\end{cases} $$\n",
        "\n",
        "<br><br>\n",
        "$$f_{\\boldsymbol{\\theta}}(\\mbf{x}) \\doteq \\sigma\\left(  \\bmf{\\theta}^T\\mbf{x} \\right)$$\n",
        "\n",
        "where:\n",
        "\n",
        "$$ \\sigma(z)= \\frac{1}{1+\\exp^{-z}} \\quad \\text{sigmoid or logistic function}$$\n",
        "\n",
        "$$\\lim_{z\\mapsto \\infty}\\sigma(z)=1$$\n",
        "$$\\lim_{z\\mapsto -\\infty}\\sigma(z)=0$$"
      ]
    },
    {
      "cell_type": "markdown",
      "metadata": {
        "id": "65DdKXB_UAwG"
      },
      "source": [
        "# Logistic Regression - Probabilistic View\n",
        "\n",
        "We model **conditional probability of $y|x$:**\n",
        "\n",
        "$$ \\begin{cases}\n",
        "p(y=1| \\mbf{x};\\bmf{\\theta}) = f_{\\boldsymbol{\\theta}}\\\\\n",
        "p(y=0| \\mbf{x};\\bmf{\\theta}) = 1- f_{\\boldsymbol{\\theta}}\\\n",
        "\\end{cases} $$\n",
        "\n",
        "<br><br>\n",
        "$$f_{\\boldsymbol{\\theta}}(\\mbf{x}) \\doteq \\frac{1}{1+\\exp^{-\\bmf{\\theta}^T\\mbf{x}}}$$\n"
      ]
    },
    {
      "cell_type": "markdown",
      "metadata": {
        "id": "bxx5Sr0jUAwG"
      },
      "source": [
        "# Multinomial Logistic Regression with SoftMax\n",
        "\n",
        "We model **conditional probability of $y|x$:**\n",
        "\n",
        "$$ \\begin{cases}\n",
        "p(y=1| \\mbf{x};\\mbf{W},\\mbf{b}) = p_1 = \\bmf{\\sigma}_1\\left(  \\mbf{W}\\mbf{x} + \\mbf{b} \\right)\\\\\n",
        "p(y=2| \\mbf{x};\\mbf{W},\\mbf{b}) = p_2 =  \\bmf{\\sigma}_2\\left(  \\mbf{W}\\mbf{x} + \\mbf{b} \\right)\\\\\n",
        "\\ldots \\\\\n",
        "p(y=K| \\mbf{x};\\mbf{W},\\mbf{b}) = p_K =  \\bmf{\\sigma}_K\\left(  \\mbf{W}\\mbf{x} + \\mbf{b} \\right)\\\\\n",
        "\\end{cases} $$\n",
        "\n",
        "<br><br>\n",
        "$$f_{\\boldsymbol{\\theta}}(\\mbf{x}) \\doteq \\mbf{z} \\doteq \\bmf{\\sigma}\\left(  \\mbf{W}\\mbf{x} + \\mbf{b} \\right)$$\n",
        "\n",
        "where:\n",
        "\n",
        "$$ \\bmf{\\sigma}_i(z)= \\frac{e^{z_i}}{\\sum_{k=1}^K e^{z_k}} \\quad \\text{Softmax function}$$\n"
      ]
    },
    {
      "cell_type": "markdown",
      "metadata": {
        "id": "Z464M-FTUAwG"
      },
      "source": [
        "# How SoftMax transforms logits into probability\n",
        "\n",
        "<div align='center'><img src=\"./figs/softmax_prob.png?raw=1\" width='75%' ></div>"
      ]
    },
    {
      "cell_type": "markdown",
      "metadata": {
        "id": "3HI0d_HLUAwG"
      },
      "source": [
        "# SoftMax Regression, More Compact Form\n",
        "\n",
        "\n",
        "you can think $\\mbf{z} = \\mbf{W}\\mbf{x}+\\mbf{b}$ as **unormalized log-probability** of each class.\n",
        "\n",
        "\n",
        "$$ p(\\mbf{y}| \\mbf{x};\\mbf{W},\\mbf{b}) = \\frac{\\exp({\\mbf{W}\\mbf{x}+\\mbf{b})}}{\\sum_{k=1}^K\\exp({\\mbf{W}_k\\mbf{x}+\\mbf{b}_k)}} $$\n",
        "\n",
        "\n"
      ]
    },
    {
      "cell_type": "markdown",
      "metadata": {
        "id": "nAQotDbsUAwG"
      },
      "source": [
        "# Learning weights through Stochastic Gradient Descent (SGD)\n",
        "\n",
        "We need to minimize $$ \\mathcal{J}(\\mbf{\\theta};\\mbf{x},y)= \\frac{1}{2} \\sum_{i=1}^{n}\\mathcal{L}\\big(y_{i}, f_{\\boldsymbol{\\theta}}(\\mbf{x}_i)\\big)$$  so to find:\n",
        "\n",
        "$$\\mbf{\\theta}^{\\star} = \\arg\\min_{\\mbf{\\theta}} \\mathcal{J}(\\mbf{\\theta};\\mbf{x},y) $$"
      ]
    },
    {
      "cell_type": "markdown",
      "metadata": {
        "id": "kOk_vPI9UAwG"
      },
      "source": [
        "# Gradient Descent Algorithm as an Iterative Method\n",
        "\n",
        "<ins>**Idea: make little step so that locally after each step the cost is lower than before**</ins><br>\n",
        "Input: Training set $\\{\\mbf{x}_i,y_i\\}$, learning rate  $\\gamma$, a small value in $\\{0.1,\\ldots,\\texttt{1e-6}\\}$."
      ]
    },
    {
      "cell_type": "markdown",
      "metadata": {
        "id": "uOsBGG2-UAwH"
      },
      "source": [
        "1. **Initialization - Very Important if the function is not strictly convex**\n",
        "$$\n",
        "\\bmf{\\theta} \\doteq \\mbf{0}^T\n",
        "$$ Set it to all zeros or random initialization from a distribution.\n",
        "2. Repeat until **convergence**:\n",
        "    - Compute the gradient of the loss wrt to the parameters $\\bmf{\\theta}$ given **all the training set**\n",
        "    - Take a small step in the opposite direction of steepest ascent **(so steepest descent).**<br/><br/>\n",
        "     $$\\bmf{\\theta} \\leftarrow  \\bmf{\\theta} -\\gamma \\bmf{\\nabla}_{\\bmf{\\theta}}\\mathcal{J}(\\mbf{\\theta};\\mbf{x},y)$$\n",
        "3. When convergence is reached, you final estimate is in $\\bmf{\\theta}$"
      ]
    },
    {
      "cell_type": "markdown",
      "metadata": {
        "id": "XJtp5gfnUAwH"
      },
      "source": [
        "# Convergence\n",
        "\n",
        "$$\\big\\{\\bmf{\\theta}_{t=0},\\bmf{\\theta}_{t=1}, \\ldots, \\bmf{\\theta}_{t=100} \\big\\}$$\n",
        "\n",
        "### 0) <ins>Always:</ins> validation loss/metric _(early stopping)_ (required)\n",
        "\n",
        "### 1) No significant decrease in the loss function (preferred)\n",
        "\n",
        "$$\\mid \\mathcal{J}(\\mbf{\\theta};\\mbf{x},y)_{t} - \\mathcal{J}(\\mbf{\\theta};\\mbf{x},y)_{t-1}   \\mid $$\n",
        "\n",
        "### 1) No variations in the parameters\n",
        "\n",
        "$$\\mid\\mid \\mbf{\\theta}_{t} - \\mbf{\\theta}_{t-1}   \\mid\\mid $$\n",
        "\n",
        "### 2) Gradient Norm goes to zero\n",
        "\n",
        "$$\\mid\\mid \\bmf{\\nabla}_{\\bmf{\\theta}}\\mathcal{J}(\\mbf{\\theta};\\mbf{x},y)   \\mid\\mid \\rightarrow 0 $$\n"
      ]
    },
    {
      "cell_type": "code",
      "execution_count": null,
      "metadata": {
        "colab": {
          "base_uri": "https://localhost:8080/",
          "height": 619
        },
        "hide_input": false,
        "id": "Z40fi_JGUAwH",
        "outputId": "75f4f9b4-e1a3-482b-f338-e0be50b3957d"
      },
      "outputs": [
        {
          "data": {
            "image/png": "[encoded data removed]",
            "text/plain": [
              "<Figure size 700x700 with 1 Axes>"
            ]
          },
          "metadata": {},
          "output_type": "display_data"
        }
      ],
      "source": [
        "%matplotlib inline\n",
        "from sklearn import linear_model, datasets\n",
        "from matplotlib import pyplot as plt\n",
        "import numpy as np\n",
        "\n",
        "n_samples = 100\n",
        "size = 7\n",
        "\n",
        "X, y, coef_gt = datasets.make_regression(\n",
        "    n_samples=n_samples,\n",
        "    n_features=1,\n",
        "    n_informative=1,\n",
        "    noise=20,\n",
        "    coef=True,\n",
        "    random_state=42,\n",
        ")\n",
        "\n",
        "fig = plt.figure(figsize=(size, size))\n",
        "ax = fig.add_subplot()\n",
        "\n",
        "# Linear Regression\n",
        "bias = np.ones((X.shape[0], 1))\n",
        "X = np.hstack((X, bias))\n",
        "theta = np.linalg.inv(X.T@X)@X.T@y\n",
        "\n",
        "# Now MeshGrid\n",
        "Xmin, Xmax = X.min(), X.max()\n",
        "x_interp = np.linspace(Xmin, Xmax, 100)\n",
        "x_interp = x_interp.reshape(-1,1)\n",
        "x_interp = np.c_[x_interp,np.ones_like(x_interp)]\n",
        "y_interp = np.dot(theta, x_interp.T)\n",
        "\n",
        "ax.scatter(x_interp[:,0], y_interp, alpha=0.7, marker='.')\n",
        "ax.scatter(X[..., 0], y, c='red', marker='o')\n",
        "ax.set_xlabel('$x$');\n",
        "ax.set_ylabel('$y$');"
      ]
    },
    {
      "cell_type": "code",
      "execution_count": null,
      "metadata": {
        "id": "F5j3keAVUAwH"
      },
      "outputs": [],
      "source": [
        "# do mesh grid on possible theta, evaluate the loss and plot the countf\n",
        "theta_sampling = 50\n",
        "theta_space = np.linspace(-200, 200, theta_sampling)\n",
        "xxt, yyt = np.meshgrid(theta_space, theta_space)\n",
        "xxt = xxt.flatten()\n",
        "yyt = yyt.flatten()\n",
        "all_coeff = np.stack((xxt, yyt), axis=1)\n",
        "loss = 0.5*1"
      ]
    },
    {
      "cell_type": "code",
      "execution_count": null,
      "metadata": {
        "id": "5h-p0ageUAwH"
      },
      "outputs": [],
      "source": [
        "losses = []\n",
        "for coeff in all_coeff:\n",
        "    diff = np.dot(X, coeff.T) - y\n",
        "    losses.append(0.5*np.dot(diff.T, diff))\n",
        "losses = np.array(losses)\n",
        "losses = losses.reshape(theta_sampling, theta_sampling)\n",
        "xxt = xxt.reshape(theta_sampling, theta_sampling)\n",
        "yyt = yyt.reshape(theta_sampling, theta_sampling)"
      ]
    },
    {
      "cell_type": "code",
      "execution_count": null,
      "metadata": {
        "colab": {
          "base_uri": "https://localhost:8080/",
          "height": 468
        },
        "id": "oBj4GPr1UAwH",
        "outputId": "a4781609-445f-4124-e821-58622d620c4e"
      },
      "outputs": [
        {
          "data": {
            "image/png": "[encoded data removed]",
            "text/plain": [
              "<Figure size 640x480 with 2 Axes>"
            ]
          },
          "metadata": {},
          "output_type": "display_data"
        }
      ],
      "source": [
        "plt.rcParams['axes.grid'] = False\n",
        "plt.contourf(xxt, yyt, losses, levels=50, cmap='jet')\n",
        "plt.colorbar()\n",
        "plt.scatter(coef_gt, 0, color='red', marker='o', s=50)\n",
        "plt.axis('scaled')\n",
        "plt.xlabel('$theta_1$')\n",
        "plt.ylabel('$theta_2$');"
      ]
    },
    {
      "cell_type": "markdown",
      "metadata": {
        "id": "mTn2gV5hUAwH"
      },
      "source": [
        "# Ready for an awesome demo?"
      ]
    },
    {
      "cell_type": "code",
      "execution_count": null,
      "metadata": {
        "colab": {
          "base_uri": "https://localhost:8080/",
          "height": 1000
        },
        "id": "0nMcQTGafstS",
        "outputId": "0a030256-4d95-4829-c35c-ce2dc8053c8b"
      },
      "outputs": [
        {
          "data": {
            "image/png": "[encoded data removed]",
            "text/plain": [
              "<Figure size 1200x1200 with 4 Axes>"
            ]
          },
          "metadata": {},
          "output_type": "display_data"
        },
        {
          "data": {
            "image/png": "[encoded data removed]",
            "text/plain": [
              "<Figure size 1200x1200 with 4 Axes>"
            ]
          },
          "metadata": {},
          "output_type": "display_data"
        }
      ],
      "source": [
        "import time\n",
        "from IPython import display\n",
        "\n",
        "def get_diff(X, theta, y):\n",
        "    return X@theta - y[..., np.newaxis]\n",
        "\n",
        "\n",
        "def get_loss(diff):\n",
        "    return 0.5*np.dot(diff.T, diff)\n",
        "\n",
        "\n",
        "def plot_line(plot3, theta):\n",
        "    x_interp = np.linspace(Xmin, Xmax, 100)\n",
        "    x_interp = x_interp.reshape(-1, 1)\n",
        "    x_interp = np.c_[x_interp, np.ones_like(x_interp)]\n",
        "    y_interp = np.dot(x_interp, theta)\n",
        "    if plot3:\n",
        "        plot3.set_xdata(x_interp[:, 0])\n",
        "        plot3.set_ydata(y_interp)\n",
        "    else:\n",
        "        return x_interp, y_interp\n",
        "\n",
        "Xmin, Xmax = X.min(), X.max()\n",
        "plt.ion()\n",
        "figure, (axes_1, axes_2) = plt.subplots(2, 2, figsize=(12, 12))\n",
        "plt.rcParams['axes.grid'] = False\n",
        "ax0, ax1 = axes_1\n",
        "ax2, ax3 = axes_2\n",
        "ax0.contourf(xxt, yyt, losses, levels=50, cmap='jet')\n",
        "ax0.scatter(coef_gt, 0, color='red', marker='o', s=50)\n",
        "ax0.set_xlabel('$theta_1$',fontsize=18)\n",
        "ax0.set_ylabel('$theta_2$',fontsize=18)\n",
        "ax1.set_ylabel('$loss$',fontsize=18)\n",
        "ax1.set_xlabel('$iter$',fontsize=18)\n",
        "ax1.set(xlim=(0, 100), ylim=(0, 1.28e6))\n",
        "ax2.scatter(X[..., 0], y, c='red', marker='o')\n",
        "ax2.set_xlabel('$x$',fontsize=18)\n",
        "ax2.set_ylabel('$y$',fontsize=18)\n",
        "ax3.set_ylabel('$Grad. Norm.$',fontsize=18)\n",
        "ax3.set_xlabel('$iter$',fontsize=18)\n",
        "ax3.set(xlim=(0, 100), ylim=(0, 20000))\n",
        "\n",
        "theta_curr = np.array([[-100, -100]]).T\n",
        "losses_track = [get_loss(get_diff(X, theta_curr, y))]\n",
        "grad_norm_track = [1000]\n",
        "\n",
        "theta_track = np.array(theta_curr)\n",
        "lr = 1e-3\n",
        "loss_tol = 10\n",
        "\n",
        "hdisplay = display.display(\"\", display_id=True)\n",
        "\n",
        "plot1, = ax0.plot(*theta_curr, color='violet',\n",
        "                  marker='.', markersize=5, linestyle='-')\n",
        "plot2, = ax1.plot(*losses_track, color='blue',\n",
        "                  marker='.', markersize=10, linestyle='--')\n",
        "xi, yi = plot_line(None, theta_curr)\n",
        "plot3a,plot3b = ax2.plot(xi, yi, color='blue', marker='.',\n",
        "                  markersize=3, linestyle='--')\n",
        "plot4, = ax3.plot(1000, color='blue',\n",
        "                  marker='.', markersize=10, linestyle='--')\n",
        "while True:\n",
        "    #clear_output(wait=True)\n",
        "    diff = get_diff(X, theta_curr, y)\n",
        "    grad = (diff * X).sum(axis=0, keepdims=True).T\n",
        "    theta_curr = theta_curr - lr*grad\n",
        "    theta_track = np.append(theta_track, theta_curr, axis=1)\n",
        "    diff = get_diff(X, theta_curr, y)\n",
        "    losses_track.append(get_loss(diff))\n",
        "    grad_norm_track.append(np.linalg.norm(grad,2))\n",
        "    if abs(losses_track[-2]-losses_track[-1]) < loss_tol:\n",
        "        break\n",
        "    plot1.set_xdata(theta_track[0, :])\n",
        "    plot1.set_ydata(theta_track[1, :])\n",
        "    plot2.set_xdata(range(len(losses_track)))\n",
        "    plot2.set_ydata(losses_track)\n",
        "    plot4.set_xdata(range(len(grad_norm_track[1:])))\n",
        "    plot4.set_ydata(grad_norm_track[1:])\n",
        "    plot_line(plot3a, theta_curr)\n",
        "    plot_line(plot3b, theta_curr)\n",
        "    hdisplay.update(figure)\n",
        "    time.sleep(0.1)"
      ]
    },
    {
      "cell_type": "code",
      "execution_count": null,
      "metadata": {
        "colab": {
          "base_uri": "https://localhost:8080/"
        },
        "id": "xJrFQFzPm0mQ",
        "outputId": "4a8ae01a-cdfe-4d2b-f083-4c2dc381c69b"
      },
      "outputs": [
        {
          "name": "stdout",
          "output_type": "stream",
          "text": [
            "[46.09610615] [1.80913084]\n"
          ]
        }
      ],
      "source": [
        "print(*theta_curr)"
      ]
    },
    {
      "cell_type": "markdown",
      "metadata": {
        "id": "pmDTXNihUAwI"
      },
      "source": [
        "# Let's go back to word2vec"
      ]
    },
    {
      "cell_type": "markdown",
      "metadata": {
        "id": "Zz0tk2DaUAwI"
      },
      "source": [
        "# Introduction to word2vec\n",
        "\n",
        "- We have a very **large corpus** on which we apply **self-supervision**\n",
        "   - The corpus defines the vocabulary $V$.\n",
        "- Every word in $V$ is represented as a vector in a $D$ dimensional    vector space\n",
        "   - e.g. D = 100.\n",
        "- The parametric model $\\mathbf{\\theta}$ that we learn **depends on all vectors for all the words**"
      ]
    },
    {
      "cell_type": "markdown",
      "metadata": {
        "cell_style": "split",
        "id": "p35yrwwoUAwI"
      },
      "source": [
        "# word2vec is a generic framework\n",
        "\n",
        "`word2vec` presents two algorithms:\n",
        " 1. **Skip-Gram** _(we see it today!)_\n",
        " 2. Continuous Bag-of-Word (CBOW)\n"
      ]
    },
    {
      "cell_type": "markdown",
      "metadata": {
        "cell_style": "split",
        "id": "iPkS-_t0UAwI"
      },
      "source": [
        "<br>\n",
        "\n",
        "Also it offers different training methods:\n",
        " - **with softmax**  _(we see it today!)_\n",
        " - negative sampling from [Mikolov et al. 2013]\n",
        " - hierarchical softmax"
      ]
    },
    {
      "cell_type": "markdown",
      "metadata": {
        "id": "uHhNQtZ5UAwI"
      },
      "source": [
        "# word2vec: Skip-Gram with softmax\n",
        "\n",
        "Parameters to learn: $$\\bmf{\\theta} = [\\bmf{\\theta}_W;\\bmf{\\theta}_C]$$\n",
        "\n",
        "<div align='center'><img src=\"./figs/word2vec_params.png?raw=1\" width='65%' ></div>"
      ]
    },
    {
      "cell_type": "markdown",
      "metadata": {
        "id": "tecU_B9yUAwI"
      },
      "source": [
        "# word2vec: Skip-Gram with softmax\n",
        "\n",
        "Parameters to learn:   $\\bmf{\\theta} = [\\bmf{\\theta}_W;\\bmf{\\theta}_C]$\n",
        "\n",
        "- $\\bmf{\\theta}_W$ is a matrix $|V|\\times D$ where we store a vector in D dimensions for each word of the vocabulary $V$. We store vectors when the word $w$ works as a **$\\underline{center}$**.\n",
        "- $\\bmf{\\theta}_C$ is a matrix $|V|\\times D$ where we store a vector in D dimensions for each word of the vocabulary $V$. We store vectors when the word $w$ works as the **$\\underline{context}$**.\n",
        "\n",
        "Thus the number of parameters to learn $\\bmf{\\theta}$ is $\\quad 2\\cdot|V|\\cdot D$\n"
      ]
    },
    {
      "cell_type": "markdown",
      "metadata": {
        "id": "s6-Eex3LUAwI"
      },
      "source": [
        "# Sample question you may find in the exam\n",
        "\n",
        "Given a **word2vec** model with **skip-gram** that learns word embedding $\\bmf{\\theta}_i\\Rd{10}$ with a vocabulary of $100$ words, how many parameters word2vec needs to be learned? What is the dimension of the matrix learned?"
      ]
    },
    {
      "cell_type": "markdown",
      "metadata": {
        "id": "XsZu9INtUAwI"
      },
      "source": [
        "## Answer"
      ]
    },
    {
      "cell_type": "markdown",
      "metadata": {
        "id": "d7Prnj9RUAwI"
      },
      "source": [
        "word2vec learns two vectors for each word in the vocabulary. One vector in case the word is considered as target; one vector in case the word functions as context. Given that the vectors are in 10-D space, the number of params is $2\\cdot10\\cdot100 = 2000$.\n",
        "The matrix $\\bmf{\\theta}$ shape is $2\\cdot100 \\times 10$, where each row indicates a word in the vocabulary."
      ]
    },
    {
      "cell_type": "markdown",
      "metadata": {
        "id": "wpuMogCAUAwJ"
      },
      "source": [
        "# word2vec: Skip-Gram Self-Supervision\n",
        "\n",
        "We start from a large corpus of text:\n",
        "\n",
        "`... lemon, a tablespoon of apricot jam, a pinch ...`\n",
        "\n",
        "and a window that defines the context (let's assume window size is $m=2$ and centered at the index $t$)."
      ]
    },
    {
      "cell_type": "markdown",
      "metadata": {
        "id": "UgbVF6POUAwJ"
      },
      "source": [
        "# word2vec: Skip-Gram Self-Supervision\n",
        "\n",
        "Given a window size of $m=2$ words as **context**, we select:\n",
        "- the center word $w_t$, apricot in this case.\n",
        "- 2 words as context on the left of $w_t$ $\\longrightarrow$ ($w_{t-2}$, $w_{t-1}$)\n",
        "- 2 word as context on the right of $w_t$ $\\longrightarrow$ ($w_{t+1}$, $w_{t+2}$)\n",
        "\n",
        "|   | ~~lemon~~, | ~~a~~ | [tablespoon | of | apricot | jam | a] | ~~pinch~~ |\n",
        "|:-:|:------:|:-:|:-----------:|:--:|:-------:|:---:|:--:|:-----:|\n",
        "|   |        |   |      w_{t-2}     | w_{t-1} |    **$w_t$**    |  w_{t+1} | w_{t+2} |       |\n",
        "\n"
      ]
    },
    {
      "cell_type": "markdown",
      "metadata": {
        "id": "z4v1QzQSUAwJ"
      },
      "source": [
        "# word2vec: Skip-Gram Self-Supervision\n",
        "\n",
        "|   | ~~lemon~~, | ~~a~~ | [tablespoon | of | apricot | jam | a] | ~~pinch~~ |\n",
        "|:-:|:------:|:-:|:-----------:|:--:|:-------:|:---:|:--:|:-----:|\n",
        "|   |        |   |      w_{t-2}     | w_{t-1} |    **$w_t$**    |  w_{t+1} | w_{t+2} |       |\n",
        "\n",
        "Let's assume the vocabulary is made of $|V|$ words:\n",
        "\n",
        "| word1   \t| word2 \t| word3             \t| ...\t | wordN\t|\n",
        "|----------\t|--------\t|--------------------\t|--------\t|--------\t|\n",
        "| lemon | tablespoon | gelato  | ... | jam |\n",
        "\n",
        "Note: $|V|$ is possibly in the order of millions."
      ]
    },
    {
      "cell_type": "markdown",
      "metadata": {
        "id": "jU7vqyV6UAwJ"
      },
      "source": [
        "# word2vec: Skip-Gram Self-Supervision\n",
        "\n",
        "$$\n",
        "p(w_{t-2},w_{t-1},w_{t+1},w_{t+2}|w_t=\\text{apricot};\\bmf{\\theta})\n",
        "$$\n",
        "\n",
        "|   | ~~lemon~~, | ~~a~~ | [tablespoon | of | apricot | jam | a] | ~~pinch~~ |\n",
        "|:-:|:------:|:-:|:-----------:|:--:|:-------:|:---:|:--:|:-----:|\n",
        "|   |        |   |      w_{t-2}     | w_{t-1} |    **$w_t$**    |  w_{t+1} | w_{t+2} |       |\n"
      ]
    },
    {
      "cell_type": "markdown",
      "metadata": {
        "id": "6i7RkVE5UAwJ"
      },
      "source": [
        "# word2vec: Skip-Gram Self-Supervision\n",
        "\n",
        "⚠️ With **strong naive conditional independence assumption**\n",
        "<br/>\n",
        "\n",
        "$$ p(w_{t-2},w_{t-1},w_{t+1},w_{t+2}|w_t;\\bmf{\\theta}) \\approx \\prod_{-m\\leq j\\leq m} p(c_{t+j}|w_t;\\bmf{\\theta})$$\n",
        "\n",
        "<br/>\n",
        "\n",
        "|   | ~~lemon~~, | ~~a~~ | [tablespoon | of | apricot | jam | a] | ~~pinch~~ |\n",
        "|:-:|:------:|:-:|:-----------:|:--:|:-------:|:---:|:--:|:-----:|\n",
        "|   |        |   |      w_{t-2}     | w_{t-1} |    **$w_t$**    |  w_{t+1} | w_{t+2} |       |\n"
      ]
    },
    {
      "cell_type": "markdown",
      "metadata": {
        "id": "nV3CUENmUAwJ"
      },
      "source": [
        "# word2vec: Skip-Gram Self-Supervision\n",
        "\n",
        "Given the example below, we have to compute:\n",
        "<br/>\n",
        "\n",
        "$$p(w_{t-2}|w_t)\\cdot p(w_{t-1}|w_t)\\cdot p(w_{t+1}|w_t)\\cdot p(w_{t+2}|w_t)$$\n",
        "<br/>\n",
        "\n",
        "|   | ~~lemon~~, | ~~a~~ | [tablespoon | of | apricot | jam | a] | ~~pinch~~ |\n",
        "|:-:|:------:|:-:|:-----------:|:--:|:-------:|:---:|:--:|:-----:|\n",
        "|   |        |   |      w_{t-2}     | w_{t-1} |    **$w_t$**    |  w_{t+1} | w_{t+2} |       |\n"
      ]
    },
    {
      "cell_type": "markdown",
      "metadata": {
        "id": "D5LanRpCUAwJ"
      },
      "source": [
        "# word2vec: Skip-Gram Self-Supervision\n",
        "\n",
        "Given the example below, we have to compute:\n",
        "<br/>\n",
        "\n",
        "$$p(w_{t-2}|w_t)\\cdot p(w_{t-1}|w_t)\\cdot p(w_{t+1}|w_t)\\cdot p(w_{t+2}|w_t)$$\n",
        "<br/><br/>\n",
        "<div align='center'><img src=\"./figs/word2vec_skipgram.png?raw=1\" width='65%' ></div>"
      ]
    },
    {
      "cell_type": "markdown",
      "metadata": {
        "id": "Q8Q8z3xBUAwJ"
      },
      "source": [
        "# How to compute $p(w_{t-1}|w_{t})$?\n",
        "$$ p(w_{t-1}|w=\\text{apricot})$$\n",
        "\n",
        "We have to predict $w_{t-1}$ given the center word $w_t$. Note $w_{t-1}$ can takes values based on the words in $V$.\n",
        "\n",
        "Think $w_{t-1}$ as a **categorical variable** where its possible state spans $V$.\n",
        "\n",
        "| word1   \t| word2 \t| word3             \t| ...\t | wordN\t|\n",
        "|----------\t|--------\t|--------------------\t|--------\t|--------\t|\n",
        "| lemone | tablespoon | gelato  | ... | jam |"
      ]
    },
    {
      "cell_type": "markdown",
      "metadata": {
        "id": "2YfCHql-UAwJ"
      },
      "source": [
        "# How to compute $p(w_{t-1}|w_{t})$?\n",
        "1. $i$ is the index of the center word $w$ in $V$ and also $\\bmf{\\theta}_{W}$. **Compare the embedding of $w$ as center word $\\bmf{\\theta}_{W}[i]$ vs embeddings of all context words $\\bmf{\\theta}_{C}$**  with matrix to vector product.\n",
        "$$\\underbrace{\\mbf{z}}_{|V|\\times 1}=\\overbrace{\\underbrace{\\bmf{\\theta}_C}_{|V|\\times D}}^{\\text{as context}}\\cdot\\overbrace{\\underbrace{\\bmf{\\theta}_{W}[i]^T}_{D\\times 1}}^{\\text{as center}} $$\n",
        "\n",
        "2. $\\mbf{z}$ is logits and encodes the similarity via dot product of the center word embedding $\\bmf{\\theta}_{W}[i]$ **against all vocabulary words** taken as context $\\bmf{\\theta}_C$\n",
        "\n",
        "3. We pass $\\mbf{z}$ through softmax operator to get a distribution over $|V|$ as: $$\\mbf{p}=\\operatorname{softmax}(\\mbf{z}) $$\n",
        "\n",
        "You can think $\\mbf{p}$ as of this form:\n",
        "\n",
        "|    \t| lemon   \t| tablespoon \t| gelato             \t| ...\t | jam\t|\n",
        "|----------|----------\t|--------\t|--------------------\t|--------\t|--------\t|\n",
        "|**p** | 0.001 | 0.1 | 0.03  | ... | 0.15 |"
      ]
    },
    {
      "cell_type": "markdown",
      "metadata": {
        "id": "sVyh2pDFUAwJ"
      },
      "source": [
        "# How to compute $p(w_{t-1}|w_{t})$?\n",
        "\n",
        "$$\\mbf{p}=\\operatorname{softmax}\\big(\\bmf{\\theta}_C\\cdot\\bmf{\\theta}_{W}[i]^T\\big) $$\n",
        "\n",
        "You can think $\\mbf{p}$ as of this form:\n",
        "\n",
        "|    \t| lemon   \t| tablespoon \t| gelato             \t| ...\t | jam\t|\n",
        "|----------|----------\t|--------\t|--------------------\t|--------\t|--------\t|\n",
        "|**p** | 0.001 | 0.1 | 0.03  | ... | 0.15 |\n",
        "\n",
        "🤔 Note: until now we did not used the self-supervised label! We did not use the **ground-truth index for $w_{t-1}$**. (i.e. the fact that $w_{t-1}$ is actually `tablespoon`!"
      ]
    },
    {
      "cell_type": "markdown",
      "metadata": {
        "id": "a5lmgbxQUAwJ"
      },
      "source": [
        "|   | ~~lemon~~, | ~~a~~ | [tablespoon | of | apricot | jam | a] | ~~pinch~~ |\n",
        "|:-:|:------:|:-:|:-----------:|:--:|:-------:|:---:|:--:|:-----:|\n",
        "|   |        |   |      w_{t-2}     | w_{t-1} |    **$w_t$**    |  w_{t+1} | w_{t+2} |       |"
      ]
    },
    {
      "cell_type": "markdown",
      "metadata": {
        "id": "_DMdkNG7UAwK"
      },
      "source": [
        "# Loss function: compare two discrete distributions\n",
        "\n",
        "$$\\mbf{p}=\\operatorname{softmax}\\big(\\bmf{\\theta}_C\\cdot\\bmf{\\theta}_{W}[i]^T\\big) $$\n",
        "\n",
        "You can think $\\mbf{p}$ as of this form:\n",
        "\n",
        "|    \t| lemon   \t| tablespoon \t| gelato             \t| ...\t | jam\t|\n",
        "|----------|----------\t|--------\t|--------------------\t|--------\t|--------\t|\n",
        "|**p (word2vec prediction)**        | 0.001 | 0.1 | 0.03  | ... | 0.15 |\n",
        "\n",
        "\n",
        "Let's consider the label as a one-hot encoding vector where 1 is over the ground-truth word given by the text.\n",
        "\n",
        "|    \t| lemon   \t| tablespoon \t| gelato             \t| ...\t | jam\t|\n",
        "|----------|----------\t|--------\t|--------------------\t|--------\t|--------\t|\n",
        "|**y label (ground-truth $w_{t-1}$)** | 0 | 1 | 0  | ... | 0 |\n",
        "\n",
        "### We want to adjust the weights $\\bmf{\\theta}$ so that $\\mbf{p}$ matches the label!"
      ]
    },
    {
      "cell_type": "markdown",
      "metadata": {
        "id": "XMf-pzqaUAwK"
      },
      "source": [
        "# Loss function: compare two discrete distributions\n",
        "## In this example $V$ has two words\n",
        "\n",
        "Who can tell me how we can compare two _[discrete]_ probability distributions? We use **cross-entropy.**\n",
        "<br><br>\n",
        "<div align='center'><img src=\"./figs/distributions.png?raw=1\" width='65%' ></div>"
      ]
    },
    {
      "cell_type": "markdown",
      "metadata": {
        "id": "CHX59zrUUAwK"
      },
      "source": [
        "# Loss function: Cross-entropy (CE)\n",
        "\n",
        "- $\\bm{y}=[0,0,0,1,0]$ is the **one-hot encoding of the labels** $\\rightarrow$ This is self-supervised by the text itself!\n",
        "- $\\bm{p}(w_{t-1}|w_{t})=[0.1, 0.1, 0.1, 0.35, 0.35]$ is the output from `word2vec`. We want $\\bm{p}$ to match $\\bm{y}$.\n",
        "<br><br>\n",
        "$$\n",
        "\\mathcal{L}(w_{t-1},w_{t};\\bm{\\theta})=-\\bm{y}^{\\top} \\log\\big(\\bm{p}(w_{t-1}|w_{t}) \\big)\n",
        "$$\n",
        "<br><br>\n",
        "$$-0\\cdot\\ln(0.1)-0\\cdot\\ln(0.1)-0\\cdot\\ln(0.1)\\underbrace{-1\\cdot\\ln(0.35)}_{\\text{only this matter}}-0\\cdot\\ln(0.35)=-1\\cdot\\ln(0.35)\\approx1.04$$"
      ]
    },
    {
      "cell_type": "markdown",
      "metadata": {
        "id": "i0y7ibhlUAwK"
      },
      "source": [
        "# One-hot encoding is a selector!\n",
        "\n",
        "\n",
        "- $\\bm{y}=[0,0,0,1,0]$ $\\rightarrow$ works as a selector of probability of the actual ground-truth word that we removed!\n",
        "- Of the probabilites returned by `word2vec` select that for which the index $gt$ corresponds to the `1` in the label $\\bm{y}$\n",
        "- in our case, $gt$ is the index of `tablespoon` in $|V|$.\n",
        "\n",
        "$$ \\mathcal{L}(w_{t-1},w_{t};\\bm{\\theta}) = -\\log \\bm{p}\\big(w_{t-1}|w_{t}\\big){[gt]}$$"
      ]
    },
    {
      "cell_type": "markdown",
      "metadata": {
        "id": "w1wlyjykUAwK"
      },
      "source": [
        "# Loss function simplified\n",
        "\n",
        "We can select immediately $[gt]$ in the numerator.\n",
        "\n",
        "$$\n",
        "\\mathcal{L}(w_{t-1},w_{t};\\mbf{\\theta}) = -\\log \\left(\\frac{\\exp \\big( \\bm{\\theta}_{C}[gt]\\cdot\\bm{\\theta}_{W}[i]^T \\big)}{\\sum_{v=1}^{V} \\exp \\big(\\bm{\\theta}_{C}[v]\\cdot\\bm{\\theta}_{W}[i]^T\\big)}\\right)\n",
        "$$\n",
        "\n",
        "Sometimes is shown as:\n",
        "\n",
        "$$\n",
        "\\mathcal{L}(w_{t-1},w_{t};\\mbf{\\theta}) = \\underbrace{-\\bm{\\theta}_{C}[gt]\\cdot\\bm{\\theta}_{W}[i]^T}_{\\text{similarity center vs context}} + \\underbrace{\\log\\Big(\\sum_{v=1}^{V} \\exp \\big(\\bm{\\theta}_{C}[v]\\cdot\\bm{\\theta}_{W}[i]^T\\big)\\Big)}_{\\text{make sure it is a probability}}\n",
        "$$"
      ]
    },
    {
      "cell_type": "markdown",
      "metadata": {
        "id": "URlDntG5UAwK"
      },
      "source": [
        "# Exercise A: compute the loss for a center word in word2vec\n",
        "\n",
        "$$\\bm{p}=\\operatorname{softmax}\\big(\\bmf{\\theta}_C\\cdot\\bmf{\\theta}_{W}[i]^T\\big) $$\n",
        "\n",
        "You can think $\\bm{p}$ as of this form:\n",
        "\n",
        "|    \t| lemon   \t| tablespoon \t| gelato             \t| ...\t | jam\t|\n",
        "|----------|----------\t|--------\t|--------------------\t|--------\t|--------\t|\n",
        "|**p (word2vec prediction)**        | 0.001 | 0.1 | 0.03  | ... | 0.15 |\n",
        "\n",
        "\n",
        "Let's consider the label as a one-hot encoding vector where 1 is over the ground-truth word given by the text.\n",
        "\n",
        "|    \t| lemon   \t| tablespoon \t| gelato             \t| ...\t | jam\t|\n",
        "|----------|----------\t|--------\t|--------------------\t|--------\t|--------\t|\n",
        "|**y label (ground-truth)** | 0 | 1 | 0  | ... | 0 |\n",
        "\n",
        "$$ \\mathcal{L}(w_{t-1},w_{t};\\bm{\\theta}) = -\\log \\bm{p}\\big(w_{t-1}|w_{t}\\big){[gt]} = -\\ln(0.1)\\approx 2.30$$"
      ]
    },
    {
      "cell_type": "markdown",
      "metadata": {
        "id": "0EuwXNOhUAwK"
      },
      "source": [
        "# Exercise B: similar but more complex\n",
        "\n",
        "We give 2D matrix of $\\theta_W$ and $\\theta_C$, the position of the center word and context word, compute the loss."
      ]
    },
    {
      "cell_type": "markdown",
      "metadata": {
        "id": "akjZIY3pUAwK"
      },
      "source": [
        "# Likelihood over a window\n",
        "\n",
        "Likelihood of the data given the parameters.\n",
        "$$L(\\bm{\\theta})=p\\big(w_{t-2},w_{t-1},w_{t+1},w_{t+2}|w;\\bm{\\theta}\\big) \\approx \\prod_{-m\\leq j\\leq m, j \\neq 0}p(w_{t+j}|w_{t};\\bm{\\theta})$$\n",
        "\n",
        "We seek the parameters $\\bm{\\theta}$ that maximizes the likelihood of the data.\n",
        "\n",
        "$$ \\bm{\\theta}^{\\star} = \\arg\\max_{\\bm{\\theta}} L(\\bm{\\theta})=p\\big(w_{t-2},w_{t-1},w_{t+1},w_{t+2}|w;\\bm{\\theta}\\big)$$"
      ]
    },
    {
      "cell_type": "markdown",
      "metadata": {
        "id": "sU1g8aU0UAwL"
      },
      "source": [
        "# Loss function over a window\n",
        "\n",
        "$$\n",
        "\\bm{\\theta}^{\\star} = \\arg\\max_{\\bm{\\theta}} L(\\bm{\\theta})= \\prod_{-m\\leq j\\leq m, j \\neq 0}p(w_{t+j}|w_{t};\\bm{\\theta})\n",
        "$$\n",
        "\n",
        "Logarithm is a strictly monotonic function so we can flip the sign, apply the $\\log()$ and **minimize the loss instead:**\n",
        "\n",
        "### Minimize the cross-entropy loss $\\leftrightarrow$ maximizing the likelihood of the data given the parameters\n",
        "<br>\n",
        "\n",
        "$$\n",
        "\\bm{\\theta}^{\\star} = \\arg\\min_{\\bm{\\theta}} \\mathcal{L}(\\bm{\\theta})=-\\sum_{-m\\leq j\\leq m, j \\neq 0} \\log\\big(p(w_{t+j}|w_t;\\bm{\\theta})\\big)\n",
        "$$"
      ]
    },
    {
      "cell_type": "markdown",
      "metadata": {
        "id": "avZmJ9m6UAwL"
      },
      "source": [
        "# Loss over a window, over all possible windows\n",
        "\n",
        "We iterate over all possibile center words with $t \\in \\{1\\ldots T\\}$ maximizing the likelihood:\n",
        "$$\\bmf{\\theta}^{\\star} = \\arg\\max_{\\bmf{\\theta}} L(\\bmf{\\theta})= \\prod_{t=1}^T\\prod_{-m\\leq j\\leq m, j \\neq 0}p(w_{t+j}|w_{t};\\bmf{\\theta}) $$\n",
        "\n",
        "In practice, we minimize the average negative log-likelihood (loss):\n",
        "\n",
        "$$\\bmf{\\theta}^{\\star} = \\arg\\min_{\\bmf{\\theta}} \\mathcal{L}(\\bmf{\\theta})=-\\frac{1}{T}\\sum_{t=1}^T\\sum_{-m\\leq j\\leq m, j \\neq 0} \\log\\big(p(w_{t+j}|w_t;\\bmf{\\theta})\\big)$$\n",
        "\n",
        "\n",
        "### Minimize the cross-entropy loss is $\\leftrightarrow$ maximizing the likelihood of the data given the parameters"
      ]
    },
    {
      "cell_type": "markdown",
      "metadata": {
        "id": "75dUBRo5UAwL"
      },
      "source": [
        "# We optimize the loss with SGD\n",
        "\n",
        "$$\\bmf{\\theta}^{\\star} = \\arg\\min_{\\bmf{\\theta}} \\mathcal{L}(\\bmf{\\theta})=-\\frac{1}{T}\\sum_{t=1}^T\\sum_{-m\\leq j\\leq m, j \\neq 0} \\log\\big(p(w_{t+j}|w_t;\\bmf{\\theta})\\big)$$\n",
        "\n",
        "To optimize our $\\bmf{\\theta}$ we have to make a small step in the negative direction of the gradient:\n",
        "\n",
        "$$\\bmf{\\theta} \\leftarrow  \\bmf{\\theta} -\\gamma \\bmf{\\nabla}_{\\bmf{\\theta}}\\mathcal{J}(\\mbf{\\theta};w_{t-1},w_t)$$"
      ]
    },
    {
      "cell_type": "markdown",
      "metadata": {
        "id": "paGy0AVfUAwL"
      },
      "source": [
        "Pseudo-code of the training:\n",
        "\n",
        "```python\n",
        "gamma = 1e-3\n",
        "while not converged:\n",
        "    loss = word2vec(corpus, theta)\n",
        "    theta_grad = evaluate_gradient(loss, corpus, theta)\n",
        "    theta = theta - gamma*theta_grad\n",
        "```"
      ]
    },
    {
      "cell_type": "markdown",
      "metadata": {
        "id": "-oXpGic_UAwL"
      },
      "source": [
        "## Example: compute the gradient of the loss wrt center word embedding\n",
        "\n",
        "Define $\\mbf{u}_c\\doteq\\bmf{\\theta}_{W}[i]$ and $\\mbf{u}_o \\doteq \\bmf{\\theta}_{C}[gt]$. Compute the gradient of the loss wrt. to the embedding of the center word $\\mbf{u}_c$\n",
        "\n",
        "$$\n",
        "\\nabla_{\\mbf{u}_c} \\mathcal{L}(\\mbf{u}_c,\\mbf{u}_o) =  \\nabla_{\\mbf{u}_c} -\\log \\left(\\frac{\\exp \\big( \\mbf{u}_o\\cdot\\mbf{u}_c^T \\big)}{\\sum_{v=1}^{V} \\exp \\big(\\mbf{u}_v\\cdot\\mbf{u}_c^T\\big)}\\right)\n",
        "$$\n",
        "\n",
        "Continue on the whiteboard"
      ]
    },
    {
      "cell_type": "markdown",
      "metadata": {
        "id": "qT_wyL5IUAwL"
      },
      "source": [
        "# word2vec with Skip-Gram at a glance\n",
        "\n",
        "... and why it can be seen as a tiny neural net.\n",
        "\n",
        "<div align='center'><img src=\"./figs/word2vec_layers.png?raw=1\" width='65%' ></div>"
      ]
    },
    {
      "cell_type": "markdown",
      "metadata": {
        "id": "XdxYFvaoUAwL"
      },
      "source": [
        "# word2vec learned space\n",
        "\n",
        "word2vec minimizes the loss function by putting similar words (words that happen in same context) nearby in space\n",
        "\n",
        "\n",
        "<div align='center'><img src=\"./figs/word2vec_space.png?raw=1\" width='65%' ></div>\n",
        "<small>Taken from Stanford slide<small>"
      ]
    },
    {
      "cell_type": "markdown",
      "metadata": {
        "id": "5UM4B-Y3UAwL"
      },
      "source": [
        "# Let's play with word2vec"
      ]
    },
    {
      "cell_type": "markdown",
      "metadata": {
        "id": "1HkU2W0TUAwL"
      },
      "source": [
        "# Show available models in Gensim\n",
        "\n",
        "You need Gensim."
      ]
    },
    {
      "cell_type": "code",
      "execution_count": null,
      "metadata": {
        "colab": {
          "base_uri": "https://localhost:8080/"
        },
        "id": "NN1NsbzpUAwL",
        "outputId": "c8413a11-bee1-496a-85e3-3b41dd0a9eca"
      },
      "outputs": [
        {
          "data": {
            "text/plain": [
              "['fasttext-wiki-news-subwords-300',\n",
              " 'conceptnet-numberbatch-17-06-300',\n",
              " 'word2vec-ruscorpora-300',\n",
              " 'word2vec-google-news-300',\n",
              " 'glove-wiki-gigaword-50',\n",
              " 'glove-wiki-gigaword-100',\n",
              " 'glove-wiki-gigaword-200',\n",
              " 'glove-wiki-gigaword-300',\n",
              " 'glove-twitter-25',\n",
              " 'glove-twitter-50',\n",
              " 'glove-twitter-100',\n",
              " 'glove-twitter-200',\n",
              " '__testing_word2vec-matrix-synopsis']"
            ]
          },
          "execution_count": 32,
          "metadata": {},
          "output_type": "execute_result"
        }
      ],
      "source": [
        "import gensim.downloader\n",
        "# Show all available models in gensim-data\n",
        "list(gensim.downloader.info()['models'].keys())"
      ]
    },
    {
      "cell_type": "markdown",
      "metadata": {
        "id": "M6c4M9rcUAwL"
      },
      "source": [
        "# Let's play with word2vec\n",
        "\n",
        "This is a word2vec trained on entire Google News dataset, of about **100 billion words.**\n",
        "\n",
        "`word2vec-google-news-300`\n",
        "\n",
        "Model is 1.6GB so it will take time to download (it will show progress bar)!\n",
        "\n"
      ]
    },
    {
      "cell_type": "code",
      "execution_count": 3,
      "metadata": {
        "colab": {
          "base_uri": "https://localhost:8080/"
        },
        "id": "UEzX9ofIUAwL",
        "outputId": "9ffb26d7-f9d4-4aa7-c9d8-cc173928ea6d"
      },
      "outputs": [
        {
          "name": "stdout",
          "output_type": "stream",
          "text": [
            "[==================================================] 100.0% 1662.8/1662.8MB downloaded\n"
          ]
        }
      ],
      "source": [
        "import gensim.downloader as api\n",
        "wv = api.load('word2vec-google-news-300')\n",
        "# [==================================================] 100.0% 1662.8/1662.8MB downloaded"
      ]
    },
    {
      "cell_type": "markdown",
      "metadata": {
        "id": "X5vSyvOZUAwM"
      },
      "source": [
        "# The vocabulary"
      ]
    },
    {
      "cell_type": "code",
      "execution_count": null,
      "metadata": {
        "colab": {
          "base_uri": "https://localhost:8080/"
        },
        "id": "CnhjnlSIUAwM",
        "outputId": "988528f9-2eae-4e26-9c98-1a56fc8fe182"
      },
      "outputs": [
        {
          "name": "stdout",
          "output_type": "stream",
          "text": [
            "vocabulary size is 3000000\n",
            "word #0 over 3000000 is </s>\n",
            "word #1 over 3000000 is in\n",
            "word #2 over 3000000 is for\n",
            "word #3 over 3000000 is that\n",
            "word #4 over 3000000 is is\n",
            "word #5 over 3000000 is on\n",
            "word #6 over 3000000 is ##\n",
            "word #7 over 3000000 is The\n",
            "word #8 over 3000000 is with\n",
            "word #9 over 3000000 is said\n"
          ]
        }
      ],
      "source": [
        "N = len(wv.index_to_key)\n",
        "print(f'vocabulary size is {N}')\n",
        "\n",
        "for index, word in enumerate(wv.index_to_key):\n",
        "    if index == 10:\n",
        "        break\n",
        "    print(f\"word #{index} over {N} is {word}\")"
      ]
    },
    {
      "cell_type": "markdown",
      "metadata": {
        "id": "Ooyb0HRbUAwM"
      },
      "source": [
        "# Accessing a word embedding"
      ]
    },
    {
      "cell_type": "code",
      "execution_count": null,
      "metadata": {
        "colab": {
          "base_uri": "https://localhost:8080/"
        },
        "id": "-Qj0wPH0UAwM",
        "outputId": "3daddead-348e-49f0-c6ef-2d04f1afd46b"
      },
      "outputs": [
        {
          "name": "stdout",
          "output_type": "stream",
          "text": [
            "vector shape is (300,)\n"
          ]
        }
      ],
      "source": [
        "vec_king = wv['king']\n",
        "print(f'vector shape is {vec_king.shape}')"
      ]
    },
    {
      "cell_type": "code",
      "execution_count": null,
      "metadata": {
        "colab": {
          "base_uri": "https://localhost:8080/",
          "height": 110
        },
        "id": "CCfbvapfUAwM",
        "outputId": "fe6ab220-14fa-4a24-c070-64d1afed60ff"
      },
      "outputs": [
        {
          "data": {
            "application/vnd.google.colaboratory.intrinsic+json": {
              "type": "dataframe"
            },
            "text/html": [
              "\n",
              "  <div id=\"df-d1b6a35f-1b2f-40f3-b8bd-277e1eebcdd1\" class=\"colab-df-container\">\n",
              "    <div>\n",
              "<style scoped>\n",
              "    .dataframe tbody tr th:only-of-type {\n",
              "        vertical-align: middle;\n",
              "    }\n",
              "\n",
              "    .dataframe tbody tr th {\n",
              "        vertical-align: top;\n",
              "    }\n",
              "\n",
              "    .dataframe thead th {\n",
              "        text-align: right;\n",
              "    }\n",
              "</style>\n",
              "<table border=\"1\" class=\"dataframe\">\n",
              "  <thead>\n",
              "    <tr style=\"text-align: right;\">\n",
              "      <th></th>\n",
              "      <th>0</th>\n",
              "      <th>1</th>\n",
              "      <th>2</th>\n",
              "      <th>3</th>\n",
              "      <th>4</th>\n",
              "      <th>5</th>\n",
              "      <th>6</th>\n",
              "      <th>7</th>\n",
              "      <th>8</th>\n",
              "      <th>9</th>\n",
              "      <th>...</th>\n",
              "      <th>290</th>\n",
              "      <th>291</th>\n",
              "      <th>292</th>\n",
              "      <th>293</th>\n",
              "      <th>294</th>\n",
              "      <th>295</th>\n",
              "      <th>296</th>\n",
              "      <th>297</th>\n",
              "      <th>298</th>\n",
              "      <th>299</th>\n",
              "    </tr>\n",
              "  </thead>\n",
              "  <tbody>\n",
              "    <tr>\n",
              "      <th>king</th>\n",
              "      <td>0.125977</td>\n",
              "      <td>0.029785</td>\n",
              "      <td>0.008606</td>\n",
              "      <td>0.139648</td>\n",
              "      <td>-0.025635</td>\n",
              "      <td>-0.036133</td>\n",
              "      <td>0.111816</td>\n",
              "      <td>-0.198242</td>\n",
              "      <td>0.05127</td>\n",
              "      <td>0.363281</td>\n",
              "      <td>...</td>\n",
              "      <td>-0.004669</td>\n",
              "      <td>-0.244141</td>\n",
              "      <td>-0.209961</td>\n",
              "      <td>-0.287109</td>\n",
              "      <td>-0.04541</td>\n",
              "      <td>-0.177734</td>\n",
              "      <td>-0.279297</td>\n",
              "      <td>-0.085938</td>\n",
              "      <td>0.091309</td>\n",
              "      <td>0.251953</td>\n",
              "    </tr>\n",
              "  </tbody>\n",
              "</table>\n",
              "<p>1 rows × 300 columns</p>\n",
              "</div>\n",
              "    <div class=\"colab-df-buttons\">\n",
              "\n",
              "  <div class=\"colab-df-container\">\n",
              "    <button class=\"colab-df-convert\" onclick=\"convertToInteractive('df-d1b6a35f-1b2f-40f3-b8bd-277e1eebcdd1')\"\n",
              "            title=\"Convert this dataframe to an interactive table.\"\n",
              "            style=\"display:none;\">\n",
              "\n",
              "  <svg xmlns=\"http://www.w3.org/2000/svg\" height=\"24px\" viewBox=\"0 -960 960 960\">\n",
              "    <path d=\"M120-120v-720h720v720H120Zm60-500h600v-160H180v160Zm220 220h160v-160H400v160Zm0 220h160v-160H400v160ZM180-400h160v-160H180v160Zm440 0h160v-160H620v160ZM180-180h160v-160H180v160Zm440 0h160v-160H620v160Z\"/>\n",
              "  </svg>\n",
              "    </button>\n",
              "\n",
              "  <style>\n",
              "    .colab-df-container {\n",
              "      display:flex;\n",
              "      gap: 12px;\n",
              "    }\n",
              "\n",
              "    .colab-df-convert {\n",
              "      background-color: #E8F0FE;\n",
              "      border: none;\n",
              "      border-radius: 50%;\n",
              "      cursor: pointer;\n",
              "      display: none;\n",
              "      fill: #1967D2;\n",
              "      height: 32px;\n",
              "      padding: 0 0 0 0;\n",
              "      width: 32px;\n",
              "    }\n",
              "\n",
              "    .colab-df-convert:hover {\n",
              "      background-color: #E2EBFA;\n",
              "      box-shadow: 0px 1px 2px rgba(60, 64, 67, 0.3), 0px 1px 3px 1px rgba(60, 64, 67, 0.15);\n",
              "      fill: #174EA6;\n",
              "    }\n",
              "\n",
              "    .colab-df-buttons div {\n",
              "      margin-bottom: 4px;\n",
              "    }\n",
              "\n",
              "    [theme=dark] .colab-df-convert {\n",
              "      background-color: #3B4455;\n",
              "      fill: #D2E3FC;\n",
              "    }\n",
              "\n",
              "    [theme=dark] .colab-df-convert:hover {\n",
              "      background-color: #434B5C;\n",
              "      box-shadow: 0px 1px 3px 1px rgba(0, 0, 0, 0.15);\n",
              "      filter: drop-shadow(0px 1px 2px rgba(0, 0, 0, 0.3));\n",
              "      fill: #FFFFFF;\n",
              "    }\n",
              "  </style>\n",
              "\n",
              "    <script>\n",
              "      const buttonEl =\n",
              "        document.querySelector('#df-d1b6a35f-1b2f-40f3-b8bd-277e1eebcdd1 button.colab-df-convert');\n",
              "      buttonEl.style.display =\n",
              "        google.colab.kernel.accessAllowed ? 'block' : 'none';\n",
              "\n",
              "      async function convertToInteractive(key) {\n",
              "        const element = document.querySelector('#df-d1b6a35f-1b2f-40f3-b8bd-277e1eebcdd1');\n",
              "        const dataTable =\n",
              "          await google.colab.kernel.invokeFunction('convertToInteractive',\n",
              "                                                    [key], {});\n",
              "        if (!dataTable) return;\n",
              "\n",
              "        const docLinkHtml = 'Like what you see? Visit the ' +\n",
              "          '<a target=\"_blank\" href=https://colab.research.google.com/notebooks/data_table.ipynb>data table notebook</a>'\n",
              "          + ' to learn more about interactive tables.';\n",
              "        element.innerHTML = '';\n",
              "        dataTable['output_type'] = 'display_data';\n",
              "        await google.colab.output.renderOutput(dataTable, element);\n",
              "        const docLink = document.createElement('div');\n",
              "        docLink.innerHTML = docLinkHtml;\n",
              "        element.appendChild(docLink);\n",
              "      }\n",
              "    </script>\n",
              "  </div>\n",
              "\n",
              "    </div>\n",
              "  </div>\n"
            ],
            "text/plain": [
              "           0         1         2         3         4         5         6    \\\n",
              "king  0.125977  0.029785  0.008606  0.139648 -0.025635 -0.036133  0.111816   \n",
              "\n",
              "           7        8         9    ...       290       291       292  \\\n",
              "king -0.198242  0.05127  0.363281  ... -0.004669 -0.244141 -0.209961   \n",
              "\n",
              "           293      294       295       296       297       298       299  \n",
              "king -0.287109 -0.04541 -0.177734 -0.279297 -0.085938  0.091309  0.251953  \n",
              "\n",
              "[1 rows x 300 columns]"
            ]
          },
          "execution_count": 39,
          "metadata": {},
          "output_type": "execute_result"
        }
      ],
      "source": [
        "import pandas as pd\n",
        "pd.DataFrame(dict(king=vec_king.tolist())).T"
      ]
    },
    {
      "cell_type": "markdown",
      "metadata": {
        "id": "xUH0KzI2UAwM"
      },
      "source": [
        "Watch out if you do not pass before through the vocabulary before asking the model"
      ]
    },
    {
      "cell_type": "code",
      "execution_count": null,
      "metadata": {
        "colab": {
          "base_uri": "https://localhost:8080/"
        },
        "id": "dI3eedSfUAwM",
        "outputId": "e35f0db3-3373-487d-ef26-18cc2bd8d96a"
      },
      "outputs": [
        {
          "name": "stdout",
          "output_type": "stream",
          "text": [
            "The word 'cameroon' does not appear in this model\n"
          ]
        }
      ],
      "source": [
        "try:\n",
        "    vec_cameroon = wv['cameroon']\n",
        "except KeyError:\n",
        "    print(\"The word 'cameroon' does not appear in this model\")"
      ]
    },
    {
      "cell_type": "markdown",
      "metadata": {
        "id": "iyEMpqZ8UAwM"
      },
      "source": [
        "# Word similarities!"
      ]
    },
    {
      "cell_type": "code",
      "execution_count": null,
      "metadata": {
        "colab": {
          "base_uri": "https://localhost:8080/"
        },
        "id": "nvlBnRsLUAwM",
        "outputId": "6f00142b-c694-4da5-ff3b-65f78ece4380"
      },
      "outputs": [
        {
          "name": "stdout",
          "output_type": "stream",
          "text": [
            "'car'\t'minivan'\t0.69\n",
            "'car'\t'bicycle'\t0.54\n",
            "'car'\t'airplane'\t0.42\n",
            "'car'\t'cereal'\t0.14\n",
            "'car'\t'communism'\t0.06\n",
            "'car'\t'cartoon'\t0.03\n"
          ]
        }
      ],
      "source": [
        "pairs = [\n",
        "    ('car', 'minivan'),   # a minivan is a kind of car\n",
        "    ('car', 'bicycle'),   # still a wheeled vehicle\n",
        "    ('car', 'airplane'),  # ok, no wheels, but still a vehicle\n",
        "    ('car', 'cereal'),    # ... and so on\n",
        "    ('car', 'communism'),\n",
        "    ('car', 'cartoon'),\n",
        "]\n",
        "for w1, w2 in pairs:\n",
        "    print('%r\\t%r\\t%.2f' % (w1, w2, wv.similarity(w1, w2)))"
      ]
    },
    {
      "cell_type": "markdown",
      "metadata": {
        "id": "Hq1_UgoPUAwM"
      },
      "source": [
        "# Most similar"
      ]
    },
    {
      "cell_type": "code",
      "execution_count": null,
      "metadata": {
        "colab": {
          "base_uri": "https://localhost:8080/"
        },
        "id": "M0zXMULmUAwN",
        "outputId": "4de1ef7e-93cc-4701-941b-7e140eea763a"
      },
      "outputs": [
        {
          "data": {
            "text/plain": [
              "[('SUV', 0.8532192707061768),\n",
              " ('vehicle', 0.8175783753395081),\n",
              " ('pickup_truck', 0.7763688564300537),\n",
              " ('Jeep', 0.7567334175109863),\n",
              " ('Ford_Explorer', 0.7565720081329346)]"
            ]
          },
          "execution_count": 43,
          "metadata": {},
          "output_type": "execute_result"
        }
      ],
      "source": [
        "wv.most_similar(positive=['car', 'minivan'], topn=5)"
      ]
    },
    {
      "cell_type": "markdown",
      "metadata": {
        "id": "rCGv97DZUAwN"
      },
      "source": [
        "# Outlier detection"
      ]
    },
    {
      "cell_type": "code",
      "execution_count": null,
      "metadata": {
        "colab": {
          "base_uri": "https://localhost:8080/",
          "height": 35
        },
        "id": "TJwge0VVUAwN",
        "outputId": "0f182e94-6b62-423e-dc4c-687fdce47b11"
      },
      "outputs": [
        {
          "data": {
            "application/vnd.google.colaboratory.intrinsic+json": {
              "type": "string"
            },
            "text/plain": [
              "'car'"
            ]
          },
          "execution_count": 44,
          "metadata": {},
          "output_type": "execute_result"
        }
      ],
      "source": [
        "wv.doesnt_match(['fire', 'water', 'land', 'sea', 'air', 'car'])"
      ]
    },
    {
      "cell_type": "markdown",
      "metadata": {
        "id": "CAcIu3rDUAwN"
      },
      "source": [
        "# Analogy using the learned embedding space\n",
        "\n",
        "- word2vec learns relationships between words automatically\n",
        "- Arithmetic of the vectors has surprising properties!\n",
        "\n",
        "`a is to b as a* is to what?`\n",
        "\n",
        "`Man is to King as Woman is to ______`"
      ]
    },
    {
      "cell_type": "markdown",
      "metadata": {
        "id": "fCvbHuXuUAwN"
      },
      "source": [
        "### Algebric way\n",
        "\n",
        "$$\\bmf{\\theta}_W(\\text{king}) - \\bmf{\\theta}_W(\\text{man}) + \\bmf{\\theta}_W(\\text{woman}) \\approx \\bmf{\\theta}_W(\\text{queen})$$"
      ]
    },
    {
      "cell_type": "markdown",
      "metadata": {
        "id": "BHF1mKYDUAwN"
      },
      "source": [
        "# Analogy using the learned embedding space\n",
        "### Geometric way (parallelogram model)\n",
        "<div align='center'><img src=\"./figs/word2vec_analogy.png?raw=1\" width='35%' ></div>"
      ]
    },
    {
      "cell_type": "markdown",
      "metadata": {
        "id": "Fizmt1SNUAwN"
      },
      "source": [
        "# Analogy using the learned embedding space\n",
        "### Optimization\n",
        "$$ \\mbf{a}:\\mbf{b} = \\mbf{a}^{\\star}: \\mbf{b}^{\\star}? $$\n",
        "\n",
        "$$ \\mbf{b}^{\\star} = \\arg\\max_{\\mbf{x}} \\text{sim}(\\mbf{x},\\mbf{b}-\\mbf{a}+\\mbf{a}^{\\star})$$\n",
        "\n",
        "<div align='center'><img src=\"./figs/word2vec_analogy.png?raw=1\" width='35%' ></div>"
      ]
    },
    {
      "cell_type": "markdown",
      "metadata": {
        "id": "Xebb8uqgUAwN"
      },
      "source": [
        "# Analogy"
      ]
    },
    {
      "cell_type": "code",
      "execution_count": null,
      "metadata": {
        "id": "0nEgj7h9UAwN"
      },
      "outputs": [],
      "source": [
        "def analogy(x1, x2, y1):\n",
        "    result = wv.most_similar(positive=[y1, x2], negative=[x1])\n",
        "    return result[0][0]"
      ]
    },
    {
      "cell_type": "code",
      "execution_count": null,
      "metadata": {
        "colab": {
          "base_uri": "https://localhost:8080/",
          "height": 35
        },
        "id": "xTVKYDQfUAwN",
        "outputId": "15dea1dd-91cd-4955-ca7a-862dbc45d38e"
      },
      "outputs": [
        {
          "data": {
            "application/vnd.google.colaboratory.intrinsic+json": {
              "type": "string"
            },
            "text/plain": [
              "'queen'"
            ]
          },
          "execution_count": 46,
          "metadata": {},
          "output_type": "execute_result"
        }
      ],
      "source": [
        "analogy('man', 'king', 'woman')"
      ]
    },
    {
      "cell_type": "code",
      "execution_count": null,
      "metadata": {
        "colab": {
          "base_uri": "https://localhost:8080/",
          "height": 35
        },
        "id": "4bW2gnqzUAwO",
        "outputId": "8b1cf840-73e0-41cb-fd27-4f6f5aa9c359"
      },
      "outputs": [
        {
          "data": {
            "application/vnd.google.colaboratory.intrinsic+json": {
              "type": "string"
            },
            "text/plain": [
              "'beers'"
            ]
          },
          "execution_count": 47,
          "metadata": {},
          "output_type": "execute_result"
        }
      ],
      "source": [
        "analogy('australia', 'beer', 'france')# does not work well with Glove should give you champagne\n"
      ]
    },
    {
      "cell_type": "code",
      "execution_count": null,
      "metadata": {
        "colab": {
          "base_uri": "https://localhost:8080/",
          "height": 35
        },
        "id": "edbirjQ4UAwO",
        "outputId": "bb4d81da-5a9a-4387-a8a8-3750a2268615"
      },
      "outputs": [
        {
          "data": {
            "application/vnd.google.colaboratory.intrinsic+json": {
              "type": "string"
            },
            "text/plain": [
              "'kerry'"
            ]
          },
          "execution_count": 48,
          "metadata": {},
          "output_type": "execute_result"
        }
      ],
      "source": [
        "analogy('obama', 'clinton', 'reagan')"
      ]
    },
    {
      "cell_type": "code",
      "execution_count": null,
      "metadata": {
        "colab": {
          "base_uri": "https://localhost:8080/",
          "height": 35
        },
        "id": "whXiwX7AUAwO",
        "outputId": "aa60eb48-d2f7-4fbb-c018-530d3d75b39f"
      },
      "outputs": [
        {
          "data": {
            "application/vnd.google.colaboratory.intrinsic+json": {
              "type": "string"
            },
            "text/plain": [
              "'longest'"
            ]
          },
          "execution_count": 49,
          "metadata": {},
          "output_type": "execute_result"
        }
      ],
      "source": [
        "analogy('tall', 'tallest', 'long')"
      ]
    },
    {
      "cell_type": "code",
      "execution_count": null,
      "metadata": {
        "colab": {
          "base_uri": "https://localhost:8080/",
          "height": 35
        },
        "id": "EnAG03H9UAwO",
        "outputId": "923dc219-a632-472e-f387-4cb2a5864685"
      },
      "outputs": [
        {
          "data": {
            "application/vnd.google.colaboratory.intrinsic+json": {
              "type": "string"
            },
            "text/plain": [
              "'horrible'"
            ]
          },
          "execution_count": 50,
          "metadata": {},
          "output_type": "execute_result"
        }
      ],
      "source": [
        "analogy('good', 'fantastic', 'bad')"
      ]
    },
    {
      "cell_type": "markdown",
      "metadata": {
        "id": "rfjDgRBEtRvU"
      },
      "source": [
        "# Exercises\n",
        "\n",
        "### Objective:\n",
        "\n",
        "The goal of these exercises is to deepen your understanding of word vectors (also known as word embeddings) by performing a series of tasks that involve manipulating and analyzing these vectors. Word vectors are a fundamental concept in natural language processing (NLP) and underpin many modern AI models and applications."
      ]
    },
    {
      "cell_type": "markdown",
      "metadata": {
        "id": "gQoTLz_kzn4p"
      },
      "source": [
        "## 1. Words Similarity"
      ]
    },
    {
      "cell_type": "code",
      "execution_count": null,
      "metadata": {
        "id": "5p3QGBiftTR9"
      },
      "outputs": [],
      "source": [
        "# Compute cosine similarities\n",
        "pairs = [('king', 'queen'), ('Paris', 'France'), ('apple', 'orange')]\n",
        "\n",
        "def cosine_similarity(vec1, vec2):\n",
        "    '''\n",
        "    Your Code\n",
        "    '''\n",
        "    return 0\n",
        "\n",
        "# Test the cosine_similarity function\n",
        "for word1, word2 in pairs:\n",
        "    similarity = cosine_similarity(wv[word1], wv[word2])\n",
        "    print(f\"Cosine similarity between '{word1}' and '{word2}': {similarity:.2f}\")"
      ]
    },
    {
      "cell_type": "markdown",
      "metadata": {
        "id": "g5PxAuygzwvo"
      },
      "source": [
        "### Solution"
      ]
    },
    {
      "cell_type": "code",
      "execution_count": null,
      "metadata": {
        "colab": {
          "base_uri": "https://localhost:8080/"
        },
        "id": "5dVf65q96966",
        "outputId": "395a255b-fa8a-4ac6-d5e4-3c9206fec537"
      },
      "outputs": [
        {
          "name": "stdout",
          "output_type": "stream",
          "text": [
            "Cosine similarity between 'king' and 'queen': 0.65\n",
            "Cosine similarity between 'Paris' and 'France': 0.63\n",
            "Cosine similarity between 'apple' and 'orange': 0.39\n"
          ]
        }
      ],
      "source": [
        "def cosine_similarity(vec1, vec2):\n",
        "  return np.dot(vec1, vec2) / (np.linalg.norm(vec1) * np.linalg.norm(vec2))\n",
        "\n",
        "for word1, word2 in pairs:\n",
        "  similarity = cosine_similarity(wv[word1], wv[word2])\n",
        "  print(f\"Cosine similarity between '{word1}' and '{word2}': {similarity:.2f}\")"
      ]
    },
    {
      "cell_type": "markdown",
      "metadata": {
        "id": "OinkZYm_zzY9"
      },
      "source": [
        "## 2. Words Clustering"
      ]
    },
    {
      "cell_type": "code",
      "execution_count": null,
      "metadata": {
        "id": "v7y-LOCO6qof"
      },
      "outputs": [],
      "source": [
        "words = ['dog', 'cat', 'apple',  'pear', 'pie', 'pasta', 'orange', 'king', 'queen', 'car', 'bicycle', 'Paris', 'London', 'happy', 'sad', 'big', 'small', 'fast', 'slow', 'hot', 'cold', 'bright', 'dark']"
      ]
    },
    {
      "cell_type": "code",
      "execution_count": null,
      "metadata": {
        "id": "-rFRfjoA6rsI"
      },
      "outputs": [],
      "source": [
        "import numpy as np\n",
        "\n",
        "# Select words and extract their vectors\n",
        "word_vectors = np.array([wv[word] for word in words])\n",
        "\n",
        "# Perform K-means clustering\n",
        "kmeans = KMeans(n_clusters=4, random_state=0, n_init='auto')\n",
        "clusters_dict = {}\n",
        "\n",
        "# Cluster word vectors and fill the dictionary\n",
        "'''\n",
        "Your Code\n",
        "'''\n",
        "\n",
        "for cluster, cl_words in enumerate(clusters_dict.values()):\n",
        "    print(f\"Cluster {cluster}: {cl_words}\")"
      ]
    },
    {
      "cell_type": "markdown",
      "metadata": {
        "id": "wfAXsC9ez-sX"
      },
      "source": [
        "### Solution"
      ]
    },
    {
      "cell_type": "code",
      "execution_count": null,
      "metadata": {
        "colab": {
          "base_uri": "https://localhost:8080/"
        },
        "id": "jJBFfhr5sKRY",
        "outputId": "c8f428f2-11af-475b-a1cf-6096fa789700"
      },
      "outputs": [
        {
          "name": "stdout",
          "output_type": "stream",
          "text": [
            "Cluster 0: ['dog', 'cat', 'car', 'bicycle']\n",
            "Cluster 1: ['apple', 'pear', 'orange', 'dark']\n",
            "Cluster 2: ['pie', 'pasta', 'king', 'queen', 'happy', 'sad', 'big', 'small', 'fast', 'slow', 'hot', 'cold', 'bright']\n",
            "Cluster 3: ['Paris', 'London']\n"
          ]
        }
      ],
      "source": [
        "from sklearn.cluster import KMeans\n",
        "\n",
        "# Perform K-means clustering\n",
        "kmeans = KMeans(n_clusters=4, random_state=0, n_init='auto')\n",
        "kmeans = kmeans.fit(word_vectors)\n",
        "clusters = kmeans.labels_\n",
        "\n",
        "# then we can iterate over the clusters\n",
        "clusters_dict = {}\n",
        "for i, cluster in enumerate(clusters):\n",
        "    if cluster not in clusters_dict:\n",
        "        clusters_dict[cluster] = []\n",
        "    clusters_dict[cluster].append(words[i])\n",
        "\n",
        "for cluster, cl_words in enumerate(clusters_dict.values()):\n",
        "    print(f\"Cluster {cluster}: {cl_words}\")"
      ]
    },
    {
      "cell_type": "markdown",
      "metadata": {
        "id": "gk5Wvnqq0Ab-"
      },
      "source": [
        "## 3. Vector Space Visualization\n",
        "\n",
        "Let's visualize the word vectors from the previous exercise on a 2D Plot."
      ]
    },
    {
      "cell_type": "code",
      "execution_count": null,
      "metadata": {
        "id": "FYTX6COq_oT0"
      },
      "outputs": [],
      "source": [
        "# To do so, we must first reduce the number of dimensions (you may use PCA or T-SNE)\n",
        "'''\n",
        "Your Code\n",
        "'''"
      ]
    },
    {
      "cell_type": "code",
      "execution_count": null,
      "metadata": {
        "id": "leJsU5UH_6zz"
      },
      "outputs": [],
      "source": [
        "# Then, we can plot them using Matplotlib.\n",
        "'''\n",
        "Your Code\n",
        "'''"
      ]
    },
    {
      "cell_type": "markdown",
      "metadata": {
        "id": "wyDGinK00HKP"
      },
      "source": [
        "### Solution"
      ]
    },
    {
      "cell_type": "code",
      "execution_count": null,
      "metadata": {
        "id": "tksVF1ySsZWX"
      },
      "outputs": [],
      "source": [
        "from sklearn.decomposition import PCA\n",
        "import matplotlib.pyplot as plt\n",
        "\n",
        "# Reduce dimensions\n",
        "pca = PCA(n_components=2, random_state=0)\n",
        "word_vectors_2d = pca.fit_transform(word_vectors)"
      ]
    },
    {
      "cell_type": "code",
      "execution_count": null,
      "metadata": {
        "colab": {
          "base_uri": "https://localhost:8080/",
          "height": 830
        },
        "id": "BEHB2zCi_9LO",
        "outputId": "e00940ea-b472-488b-c749-cce9bc89bc96"
      },
      "outputs": [
        {
          "data": {
            "image/png": "[encoded data removed]",
            "text/plain": [
              "<Figure size 1000x1000 with 1 Axes>"
            ]
          },
          "metadata": {},
          "output_type": "display_data"
        }
      ],
      "source": [
        "# Plot\n",
        "plt.figure(figsize=(10, 10))\n",
        "for i, word in enumerate(words):\n",
        "    plt.scatter(word_vectors_2d[i, 0], word_vectors_2d[i, 1])\n",
        "    plt.annotate(word, xy=(word_vectors_2d[i, 0], word_vectors_2d[i, 1]), xytext=(5, 2),\n",
        "                 textcoords='offset points', ha='right', va='bottom')\n",
        "plt.show()"
      ]
    },
    {
      "cell_type": "markdown",
      "metadata": {
        "id": "HMme-pHhEl0B"
      },
      "source": [
        "## (Extra) Sentiment Analysis\n",
        "\n",
        "### Objective\n",
        "\n",
        "The goal of this exercise is to introduce you to a basic form of sentiment analysis by leveraging word vectors. You will develop a Python script that analyzes the sentiment of text data by counting the number of terms classified as positive or negative based on their similarity to known positive and negative words.\n",
        "\n",
        "### Background\n",
        "\n",
        "Sentiment analysis is a common task in natural language processing (NLP) that involves determining the emotional tone behind a body of text. This is a basic form of sentiment analysis focusing on the occurrence of explicitly positive or negative terms, enhanced by the semantic understanding provided by word vectors.\n",
        "\n",
        "### Tasks\n",
        "\n",
        "1. Preparation:\n",
        "  - Choose a pre-trained word vector model from any library (e.g., Gensim with Word2Vec, GloVe, or FastText embeddings).\n",
        "  Define a small set of seed words for positive and negative sentiments (e.g., positive: [\"happy\", \"joyful\", \"excited\"], negative: [\"sad\", \"angry\", \"frustrated\"]).\n",
        "2. Sentiment Analysis Function:\n",
        "  - Write a Python function analyze_sentiment(text, model, positive_seeds, negative_seeds) that takes a string of text and the sets of seed words as input and returns the sentiment of the text as either \"Positive\", \"Negative\", or \"Neutral\".\n",
        "  - The function should tokenize the input text into words, extract nouns, and for each noun in the text, use the word vector model to find its closest match in the set of seed words (based on cosine similarity).\n",
        "  - Count how many times words in the text are most similar to the positive seed words versus the negative seed words.\n",
        "  - Determine the overall sentiment based on which type of seed words, positive or negative, has the most matches.\n",
        "3. Analysis:\n",
        "  - Test your function on at least three different sentences of varying sentiment (e.g., clearly positive, clearly negative, and neutral or mixed sentiment).\n",
        "  - Discuss the effectiveness of this method for sentiment analysis. Consider its limitations and potential improvements."
      ]
    },
    {
      "cell_type": "code",
      "execution_count": 31,
      "metadata": {
        "id": "qwiIN0t8Ku_f"
      },
      "outputs": [],
      "source": [
        "def sent_analysis_test():\n",
        "\n",
        "  positive_seeds = [] # TODO: choose your seeds\n",
        "  negative_seeds = [] # TODO: choose your seeds\n",
        "\n",
        "  # Test sentences\n",
        "  test_sentences = [\n",
        "      \"I am very happy and excited about the new opportunities.\",\n",
        "      \"I am sad and frustrated with the current situation.\",\n",
        "      \"It's the best day of my life.\",\n",
        "      \"The joyful parade made everyone incredibly happy.\",\n",
        "      \"The sad news left the community in a state of sorrow.\",\n",
        "      \"Today is just an ordinary day.\",\n",
        "      \"Great, another rainy day. Just what I needed to make my weekend perfect.\",\n",
        "      \"Oh wonderful, my favorite show got canceled. What a fantastic way to start the day!\"\n",
        "  ]\n",
        "\n",
        "  for sentence in test_sentences:\n",
        "      sentiment = analyze_sentiment(sentence, wv, positive_seeds, negative_seeds)\n",
        "      print(f\"Sentence: '{sentence}'\\nSentiment: {sentiment}\\n\")"
      ]
    },
    {
      "cell_type": "code",
      "execution_count": 8,
      "metadata": {
        "colab": {
          "base_uri": "https://localhost:8080/"
        },
        "id": "vcQjInTLEnVu",
        "outputId": "9ea8d086-7c8c-4cc7-db4f-3d734818223c"
      },
      "outputs": [
        {
          "name": "stderr",
          "output_type": "stream",
          "text": [
            "[nltk_data] Downloading package punkt to /root/nltk_data...\n",
            "[nltk_data]   Unzipping tokenizers/punkt.zip.\n"
          ]
        }
      ],
      "source": [
        "from nltk.tokenize import word_tokenize\n",
        "from nltk import pos_tag\n",
        "import numpy as np\n",
        "import nltk\n",
        "\n",
        "nltk.download('punkt')\n",
        "nltk.download('averaged_perceptron_tagger')\n",
        "\n",
        "def analyze_sentiment(text, model, positive_seeds, negative_seeds):\n",
        "    # Tokenize the input text\n",
        "    tokens = word_tokenize(text.lower())\n",
        "\n",
        "    # Tag tokens\n",
        "    tagged_tokens = pos_tag(tokens)\n",
        "\n",
        "    # Filter tokens to include only nouns (NN, NNP, NNS, NNPS)\n",
        "    '''\n",
        "    Your Code\n",
        "    '''\n",
        "\n",
        "    # Initialize counters\n",
        "    positive_count, negative_count = 0, 0\n",
        "\n",
        "    # Count positive and negative nouns\n",
        "    '''\n",
        "    Your Code\n",
        "    '''\n",
        "\n",
        "    # Determine overall sentiment\n",
        "    if positive_count > negative_count:\n",
        "        return \"Positive\"\n",
        "    elif positive_count < negative_count:\n",
        "        return \"Negative\"\n",
        "    else:\n",
        "        return \"Neutral\""
      ]
    },
    {
      "cell_type": "code",
      "execution_count": 22,
      "metadata": {
        "id": "d9BF0VEhH7cs"
      },
      "outputs": [],
      "source": [
        "# run to test your solution\n",
        "sent_analysis_test()"
      ]
    },
    {
      "cell_type": "markdown",
      "metadata": {
        "id": "kY5-txYSFoz9"
      },
      "source": [
        "## Solution"
      ]
    },
    {
      "cell_type": "code",
      "execution_count": null,
      "metadata": {
        "id": "MwhNgf-qNvmN"
      },
      "outputs": [],
      "source": [
        "def sent_analysis_test():\n",
        "\n",
        "  positive_seeds = [\"happy\", \"joyful\", \"excited\"]\n",
        "  negative_seeds = [\"sad\", \"angry\", \"frustrated\"]\n",
        "\n",
        "  # Test sentences\n",
        "  test_sentences = [\n",
        "      \"I am very happy and excited about the new opportunities.\",\n",
        "      \"I am sad and frustrated with the current situation.\",\n",
        "      \"It's the best day of my life.\",\n",
        "      \"The joyful parade made everyone incredibly happy.\",\n",
        "      \"The sad news left the community in a state of sorrow.\",\n",
        "      \"Today is just an ordinary day.\",\n",
        "      \"Great, another rainy day. Just what I needed to make my weekend perfect.\",\n",
        "      \"Oh wonderful, my favorite show got canceled. What a fantastic way to start the day!\"\n",
        "  ]\n",
        "\n",
        "  for sentence in test_sentences:\n",
        "      sentiment = analyze_sentiment(sentence, wv, positive_seeds, negative_seeds)\n",
        "      print(f\"Sentence: '{sentence}'\\nSentiment: {sentiment}\\n\")"
      ]
    },
    {
      "cell_type": "code",
      "execution_count": 29,
      "metadata": {
        "colab": {
          "base_uri": "https://localhost:8080/"
        },
        "id": "6IUB_-_KFqpg",
        "outputId": "ff4470d7-f6ce-4eae-9a65-406f30bdfb58"
      },
      "outputs": [
        {
          "name": "stderr",
          "output_type": "stream",
          "text": [
            "[nltk_data] Downloading package punkt to /root/nltk_data...\n",
            "[nltk_data]   Package punkt is already up-to-date!\n",
            "[nltk_data] Downloading package averaged_perceptron_tagger to\n",
            "[nltk_data]     /root/nltk_data...\n",
            "[nltk_data]   Package averaged_perceptron_tagger is already up-to-\n",
            "[nltk_data]       date!\n"
          ]
        }
      ],
      "source": [
        "from nltk.tokenize import word_tokenize\n",
        "from nltk import pos_tag\n",
        "import numpy as np\n",
        "import nltk\n",
        "\n",
        "nltk.download('punkt')\n",
        "nltk.download('averaged_perceptron_tagger')\n",
        "\n",
        "def analyze_sentiment(text, model, positive_seeds, negative_seeds):\n",
        "    # Tokenize the input text\n",
        "    tokens = word_tokenize(text.lower())\n",
        "\n",
        "    # Tag tokens\n",
        "    tagged_tokens = pos_tag(tokens)\n",
        "\n",
        "    # Filter tokens to include only nouns (NN, NNP, NNS, NNPS)\n",
        "    nouns = [word for word, tag in tagged_tokens if tag in ('NN', 'NNP', 'NNS', 'NNPS')]\n",
        "\n",
        "    # Initialize counters\n",
        "    positive_count, negative_count = 0, 0\n",
        "\n",
        "    # Count positive and negative nouns\n",
        "    for noun in nouns:\n",
        "        if noun in model.key_to_index:\n",
        "            # Compute similarities to seed words\n",
        "            positive_similarities = [model.similarity(noun, seed) for seed in positive_seeds]\n",
        "            negative_similarities = [model.similarity(noun, seed) for seed in negative_seeds]\n",
        "\n",
        "            # Sum the similarities for each sentiment\n",
        "            if max(positive_similarities) > max(negative_similarities):\n",
        "                positive_count += 1\n",
        "            elif max(positive_similarities) < max(negative_similarities):\n",
        "                negative_count += 1\n",
        "\n",
        "    # Determine overall sentiment\n",
        "    if positive_count > negative_count:\n",
        "        return \"Positive\"\n",
        "    elif positive_count < negative_count:\n",
        "        return \"Negative\"\n",
        "    else:\n",
        "        return \"Neutral\""
      ]
    },
    {
      "cell_type": "code",
      "execution_count": 32,
      "metadata": {
        "colab": {
          "base_uri": "https://localhost:8080/"
        },
        "id": "Z05Q07WIKJjl",
        "outputId": "21f9d19d-af99-4446-b490-2dd0fdfee270"
      },
      "outputs": [
        {
          "name": "stdout",
          "output_type": "stream",
          "text": [
            "Sentence: 'I am very happy and excited about the new opportunities.'\n",
            "Sentiment: Neutral\n",
            "\n",
            "Sentence: 'I am sad and frustrated with the current situation.'\n",
            "Sentiment: Negative\n",
            "\n",
            "Sentence: 'It's the best day of my life.'\n",
            "Sentiment: Positive\n",
            "\n",
            "Sentence: 'The joyful parade made everyone incredibly happy.'\n",
            "Sentiment: Positive\n",
            "\n",
            "Sentence: 'The sad news left the community in a state of sorrow.'\n",
            "Sentiment: Negative\n",
            "\n",
            "Sentence: 'Today is just an ordinary day.'\n",
            "Sentiment: Positive\n",
            "\n",
            "Sentence: 'Great, another rainy day. Just what I needed to make my weekend perfect.'\n",
            "Sentiment: Positive\n",
            "\n",
            "Sentence: 'Oh wonderful, my favorite show got canceled. What a fantastic way to start the day!'\n",
            "Sentiment: Positive\n",
            "\n"
          ]
        }
      ],
      "source": [
        "sent_analysis_test() # Notice any problems?"
      ]
    }
  ],
  "metadata": {
    "celltoolbar": "Slideshow",
    "colab": {
      "collapsed_sections": [
        "g5PxAuygzwvo",
        "wfAXsC9ez-sX",
        "wyDGinK00HKP",
        "kY5-txYSFoz9"
      ],
      "provenance": []
    },
    "kernelspec": {
      "display_name": "Python 3 (ipykernel)",
      "language": "python",
      "name": "python3"
    },
    "language_info": {
      "codemirror_mode": {
        "name": "ipython",
        "version": 3
      },
      "file_extension": ".py",
      "mimetype": "text/x-python",
      "name": "python",
      "nbconvert_exporter": "python",
      "pygments_lexer": "ipython3",
      "version": "3.8.13"
    },
    "latex_envs": {
      "LaTeX_envs_menu_present": true,
      "autoclose": false,
      "autocomplete": false,
      "bibliofile": "biblio.bib",
      "cite_by": "key",
      "current_citInitial": 1,
      "eqLabelWithNumbers": true,
      "eqNumInitial": 1,
      "hotkeys": {
        "equation": "Ctrl-E",
        "itemize": "Ctrl-I"
      },
      "labels_anchors": false,
      "latex_user_defs": false,
      "report_style_numbering": false,
      "user_envs_cfg": false
    },
    "notify_time": "5",
    "rise": {
      "autolaunch": true,
      "overlay": "<div class='myheader'>Natural Language Processing<img src='../sapienza_logo.png'/></div>",
      "transition": "linear"
    },
    "toc": {
      "base_numbering": 1,
      "nav_menu": {},
      "number_sections": true,
      "sideBar": true,
      "skip_h1_title": false,
      "title_cell": "Table of Contents",
      "title_sidebar": "Summary",
      "toc_cell": false,
      "toc_position": {
        "height": "47px",
        "left": "1143px",
        "top": "173px",
        "width": "210.344px"
      },
      "toc_section_display": false,
      "toc_window_display": false
    },
    "varInspector": {
      "cols": {
        "lenName": 16,
        "lenType": 16,
        "lenVar": 40
      },
      "kernels_config": {
        "python": {
          "delete_cmd_postfix": "",
          "delete_cmd_prefix": "del ",
          "library": "var_list.py",
          "varRefreshCmd": "print(var_dic_list())"
        },
        "r": {
          "delete_cmd_postfix": ") ",
          "delete_cmd_prefix": "rm(",
          "library": "var_list.r",
          "varRefreshCmd": "cat(var_dic_list()) "
        }
      },
      "types_to_exclude": [
        "module",
        "function",
        "builtin_function_or_method",
        "instance",
        "_Feature"
      ],
      "window_display": false
    }
  },
  "nbformat": 4,
  "nbformat_minor": 0
}
