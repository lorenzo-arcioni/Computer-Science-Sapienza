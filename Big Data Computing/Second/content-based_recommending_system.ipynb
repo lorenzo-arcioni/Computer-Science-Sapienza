{
 "cells": [
  {
   "cell_type": "markdown",
   "metadata": {},
   "source": [
    "# Just a try"
   ]
  },
  {
   "cell_type": "code",
   "execution_count": 7,
   "metadata": {},
   "outputs": [
    {
     "name": "stdout",
     "output_type": "stream",
     "text": [
      "       Movie_ID  Year               Name                 Content\n",
      "12122     12123  2004           S.I.C.K.           S.I.C.K. 2004\n",
      "2989       2990  2004         Go Further         Go Further 2004\n",
      "9409       9410  2004               P.S.               P.S. 2004\n",
      "5964       5965  2004  They Are Among Us  They Are Among Us 2004\n",
      "365         366  2004              Still              Still 2004\n"
     ]
    }
   ],
   "source": [
    "import pandas as pd\n",
    "import numpy as np\n",
    "from sklearn.feature_extraction.text import TfidfVectorizer\n",
    "from sklearn.metrics.pairwise import cosine_similarity\n",
    "from scipy.sparse import diags\n",
    "\n",
    "# Caricamento dei dati\n",
    "movies  = pd.read_csv('./data/Netflix_Dataset_Movie.csv')\n",
    "ratings = pd.read_csv('./data/Netflix_Dataset_Rating.csv')\n",
    "\n",
    "# Merge dei dataset\n",
    "merged_data = ratings.merge(movies, on='Movie_ID')\n",
    "\n",
    "# Pre-elaborazione dei titoli dei film (unione di anno e titolo per arricchire il contenuto)\n",
    "movies['Content'] = movies['Name'] + ' ' + movies['Year'].astype(str)\n",
    "\n",
    "# Trasformazione TF-IDF sui contenuti dei film\n",
    "tfidf = TfidfVectorizer(stop_words='english')\n",
    "tfidf_matrix = tfidf.fit_transform(movies['Content'])\n",
    "\n",
    "def create_user_profile(user_id):\n",
    "    # Filtra i film valutati dall'utente\n",
    "    user_ratings = ratings[ratings['User_ID'] == user_id]\n",
    "    if user_ratings.empty:\n",
    "        raise ValueError(f\"No ratings found for user ID {user_id}.\")\n",
    "\n",
    "    user_movies = movies[movies['Movie_ID'].isin(user_ratings['Movie_ID'])]\n",
    "\n",
    "    # Merge per ottenere gli indici corrispondenti\n",
    "    user_movies = user_movies.merge(user_ratings, on='Movie_ID')\n",
    "    if user_movies.empty:\n",
    "        raise ValueError(f\"No matching movies found for user ID {user_id}.\")\n",
    "\n",
    "    # Costruzione della matrice diagonale dei rating\n",
    "    rating_weights = diags(user_movies['Rating'].values)\n",
    "\n",
    "    # Element-wise multiplication\n",
    "    weighted_tfidf = rating_weights.dot(tfidf_matrix[user_movies.index])\n",
    "\n",
    "    if weighted_tfidf.shape[0] == 0:\n",
    "        raise ValueError(f\"TF-IDF matrix has no valid rows for user ID {user_id}.\")\n",
    "\n",
    "    # Media ponderata\n",
    "    user_profile = np.asarray(weighted_tfidf.mean(axis=0)).flatten()  # Convert to 1D numpy array\n",
    "    return user_profile\n",
    "\n",
    "# Funzione per fare raccomandazioni\n",
    "def recommend_movies(user_id, num_recommendations=5):\n",
    "    # Create the user profile\n",
    "    user_profile = create_user_profile(user_id)\n",
    "\n",
    "    # Reshape user_profile to be a 2D array\n",
    "    user_profile = user_profile.reshape(1, -1)\n",
    "\n",
    "    # Calculate cosine similarity\n",
    "    similarity_scores = cosine_similarity(user_profile, tfidf_matrix)\n",
    "\n",
    "    # Sort movies by similarity scores\n",
    "    movie_indices = similarity_scores.argsort()[0][::-1]\n",
    "    \n",
    "    # Return top N recommended movies\n",
    "    recommended_movies = movies.iloc[movie_indices[:num_recommendations]]\n",
    "    return recommended_movies\n",
    "\n",
    "# Esempio di utilizzo\n",
    "user_id = 712664\n",
    "recommendations = recommend_movies(user_id, num_recommendations=5)\n",
    "print(recommendations)"
   ]
  },
  {
   "cell_type": "code",
   "execution_count": 14,
   "metadata": {},
   "outputs": [
    {
     "data": {
      "text/plain": [
       "Year\n",
       "1925     1\n",
       "1929     1\n",
       "1930     1\n",
       "1931     1\n",
       "1934     1\n",
       "1939     1\n",
       "1940     1\n",
       "1941     1\n",
       "1947     1\n",
       "1949     1\n",
       "1952     1\n",
       "1954     1\n",
       "1955     2\n",
       "1956     1\n",
       "1957     1\n",
       "1959     2\n",
       "1960     2\n",
       "1961     2\n",
       "1962     1\n",
       "1963     1\n",
       "1964     3\n",
       "1966     1\n",
       "1968     5\n",
       "1969     1\n",
       "1970     1\n",
       "1972     4\n",
       "1973     4\n",
       "1974     2\n",
       "1975     3\n",
       "1976     4\n",
       "1978     3\n",
       "1979     4\n",
       "1980     3\n",
       "1981     8\n",
       "1982     5\n",
       "1983     7\n",
       "1984    12\n",
       "1985     6\n",
       "1986     6\n",
       "1987     8\n",
       "1988    10\n",
       "1989     4\n",
       "1990     8\n",
       "1991    11\n",
       "1992    11\n",
       "1993     9\n",
       "1994    13\n",
       "1995    16\n",
       "1996    11\n",
       "1997    11\n",
       "1998    29\n",
       "1999    23\n",
       "2000    19\n",
       "2001    15\n",
       "2002    25\n",
       "2003    20\n",
       "2004    17\n",
       "Name: Rating, dtype: int64"
      ]
     },
     "execution_count": 14,
     "metadata": {},
     "output_type": "execute_result"
    }
   ],
   "source": [
    "merged_data[merged_data['User_ID'] == user_id].groupby('Year')['Rating'].count()"
   ]
  },
  {
   "cell_type": "code",
   "execution_count": null,
   "metadata": {},
   "outputs": [],
   "source": []
  }
 ],
 "metadata": {
  "kernelspec": {
   "display_name": "datas",
   "language": "python",
   "name": "python3"
  },
  "language_info": {
   "codemirror_mode": {
    "name": "ipython",
    "version": 3
   },
   "file_extension": ".py",
   "mimetype": "text/x-python",
   "name": "python",
   "nbconvert_exporter": "python",
   "pygments_lexer": "ipython3",
   "version": "3.10.13"
  }
 },
 "nbformat": 4,
 "nbformat_minor": 2
}
