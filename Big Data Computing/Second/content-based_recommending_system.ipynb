{
 "cells": [
  {
   "cell_type": "code",
   "execution_count": 12,
   "metadata": {},
   "outputs": [
    {
     "name": "stdout",
     "output_type": "stream",
     "text": [
      "Ratings Dataset:\n",
      "    User_ID  Rating  Movie_ID\n",
      "0         1       0         1\n",
      "1         1       0         2\n",
      "2         1       2         3\n",
      "3         1       0         4\n",
      "4         2       1         1\n",
      "5         2       0         2\n",
      "6         2       0         3\n",
      "7         2       1         4\n",
      "8         3       1         1\n",
      "9         3       5         2\n",
      "10        3       4         3\n",
      "11        3       0         4\n",
      "12        4       0         1\n",
      "13        4       0         2\n",
      "14        4       3         3\n",
      "15        4       0         4\n",
      "16        5       0         1\n",
      "17        5       4         2\n",
      "18        5       5         3\n",
      "19        5       0         4\n",
      "\n",
      "Movies Dataset:\n",
      "   Movie_ID  Year                 Name\n",
      "0         1  1999  Journey to the Moon\n",
      "1         2  2001  The Grand Adventure\n",
      "2         3  1998  Mystery of the East\n",
      "3         4  2000     The Time Machine\n"
     ]
    }
   ],
   "source": [
    "import pandas as pd\n",
    "import numpy as np\n",
    "\n",
    "# Primo dataset: Ratings\n",
    "users = [1, 2, 3, 4, 5]\n",
    "movies = [1, 2, 3, 4]\n",
    "ratings_data = {\n",
    "    \"User_ID\": [],\n",
    "    \"Rating\": [],\n",
    "    \"Movie_ID\": []\n",
    "}\n",
    "\n",
    "for user in users:\n",
    "    for movie in movies:\n",
    "        ratings_data[\"User_ID\"].append(user)\n",
    "        ratings_data[\"Movie_ID\"].append(movie)\n",
    "        # Genera valutazioni con circa il 50% di probabilità di essere 0\n",
    "        rating = np.random.choice([0, np.random.randint(1, 6)], p=[0.5, 0.5])\n",
    "        ratings_data[\"Rating\"].append(rating)\n",
    "\n",
    "ratings_df = pd.DataFrame(ratings_data)\n",
    "\n",
    "# Secondo dataset: Movies\n",
    "movies_data = {\n",
    "    \"Movie_ID\": movies,\n",
    "    \"Year\": [1999, 2001, 1998, 2000],\n",
    "    \"Name\": [\n",
    "        \"Journey to the Moon\",\n",
    "        \"The Grand Adventure\",\n",
    "        \"Mystery of the East\",\n",
    "        \"The Time Machine\",\n",
    "    ]\n",
    "}\n",
    "\n",
    "movies_df = pd.DataFrame(movies_data)\n",
    "\n",
    "# Salva i dataset su file CSV\n",
    "ratings_df.to_csv(\"./data/ratings_small.csv\", index=False)\n",
    "movies_df.to_csv(\"./data/movies_small.csv\", index=False)\n",
    "\n",
    "# Stampa i dataset generati\n",
    "print(\"Ratings Dataset:\")\n",
    "print(ratings_df)\n",
    "print(\"\\nMovies Dataset:\")\n",
    "print(movies_df)"
   ]
  },
  {
   "cell_type": "code",
   "execution_count": null,
   "metadata": {},
   "outputs": [],
   "source": []
  }
 ],
 "metadata": {
  "kernelspec": {
   "display_name": "datas",
   "language": "python",
   "name": "python3"
  },
  "language_info": {
   "codemirror_mode": {
    "name": "ipython",
    "version": 3
   },
   "file_extension": ".py",
   "mimetype": "text/x-python",
   "name": "python",
   "nbconvert_exporter": "python",
   "pygments_lexer": "ipython3",
   "version": "3.10.13"
  }
 },
 "nbformat": 4,
 "nbformat_minor": 2
}
