{
 "cells": [
  {
   "cell_type": "markdown",
   "metadata": {},
   "source": [
    "# Acquisizione, Pulizia e Verifica dei Dati\n",
    "\n",
    "## Introduzione\n",
    "In questa sezione, esploreremo come acquisire, pulire e verificare i dati finanziari utilizzando Python. Questi passaggi sono fondamentali per garantire che i dati siano pronti per l'analisi e lo sviluppo di strategie di trading algoritmico."
   ]
  },
  {
   "cell_type": "code",
   "execution_count": 1,
   "metadata": {},
   "outputs": [],
   "source": [
    "# Importazione delle librerie necessarie\n",
    "import yfinance as yf\n",
    "import pandas_datareader.data as web\n",
    "import datetime\n",
    "import matplotlib.pyplot as plt"
   ]
  },
  {
   "cell_type": "markdown",
   "metadata": {},
   "source": [
    "## 1. Acquisizione dei Dati\n",
    "\n",
    "### 1.1. Utilizzo di `yfinance`\n",
    "\n",
    "`yfinance` è una libreria che permette di scaricare dati di mercato da Yahoo Finance. Supporta dati storici e in tempo reale per azioni, indici, valute e criptovalute. I dati disponibili includono:\n",
    "\n",
    "- **Dati di prezzo**: Open, High, Low, Close (OHLC), Volume, Adjusted Close.\n",
    "- **Dati fondamentali**: Informazioni aziendali, bilanci, utili per azione (EPS), dividendi, etc.\n",
    "- **Dati di mercato**: Capitalizzazione di mercato, settore, beta, etc.\n",
    "\n",
    "Ecco un esempio di acquisizione dei dati storici di Apple (AAPL)."
   ]
  },
  {
   "cell_type": "code",
   "execution_count": 2,
   "metadata": {},
   "outputs": [
    {
     "name": "stdout",
     "output_type": "stream",
     "text": [
      "YF.download() has changed argument auto_adjust default to True\n"
     ]
    },
    {
     "name": "stderr",
     "output_type": "stream",
     "text": [
      "[*********************100%***********************]  1 of 1 completed\n"
     ]
    },
    {
     "data": {
      "text/html": [
       "<div>\n",
       "<style scoped>\n",
       "    .dataframe tbody tr th:only-of-type {\n",
       "        vertical-align: middle;\n",
       "    }\n",
       "\n",
       "    .dataframe tbody tr th {\n",
       "        vertical-align: top;\n",
       "    }\n",
       "\n",
       "    .dataframe thead tr th {\n",
       "        text-align: left;\n",
       "    }\n",
       "\n",
       "    .dataframe thead tr:last-of-type th {\n",
       "        text-align: right;\n",
       "    }\n",
       "</style>\n",
       "<table border=\"1\" class=\"dataframe\">\n",
       "  <thead>\n",
       "    <tr>\n",
       "      <th>Price</th>\n",
       "      <th>Close</th>\n",
       "      <th>High</th>\n",
       "      <th>Low</th>\n",
       "      <th>Open</th>\n",
       "      <th>Volume</th>\n",
       "    </tr>\n",
       "    <tr>\n",
       "      <th>Ticker</th>\n",
       "      <th>AAPL</th>\n",
       "      <th>AAPL</th>\n",
       "      <th>AAPL</th>\n",
       "      <th>AAPL</th>\n",
       "      <th>AAPL</th>\n",
       "    </tr>\n",
       "    <tr>\n",
       "      <th>Date</th>\n",
       "      <th></th>\n",
       "      <th></th>\n",
       "      <th></th>\n",
       "      <th></th>\n",
       "      <th></th>\n",
       "    </tr>\n",
       "  </thead>\n",
       "  <tbody>\n",
       "    <tr>\n",
       "      <th>2022-01-03</th>\n",
       "      <td>178.879913</td>\n",
       "      <td>179.734962</td>\n",
       "      <td>174.653874</td>\n",
       "      <td>174.771805</td>\n",
       "      <td>104487900</td>\n",
       "    </tr>\n",
       "    <tr>\n",
       "      <th>2022-01-04</th>\n",
       "      <td>176.609650</td>\n",
       "      <td>179.793936</td>\n",
       "      <td>176.039622</td>\n",
       "      <td>179.489269</td>\n",
       "      <td>99310400</td>\n",
       "    </tr>\n",
       "    <tr>\n",
       "      <th>2022-01-05</th>\n",
       "      <td>171.911865</td>\n",
       "      <td>177.071580</td>\n",
       "      <td>171.636682</td>\n",
       "      <td>176.521213</td>\n",
       "      <td>94537600</td>\n",
       "    </tr>\n",
       "    <tr>\n",
       "      <th>2022-01-06</th>\n",
       "      <td>169.042038</td>\n",
       "      <td>172.285289</td>\n",
       "      <td>168.688228</td>\n",
       "      <td>169.729997</td>\n",
       "      <td>96904000</td>\n",
       "    </tr>\n",
       "    <tr>\n",
       "      <th>2022-01-07</th>\n",
       "      <td>169.209152</td>\n",
       "      <td>171.145275</td>\n",
       "      <td>168.088758</td>\n",
       "      <td>169.916771</td>\n",
       "      <td>86709100</td>\n",
       "    </tr>\n",
       "  </tbody>\n",
       "</table>\n",
       "</div>"
      ],
      "text/plain": [
       "Price            Close        High         Low        Open     Volume\n",
       "Ticker            AAPL        AAPL        AAPL        AAPL       AAPL\n",
       "Date                                                                 \n",
       "2022-01-03  178.879913  179.734962  174.653874  174.771805  104487900\n",
       "2022-01-04  176.609650  179.793936  176.039622  179.489269   99310400\n",
       "2022-01-05  171.911865  177.071580  171.636682  176.521213   94537600\n",
       "2022-01-06  169.042038  172.285289  168.688228  169.729997   96904000\n",
       "2022-01-07  169.209152  171.145275  168.088758  169.916771   86709100"
      ]
     },
     "execution_count": 2,
     "metadata": {},
     "output_type": "execute_result"
    }
   ],
   "source": [
    "# Scarichiamo i dati storici di Apple (AAPL) per l'anno 2022\n",
    "ticker = \"AAPL\"\n",
    "data = yf.download(ticker, start=\"2022-01-01\", end=\"2023-01-01\")\n",
    "\n",
    "# Visualizziamo le prime 5 righe dei dati\n",
    "data.head()"
   ]
  },
  {
   "cell_type": "markdown",
   "metadata": {},
   "source": [
    "### 1.2. Tipi di Dati Acquisibili con `yfinance.Ticker`\n",
    "\n",
    "Oltre ai dati storici, `yfinance.Ticker` permette di accedere a informazioni dettagliate su un asset specifico. Ecco alcuni esempi:"
   ]
  },
  {
   "cell_type": "code",
   "execution_count": 3,
   "metadata": {},
   "outputs": [
    {
     "name": "stdout",
     "output_type": "stream",
     "text": [
      "Nome dell'azienda: Apple Inc.\n",
      "Settore: Technology\n",
      "Capitalizzazione di mercato: 3207068385280\n",
      "Utili per azione (EPS): 6.29\n",
      "Dividendi: Date\n",
      "1987-05-11 00:00:00-04:00    0.000536\n",
      "1987-08-10 00:00:00-04:00    0.000536\n",
      "1987-11-17 00:00:00-05:00    0.000714\n",
      "1988-02-12 00:00:00-05:00    0.000714\n",
      "1988-05-16 00:00:00-04:00    0.000714\n",
      "                               ...   \n",
      "2024-02-09 00:00:00-05:00    0.240000\n",
      "2024-05-10 00:00:00-04:00    0.250000\n",
      "2024-08-12 00:00:00-04:00    0.250000\n",
      "2024-11-08 00:00:00-05:00    0.250000\n",
      "2025-02-10 00:00:00-05:00    0.250000\n",
      "Name: Dividends, Length: 86, dtype: float64\n"
     ]
    }
   ],
   "source": [
    "# Creazione di un oggetto Ticker per Apple (AAPL)\n",
    "ticker_info = yf.Ticker(ticker)\n",
    "\n",
    "# Esempi di dati disponibili\n",
    "print(\"Nome dell'azienda:\", ticker_info.info['longName'])\n",
    "print(\"Settore:\", ticker_info.info['sector'])\n",
    "print(\"Capitalizzazione di mercato:\", ticker_info.info['marketCap'])\n",
    "print(\"Utili per azione (EPS):\", ticker_info.info['trailingEps'])\n",
    "print(\"Dividendi:\", ticker_info.dividends)"
   ]
  },
  {
   "cell_type": "markdown",
   "metadata": {},
   "source": [
    "### 1.3. Utilizzo di `pandas_datareader`\n",
    "\n",
    "`pandas_datareader` è un'altra libreria utile per acquisire dati finanziari da fonti pubbliche come Yahoo Finance, FRED (Federal Reserve Economic Data) e la Banca Mondiale. Ecco un esempio di acquisizione di dati macroeconomici."
   ]
  },
  {
   "cell_type": "code",
   "execution_count": 4,
   "metadata": {},
   "outputs": [
    {
     "name": "stdout",
     "output_type": "stream",
     "text": [
      "                  GDP\n",
      "DATE                 \n",
      "2022-01-01  25215.491\n",
      "2022-04-01  25805.791\n",
      "2022-07-01  26272.011\n",
      "2022-10-01  26734.277\n",
      "2023-01-01  27164.359\n"
     ]
    }
   ],
   "source": [
    "# Esempio di acquisizione del PIL degli Stati Uniti da FRED\n",
    "start_date = datetime.datetime(2022, 1, 1)\n",
    "end_date = datetime.datetime(2023, 1, 1)\n",
    "gdp_data = web.DataReader('GDP', 'fred', start_date, end_date)\n",
    "\n",
    "print(gdp_data.head())"
   ]
  },
  {
   "cell_type": "markdown",
   "metadata": {},
   "source": [
    "## 2. Pulizia dei Dati\n",
    "\n",
    "### 2.1. Verifica dei Valori Mancanti\n",
    "\n",
    "Prima di procedere, verifichiamo la presenza di valori mancanti nei dati."
   ]
  },
  {
   "cell_type": "code",
   "execution_count": 5,
   "metadata": {},
   "outputs": [
    {
     "name": "stdout",
     "output_type": "stream",
     "text": [
      "Numero di valori mancanti per colonna:\n",
      "Price   Ticker\n",
      "Close   AAPL      0\n",
      "High    AAPL      0\n",
      "Low     AAPL      0\n",
      "Open    AAPL      0\n",
      "Volume  AAPL      0\n",
      "dtype: int64\n"
     ]
    }
   ],
   "source": [
    "# Verifica dei valori mancanti\n",
    "print(\"Numero di valori mancanti per colonna:\")\n",
    "print(data.isnull().sum())\n",
    "\n",
    "# Imputazione dei valori mancanti con la media (solo per colonne numeriche)\n",
    "data_filled = data.fillna(data.mean())"
   ]
  },
  {
   "cell_type": "markdown",
   "metadata": {},
   "source": [
    "### 2.2. Verifica dei Duplicati\n",
    "\n",
    "Controlliamo la presenza di duplicati nei dati."
   ]
  },
  {
   "cell_type": "code",
   "execution_count": 6,
   "metadata": {},
   "outputs": [
    {
     "name": "stdout",
     "output_type": "stream",
     "text": [
      "Numero di duplicati: 0\n"
     ]
    }
   ],
   "source": [
    "# Verifica dei duplicati\n",
    "print(\"Numero di duplicati:\", data_filled.duplicated().sum())\n",
    "\n",
    "# Rimozione dei duplicati (se presenti)\n",
    "data_filled = data_filled.drop_duplicates()"
   ]
  },
  {
   "cell_type": "markdown",
   "metadata": {},
   "source": [
    "### 2.3. Gestione dei Dati Temporali\n",
    "\n",
    "Assicuriamoci che i dati temporali siano correttamente formattati."
   ]
  },
  {
   "cell_type": "code",
   "execution_count": 7,
   "metadata": {},
   "outputs": [
    {
     "name": "stdout",
     "output_type": "stream",
     "text": [
      "Ultima data disponibile: 2022-12-30 00:00:00\n"
     ]
    }
   ],
   "source": [
    "# Aggiunta di una colonna con il timestamp\n",
    "data_filled['Date'] = data_filled.index\n",
    "\n",
    "# Verifica dell'ultima data disponibile\n",
    "print(\"Ultima data disponibile:\", data_filled['Date'].max())"
   ]
  },
  {
   "cell_type": "markdown",
   "metadata": {},
   "source": [
    "## 3. Verifica della Qualità dei Dati\n",
    "\n",
    "### 3.1. Analisi delle Distribuzioni Statistiche\n",
    "\n",
    "Verifichiamo le distribuzioni dei dati per individuare eventuali anomalie."
   ]
  },
  {
   "cell_type": "code",
   "execution_count": 8,
   "metadata": {},
   "outputs": [
    {
     "name": "stdout",
     "output_type": "stream",
     "text": [
      "Price        Close        High         Low        Open        Volume  \\\n",
      "Ticker        AAPL        AAPL        AAPL        AAPL          AAPL   \n",
      "count   251.000000  251.000000  251.000000  251.000000  2.510000e+02   \n",
      "mean    152.607555  154.650546  150.494616  152.575786  8.791038e+07   \n",
      "min     124.591370  128.456450  124.423325  126.518963  3.519590e+07   \n",
      "25%     142.799400  144.964505  140.376146  142.454336  7.229740e+07   \n",
      "50%     151.855804  153.570582  149.736973  151.776959  8.373720e+07   \n",
      "75%     163.372063  165.754616  161.384465  163.704368  9.693705e+07   \n",
      "max     178.879913  179.793936  176.039622  179.489269  1.826020e+08   \n",
      "std      12.697923   12.575341   12.753980   12.705787  2.365699e+07   \n",
      "\n",
      "Price                            Date  \n",
      "Ticker                                 \n",
      "count                             251  \n",
      "mean    2022-07-02 15:23:39.920318720  \n",
      "min               2022-01-03 00:00:00  \n",
      "25%               2022-04-02 12:00:00  \n",
      "50%               2022-07-05 00:00:00  \n",
      "75%               2022-10-01 12:00:00  \n",
      "max               2022-12-30 00:00:00  \n",
      "std                               NaN  \n"
     ]
    },
    {
     "data": {
      "image/png": "[encoded data removed]",
      "text/plain": [
       "<Figure size 1000x600 with 1 Axes>"
      ]
     },
     "metadata": {},
     "output_type": "display_data"
    }
   ],
   "source": [
    "# Statistiche descrittive dei dati\n",
    "print(data_filled.describe())\n",
    "\n",
    "# Visualizzazione della distribuzione dei prezzi di chiusura\n",
    "plt.figure(figsize=(10, 6))\n",
    "plt.hist(data_filled['Close'], bins=30, edgecolor='black')\n",
    "plt.title('Distribuzione dei Prezzi di Chiusura di AAPL')\n",
    "plt.xlabel('Prezzo di Chiusura')\n",
    "plt.ylabel('Frequenza')\n",
    "plt.show()"
   ]
  },
  {
   "cell_type": "markdown",
   "metadata": {},
   "source": [
    "### 3.2. Identificazione degli Outlier\n",
    "\n",
    "Utilizziamo il metodo dell'intervallo interquartile (IQR) per identificare eventuali outlier."
   ]
  },
  {
   "cell_type": "code",
   "execution_count": 9,
   "metadata": {},
   "outputs": [
    {
     "name": "stdout",
     "output_type": "stream",
     "text": [
      "Outlier nei prezzi di chiusura:\n",
      "Empty DataFrame\n",
      "Columns: [(Close, AAPL), (High, AAPL), (Low, AAPL), (Open, AAPL), (Volume, AAPL), (Date, )]\n",
      "Index: []\n"
     ]
    }
   ],
   "source": [
    "# Calcolo dell'IQR per i prezzi di chiusura\n",
    "Q1 = data_filled['Close'].quantile(0.25)\n",
    "Q3 = data_filled['Close'].quantile(0.75)\n",
    "IQR = Q3 - Q1\n",
    "\n",
    "# Identificazione degli outlier\n",
    "outliers = data_filled[(data_filled['Close'] < (Q1 - 1.5 * IQR)) | (data_filled['Close'] > (Q3 + 1.5 * IQR))]\n",
    "print(\"Outlier nei prezzi di chiusura:\")\n",
    "print(outliers.dropna())"
   ]
  },
  {
   "cell_type": "markdown",
   "metadata": {},
   "source": [
    "### 3.3. Verifica della Consistenza Temporale\n",
    "\n",
    "Verifichiamo che i dati siano allineati temporalmente e non presentino lacune."
   ]
  },
  {
   "cell_type": "code",
   "execution_count": 10,
   "metadata": {},
   "outputs": [
    {
     "name": "stdout",
     "output_type": "stream",
     "text": [
      "Date\n",
      "1 days    198\n",
      "3 days     43\n",
      "4 days      8\n",
      "2 days      1\n",
      "Name: count, dtype: int64\n"
     ]
    }
   ],
   "source": [
    "# Calcolo della differenza temporale tra osservazioni e\n",
    "# Visualizzazione delle differenze temporali\n",
    "print(data_filled['Date'].diff().value_counts())"
   ]
  },
  {
   "cell_type": "code",
   "execution_count": 11,
   "metadata": {},
   "outputs": [],
   "source": [
    "# Rimozione della colonna 'Ticker' (sono tutte le stesse)\n",
    "data_filled.columns = data_filled.columns.droplevel(1)\n",
    "\n",
    "# Salvataggio dei dati puliti in un file CSV\n",
    "data_filled.to_csv('./datasets/cleaned_data.csv', index=False)"
   ]
  },
  {
   "cell_type": "markdown",
   "metadata": {},
   "source": [
    "## Conclusione\n",
    "\n",
    "In questo notebook, abbiamo acquisito dati finanziari utilizzando `yfinance` e `pandas_datareader`, descritto i tipi di dati disponibili e eseguito operazioni di pulizia e verifica. I dati sono ora pronti per essere utilizzati in analisi successive."
   ]
  }
 ],
 "metadata": {
  "kernelspec": {
   "display_name": "datas",
   "language": "python",
   "name": "python3"
  },
  "language_info": {
   "codemirror_mode": {
    "name": "ipython",
    "version": 3
   },
   "file_extension": ".py",
   "mimetype": "text/x-python",
   "name": "python",
   "nbconvert_exporter": "python",
   "pygments_lexer": "ipython3",
   "version": "3.10.13"
  }
 },
 "nbformat": 4,
 "nbformat_minor": 2
}
